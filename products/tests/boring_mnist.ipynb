{
 "cells": [
  {
   "cell_type": "code",
   "execution_count": 1,
   "metadata": {
    "execution": {
     "iopub.execute_input": "2020-12-18T19:27:55.378807Z",
     "iopub.status.busy": "2020-12-18T19:27:55.378384Z",
     "iopub.status.idle": "2020-12-18T19:27:57.293638Z",
     "shell.execute_reply": "2020-12-18T19:27:57.293924Z"
    },
    "papermill": {
     "duration": 1.981001,
     "end_time": "2020-12-18T19:27:57.294117",
     "exception": false,
     "start_time": "2020-12-18T19:27:55.313116",
     "status": "completed"
    },
    "tags": []
   },
   "outputs": [
    {
     "name": "stderr",
     "output_type": "stream",
     "text": [
      "/home/peter/.conda/envs/pth2/lib/python3.8/site-packages/wandb/util.py:37: DeprecationWarning: Using or importing the ABCs from 'collections' instead of from 'collections.abc' is deprecated since Python 3.3, and in 3.9 it will stop working\n",
      "  from collections import namedtuple, Mapping, Sequence\n",
      "/home/peter/.conda/envs/pth2/lib/python3.8/site-packages/wandb/vendor/graphql-core-1.1/graphql/type/directives.py:55: DeprecationWarning: Using or importing the ABCs from 'collections' instead of from 'collections.abc' is deprecated since Python 3.3, and in 3.9 it will stop working\n",
      "  assert isinstance(locations, collections.Iterable), 'Must provide locations for directive.'\n"
     ]
    },
    {
     "name": "stderr",
     "output_type": "stream",
     "text": [
      "/home/peter/.conda/envs/pth2/lib/python3.8/site-packages/torch/cuda/__init__.py:52: UserWarning: CUDA initialization: Found no NVIDIA driver on your system. Please check that you have an NVIDIA GPU and installed a driver from http://www.nvidia.com/Download/index.aspx (Triggered internally at  /opt/conda/conda-bld/pytorch_1603729062494/work/c10/cuda/CUDAFunctions.cpp:100.)\n",
      "  return torch._C._cuda_getDeviceCount() > 0\n"
     ]
    }
   ],
   "source": [
    "import warnings\n",
    "from pathlib import Path\n",
    "\n",
    "import matplotlib.patches as patches\n",
    "\n",
    "#\n",
    "import numpy as np\n",
    "import pytorch_hyperlight as pth\n",
    "\n",
    "#\n",
    "###\n",
    "import pytorch_lightning as pl\n",
    "import pytorch_lightning.metrics as metrics\n",
    "import torch\n",
    "import torch.nn.functional as F\n",
    "\n",
    "#\n",
    "from matplotlib import pyplot as plt\n",
    "from matplotlib.font_manager import FontProperties\n",
    "from pytorch_lightning import Callback\n",
    "\n",
    "###\n",
    "from ray import tune\n",
    "\n",
    "#\n",
    "from torch import nn\n",
    "from torch.utils.data import DataLoader, random_split\n",
    "from torchvision import transforms\n",
    "from torchvision.datasets.mnist import MNIST\n",
    "from transformers import AdamW, get_linear_schedule_with_warmup"
   ]
  },
  {
   "cell_type": "code",
   "execution_count": 2,
   "metadata": {
    "execution": {
     "iopub.execute_input": "2020-12-18T19:27:57.336396Z",
     "iopub.status.busy": "2020-12-18T19:27:57.336003Z",
     "iopub.status.idle": "2020-12-18T19:27:57.337994Z",
     "shell.execute_reply": "2020-12-18T19:27:57.337694Z"
    },
    "papermill": {
     "duration": 0.022979,
     "end_time": "2020-12-18T19:27:57.338070",
     "exception": false,
     "start_time": "2020-12-18T19:27:57.315091",
     "status": "completed"
    },
    "tags": [
     "parameters"
    ]
   },
   "outputs": [
    {
     "name": "stderr",
     "output_type": "stream",
     "text": [
      "/home/peter/.conda/envs/pth2/lib/python3.8/site-packages/ipykernel/ipkernel.py:283: DeprecationWarning: `should_run_async` will not call `transform_cell` automatically in the future. Please pass the result to `transformed_cell` argument and any exception that happen during thetransform in `preprocessing_exc_tuple` in IPython 7.17 and above.\n",
      "  and should_run_async(code)\n"
     ]
    }
   ],
   "source": [
    "USAGE_MODE = \"single-run\"  # choose from 'single-run' and 'hyper-opt'\n",
    "# USAGE_MODE = \"hyper-opt\"  # choose from 'single-run' and 'hyper-opt'"
   ]
  },
  {
   "cell_type": "code",
   "execution_count": 3,
   "metadata": {
    "execution": {
     "iopub.execute_input": "2020-12-18T19:27:57.380867Z",
     "iopub.status.busy": "2020-12-18T19:27:57.380482Z",
     "iopub.status.idle": "2020-12-18T19:27:57.382590Z",
     "shell.execute_reply": "2020-12-18T19:27:57.382187Z"
    },
    "papermill": {
     "duration": 0.025081,
     "end_time": "2020-12-18T19:27:57.382685",
     "exception": false,
     "start_time": "2020-12-18T19:27:57.357604",
     "status": "completed"
    },
    "tags": [
     "injected-parameters"
    ]
   },
   "outputs": [],
   "source": [
    "# Parameters\n",
    "USAGE_MODE = \"hyper-opt\"\n"
   ]
  },
  {
   "cell_type": "code",
   "execution_count": 4,
   "metadata": {
    "execution": {
     "iopub.execute_input": "2020-12-18T19:27:57.424108Z",
     "iopub.status.busy": "2020-12-18T19:27:57.423768Z",
     "iopub.status.idle": "2020-12-18T19:27:57.425583Z",
     "shell.execute_reply": "2020-12-18T19:27:57.425241Z"
    },
    "papermill": {
     "duration": 0.023321,
     "end_time": "2020-12-18T19:27:57.425660",
     "exception": false,
     "start_time": "2020-12-18T19:27:57.402339",
     "status": "completed"
    },
    "tags": []
   },
   "outputs": [],
   "source": [
    "FAST_DEV_RUN = True  # if true, simplifed configurations running for just a few epochs are used for making sure there are no obvious bugs"
   ]
  },
  {
   "cell_type": "code",
   "execution_count": 5,
   "metadata": {
    "execution": {
     "iopub.execute_input": "2020-12-18T19:27:57.468808Z",
     "iopub.status.busy": "2020-12-18T19:27:57.468455Z",
     "iopub.status.idle": "2020-12-18T19:27:57.470292Z",
     "shell.execute_reply": "2020-12-18T19:27:57.469899Z"
    },
    "papermill": {
     "duration": 0.02488,
     "end_time": "2020-12-18T19:27:57.470371",
     "exception": false,
     "start_time": "2020-12-18T19:27:57.445491",
     "status": "completed"
    },
    "tags": []
   },
   "outputs": [],
   "source": [
    "EXPERIMENT_ID = \"boring-mnist\"\n",
    "\n",
    "DATASETS_PATH = Path(\"/home/peter/_Git/_ML/dlschool-solutions/term1/task5/data\")\n",
    "\n",
    "warnings.filterwarnings(\"ignore\")\n",
    "\n",
    "\n",
    "# a dedicated function for creating datasets\n",
    "# please note how 'full_train_dataset' is created along with train,\n",
    "# val and test datasets\n",
    "def create_datasets(val_size=0.2):\n",
    "    SEED = 16\n",
    "    pl.seed_everything(SEED)\n",
    "    #\n",
    "    full_train_dataset = MNIST(\n",
    "        DATASETS_PATH, train=True, download=True, transform=transforms.ToTensor()\n",
    "    )\n",
    "    test_dataset = MNIST(\n",
    "        DATASETS_PATH, train=False, download=True, transform=transforms.ToTensor()\n",
    "    )\n",
    "    n_full_train_samples = len(full_train_dataset)\n",
    "    n_val_samples = int(n_full_train_samples * val_size)\n",
    "    train_dataset, val_dataset = random_split(\n",
    "        full_train_dataset, [n_full_train_samples - n_val_samples, n_val_samples]\n",
    "    )\n",
    "\n",
    "    n_classes = len(MNIST.classes)\n",
    "\n",
    "    return {\n",
    "        \"full_train_dataset\": full_train_dataset,\n",
    "        \"train_dataset\": train_dataset,\n",
    "        \"val_dataset\": val_dataset,\n",
    "        \"test_dataset\": test_dataset,\n",
    "        \"n_classes\": n_classes,\n",
    "    }"
   ]
  },
  {
   "cell_type": "code",
   "execution_count": 6,
   "metadata": {
    "execution": {
     "iopub.execute_input": "2020-12-18T19:27:57.512832Z",
     "iopub.status.busy": "2020-12-18T19:27:57.512489Z",
     "iopub.status.idle": "2020-12-18T19:27:57.513985Z",
     "shell.execute_reply": "2020-12-18T19:27:57.514244Z"
    },
    "id": "uJ6-Ce3Fuhno",
    "papermill": {
     "duration": 0.024528,
     "end_time": "2020-12-18T19:27:57.514340",
     "exception": false,
     "start_time": "2020-12-18T19:27:57.489812",
     "status": "completed"
    },
    "tags": []
   },
   "outputs": [],
   "source": [
    "def imshow(inp, title=None, plt_ax=plt, default=False):\n",
    "    \"\"\"Imshow for tensors\"\"\"\n",
    "    inp = inp.numpy().transpose((1, 2, 0))\n",
    "    mean = np.array([0.485, 0.456, 0.406])\n",
    "    std = np.array([0.229, 0.224, 0.225])\n",
    "    inp = std * inp + mean\n",
    "    inp = np.clip(inp, 0, 1)\n",
    "    plt_ax.imshow(inp)\n",
    "    if title is not None:\n",
    "        plt_ax.set_title(title)\n",
    "    plt_ax.grid(False)"
   ]
  },
  {
   "cell_type": "code",
   "execution_count": 7,
   "metadata": {
    "collapsed": false,
    "execution": {
     "iopub.execute_input": "2020-12-18T19:27:57.557499Z",
     "iopub.status.busy": "2020-12-18T19:27:57.557147Z",
     "iopub.status.idle": "2020-12-18T19:27:57.558953Z",
     "shell.execute_reply": "2020-12-18T19:27:57.558614Z"
    },
    "jupyter": {
     "outputs_hidden": false
    },
    "papermill": {
     "duration": 0.025169,
     "end_time": "2020-12-18T19:27:57.559031",
     "exception": false,
     "start_time": "2020-12-18T19:27:57.533862",
     "status": "completed"
    },
    "pycharm": {
     "name": "#%%\n"
    },
    "tags": []
   },
   "outputs": [],
   "source": [
    "# a dedicated function for creating dataloaders\n",
    "# 'full_train_loader' is created along with standard 3 loaderers\n",
    "# for training, validation and testing datasets\n",
    "def configure_dataloaders(batch_size, n_workers=4, val_size=0.2):\n",
    "    #\n",
    "    SHUFFLE = True\n",
    "    SAMPLER = None\n",
    "    #\n",
    "    result_dict = create_datasets(val_size)\n",
    "    #\n",
    "    for prefix in [\"train\", \"full_train\"]:\n",
    "\n",
    "        result_dict[f\"{prefix}_loader\"] = DataLoader(\n",
    "            result_dict[f\"{prefix}_dataset\"],\n",
    "            batch_size=batch_size,\n",
    "            shuffle=SHUFFLE,\n",
    "            sampler=SAMPLER,\n",
    "            num_workers=n_workers,\n",
    "            pin_memory=True,\n",
    "        )\n",
    "    #\n",
    "    for prefix in [\"val\", \"test\"]:\n",
    "        result_dict[f\"{prefix}_loader\"] = DataLoader(\n",
    "            result_dict[f\"{prefix}_dataset\"],\n",
    "            batch_size=batch_size,\n",
    "            shuffle=False,\n",
    "            num_workers=n_workers,\n",
    "            pin_memory=True,\n",
    "        )\n",
    "\n",
    "    return result_dict"
   ]
  },
  {
   "cell_type": "markdown",
   "metadata": {
    "papermill": {
     "duration": 0.019855,
     "end_time": "2020-12-18T19:27:57.600140",
     "exception": false,
     "start_time": "2020-12-18T19:27:57.580285",
     "status": "completed"
    },
    "tags": []
   },
   "source": [
    "Let us make sure our dataloaders can be created correctly"
   ]
  },
  {
   "cell_type": "code",
   "execution_count": 8,
   "metadata": {
    "execution": {
     "iopub.execute_input": "2020-12-18T19:27:57.641189Z",
     "iopub.status.busy": "2020-12-18T19:27:57.640845Z",
     "iopub.status.idle": "2020-12-18T19:27:57.755022Z",
     "shell.execute_reply": "2020-12-18T19:27:57.754539Z"
    },
    "papermill": {
     "duration": 0.135641,
     "end_time": "2020-12-18T19:27:57.755130",
     "exception": false,
     "start_time": "2020-12-18T19:27:57.619489",
     "status": "completed"
    },
    "tags": []
   },
   "outputs": [],
   "source": [
    "BATCH_SIZE = 32\n",
    "\n",
    "loaders_dict = configure_dataloaders(BATCH_SIZE)\n",
    "\n",
    "loaders_dict\n",
    "\n",
    "batch = next(iter(loaders_dict[\"train_loader\"]))\n",
    "assert len(batch[0]) > 0"
   ]
  },
  {
   "cell_type": "code",
   "execution_count": 9,
   "metadata": {
    "execution": {
     "iopub.execute_input": "2020-12-18T19:27:57.808244Z",
     "iopub.status.busy": "2020-12-18T19:27:57.807905Z",
     "iopub.status.idle": "2020-12-18T19:27:57.832067Z",
     "shell.execute_reply": "2020-12-18T19:27:57.832326Z"
    },
    "papermill": {
     "duration": 0.048678,
     "end_time": "2020-12-18T19:27:57.832428",
     "exception": false,
     "start_time": "2020-12-18T19:27:57.783750",
     "status": "completed"
    },
    "tags": []
   },
   "outputs": [
    {
     "data": {
      "text/plain": [
       "60000"
      ]
     },
     "execution_count": 9,
     "metadata": {},
     "output_type": "execute_result"
    }
   ],
   "source": [
    "result_dict = create_datasets(0.2)\n",
    "len(result_dict[\"full_train_dataset\"])"
   ]
  },
  {
   "cell_type": "code",
   "execution_count": 10,
   "metadata": {
    "execution": {
     "iopub.execute_input": "2020-12-18T19:27:57.878984Z",
     "iopub.status.busy": "2020-12-18T19:27:57.878327Z",
     "iopub.status.idle": "2020-12-18T19:27:57.881306Z",
     "shell.execute_reply": "2020-12-18T19:27:57.880914Z"
    },
    "papermill": {
     "duration": 0.028873,
     "end_time": "2020-12-18T19:27:57.881407",
     "exception": false,
     "start_time": "2020-12-18T19:27:57.852534",
     "status": "completed"
    },
    "tags": []
   },
   "outputs": [
    {
     "data": {
      "text/plain": [
       "10"
      ]
     },
     "execution_count": 10,
     "metadata": {},
     "output_type": "execute_result"
    }
   ],
   "source": [
    "loaders_dict[\"n_classes\"]"
   ]
  },
  {
   "cell_type": "markdown",
   "metadata": {
    "papermill": {
     "duration": 0.020297,
     "end_time": "2020-12-18T19:27:57.922832",
     "exception": false,
     "start_time": "2020-12-18T19:27:57.902535",
     "status": "completed"
    },
    "tags": []
   },
   "source": [
    "### Defining the model"
   ]
  },
  {
   "cell_type": "markdown",
   "metadata": {
    "papermill": {
     "duration": 0.020213,
     "end_time": "2020-12-18T19:27:57.963553",
     "exception": false,
     "start_time": "2020-12-18T19:27:57.943340",
     "status": "completed"
    },
    "tags": []
   },
   "source": [
    "Let define a dedicated class for metrics calculation"
   ]
  },
  {
   "cell_type": "code",
   "execution_count": 11,
   "metadata": {
    "execution": {
     "iopub.execute_input": "2020-12-18T19:27:58.008655Z",
     "iopub.status.busy": "2020-12-18T19:27:58.008306Z",
     "iopub.status.idle": "2020-12-18T19:27:58.010364Z",
     "shell.execute_reply": "2020-12-18T19:27:58.009811Z"
    },
    "papermill": {
     "duration": 0.026703,
     "end_time": "2020-12-18T19:27:58.010515",
     "exception": false,
     "start_time": "2020-12-18T19:27:57.983812",
     "status": "completed"
    },
    "tags": []
   },
   "outputs": [],
   "source": [
    "class LitMetricsCalc(torch.nn.Module):\n",
    "    def __init__(self, prefix, num_classes):\n",
    "        super(LitMetricsCalc, self).__init__()\n",
    "        self.acc = metrics.classification.Accuracy()\n",
    "        self.f1 = metrics.classification.F1(num_classes=num_classes, average=\"macro\")\n",
    "        self.rec = metrics.classification.Recall(\n",
    "            num_classes=num_classes, average=\"macro\"\n",
    "        )\n",
    "        self.prec = metrics.classification.Precision(\n",
    "            num_classes=num_classes, average=\"macro\"\n",
    "        )\n",
    "        self.prefix = prefix\n",
    "\n",
    "    def step(self, logit, target):\n",
    "        probs = torch.softmax(logit, dim=1)\n",
    "        prefix = self.prefix\n",
    "        self.acc(probs, target)\n",
    "        self.f1(probs, target)\n",
    "        self.prec(probs, target)\n",
    "        self.rec(probs, target)\n",
    "\n",
    "        return {\n",
    "            f\"{prefix}_acc\": self.acc,\n",
    "            f\"{prefix}_f1\": self.f1,\n",
    "            f\"{prefix}_prec\": self.prec,\n",
    "            f\"{prefix}_rec\": self.rec,\n",
    "        }"
   ]
  },
  {
   "cell_type": "code",
   "execution_count": 12,
   "metadata": {
    "collapsed": false,
    "execution": {
     "iopub.execute_input": "2020-12-18T19:27:58.053887Z",
     "iopub.status.busy": "2020-12-18T19:27:58.053547Z",
     "iopub.status.idle": "2020-12-18T19:27:58.055475Z",
     "shell.execute_reply": "2020-12-18T19:27:58.055016Z"
    },
    "jupyter": {
     "outputs_hidden": false
    },
    "papermill": {
     "duration": 0.025146,
     "end_time": "2020-12-18T19:27:58.055571",
     "exception": false,
     "start_time": "2020-12-18T19:27:58.030425",
     "status": "completed"
    },
    "pycharm": {
     "name": "#%%\n"
    },
    "tags": []
   },
   "outputs": [],
   "source": [
    "class Backbone(torch.nn.Module):\n",
    "    def __init__(self, n_classes):\n",
    "        super().__init__()\n",
    "        self.l0 = torch.nn.Linear(28 * 28, 256)\n",
    "        self.l1 = torch.nn.Linear(256, 128)\n",
    "        self.l2 = torch.nn.Linear(128, n_classes)\n",
    "\n",
    "    def forward(self, x):\n",
    "        x = x.view(x.size(0), -1)\n",
    "        x = torch.relu(self.l0(x))\n",
    "        x = torch.relu(self.l1(x))\n",
    "        x = torch.relu(self.l2(x))\n",
    "        return x"
   ]
  },
  {
   "cell_type": "code",
   "execution_count": 13,
   "metadata": {
    "execution": {
     "iopub.execute_input": "2020-12-18T19:27:58.189521Z",
     "iopub.status.busy": "2020-12-18T19:27:58.189143Z",
     "iopub.status.idle": "2020-12-18T19:27:58.190983Z",
     "shell.execute_reply": "2020-12-18T19:27:58.190639Z"
    },
    "papermill": {
     "duration": 0.114443,
     "end_time": "2020-12-18T19:27:58.191067",
     "exception": false,
     "start_time": "2020-12-18T19:27:58.076624",
     "status": "completed"
    },
    "tags": []
   },
   "outputs": [],
   "source": [
    "class LitBackbone(pl.LightningModule):\n",
    "    def __init__(self, hparams):\n",
    "        super().__init__()\n",
    "        self.hparams = hparams\n",
    "        #\n",
    "        n_classes = self.hparams.n_classes\n",
    "        #\n",
    "        model = Backbone(n_classes)\n",
    "        #\n",
    "        self.model = model\n",
    "        self.train_metric_calc = LitMetricsCalc(\"train\", num_classes=n_classes)\n",
    "        self.val_metric_calc = LitMetricsCalc(\"val\", num_classes=n_classes)\n",
    "        self.test_metric_calc = LitMetricsCalc(\"test\", num_classes=n_classes)\n",
    "        self.freeze()\n",
    "\n",
    "    def freeze(self):\n",
    "        for param in self.model.parameters():\n",
    "            param.requires_grad = False\n",
    "\n",
    "    def unfreeze(self):\n",
    "        for param in self.model.parameters():\n",
    "            param.requires_grad = True\n",
    "\n",
    "    def unfreeze_tail(self, ind_layer):\n",
    "        assert ind_layer >= 0\n",
    "        ind = ind_layer\n",
    "        while True:\n",
    "            if ind == 0:\n",
    "                for param in self.model.l2.parameters():\n",
    "                    param.requires_grad = True\n",
    "            elif ind == 1:\n",
    "                for param in self.model.l1.parameters():\n",
    "                    param.requires_grad = True\n",
    "            elif ind == 2:\n",
    "                for param in self.model.l0.parameters():\n",
    "                    param.requires_grad = True\n",
    "            ind -= 1\n",
    "            if ind < 0:\n",
    "                break\n",
    "\n",
    "    def configure_optimizers(self):\n",
    "        optimizer = AdamW(\n",
    "            self.model.parameters(),\n",
    "            lr=self.hparams.lr,\n",
    "            betas=(0.9, 0.999),\n",
    "            eps=1e-8,\n",
    "        )\n",
    "\n",
    "        scheduler = get_linear_schedule_with_warmup(\n",
    "            optimizer, self.hparams.warmup, self.hparams.n_train_steps\n",
    "        )\n",
    "        return [optimizer], [\n",
    "            {\"scheduler\": scheduler, \"interval\": \"step\", \"frequency\": 1}\n",
    "        ]\n",
    "\n",
    "    def forward(self, inputs):\n",
    "        logits = self.model(inputs)\n",
    "        return logits\n",
    "\n",
    "    def forward_batch(self, batch):\n",
    "        inputs = batch[0]\n",
    "        return self(inputs)\n",
    "\n",
    "    def __calc_loss(self, logits, target, log_label):\n",
    "        loss = F.cross_entropy(logits, target)\n",
    "        self.log(f\"{log_label}_loss\", loss, prog_bar=True, on_step=True, on_epoch=True)\n",
    "        return loss\n",
    "\n",
    "    def __stage_step(self, metric_calc, batch, batch_idx, stage):\n",
    "        logits = self.forward_batch(batch)\n",
    "        mval_dict = metric_calc.step(logits, batch[1])\n",
    "        self.log_dict(mval_dict, prog_bar=True, on_step=True, on_epoch=True)\n",
    "        loss = self.__calc_loss(logits, batch[1], stage)\n",
    "        return loss\n",
    "\n",
    "    def training_step(self, batch, batch_idx):\n",
    "        return self.__stage_step(self.train_metric_calc, batch, batch_idx, \"train\")\n",
    "\n",
    "    def test_step(self, batch, batch_idx):\n",
    "        return self.__stage_step(self.test_metric_calc, batch, batch_idx, \"test\")\n",
    "\n",
    "    def validation_step(self, batch, batch_idx):\n",
    "        return self.__stage_step(self.val_metric_calc, batch, batch_idx, \"val\")"
   ]
  },
  {
   "cell_type": "code",
   "execution_count": 14,
   "metadata": {
    "collapsed": false,
    "execution": {
     "iopub.execute_input": "2020-12-18T19:27:58.234404Z",
     "iopub.status.busy": "2020-12-18T19:27:58.234045Z",
     "iopub.status.idle": "2020-12-18T19:27:58.235926Z",
     "shell.execute_reply": "2020-12-18T19:27:58.235618Z"
    },
    "jupyter": {
     "outputs_hidden": false
    },
    "papermill": {
     "duration": 0.024179,
     "end_time": "2020-12-18T19:27:58.236003",
     "exception": false,
     "start_time": "2020-12-18T19:27:58.211824",
     "status": "completed"
    },
    "pycharm": {
     "name": "#%%\n"
    },
    "tags": []
   },
   "outputs": [],
   "source": [
    "N_CLASSES = loaders_dict[\"n_classes\"]\n",
    "LMODULE_CLASS = LitBackbone"
   ]
  },
  {
   "cell_type": "code",
   "execution_count": 15,
   "metadata": {
    "execution": {
     "iopub.execute_input": "2020-12-18T19:27:58.283923Z",
     "iopub.status.busy": "2020-12-18T19:27:58.283562Z",
     "iopub.status.idle": "2020-12-18T19:27:58.285379Z",
     "shell.execute_reply": "2020-12-18T19:27:58.285037Z"
    },
    "papermill": {
     "duration": 0.027538,
     "end_time": "2020-12-18T19:27:58.285459",
     "exception": false,
     "start_time": "2020-12-18T19:27:58.257921",
     "status": "completed"
    },
    "tags": []
   },
   "outputs": [],
   "source": [
    "CONFIG = {\n",
    "    \"lr\": 6.2e-5,  # Initial learning rate\n",
    "    \"warmup\": 200,  # for StepLR LR scheduler\n",
    "    \"gradient_clip_val\": 0,\n",
    "    # \"max_epochs\": 30,  # the actual number can be less due to early stopping\n",
    "    \"max_epochs\": 10,  # the actual number can be less due to early stopping\n",
    "    \"batch_size\": 64,  # the maximum for this model and RTX 2070,\n",
    "    \"n_classes\": N_CLASSES,\n",
    "    \"unfreeze_epochs\": [0, 1],  #\n",
    "}\n",
    "\n",
    "TUNE_CONFIG = {\n",
    "    \"metric_to_optimize\": \"val_f1_epoch\",  # Ray + PTL Trainer\n",
    "    \"ray_metrics_to_show\": [\n",
    "        \"val_loss_epoch\",\n",
    "        \"val_f1_epoch\",\n",
    "        \"val_acc_epoch\",\n",
    "    ],  # Ray\n",
    "    \"metric_opt_mode\": \"max\",  # Ray + PTL Trainer\n",
    "    \"cpu_per_trial\": 3,  # Ray + DataLoaders\n",
    "    \"gpu_per_trial\": 0,  # Ray\n",
    "    \"n_checkpoints_to_keep\": 1,  # Ray\n",
    "    \"grace_period\": 6,  # Ray\n",
    "    \"epoch_upper_limit\": 45,  # Ray\n",
    "    \"n_samples\": 40,  # Ray\n",
    "    # \"n_samples\": 3,\n",
    "    \"ptl_trainer_patience\": 7,  # PTL Trainer\n",
    "    # \"ptl_precision\": 16,  # PTL Trainer\n",
    "    \"ptl_precision\": 32,  # PTL Trainer\n",
    "    #\n",
    "    \"train_loader_name\": \"train_loader\",\n",
    "    \"val_loader_name\": \"val_loader\",\n",
    "    \"test_loader_name\": \"test_loader\",\n",
    "    #\n",
    "    \"batch_size_main\": 32,  # batch size for validation runs in the main process once all Ray Tune trials are finished\n",
    "    \"gpus\": 0,\n",
    "}\n",
    "\n",
    "if FAST_DEV_RUN:\n",
    "    CONFIG[\"max_epochs\"] = 2\n",
    "    TUNE_CONFIG[\"n_samples\"] = 2\n",
    "    TUNE_CONFIG[\"gpu_per_trial\"] = 0"
   ]
  },
  {
   "cell_type": "code",
   "execution_count": 16,
   "metadata": {
    "execution": {
     "iopub.execute_input": "2020-12-18T19:27:58.328884Z",
     "iopub.status.busy": "2020-12-18T19:27:58.328548Z",
     "iopub.status.idle": "2020-12-18T19:27:58.330437Z",
     "shell.execute_reply": "2020-12-18T19:27:58.330099Z"
    },
    "papermill": {
     "duration": 0.024781,
     "end_time": "2020-12-18T19:27:58.330515",
     "exception": false,
     "start_time": "2020-12-18T19:27:58.305734",
     "status": "completed"
    },
    "tags": []
   },
   "outputs": [],
   "source": [
    "def set_seed():\n",
    "    SEED = 16\n",
    "    pl.seed_everything(SEED)"
   ]
  },
  {
   "cell_type": "code",
   "execution_count": 17,
   "metadata": {
    "execution": {
     "iopub.execute_input": "2020-12-18T19:27:58.377922Z",
     "iopub.status.busy": "2020-12-18T19:27:58.377487Z",
     "iopub.status.idle": "2020-12-18T19:27:58.379537Z",
     "shell.execute_reply": "2020-12-18T19:27:58.379168Z"
    },
    "papermill": {
     "duration": 0.027825,
     "end_time": "2020-12-18T19:27:58.379623",
     "exception": false,
     "start_time": "2020-12-18T19:27:58.351798",
     "status": "completed"
    },
    "tags": []
   },
   "outputs": [],
   "source": [
    "class UnfreezeModelTailCallback(Callback):\n",
    "    def __init__(self, epoch_vec):\n",
    "        super().__init__()\n",
    "        self.epoch_vec = epoch_vec\n",
    "\n",
    "    def on_epoch_start(self, trainer, pl_module):\n",
    "        if trainer.current_epoch <= self.epoch_vec[0]:\n",
    "            pl_module.unfreeze_tail(0)\n",
    "        elif trainer.current_epoch <= self.epoch_vec[1]:\n",
    "            pl_module.unfreeze_tail(1)\n",
    "        else:\n",
    "            pl_module.unfreeze()\n",
    "\n",
    "\n",
    "pl_callbacks = [UnfreezeModelTailCallback(CONFIG[\"unfreeze_epochs\"])]"
   ]
  },
  {
   "cell_type": "code",
   "execution_count": 18,
   "metadata": {
    "execution": {
     "iopub.execute_input": "2020-12-18T19:27:58.423772Z",
     "iopub.status.busy": "2020-12-18T19:27:58.423364Z",
     "iopub.status.idle": "2020-12-18T19:27:58.425863Z",
     "shell.execute_reply": "2020-12-18T19:27:58.425545Z"
    },
    "papermill": {
     "duration": 0.025408,
     "end_time": "2020-12-18T19:27:58.425944",
     "exception": false,
     "start_time": "2020-12-18T19:27:58.400536",
     "status": "completed"
    },
    "tags": []
   },
   "outputs": [],
   "source": [
    "ptl_ray_runner = pth.Runner(\n",
    "    configure_dataloaders,\n",
    "    set_seed,\n",
    "    pl_callbacks=pl_callbacks,\n",
    "    is_debug=FAST_DEV_RUN,\n",
    "    experiment_id=EXPERIMENT_ID,\n",
    ")"
   ]
  },
  {
   "cell_type": "code",
   "execution_count": 19,
   "metadata": {
    "execution": {
     "iopub.execute_input": "2020-12-18T19:27:58.471052Z",
     "iopub.status.busy": "2020-12-18T19:27:58.470675Z",
     "iopub.status.idle": "2020-12-18T19:27:58.472632Z",
     "shell.execute_reply": "2020-12-18T19:27:58.472296Z"
    },
    "papermill": {
     "duration": 0.025759,
     "end_time": "2020-12-18T19:27:58.472722",
     "exception": false,
     "start_time": "2020-12-18T19:27:58.446963",
     "status": "completed"
    },
    "tags": []
   },
   "outputs": [],
   "source": [
    "if USAGE_MODE == \"single-run\":\n",
    "    best_result = ptl_ray_runner.run_single_trial(LMODULE_CLASS, CONFIG, TUNE_CONFIG)\n",
    "    #\n",
    "    best_result[\"metrics\"].plot()"
   ]
  },
  {
   "cell_type": "markdown",
   "metadata": {
    "papermill": {
     "duration": 0.020669,
     "end_time": "2020-12-18T19:27:58.515300",
     "exception": false,
     "start_time": "2020-12-18T19:27:58.494631",
     "status": "completed"
    },
    "tags": []
   },
   "source": [
    "### Running a hyper-parameters search via Ray Tune"
   ]
  },
  {
   "cell_type": "code",
   "execution_count": 20,
   "metadata": {
    "execution": {
     "iopub.execute_input": "2020-12-18T19:27:58.561692Z",
     "iopub.status.busy": "2020-12-18T19:27:58.561355Z",
     "iopub.status.idle": "2020-12-18T19:27:58.563097Z",
     "shell.execute_reply": "2020-12-18T19:27:58.562759Z"
    },
    "papermill": {
     "duration": 0.026483,
     "end_time": "2020-12-18T19:27:58.563176",
     "exception": false,
     "start_time": "2020-12-18T19:27:58.536693",
     "status": "completed"
    },
    "tags": []
   },
   "outputs": [],
   "source": [
    "SEARCH_SPACE_CONFIG = {\n",
    "    \"unfreeze_epochs\": [0, 1],\n",
    "    \"lr\": tune.uniform(1e-5, 1e-4),\n",
    "    \"warmup\": tune.choice([200, 500, 600, 1000]),\n",
    "    \"gradient_clip_val\": 0,\n",
    "    \"max_epochs\": tune.choice([10, 20, 30]),\n",
    "    \"batch_size\": tune.choice([16, 32, 64]),\n",
    "    \"n_classes\": N_CLASSES,\n",
    "}"
   ]
  },
  {
   "cell_type": "code",
   "execution_count": 21,
   "metadata": {
    "execution": {
     "iopub.execute_input": "2020-12-18T19:27:58.607665Z",
     "iopub.status.busy": "2020-12-18T19:27:58.607333Z",
     "iopub.status.idle": "2020-12-18T19:27:58.609263Z",
     "shell.execute_reply": "2020-12-18T19:27:58.608928Z"
    },
    "papermill": {
     "duration": 0.024773,
     "end_time": "2020-12-18T19:27:58.609341",
     "exception": false,
     "start_time": "2020-12-18T19:27:58.584568",
     "status": "completed"
    },
    "tags": []
   },
   "outputs": [],
   "source": [
    "if FAST_DEV_RUN:\n",
    "    SEARCH_SPACE_CONFIG[\"max_epochs\"] = 2\n",
    "    SEARCH_SPACE_CONFIG[\"batch_size\"] = 32"
   ]
  },
  {
   "cell_type": "code",
   "execution_count": 22,
   "metadata": {
    "execution": {
     "iopub.execute_input": "2020-12-18T19:27:58.654102Z",
     "iopub.status.busy": "2020-12-18T19:27:58.653764Z",
     "iopub.status.idle": "2020-12-18T19:28:15.249666Z",
     "shell.execute_reply": "2020-12-18T19:28:15.249317Z"
    },
    "papermill": {
     "duration": 16.618921,
     "end_time": "2020-12-18T19:28:15.249750",
     "exception": false,
     "start_time": "2020-12-18T19:27:58.630829",
     "status": "completed"
    },
    "tags": []
   },
   "outputs": [
    {
     "name": "stderr",
     "output_type": "stream",
     "text": [
      "2020-12-18 22:27:59,155\tINFO services.py:1090 -- View the Ray dashboard at \u001b[1m\u001b[32mhttp://192.168.1.135:8265\u001b[39m\u001b[22m\n"
     ]
    },
    {
     "name": "stdout",
     "output_type": "stream",
     "text": [
      "== Status ==\n",
      "Memory usage on this node: 11.8/31.3 GiB\n",
      "Using AsyncHyperBand: num_stopped=0\n",
      "Bracket: Iter 18.000: None | Iter 6.000: None\n",
      "Resources requested: 3/12 CPUs, 0/0 GPUs, 0.0/13.18 GiB heap, 0.0/4.54 GiB objects\n",
      "Result logdir: /home/peter/ray_results/boring-mnist_18_Dec_2020_22_28_01\n",
      "Number of trials: 1/2 (1 RUNNING)\n",
      "+----------------+----------+-------+-------------------+-------------+----------+---------------------+--------------+--------------+-------------+-----------------------------------------------------------------------------------------------------------------------------------------+\n",
      "| Trial name     | status   | loc   | unfreeze_epochs   |          lr |   warmup |   gradient_clip_val |   max_epochs |   batch_size |   n_classes | wandb                                                                                                                                   |\n",
      "|----------------+----------+-------+-------------------+-------------+----------+---------------------+--------------+--------------+-------------+-----------------------------------------------------------------------------------------------------------------------------------------|\n",
      "| inner_24e6e344 | RUNNING  |       | (0, 1)            | 1.57814e-05 |      200 |                   0 |            2 |           32 |          10 | {'project': 'boring-mnist', 'group': '18_Dec_2020_22_28_01', 'api_key': '0884d86437826e94cde14255a0869ab0ba27eeef', 'log_config': True} |\n",
      "+----------------+----------+-------+-------------------+-------------+----------+---------------------+--------------+--------------+-------------+-----------------------------------------------------------------------------------------------------------------------------------------+\n",
      "\n",
      "\n"
     ]
    },
    {
     "name": "stderr",
     "output_type": "stream",
     "text": [
      "2020-12-18 22:28:06,854\tINFO logger.py:283 -- Removed the following hyperparameter values when logging to tensorboard: {'unfreeze_epochs': (0, 1)}\n"
     ]
    },
    {
     "name": "stderr",
     "output_type": "stream",
     "text": [
      "2020-12-18 22:28:10,213\tINFO logger.py:283 -- Removed the following hyperparameter values when logging to tensorboard: {'unfreeze_epochs': (0, 1)}\n"
     ]
    },
    {
     "name": "stdout",
     "output_type": "stream",
     "text": [
      "== Status ==\n",
      "Memory usage on this node: 12.4/31.3 GiB\n",
      "Using AsyncHyperBand: num_stopped=0\n",
      "Bracket: Iter 18.000: None | Iter 6.000: None\n",
      "Resources requested: 3/12 CPUs, 0/0 GPUs, 0.0/13.18 GiB heap, 0.0/4.54 GiB objects\n",
      "Current best trial: 24f440de with val_f1_epoch=0.030032828450202942 and parameters={'unfreeze_epochs': (0, 1), 'lr': 4.771450366702372e-05, 'warmup': 1000, 'gradient_clip_val': 0, 'max_epochs': 2, 'batch_size': 32, 'n_classes': 10, 'wandb': {'project': 'boring-mnist', 'group': '18_Dec_2020_22_28_01', 'api_key': '0884d86437826e94cde14255a0869ab0ba27eeef', 'log_config': True}}\n",
      "Result logdir: /home/peter/ray_results/boring-mnist_18_Dec_2020_22_28_01\n",
      "Number of trials: 2/2 (1 RUNNING, 1 TERMINATED)\n",
      "+----------------+------------+----------------------+-------------------+-------------+----------+---------------------+--------------+--------------+-------------+-----------------------------------------------------------------------------------------------------------------------------------------+------------------+----------------+-----------------+----------------------+\n",
      "| Trial name     | status     | loc                  | unfreeze_epochs   |          lr |   warmup |   gradient_clip_val |   max_epochs |   batch_size |   n_classes | wandb                                                                                                                                   |   val_loss_epoch |   val_f1_epoch |   val_acc_epoch |   training_iteration |\n",
      "|----------------+------------+----------------------+-------------------+-------------+----------+---------------------+--------------+--------------+-------------+-----------------------------------------------------------------------------------------------------------------------------------------+------------------+----------------+-----------------+----------------------|\n",
      "| inner_24e6e344 | RUNNING    | 192.168.1.135:294961 | (0, 1)            | 1.57814e-05 |      200 |                   0 |            2 |           32 |          10 | {'project': 'boring-mnist', 'group': '18_Dec_2020_22_28_01', 'api_key': '0884d86437826e94cde14255a0869ab0ba27eeef', 'log_config': True} |          2.30323 |      0.0297194 |          0.0875 |                    3 |\n",
      "| inner_24f440de | TERMINATED |                      | (0, 1)            | 4.77145e-05 |     1000 |                   0 |            2 |           32 |          10 | {'project': 'boring-mnist', 'group': '18_Dec_2020_22_28_01', 'api_key': '0884d86437826e94cde14255a0869ab0ba27eeef', 'log_config': True} |          2.30334 |      0.0300328 |          0.0875 |                    3 |\n",
      "+----------------+------------+----------------------+-------------------+-------------+----------+---------------------+--------------+--------------+-------------+-----------------------------------------------------------------------------------------------------------------------------------------+------------------+----------------+-----------------+----------------------+\n",
      "\n",
      "\n"
     ]
    },
    {
     "name": "stderr",
     "output_type": "stream",
     "text": [
      "2020-12-18 22:28:13,344\tINFO tune.py:439 -- Total run time: 11.24 seconds (11.22 seconds for the tuning loop).\n"
     ]
    },
    {
     "name": "stderr",
     "output_type": "stream",
     "text": [
      "GPU available: False, used: False\n"
     ]
    },
    {
     "name": "stderr",
     "output_type": "stream",
     "text": [
      "TPU available: None, using: 0 TPU cores\n"
     ]
    },
    {
     "name": "stdout",
     "output_type": "stream",
     "text": [
      "== Status ==\n",
      "Memory usage on this node: 12.1/31.3 GiB\n",
      "Using AsyncHyperBand: num_stopped=0\n",
      "Bracket: Iter 18.000: None | Iter 6.000: None\n",
      "Resources requested: 0/12 CPUs, 0/0 GPUs, 0.0/13.18 GiB heap, 0.0/4.54 GiB objects\n",
      "Current best trial: 24f440de with val_f1_epoch=0.030032828450202942 and parameters={'unfreeze_epochs': (0, 1), 'lr': 4.771450366702372e-05, 'warmup': 1000, 'gradient_clip_val': 0, 'max_epochs': 2, 'batch_size': 32, 'n_classes': 10, 'wandb': {'project': 'boring-mnist', 'group': '18_Dec_2020_22_28_01', 'api_key': '0884d86437826e94cde14255a0869ab0ba27eeef', 'log_config': True}}\n",
      "Result logdir: /home/peter/ray_results/boring-mnist_18_Dec_2020_22_28_01\n",
      "Number of trials: 2/2 (2 TERMINATED)\n",
      "+----------------+------------+-------+-------------------+-------------+----------+---------------------+--------------+--------------+-------------+-----------------------------------------------------------------------------------------------------------------------------------------+------------------+----------------+-----------------+----------------------+\n",
      "| Trial name     | status     | loc   | unfreeze_epochs   |          lr |   warmup |   gradient_clip_val |   max_epochs |   batch_size |   n_classes | wandb                                                                                                                                   |   val_loss_epoch |   val_f1_epoch |   val_acc_epoch |   training_iteration |\n",
      "|----------------+------------+-------+-------------------+-------------+----------+---------------------+--------------+--------------+-------------+-----------------------------------------------------------------------------------------------------------------------------------------+------------------+----------------+-----------------+----------------------|\n",
      "| inner_24e6e344 | TERMINATED |       | (0, 1)            | 1.57814e-05 |      200 |                   0 |            2 |           32 |          10 | {'project': 'boring-mnist', 'group': '18_Dec_2020_22_28_01', 'api_key': '0884d86437826e94cde14255a0869ab0ba27eeef', 'log_config': True} |          2.30323 |      0.0297194 |          0.0875 |                    3 |\n",
      "| inner_24f440de | TERMINATED |       | (0, 1)            | 4.77145e-05 |     1000 |                   0 |            2 |           32 |          10 | {'project': 'boring-mnist', 'group': '18_Dec_2020_22_28_01', 'api_key': '0884d86437826e94cde14255a0869ab0ba27eeef', 'log_config': True} |          2.30334 |      0.0300328 |          0.0875 |                    3 |\n",
      "+----------------+------------+-------+-------------------+-------------+----------+---------------------+--------------+--------------+-------------+-----------------------------------------------------------------------------------------------------------------------------------------+------------------+----------------+-----------------+----------------------+\n",
      "\n",
      "\n",
      "Best hyperparameters found were:  {'unfreeze_epochs': (0, 1), 'lr': 4.771450366702372e-05, 'warmup': 1000, 'gradient_clip_val': 0, 'max_epochs': 2, 'batch_size': 32, 'n_classes': 10, 'wandb': {'project': 'boring-mnist', 'group': '18_Dec_2020_22_28_01', 'api_key': '0884d86437826e94cde14255a0869ab0ba27eeef', 'log_config': True}}\n"
     ]
    },
    {
     "data": {
      "application/vnd.jupyter.widget-view+json": {
       "model_id": "86d25b5e676147aeb110c7874a5d46c5",
       "version_major": 2,
       "version_minor": 0
      },
      "text/plain": [
       "HBox(children=(HTML(value='Testing'), FloatProgress(value=1.0, bar_style='info', layout=Layout(flex='2'), max=…"
      ]
     },
     "metadata": {},
     "output_type": "display_data"
    },
    {
     "name": "stdout",
     "output_type": "stream",
     "text": [
      "\r",
      "|   Reval |   reval_f1 |   reval_acc |   reval_rec |   reval_prec |   reval_loss |\n",
      "|--------:|-----------:|------------:|------------:|-------------:|-------------:|\n",
      "|       0 |       0.03 |      0.0875 |      0.0967 |         0.03 |       2.3035 |\n"
     ]
    },
    {
     "data": {
      "application/vnd.jupyter.widget-view+json": {
       "model_id": "d01a854de2dd44cf820b42ac7e2356f6",
       "version_major": 2,
       "version_minor": 0
      },
      "text/plain": [
       "HBox(children=(HTML(value='Testing'), FloatProgress(value=1.0, bar_style='info', layout=Layout(flex='2'), max=…"
      ]
     },
     "metadata": {},
     "output_type": "display_data"
    },
    {
     "name": "stdout",
     "output_type": "stream",
     "text": [
      "\r",
      "|   Test |   test_f1 |   test_acc |   test_rec |   test_prec |   test_loss |\n",
      "|-------:|----------:|-----------:|-----------:|------------:|------------:|\n",
      "|      0 |    0.0145 |     0.0437 |     0.1053 |      0.0115 |      2.3067 |\n"
     ]
    }
   ],
   "source": [
    "if USAGE_MODE == \"hyper-opt\":\n",
    "    #\n",
    "    best_result = ptl_ray_runner.run_hyper_opt(\n",
    "        LMODULE_CLASS,\n",
    "        SEARCH_SPACE_CONFIG,\n",
    "        TUNE_CONFIG,\n",
    "    )\n",
    "\n",
    "    best_result[\"metrics_last\"]"
   ]
  },
  {
   "cell_type": "markdown",
   "metadata": {
    "papermill": {
     "duration": 0.024976,
     "end_time": "2020-12-18T19:28:15.300456",
     "exception": false,
     "start_time": "2020-12-18T19:28:15.275480",
     "status": "completed"
    },
    "tags": []
   },
   "source": [
    "The following code is launches an automatic hyper-parameter tunning via Ray Tune"
   ]
  },
  {
   "cell_type": "markdown",
   "metadata": {
    "papermill": {
     "duration": 0.024331,
     "end_time": "2020-12-18T19:28:15.348576",
     "exception": false,
     "start_time": "2020-12-18T19:28:15.324245",
     "status": "completed"
    },
    "tags": []
   },
   "source": [
    "Below is an example of output produced by Ray Tune"
   ]
  },
  {
   "cell_type": "markdown",
   "metadata": {
    "papermill": {
     "duration": 0.025111,
     "end_time": "2020-12-18T19:28:15.398777",
     "exception": false,
     "start_time": "2020-12-18T19:28:15.373666",
     "status": "completed"
    },
    "tags": []
   },
   "source": [
    "### Let us look at the results"
   ]
  },
  {
   "cell_type": "code",
   "execution_count": 23,
   "metadata": {
    "execution": {
     "iopub.execute_input": "2020-12-18T19:28:15.450304Z",
     "iopub.status.busy": "2020-12-18T19:28:15.449808Z",
     "iopub.status.idle": "2020-12-18T19:28:15.451849Z",
     "shell.execute_reply": "2020-12-18T19:28:15.452115Z"
    },
    "papermill": {
     "duration": 0.029495,
     "end_time": "2020-12-18T19:28:15.452217",
     "exception": false,
     "start_time": "2020-12-18T19:28:15.422722",
     "status": "completed"
    },
    "tags": []
   },
   "outputs": [],
   "source": [
    "DEVICE = torch.device(\"cpu\")"
   ]
  },
  {
   "cell_type": "code",
   "execution_count": 24,
   "metadata": {
    "execution": {
     "iopub.execute_input": "2020-12-18T19:28:15.505073Z",
     "iopub.status.busy": "2020-12-18T19:28:15.504497Z",
     "iopub.status.idle": "2020-12-18T19:28:15.506863Z",
     "shell.execute_reply": "2020-12-18T19:28:15.506433Z"
    },
    "papermill": {
     "duration": 0.030567,
     "end_time": "2020-12-18T19:28:15.506947",
     "exception": false,
     "start_time": "2020-12-18T19:28:15.476380",
     "status": "completed"
    },
    "tags": []
   },
   "outputs": [],
   "source": [
    "def predict_one_sample(model, inputs, device=DEVICE):\n",
    "    with torch.no_grad():\n",
    "        inputs = inputs.to(device)\n",
    "        model.eval()\n",
    "        logit = model(inputs).cpu()\n",
    "        probs = torch.nn.functional.softmax(logit, dim=-1).numpy()\n",
    "    return probs"
   ]
  },
  {
   "cell_type": "code",
   "execution_count": 25,
   "metadata": {
    "execution": {
     "iopub.execute_input": "2020-12-18T19:28:15.562868Z",
     "iopub.status.busy": "2020-12-18T19:28:15.562454Z",
     "iopub.status.idle": "2020-12-18T19:28:15.564714Z",
     "shell.execute_reply": "2020-12-18T19:28:15.564377Z"
    },
    "papermill": {
     "duration": 0.033363,
     "end_time": "2020-12-18T19:28:15.564866",
     "exception": false,
     "start_time": "2020-12-18T19:28:15.531503",
     "status": "completed"
    },
    "tags": []
   },
   "outputs": [],
   "source": [
    "def show_some_predictions(loaders_dict, lmodule):\n",
    "    fig, ax = plt.subplots(nrows=3, ncols=3, figsize=(12, 12), sharey=True, sharex=True)\n",
    "    for fig_x in ax.flatten():\n",
    "        random_characters = int(np.random.uniform(0, 1000))\n",
    "        im_val, label = loaders_dict[\"val_dataset\"][random_characters]\n",
    "        img_label = \" \".join(\n",
    "            map(\n",
    "                lambda x: x.capitalize(),\n",
    "                MNIST.classes[label].split(\"_\"),\n",
    "            )\n",
    "        )\n",
    "\n",
    "        imshow(im_val.data.cpu(), title=img_label, plt_ax=fig_x)\n",
    "\n",
    "        fig_x.add_patch(patches.Rectangle((0, 0), 10, 5, color=\"white\"))\n",
    "        font0 = FontProperties()\n",
    "        font = font0.copy()\n",
    "        font.set_family(\"fantasy\")\n",
    "        prob_pred = predict_one_sample(lmodule, im_val.unsqueeze(0))\n",
    "        predicted_proba = np.max(prob_pred) * 100\n",
    "        y_pred = np.argmax(prob_pred)\n",
    "\n",
    "        predicted_label = MNIST.classes[y_pred]\n",
    "        predicted_label = (\n",
    "            predicted_label[: len(predicted_label) // 2]\n",
    "            + \"\\n\"\n",
    "            + predicted_label[len(predicted_label) // 2 :]\n",
    "        )\n",
    "        predicted_text = \"{} : {:.0f}%\".format(predicted_label, predicted_proba)\n",
    "\n",
    "        fig_x.text(\n",
    "            1,\n",
    "            2,\n",
    "            predicted_text,\n",
    "            horizontalalignment=\"left\",\n",
    "            fontproperties=font,\n",
    "            verticalalignment=\"top\",\n",
    "            fontsize=8,\n",
    "            color=\"black\",\n",
    "            fontweight=\"bold\",\n",
    "        )"
   ]
  },
  {
   "cell_type": "code",
   "execution_count": 26,
   "metadata": {
    "execution": {
     "iopub.execute_input": "2020-12-18T19:28:15.618958Z",
     "iopub.status.busy": "2020-12-18T19:28:15.618550Z",
     "iopub.status.idle": "2020-12-18T19:28:15.620424Z",
     "shell.execute_reply": "2020-12-18T19:28:15.620121Z"
    },
    "papermill": {
     "duration": 0.031482,
     "end_time": "2020-12-18T19:28:15.620508",
     "exception": false,
     "start_time": "2020-12-18T19:28:15.589026",
     "status": "completed"
    },
    "tags": []
   },
   "outputs": [],
   "source": [
    "def predict(model, test_loader):\n",
    "    with torch.no_grad():\n",
    "        logits = []\n",
    "\n",
    "        for inputs, _ in test_loader:\n",
    "            inputs = inputs.to(DEVICE)\n",
    "            model.eval()\n",
    "            outputs = model(inputs).cpu()\n",
    "            logits.append(outputs)\n",
    "\n",
    "    probs = nn.functional.softmax(torch.cat(logits), dim=-1).numpy()\n",
    "    return probs"
   ]
  },
  {
   "cell_type": "code",
   "execution_count": 27,
   "metadata": {
    "execution": {
     "iopub.execute_input": "2020-12-18T19:28:15.684867Z",
     "iopub.status.busy": "2020-12-18T19:28:15.683543Z",
     "iopub.status.idle": "2020-12-18T19:28:16.367324Z",
     "shell.execute_reply": "2020-12-18T19:28:16.367033Z"
    },
    "papermill": {
     "duration": 0.722328,
     "end_time": "2020-12-18T19:28:16.367409",
     "exception": false,
     "start_time": "2020-12-18T19:28:15.645081",
     "status": "completed"
    },
    "tags": []
   },
   "outputs": [
    {
     "data": {
      "image/png": "[encoded data removed]",
      "text/plain": [
       "<Figure size 864x864 with 9 Axes>"
      ]
     },
     "metadata": {
      "needs_background": "light"
     },
     "output_type": "display_data"
    }
   ],
   "source": [
    "show_some_predictions(loaders_dict, best_result[\"lmodule_best\"])"
   ]
  },
  {
   "cell_type": "markdown",
   "metadata": {
    "papermill": {
     "duration": 0.026,
     "end_time": "2020-12-18T19:28:16.424112",
     "exception": false,
     "start_time": "2020-12-18T19:28:16.398112",
     "status": "completed"
    },
    "tags": []
   },
   "source": [
    "### Re-train the model on all available data with the same hyper-parameters"
   ]
  },
  {
   "cell_type": "code",
   "execution_count": 28,
   "metadata": {
    "execution": {
     "iopub.execute_input": "2020-12-18T19:28:16.479008Z",
     "iopub.status.busy": "2020-12-18T19:28:16.478646Z",
     "iopub.status.idle": "2020-12-18T19:28:16.480051Z",
     "shell.execute_reply": "2020-12-18T19:28:16.480485Z"
    },
    "papermill": {
     "duration": 0.030855,
     "end_time": "2020-12-18T19:28:16.480589",
     "exception": false,
     "start_time": "2020-12-18T19:28:16.449734",
     "status": "completed"
    },
    "tags": []
   },
   "outputs": [],
   "source": [
    "FT_TUNE_CONFIG = TUNE_CONFIG.copy()\n",
    "FT_TUNE_CONFIG[\"val_loader_name\"] = None\n",
    "FT_TUNE_CONFIG[\"train_loader_name\"] = \"full_train_loader\"\n",
    "FT_TUNE_CONFIG[\"metric_to_optimize\"] = \"train_f1_epoch\""
   ]
  },
  {
   "cell_type": "code",
   "execution_count": 29,
   "metadata": {
    "execution": {
     "iopub.execute_input": "2020-12-18T19:28:16.535268Z",
     "iopub.status.busy": "2020-12-18T19:28:16.534916Z",
     "iopub.status.idle": "2020-12-18T19:28:16.536553Z",
     "shell.execute_reply": "2020-12-18T19:28:16.536892Z"
    },
    "papermill": {
     "duration": 0.030719,
     "end_time": "2020-12-18T19:28:16.536996",
     "exception": false,
     "start_time": "2020-12-18T19:28:16.506277",
     "status": "completed"
    },
    "tags": []
   },
   "outputs": [],
   "source": [
    "FT_CONFIG = CONFIG.copy()\n",
    "# FT_CONFIG['max_epochs'] = 19\n",
    "FT_CONFIG[\"max_epochs\"] = best_result[\"best_epoch\"]"
   ]
  },
  {
   "cell_type": "code",
   "execution_count": 30,
   "metadata": {
    "execution": {
     "iopub.execute_input": "2020-12-18T19:28:16.590963Z",
     "iopub.status.busy": "2020-12-18T19:28:16.590597Z",
     "iopub.status.idle": "2020-12-18T19:28:17.346612Z",
     "shell.execute_reply": "2020-12-18T19:28:17.346918Z"
    },
    "papermill": {
     "duration": 0.784619,
     "end_time": "2020-12-18T19:28:17.347024",
     "exception": false,
     "start_time": "2020-12-18T19:28:16.562405",
     "status": "completed"
    },
    "tags": []
   },
   "outputs": [
    {
     "name": "stderr",
     "output_type": "stream",
     "text": [
      "GPU available: False, used: False\n"
     ]
    },
    {
     "name": "stderr",
     "output_type": "stream",
     "text": [
      "TPU available: None, using: 0 TPU cores\n"
     ]
    },
    {
     "name": "stderr",
     "output_type": "stream",
     "text": [
      "\n",
      "  | Name              | Type           | Params\n",
      "-----------------------------------------------------\n",
      "0 | model             | Backbone       | 235 K \n",
      "1 | train_metric_calc | LitMetricsCalc | 0     \n",
      "2 | val_metric_calc   | LitMetricsCalc | 0     \n",
      "3 | test_metric_calc  | LitMetricsCalc | 0     \n",
      "-----------------------------------------------------\n",
      "0         Trainable params\n",
      "235 K     Non-trainable params\n",
      "235 K     Total params\n"
     ]
    },
    {
     "data": {
      "application/vnd.jupyter.widget-view+json": {
       "model_id": "39efd5244e1549d0a366d09e307bf66e",
       "version_major": 2,
       "version_minor": 0
      },
      "text/plain": [
       "HBox(children=(HTML(value='Validation sanity check'), FloatProgress(value=1.0, bar_style='info', layout=Layout…"
      ]
     },
     "metadata": {},
     "output_type": "display_data"
    },
    {
     "data": {
      "application/vnd.jupyter.widget-view+json": {
       "model_id": "6be6b1d68fa54a499931581589e0587f",
       "version_major": 2,
       "version_minor": 0
      },
      "text/plain": [
       "HBox(children=(HTML(value='Training'), FloatProgress(value=1.0, bar_style='info', layout=Layout(flex='2'), max…"
      ]
     },
     "metadata": {},
     "output_type": "display_data"
    },
    {
     "name": "stdout",
     "output_type": "stream",
     "text": [
      "\r",
      "|   Train |   train_f1 |   train_acc |   train_rec |   train_prec |   train_loss |\n",
      "|--------:|-----------:|------------:|------------:|-------------:|-------------:|\n",
      "|       0 |      0.036 |      0.1047 |      0.1056 |       0.1254 |       2.3024 |\n"
     ]
    },
    {
     "data": {
      "application/vnd.jupyter.widget-view+json": {
       "model_id": "d57ea7dd585b499ea313fcb25298a7ee",
       "version_major": 2,
       "version_minor": 0
      },
      "text/plain": [
       "HBox(children=(HTML(value='Training'), FloatProgress(value=1.0, bar_style='info', layout=Layout(flex='2'), max…"
      ]
     },
     "metadata": {},
     "output_type": "display_data"
    },
    {
     "name": "stdout",
     "output_type": "stream",
     "text": [
      "\r",
      "|   Train |   train_f1 |   train_acc |   train_rec |   train_prec |   train_loss |\n",
      "|--------:|-----------:|------------:|------------:|-------------:|-------------:|\n",
      "|       1 |      0.027 |      0.1016 |      0.1017 |       0.0486 |       2.3015 |\n"
     ]
    },
    {
     "data": {
      "application/vnd.jupyter.widget-view+json": {
       "model_id": "e69dd638f88a4c75abef6967648148ec",
       "version_major": 2,
       "version_minor": 0
      },
      "text/plain": [
       "HBox(children=(HTML(value='Training'), FloatProgress(value=1.0, bar_style='info', layout=Layout(flex='2'), max…"
      ]
     },
     "metadata": {},
     "output_type": "display_data"
    },
    {
     "name": "stdout",
     "output_type": "stream",
     "text": [
      "\r",
      "|   Train |   train_f1 |   train_acc |   train_rec |   train_prec |   train_loss |\n",
      "|--------:|-----------:|------------:|------------:|-------------:|-------------:|\n",
      "|       2 |     0.0277 |      0.1016 |      0.0994 |       0.0207 |       2.3005 |\n"
     ]
    },
    {
     "data": {
      "application/vnd.jupyter.widget-view+json": {
       "model_id": "21dc871a5a1b46a692c17bb36508a55d",
       "version_major": 2,
       "version_minor": 0
      },
      "text/plain": [
       "HBox(children=(HTML(value='Training'), FloatProgress(value=1.0, bar_style='info', layout=Layout(flex='2'), max…"
      ]
     },
     "metadata": {},
     "output_type": "display_data"
    },
    {
     "data": {
      "application/vnd.jupyter.widget-view+json": {
       "model_id": "0dccc138027646d2a7f481483f663d34",
       "version_major": 2,
       "version_minor": 0
      },
      "text/plain": [
       "HBox(children=(HTML(value='Testing'), FloatProgress(value=1.0, bar_style='info', layout=Layout(flex='2'), max=…"
      ]
     },
     "metadata": {},
     "output_type": "display_data"
    },
    {
     "name": "stdout",
     "output_type": "stream",
     "text": [
      "\r",
      "\r",
      "|   Test |   train_f1 |   test_f1 |   train_acc |   test_acc |   train_rec |   test_rec |   train_prec |   test_prec |   train_loss |   test_loss |\n",
      "|-------:|-----------:|----------:|------------:|-----------:|------------:|-----------:|-------------:|------------:|-------------:|------------:|\n",
      "|      2 |     0.0277 |    0.0202 |      0.1016 |     0.0688 |      0.0994 |      0.101 |       0.0207 |      0.0162 |       2.3005 |      2.3025 |\n"
     ]
    }
   ],
   "source": [
    "full_train_result = ptl_ray_runner.run_single_trial(\n",
    "    LMODULE_CLASS,\n",
    "    FT_CONFIG,\n",
    "    FT_TUNE_CONFIG,\n",
    ")"
   ]
  },
  {
   "cell_type": "code",
   "execution_count": 31,
   "metadata": {
    "execution": {
     "iopub.execute_input": "2020-12-18T19:28:17.409863Z",
     "iopub.status.busy": "2020-12-18T19:28:17.409420Z",
     "iopub.status.idle": "2020-12-18T19:28:17.412633Z",
     "shell.execute_reply": "2020-12-18T19:28:17.412278Z"
    },
    "papermill": {
     "duration": 0.034993,
     "end_time": "2020-12-18T19:28:17.412718",
     "exception": false,
     "start_time": "2020-12-18T19:28:17.377725",
     "status": "completed"
    },
    "tags": []
   },
   "outputs": [
    {
     "data": {
      "text/plain": [
       "\"\\nFT_REVAL_TUNE_CONFIG = FT_TUNE_CONFIG.copy()\\nFT_REVAL_TUNE_CONFIG['val_loader_name'] = 'full_train_loader'\\n\""
      ]
     },
     "execution_count": 31,
     "metadata": {},
     "output_type": "execute_result"
    }
   ],
   "source": [
    "\"\"\"\n",
    "FT_REVAL_TUNE_CONFIG = FT_TUNE_CONFIG.copy()\n",
    "FT_REVAL_TUNE_CONFIG['val_loader_name'] = 'full_train_loader'\n",
    "\"\"\""
   ]
  },
  {
   "cell_type": "code",
   "execution_count": 32,
   "metadata": {
    "execution": {
     "iopub.execute_input": "2020-12-18T19:28:17.475457Z",
     "iopub.status.busy": "2020-12-18T19:28:17.475071Z",
     "iopub.status.idle": "2020-12-18T19:28:17.605076Z",
     "shell.execute_reply": "2020-12-18T19:28:17.605339Z"
    },
    "papermill": {
     "duration": 0.163911,
     "end_time": "2020-12-18T19:28:17.605444",
     "exception": false,
     "start_time": "2020-12-18T19:28:17.441533",
     "status": "completed"
    },
    "pycharm": {
     "name": "#%%\n"
    },
    "tags": []
   },
   "outputs": [
    {
     "data": {
      "application/vnd.jupyter.widget-view+json": {
       "model_id": "da2271258d704699b411acbbad58af6d",
       "version_major": 2,
       "version_minor": 0
      },
      "text/plain": [
       "HBox(children=(HTML(value='Testing'), FloatProgress(value=1.0, bar_style='info', layout=Layout(flex='2'), max=…"
      ]
     },
     "metadata": {},
     "output_type": "display_data"
    },
    {
     "name": "stdout",
     "output_type": "stream",
     "text": [
      "\r",
      "\r",
      "|   Test |   train_f1 |   test_f1 |   train_acc |   test_acc |   train_rec |   test_rec |   train_prec |   test_prec |   train_loss |   test_loss |\n",
      "|-------:|-----------:|----------:|------------:|-----------:|------------:|-----------:|-------------:|------------:|-------------:|------------:|\n",
      "|      2 |     0.0277 |    0.0202 |      0.1016 |     0.0688 |      0.0994 |      0.101 |       0.0207 |      0.0162 |       2.3005 |      2.3025 |\n"
     ]
    }
   ],
   "source": [
    "lmodule_best = full_train_result[\"lmodule_best\"]\n",
    "loaders_dict = configure_dataloaders(\n",
    "    FT_CONFIG[\"batch_size\"], n_workers=FT_TUNE_CONFIG[\"cpu_per_trial\"]\n",
    ")\n",
    "train_repeated_result = full_train_result[\"trainer\"].test(\n",
    "    lmodule_best, test_dataloaders=loaders_dict[\"test_loader\"], verbose=False\n",
    ")"
   ]
  },
  {
   "cell_type": "code",
   "execution_count": 33,
   "metadata": {
    "collapsed": false,
    "execution": {
     "iopub.execute_input": "2020-12-18T19:28:17.675650Z",
     "iopub.status.busy": "2020-12-18T19:28:17.672713Z",
     "iopub.status.idle": "2020-12-18T19:28:18.416057Z",
     "shell.execute_reply": "2020-12-18T19:28:18.415705Z"
    },
    "jupyter": {
     "outputs_hidden": false
    },
    "papermill": {
     "duration": 0.780359,
     "end_time": "2020-12-18T19:28:18.416142",
     "exception": false,
     "start_time": "2020-12-18T19:28:17.635783",
     "status": "completed"
    },
    "pycharm": {
     "name": "#%%\n"
    },
    "tags": []
   },
   "outputs": [
    {
     "data": {
      "image/png": "[encoded data removed]",
      "text/plain": [
       "<Figure size 864x864 with 9 Axes>"
      ]
     },
     "metadata": {
      "needs_background": "light"
     },
     "output_type": "display_data"
    }
   ],
   "source": [
    "show_some_predictions(loaders_dict, full_train_result[\"lmodule_best\"])"
   ]
  }
 ],
 "metadata": {
  "accelerator": "GPU",
  "colab": {
   "collapsed_sections": [],
   "machine_shape": "hm",
   "name": "[homework]BERT_for_text_classification.ipynb",
   "provenance": []
  },
  "kernelspec": {
   "display_name": "Python 3",
   "language": "python",
   "name": "python3"
  },
  "language_info": {
   "codemirror_mode": {
    "name": "ipython",
    "version": 3
   },
   "file_extension": ".py",
   "mimetype": "text/x-python",
   "name": "python",
   "nbconvert_exporter": "python",
   "pygments_lexer": "ipython3",
   "version": "3.8.5"
  },
  "papermill": {
   "default_parameters": {},
   "duration": 28.888494,
   "end_time": "2020-12-18T19:28:23.555704",
   "environment_variables": {},
   "exception": null,
   "input_path": "/home/peter/_Git/_DLSchool/pytorch-hyperlight/products/examples/boring_mnist.ipynb",
   "output_path": "boring_mnist.ipynb",
   "parameters": {
    "USAGE_MODE": "hyper-opt"
   },
   "start_time": "2020-12-18T19:27:54.667210",
   "version": "2.2.2"
  },
  "widgets": {
   "application/vnd.jupyter.widget-state+json": {
    "state": {
     "00af975f834049709c6a5484a60779ef": {
      "model_module": "@jupyter-widgets/controls",
      "model_module_version": "1.5.0",
      "model_name": "HTMLModel",
      "state": {
       "_dom_classes": [],
       "_model_module": "@jupyter-widgets/controls",
       "_model_module_version": "1.5.0",
       "_model_name": "HTMLModel",
       "_view_count": null,
       "_view_module": "@jupyter-widgets/controls",
       "_view_module_version": "1.5.0",
       "_view_name": "HTMLView",
       "description": "",
       "description_tooltip": null,
       "layout": "IPY_MODEL_c819e691066c4733a9f2bad5f8c21552",
       "placeholder": "​",
       "style": "IPY_MODEL_f0bbc61d63ea491699cf41e6dc97ab56",
       "value": " 5/5 [00:00&lt;00:00, 51.89it/s]"
      }
     },
     "08417af4eb49473384f6f68909d1f850": {
      "model_module": "@jupyter-widgets/controls",
      "model_module_version": "1.5.0",
      "model_name": "HTMLModel",
      "state": {
       "_dom_classes": [],
       "_model_module": "@jupyter-widgets/controls",
       "_model_module_version": "1.5.0",
       "_model_name": "HTMLModel",
       "_view_count": null,
       "_view_module": "@jupyter-widgets/controls",
       "_view_module_version": "1.5.0",
       "_view_name": "HTMLView",
       "description": "",
       "description_tooltip": null,
       "layout": "IPY_MODEL_cefff01876f24544a3fb12749a410e13",
       "placeholder": "​",
       "style": "IPY_MODEL_e1b25461a9ff40ec98ab5ae9dcaf99c1",
       "value": ""
      }
     },
     "08ab3ab87af7479695d42dd0c6f27dcb": {
      "model_module": "@jupyter-widgets/base",
      "model_module_version": "1.2.0",
      "model_name": "LayoutModel",
      "state": {
       "_model_module": "@jupyter-widgets/base",
       "_model_module_version": "1.2.0",
       "_model_name": "LayoutModel",
       "_view_count": null,
       "_view_module": "@jupyter-widgets/base",
       "_view_module_version": "1.2.0",
       "_view_name": "LayoutView",
       "align_content": null,
       "align_items": null,
       "align_self": null,
       "border": null,
       "bottom": null,
       "display": null,
       "flex": "2",
       "flex_flow": null,
       "grid_area": null,
       "grid_auto_columns": null,
       "grid_auto_flow": null,
       "grid_auto_rows": null,
       "grid_column": null,
       "grid_gap": null,
       "grid_row": null,
       "grid_template_areas": null,
       "grid_template_columns": null,
       "grid_template_rows": null,
       "height": null,
       "justify_content": null,
       "justify_items": null,
       "left": null,
       "margin": null,
       "max_height": null,
       "max_width": null,
       "min_height": null,
       "min_width": null,
       "object_fit": null,
       "object_position": null,
       "order": null,
       "overflow": null,
       "overflow_x": null,
       "overflow_y": null,
       "padding": null,
       "right": null,
       "top": null,
       "visibility": null,
       "width": null
      }
     },
     "0beef81f98314cc4ac60c1ce94a6d57a": {
      "model_module": "@jupyter-widgets/controls",
      "model_module_version": "1.5.0",
      "model_name": "LabelModel",
      "state": {
       "_dom_classes": [],
       "_model_module": "@jupyter-widgets/controls",
       "_model_module_version": "1.5.0",
       "_model_name": "LabelModel",
       "_view_count": null,
       "_view_module": "@jupyter-widgets/controls",
       "_view_module_version": "1.5.0",
       "_view_name": "LabelView",
       "description": "",
       "description_tooltip": null,
       "layout": "IPY_MODEL_309e4dae0d1642fdb543e56f81301bb5",
       "placeholder": "​",
       "style": "IPY_MODEL_bf67166e1e654d088b16c6f643da206d",
       "value": ""
      }
     },
     "0dc106870c0844cba4f5b9f56608f902": {
      "model_module": "@jupyter-widgets/controls",
      "model_module_version": "1.5.0",
      "model_name": "HTMLModel",
      "state": {
       "_dom_classes": [],
       "_model_module": "@jupyter-widgets/controls",
       "_model_module_version": "1.5.0",
       "_model_name": "HTMLModel",
       "_view_count": null,
       "_view_module": "@jupyter-widgets/controls",
       "_view_module_version": "1.5.0",
       "_view_name": "HTMLView",
       "description": "",
       "description_tooltip": null,
       "layout": "IPY_MODEL_7fec48ad4e344d75b7541a47ef0658f2",
       "placeholder": "​",
       "style": "IPY_MODEL_902fa8b04b4c4c698a926488f72f4000",
       "value": " 5/5 [00:00&lt;00:00, 52.38it/s]"
      }
     },
     "0dccc138027646d2a7f481483f663d34": {
      "model_module": "@jupyter-widgets/controls",
      "model_module_version": "1.5.0",
      "model_name": "HBoxModel",
      "state": {
       "_dom_classes": [],
       "_model_module": "@jupyter-widgets/controls",
       "_model_module_version": "1.5.0",
       "_model_name": "HBoxModel",
       "_view_count": null,
       "_view_module": "@jupyter-widgets/controls",
       "_view_module_version": "1.5.0",
       "_view_name": "HBoxView",
       "box_style": "",
       "children": [
        "IPY_MODEL_815d78eb7b494dcfa5901e6b24be570c",
        "IPY_MODEL_0ddc3756b31142638bbe5a680aa50520",
        "IPY_MODEL_81cb5022804f4bc3bbd823970329e105"
       ],
       "layout": "IPY_MODEL_cd6ffa44e8204d0fbb83b78decec9264"
      }
     },
     "0ddc3756b31142638bbe5a680aa50520": {
      "model_module": "@jupyter-widgets/controls",
      "model_module_version": "1.5.0",
      "model_name": "FloatProgressModel",
      "state": {
       "_dom_classes": [],
       "_model_module": "@jupyter-widgets/controls",
       "_model_module_version": "1.5.0",
       "_model_name": "FloatProgressModel",
       "_view_count": null,
       "_view_module": "@jupyter-widgets/controls",
       "_view_module_version": "1.5.0",
       "_view_name": "ProgressView",
       "bar_style": "info",
       "description": "",
       "description_tooltip": null,
       "layout": "IPY_MODEL_2b07cee42df14cca898e9c99e48c66ee",
       "max": 1.0,
       "min": 0.0,
       "orientation": "horizontal",
       "style": "IPY_MODEL_dcb914e77c064e52a00b911d792ec3d7",
       "value": 1.0
      }
     },
     "157624a54d1342379206861415214a59": {
      "model_module": "@jupyter-widgets/base",
      "model_module_version": "1.2.0",
      "model_name": "LayoutModel",
      "state": {
       "_model_module": "@jupyter-widgets/base",
       "_model_module_version": "1.2.0",
       "_model_name": "LayoutModel",
       "_view_count": null,
       "_view_module": "@jupyter-widgets/base",
       "_view_module_version": "1.2.0",
       "_view_name": "LayoutView",
       "align_content": null,
       "align_items": null,
       "align_self": null,
       "border": null,
       "bottom": null,
       "display": null,
       "flex": null,
       "flex_flow": null,
       "grid_area": null,
       "grid_auto_columns": null,
       "grid_auto_flow": null,
       "grid_auto_rows": null,
       "grid_column": null,
       "grid_gap": null,
       "grid_row": null,
       "grid_template_areas": null,
       "grid_template_columns": null,
       "grid_template_rows": null,
       "height": null,
       "justify_content": null,
       "justify_items": null,
       "left": null,
       "margin": null,
       "max_height": null,
       "max_width": null,
       "min_height": null,
       "min_width": null,
       "object_fit": null,
       "object_position": null,
       "order": null,
       "overflow": null,
       "overflow_x": null,
       "overflow_y": null,
       "padding": null,
       "right": null,
       "top": null,
       "visibility": null,
       "width": null
      }
     },
     "186f0f25e22542fd8ab073cb066ae182": {
      "model_module": "@jupyter-widgets/controls",
      "model_module_version": "1.5.0",
      "model_name": "HTMLModel",
      "state": {
       "_dom_classes": [],
       "_model_module": "@jupyter-widgets/controls",
       "_model_module_version": "1.5.0",
       "_model_name": "HTMLModel",
       "_view_count": null,
       "_view_module": "@jupyter-widgets/controls",
       "_view_module_version": "1.5.0",
       "_view_name": "HTMLView",
       "description": "",
       "description_tooltip": null,
       "layout": "IPY_MODEL_319211d60341457495e90317b7170846",
       "placeholder": "​",
       "style": "IPY_MODEL_58ccb2f3baa346a397636076e39bb43a",
       "value": "Epoch 2: 100%"
      }
     },
     "20607e7cfb294215b9877fb4d68c712d": {
      "model_module": "@jupyter-widgets/base",
      "model_module_version": "1.2.0",
      "model_name": "LayoutModel",
      "state": {
       "_model_module": "@jupyter-widgets/base",
       "_model_module_version": "1.2.0",
       "_model_name": "LayoutModel",
       "_view_count": null,
       "_view_module": "@jupyter-widgets/base",
       "_view_module_version": "1.2.0",
       "_view_name": "LayoutView",
       "align_content": null,
       "align_items": null,
       "align_self": null,
       "border": null,
       "bottom": null,
       "display": null,
       "flex": "2",
       "flex_flow": null,
       "grid_area": null,
       "grid_auto_columns": null,
       "grid_auto_flow": null,
       "grid_auto_rows": null,
       "grid_column": null,
       "grid_gap": null,
       "grid_row": null,
       "grid_template_areas": null,
       "grid_template_columns": null,
       "grid_template_rows": null,
       "height": null,
       "justify_content": null,
       "justify_items": null,
       "left": null,
       "margin": null,
       "max_height": null,
       "max_width": null,
       "min_height": null,
       "min_width": null,
       "object_fit": null,
       "object_position": null,
       "order": null,
       "overflow": null,
       "overflow_x": null,
       "overflow_y": null,
       "padding": null,
       "right": null,
       "top": null,
       "visibility": null,
       "width": null
      }
     },
     "2153652e8ad2462985f756ec72ec9dde": {
      "model_module": "@jupyter-widgets/controls",
      "model_module_version": "1.5.0",
      "model_name": "DescriptionStyleModel",
      "state": {
       "_model_module": "@jupyter-widgets/controls",
       "_model_module_version": "1.5.0",
       "_model_name": "DescriptionStyleModel",
       "_view_count": null,
       "_view_module": "@jupyter-widgets/base",
       "_view_module_version": "1.2.0",
       "_view_name": "StyleView",
       "description_width": ""
      }
     },
     "21bb05e067954df9b132d33ba34e2d39": {
      "model_module": "@jupyter-widgets/controls",
      "model_module_version": "1.5.0",
      "model_name": "ProgressStyleModel",
      "state": {
       "_model_module": "@jupyter-widgets/controls",
       "_model_module_version": "1.5.0",
       "_model_name": "ProgressStyleModel",
       "_view_count": null,
       "_view_module": "@jupyter-widgets/base",
       "_view_module_version": "1.2.0",
       "_view_name": "StyleView",
       "bar_color": null,
       "description_width": ""
      }
     },
     "21dc871a5a1b46a692c17bb36508a55d": {
      "model_module": "@jupyter-widgets/controls",
      "model_module_version": "1.5.0",
      "model_name": "HBoxModel",
      "state": {
       "_dom_classes": [],
       "_model_module": "@jupyter-widgets/controls",
       "_model_module_version": "1.5.0",
       "_model_name": "HBoxModel",
       "_view_count": null,
       "_view_module": "@jupyter-widgets/controls",
       "_view_module_version": "1.5.0",
       "_view_name": "HBoxView",
       "box_style": "",
       "children": [
        "IPY_MODEL_a23da24b80b64d9eb3a664e31a7f0152",
        "IPY_MODEL_a9d7d0ea314d41eda99318776e9fb3dd",
        "IPY_MODEL_2e70f2a8b0534f33bc0cc9b9cb24f620"
       ],
       "layout": "IPY_MODEL_bccd1a15077043b5a4833ce4d55deab5"
      }
     },
     "26f4ca117be34c069937bfc8af820406": {
      "model_module": "@jupyter-widgets/controls",
      "model_module_version": "1.5.0",
      "model_name": "FloatProgressModel",
      "state": {
       "_dom_classes": [],
       "_model_module": "@jupyter-widgets/controls",
       "_model_module_version": "1.5.0",
       "_model_name": "FloatProgressModel",
       "_view_count": null,
       "_view_module": "@jupyter-widgets/controls",
       "_view_module_version": "1.5.0",
       "_view_name": "ProgressView",
       "bar_style": "",
       "description": "",
       "description_tooltip": null,
       "layout": "IPY_MODEL_4c217a8b9b694ebabd80c0ed9f6d0591",
       "max": 10.0,
       "min": 0.0,
       "orientation": "horizontal",
       "style": "IPY_MODEL_21bb05e067954df9b132d33ba34e2d39",
       "value": 10.0
      }
     },
     "29e492dd4f114b939336a04dcf6b06ac": {
      "model_module": "@jupyter-widgets/base",
      "model_module_version": "1.2.0",
      "model_name": "LayoutModel",
      "state": {
       "_model_module": "@jupyter-widgets/base",
       "_model_module_version": "1.2.0",
       "_model_name": "LayoutModel",
       "_view_count": null,
       "_view_module": "@jupyter-widgets/base",
       "_view_module_version": "1.2.0",
       "_view_name": "LayoutView",
       "align_content": null,
       "align_items": null,
       "align_self": null,
       "border": null,
       "bottom": null,
       "display": null,
       "flex": null,
       "flex_flow": null,
       "grid_area": null,
       "grid_auto_columns": null,
       "grid_auto_flow": null,
       "grid_auto_rows": null,
       "grid_column": null,
       "grid_gap": null,
       "grid_row": null,
       "grid_template_areas": null,
       "grid_template_columns": null,
       "grid_template_rows": null,
       "height": null,
       "justify_content": null,
       "justify_items": null,
       "left": null,
       "margin": null,
       "max_height": null,
       "max_width": null,
       "min_height": null,
       "min_width": null,
       "object_fit": null,
       "object_position": null,
       "order": null,
       "overflow": null,
       "overflow_x": null,
       "overflow_y": null,
       "padding": null,
       "right": null,
       "top": null,
       "visibility": null,
       "width": null
      }
     },
     "2b07cee42df14cca898e9c99e48c66ee": {
      "model_module": "@jupyter-widgets/base",
      "model_module_version": "1.2.0",
      "model_name": "LayoutModel",
      "state": {
       "_model_module": "@jupyter-widgets/base",
       "_model_module_version": "1.2.0",
       "_model_name": "LayoutModel",
       "_view_count": null,
       "_view_module": "@jupyter-widgets/base",
       "_view_module_version": "1.2.0",
       "_view_name": "LayoutView",
       "align_content": null,
       "align_items": null,
       "align_self": null,
       "border": null,
       "bottom": null,
       "display": null,
       "flex": "2",
       "flex_flow": null,
       "grid_area": null,
       "grid_auto_columns": null,
       "grid_auto_flow": null,
       "grid_auto_rows": null,
       "grid_column": null,
       "grid_gap": null,
       "grid_row": null,
       "grid_template_areas": null,
       "grid_template_columns": null,
       "grid_template_rows": null,
       "height": null,
       "justify_content": null,
       "justify_items": null,
       "left": null,
       "margin": null,
       "max_height": null,
       "max_width": null,
       "min_height": null,
       "min_width": null,
       "object_fit": null,
       "object_position": null,
       "order": null,
       "overflow": null,
       "overflow_x": null,
       "overflow_y": null,
       "padding": null,
       "right": null,
       "top": null,
       "visibility": null,
       "width": null
      }
     },
     "2ba5eb4ee99b43bfa51d90d5e73ed53c": {
      "model_module": "@jupyter-widgets/controls",
      "model_module_version": "1.5.0",
      "model_name": "DescriptionStyleModel",
      "state": {
       "_model_module": "@jupyter-widgets/controls",
       "_model_module_version": "1.5.0",
       "_model_name": "DescriptionStyleModel",
       "_view_count": null,
       "_view_module": "@jupyter-widgets/base",
       "_view_module_version": "1.2.0",
       "_view_name": "StyleView",
       "description_width": ""
      }
     },
     "2e70f2a8b0534f33bc0cc9b9cb24f620": {
      "model_module": "@jupyter-widgets/controls",
      "model_module_version": "1.5.0",
      "model_name": "HTMLModel",
      "state": {
       "_dom_classes": [],
       "_model_module": "@jupyter-widgets/controls",
       "_model_module_version": "1.5.0",
       "_model_name": "HTMLModel",
       "_view_count": null,
       "_view_module": "@jupyter-widgets/controls",
       "_view_module_version": "1.5.0",
       "_view_name": "HTMLView",
       "description": "",
       "description_tooltip": null,
       "layout": "IPY_MODEL_b7aa6b07df9442119f4ae70d6349d177",
       "placeholder": "​",
       "style": "IPY_MODEL_902bc69117994b20ab225c666582c06d",
       "value": "Training: 10it [00:00, ?it/s]"
      }
     },
     "309e4dae0d1642fdb543e56f81301bb5": {
      "model_module": "@jupyter-widgets/base",
      "model_module_version": "1.2.0",
      "model_name": "LayoutModel",
      "state": {
       "_model_module": "@jupyter-widgets/base",
       "_model_module_version": "1.2.0",
       "_model_name": "LayoutModel",
       "_view_count": null,
       "_view_module": "@jupyter-widgets/base",
       "_view_module_version": "1.2.0",
       "_view_name": "LayoutView",
       "align_content": null,
       "align_items": null,
       "align_self": null,
       "border": null,
       "bottom": null,
       "display": null,
       "flex": null,
       "flex_flow": null,
       "grid_area": null,
       "grid_auto_columns": null,
       "grid_auto_flow": null,
       "grid_auto_rows": null,
       "grid_column": null,
       "grid_gap": null,
       "grid_row": null,
       "grid_template_areas": null,
       "grid_template_columns": null,
       "grid_template_rows": null,
       "height": null,
       "justify_content": null,
       "justify_items": null,
       "left": null,
       "margin": null,
       "max_height": null,
       "max_width": null,
       "min_height": null,
       "min_width": null,
       "object_fit": null,
       "object_position": null,
       "order": null,
       "overflow": null,
       "overflow_x": null,
       "overflow_y": null,
       "padding": null,
       "right": null,
       "top": null,
       "visibility": null,
       "width": null
      }
     },
     "319211d60341457495e90317b7170846": {
      "model_module": "@jupyter-widgets/base",
      "model_module_version": "1.2.0",
      "model_name": "LayoutModel",
      "state": {
       "_model_module": "@jupyter-widgets/base",
       "_model_module_version": "1.2.0",
       "_model_name": "LayoutModel",
       "_view_count": null,
       "_view_module": "@jupyter-widgets/base",
       "_view_module_version": "1.2.0",
       "_view_name": "LayoutView",
       "align_content": null,
       "align_items": null,
       "align_self": null,
       "border": null,
       "bottom": null,
       "display": null,
       "flex": null,
       "flex_flow": null,
       "grid_area": null,
       "grid_auto_columns": null,
       "grid_auto_flow": null,
       "grid_auto_rows": null,
       "grid_column": null,
       "grid_gap": null,
       "grid_row": null,
       "grid_template_areas": null,
       "grid_template_columns": null,
       "grid_template_rows": null,
       "height": null,
       "justify_content": null,
       "justify_items": null,
       "left": null,
       "margin": null,
       "max_height": null,
       "max_width": null,
       "min_height": null,
       "min_width": null,
       "object_fit": null,
       "object_position": null,
       "order": null,
       "overflow": null,
       "overflow_x": null,
       "overflow_y": null,
       "padding": null,
       "right": null,
       "top": null,
       "visibility": null,
       "width": null
      }
     },
     "3295a555e8084048ad6ad9d961b2e736": {
      "model_module": "@jupyter-widgets/controls",
      "model_module_version": "1.5.0",
      "model_name": "ProgressStyleModel",
      "state": {
       "_model_module": "@jupyter-widgets/controls",
       "_model_module_version": "1.5.0",
       "_model_name": "ProgressStyleModel",
       "_view_count": null,
       "_view_module": "@jupyter-widgets/base",
       "_view_module_version": "1.2.0",
       "_view_name": "StyleView",
       "bar_color": null,
       "description_width": ""
      }
     },
     "3300f4e767024ec580b7868d06f72b1a": {
      "model_module": "@jupyter-widgets/base",
      "model_module_version": "1.2.0",
      "model_name": "LayoutModel",
      "state": {
       "_model_module": "@jupyter-widgets/base",
       "_model_module_version": "1.2.0",
       "_model_name": "LayoutModel",
       "_view_count": null,
       "_view_module": "@jupyter-widgets/base",
       "_view_module_version": "1.2.0",
       "_view_name": "LayoutView",
       "align_content": null,
       "align_items": null,
       "align_self": null,
       "border": null,
       "bottom": null,
       "display": null,
       "flex": null,
       "flex_flow": null,
       "grid_area": null,
       "grid_auto_columns": null,
       "grid_auto_flow": null,
       "grid_auto_rows": null,
       "grid_column": null,
       "grid_gap": null,
       "grid_row": null,
       "grid_template_areas": null,
       "grid_template_columns": null,
       "grid_template_rows": null,
       "height": null,
       "justify_content": null,
       "justify_items": null,
       "left": null,
       "margin": null,
       "max_height": null,
       "max_width": null,
       "min_height": null,
       "min_width": null,
       "object_fit": null,
       "object_position": null,
       "order": null,
       "overflow": null,
       "overflow_x": null,
       "overflow_y": null,
       "padding": null,
       "right": null,
       "top": null,
       "visibility": null,
       "width": null
      }
     },
     "33f9e0ff431e4e14954026d98f60f889": {
      "model_module": "@jupyter-widgets/base",
      "model_module_version": "1.2.0",
      "model_name": "LayoutModel",
      "state": {
       "_model_module": "@jupyter-widgets/base",
       "_model_module_version": "1.2.0",
       "_model_name": "LayoutModel",
       "_view_count": null,
       "_view_module": "@jupyter-widgets/base",
       "_view_module_version": "1.2.0",
       "_view_name": "LayoutView",
       "align_content": null,
       "align_items": null,
       "align_self": null,
       "border": null,
       "bottom": null,
       "display": null,
       "flex": null,
       "flex_flow": null,
       "grid_area": null,
       "grid_auto_columns": null,
       "grid_auto_flow": null,
       "grid_auto_rows": null,
       "grid_column": null,
       "grid_gap": null,
       "grid_row": null,
       "grid_template_areas": null,
       "grid_template_columns": null,
       "grid_template_rows": null,
       "height": null,
       "justify_content": null,
       "justify_items": null,
       "left": null,
       "margin": null,
       "max_height": null,
       "max_width": null,
       "min_height": null,
       "min_width": null,
       "object_fit": null,
       "object_position": null,
       "order": null,
       "overflow": null,
       "overflow_x": null,
       "overflow_y": null,
       "padding": null,
       "right": null,
       "top": null,
       "visibility": null,
       "width": null
      }
     },
     "39efd5244e1549d0a366d09e307bf66e": {
      "model_module": "@jupyter-widgets/controls",
      "model_module_version": "1.5.0",
      "model_name": "HBoxModel",
      "state": {
       "_dom_classes": [],
       "_model_module": "@jupyter-widgets/controls",
       "_model_module_version": "1.5.0",
       "_model_name": "HBoxModel",
       "_view_count": null,
       "_view_module": "@jupyter-widgets/controls",
       "_view_module_version": "1.5.0",
       "_view_name": "HBoxView",
       "box_style": "",
       "children": [
        "IPY_MODEL_08417af4eb49473384f6f68909d1f850",
        "IPY_MODEL_610889a3d1f14dfb8f9c478162bc9156",
        "IPY_MODEL_871024ec06694c21abe6e7bd10f6d011"
       ],
       "layout": "IPY_MODEL_c4f868d8ee2c4af68dbfd46e4085ac70"
      }
     },
     "39f7c6366e7b47828dd0708a64d10e36": {
      "model_module": "@jupyter-widgets/controls",
      "model_module_version": "1.5.0",
      "model_name": "ProgressStyleModel",
      "state": {
       "_model_module": "@jupyter-widgets/controls",
       "_model_module_version": "1.5.0",
       "_model_name": "ProgressStyleModel",
       "_view_count": null,
       "_view_module": "@jupyter-widgets/base",
       "_view_module_version": "1.2.0",
       "_view_name": "StyleView",
       "bar_color": null,
       "description_width": ""
      }
     },
     "3abed351cf3e437499a3d5a0acea0718": {
      "model_module": "@jupyter-widgets/controls",
      "model_module_version": "1.5.0",
      "model_name": "FloatProgressModel",
      "state": {
       "_dom_classes": [],
       "_model_module": "@jupyter-widgets/controls",
       "_model_module_version": "1.5.0",
       "_model_name": "FloatProgressModel",
       "_view_count": null,
       "_view_module": "@jupyter-widgets/controls",
       "_view_module_version": "1.5.0",
       "_view_name": "ProgressView",
       "bar_style": "",
       "description": "",
       "description_tooltip": null,
       "layout": "IPY_MODEL_08ab3ab87af7479695d42dd0c6f27dcb",
       "max": 10.0,
       "min": 0.0,
       "orientation": "horizontal",
       "style": "IPY_MODEL_541212fbdbda4291a830f66712b00af3",
       "value": 10.0
      }
     },
     "3dd8e38dacbc49e08a3a4862ba4403a8": {
      "model_module": "@jupyter-widgets/base",
      "model_module_version": "1.2.0",
      "model_name": "LayoutModel",
      "state": {
       "_model_module": "@jupyter-widgets/base",
       "_model_module_version": "1.2.0",
       "_model_name": "LayoutModel",
       "_view_count": null,
       "_view_module": "@jupyter-widgets/base",
       "_view_module_version": "1.2.0",
       "_view_name": "LayoutView",
       "align_content": null,
       "align_items": null,
       "align_self": null,
       "border": null,
       "bottom": null,
       "display": null,
       "flex": null,
       "flex_flow": null,
       "grid_area": null,
       "grid_auto_columns": null,
       "grid_auto_flow": null,
       "grid_auto_rows": null,
       "grid_column": null,
       "grid_gap": null,
       "grid_row": null,
       "grid_template_areas": null,
       "grid_template_columns": null,
       "grid_template_rows": null,
       "height": null,
       "justify_content": null,
       "justify_items": null,
       "left": null,
       "margin": null,
       "max_height": null,
       "max_width": null,
       "min_height": null,
       "min_width": null,
       "object_fit": null,
       "object_position": null,
       "order": null,
       "overflow": null,
       "overflow_x": null,
       "overflow_y": null,
       "padding": null,
       "right": null,
       "top": null,
       "visibility": null,
       "width": null
      }
     },
     "41b5f221a94f41b2b825348b42ad4c0f": {
      "model_module": "@jupyter-widgets/controls",
      "model_module_version": "1.5.0",
      "model_name": "HTMLModel",
      "state": {
       "_dom_classes": [],
       "_model_module": "@jupyter-widgets/controls",
       "_model_module_version": "1.5.0",
       "_model_name": "HTMLModel",
       "_view_count": null,
       "_view_module": "@jupyter-widgets/controls",
       "_view_module_version": "1.5.0",
       "_view_name": "HTMLView",
       "description": "",
       "description_tooltip": null,
       "layout": "IPY_MODEL_33f9e0ff431e4e14954026d98f60f889",
       "placeholder": "​",
       "style": "IPY_MODEL_53bbe2e74b55454a912dad283aeb76aa",
       "value": " 5/5 [00:00&lt;00:00, 57.00it/s]"
      }
     },
     "468749e05e994284b6e5ffcd004efa6f": {
      "model_module": "@jupyter-widgets/base",
      "model_module_version": "1.2.0",
      "model_name": "LayoutModel",
      "state": {
       "_model_module": "@jupyter-widgets/base",
       "_model_module_version": "1.2.0",
       "_model_name": "LayoutModel",
       "_view_count": null,
       "_view_module": "@jupyter-widgets/base",
       "_view_module_version": "1.2.0",
       "_view_name": "LayoutView",
       "align_content": null,
       "align_items": null,
       "align_self": null,
       "border": null,
       "bottom": null,
       "display": null,
       "flex": null,
       "flex_flow": null,
       "grid_area": null,
       "grid_auto_columns": null,
       "grid_auto_flow": null,
       "grid_auto_rows": null,
       "grid_column": null,
       "grid_gap": null,
       "grid_row": null,
       "grid_template_areas": null,
       "grid_template_columns": null,
       "grid_template_rows": null,
       "height": null,
       "justify_content": null,
       "justify_items": null,
       "left": null,
       "margin": null,
       "max_height": null,
       "max_width": null,
       "min_height": null,
       "min_width": null,
       "object_fit": null,
       "object_position": null,
       "order": null,
       "overflow": null,
       "overflow_x": null,
       "overflow_y": null,
       "padding": null,
       "right": null,
       "top": null,
       "visibility": null,
       "width": null
      }
     },
     "4c217a8b9b694ebabd80c0ed9f6d0591": {
      "model_module": "@jupyter-widgets/base",
      "model_module_version": "1.2.0",
      "model_name": "LayoutModel",
      "state": {
       "_model_module": "@jupyter-widgets/base",
       "_model_module_version": "1.2.0",
       "_model_name": "LayoutModel",
       "_view_count": null,
       "_view_module": "@jupyter-widgets/base",
       "_view_module_version": "1.2.0",
       "_view_name": "LayoutView",
       "align_content": null,
       "align_items": null,
       "align_self": null,
       "border": null,
       "bottom": null,
       "display": null,
       "flex": "2",
       "flex_flow": null,
       "grid_area": null,
       "grid_auto_columns": null,
       "grid_auto_flow": null,
       "grid_auto_rows": null,
       "grid_column": null,
       "grid_gap": null,
       "grid_row": null,
       "grid_template_areas": null,
       "grid_template_columns": null,
       "grid_template_rows": null,
       "height": null,
       "justify_content": null,
       "justify_items": null,
       "left": null,
       "margin": null,
       "max_height": null,
       "max_width": null,
       "min_height": null,
       "min_width": null,
       "object_fit": null,
       "object_position": null,
       "order": null,
       "overflow": null,
       "overflow_x": null,
       "overflow_y": null,
       "padding": null,
       "right": null,
       "top": null,
       "visibility": null,
       "width": null
      }
     },
     "4f586bcf3c6845b9b4d3e8336ffd3180": {
      "model_module": "@jupyter-widgets/base",
      "model_module_version": "1.2.0",
      "model_name": "LayoutModel",
      "state": {
       "_model_module": "@jupyter-widgets/base",
       "_model_module_version": "1.2.0",
       "_model_name": "LayoutModel",
       "_view_count": null,
       "_view_module": "@jupyter-widgets/base",
       "_view_module_version": "1.2.0",
       "_view_name": "LayoutView",
       "align_content": null,
       "align_items": null,
       "align_self": null,
       "border": null,
       "bottom": null,
       "display": null,
       "flex": null,
       "flex_flow": null,
       "grid_area": null,
       "grid_auto_columns": null,
       "grid_auto_flow": null,
       "grid_auto_rows": null,
       "grid_column": null,
       "grid_gap": null,
       "grid_row": null,
       "grid_template_areas": null,
       "grid_template_columns": null,
       "grid_template_rows": null,
       "height": null,
       "justify_content": null,
       "justify_items": null,
       "left": null,
       "margin": null,
       "max_height": null,
       "max_width": null,
       "min_height": null,
       "min_width": null,
       "object_fit": null,
       "object_position": null,
       "order": null,
       "overflow": null,
       "overflow_x": null,
       "overflow_y": null,
       "padding": null,
       "right": null,
       "top": null,
       "visibility": null,
       "width": null
      }
     },
     "53bbe2e74b55454a912dad283aeb76aa": {
      "model_module": "@jupyter-widgets/controls",
      "model_module_version": "1.5.0",
      "model_name": "DescriptionStyleModel",
      "state": {
       "_model_module": "@jupyter-widgets/controls",
       "_model_module_version": "1.5.0",
       "_model_name": "DescriptionStyleModel",
       "_view_count": null,
       "_view_module": "@jupyter-widgets/base",
       "_view_module_version": "1.2.0",
       "_view_name": "StyleView",
       "description_width": ""
      }
     },
     "541212fbdbda4291a830f66712b00af3": {
      "model_module": "@jupyter-widgets/controls",
      "model_module_version": "1.5.0",
      "model_name": "ProgressStyleModel",
      "state": {
       "_model_module": "@jupyter-widgets/controls",
       "_model_module_version": "1.5.0",
       "_model_name": "ProgressStyleModel",
       "_view_count": null,
       "_view_module": "@jupyter-widgets/base",
       "_view_module_version": "1.2.0",
       "_view_name": "StyleView",
       "bar_color": null,
       "description_width": ""
      }
     },
     "58ccb2f3baa346a397636076e39bb43a": {
      "model_module": "@jupyter-widgets/controls",
      "model_module_version": "1.5.0",
      "model_name": "DescriptionStyleModel",
      "state": {
       "_model_module": "@jupyter-widgets/controls",
       "_model_module_version": "1.5.0",
       "_model_name": "DescriptionStyleModel",
       "_view_count": null,
       "_view_module": "@jupyter-widgets/base",
       "_view_module_version": "1.2.0",
       "_view_name": "StyleView",
       "description_width": ""
      }
     },
     "5a520d81a9f24f1490e57ab1314c95eb": {
      "model_module": "@jupyter-widgets/controls",
      "model_module_version": "1.5.0",
      "model_name": "ProgressStyleModel",
      "state": {
       "_model_module": "@jupyter-widgets/controls",
       "_model_module_version": "1.5.0",
       "_model_name": "ProgressStyleModel",
       "_view_count": null,
       "_view_module": "@jupyter-widgets/base",
       "_view_module_version": "1.2.0",
       "_view_name": "StyleView",
       "bar_color": null,
       "description_width": ""
      }
     },
     "610889a3d1f14dfb8f9c478162bc9156": {
      "model_module": "@jupyter-widgets/controls",
      "model_module_version": "1.5.0",
      "model_name": "FloatProgressModel",
      "state": {
       "_dom_classes": [],
       "_model_module": "@jupyter-widgets/controls",
       "_model_module_version": "1.5.0",
       "_model_name": "FloatProgressModel",
       "_view_count": null,
       "_view_module": "@jupyter-widgets/controls",
       "_view_module_version": "1.5.0",
       "_view_name": "ProgressView",
       "bar_style": "info",
       "description": "",
       "description_tooltip": null,
       "layout": "IPY_MODEL_8b11cdc6be394a3c8db5b6ffa85e8f5b",
       "max": 1.0,
       "min": 0.0,
       "orientation": "horizontal",
       "style": "IPY_MODEL_bcf6db27f3bb450cbbc1aa27cfe91f55",
       "value": 0.0
      }
     },
     "629cb0c011cc4e5ea12afba03b78b7ce": {
      "model_module": "@jupyter-widgets/controls",
      "model_module_version": "1.5.0",
      "model_name": "HTMLModel",
      "state": {
       "_dom_classes": [],
       "_model_module": "@jupyter-widgets/controls",
       "_model_module_version": "1.5.0",
       "_model_name": "HTMLModel",
       "_view_count": null,
       "_view_module": "@jupyter-widgets/controls",
       "_view_module_version": "1.5.0",
       "_view_name": "HTMLView",
       "description": "",
       "description_tooltip": null,
       "layout": "IPY_MODEL_29e492dd4f114b939336a04dcf6b06ac",
       "placeholder": "​",
       "style": "IPY_MODEL_a9765e038fb6432faaa595640b057639",
       "value": " 10/10 [00:00&lt;?, ?it/s, loss=2.3, v_num=vw9b, train_acc_step=0.0156, train_f1_step=0.0037, train_prec_step=0.00189, train_rec_step=0.1, train_loss_step=2.31, train_acc_epoch=0.105, train_f1_epoch=0.036, train_prec_epoch=0.125, train_rec_epoch=0.106, train_loss_epoch=2.3]"
      }
     },
     "6be6b1d68fa54a499931581589e0587f": {
      "model_module": "@jupyter-widgets/controls",
      "model_module_version": "1.5.0",
      "model_name": "HBoxModel",
      "state": {
       "_dom_classes": [],
       "_model_module": "@jupyter-widgets/controls",
       "_model_module_version": "1.5.0",
       "_model_name": "HBoxModel",
       "_view_count": null,
       "_view_module": "@jupyter-widgets/controls",
       "_view_module_version": "1.5.0",
       "_view_name": "HBoxView",
       "box_style": "",
       "children": [
        "IPY_MODEL_f74122cf1f2d4798bf52dde5ef59f9a7",
        "IPY_MODEL_3abed351cf3e437499a3d5a0acea0718",
        "IPY_MODEL_cc447068eb104699877ba72288797868"
       ],
       "layout": "IPY_MODEL_a7dadd270dac4535bedf09ca0e8779eb"
      }
     },
     "6ccf81eed91648e190d3abc969f17927": {
      "model_module": "@jupyter-widgets/base",
      "model_module_version": "1.2.0",
      "model_name": "LayoutModel",
      "state": {
       "_model_module": "@jupyter-widgets/base",
       "_model_module_version": "1.2.0",
       "_model_name": "LayoutModel",
       "_view_count": null,
       "_view_module": "@jupyter-widgets/base",
       "_view_module_version": "1.2.0",
       "_view_name": "LayoutView",
       "align_content": null,
       "align_items": null,
       "align_self": null,
       "border": null,
       "bottom": null,
       "display": null,
       "flex": null,
       "flex_flow": null,
       "grid_area": null,
       "grid_auto_columns": null,
       "grid_auto_flow": null,
       "grid_auto_rows": null,
       "grid_column": null,
       "grid_gap": null,
       "grid_row": null,
       "grid_template_areas": null,
       "grid_template_columns": null,
       "grid_template_rows": null,
       "height": null,
       "justify_content": null,
       "justify_items": null,
       "left": null,
       "margin": null,
       "max_height": null,
       "max_width": null,
       "min_height": null,
       "min_width": null,
       "object_fit": null,
       "object_position": null,
       "order": null,
       "overflow": null,
       "overflow_x": null,
       "overflow_y": null,
       "padding": null,
       "right": null,
       "top": null,
       "visibility": null,
       "width": null
      }
     },
     "72f405a03abb406d9ba38e8f73046bf0": {
      "model_module": "@jupyter-widgets/base",
      "model_module_version": "1.2.0",
      "model_name": "LayoutModel",
      "state": {
       "_model_module": "@jupyter-widgets/base",
       "_model_module_version": "1.2.0",
       "_model_name": "LayoutModel",
       "_view_count": null,
       "_view_module": "@jupyter-widgets/base",
       "_view_module_version": "1.2.0",
       "_view_name": "LayoutView",
       "align_content": null,
       "align_items": null,
       "align_self": null,
       "border": null,
       "bottom": null,
       "display": "inline-flex",
       "flex": null,
       "flex_flow": "row wrap",
       "grid_area": null,
       "grid_auto_columns": null,
       "grid_auto_flow": null,
       "grid_auto_rows": null,
       "grid_column": null,
       "grid_gap": null,
       "grid_row": null,
       "grid_template_areas": null,
       "grid_template_columns": null,
       "grid_template_rows": null,
       "height": null,
       "justify_content": null,
       "justify_items": null,
       "left": null,
       "margin": null,
       "max_height": null,
       "max_width": null,
       "min_height": null,
       "min_width": null,
       "object_fit": null,
       "object_position": null,
       "order": null,
       "overflow": null,
       "overflow_x": null,
       "overflow_y": null,
       "padding": null,
       "right": null,
       "top": null,
       "visibility": null,
       "width": "100%"
      }
     },
     "77aeba902780455eb002937e50a9ace2": {
      "model_module": "@jupyter-widgets/controls",
      "model_module_version": "1.5.0",
      "model_name": "DescriptionStyleModel",
      "state": {
       "_model_module": "@jupyter-widgets/controls",
       "_model_module_version": "1.5.0",
       "_model_name": "DescriptionStyleModel",
       "_view_count": null,
       "_view_module": "@jupyter-widgets/base",
       "_view_module_version": "1.2.0",
       "_view_name": "StyleView",
       "description_width": ""
      }
     },
     "781124e4385b4855b2af4ad1ed37c854": {
      "model_module": "@jupyter-widgets/controls",
      "model_module_version": "1.5.0",
      "model_name": "FloatProgressModel",
      "state": {
       "_dom_classes": [],
       "_model_module": "@jupyter-widgets/controls",
       "_model_module_version": "1.5.0",
       "_model_name": "FloatProgressModel",
       "_view_count": null,
       "_view_module": "@jupyter-widgets/controls",
       "_view_module_version": "1.5.0",
       "_view_name": "ProgressView",
       "bar_style": "info",
       "description": "",
       "description_tooltip": null,
       "layout": "IPY_MODEL_f3d5d3dcbd8d457f906305683a6f98c2",
       "max": 1.0,
       "min": 0.0,
       "orientation": "horizontal",
       "style": "IPY_MODEL_abef65d445154c79ab4cce9f4492fd72",
       "value": 1.0
      }
     },
     "7b60a71acd11489b934ba4cc4e8ceeef": {
      "model_module": "@jupyter-widgets/controls",
      "model_module_version": "1.5.0",
      "model_name": "DescriptionStyleModel",
      "state": {
       "_model_module": "@jupyter-widgets/controls",
       "_model_module_version": "1.5.0",
       "_model_name": "DescriptionStyleModel",
       "_view_count": null,
       "_view_module": "@jupyter-widgets/base",
       "_view_module_version": "1.2.0",
       "_view_name": "StyleView",
       "description_width": ""
      }
     },
     "7c2e95afdf624fbdba0f9ef8791bad30": {
      "model_module": "@jupyter-widgets/controls",
      "model_module_version": "1.5.0",
      "model_name": "HTMLModel",
      "state": {
       "_dom_classes": [],
       "_model_module": "@jupyter-widgets/controls",
       "_model_module_version": "1.5.0",
       "_model_name": "HTMLModel",
       "_view_count": null,
       "_view_module": "@jupyter-widgets/controls",
       "_view_module_version": "1.5.0",
       "_view_name": "HTMLView",
       "description": "",
       "description_tooltip": null,
       "layout": "IPY_MODEL_c0be650a9bde47b0b94815d2c1cb8435",
       "placeholder": "​",
       "style": "IPY_MODEL_b133426e97ab41b8a3ee2691e5f06455",
       "value": "Epoch 1: 100%"
      }
     },
     "7fec48ad4e344d75b7541a47ef0658f2": {
      "model_module": "@jupyter-widgets/base",
      "model_module_version": "1.2.0",
      "model_name": "LayoutModel",
      "state": {
       "_model_module": "@jupyter-widgets/base",
       "_model_module_version": "1.2.0",
       "_model_name": "LayoutModel",
       "_view_count": null,
       "_view_module": "@jupyter-widgets/base",
       "_view_module_version": "1.2.0",
       "_view_name": "LayoutView",
       "align_content": null,
       "align_items": null,
       "align_self": null,
       "border": null,
       "bottom": null,
       "display": null,
       "flex": null,
       "flex_flow": null,
       "grid_area": null,
       "grid_auto_columns": null,
       "grid_auto_flow": null,
       "grid_auto_rows": null,
       "grid_column": null,
       "grid_gap": null,
       "grid_row": null,
       "grid_template_areas": null,
       "grid_template_columns": null,
       "grid_template_rows": null,
       "height": null,
       "justify_content": null,
       "justify_items": null,
       "left": null,
       "margin": null,
       "max_height": null,
       "max_width": null,
       "min_height": null,
       "min_width": null,
       "object_fit": null,
       "object_position": null,
       "order": null,
       "overflow": null,
       "overflow_x": null,
       "overflow_y": null,
       "padding": null,
       "right": null,
       "top": null,
       "visibility": null,
       "width": null
      }
     },
     "815d78eb7b494dcfa5901e6b24be570c": {
      "model_module": "@jupyter-widgets/controls",
      "model_module_version": "1.5.0",
      "model_name": "HTMLModel",
      "state": {
       "_dom_classes": [],
       "_model_module": "@jupyter-widgets/controls",
       "_model_module_version": "1.5.0",
       "_model_name": "HTMLModel",
       "_view_count": null,
       "_view_module": "@jupyter-widgets/controls",
       "_view_module_version": "1.5.0",
       "_view_name": "HTMLView",
       "description": "",
       "description_tooltip": null,
       "layout": "IPY_MODEL_157624a54d1342379206861415214a59",
       "placeholder": "​",
       "style": "IPY_MODEL_7b60a71acd11489b934ba4cc4e8ceeef",
       "value": "Test: 100%"
      }
     },
     "81cb5022804f4bc3bbd823970329e105": {
      "model_module": "@jupyter-widgets/controls",
      "model_module_version": "1.5.0",
      "model_name": "HTMLModel",
      "state": {
       "_dom_classes": [],
       "_model_module": "@jupyter-widgets/controls",
       "_model_module_version": "1.5.0",
       "_model_name": "HTMLModel",
       "_view_count": null,
       "_view_module": "@jupyter-widgets/controls",
       "_view_module_version": "1.5.0",
       "_view_name": "HTMLView",
       "description": "",
       "description_tooltip": null,
       "layout": "IPY_MODEL_8f22217b54264eaa95c87229d19df1aa",
       "placeholder": "​",
       "style": "IPY_MODEL_2ba5eb4ee99b43bfa51d90d5e73ed53c",
       "value": " 5/5 [00:00&lt;00:00, 48.39it/s]"
      }
     },
     "82db67098b3c44aebea5c4a9e2ae455e": {
      "model_module": "@jupyter-widgets/controls",
      "model_module_version": "1.5.0",
      "model_name": "HTMLModel",
      "state": {
       "_dom_classes": [],
       "_model_module": "@jupyter-widgets/controls",
       "_model_module_version": "1.5.0",
       "_model_name": "HTMLModel",
       "_view_count": null,
       "_view_module": "@jupyter-widgets/controls",
       "_view_module_version": "1.5.0",
       "_view_name": "HTMLView",
       "description": "",
       "description_tooltip": null,
       "layout": "IPY_MODEL_fec95fb15d094358a30b964b1f3fc3f5",
       "placeholder": "​",
       "style": "IPY_MODEL_77aeba902780455eb002937e50a9ace2",
       "value": "Test: 100%"
      }
     },
     "83aaffee02884453bb2a0c380ed8e897": {
      "model_module": "@jupyter-widgets/controls",
      "model_module_version": "1.5.0",
      "model_name": "DescriptionStyleModel",
      "state": {
       "_model_module": "@jupyter-widgets/controls",
       "_model_module_version": "1.5.0",
       "_model_name": "DescriptionStyleModel",
       "_view_count": null,
       "_view_module": "@jupyter-widgets/base",
       "_view_module_version": "1.2.0",
       "_view_name": "StyleView",
       "description_width": ""
      }
     },
     "83d5fdbb69bf48bd9a001b9c2512a240": {
      "model_module": "@jupyter-widgets/controls",
      "model_module_version": "1.5.0",
      "model_name": "FloatProgressModel",
      "state": {
       "_dom_classes": [],
       "_model_module": "@jupyter-widgets/controls",
       "_model_module_version": "1.5.0",
       "_model_name": "FloatProgressModel",
       "_view_count": null,
       "_view_module": "@jupyter-widgets/controls",
       "_view_module_version": "1.5.0",
       "_view_name": "ProgressView",
       "bar_style": "",
       "description": "",
       "description_tooltip": null,
       "layout": "IPY_MODEL_3dd8e38dacbc49e08a3a4862ba4403a8",
       "max": 1.0,
       "min": 0.0,
       "orientation": "horizontal",
       "style": "IPY_MODEL_39f7c6366e7b47828dd0708a64d10e36",
       "value": 0.0
      }
     },
     "867fca026b8949e0a239b1b607a8beff": {
      "model_module": "@jupyter-widgets/base",
      "model_module_version": "1.2.0",
      "model_name": "LayoutModel",
      "state": {
       "_model_module": "@jupyter-widgets/base",
       "_model_module_version": "1.2.0",
       "_model_name": "LayoutModel",
       "_view_count": null,
       "_view_module": "@jupyter-widgets/base",
       "_view_module_version": "1.2.0",
       "_view_name": "LayoutView",
       "align_content": null,
       "align_items": null,
       "align_self": null,
       "border": null,
       "bottom": null,
       "display": null,
       "flex": "2",
       "flex_flow": null,
       "grid_area": null,
       "grid_auto_columns": null,
       "grid_auto_flow": null,
       "grid_auto_rows": null,
       "grid_column": null,
       "grid_gap": null,
       "grid_row": null,
       "grid_template_areas": null,
       "grid_template_columns": null,
       "grid_template_rows": null,
       "height": null,
       "justify_content": null,
       "justify_items": null,
       "left": null,
       "margin": null,
       "max_height": null,
       "max_width": null,
       "min_height": null,
       "min_width": null,
       "object_fit": null,
       "object_position": null,
       "order": null,
       "overflow": null,
       "overflow_x": null,
       "overflow_y": null,
       "padding": null,
       "right": null,
       "top": null,
       "visibility": null,
       "width": null
      }
     },
     "86d25b5e676147aeb110c7874a5d46c5": {
      "model_module": "@jupyter-widgets/controls",
      "model_module_version": "1.5.0",
      "model_name": "HBoxModel",
      "state": {
       "_dom_classes": [],
       "_model_module": "@jupyter-widgets/controls",
       "_model_module_version": "1.5.0",
       "_model_name": "HBoxModel",
       "_view_count": null,
       "_view_module": "@jupyter-widgets/controls",
       "_view_module_version": "1.5.0",
       "_view_name": "HBoxView",
       "box_style": "",
       "children": [
        "IPY_MODEL_9254e25651a34156a4b2ac7a519bbfd1",
        "IPY_MODEL_f38d092d7bf54d329717d205d9d809c3",
        "IPY_MODEL_0dc106870c0844cba4f5b9f56608f902"
       ],
       "layout": "IPY_MODEL_72f405a03abb406d9ba38e8f73046bf0"
      }
     },
     "871024ec06694c21abe6e7bd10f6d011": {
      "model_module": "@jupyter-widgets/controls",
      "model_module_version": "1.5.0",
      "model_name": "HTMLModel",
      "state": {
       "_dom_classes": [],
       "_model_module": "@jupyter-widgets/controls",
       "_model_module_version": "1.5.0",
       "_model_name": "HTMLModel",
       "_view_count": null,
       "_view_module": "@jupyter-widgets/controls",
       "_view_module_version": "1.5.0",
       "_view_name": "HTMLView",
       "description": "",
       "description_tooltip": null,
       "layout": "IPY_MODEL_468749e05e994284b6e5ffcd004efa6f",
       "placeholder": "​",
       "style": "IPY_MODEL_2153652e8ad2462985f756ec72ec9dde",
       "value": "Validation sanity check: 0it [00:00, ?it/s]"
      }
     },
     "8b11cdc6be394a3c8db5b6ffa85e8f5b": {
      "model_module": "@jupyter-widgets/base",
      "model_module_version": "1.2.0",
      "model_name": "LayoutModel",
      "state": {
       "_model_module": "@jupyter-widgets/base",
       "_model_module_version": "1.2.0",
       "_model_name": "LayoutModel",
       "_view_count": null,
       "_view_module": "@jupyter-widgets/base",
       "_view_module_version": "1.2.0",
       "_view_name": "LayoutView",
       "align_content": null,
       "align_items": null,
       "align_self": null,
       "border": null,
       "bottom": null,
       "display": null,
       "flex": "2",
       "flex_flow": null,
       "grid_area": null,
       "grid_auto_columns": null,
       "grid_auto_flow": null,
       "grid_auto_rows": null,
       "grid_column": null,
       "grid_gap": null,
       "grid_row": null,
       "grid_template_areas": null,
       "grid_template_columns": null,
       "grid_template_rows": null,
       "height": null,
       "justify_content": null,
       "justify_items": null,
       "left": null,
       "margin": null,
       "max_height": null,
       "max_width": null,
       "min_height": null,
       "min_width": null,
       "object_fit": null,
       "object_position": null,
       "order": null,
       "overflow": null,
       "overflow_x": null,
       "overflow_y": null,
       "padding": null,
       "right": null,
       "top": null,
       "visibility": null,
       "width": null
      }
     },
     "8c6d396e84904e5080f2f5737243b161": {
      "model_module": "@jupyter-widgets/base",
      "model_module_version": "1.2.0",
      "model_name": "LayoutModel",
      "state": {
       "_model_module": "@jupyter-widgets/base",
       "_model_module_version": "1.2.0",
       "_model_name": "LayoutModel",
       "_view_count": null,
       "_view_module": "@jupyter-widgets/base",
       "_view_module_version": "1.2.0",
       "_view_name": "LayoutView",
       "align_content": null,
       "align_items": null,
       "align_self": null,
       "border": null,
       "bottom": null,
       "display": "inline-flex",
       "flex": null,
       "flex_flow": "row wrap",
       "grid_area": null,
       "grid_auto_columns": null,
       "grid_auto_flow": null,
       "grid_auto_rows": null,
       "grid_column": null,
       "grid_gap": null,
       "grid_row": null,
       "grid_template_areas": null,
       "grid_template_columns": null,
       "grid_template_rows": null,
       "height": null,
       "justify_content": null,
       "justify_items": null,
       "left": null,
       "margin": null,
       "max_height": null,
       "max_width": null,
       "min_height": null,
       "min_width": null,
       "object_fit": null,
       "object_position": null,
       "order": null,
       "overflow": null,
       "overflow_x": null,
       "overflow_y": null,
       "padding": null,
       "right": null,
       "top": null,
       "visibility": null,
       "width": "100%"
      }
     },
     "8f22217b54264eaa95c87229d19df1aa": {
      "model_module": "@jupyter-widgets/base",
      "model_module_version": "1.2.0",
      "model_name": "LayoutModel",
      "state": {
       "_model_module": "@jupyter-widgets/base",
       "_model_module_version": "1.2.0",
       "_model_name": "LayoutModel",
       "_view_count": null,
       "_view_module": "@jupyter-widgets/base",
       "_view_module_version": "1.2.0",
       "_view_name": "LayoutView",
       "align_content": null,
       "align_items": null,
       "align_self": null,
       "border": null,
       "bottom": null,
       "display": null,
       "flex": null,
       "flex_flow": null,
       "grid_area": null,
       "grid_auto_columns": null,
       "grid_auto_flow": null,
       "grid_auto_rows": null,
       "grid_column": null,
       "grid_gap": null,
       "grid_row": null,
       "grid_template_areas": null,
       "grid_template_columns": null,
       "grid_template_rows": null,
       "height": null,
       "justify_content": null,
       "justify_items": null,
       "left": null,
       "margin": null,
       "max_height": null,
       "max_width": null,
       "min_height": null,
       "min_width": null,
       "object_fit": null,
       "object_position": null,
       "order": null,
       "overflow": null,
       "overflow_x": null,
       "overflow_y": null,
       "padding": null,
       "right": null,
       "top": null,
       "visibility": null,
       "width": null
      }
     },
     "902bc69117994b20ab225c666582c06d": {
      "model_module": "@jupyter-widgets/controls",
      "model_module_version": "1.5.0",
      "model_name": "DescriptionStyleModel",
      "state": {
       "_model_module": "@jupyter-widgets/controls",
       "_model_module_version": "1.5.0",
       "_model_name": "DescriptionStyleModel",
       "_view_count": null,
       "_view_module": "@jupyter-widgets/base",
       "_view_module_version": "1.2.0",
       "_view_name": "StyleView",
       "description_width": ""
      }
     },
     "902fa8b04b4c4c698a926488f72f4000": {
      "model_module": "@jupyter-widgets/controls",
      "model_module_version": "1.5.0",
      "model_name": "DescriptionStyleModel",
      "state": {
       "_model_module": "@jupyter-widgets/controls",
       "_model_module_version": "1.5.0",
       "_model_name": "DescriptionStyleModel",
       "_view_count": null,
       "_view_module": "@jupyter-widgets/base",
       "_view_module_version": "1.2.0",
       "_view_name": "StyleView",
       "description_width": ""
      }
     },
     "9254e25651a34156a4b2ac7a519bbfd1": {
      "model_module": "@jupyter-widgets/controls",
      "model_module_version": "1.5.0",
      "model_name": "HTMLModel",
      "state": {
       "_dom_classes": [],
       "_model_module": "@jupyter-widgets/controls",
       "_model_module_version": "1.5.0",
       "_model_name": "HTMLModel",
       "_view_count": null,
       "_view_module": "@jupyter-widgets/controls",
       "_view_module_version": "1.5.0",
       "_view_name": "HTMLView",
       "description": "",
       "description_tooltip": null,
       "layout": "IPY_MODEL_3300f4e767024ec580b7868d06f72b1a",
       "placeholder": "​",
       "style": "IPY_MODEL_aa6af161774a446fa85c2c44041350d9",
       "value": "Reval: 100%"
      }
     },
     "982deef216c84ab7bee8fea696b7eb15": {
      "model_module": "@jupyter-widgets/base",
      "model_module_version": "1.2.0",
      "model_name": "LayoutModel",
      "state": {
       "_model_module": "@jupyter-widgets/base",
       "_model_module_version": "1.2.0",
       "_model_name": "LayoutModel",
       "_view_count": null,
       "_view_module": "@jupyter-widgets/base",
       "_view_module_version": "1.2.0",
       "_view_name": "LayoutView",
       "align_content": null,
       "align_items": null,
       "align_self": null,
       "border": null,
       "bottom": null,
       "display": null,
       "flex": "2",
       "flex_flow": null,
       "grid_area": null,
       "grid_auto_columns": null,
       "grid_auto_flow": null,
       "grid_auto_rows": null,
       "grid_column": null,
       "grid_gap": null,
       "grid_row": null,
       "grid_template_areas": null,
       "grid_template_columns": null,
       "grid_template_rows": null,
       "height": null,
       "justify_content": null,
       "justify_items": null,
       "left": null,
       "margin": null,
       "max_height": null,
       "max_width": null,
       "min_height": null,
       "min_width": null,
       "object_fit": null,
       "object_position": null,
       "order": null,
       "overflow": null,
       "overflow_x": null,
       "overflow_y": null,
       "padding": null,
       "right": null,
       "top": null,
       "visibility": null,
       "width": null
      }
     },
     "a0ff3f63756447d9a8a1a8cba273226b": {
      "model_module": "@jupyter-widgets/base",
      "model_module_version": "1.2.0",
      "model_name": "LayoutModel",
      "state": {
       "_model_module": "@jupyter-widgets/base",
       "_model_module_version": "1.2.0",
       "_model_name": "LayoutModel",
       "_view_count": null,
       "_view_module": "@jupyter-widgets/base",
       "_view_module_version": "1.2.0",
       "_view_name": "LayoutView",
       "align_content": null,
       "align_items": null,
       "align_self": null,
       "border": null,
       "bottom": null,
       "display": "inline-flex",
       "flex": null,
       "flex_flow": "row wrap",
       "grid_area": null,
       "grid_auto_columns": null,
       "grid_auto_flow": null,
       "grid_auto_rows": null,
       "grid_column": null,
       "grid_gap": null,
       "grid_row": null,
       "grid_template_areas": null,
       "grid_template_columns": null,
       "grid_template_rows": null,
       "height": null,
       "justify_content": null,
       "justify_items": null,
       "left": null,
       "margin": null,
       "max_height": null,
       "max_width": null,
       "min_height": null,
       "min_width": null,
       "object_fit": null,
       "object_position": null,
       "order": null,
       "overflow": null,
       "overflow_x": null,
       "overflow_y": null,
       "padding": null,
       "right": null,
       "top": null,
       "visibility": null,
       "width": "100%"
      }
     },
     "a23da24b80b64d9eb3a664e31a7f0152": {
      "model_module": "@jupyter-widgets/controls",
      "model_module_version": "1.5.0",
      "model_name": "HTMLModel",
      "state": {
       "_dom_classes": [],
       "_model_module": "@jupyter-widgets/controls",
       "_model_module_version": "1.5.0",
       "_model_name": "HTMLModel",
       "_view_count": null,
       "_view_module": "@jupyter-widgets/controls",
       "_view_module_version": "1.5.0",
       "_view_name": "HTMLView",
       "description": "",
       "description_tooltip": null,
       "layout": "IPY_MODEL_6ccf81eed91648e190d3abc969f17927",
       "placeholder": "​",
       "style": "IPY_MODEL_e995004013fc4f4888cbc52786815b2b",
       "value": ""
      }
     },
     "a7dadd270dac4535bedf09ca0e8779eb": {
      "model_module": "@jupyter-widgets/base",
      "model_module_version": "1.2.0",
      "model_name": "LayoutModel",
      "state": {
       "_model_module": "@jupyter-widgets/base",
       "_model_module_version": "1.2.0",
       "_model_name": "LayoutModel",
       "_view_count": null,
       "_view_module": "@jupyter-widgets/base",
       "_view_module_version": "1.2.0",
       "_view_name": "LayoutView",
       "align_content": null,
       "align_items": null,
       "align_self": null,
       "border": null,
       "bottom": null,
       "display": "inline-flex",
       "flex": null,
       "flex_flow": "row wrap",
       "grid_area": null,
       "grid_auto_columns": null,
       "grid_auto_flow": null,
       "grid_auto_rows": null,
       "grid_column": null,
       "grid_gap": null,
       "grid_row": null,
       "grid_template_areas": null,
       "grid_template_columns": null,
       "grid_template_rows": null,
       "height": null,
       "justify_content": null,
       "justify_items": null,
       "left": null,
       "margin": null,
       "max_height": null,
       "max_width": null,
       "min_height": null,
       "min_width": null,
       "object_fit": null,
       "object_position": null,
       "order": null,
       "overflow": null,
       "overflow_x": null,
       "overflow_y": null,
       "padding": null,
       "right": null,
       "top": null,
       "visibility": null,
       "width": "100%"
      }
     },
     "a9765e038fb6432faaa595640b057639": {
      "model_module": "@jupyter-widgets/controls",
      "model_module_version": "1.5.0",
      "model_name": "DescriptionStyleModel",
      "state": {
       "_model_module": "@jupyter-widgets/controls",
       "_model_module_version": "1.5.0",
       "_model_name": "DescriptionStyleModel",
       "_view_count": null,
       "_view_module": "@jupyter-widgets/base",
       "_view_module_version": "1.2.0",
       "_view_name": "StyleView",
       "description_width": ""
      }
     },
     "a9d7d0ea314d41eda99318776e9fb3dd": {
      "model_module": "@jupyter-widgets/controls",
      "model_module_version": "1.5.0",
      "model_name": "FloatProgressModel",
      "state": {
       "_dom_classes": [],
       "_model_module": "@jupyter-widgets/controls",
       "_model_module_version": "1.5.0",
       "_model_name": "FloatProgressModel",
       "_view_count": null,
       "_view_module": "@jupyter-widgets/controls",
       "_view_module_version": "1.5.0",
       "_view_name": "ProgressView",
       "bar_style": "info",
       "description": "",
       "description_tooltip": null,
       "layout": "IPY_MODEL_867fca026b8949e0a239b1b607a8beff",
       "max": 1.0,
       "min": 0.0,
       "orientation": "horizontal",
       "style": "IPY_MODEL_cfe1422d120841d880e15c59fb1f17f4",
       "value": 1.0
      }
     },
     "aa6af161774a446fa85c2c44041350d9": {
      "model_module": "@jupyter-widgets/controls",
      "model_module_version": "1.5.0",
      "model_name": "DescriptionStyleModel",
      "state": {
       "_model_module": "@jupyter-widgets/controls",
       "_model_module_version": "1.5.0",
       "_model_name": "DescriptionStyleModel",
       "_view_count": null,
       "_view_module": "@jupyter-widgets/base",
       "_view_module_version": "1.2.0",
       "_view_name": "StyleView",
       "description_width": ""
      }
     },
     "abef65d445154c79ab4cce9f4492fd72": {
      "model_module": "@jupyter-widgets/controls",
      "model_module_version": "1.5.0",
      "model_name": "ProgressStyleModel",
      "state": {
       "_model_module": "@jupyter-widgets/controls",
       "_model_module_version": "1.5.0",
       "_model_name": "ProgressStyleModel",
       "_view_count": null,
       "_view_module": "@jupyter-widgets/base",
       "_view_module_version": "1.2.0",
       "_view_name": "StyleView",
       "bar_color": null,
       "description_width": ""
      }
     },
     "b133426e97ab41b8a3ee2691e5f06455": {
      "model_module": "@jupyter-widgets/controls",
      "model_module_version": "1.5.0",
      "model_name": "DescriptionStyleModel",
      "state": {
       "_model_module": "@jupyter-widgets/controls",
       "_model_module_version": "1.5.0",
       "_model_name": "DescriptionStyleModel",
       "_view_count": null,
       "_view_module": "@jupyter-widgets/base",
       "_view_module_version": "1.2.0",
       "_view_name": "StyleView",
       "description_width": ""
      }
     },
     "b78e9ccdd47f4747908d676ed7463f68": {
      "model_module": "@jupyter-widgets/controls",
      "model_module_version": "1.5.0",
      "model_name": "FloatProgressModel",
      "state": {
       "_dom_classes": [],
       "_model_module": "@jupyter-widgets/controls",
       "_model_module_version": "1.5.0",
       "_model_name": "FloatProgressModel",
       "_view_count": null,
       "_view_module": "@jupyter-widgets/controls",
       "_view_module_version": "1.5.0",
       "_view_name": "ProgressView",
       "bar_style": "info",
       "description": "",
       "description_tooltip": null,
       "layout": "IPY_MODEL_c740b9912f544cc1a1fb82d2e364fecc",
       "max": 1.0,
       "min": 0.0,
       "orientation": "horizontal",
       "style": "IPY_MODEL_5a520d81a9f24f1490e57ab1314c95eb",
       "value": 1.0
      }
     },
     "b7aa6b07df9442119f4ae70d6349d177": {
      "model_module": "@jupyter-widgets/base",
      "model_module_version": "1.2.0",
      "model_name": "LayoutModel",
      "state": {
       "_model_module": "@jupyter-widgets/base",
       "_model_module_version": "1.2.0",
       "_model_name": "LayoutModel",
       "_view_count": null,
       "_view_module": "@jupyter-widgets/base",
       "_view_module_version": "1.2.0",
       "_view_name": "LayoutView",
       "align_content": null,
       "align_items": null,
       "align_self": null,
       "border": null,
       "bottom": null,
       "display": null,
       "flex": null,
       "flex_flow": null,
       "grid_area": null,
       "grid_auto_columns": null,
       "grid_auto_flow": null,
       "grid_auto_rows": null,
       "grid_column": null,
       "grid_gap": null,
       "grid_row": null,
       "grid_template_areas": null,
       "grid_template_columns": null,
       "grid_template_rows": null,
       "height": null,
       "justify_content": null,
       "justify_items": null,
       "left": null,
       "margin": null,
       "max_height": null,
       "max_width": null,
       "min_height": null,
       "min_width": null,
       "object_fit": null,
       "object_position": null,
       "order": null,
       "overflow": null,
       "overflow_x": null,
       "overflow_y": null,
       "padding": null,
       "right": null,
       "top": null,
       "visibility": null,
       "width": null
      }
     },
     "bccd1a15077043b5a4833ce4d55deab5": {
      "model_module": "@jupyter-widgets/base",
      "model_module_version": "1.2.0",
      "model_name": "LayoutModel",
      "state": {
       "_model_module": "@jupyter-widgets/base",
       "_model_module_version": "1.2.0",
       "_model_name": "LayoutModel",
       "_view_count": null,
       "_view_module": "@jupyter-widgets/base",
       "_view_module_version": "1.2.0",
       "_view_name": "LayoutView",
       "align_content": null,
       "align_items": null,
       "align_self": null,
       "border": null,
       "bottom": null,
       "display": "inline-flex",
       "flex": null,
       "flex_flow": "row wrap",
       "grid_area": null,
       "grid_auto_columns": null,
       "grid_auto_flow": null,
       "grid_auto_rows": null,
       "grid_column": null,
       "grid_gap": null,
       "grid_row": null,
       "grid_template_areas": null,
       "grid_template_columns": null,
       "grid_template_rows": null,
       "height": null,
       "justify_content": null,
       "justify_items": null,
       "left": null,
       "margin": null,
       "max_height": null,
       "max_width": null,
       "min_height": null,
       "min_width": null,
       "object_fit": null,
       "object_position": null,
       "order": null,
       "overflow": null,
       "overflow_x": null,
       "overflow_y": null,
       "padding": null,
       "right": null,
       "top": null,
       "visibility": null,
       "width": "100%"
      }
     },
     "bcf6db27f3bb450cbbc1aa27cfe91f55": {
      "model_module": "@jupyter-widgets/controls",
      "model_module_version": "1.5.0",
      "model_name": "ProgressStyleModel",
      "state": {
       "_model_module": "@jupyter-widgets/controls",
       "_model_module_version": "1.5.0",
       "_model_name": "ProgressStyleModel",
       "_view_count": null,
       "_view_module": "@jupyter-widgets/base",
       "_view_module_version": "1.2.0",
       "_view_name": "StyleView",
       "bar_color": null,
       "description_width": ""
      }
     },
     "bf67166e1e654d088b16c6f643da206d": {
      "model_module": "@jupyter-widgets/controls",
      "model_module_version": "1.5.0",
      "model_name": "DescriptionStyleModel",
      "state": {
       "_model_module": "@jupyter-widgets/controls",
       "_model_module_version": "1.5.0",
       "_model_name": "DescriptionStyleModel",
       "_view_count": null,
       "_view_module": "@jupyter-widgets/base",
       "_view_module_version": "1.2.0",
       "_view_name": "StyleView",
       "description_width": ""
      }
     },
     "c0be650a9bde47b0b94815d2c1cb8435": {
      "model_module": "@jupyter-widgets/base",
      "model_module_version": "1.2.0",
      "model_name": "LayoutModel",
      "state": {
       "_model_module": "@jupyter-widgets/base",
       "_model_module_version": "1.2.0",
       "_model_name": "LayoutModel",
       "_view_count": null,
       "_view_module": "@jupyter-widgets/base",
       "_view_module_version": "1.2.0",
       "_view_name": "LayoutView",
       "align_content": null,
       "align_items": null,
       "align_self": null,
       "border": null,
       "bottom": null,
       "display": null,
       "flex": null,
       "flex_flow": null,
       "grid_area": null,
       "grid_auto_columns": null,
       "grid_auto_flow": null,
       "grid_auto_rows": null,
       "grid_column": null,
       "grid_gap": null,
       "grid_row": null,
       "grid_template_areas": null,
       "grid_template_columns": null,
       "grid_template_rows": null,
       "height": null,
       "justify_content": null,
       "justify_items": null,
       "left": null,
       "margin": null,
       "max_height": null,
       "max_width": null,
       "min_height": null,
       "min_width": null,
       "object_fit": null,
       "object_position": null,
       "order": null,
       "overflow": null,
       "overflow_x": null,
       "overflow_y": null,
       "padding": null,
       "right": null,
       "top": null,
       "visibility": null,
       "width": null
      }
     },
     "c4f868d8ee2c4af68dbfd46e4085ac70": {
      "model_module": "@jupyter-widgets/base",
      "model_module_version": "1.2.0",
      "model_name": "LayoutModel",
      "state": {
       "_model_module": "@jupyter-widgets/base",
       "_model_module_version": "1.2.0",
       "_model_name": "LayoutModel",
       "_view_count": null,
       "_view_module": "@jupyter-widgets/base",
       "_view_module_version": "1.2.0",
       "_view_name": "LayoutView",
       "align_content": null,
       "align_items": null,
       "align_self": null,
       "border": null,
       "bottom": null,
       "display": "inline-flex",
       "flex": null,
       "flex_flow": "row wrap",
       "grid_area": null,
       "grid_auto_columns": null,
       "grid_auto_flow": null,
       "grid_auto_rows": null,
       "grid_column": null,
       "grid_gap": null,
       "grid_row": null,
       "grid_template_areas": null,
       "grid_template_columns": null,
       "grid_template_rows": null,
       "height": null,
       "justify_content": null,
       "justify_items": null,
       "left": null,
       "margin": null,
       "max_height": null,
       "max_width": null,
       "min_height": null,
       "min_width": null,
       "object_fit": null,
       "object_position": null,
       "order": null,
       "overflow": null,
       "overflow_x": null,
       "overflow_y": null,
       "padding": null,
       "right": null,
       "top": null,
       "visibility": null,
       "width": "100%"
      }
     },
     "c54bd1ddb9064e1ea13a210af3c78399": {
      "model_module": "@jupyter-widgets/controls",
      "model_module_version": "1.5.0",
      "model_name": "FloatProgressModel",
      "state": {
       "_dom_classes": [],
       "_model_module": "@jupyter-widgets/controls",
       "_model_module_version": "1.5.0",
       "_model_name": "FloatProgressModel",
       "_view_count": null,
       "_view_module": "@jupyter-widgets/controls",
       "_view_module_version": "1.5.0",
       "_view_name": "ProgressView",
       "bar_style": "",
       "description": "",
       "description_tooltip": null,
       "layout": "IPY_MODEL_982deef216c84ab7bee8fea696b7eb15",
       "max": 10.0,
       "min": 0.0,
       "orientation": "horizontal",
       "style": "IPY_MODEL_3295a555e8084048ad6ad9d961b2e736",
       "value": 10.0
      }
     },
     "c740b9912f544cc1a1fb82d2e364fecc": {
      "model_module": "@jupyter-widgets/base",
      "model_module_version": "1.2.0",
      "model_name": "LayoutModel",
      "state": {
       "_model_module": "@jupyter-widgets/base",
       "_model_module_version": "1.2.0",
       "_model_name": "LayoutModel",
       "_view_count": null,
       "_view_module": "@jupyter-widgets/base",
       "_view_module_version": "1.2.0",
       "_view_name": "LayoutView",
       "align_content": null,
       "align_items": null,
       "align_self": null,
       "border": null,
       "bottom": null,
       "display": null,
       "flex": "2",
       "flex_flow": null,
       "grid_area": null,
       "grid_auto_columns": null,
       "grid_auto_flow": null,
       "grid_auto_rows": null,
       "grid_column": null,
       "grid_gap": null,
       "grid_row": null,
       "grid_template_areas": null,
       "grid_template_columns": null,
       "grid_template_rows": null,
       "height": null,
       "justify_content": null,
       "justify_items": null,
       "left": null,
       "margin": null,
       "max_height": null,
       "max_width": null,
       "min_height": null,
       "min_width": null,
       "object_fit": null,
       "object_position": null,
       "order": null,
       "overflow": null,
       "overflow_x": null,
       "overflow_y": null,
       "padding": null,
       "right": null,
       "top": null,
       "visibility": null,
       "width": null
      }
     },
     "c819e691066c4733a9f2bad5f8c21552": {
      "model_module": "@jupyter-widgets/base",
      "model_module_version": "1.2.0",
      "model_name": "LayoutModel",
      "state": {
       "_model_module": "@jupyter-widgets/base",
       "_model_module_version": "1.2.0",
       "_model_name": "LayoutModel",
       "_view_count": null,
       "_view_module": "@jupyter-widgets/base",
       "_view_module_version": "1.2.0",
       "_view_name": "LayoutView",
       "align_content": null,
       "align_items": null,
       "align_self": null,
       "border": null,
       "bottom": null,
       "display": null,
       "flex": null,
       "flex_flow": null,
       "grid_area": null,
       "grid_auto_columns": null,
       "grid_auto_flow": null,
       "grid_auto_rows": null,
       "grid_column": null,
       "grid_gap": null,
       "grid_row": null,
       "grid_template_areas": null,
       "grid_template_columns": null,
       "grid_template_rows": null,
       "height": null,
       "justify_content": null,
       "justify_items": null,
       "left": null,
       "margin": null,
       "max_height": null,
       "max_width": null,
       "min_height": null,
       "min_width": null,
       "object_fit": null,
       "object_position": null,
       "order": null,
       "overflow": null,
       "overflow_x": null,
       "overflow_y": null,
       "padding": null,
       "right": null,
       "top": null,
       "visibility": null,
       "width": null
      }
     },
     "cafdde88facd4f0f9535fd0f2b6f04d0": {
      "model_module": "@jupyter-widgets/base",
      "model_module_version": "1.2.0",
      "model_name": "LayoutModel",
      "state": {
       "_model_module": "@jupyter-widgets/base",
       "_model_module_version": "1.2.0",
       "_model_name": "LayoutModel",
       "_view_count": null,
       "_view_module": "@jupyter-widgets/base",
       "_view_module_version": "1.2.0",
       "_view_name": "LayoutView",
       "align_content": null,
       "align_items": null,
       "align_self": null,
       "border": null,
       "bottom": null,
       "display": null,
       "flex": null,
       "flex_flow": null,
       "grid_area": null,
       "grid_auto_columns": null,
       "grid_auto_flow": null,
       "grid_auto_rows": null,
       "grid_column": null,
       "grid_gap": null,
       "grid_row": null,
       "grid_template_areas": null,
       "grid_template_columns": null,
       "grid_template_rows": null,
       "height": null,
       "justify_content": null,
       "justify_items": null,
       "left": null,
       "margin": null,
       "max_height": null,
       "max_width": null,
       "min_height": null,
       "min_width": null,
       "object_fit": null,
       "object_position": null,
       "order": null,
       "overflow": null,
       "overflow_x": null,
       "overflow_y": null,
       "padding": null,
       "right": null,
       "top": null,
       "visibility": null,
       "width": null
      }
     },
     "cc447068eb104699877ba72288797868": {
      "model_module": "@jupyter-widgets/controls",
      "model_module_version": "1.5.0",
      "model_name": "HTMLModel",
      "state": {
       "_dom_classes": [],
       "_model_module": "@jupyter-widgets/controls",
       "_model_module_version": "1.5.0",
       "_model_name": "HTMLModel",
       "_view_count": null,
       "_view_module": "@jupyter-widgets/controls",
       "_view_module_version": "1.5.0",
       "_view_name": "HTMLView",
       "description": "",
       "description_tooltip": null,
       "layout": "IPY_MODEL_4f586bcf3c6845b9b4d3e8336ffd3180",
       "placeholder": "​",
       "style": "IPY_MODEL_83aaffee02884453bb2a0c380ed8e897",
       "value": " 10/10 [00:00&lt;00:00, 72.62it/s, loss=2.3, v_num=vw9b, train_acc_step=0.109, train_f1_step=0.0375, train_prec_step=0.0274, train_rec_step=0.12, train_loss_step=2.3]"
      }
     },
     "cd0779f734334bcb826934ef0d0ac500": {
      "model_module": "@jupyter-widgets/base",
      "model_module_version": "1.2.0",
      "model_name": "LayoutModel",
      "state": {
       "_model_module": "@jupyter-widgets/base",
       "_model_module_version": "1.2.0",
       "_model_name": "LayoutModel",
       "_view_count": null,
       "_view_module": "@jupyter-widgets/base",
       "_view_module_version": "1.2.0",
       "_view_name": "LayoutView",
       "align_content": null,
       "align_items": null,
       "align_self": null,
       "border": null,
       "bottom": null,
       "display": null,
       "flex": null,
       "flex_flow": null,
       "grid_area": null,
       "grid_auto_columns": null,
       "grid_auto_flow": null,
       "grid_auto_rows": null,
       "grid_column": null,
       "grid_gap": null,
       "grid_row": null,
       "grid_template_areas": null,
       "grid_template_columns": null,
       "grid_template_rows": null,
       "height": null,
       "justify_content": null,
       "justify_items": null,
       "left": null,
       "margin": null,
       "max_height": null,
       "max_width": null,
       "min_height": null,
       "min_width": null,
       "object_fit": null,
       "object_position": null,
       "order": null,
       "overflow": null,
       "overflow_x": null,
       "overflow_y": null,
       "padding": null,
       "right": null,
       "top": null,
       "visibility": null,
       "width": null
      }
     },
     "cd6ffa44e8204d0fbb83b78decec9264": {
      "model_module": "@jupyter-widgets/base",
      "model_module_version": "1.2.0",
      "model_name": "LayoutModel",
      "state": {
       "_model_module": "@jupyter-widgets/base",
       "_model_module_version": "1.2.0",
       "_model_name": "LayoutModel",
       "_view_count": null,
       "_view_module": "@jupyter-widgets/base",
       "_view_module_version": "1.2.0",
       "_view_name": "LayoutView",
       "align_content": null,
       "align_items": null,
       "align_self": null,
       "border": null,
       "bottom": null,
       "display": "inline-flex",
       "flex": null,
       "flex_flow": "row wrap",
       "grid_area": null,
       "grid_auto_columns": null,
       "grid_auto_flow": null,
       "grid_auto_rows": null,
       "grid_column": null,
       "grid_gap": null,
       "grid_row": null,
       "grid_template_areas": null,
       "grid_template_columns": null,
       "grid_template_rows": null,
       "height": null,
       "justify_content": null,
       "justify_items": null,
       "left": null,
       "margin": null,
       "max_height": null,
       "max_width": null,
       "min_height": null,
       "min_width": null,
       "object_fit": null,
       "object_position": null,
       "order": null,
       "overflow": null,
       "overflow_x": null,
       "overflow_y": null,
       "padding": null,
       "right": null,
       "top": null,
       "visibility": null,
       "width": "100%"
      }
     },
     "ceec7dd3bc0749d9bd1c7eaf81e9bada": {
      "model_module": "@jupyter-widgets/base",
      "model_module_version": "1.2.0",
      "model_name": "LayoutModel",
      "state": {
       "_model_module": "@jupyter-widgets/base",
       "_model_module_version": "1.2.0",
       "_model_name": "LayoutModel",
       "_view_count": null,
       "_view_module": "@jupyter-widgets/base",
       "_view_module_version": "1.2.0",
       "_view_name": "LayoutView",
       "align_content": null,
       "align_items": null,
       "align_self": null,
       "border": null,
       "bottom": null,
       "display": "inline-flex",
       "flex": null,
       "flex_flow": "row wrap",
       "grid_area": null,
       "grid_auto_columns": null,
       "grid_auto_flow": null,
       "grid_auto_rows": null,
       "grid_column": null,
       "grid_gap": null,
       "grid_row": null,
       "grid_template_areas": null,
       "grid_template_columns": null,
       "grid_template_rows": null,
       "height": null,
       "justify_content": null,
       "justify_items": null,
       "left": null,
       "margin": null,
       "max_height": null,
       "max_width": null,
       "min_height": null,
       "min_width": null,
       "object_fit": null,
       "object_position": null,
       "order": null,
       "overflow": null,
       "overflow_x": null,
       "overflow_y": null,
       "padding": null,
       "right": null,
       "top": null,
       "visibility": null,
       "width": "100%"
      }
     },
     "cefff01876f24544a3fb12749a410e13": {
      "model_module": "@jupyter-widgets/base",
      "model_module_version": "1.2.0",
      "model_name": "LayoutModel",
      "state": {
       "_model_module": "@jupyter-widgets/base",
       "_model_module_version": "1.2.0",
       "_model_name": "LayoutModel",
       "_view_count": null,
       "_view_module": "@jupyter-widgets/base",
       "_view_module_version": "1.2.0",
       "_view_name": "LayoutView",
       "align_content": null,
       "align_items": null,
       "align_self": null,
       "border": null,
       "bottom": null,
       "display": null,
       "flex": null,
       "flex_flow": null,
       "grid_area": null,
       "grid_auto_columns": null,
       "grid_auto_flow": null,
       "grid_auto_rows": null,
       "grid_column": null,
       "grid_gap": null,
       "grid_row": null,
       "grid_template_areas": null,
       "grid_template_columns": null,
       "grid_template_rows": null,
       "height": null,
       "justify_content": null,
       "justify_items": null,
       "left": null,
       "margin": null,
       "max_height": null,
       "max_width": null,
       "min_height": null,
       "min_width": null,
       "object_fit": null,
       "object_position": null,
       "order": null,
       "overflow": null,
       "overflow_x": null,
       "overflow_y": null,
       "padding": null,
       "right": null,
       "top": null,
       "visibility": null,
       "width": null
      }
     },
     "cfe1422d120841d880e15c59fb1f17f4": {
      "model_module": "@jupyter-widgets/controls",
      "model_module_version": "1.5.0",
      "model_name": "ProgressStyleModel",
      "state": {
       "_model_module": "@jupyter-widgets/controls",
       "_model_module_version": "1.5.0",
       "_model_name": "ProgressStyleModel",
       "_view_count": null,
       "_view_module": "@jupyter-widgets/base",
       "_view_module_version": "1.2.0",
       "_view_name": "StyleView",
       "bar_color": null,
       "description_width": ""
      }
     },
     "d01a854de2dd44cf820b42ac7e2356f6": {
      "model_module": "@jupyter-widgets/controls",
      "model_module_version": "1.5.0",
      "model_name": "HBoxModel",
      "state": {
       "_dom_classes": [],
       "_model_module": "@jupyter-widgets/controls",
       "_model_module_version": "1.5.0",
       "_model_name": "HBoxModel",
       "_view_count": null,
       "_view_module": "@jupyter-widgets/controls",
       "_view_module_version": "1.5.0",
       "_view_name": "HBoxView",
       "box_style": "",
       "children": [
        "IPY_MODEL_d37a5317abee4a2a9f2b2541c828942a",
        "IPY_MODEL_b78e9ccdd47f4747908d676ed7463f68",
        "IPY_MODEL_41b5f221a94f41b2b825348b42ad4c0f"
       ],
       "layout": "IPY_MODEL_ceec7dd3bc0749d9bd1c7eaf81e9bada"
      }
     },
     "d180dc97f7864c99bbf91e6d719344cc": {
      "model_module": "@jupyter-widgets/base",
      "model_module_version": "1.2.0",
      "model_name": "LayoutModel",
      "state": {
       "_model_module": "@jupyter-widgets/base",
       "_model_module_version": "1.2.0",
       "_model_name": "LayoutModel",
       "_view_count": null,
       "_view_module": "@jupyter-widgets/base",
       "_view_module_version": "1.2.0",
       "_view_name": "LayoutView",
       "align_content": null,
       "align_items": null,
       "align_self": null,
       "border": null,
       "bottom": null,
       "display": null,
       "flex": null,
       "flex_flow": null,
       "grid_area": null,
       "grid_auto_columns": null,
       "grid_auto_flow": null,
       "grid_auto_rows": null,
       "grid_column": null,
       "grid_gap": null,
       "grid_row": null,
       "grid_template_areas": null,
       "grid_template_columns": null,
       "grid_template_rows": null,
       "height": null,
       "justify_content": null,
       "justify_items": null,
       "left": null,
       "margin": null,
       "max_height": null,
       "max_width": null,
       "min_height": null,
       "min_width": null,
       "object_fit": null,
       "object_position": null,
       "order": null,
       "overflow": null,
       "overflow_x": null,
       "overflow_y": null,
       "padding": null,
       "right": null,
       "top": null,
       "visibility": null,
       "width": null
      }
     },
     "d37a5317abee4a2a9f2b2541c828942a": {
      "model_module": "@jupyter-widgets/controls",
      "model_module_version": "1.5.0",
      "model_name": "HTMLModel",
      "state": {
       "_dom_classes": [],
       "_model_module": "@jupyter-widgets/controls",
       "_model_module_version": "1.5.0",
       "_model_name": "HTMLModel",
       "_view_count": null,
       "_view_module": "@jupyter-widgets/controls",
       "_view_module_version": "1.5.0",
       "_view_name": "HTMLView",
       "description": "",
       "description_tooltip": null,
       "layout": "IPY_MODEL_cafdde88facd4f0f9535fd0f2b6f04d0",
       "placeholder": "​",
       "style": "IPY_MODEL_da0eef92e4ca43b39e5bb33c686536a6",
       "value": "Test: 100%"
      }
     },
     "d57ea7dd585b499ea313fcb25298a7ee": {
      "model_module": "@jupyter-widgets/controls",
      "model_module_version": "1.5.0",
      "model_name": "HBoxModel",
      "state": {
       "_dom_classes": [],
       "_model_module": "@jupyter-widgets/controls",
       "_model_module_version": "1.5.0",
       "_model_name": "HBoxModel",
       "_view_count": null,
       "_view_module": "@jupyter-widgets/controls",
       "_view_module_version": "1.5.0",
       "_view_name": "HBoxView",
       "box_style": "",
       "children": [
        "IPY_MODEL_7c2e95afdf624fbdba0f9ef8791bad30",
        "IPY_MODEL_c54bd1ddb9064e1ea13a210af3c78399",
        "IPY_MODEL_629cb0c011cc4e5ea12afba03b78b7ce"
       ],
       "layout": "IPY_MODEL_d9086ef8c4634b4eb6012029beab9987"
      }
     },
     "d8fadf691f4f4f56abf53aa755b8d0cd": {
      "model_module": "@jupyter-widgets/controls",
      "model_module_version": "1.5.0",
      "model_name": "VBoxModel",
      "state": {
       "_dom_classes": [],
       "_model_module": "@jupyter-widgets/controls",
       "_model_module_version": "1.5.0",
       "_model_name": "VBoxModel",
       "_view_count": null,
       "_view_module": "@jupyter-widgets/controls",
       "_view_module_version": "1.5.0",
       "_view_name": "VBoxView",
       "box_style": "",
       "children": [
        "IPY_MODEL_0beef81f98314cc4ac60c1ce94a6d57a",
        "IPY_MODEL_83d5fdbb69bf48bd9a001b9c2512a240"
       ],
       "layout": "IPY_MODEL_cd0779f734334bcb826934ef0d0ac500"
      }
     },
     "d9086ef8c4634b4eb6012029beab9987": {
      "model_module": "@jupyter-widgets/base",
      "model_module_version": "1.2.0",
      "model_name": "LayoutModel",
      "state": {
       "_model_module": "@jupyter-widgets/base",
       "_model_module_version": "1.2.0",
       "_model_name": "LayoutModel",
       "_view_count": null,
       "_view_module": "@jupyter-widgets/base",
       "_view_module_version": "1.2.0",
       "_view_name": "LayoutView",
       "align_content": null,
       "align_items": null,
       "align_self": null,
       "border": null,
       "bottom": null,
       "display": "inline-flex",
       "flex": null,
       "flex_flow": "row wrap",
       "grid_area": null,
       "grid_auto_columns": null,
       "grid_auto_flow": null,
       "grid_auto_rows": null,
       "grid_column": null,
       "grid_gap": null,
       "grid_row": null,
       "grid_template_areas": null,
       "grid_template_columns": null,
       "grid_template_rows": null,
       "height": null,
       "justify_content": null,
       "justify_items": null,
       "left": null,
       "margin": null,
       "max_height": null,
       "max_width": null,
       "min_height": null,
       "min_width": null,
       "object_fit": null,
       "object_position": null,
       "order": null,
       "overflow": null,
       "overflow_x": null,
       "overflow_y": null,
       "padding": null,
       "right": null,
       "top": null,
       "visibility": null,
       "width": "100%"
      }
     },
     "da0eef92e4ca43b39e5bb33c686536a6": {
      "model_module": "@jupyter-widgets/controls",
      "model_module_version": "1.5.0",
      "model_name": "DescriptionStyleModel",
      "state": {
       "_model_module": "@jupyter-widgets/controls",
       "_model_module_version": "1.5.0",
       "_model_name": "DescriptionStyleModel",
       "_view_count": null,
       "_view_module": "@jupyter-widgets/base",
       "_view_module_version": "1.2.0",
       "_view_name": "StyleView",
       "description_width": ""
      }
     },
     "da2271258d704699b411acbbad58af6d": {
      "model_module": "@jupyter-widgets/controls",
      "model_module_version": "1.5.0",
      "model_name": "HBoxModel",
      "state": {
       "_dom_classes": [],
       "_model_module": "@jupyter-widgets/controls",
       "_model_module_version": "1.5.0",
       "_model_name": "HBoxModel",
       "_view_count": null,
       "_view_module": "@jupyter-widgets/controls",
       "_view_module_version": "1.5.0",
       "_view_name": "HBoxView",
       "box_style": "",
       "children": [
        "IPY_MODEL_82db67098b3c44aebea5c4a9e2ae455e",
        "IPY_MODEL_781124e4385b4855b2af4ad1ed37c854",
        "IPY_MODEL_00af975f834049709c6a5484a60779ef"
       ],
       "layout": "IPY_MODEL_8c6d396e84904e5080f2f5737243b161"
      }
     },
     "dcb914e77c064e52a00b911d792ec3d7": {
      "model_module": "@jupyter-widgets/controls",
      "model_module_version": "1.5.0",
      "model_name": "ProgressStyleModel",
      "state": {
       "_model_module": "@jupyter-widgets/controls",
       "_model_module_version": "1.5.0",
       "_model_name": "ProgressStyleModel",
       "_view_count": null,
       "_view_module": "@jupyter-widgets/base",
       "_view_module_version": "1.2.0",
       "_view_name": "StyleView",
       "bar_color": null,
       "description_width": ""
      }
     },
     "e1b25461a9ff40ec98ab5ae9dcaf99c1": {
      "model_module": "@jupyter-widgets/controls",
      "model_module_version": "1.5.0",
      "model_name": "DescriptionStyleModel",
      "state": {
       "_model_module": "@jupyter-widgets/controls",
       "_model_module_version": "1.5.0",
       "_model_name": "DescriptionStyleModel",
       "_view_count": null,
       "_view_module": "@jupyter-widgets/base",
       "_view_module_version": "1.2.0",
       "_view_name": "StyleView",
       "description_width": ""
      }
     },
     "e69dd638f88a4c75abef6967648148ec": {
      "model_module": "@jupyter-widgets/controls",
      "model_module_version": "1.5.0",
      "model_name": "HBoxModel",
      "state": {
       "_dom_classes": [],
       "_model_module": "@jupyter-widgets/controls",
       "_model_module_version": "1.5.0",
       "_model_name": "HBoxModel",
       "_view_count": null,
       "_view_module": "@jupyter-widgets/controls",
       "_view_module_version": "1.5.0",
       "_view_name": "HBoxView",
       "box_style": "",
       "children": [
        "IPY_MODEL_186f0f25e22542fd8ab073cb066ae182",
        "IPY_MODEL_26f4ca117be34c069937bfc8af820406",
        "IPY_MODEL_fb6c09a696094a0788830d711c30fccc"
       ],
       "layout": "IPY_MODEL_a0ff3f63756447d9a8a1a8cba273226b"
      }
     },
     "e995004013fc4f4888cbc52786815b2b": {
      "model_module": "@jupyter-widgets/controls",
      "model_module_version": "1.5.0",
      "model_name": "DescriptionStyleModel",
      "state": {
       "_model_module": "@jupyter-widgets/controls",
       "_model_module_version": "1.5.0",
       "_model_name": "DescriptionStyleModel",
       "_view_count": null,
       "_view_module": "@jupyter-widgets/base",
       "_view_module_version": "1.2.0",
       "_view_name": "StyleView",
       "description_width": ""
      }
     },
     "eadd80b3146342f8871ab9085874baa1": {
      "model_module": "@jupyter-widgets/controls",
      "model_module_version": "1.5.0",
      "model_name": "DescriptionStyleModel",
      "state": {
       "_model_module": "@jupyter-widgets/controls",
       "_model_module_version": "1.5.0",
       "_model_name": "DescriptionStyleModel",
       "_view_count": null,
       "_view_module": "@jupyter-widgets/base",
       "_view_module_version": "1.2.0",
       "_view_name": "StyleView",
       "description_width": ""
      }
     },
     "eb083a0f875048d3b92181b87f99834a": {
      "model_module": "@jupyter-widgets/base",
      "model_module_version": "1.2.0",
      "model_name": "LayoutModel",
      "state": {
       "_model_module": "@jupyter-widgets/base",
       "_model_module_version": "1.2.0",
       "_model_name": "LayoutModel",
       "_view_count": null,
       "_view_module": "@jupyter-widgets/base",
       "_view_module_version": "1.2.0",
       "_view_name": "LayoutView",
       "align_content": null,
       "align_items": null,
       "align_self": null,
       "border": null,
       "bottom": null,
       "display": null,
       "flex": null,
       "flex_flow": null,
       "grid_area": null,
       "grid_auto_columns": null,
       "grid_auto_flow": null,
       "grid_auto_rows": null,
       "grid_column": null,
       "grid_gap": null,
       "grid_row": null,
       "grid_template_areas": null,
       "grid_template_columns": null,
       "grid_template_rows": null,
       "height": null,
       "justify_content": null,
       "justify_items": null,
       "left": null,
       "margin": null,
       "max_height": null,
       "max_width": null,
       "min_height": null,
       "min_width": null,
       "object_fit": null,
       "object_position": null,
       "order": null,
       "overflow": null,
       "overflow_x": null,
       "overflow_y": null,
       "padding": null,
       "right": null,
       "top": null,
       "visibility": null,
       "width": null
      }
     },
     "f03e96543da245cfa50abcecf6080aad": {
      "model_module": "@jupyter-widgets/controls",
      "model_module_version": "1.5.0",
      "model_name": "ProgressStyleModel",
      "state": {
       "_model_module": "@jupyter-widgets/controls",
       "_model_module_version": "1.5.0",
       "_model_name": "ProgressStyleModel",
       "_view_count": null,
       "_view_module": "@jupyter-widgets/base",
       "_view_module_version": "1.2.0",
       "_view_name": "StyleView",
       "bar_color": null,
       "description_width": ""
      }
     },
     "f0bbc61d63ea491699cf41e6dc97ab56": {
      "model_module": "@jupyter-widgets/controls",
      "model_module_version": "1.5.0",
      "model_name": "DescriptionStyleModel",
      "state": {
       "_model_module": "@jupyter-widgets/controls",
       "_model_module_version": "1.5.0",
       "_model_name": "DescriptionStyleModel",
       "_view_count": null,
       "_view_module": "@jupyter-widgets/base",
       "_view_module_version": "1.2.0",
       "_view_name": "StyleView",
       "description_width": ""
      }
     },
     "f2517f35b29d49afb565d4fe57ae5757": {
      "model_module": "@jupyter-widgets/controls",
      "model_module_version": "1.5.0",
      "model_name": "DescriptionStyleModel",
      "state": {
       "_model_module": "@jupyter-widgets/controls",
       "_model_module_version": "1.5.0",
       "_model_name": "DescriptionStyleModel",
       "_view_count": null,
       "_view_module": "@jupyter-widgets/base",
       "_view_module_version": "1.2.0",
       "_view_name": "StyleView",
       "description_width": ""
      }
     },
     "f38d092d7bf54d329717d205d9d809c3": {
      "model_module": "@jupyter-widgets/controls",
      "model_module_version": "1.5.0",
      "model_name": "FloatProgressModel",
      "state": {
       "_dom_classes": [],
       "_model_module": "@jupyter-widgets/controls",
       "_model_module_version": "1.5.0",
       "_model_name": "FloatProgressModel",
       "_view_count": null,
       "_view_module": "@jupyter-widgets/controls",
       "_view_module_version": "1.5.0",
       "_view_name": "ProgressView",
       "bar_style": "info",
       "description": "",
       "description_tooltip": null,
       "layout": "IPY_MODEL_20607e7cfb294215b9877fb4d68c712d",
       "max": 1.0,
       "min": 0.0,
       "orientation": "horizontal",
       "style": "IPY_MODEL_f03e96543da245cfa50abcecf6080aad",
       "value": 1.0
      }
     },
     "f3d5d3dcbd8d457f906305683a6f98c2": {
      "model_module": "@jupyter-widgets/base",
      "model_module_version": "1.2.0",
      "model_name": "LayoutModel",
      "state": {
       "_model_module": "@jupyter-widgets/base",
       "_model_module_version": "1.2.0",
       "_model_name": "LayoutModel",
       "_view_count": null,
       "_view_module": "@jupyter-widgets/base",
       "_view_module_version": "1.2.0",
       "_view_name": "LayoutView",
       "align_content": null,
       "align_items": null,
       "align_self": null,
       "border": null,
       "bottom": null,
       "display": null,
       "flex": "2",
       "flex_flow": null,
       "grid_area": null,
       "grid_auto_columns": null,
       "grid_auto_flow": null,
       "grid_auto_rows": null,
       "grid_column": null,
       "grid_gap": null,
       "grid_row": null,
       "grid_template_areas": null,
       "grid_template_columns": null,
       "grid_template_rows": null,
       "height": null,
       "justify_content": null,
       "justify_items": null,
       "left": null,
       "margin": null,
       "max_height": null,
       "max_width": null,
       "min_height": null,
       "min_width": null,
       "object_fit": null,
       "object_position": null,
       "order": null,
       "overflow": null,
       "overflow_x": null,
       "overflow_y": null,
       "padding": null,
       "right": null,
       "top": null,
       "visibility": null,
       "width": null
      }
     },
     "f74122cf1f2d4798bf52dde5ef59f9a7": {
      "model_module": "@jupyter-widgets/controls",
      "model_module_version": "1.5.0",
      "model_name": "HTMLModel",
      "state": {
       "_dom_classes": [],
       "_model_module": "@jupyter-widgets/controls",
       "_model_module_version": "1.5.0",
       "_model_name": "HTMLModel",
       "_view_count": null,
       "_view_module": "@jupyter-widgets/controls",
       "_view_module_version": "1.5.0",
       "_view_name": "HTMLView",
       "description": "",
       "description_tooltip": null,
       "layout": "IPY_MODEL_d180dc97f7864c99bbf91e6d719344cc",
       "placeholder": "​",
       "style": "IPY_MODEL_eadd80b3146342f8871ab9085874baa1",
       "value": "Epoch 0: 100%"
      }
     },
     "fb6c09a696094a0788830d711c30fccc": {
      "model_module": "@jupyter-widgets/controls",
      "model_module_version": "1.5.0",
      "model_name": "HTMLModel",
      "state": {
       "_dom_classes": [],
       "_model_module": "@jupyter-widgets/controls",
       "_model_module_version": "1.5.0",
       "_model_name": "HTMLModel",
       "_view_count": null,
       "_view_module": "@jupyter-widgets/controls",
       "_view_module_version": "1.5.0",
       "_view_name": "HTMLView",
       "description": "",
       "description_tooltip": null,
       "layout": "IPY_MODEL_eb083a0f875048d3b92181b87f99834a",
       "placeholder": "​",
       "style": "IPY_MODEL_f2517f35b29d49afb565d4fe57ae5757",
       "value": " 10/10 [00:00&lt;?, ?it/s, loss=2.3, v_num=vw9b, train_acc_step=0.0938, train_f1_step=0.0185, train_prec_step=0.0103, train_rec_step=0.0857, train_loss_step=2.3, train_acc_epoch=0.102, train_f1_epoch=0.027, train_prec_epoch=0.0486, train_rec_epoch=0.102, train_loss_epoch=2.3]"
      }
     },
     "fec95fb15d094358a30b964b1f3fc3f5": {
      "model_module": "@jupyter-widgets/base",
      "model_module_version": "1.2.0",
      "model_name": "LayoutModel",
      "state": {
       "_model_module": "@jupyter-widgets/base",
       "_model_module_version": "1.2.0",
       "_model_name": "LayoutModel",
       "_view_count": null,
       "_view_module": "@jupyter-widgets/base",
       "_view_module_version": "1.2.0",
       "_view_name": "LayoutView",
       "align_content": null,
       "align_items": null,
       "align_self": null,
       "border": null,
       "bottom": null,
       "display": null,
       "flex": null,
       "flex_flow": null,
       "grid_area": null,
       "grid_auto_columns": null,
       "grid_auto_flow": null,
       "grid_auto_rows": null,
       "grid_column": null,
       "grid_gap": null,
       "grid_row": null,
       "grid_template_areas": null,
       "grid_template_columns": null,
       "grid_template_rows": null,
       "height": null,
       "justify_content": null,
       "justify_items": null,
       "left": null,
       "margin": null,
       "max_height": null,
       "max_width": null,
       "min_height": null,
       "min_width": null,
       "object_fit": null,
       "object_position": null,
       "order": null,
       "overflow": null,
       "overflow_x": null,
       "overflow_y": null,
       "padding": null,
       "right": null,
       "top": null,
       "visibility": null,
       "width": null
      }
     }
    },
    "version_major": 2,
    "version_minor": 0
   }
  }
 },
 "nbformat": 4,
 "nbformat_minor": 4
}