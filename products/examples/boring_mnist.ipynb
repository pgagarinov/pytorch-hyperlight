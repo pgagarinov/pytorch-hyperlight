{
 "cells": [
  {
   "cell_type": "code",
   "execution_count": 1,
   "metadata": {},
   "outputs": [
    {
     "name": "stderr",
     "output_type": "stream",
     "text": [
      "/home/peter/.conda/envs/ml-devenv/lib/python3.8/site-packages/wandb/util.py:37: DeprecationWarning: Using or importing the ABCs from 'collections' instead of from 'collections.abc' is deprecated since Python 3.3, and in 3.9 it will stop working\n",
      "  from collections import namedtuple, Mapping, Sequence\n",
      "/home/peter/.conda/envs/ml-devenv/lib/python3.8/site-packages/wandb/vendor/graphql-core-1.1/graphql/type/directives.py:55: DeprecationWarning: Using or importing the ABCs from 'collections' instead of from 'collections.abc' is deprecated since Python 3.3, and in 3.9 it will stop working\n",
      "  assert isinstance(locations, collections.Iterable), 'Must provide locations for directive.'\n"
     ]
    }
   ],
   "source": [
    "import warnings\n",
    "from pathlib import Path\n",
    "\n",
    "import matplotlib.patches as patches\n",
    "\n",
    "#\n",
    "import numpy as np\n",
    "import pytorch_hyperlight as pth\n",
    "\n",
    "#\n",
    "###\n",
    "import pytorch_lightning as pl\n",
    "import pytorch_lightning.metrics as metrics\n",
    "import torch\n",
    "import torch.nn.functional as F\n",
    "\n",
    "#\n",
    "from matplotlib import pyplot as plt\n",
    "from matplotlib.font_manager import FontProperties\n",
    "from pytorch_lightning import Callback\n",
    "\n",
    "###\n",
    "from ray import tune\n",
    "\n",
    "#\n",
    "from torch import nn\n",
    "from torch.utils.data import DataLoader, random_split\n",
    "from torchvision import transforms\n",
    "from torchvision.datasets.mnist import MNIST\n",
    "from transformers import AdamW, get_linear_schedule_with_warmup"
   ]
  },
  {
   "cell_type": "code",
   "execution_count": 2,
   "metadata": {
    "tags": [
     "parameters"
    ]
   },
   "outputs": [
    {
     "name": "stderr",
     "output_type": "stream",
     "text": [
      "/home/peter/.local/lib/python3.8/site-packages/ipykernel/ipkernel.py:287: DeprecationWarning: `should_run_async` will not call `transform_cell` automatically in the future. Please pass the result to `transformed_cell` argument and any exception that happen during thetransform in `preprocessing_exc_tuple` in IPython 7.17 and above.\n",
      "  and should_run_async(code)\n"
     ]
    }
   ],
   "source": [
    "USAGE_MODE = \"single-run\"  # choose from 'single-run' and 'hyper-opt'\n",
    "# USAGE_MODE = \"hyper-opt\"  # choose from 'single-run' and 'hyper-opt'"
   ]
  },
  {
   "cell_type": "code",
   "execution_count": 3,
   "metadata": {},
   "outputs": [],
   "source": [
    "FAST_DEV_RUN = True  # if true, simplifed configurations running for just a few epochs are used for making sure there are no obvious bugs"
   ]
  },
  {
   "cell_type": "code",
   "execution_count": 4,
   "metadata": {},
   "outputs": [],
   "source": [
    "EXPERIMENT_ID = \"boring-mnist\"\n",
    "\n",
    "DATASETS_PATH = Path(\"/home/peter/_Git/_ML/dlschool-solutions/term1/task5/data\")\n",
    "\n",
    "warnings.filterwarnings(\"ignore\")\n",
    "\n",
    "\n",
    "# a dedicated function for creating datasets\n",
    "# please note how 'full_train_dataset' is created along with train,\n",
    "# val and test datasets\n",
    "def create_datasets(val_size=0.2):\n",
    "    SEED = 16\n",
    "    pl.seed_everything(SEED)\n",
    "    #\n",
    "    full_train_dataset = MNIST(\n",
    "        DATASETS_PATH, train=True, download=True, transform=transforms.ToTensor()\n",
    "    )\n",
    "    test_dataset = MNIST(\n",
    "        DATASETS_PATH, train=False, download=True, transform=transforms.ToTensor()\n",
    "    )\n",
    "    n_full_train_samples = len(full_train_dataset)\n",
    "    n_val_samples = int(n_full_train_samples * val_size)\n",
    "    train_dataset, val_dataset = random_split(\n",
    "        full_train_dataset, [n_full_train_samples - n_val_samples, n_val_samples]\n",
    "    )\n",
    "\n",
    "    n_classes = len(MNIST.classes)\n",
    "\n",
    "    return {\n",
    "        \"full_train_dataset\": full_train_dataset,\n",
    "        \"train_dataset\": train_dataset,\n",
    "        \"val_dataset\": val_dataset,\n",
    "        \"test_dataset\": test_dataset,\n",
    "        \"n_classes\": n_classes,\n",
    "    }"
   ]
  },
  {
   "cell_type": "code",
   "execution_count": 5,
   "metadata": {
    "id": "uJ6-Ce3Fuhno"
   },
   "outputs": [],
   "source": [
    "def imshow(inp, title=None, plt_ax=plt, default=False):\n",
    "    \"\"\"Imshow for tensors\"\"\"\n",
    "    inp = inp.numpy().transpose((1, 2, 0))\n",
    "    mean = np.array([0.485, 0.456, 0.406])\n",
    "    std = np.array([0.229, 0.224, 0.225])\n",
    "    inp = std * inp + mean\n",
    "    inp = np.clip(inp, 0, 1)\n",
    "    plt_ax.imshow(inp)\n",
    "    if title is not None:\n",
    "        plt_ax.set_title(title)\n",
    "    plt_ax.grid(False)"
   ]
  },
  {
   "cell_type": "code",
   "execution_count": 6,
   "metadata": {
    "collapsed": false,
    "jupyter": {
     "outputs_hidden": false
    },
    "pycharm": {
     "name": "#%%\n"
    }
   },
   "outputs": [],
   "source": [
    "# a dedicated function for creating dataloaders\n",
    "# 'full_train_loader' is created along with standard 3 loaderers\n",
    "# for training, validation and testing datasets\n",
    "def configure_dataloaders(batch_size, n_workers=4, val_size=0.2):\n",
    "    #\n",
    "    SHUFFLE = True\n",
    "    SAMPLER = None\n",
    "    #\n",
    "    result_dict = create_datasets(val_size)\n",
    "    #\n",
    "    for prefix in [\"train\", \"full_train\"]:\n",
    "\n",
    "        result_dict[f\"{prefix}_loader\"] = DataLoader(\n",
    "            result_dict[f\"{prefix}_dataset\"],\n",
    "            batch_size=batch_size,\n",
    "            shuffle=SHUFFLE,\n",
    "            sampler=SAMPLER,\n",
    "            num_workers=n_workers,\n",
    "            pin_memory=True,\n",
    "        )\n",
    "    #\n",
    "    for prefix in [\"val\", \"test\"]:\n",
    "        result_dict[f\"{prefix}_loader\"] = DataLoader(\n",
    "            result_dict[f\"{prefix}_dataset\"],\n",
    "            batch_size=batch_size,\n",
    "            shuffle=False,\n",
    "            num_workers=n_workers,\n",
    "            pin_memory=True,\n",
    "        )\n",
    "\n",
    "    return result_dict"
   ]
  },
  {
   "cell_type": "markdown",
   "metadata": {},
   "source": [
    "Let us make sure our dataloaders can be created correctly"
   ]
  },
  {
   "cell_type": "code",
   "execution_count": 7,
   "metadata": {},
   "outputs": [],
   "source": [
    "BATCH_SIZE = 32\n",
    "\n",
    "loaders_dict = configure_dataloaders(BATCH_SIZE)\n",
    "\n",
    "loaders_dict\n",
    "\n",
    "batch = next(iter(loaders_dict[\"train_loader\"]))\n",
    "assert len(batch[0]) > 0"
   ]
  },
  {
   "cell_type": "code",
   "execution_count": 8,
   "metadata": {},
   "outputs": [
    {
     "data": {
      "text/plain": [
       "60000"
      ]
     },
     "execution_count": 8,
     "metadata": {},
     "output_type": "execute_result"
    }
   ],
   "source": [
    "result_dict = create_datasets(0.2)\n",
    "len(result_dict[\"full_train_dataset\"])"
   ]
  },
  {
   "cell_type": "code",
   "execution_count": 9,
   "metadata": {},
   "outputs": [
    {
     "data": {
      "text/plain": [
       "10"
      ]
     },
     "execution_count": 9,
     "metadata": {},
     "output_type": "execute_result"
    }
   ],
   "source": [
    "loaders_dict[\"n_classes\"]"
   ]
  },
  {
   "cell_type": "markdown",
   "metadata": {},
   "source": [
    "### Defining the model"
   ]
  },
  {
   "cell_type": "markdown",
   "metadata": {},
   "source": [
    "Let define a dedicated class for metrics calculation"
   ]
  },
  {
   "cell_type": "code",
   "execution_count": 10,
   "metadata": {},
   "outputs": [],
   "source": [
    "class LitMetricsCalc(torch.nn.Module):\n",
    "    def __init__(self, prefix, num_classes):\n",
    "        super(LitMetricsCalc, self).__init__()\n",
    "        self.acc = metrics.classification.Accuracy()\n",
    "        self.f1 = metrics.classification.F1(num_classes=num_classes, average=\"macro\")\n",
    "        self.rec = metrics.classification.Recall(\n",
    "            num_classes=num_classes, average=\"macro\"\n",
    "        )\n",
    "        self.prec = metrics.classification.Precision(\n",
    "            num_classes=num_classes, average=\"macro\"\n",
    "        )\n",
    "        self.prefix = prefix\n",
    "\n",
    "    def step(self, logit, target):\n",
    "        probs = torch.softmax(logit, dim=1)\n",
    "        prefix = self.prefix\n",
    "        self.acc(probs, target)\n",
    "        self.f1(probs, target)\n",
    "        self.prec(probs, target)\n",
    "        self.rec(probs, target)\n",
    "\n",
    "        return {\n",
    "            f\"{prefix}_acc\": self.acc,\n",
    "            f\"{prefix}_f1\": self.f1,\n",
    "            f\"{prefix}_prec\": self.prec,\n",
    "            f\"{prefix}_rec\": self.rec,\n",
    "        }"
   ]
  },
  {
   "cell_type": "code",
   "execution_count": 11,
   "metadata": {
    "collapsed": false,
    "jupyter": {
     "outputs_hidden": false
    },
    "pycharm": {
     "name": "#%%\n"
    }
   },
   "outputs": [],
   "source": [
    "class Backbone(torch.nn.Module):\n",
    "    def __init__(self, n_classes):\n",
    "        super().__init__()\n",
    "        self.l0 = torch.nn.Linear(28 * 28, 256)\n",
    "        self.l1 = torch.nn.Linear(256, 128)\n",
    "        self.l2 = torch.nn.Linear(128, n_classes)\n",
    "\n",
    "    def forward(self, x):\n",
    "        x = x.view(x.size(0), -1)\n",
    "        x = torch.relu(self.l0(x))\n",
    "        x = torch.relu(self.l1(x))\n",
    "        x = torch.relu(self.l2(x))\n",
    "        return x"
   ]
  },
  {
   "cell_type": "code",
   "execution_count": 12,
   "metadata": {},
   "outputs": [],
   "source": [
    "class LitBackbone(pl.LightningModule):\n",
    "    def __init__(self, hparams):\n",
    "        super().__init__()\n",
    "        self.hparams = hparams\n",
    "        #\n",
    "        n_classes = self.hparams.n_classes\n",
    "        #\n",
    "        model = Backbone(n_classes)\n",
    "        #\n",
    "        self.model = model\n",
    "        self.train_metric_calc = LitMetricsCalc(\"train\", num_classes=n_classes)\n",
    "        self.val_metric_calc = LitMetricsCalc(\"val\", num_classes=n_classes)\n",
    "        self.test_metric_calc = LitMetricsCalc(\"test\", num_classes=n_classes)\n",
    "        self.freeze()\n",
    "\n",
    "    def freeze(self):\n",
    "        for param in self.model.parameters():\n",
    "            param.requires_grad = False\n",
    "\n",
    "    def unfreeze(self):\n",
    "        for param in self.model.parameters():\n",
    "            param.requires_grad = True\n",
    "\n",
    "    def unfreeze_tail(self, ind_layer):\n",
    "        assert ind_layer >= 0\n",
    "        ind = ind_layer\n",
    "        while True:\n",
    "            if ind == 0:\n",
    "                for param in self.model.l2.parameters():\n",
    "                    param.requires_grad = True\n",
    "            elif ind == 1:\n",
    "                for param in self.model.l1.parameters():\n",
    "                    param.requires_grad = True\n",
    "            elif ind == 2:\n",
    "                for param in self.model.l0.parameters():\n",
    "                    param.requires_grad = True\n",
    "            ind -= 1\n",
    "            if ind < 0:\n",
    "                break\n",
    "\n",
    "    def configure_optimizers(self):\n",
    "        optimizer = AdamW(\n",
    "            self.model.parameters(),\n",
    "            lr=self.hparams.lr,\n",
    "            betas=(0.9, 0.999),\n",
    "            eps=1e-8,\n",
    "        )\n",
    "\n",
    "        scheduler = get_linear_schedule_with_warmup(\n",
    "            optimizer, self.hparams.warmup, self.hparams.n_train_steps\n",
    "        )\n",
    "        return [optimizer], [\n",
    "            {\"scheduler\": scheduler, \"interval\": \"step\", \"frequency\": 1}\n",
    "        ]\n",
    "\n",
    "    def forward(self, inputs):\n",
    "        logits = self.model(inputs)\n",
    "        return logits\n",
    "\n",
    "    def forward_batch(self, batch):\n",
    "        inputs = batch[0]\n",
    "        return self(inputs)\n",
    "\n",
    "    def __calc_loss(self, logits, target, log_label):\n",
    "        loss = F.cross_entropy(logits, target)\n",
    "        self.log(f\"{log_label}_loss\", loss, prog_bar=True, on_step=True, on_epoch=True)\n",
    "        return loss\n",
    "\n",
    "    def __stage_step(self, metric_calc, batch, batch_idx, stage):\n",
    "        logits = self.forward_batch(batch)\n",
    "        mval_dict = metric_calc.step(logits, batch[1])\n",
    "        self.log_dict(mval_dict, prog_bar=True, on_step=True, on_epoch=True)\n",
    "        loss = self.__calc_loss(logits, batch[1], stage)\n",
    "        return loss\n",
    "\n",
    "    def training_step(self, batch, batch_idx):\n",
    "        return self.__stage_step(self.train_metric_calc, batch, batch_idx, \"train\")\n",
    "\n",
    "    def test_step(self, batch, batch_idx):\n",
    "        return self.__stage_step(self.test_metric_calc, batch, batch_idx, \"test\")\n",
    "\n",
    "    def validation_step(self, batch, batch_idx):\n",
    "        return self.__stage_step(self.val_metric_calc, batch, batch_idx, \"val\")"
   ]
  },
  {
   "cell_type": "code",
   "execution_count": 13,
   "metadata": {
    "collapsed": false,
    "jupyter": {
     "outputs_hidden": false
    },
    "pycharm": {
     "name": "#%%\n"
    }
   },
   "outputs": [],
   "source": [
    "N_CLASSES = loaders_dict[\"n_classes\"]\n",
    "LMODULE_CLASS = LitBackbone"
   ]
  },
  {
   "cell_type": "code",
   "execution_count": 14,
   "metadata": {},
   "outputs": [],
   "source": [
    "CONFIG = {\n",
    "    \"lr\": 6.2e-5,  # Initial learning rate\n",
    "    \"warmup\": 200,  # for StepLR LR scheduler\n",
    "    \"gradient_clip_val\": 0,\n",
    "    # \"max_epochs\": 30,  # the actual number can be less due to early stopping\n",
    "    \"max_epochs\": 10,  # the actual number can be less due to early stopping\n",
    "    \"batch_size\": 64,  # the maximum for this model and RTX 2070,\n",
    "    \"n_classes\": N_CLASSES,\n",
    "    \"unfreeze_epochs\": [0, 1],  #\n",
    "}\n",
    "\n",
    "TUNE_CONFIG = {\n",
    "    \"seed\": 16,\n",
    "    \"metric_to_optimize\": \"val_f1_epoch\",  # Ray + PTL Trainer\n",
    "    \"ray_metrics_to_show\": [\n",
    "        \"val_loss_epoch\",\n",
    "        \"val_f1_epoch\",\n",
    "        \"val_acc_epoch\",\n",
    "    ],  # Ray\n",
    "    \"metric_opt_mode\": \"max\",  # Ray + PTL Trainer\n",
    "    \"cpu_per_trial\": 3,  # Ray + DataLoaders\n",
    "    \"gpu_per_trial\": 0,  # Ray\n",
    "    \"n_checkpoints_to_keep\": 1,  # Ray\n",
    "    \"grace_period\": 6,  # Ray\n",
    "    \"epoch_upper_limit\": 45,  # Ray\n",
    "    \"n_samples\": 40,  # Ray\n",
    "    # \"n_samples\": 3,\n",
    "    \"ptl_trainer_patience\": 7,  # PTL Trainer\n",
    "    # \"ptl_precision\": 16,  # PTL Trainer\n",
    "    \"ptl_precision\": 32,  # PTL Trainer\n",
    "    #\n",
    "    \"train_loader_name\": \"train_loader\",\n",
    "    \"val_loader_name\": \"val_loader\",\n",
    "    \"test_loader_name\": \"test_loader\",\n",
    "    #\n",
    "    \"batch_size_main\": 32,  # batch size for validation runs in the main process once all Ray Tune trials are finished\n",
    "    \"gpus\": 0,\n",
    "}\n",
    "\n",
    "if FAST_DEV_RUN:\n",
    "    CONFIG[\"max_epochs\"] = 2\n",
    "    TUNE_CONFIG[\"n_samples\"] = 2\n",
    "    TUNE_CONFIG[\"gpu_per_trial\"] = 0"
   ]
  },
  {
   "cell_type": "code",
   "execution_count": 16,
   "metadata": {},
   "outputs": [],
   "source": [
    "class UnfreezeModelTailCallback(Callback):\n",
    "    def __init__(self, epoch_vec):\n",
    "        super().__init__()\n",
    "        self.epoch_vec = epoch_vec\n",
    "\n",
    "    def on_epoch_start(self, trainer, pl_module):\n",
    "        if trainer.current_epoch <= self.epoch_vec[0]:\n",
    "            pl_module.unfreeze_tail(0)\n",
    "        elif trainer.current_epoch <= self.epoch_vec[1]:\n",
    "            pl_module.unfreeze_tail(1)\n",
    "        else:\n",
    "            pl_module.unfreeze()\n",
    "\n",
    "\n",
    "pl_callbacks = [UnfreezeModelTailCallback(CONFIG[\"unfreeze_epochs\"])]"
   ]
  },
  {
   "cell_type": "code",
   "execution_count": 17,
   "metadata": {},
   "outputs": [],
   "source": [
    "ptl_ray_runner = pth.Runner(\n",
    "    configure_dataloaders,\n",
    "    pl_callbacks=pl_callbacks,\n",
    "    is_debug=FAST_DEV_RUN,\n",
    "    experiment_id=EXPERIMENT_ID,\n",
    ")"
   ]
  },
  {
   "cell_type": "code",
   "execution_count": 18,
   "metadata": {},
   "outputs": [
    {
     "name": "stderr",
     "output_type": "stream",
     "text": [
      "GPU available: True, used: False\n",
      "TPU available: None, using: 0 TPU cores\n",
      "\n",
      "  | Name              | Type           | Params\n",
      "-----------------------------------------------------\n",
      "0 | model             | Backbone       | 235 K \n",
      "1 | train_metric_calc | LitMetricsCalc | 0     \n",
      "2 | val_metric_calc   | LitMetricsCalc | 0     \n",
      "3 | test_metric_calc  | LitMetricsCalc | 0     \n",
      "-----------------------------------------------------\n",
      "0         Trainable params\n",
      "235 K     Non-trainable params\n",
      "235 K     Total params\n"
     ]
    },
    {
     "data": {
      "application/vnd.jupyter.widget-view+json": {
       "model_id": "",
       "version_major": 2,
       "version_minor": 0
      },
      "text/plain": [
       "HBox(children=(HTML(value='Validation sanity check'), FloatProgress(value=1.0, bar_style='info', layout=Layout…"
      ]
     },
     "metadata": {},
     "output_type": "display_data"
    },
    {
     "data": {
      "application/vnd.jupyter.widget-view+json": {
       "model_id": "",
       "version_major": 2,
       "version_minor": 0
      },
      "text/plain": [
       "HBox(children=(HTML(value='Training'), FloatProgress(value=1.0, bar_style='info', layout=Layout(flex='2'), max…"
      ]
     },
     "metadata": {},
     "output_type": "display_data"
    },
    {
     "data": {
      "application/vnd.jupyter.widget-view+json": {
       "model_id": "",
       "version_major": 2,
       "version_minor": 0
      },
      "text/plain": [
       "HBox(children=(HTML(value='Validating'), FloatProgress(value=1.0, bar_style='info', layout=Layout(flex='2'), m…"
      ]
     },
     "metadata": {},
     "output_type": "display_data"
    },
    {
     "name": "stdout",
     "output_type": "stream",
     "text": [
      "|   Train/Val |   val_f1 |   train_f1 |   val_acc |   train_acc |   val_rec |   train_rec |   val_prec |   train_prec |   val_loss |   train_loss |\n",
      "|------------:|---------:|-----------:|----------:|------------:|----------:|------------:|-----------:|-------------:|-----------:|-------------:|\n",
      "|           0 |   0.0318 |     0.0334 |    0.0969 |      0.1109 |    0.1118 |      0.1017 |     0.0188 |       0.0201 |     2.3055 |       2.3045 |\n"
     ]
    },
    {
     "data": {
      "application/vnd.jupyter.widget-view+json": {
       "model_id": "",
       "version_major": 2,
       "version_minor": 0
      },
      "text/plain": [
       "HBox(children=(HTML(value='Training'), FloatProgress(value=1.0, bar_style='info', layout=Layout(flex='2'), max…"
      ]
     },
     "metadata": {},
     "output_type": "display_data"
    },
    {
     "data": {
      "application/vnd.jupyter.widget-view+json": {
       "model_id": "",
       "version_major": 2,
       "version_minor": 0
      },
      "text/plain": [
       "HBox(children=(HTML(value='Validating'), FloatProgress(value=1.0, bar_style='info', layout=Layout(flex='2'), m…"
      ]
     },
     "metadata": {},
     "output_type": "display_data"
    },
    {
     "name": "stdout",
     "output_type": "stream",
     "text": [
      "|   Train/Val |   val_f1 |   train_f1 |   val_acc |   train_acc |   val_rec |   train_rec |   val_prec |   train_prec |   val_loss |   train_loss |\n",
      "|------------:|---------:|-----------:|----------:|------------:|----------:|------------:|-----------:|-------------:|-----------:|-------------:|\n",
      "|           1 |   0.0321 |     0.0283 |    0.0969 |      0.0922 |    0.1118 |       0.094 |      0.019 |        0.017 |     2.3053 |       2.3085 |\n"
     ]
    },
    {
     "data": {
      "application/vnd.jupyter.widget-view+json": {
       "model_id": "",
       "version_major": 2,
       "version_minor": 0
      },
      "text/plain": [
       "HBox(children=(HTML(value='Training'), FloatProgress(value=1.0, bar_style='info', layout=Layout(flex='2'), max…"
      ]
     },
     "metadata": {},
     "output_type": "display_data"
    },
    {
     "data": {
      "application/vnd.jupyter.widget-view+json": {
       "model_id": "",
       "version_major": 2,
       "version_minor": 0
      },
      "text/plain": [
       "HBox(children=(HTML(value='Validating'), FloatProgress(value=1.0, bar_style='info', layout=Layout(flex='2'), m…"
      ]
     },
     "metadata": {},
     "output_type": "display_data"
    },
    {
     "name": "stdout",
     "output_type": "stream",
     "text": [
      "|   Train/Val |   val_f1 |   train_f1 |   val_acc |   train_acc |   val_rec |   train_rec |   val_prec |   train_prec |   val_loss |   train_loss |\n",
      "|------------:|---------:|-----------:|----------:|------------:|----------:|------------:|-----------:|-------------:|-----------:|-------------:|\n",
      "|           2 |   0.0345 |     0.0327 |    0.1031 |         0.1 |    0.1197 |      0.1113 |     0.0205 |       0.0204 |     2.3042 |       2.3084 |\n"
     ]
    },
    {
     "data": {
      "application/vnd.jupyter.widget-view+json": {
       "model_id": "",
       "version_major": 2,
       "version_minor": 0
      },
      "text/plain": [
       "HBox(children=(HTML(value='Training'), FloatProgress(value=1.0, bar_style='info', layout=Layout(flex='2'), max…"
      ]
     },
     "metadata": {},
     "output_type": "display_data"
    },
    {
     "data": {
      "application/vnd.jupyter.widget-view+json": {
       "model_id": "",
       "version_major": 2,
       "version_minor": 0
      },
      "text/plain": [
       "HBox(children=(HTML(value='Testing'), FloatProgress(value=1.0, bar_style='info', layout=Layout(flex='2'), max=…"
      ]
     },
     "metadata": {},
     "output_type": "display_data"
    },
    {
     "name": "stdout",
     "output_type": "stream",
     "text": [
      "|   Reval |   val_f1 |   reval_f1 |   train_f1 |   val_acc |   reval_acc |   train_acc |   val_rec |   reval_rec |   train_rec |   val_prec |   reval_prec |   train_prec |   val_loss |   reval_loss |   train_loss |\n",
      "|--------:|---------:|-----------:|-----------:|----------:|------------:|------------:|----------:|------------:|------------:|-----------:|-------------:|-------------:|-----------:|-------------:|-------------:|\n",
      "|       2 |   0.0345 |     0.0345 |     0.0327 |    0.1031 |      0.1031 |         0.1 |    0.1197 |      0.1197 |      0.1113 |     0.0205 |       0.0205 |       0.0204 |     2.3042 |       2.3042 |       2.3084 |\n"
     ]
    },
    {
     "data": {
      "application/vnd.jupyter.widget-view+json": {
       "model_id": "",
       "version_major": 2,
       "version_minor": 0
      },
      "text/plain": [
       "HBox(children=(HTML(value='Testing'), FloatProgress(value=1.0, bar_style='info', layout=Layout(flex='2'), max=…"
      ]
     },
     "metadata": {},
     "output_type": "display_data"
    },
    {
     "name": "stdout",
     "output_type": "stream",
     "text": [
      "|   Test |   val_f1 |   train_f1 |   test_f1 |   val_acc |   train_acc |   test_acc |   val_rec |   train_rec |   test_rec |   val_prec |   train_prec |   test_prec |   val_loss |   train_loss |   test_loss |\n",
      "|-------:|---------:|-----------:|----------:|----------:|------------:|-----------:|----------:|------------:|-----------:|-----------:|-------------:|------------:|-----------:|-------------:|------------:|\n",
      "|      2 |   0.0345 |     0.0327 |    0.0302 |    0.1031 |         0.1 |     0.1094 |    0.1197 |      0.1113 |     0.1015 |     0.0205 |       0.0204 |      0.0184 |     2.3042 |       2.3084 |       2.303 |\n"
     ]
    },
    {
     "data": {
      "image/png": "[encoded data removed]",
      "text/plain": [
       "<Figure size 864x756 with 5 Axes>"
      ]
     },
     "metadata": {
      "needs_background": "light"
     },
     "output_type": "display_data"
    }
   ],
   "source": [
    "if USAGE_MODE == \"single-run\":\n",
    "    best_result = ptl_ray_runner.run_single_trial(LMODULE_CLASS, CONFIG, TUNE_CONFIG)\n",
    "    #\n",
    "    best_result[\"metrics\"].plot()"
   ]
  },
  {
   "cell_type": "markdown",
   "metadata": {},
   "source": [
    "### Running a hyper-parameters search via Ray Tune"
   ]
  },
  {
   "cell_type": "code",
   "execution_count": 19,
   "metadata": {},
   "outputs": [],
   "source": [
    "SEARCH_SPACE_CONFIG = {\n",
    "    \"unfreeze_epochs\": [0, 1],\n",
    "    \"lr\": tune.uniform(1e-5, 1e-4),\n",
    "    \"warmup\": tune.choice([200, 500, 600, 1000]),\n",
    "    \"gradient_clip_val\": 0,\n",
    "    \"max_epochs\": tune.choice([10, 20, 30]),\n",
    "    \"batch_size\": tune.choice([16, 32, 64]),\n",
    "    \"n_classes\": N_CLASSES,\n",
    "}"
   ]
  },
  {
   "cell_type": "code",
   "execution_count": 20,
   "metadata": {},
   "outputs": [],
   "source": [
    "if FAST_DEV_RUN:\n",
    "    SEARCH_SPACE_CONFIG[\"max_epochs\"] = 2\n",
    "    SEARCH_SPACE_CONFIG[\"batch_size\"] = 32"
   ]
  },
  {
   "cell_type": "code",
   "execution_count": 21,
   "metadata": {},
   "outputs": [],
   "source": [
    "if USAGE_MODE == \"hyper-opt\":\n",
    "    #\n",
    "    best_result = ptl_ray_runner.run_hyper_opt(\n",
    "        LMODULE_CLASS,\n",
    "        SEARCH_SPACE_CONFIG,\n",
    "        TUNE_CONFIG,\n",
    "    )\n",
    "\n",
    "    best_result[\"metrics_last\"]"
   ]
  },
  {
   "cell_type": "markdown",
   "metadata": {},
   "source": [
    "The following code is launches an automatic hyper-parameter tunning via Ray Tune"
   ]
  },
  {
   "cell_type": "markdown",
   "metadata": {},
   "source": [
    "Below is an example of output produced by Ray Tune"
   ]
  },
  {
   "cell_type": "markdown",
   "metadata": {},
   "source": [
    "### Let us look at the results"
   ]
  },
  {
   "cell_type": "code",
   "execution_count": 22,
   "metadata": {},
   "outputs": [],
   "source": [
    "DEVICE = torch.device(\"cpu\")"
   ]
  },
  {
   "cell_type": "code",
   "execution_count": 23,
   "metadata": {},
   "outputs": [],
   "source": [
    "def predict_one_sample(model, inputs, device=DEVICE):\n",
    "    with torch.no_grad():\n",
    "        inputs = inputs.to(device)\n",
    "        model.eval()\n",
    "        logit = model(inputs).cpu()\n",
    "        probs = torch.nn.functional.softmax(logit, dim=-1).numpy()\n",
    "    return probs"
   ]
  },
  {
   "cell_type": "code",
   "execution_count": 24,
   "metadata": {},
   "outputs": [],
   "source": [
    "def show_some_predictions(loaders_dict, lmodule):\n",
    "    fig, ax = plt.subplots(nrows=3, ncols=3, figsize=(12, 12), sharey=True, sharex=True)\n",
    "    for fig_x in ax.flatten():\n",
    "        random_characters = int(np.random.uniform(0, 1000))\n",
    "        im_val, label = loaders_dict[\"val_dataset\"][random_characters]\n",
    "        img_label = \" \".join(\n",
    "            map(\n",
    "                lambda x: x.capitalize(),\n",
    "                MNIST.classes[label].split(\"_\"),\n",
    "            )\n",
    "        )\n",
    "\n",
    "        imshow(im_val.data.cpu(), title=img_label, plt_ax=fig_x)\n",
    "\n",
    "        fig_x.add_patch(patches.Rectangle((0, 0), 10, 5, color=\"white\"))\n",
    "        font0 = FontProperties()\n",
    "        font = font0.copy()\n",
    "        font.set_family(\"fantasy\")\n",
    "        prob_pred = predict_one_sample(lmodule, im_val.unsqueeze(0))\n",
    "        predicted_proba = np.max(prob_pred) * 100\n",
    "        y_pred = np.argmax(prob_pred)\n",
    "\n",
    "        predicted_label = MNIST.classes[y_pred]\n",
    "        predicted_label = (\n",
    "            predicted_label[: len(predicted_label) // 2]\n",
    "            + \"\\n\"\n",
    "            + predicted_label[len(predicted_label) // 2 :]\n",
    "        )\n",
    "        predicted_text = \"{} : {:.0f}%\".format(predicted_label, predicted_proba)\n",
    "\n",
    "        fig_x.text(\n",
    "            1,\n",
    "            2,\n",
    "            predicted_text,\n",
    "            horizontalalignment=\"left\",\n",
    "            fontproperties=font,\n",
    "            verticalalignment=\"top\",\n",
    "            fontsize=8,\n",
    "            color=\"black\",\n",
    "            fontweight=\"bold\",\n",
    "        )"
   ]
  },
  {
   "cell_type": "code",
   "execution_count": 25,
   "metadata": {},
   "outputs": [],
   "source": [
    "def predict(model, test_loader):\n",
    "    with torch.no_grad():\n",
    "        logits = []\n",
    "\n",
    "        for inputs, _ in test_loader:\n",
    "            inputs = inputs.to(DEVICE)\n",
    "            model.eval()\n",
    "            outputs = model(inputs).cpu()\n",
    "            logits.append(outputs)\n",
    "\n",
    "    probs = nn.functional.softmax(torch.cat(logits), dim=-1).numpy()\n",
    "    return probs"
   ]
  },
  {
   "cell_type": "code",
   "execution_count": 26,
   "metadata": {},
   "outputs": [
    {
     "name": "stderr",
     "output_type": "stream",
     "text": [
      "findfont: Font family ['fantasy'] not found. Falling back to DejaVu Sans.\n"
     ]
    },
    {
     "data": {
      "image/png": "[encoded data removed]",
      "text/plain": [
       "<Figure size 864x864 with 9 Axes>"
      ]
     },
     "metadata": {
      "needs_background": "light"
     },
     "output_type": "display_data"
    }
   ],
   "source": [
    "show_some_predictions(loaders_dict, best_result[\"lmodule_best\"])"
   ]
  },
  {
   "cell_type": "markdown",
   "metadata": {},
   "source": [
    "### Re-train the model on all available data with the same hyper-parameters"
   ]
  },
  {
   "cell_type": "code",
   "execution_count": 27,
   "metadata": {},
   "outputs": [],
   "source": [
    "FT_TUNE_CONFIG = TUNE_CONFIG.copy()\n",
    "FT_TUNE_CONFIG[\"val_loader_name\"] = None\n",
    "FT_TUNE_CONFIG[\"train_loader_name\"] = \"full_train_loader\"\n",
    "FT_TUNE_CONFIG[\"metric_to_optimize\"] = \"train_f1_epoch\""
   ]
  },
  {
   "cell_type": "code",
   "execution_count": 28,
   "metadata": {},
   "outputs": [],
   "source": [
    "FT_CONFIG = CONFIG.copy()\n",
    "# FT_CONFIG['max_epochs'] = 19\n",
    "FT_CONFIG[\"max_epochs\"] = best_result[\"best_epoch\"]"
   ]
  },
  {
   "cell_type": "code",
   "execution_count": 29,
   "metadata": {},
   "outputs": [
    {
     "name": "stderr",
     "output_type": "stream",
     "text": [
      "GPU available: True, used: False\n",
      "TPU available: None, using: 0 TPU cores\n",
      "\n",
      "  | Name              | Type           | Params\n",
      "-----------------------------------------------------\n",
      "0 | model             | Backbone       | 235 K \n",
      "1 | train_metric_calc | LitMetricsCalc | 0     \n",
      "2 | val_metric_calc   | LitMetricsCalc | 0     \n",
      "3 | test_metric_calc  | LitMetricsCalc | 0     \n",
      "-----------------------------------------------------\n",
      "0         Trainable params\n",
      "235 K     Non-trainable params\n",
      "235 K     Total params\n"
     ]
    },
    {
     "data": {
      "application/vnd.jupyter.widget-view+json": {
       "model_id": "0f49459667714c2b9648aaeb8103b1f9",
       "version_major": 2,
       "version_minor": 0
      },
      "text/plain": [
       "HBox(children=(HTML(value='Validation sanity check'), FloatProgress(value=1.0, bar_style='info', layout=Layout…"
      ]
     },
     "metadata": {},
     "output_type": "display_data"
    },
    {
     "data": {
      "application/vnd.jupyter.widget-view+json": {
       "model_id": "",
       "version_major": 2,
       "version_minor": 0
      },
      "text/plain": [
       "HBox(children=(HTML(value='Training'), FloatProgress(value=1.0, bar_style='info', layout=Layout(flex='2'), max…"
      ]
     },
     "metadata": {},
     "output_type": "display_data"
    },
    {
     "name": "stdout",
     "output_type": "stream",
     "text": [
      "|   Train |   train_f1 |   train_acc |   train_rec |   train_prec |   train_loss |\n",
      "|--------:|-----------:|------------:|------------:|-------------:|-------------:|\n",
      "|       0 |     0.0326 |      0.1031 |      0.1024 |       0.0238 |       2.3037 |\n"
     ]
    },
    {
     "data": {
      "application/vnd.jupyter.widget-view+json": {
       "model_id": "",
       "version_major": 2,
       "version_minor": 0
      },
      "text/plain": [
       "HBox(children=(HTML(value='Training'), FloatProgress(value=1.0, bar_style='info', layout=Layout(flex='2'), max…"
      ]
     },
     "metadata": {},
     "output_type": "display_data"
    },
    {
     "name": "stdout",
     "output_type": "stream",
     "text": [
      "|   Train |   train_f1 |   train_acc |   train_rec |   train_prec |   train_loss |\n",
      "|--------:|-----------:|------------:|------------:|-------------:|-------------:|\n",
      "|       1 |     0.0347 |      0.1047 |      0.1001 |       0.0242 |       2.3028 |\n"
     ]
    },
    {
     "data": {
      "application/vnd.jupyter.widget-view+json": {
       "model_id": "",
       "version_major": 2,
       "version_minor": 0
      },
      "text/plain": [
       "HBox(children=(HTML(value='Training'), FloatProgress(value=1.0, bar_style='info', layout=Layout(flex='2'), max…"
      ]
     },
     "metadata": {},
     "output_type": "display_data"
    },
    {
     "name": "stdout",
     "output_type": "stream",
     "text": [
      "|   Train |   train_f1 |   train_acc |   train_rec |   train_prec |   train_loss |\n",
      "|--------:|-----------:|------------:|------------:|-------------:|-------------:|\n",
      "|       2 |     0.0386 |      0.0969 |      0.1038 |       0.0807 |       2.3035 |\n"
     ]
    },
    {
     "data": {
      "application/vnd.jupyter.widget-view+json": {
       "model_id": "",
       "version_major": 2,
       "version_minor": 0
      },
      "text/plain": [
       "HBox(children=(HTML(value='Training'), FloatProgress(value=1.0, bar_style='info', layout=Layout(flex='2'), max…"
      ]
     },
     "metadata": {},
     "output_type": "display_data"
    },
    {
     "data": {
      "application/vnd.jupyter.widget-view+json": {
       "model_id": "",
       "version_major": 2,
       "version_minor": 0
      },
      "text/plain": [
       "HBox(children=(HTML(value='Testing'), FloatProgress(value=1.0, bar_style='info', layout=Layout(flex='2'), max=…"
      ]
     },
     "metadata": {},
     "output_type": "display_data"
    },
    {
     "name": "stdout",
     "output_type": "stream",
     "text": [
      "|   Test |   train_f1 |   test_f1 |   train_acc |   test_acc |   train_rec |   test_rec |   train_prec |   test_prec |   train_loss |   test_loss |\n",
      "|-------:|-----------:|----------:|------------:|-----------:|------------:|-----------:|-------------:|------------:|-------------:|------------:|\n",
      "|      2 |     0.0386 |    0.0304 |      0.0969 |     0.1094 |      0.1038 |     0.1015 |       0.0807 |      0.0185 |       2.3035 |      2.3031 |\n"
     ]
    }
   ],
   "source": [
    "full_train_result = ptl_ray_runner.run_single_trial(\n",
    "    LMODULE_CLASS,\n",
    "    FT_CONFIG,\n",
    "    FT_TUNE_CONFIG,\n",
    ")"
   ]
  },
  {
   "cell_type": "code",
   "execution_count": 30,
   "metadata": {},
   "outputs": [
    {
     "data": {
      "text/plain": [
       "\"\\nFT_REVAL_TUNE_CONFIG = FT_TUNE_CONFIG.copy()\\nFT_REVAL_TUNE_CONFIG['val_loader_name'] = 'full_train_loader'\\n\""
      ]
     },
     "execution_count": 30,
     "metadata": {},
     "output_type": "execute_result"
    }
   ],
   "source": [
    "\"\"\"\n",
    "FT_REVAL_TUNE_CONFIG = FT_TUNE_CONFIG.copy()\n",
    "FT_REVAL_TUNE_CONFIG['val_loader_name'] = 'full_train_loader'\n",
    "\"\"\""
   ]
  },
  {
   "cell_type": "code",
   "execution_count": 31,
   "metadata": {
    "pycharm": {
     "name": "#%%\n"
    }
   },
   "outputs": [
    {
     "data": {
      "application/vnd.jupyter.widget-view+json": {
       "model_id": "",
       "version_major": 2,
       "version_minor": 0
      },
      "text/plain": [
       "HBox(children=(HTML(value='Testing'), FloatProgress(value=1.0, bar_style='info', layout=Layout(flex='2'), max=…"
      ]
     },
     "metadata": {},
     "output_type": "display_data"
    },
    {
     "name": "stdout",
     "output_type": "stream",
     "text": [
      "|   Test |   train_f1 |   test_f1 |   train_acc |   test_acc |   train_rec |   test_rec |   train_prec |   test_prec |   train_loss |   test_loss |\n",
      "|-------:|-----------:|----------:|------------:|-----------:|------------:|-----------:|-------------:|------------:|-------------:|------------:|\n",
      "|      2 |     0.0386 |    0.0304 |      0.0969 |     0.1094 |      0.1038 |     0.1015 |       0.0807 |      0.0185 |       2.3035 |      2.3031 |\n"
     ]
    }
   ],
   "source": [
    "lmodule_best = full_train_result[\"lmodule_best\"]\n",
    "loaders_dict = configure_dataloaders(\n",
    "    FT_CONFIG[\"batch_size\"], n_workers=FT_TUNE_CONFIG[\"cpu_per_trial\"]\n",
    ")\n",
    "train_repeated_result = full_train_result[\"trainer\"].test(\n",
    "    lmodule_best, test_dataloaders=loaders_dict[\"test_loader\"], verbose=False\n",
    ")"
   ]
  },
  {
   "cell_type": "code",
   "execution_count": 32,
   "metadata": {
    "collapsed": false,
    "jupyter": {
     "outputs_hidden": false
    },
    "pycharm": {
     "name": "#%%\n"
    }
   },
   "outputs": [
    {
     "data": {
      "image/png": "[encoded data removed]",
      "text/plain": [
       "<Figure size 864x864 with 9 Axes>"
      ]
     },
     "metadata": {
      "needs_background": "light"
     },
     "output_type": "display_data"
    }
   ],
   "source": [
    "show_some_predictions(loaders_dict, full_train_result[\"lmodule_best\"])"
   ]
  }
 ],
 "metadata": {
  "accelerator": "GPU",
  "colab": {
   "collapsed_sections": [],
   "machine_shape": "hm",
   "name": "[homework]BERT_for_text_classification.ipynb",
   "provenance": []
  },
  "kernelspec": {
   "display_name": "Python 3",
   "language": "python",
   "name": "python3"
  },
  "language_info": {
   "codemirror_mode": {
    "name": "ipython",
    "version": 3
   },
   "file_extension": ".py",
   "mimetype": "text/x-python",
   "name": "python",
   "nbconvert_exporter": "python",
   "pygments_lexer": "ipython3",
   "version": "3.8.5"
  },
  "widgets": {
   "application/vnd.jupyter.widget-state+json": {
    "state": {
     "0261c14927114285beae8c0f80c5a923": {
      "model_module": "@jupyter-widgets/controls",
      "model_module_version": "1.5.0",
      "model_name": "FloatProgressModel",
      "state": {
       "bar_style": "info",
       "layout": "IPY_MODEL_c841b42fa6d64e6286d78f78d3316058",
       "max": 1,
       "style": "IPY_MODEL_97ae96d4028f48a5b72e4c7bd7e5d5bd"
      }
     },
     "040c195fd868420bb99aad5039a8c503": {
      "model_module": "@jupyter-widgets/base",
      "model_module_version": "1.2.0",
      "model_name": "LayoutModel",
      "state": {
       "display": "inline-flex",
       "flex_flow": "row wrap",
       "width": "100%"
      }
     },
     "048dfa6ef6444804b2067efe66135117": {
      "model_module": "@jupyter-widgets/controls",
      "model_module_version": "1.5.0",
      "model_name": "DescriptionStyleModel",
      "state": {
       "description_width": ""
      }
     },
     "069403db2a4c4d4fb48f4b5b1e354a55": {
      "model_module": "@jupyter-widgets/controls",
      "model_module_version": "1.5.0",
      "model_name": "FloatProgressModel",
      "state": {
       "bar_style": "info",
       "layout": "IPY_MODEL_93e2faa0fb2041688e80e5c8af29edfa",
       "max": 1,
       "style": "IPY_MODEL_f047338149064ec8afb1cf94e13eb655",
       "value": 1
      }
     },
     "072ccc9385cf418e867d3558760b3178": {
      "model_module": "@jupyter-widgets/controls",
      "model_module_version": "1.5.0",
      "model_name": "HTMLModel",
      "state": {
       "layout": "IPY_MODEL_2624a5603c33474d9b6cb14cf6953409",
       "style": "IPY_MODEL_c70e08e6f1814c82ab1e0c1c274da2fa",
       "value": " 5/5 [00:00&lt;00:00,  5.28it/s]"
      }
     },
     "078e6e5167f84d779cee1ec337b6a54a": {
      "model_module": "@jupyter-widgets/base",
      "model_module_version": "1.2.0",
      "model_name": "LayoutModel",
      "state": {}
     },
     "0a6395e697004d5b8b61e98f0120b0e4": {
      "model_module": "@jupyter-widgets/controls",
      "model_module_version": "1.5.0",
      "model_name": "HTMLModel",
      "state": {
       "layout": "IPY_MODEL_f9a637ed02bb401d89c301967e948480",
       "style": "IPY_MODEL_c096c43947274a27ade9573f439dd186",
       "value": " 2/2 [00:00&lt;00:00,  4.79it/s]"
      }
     },
     "0e4abcd5b6054071bd0c4ef35e7b3b71": {
      "model_module": "@jupyter-widgets/base",
      "model_module_version": "1.2.0",
      "model_name": "LayoutModel",
      "state": {
       "flex": "2"
      }
     },
     "0f32d75120a04cd79ea0eeeb32ad6e0d": {
      "model_module": "@jupyter-widgets/base",
      "model_module_version": "1.2.0",
      "model_name": "LayoutModel",
      "state": {
       "flex": "2"
      }
     },
     "0f49459667714c2b9648aaeb8103b1f9": {
      "model_module": "@jupyter-widgets/controls",
      "model_module_version": "1.5.0",
      "model_name": "HBoxModel",
      "state": {
       "children": [
        "IPY_MODEL_72a01155581745ccb8dda94adf873ad7",
        "IPY_MODEL_0261c14927114285beae8c0f80c5a923",
        "IPY_MODEL_bdff3dd2fed84bb38934fc009f12e023"
       ],
       "layout": "IPY_MODEL_34c2fb3fa3744e0586a61486eb4bae8a"
      }
     },
     "0fc61e9d8e8245f2b0cf2a762b3571fc": {
      "model_module": "@jupyter-widgets/controls",
      "model_module_version": "1.5.0",
      "model_name": "FloatProgressModel",
      "state": {
       "bar_style": "info",
       "layout": "IPY_MODEL_717376b35e4c40c2beaad9ba656c4ee3",
       "max": 1,
       "style": "IPY_MODEL_3e545e4d58594c42b7fa74f0195971f8",
       "value": 1
      }
     },
     "1081e5c9dd1241ff9097122c0a998b9d": {
      "model_module": "@jupyter-widgets/controls",
      "model_module_version": "1.5.0",
      "model_name": "DescriptionStyleModel",
      "state": {
       "description_width": ""
      }
     },
     "11de0a3b3007446193050c9f264858bd": {
      "model_module": "@jupyter-widgets/controls",
      "model_module_version": "1.5.0",
      "model_name": "HTMLModel",
      "state": {
       "layout": "IPY_MODEL_9fc214fe2ea143559799c87a0c7bf83a",
       "style": "IPY_MODEL_5af13ceccb49448f9f7698c387a2e67a",
       "value": "Epoch 1: 100%"
      }
     },
     "122b7f0e4b1f42b5beba682a99186e42": {
      "model_module": "@jupyter-widgets/base",
      "model_module_version": "1.2.0",
      "model_name": "LayoutModel",
      "state": {
       "flex": "2"
      }
     },
     "1551bef8601a45f3ad1c1075dae5ef28": {
      "model_module": "@jupyter-widgets/controls",
      "model_module_version": "1.5.0",
      "model_name": "HTMLModel",
      "state": {
       "layout": "IPY_MODEL_f4ee3981a54f477aa9b1e1c1de89a7e6",
       "style": "IPY_MODEL_bc275e35c1c843c7ae1d567f13bc656f",
       "value": "Epoch 2: 100%"
      }
     },
     "15ae643a65ae40e888654ddfcb5e9516": {
      "model_module": "@jupyter-widgets/controls",
      "model_module_version": "1.5.0",
      "model_name": "ProgressStyleModel",
      "state": {
       "description_width": ""
      }
     },
     "15db85b770774d29b7fa8c148420f7f8": {
      "model_module": "@jupyter-widgets/controls",
      "model_module_version": "1.5.0",
      "model_name": "FloatProgressModel",
      "state": {
       "bar_style": "info",
       "layout": "IPY_MODEL_122b7f0e4b1f42b5beba682a99186e42",
       "max": 1,
       "style": "IPY_MODEL_733253a926e34decbcc2c42a7f61af5e",
       "value": 1
      }
     },
     "160189bbb37447ad8ebd52fe0f146072": {
      "model_module": "@jupyter-widgets/base",
      "model_module_version": "1.2.0",
      "model_name": "LayoutModel",
      "state": {
       "flex": "2"
      }
     },
     "170d026b58d349b999784eef0d562aa6": {
      "model_module": "@jupyter-widgets/controls",
      "model_module_version": "1.5.0",
      "model_name": "HTMLModel",
      "state": {
       "layout": "IPY_MODEL_62bf06e479204e008649880308ba3246",
       "style": "IPY_MODEL_8ff6bc03318e4eb29dc00e2c9ec9bf4c",
       "value": "Epoch 0: 100%"
      }
     },
     "180e3be343a14dacb189d2604341f974": {
      "model_module": "@jupyter-widgets/base",
      "model_module_version": "1.2.0",
      "model_name": "LayoutModel",
      "state": {}
     },
     "1dcc1bca5bcf4d2d880f179020e55561": {
      "model_module": "@jupyter-widgets/base",
      "model_module_version": "1.2.0",
      "model_name": "LayoutModel",
      "state": {}
     },
     "1e4ec63eccca4261bea4b16dc62dc6d6": {
      "model_module": "@jupyter-widgets/base",
      "model_module_version": "1.2.0",
      "model_name": "LayoutModel",
      "state": {}
     },
     "25fb1b4e3a714d1dbac2bf3d6b65f533": {
      "model_module": "@jupyter-widgets/controls",
      "model_module_version": "1.5.0",
      "model_name": "ProgressStyleModel",
      "state": {
       "description_width": ""
      }
     },
     "2624a5603c33474d9b6cb14cf6953409": {
      "model_module": "@jupyter-widgets/base",
      "model_module_version": "1.2.0",
      "model_name": "LayoutModel",
      "state": {}
     },
     "27bc4056a29d438a87ad2370027964e7": {
      "model_module": "@jupyter-widgets/base",
      "model_module_version": "1.2.0",
      "model_name": "LayoutModel",
      "state": {
       "flex": "2"
      }
     },
     "27c3ef290d8c4463a9c40f2fb9cf181a": {
      "model_module": "@jupyter-widgets/controls",
      "model_module_version": "1.5.0",
      "model_name": "DescriptionStyleModel",
      "state": {
       "description_width": ""
      }
     },
     "29f1fdd3a2db48c58dca9e5159fe5a91": {
      "model_module": "@jupyter-widgets/controls",
      "model_module_version": "1.5.0",
      "model_name": "DescriptionStyleModel",
      "state": {
       "description_width": ""
      }
     },
     "2a73fc74972d4a7eb8a610f2e2ebd5eb": {
      "model_module": "@jupyter-widgets/base",
      "model_module_version": "1.2.0",
      "model_name": "LayoutModel",
      "state": {}
     },
     "2b91b748ee2142e0a11867b204eaa4bc": {
      "model_module": "@jupyter-widgets/controls",
      "model_module_version": "1.5.0",
      "model_name": "DescriptionStyleModel",
      "state": {
       "description_width": ""
      }
     },
     "2cab02026b4a4a91b673a8be6448bb3d": {
      "model_module": "@jupyter-widgets/controls",
      "model_module_version": "1.5.0",
      "model_name": "FloatProgressModel",
      "state": {
       "layout": "IPY_MODEL_1e4ec63eccca4261bea4b16dc62dc6d6",
       "max": 1,
       "style": "IPY_MODEL_15ae643a65ae40e888654ddfcb5e9516"
      }
     },
     "32e9defe36e74c2bb91eac46f85ca3e0": {
      "model_module": "@jupyter-widgets/controls",
      "model_module_version": "1.5.0",
      "model_name": "DescriptionStyleModel",
      "state": {
       "description_width": ""
      }
     },
     "337d6a1f82db451d932c6b2682c18574": {
      "model_module": "@jupyter-widgets/base",
      "model_module_version": "1.2.0",
      "model_name": "LayoutModel",
      "state": {
       "flex": "2"
      }
     },
     "344925cca65f45559b3d85e092b98bfa": {
      "model_module": "@jupyter-widgets/base",
      "model_module_version": "1.2.0",
      "model_name": "LayoutModel",
      "state": {}
     },
     "34c2fb3fa3744e0586a61486eb4bae8a": {
      "model_module": "@jupyter-widgets/base",
      "model_module_version": "1.2.0",
      "model_name": "LayoutModel",
      "state": {
       "display": "inline-flex",
       "flex_flow": "row wrap",
       "width": "100%"
      }
     },
     "35c912fb613d4db6acaff96d241dd572": {
      "model_module": "@jupyter-widgets/controls",
      "model_module_version": "1.5.0",
      "model_name": "HTMLModel",
      "state": {
       "layout": "IPY_MODEL_344925cca65f45559b3d85e092b98bfa",
       "style": "IPY_MODEL_6b17aed28ab94ced89769f2ab825cd48",
       "value": " 5/5 [00:00&lt;00:00,  4.89it/s]"
      }
     },
     "35cbe9c5bc504b668461a8aa280dda63": {
      "model_module": "@jupyter-widgets/controls",
      "model_module_version": "1.5.0",
      "model_name": "DescriptionStyleModel",
      "state": {
       "description_width": ""
      }
     },
     "3e545e4d58594c42b7fa74f0195971f8": {
      "model_module": "@jupyter-widgets/controls",
      "model_module_version": "1.5.0",
      "model_name": "ProgressStyleModel",
      "state": {
       "description_width": ""
      }
     },
     "3f95cf9a18da4f46bd80090a793e9280": {
      "model_module": "@jupyter-widgets/base",
      "model_module_version": "1.2.0",
      "model_name": "LayoutModel",
      "state": {}
     },
     "426da3ffe08749e4b103c3cc0f2329b2": {
      "model_module": "@jupyter-widgets/controls",
      "model_module_version": "1.5.0",
      "model_name": "HTMLModel",
      "state": {
       "layout": "IPY_MODEL_925d75dba34a4ae284e27de6c14ae8ef",
       "style": "IPY_MODEL_1081e5c9dd1241ff9097122c0a998b9d",
       "value": "Test: 100%"
      }
     },
     "44a52ddd15554899a2e11ae51ca147b0": {
      "model_module": "@jupyter-widgets/base",
      "model_module_version": "1.2.0",
      "model_name": "LayoutModel",
      "state": {}
     },
     "4688213e56f44ed1b00af54eb4842389": {
      "model_module": "@jupyter-widgets/base",
      "model_module_version": "1.2.0",
      "model_name": "LayoutModel",
      "state": {}
     },
     "46d7aede469241ee894cf5b85a1a14b1": {
      "model_module": "@jupyter-widgets/controls",
      "model_module_version": "1.5.0",
      "model_name": "HTMLModel",
      "state": {
       "layout": "IPY_MODEL_44a52ddd15554899a2e11ae51ca147b0",
       "style": "IPY_MODEL_817b1203ab53446e8d801806cc85a0b3",
       "value": "Test: 100%"
      }
     },
     "47008e71dd494a319992a0af15f34bdb": {
      "model_module": "@jupyter-widgets/base",
      "model_module_version": "1.2.0",
      "model_name": "LayoutModel",
      "state": {}
     },
     "4739feb4b55444ce9d615f2837e8066a": {
      "model_module": "@jupyter-widgets/base",
      "model_module_version": "1.2.0",
      "model_name": "LayoutModel",
      "state": {}
     },
     "47fdab6dd6ad469c9e96ab598b5c2cda": {
      "model_module": "@jupyter-widgets/base",
      "model_module_version": "1.2.0",
      "model_name": "LayoutModel",
      "state": {
       "flex": "2"
      }
     },
     "4a1f85eade1b491c9a45f902c5cd3cea": {
      "model_module": "@jupyter-widgets/controls",
      "model_module_version": "1.5.0",
      "model_name": "FloatProgressModel",
      "state": {
       "bar_style": "info",
       "layout": "IPY_MODEL_b506d1ac665945d59623e4bb83beeab4",
       "max": 1,
       "style": "IPY_MODEL_6042df488fb548969ecb712e39c849f6",
       "value": 1
      }
     },
     "4a57fcabf4634347b42a25d7e5f627f4": {
      "model_module": "@jupyter-widgets/base",
      "model_module_version": "1.2.0",
      "model_name": "LayoutModel",
      "state": {}
     },
     "4bbd5ab9fea14bc2b52f252d7930b403": {
      "model_module": "@jupyter-widgets/base",
      "model_module_version": "1.2.0",
      "model_name": "LayoutModel",
      "state": {
       "display": "inline-flex",
       "flex_flow": "row wrap",
       "width": "100%"
      }
     },
     "4cd6cb933098432da9bc58e7593ab389": {
      "model_module": "@jupyter-widgets/controls",
      "model_module_version": "1.5.0",
      "model_name": "ProgressStyleModel",
      "state": {
       "description_width": ""
      }
     },
     "4ce9364f7a964ee2aa162d77b44fbc94": {
      "model_module": "@jupyter-widgets/base",
      "model_module_version": "1.2.0",
      "model_name": "LayoutModel",
      "state": {
       "display": "inline-flex",
       "flex_flow": "row wrap",
       "width": "100%"
      }
     },
     "4db7dcc938ef4069a0f326429e140642": {
      "model_module": "@jupyter-widgets/controls",
      "model_module_version": "1.5.0",
      "model_name": "HTMLModel",
      "state": {
       "layout": "IPY_MODEL_8f5a8308a953411599dd9fccc5b19149",
       "style": "IPY_MODEL_60d50d65b0e84bef9ca24f4f475de343",
       "value": "Training: 10it [00:00, ?it/s]"
      }
     },
     "4e3198ad611845c780c4b0cb20d9e2e8": {
      "model_module": "@jupyter-widgets/controls",
      "model_module_version": "1.5.0",
      "model_name": "ProgressStyleModel",
      "state": {
       "description_width": ""
      }
     },
     "4f6a891052be404c94c8c4ae6bcc33e9": {
      "model_module": "@jupyter-widgets/controls",
      "model_module_version": "1.5.0",
      "model_name": "ProgressStyleModel",
      "state": {
       "description_width": ""
      }
     },
     "505758fa353143d99e2b6b021ae19847": {
      "model_module": "@jupyter-widgets/base",
      "model_module_version": "1.2.0",
      "model_name": "LayoutModel",
      "state": {}
     },
     "506bfdd00c7044ca8f175f099da42e20": {
      "model_module": "@jupyter-widgets/base",
      "model_module_version": "1.2.0",
      "model_name": "LayoutModel",
      "state": {}
     },
     "5161690fe40d458193b264900ad011ab": {
      "model_module": "@jupyter-widgets/controls",
      "model_module_version": "1.5.0",
      "model_name": "HTMLModel",
      "state": {
       "layout": "IPY_MODEL_2a73fc74972d4a7eb8a610f2e2ebd5eb",
       "style": "IPY_MODEL_e7a637bb5fc74dd9bd77cfbc3bdc1d94"
      }
     },
     "528431a7e9724ed6847d51f3a7af0701": {
      "model_module": "@jupyter-widgets/base",
      "model_module_version": "1.2.0",
      "model_name": "LayoutModel",
      "state": {
       "display": "inline-flex",
       "flex_flow": "row wrap",
       "width": "100%"
      }
     },
     "5391513028c34dcf9349e080a40f5f3a": {
      "model_module": "@jupyter-widgets/base",
      "model_module_version": "1.2.0",
      "model_name": "LayoutModel",
      "state": {
       "display": "inline-flex",
       "flex_flow": "row wrap",
       "width": "100%"
      }
     },
     "53c9af6153ac4d6e9ca612fafa022207": {
      "model_module": "@jupyter-widgets/controls",
      "model_module_version": "1.5.0",
      "model_name": "FloatProgressModel",
      "state": {
       "layout": "IPY_MODEL_d89b89f2665646a2bc6b3354132cfdf1",
       "max": 15,
       "style": "IPY_MODEL_7f88b243f2264d03a8aa797daae3e08d",
       "value": 15
      }
     },
     "54e82baa2e96409da4cb2459ea8f1a87": {
      "model_module": "@jupyter-widgets/controls",
      "model_module_version": "1.5.0",
      "model_name": "ProgressStyleModel",
      "state": {
       "description_width": ""
      }
     },
     "5567490d5e714050a220437b7d0c3ea7": {
      "model_module": "@jupyter-widgets/base",
      "model_module_version": "1.2.0",
      "model_name": "LayoutModel",
      "state": {
       "flex": "2"
      }
     },
     "5589c5baf4224b21bf923006bee6649d": {
      "model_module": "@jupyter-widgets/controls",
      "model_module_version": "1.5.0",
      "model_name": "DescriptionStyleModel",
      "state": {
       "description_width": ""
      }
     },
     "565ca6a0490743e892dd102a1862dcf8": {
      "model_module": "@jupyter-widgets/controls",
      "model_module_version": "1.5.0",
      "model_name": "FloatProgressModel",
      "state": {
       "layout": "IPY_MODEL_160189bbb37447ad8ebd52fe0f146072",
       "max": 10,
       "style": "IPY_MODEL_e7072fe64e134eaeb195d78a13e7944f",
       "value": 10
      }
     },
     "56eef6062b6243c1ab0340dfa36f705d": {
      "model_module": "@jupyter-widgets/controls",
      "model_module_version": "1.5.0",
      "model_name": "VBoxModel",
      "state": {
       "children": [
        "IPY_MODEL_8ec0966c1fd148028c672da3129c2332",
        "IPY_MODEL_2cab02026b4a4a91b673a8be6448bb3d"
       ],
       "layout": "IPY_MODEL_8ff4bd5beb1442968e2fd278d7044be8"
      }
     },
     "5904a965f44640e0a6e573361146d66d": {
      "model_module": "@jupyter-widgets/controls",
      "model_module_version": "1.5.0",
      "model_name": "HTMLModel",
      "state": {
       "layout": "IPY_MODEL_ff3c94250ac147ddaad44b5a43224946",
       "style": "IPY_MODEL_d8df68518cbe4b6dbb302b17f7b4752e",
       "value": " 15/15 [00:00&lt;00:00,  6.45it/s, loss=2.31, v_num=2j1h, val_acc_epoch=0.0969, val_f1_epoch=0.0321, val_prec_epoch=0.019, val_rec_epoch=0.112, val_loss_epoch=2.31, train_acc_step=0.109, train_f1_step=0.0412, train_prec_step=0.0299, train_rec_step=0.1, train_loss_step=2.3, val_acc_step=0.0781, val_f1_step=0.0269, val_prec_step=0.0148, val_rec_step=0.18, val_loss_step=2.32, train_acc_epoch=0.111, train_f1_epoch=0.0334, train_prec_epoch=0.0201, train_rec_epoch=0.102, train_loss_epoch=2.3]"
      }
     },
     "5af13ceccb49448f9f7698c387a2e67a": {
      "model_module": "@jupyter-widgets/controls",
      "model_module_version": "1.5.0",
      "model_name": "DescriptionStyleModel",
      "state": {
       "description_width": ""
      }
     },
     "5fa09f33031b4df7b9077f794a163377": {
      "model_module": "@jupyter-widgets/base",
      "model_module_version": "1.2.0",
      "model_name": "LayoutModel",
      "state": {}
     },
     "6042df488fb548969ecb712e39c849f6": {
      "model_module": "@jupyter-widgets/controls",
      "model_module_version": "1.5.0",
      "model_name": "ProgressStyleModel",
      "state": {
       "description_width": ""
      }
     },
     "60d50d65b0e84bef9ca24f4f475de343": {
      "model_module": "@jupyter-widgets/controls",
      "model_module_version": "1.5.0",
      "model_name": "DescriptionStyleModel",
      "state": {
       "description_width": ""
      }
     },
     "62bf06e479204e008649880308ba3246": {
      "model_module": "@jupyter-widgets/base",
      "model_module_version": "1.2.0",
      "model_name": "LayoutModel",
      "state": {}
     },
     "630d34237a1840849a4a7fd7cb1ab4c8": {
      "model_module": "@jupyter-widgets/controls",
      "model_module_version": "1.5.0",
      "model_name": "HTMLModel",
      "state": {
       "layout": "IPY_MODEL_9b72c3fb6c894935a749833d73a5664a",
       "style": "IPY_MODEL_96a3248154b948a9adb8a5b8f9691dbc",
       "value": "Epoch 1: 100%"
      }
     },
     "657549ba9edd40d0aa45073e878c5b04": {
      "model_module": "@jupyter-widgets/base",
      "model_module_version": "1.2.0",
      "model_name": "LayoutModel",
      "state": {
       "display": "inline-flex",
       "flex_flow": "row wrap",
       "width": "100%"
      }
     },
     "65cb491f2a904b4883cd0323a9403e9d": {
      "model_module": "@jupyter-widgets/controls",
      "model_module_version": "1.5.0",
      "model_name": "ProgressStyleModel",
      "state": {
       "description_width": ""
      }
     },
     "6b17aed28ab94ced89769f2ab825cd48": {
      "model_module": "@jupyter-widgets/controls",
      "model_module_version": "1.5.0",
      "model_name": "DescriptionStyleModel",
      "state": {
       "description_width": ""
      }
     },
     "6b64ee4d75524e7ca87712fcee25bfef": {
      "model_module": "@jupyter-widgets/base",
      "model_module_version": "1.2.0",
      "model_name": "LayoutModel",
      "state": {}
     },
     "6bd2f78dae5a40d39c4c0717e58994d3": {
      "model_module": "@jupyter-widgets/controls",
      "model_module_version": "1.5.0",
      "model_name": "DescriptionStyleModel",
      "state": {
       "description_width": ""
      }
     },
     "6cd9844ebd854461bf5b17eb690916c6": {
      "model_module": "@jupyter-widgets/base",
      "model_module_version": "1.2.0",
      "model_name": "LayoutModel",
      "state": {
       "flex": "2"
      }
     },
     "6d210e18814646598c247f6794c4ae2a": {
      "model_module": "@jupyter-widgets/controls",
      "model_module_version": "1.5.0",
      "model_name": "HTMLModel",
      "state": {
       "layout": "IPY_MODEL_4a57fcabf4634347b42a25d7e5f627f4",
       "style": "IPY_MODEL_c95c60f249ba439c89978e3cec71fbc4",
       "value": "Val: 100%"
      }
     },
     "6d262f9c01024bceaf072257e7cee43e": {
      "model_module": "@jupyter-widgets/base",
      "model_module_version": "1.2.0",
      "model_name": "LayoutModel",
      "state": {}
     },
     "6fd97d7c258f49289744aca16fce4a5d": {
      "model_module": "@jupyter-widgets/controls",
      "model_module_version": "1.5.0",
      "model_name": "ProgressStyleModel",
      "state": {
       "description_width": ""
      }
     },
     "717376b35e4c40c2beaad9ba656c4ee3": {
      "model_module": "@jupyter-widgets/base",
      "model_module_version": "1.2.0",
      "model_name": "LayoutModel",
      "state": {
       "flex": "2"
      }
     },
     "72a01155581745ccb8dda94adf873ad7": {
      "model_module": "@jupyter-widgets/controls",
      "model_module_version": "1.5.0",
      "model_name": "HTMLModel",
      "state": {
       "layout": "IPY_MODEL_943c3d43812a44e7a07f9b1c95486697",
       "style": "IPY_MODEL_95bb019cc88148feabf6d672e2915ff5"
      }
     },
     "73116e9b504e4e2abecad88f82838d3e": {
      "model_module": "@jupyter-widgets/controls",
      "model_module_version": "1.5.0",
      "model_name": "DescriptionStyleModel",
      "state": {
       "description_width": ""
      }
     },
     "733253a926e34decbcc2c42a7f61af5e": {
      "model_module": "@jupyter-widgets/controls",
      "model_module_version": "1.5.0",
      "model_name": "ProgressStyleModel",
      "state": {
       "description_width": ""
      }
     },
     "7442a7d9ad6b4ab8bf85dcc6bf948892": {
      "model_module": "@jupyter-widgets/base",
      "model_module_version": "1.2.0",
      "model_name": "LayoutModel",
      "state": {}
     },
     "788e2f16c3754677bd2c44e6c5640ecd": {
      "model_module": "@jupyter-widgets/base",
      "model_module_version": "1.2.0",
      "model_name": "LayoutModel",
      "state": {
       "display": "inline-flex",
       "flex_flow": "row wrap",
       "width": "100%"
      }
     },
     "7969cbb1ba2d4ec68e4f948f2d35ca10": {
      "model_module": "@jupyter-widgets/controls",
      "model_module_version": "1.5.0",
      "model_name": "HTMLModel",
      "state": {
       "layout": "IPY_MODEL_4688213e56f44ed1b00af54eb4842389",
       "style": "IPY_MODEL_c1f4e83329af442b9861e949ad2d167a",
       "value": " 10/10 [00:00&lt;?, ?it/s, loss=2.3, v_num=2j1h, train_acc_step=0.0781, train_f1_step=0.0389, train_prec_step=0.109, train_rec_step=0.112, train_loss_step=2.31, train_acc_epoch=0.105, train_f1_epoch=0.0347, train_prec_epoch=0.0242, train_rec_epoch=0.1, train_loss_epoch=2.3]"
      }
     },
     "7af7f92668c14aeda5fa0c593064c38d": {
      "model_module": "@jupyter-widgets/controls",
      "model_module_version": "1.5.0",
      "model_name": "DescriptionStyleModel",
      "state": {
       "description_width": ""
      }
     },
     "7dfde8c8217f40a4a891c0d38c656214": {
      "model_module": "@jupyter-widgets/base",
      "model_module_version": "1.2.0",
      "model_name": "LayoutModel",
      "state": {}
     },
     "7e138aef23164addafbe6638dd67c545": {
      "model_module": "@jupyter-widgets/base",
      "model_module_version": "1.2.0",
      "model_name": "LayoutModel",
      "state": {
       "flex": "2"
      }
     },
     "7e13b0a6ad0641fa8064d74b71e39314": {
      "model_module": "@jupyter-widgets/controls",
      "model_module_version": "1.5.0",
      "model_name": "ProgressStyleModel",
      "state": {
       "description_width": ""
      }
     },
     "7e58f167a0524efbacc802eb3c4aae78": {
      "model_module": "@jupyter-widgets/controls",
      "model_module_version": "1.5.0",
      "model_name": "HTMLModel",
      "state": {
       "layout": "IPY_MODEL_47008e71dd494a319992a0af15f34bdb",
       "style": "IPY_MODEL_aaa0c201b22d4408953035ad9107793c",
       "value": "Epoch 2: 100%"
      }
     },
     "7f1fdab9851e447d9f264249f340f8aa": {
      "model_module": "@jupyter-widgets/controls",
      "model_module_version": "1.5.0",
      "model_name": "FloatProgressModel",
      "state": {
       "bar_style": "info",
       "layout": "IPY_MODEL_0e4abcd5b6054071bd0c4ef35e7b3b71",
       "max": 1,
       "style": "IPY_MODEL_4e3198ad611845c780c4b0cb20d9e2e8",
       "value": 1
      }
     },
     "7f88b243f2264d03a8aa797daae3e08d": {
      "model_module": "@jupyter-widgets/controls",
      "model_module_version": "1.5.0",
      "model_name": "ProgressStyleModel",
      "state": {
       "description_width": ""
      }
     },
     "817b1203ab53446e8d801806cc85a0b3": {
      "model_module": "@jupyter-widgets/controls",
      "model_module_version": "1.5.0",
      "model_name": "DescriptionStyleModel",
      "state": {
       "description_width": ""
      }
     },
     "8316e8e964e44928b6a6bf9f80f60697": {
      "model_module": "@jupyter-widgets/base",
      "model_module_version": "1.2.0",
      "model_name": "LayoutModel",
      "state": {
       "flex": "2"
      }
     },
     "838e0f2f9fb14765adfd571d9c16534f": {
      "model_module": "@jupyter-widgets/controls",
      "model_module_version": "1.5.0",
      "model_name": "DescriptionStyleModel",
      "state": {
       "description_width": ""
      }
     },
     "84defb999892404f866bdaca4345f60a": {
      "model_module": "@jupyter-widgets/controls",
      "model_module_version": "1.5.0",
      "model_name": "HTMLModel",
      "state": {
       "layout": "IPY_MODEL_6b64ee4d75524e7ca87712fcee25bfef",
       "style": "IPY_MODEL_eb124d9aeb264dc7a4c57e0392e87151",
       "value": " 5/5 [00:00&lt;00:00,  4.98it/s]"
      }
     },
     "85f408146f6f4462b9c2dfe7feafa3f7": {
      "model_module": "@jupyter-widgets/controls",
      "model_module_version": "1.5.0",
      "model_name": "HTMLModel",
      "state": {
       "layout": "IPY_MODEL_180e3be343a14dacb189d2604341f974",
       "style": "IPY_MODEL_f2e52268e4f94ea284e7eaa08caa71bd",
       "value": "Validation sanity check: 100%"
      }
     },
     "87e33568314a44ce9534af1f0aeb9380": {
      "model_module": "@jupyter-widgets/controls",
      "model_module_version": "1.5.0",
      "model_name": "HTMLModel",
      "state": {
       "layout": "IPY_MODEL_506bfdd00c7044ca8f175f099da42e20",
       "style": "IPY_MODEL_2b91b748ee2142e0a11867b204eaa4bc",
       "value": " 5/5 [00:00&lt;00:00,  4.78it/s]"
      }
     },
     "8a6905cc9bdb4cba9c678d1d003c888c": {
      "model_module": "@jupyter-widgets/controls",
      "model_module_version": "1.5.0",
      "model_name": "FloatProgressModel",
      "state": {
       "bar_style": "info",
       "layout": "IPY_MODEL_e7e49644b68f40bd88fc01c85b73c585",
       "max": 1,
       "style": "IPY_MODEL_4cd6cb933098432da9bc58e7593ab389",
       "value": 1
      }
     },
     "8a8d97e9c833445391be5260bc975c92": {
      "model_module": "@jupyter-widgets/base",
      "model_module_version": "1.2.0",
      "model_name": "LayoutModel",
      "state": {
       "display": "inline-flex",
       "flex_flow": "row wrap",
       "width": "100%"
      }
     },
     "8c8e816def47417fa9bab3cae2a0a077": {
      "model_module": "@jupyter-widgets/controls",
      "model_module_version": "1.5.0",
      "model_name": "DescriptionStyleModel",
      "state": {
       "description_width": ""
      }
     },
     "8d6a731628cb4d76948c807aac71e89d": {
      "model_module": "@jupyter-widgets/base",
      "model_module_version": "1.2.0",
      "model_name": "LayoutModel",
      "state": {}
     },
     "8ec0966c1fd148028c672da3129c2332": {
      "model_module": "@jupyter-widgets/controls",
      "model_module_version": "1.5.0",
      "model_name": "LabelModel",
      "state": {
       "layout": "IPY_MODEL_6d262f9c01024bceaf072257e7cee43e",
       "style": "IPY_MODEL_8c8e816def47417fa9bab3cae2a0a077"
      }
     },
     "8ef114146e90479092cb523a114fc439": {
      "model_module": "@jupyter-widgets/controls",
      "model_module_version": "1.5.0",
      "model_name": "HTMLModel",
      "state": {
       "layout": "IPY_MODEL_de043ef071724e34bcd0ad9b7895fcc8",
       "style": "IPY_MODEL_c94f099387ab4f4498e09a8abeff3b1a",
       "value": "Val: 100%"
      }
     },
     "8f5a8308a953411599dd9fccc5b19149": {
      "model_module": "@jupyter-widgets/base",
      "model_module_version": "1.2.0",
      "model_name": "LayoutModel",
      "state": {}
     },
     "8ff4bd5beb1442968e2fd278d7044be8": {
      "model_module": "@jupyter-widgets/base",
      "model_module_version": "1.2.0",
      "model_name": "LayoutModel",
      "state": {}
     },
     "8ff6bc03318e4eb29dc00e2c9ec9bf4c": {
      "model_module": "@jupyter-widgets/controls",
      "model_module_version": "1.5.0",
      "model_name": "DescriptionStyleModel",
      "state": {
       "description_width": ""
      }
     },
     "9102dcea811e4bcfa712e699b195eae0": {
      "model_module": "@jupyter-widgets/controls",
      "model_module_version": "1.5.0",
      "model_name": "ProgressStyleModel",
      "state": {
       "description_width": ""
      }
     },
     "91724875c6414df4ab0c6d0416d383c8": {
      "model_module": "@jupyter-widgets/controls",
      "model_module_version": "1.5.0",
      "model_name": "FloatProgressModel",
      "state": {
       "layout": "IPY_MODEL_7e138aef23164addafbe6638dd67c545",
       "max": 15,
       "style": "IPY_MODEL_6fd97d7c258f49289744aca16fce4a5d",
       "value": 15
      }
     },
     "925d75dba34a4ae284e27de6c14ae8ef": {
      "model_module": "@jupyter-widgets/base",
      "model_module_version": "1.2.0",
      "model_name": "LayoutModel",
      "state": {}
     },
     "93cccb1a621a442aaa717642b7dbc275": {
      "model_module": "@jupyter-widgets/controls",
      "model_module_version": "1.5.0",
      "model_name": "HTMLModel",
      "state": {
       "layout": "IPY_MODEL_505758fa353143d99e2b6b021ae19847",
       "style": "IPY_MODEL_c773ebcb49164b1f8cefaf8b1fe58d08",
       "value": "Training: 10it [00:00, ?it/s]"
      }
     },
     "93e2faa0fb2041688e80e5c8af29edfa": {
      "model_module": "@jupyter-widgets/base",
      "model_module_version": "1.2.0",
      "model_name": "LayoutModel",
      "state": {
       "flex": "2"
      }
     },
     "943c3d43812a44e7a07f9b1c95486697": {
      "model_module": "@jupyter-widgets/base",
      "model_module_version": "1.2.0",
      "model_name": "LayoutModel",
      "state": {}
     },
     "9518482a73214278872268da3b78e1cc": {
      "model_module": "@jupyter-widgets/controls",
      "model_module_version": "1.5.0",
      "model_name": "FloatProgressModel",
      "state": {
       "bar_style": "info",
       "layout": "IPY_MODEL_47fdab6dd6ad469c9e96ab598b5c2cda",
       "max": 1,
       "style": "IPY_MODEL_9102dcea811e4bcfa712e699b195eae0",
       "value": 1
      }
     },
     "95bb019cc88148feabf6d672e2915ff5": {
      "model_module": "@jupyter-widgets/controls",
      "model_module_version": "1.5.0",
      "model_name": "DescriptionStyleModel",
      "state": {
       "description_width": ""
      }
     },
     "96a3248154b948a9adb8a5b8f9691dbc": {
      "model_module": "@jupyter-widgets/controls",
      "model_module_version": "1.5.0",
      "model_name": "DescriptionStyleModel",
      "state": {
       "description_width": ""
      }
     },
     "97ae96d4028f48a5b72e4c7bd7e5d5bd": {
      "model_module": "@jupyter-widgets/controls",
      "model_module_version": "1.5.0",
      "model_name": "ProgressStyleModel",
      "state": {
       "description_width": ""
      }
     },
     "986f6043bb3d43f9bdddac4fd37c9e59": {
      "model_module": "@jupyter-widgets/base",
      "model_module_version": "1.2.0",
      "model_name": "LayoutModel",
      "state": {
       "display": "inline-flex",
       "flex_flow": "row wrap",
       "width": "100%"
      }
     },
     "9b72c3fb6c894935a749833d73a5664a": {
      "model_module": "@jupyter-widgets/base",
      "model_module_version": "1.2.0",
      "model_name": "LayoutModel",
      "state": {}
     },
     "9fc214fe2ea143559799c87a0c7bf83a": {
      "model_module": "@jupyter-widgets/base",
      "model_module_version": "1.2.0",
      "model_name": "LayoutModel",
      "state": {}
     },
     "a13d300be63a4f129b5a35df867bcc47": {
      "model_module": "@jupyter-widgets/controls",
      "model_module_version": "1.5.0",
      "model_name": "FloatProgressModel",
      "state": {
       "bar_style": "info",
       "layout": "IPY_MODEL_337d6a1f82db451d932c6b2682c18574",
       "max": 1,
       "style": "IPY_MODEL_7e13b0a6ad0641fa8064d74b71e39314",
       "value": 1
      }
     },
     "a1439075a41448f1899e80b007c81f1f": {
      "model_module": "@jupyter-widgets/base",
      "model_module_version": "1.2.0",
      "model_name": "LayoutModel",
      "state": {
       "display": "inline-flex",
       "flex_flow": "row wrap",
       "width": "100%"
      }
     },
     "a16fb40d66744e6b9d959170c552901a": {
      "model_module": "@jupyter-widgets/controls",
      "model_module_version": "1.5.0",
      "model_name": "FloatProgressModel",
      "state": {
       "bar_style": "info",
       "layout": "IPY_MODEL_6cd9844ebd854461bf5b17eb690916c6",
       "max": 1,
       "style": "IPY_MODEL_25fb1b4e3a714d1dbac2bf3d6b65f533",
       "value": 1
      }
     },
     "a3fe0c8a35d74a24a18c1ef20e540a35": {
      "model_module": "@jupyter-widgets/controls",
      "model_module_version": "1.5.0",
      "model_name": "HTMLModel",
      "state": {
       "layout": "IPY_MODEL_d43f8b1a7b0d4f6f9d9de2be1e2dc7e5",
       "style": "IPY_MODEL_048dfa6ef6444804b2067efe66135117",
       "value": "Val: 100%"
      }
     },
     "a5573e2ff5974095a519367a4c986fe0": {
      "model_module": "@jupyter-widgets/controls",
      "model_module_version": "1.5.0",
      "model_name": "FloatProgressModel",
      "state": {
       "layout": "IPY_MODEL_27bc4056a29d438a87ad2370027964e7",
       "max": 10,
       "style": "IPY_MODEL_c126e582d5c2408780ecf3d091f910d4",
       "value": 10
      }
     },
     "aaa0c201b22d4408953035ad9107793c": {
      "model_module": "@jupyter-widgets/controls",
      "model_module_version": "1.5.0",
      "model_name": "DescriptionStyleModel",
      "state": {
       "description_width": ""
      }
     },
     "adbb55e3e20649648be3812735c7dd2f": {
      "model_module": "@jupyter-widgets/controls",
      "model_module_version": "1.5.0",
      "model_name": "FloatProgressModel",
      "state": {
       "layout": "IPY_MODEL_5567490d5e714050a220437b7d0c3ea7",
       "max": 10,
       "style": "IPY_MODEL_65cb491f2a904b4883cd0323a9403e9d",
       "value": 10
      }
     },
     "af8e43e3da3644feb710eb012784ff02": {
      "model_module": "@jupyter-widgets/base",
      "model_module_version": "1.2.0",
      "model_name": "LayoutModel",
      "state": {
       "display": "inline-flex",
       "flex_flow": "row wrap",
       "width": "100%"
      }
     },
     "b3a0ab998f25485ea9ecfc321e1e1e93": {
      "model_module": "@jupyter-widgets/controls",
      "model_module_version": "1.5.0",
      "model_name": "FloatProgressModel",
      "state": {
       "bar_style": "info",
       "layout": "IPY_MODEL_8316e8e964e44928b6a6bf9f80f60697",
       "max": 1,
       "style": "IPY_MODEL_4f6a891052be404c94c8c4ae6bcc33e9",
       "value": 1
      }
     },
     "b4a2bbd098f24bdc8de95229f3a2dc24": {
      "model_module": "@jupyter-widgets/controls",
      "model_module_version": "1.5.0",
      "model_name": "DescriptionStyleModel",
      "state": {
       "description_width": ""
      }
     },
     "b506d1ac665945d59623e4bb83beeab4": {
      "model_module": "@jupyter-widgets/base",
      "model_module_version": "1.2.0",
      "model_name": "LayoutModel",
      "state": {
       "flex": "2"
      }
     },
     "b7ef30a549cc4110a2060130214eb345": {
      "model_module": "@jupyter-widgets/controls",
      "model_module_version": "1.5.0",
      "model_name": "HTMLModel",
      "state": {
       "layout": "IPY_MODEL_7442a7d9ad6b4ab8bf85dcc6bf948892",
       "style": "IPY_MODEL_6bd2f78dae5a40d39c4c0717e58994d3",
       "value": " 5/5 [00:00&lt;00:00,  4.72it/s]"
      }
     },
     "b9deaf8487784bf483237b904cf821a6": {
      "model_module": "@jupyter-widgets/controls",
      "model_module_version": "1.5.0",
      "model_name": "HTMLModel",
      "state": {
       "layout": "IPY_MODEL_bcdc986e97e94a34b933abd57273ff37",
       "style": "IPY_MODEL_32e9defe36e74c2bb91eac46f85ca3e0",
       "value": "Test: 100%"
      }
     },
     "bc275e35c1c843c7ae1d567f13bc656f": {
      "model_module": "@jupyter-widgets/controls",
      "model_module_version": "1.5.0",
      "model_name": "DescriptionStyleModel",
      "state": {
       "description_width": ""
      }
     },
     "bc467ae89b464009977fefe54e6ec40e": {
      "model_module": "@jupyter-widgets/base",
      "model_module_version": "1.2.0",
      "model_name": "LayoutModel",
      "state": {
       "display": "inline-flex",
       "flex_flow": "row wrap",
       "width": "100%"
      }
     },
     "bc9821553c7f47129ada7143bb47333d": {
      "model_module": "@jupyter-widgets/controls",
      "model_module_version": "1.5.0",
      "model_name": "DescriptionStyleModel",
      "state": {
       "description_width": ""
      }
     },
     "bcdc986e97e94a34b933abd57273ff37": {
      "model_module": "@jupyter-widgets/base",
      "model_module_version": "1.2.0",
      "model_name": "LayoutModel",
      "state": {}
     },
     "bdff3dd2fed84bb38934fc009f12e023": {
      "model_module": "@jupyter-widgets/controls",
      "model_module_version": "1.5.0",
      "model_name": "HTMLModel",
      "state": {
       "layout": "IPY_MODEL_078e6e5167f84d779cee1ec337b6a54a",
       "style": "IPY_MODEL_7af7f92668c14aeda5fa0c593064c38d",
       "value": "Validation sanity check: 0it [00:02, ?it/s]"
      }
     },
     "c096c43947274a27ade9573f439dd186": {
      "model_module": "@jupyter-widgets/controls",
      "model_module_version": "1.5.0",
      "model_name": "DescriptionStyleModel",
      "state": {
       "description_width": ""
      }
     },
     "c126e582d5c2408780ecf3d091f910d4": {
      "model_module": "@jupyter-widgets/controls",
      "model_module_version": "1.5.0",
      "model_name": "ProgressStyleModel",
      "state": {
       "description_width": ""
      }
     },
     "c1f4e83329af442b9861e949ad2d167a": {
      "model_module": "@jupyter-widgets/controls",
      "model_module_version": "1.5.0",
      "model_name": "DescriptionStyleModel",
      "state": {
       "description_width": ""
      }
     },
     "c6596eb6fac546e4bd0af33cc298afbb": {
      "model_module": "@jupyter-widgets/base",
      "model_module_version": "1.2.0",
      "model_name": "LayoutModel",
      "state": {
       "display": "inline-flex",
       "flex_flow": "row wrap",
       "width": "100%"
      }
     },
     "c70e08e6f1814c82ab1e0c1c274da2fa": {
      "model_module": "@jupyter-widgets/controls",
      "model_module_version": "1.5.0",
      "model_name": "DescriptionStyleModel",
      "state": {
       "description_width": ""
      }
     },
     "c773ebcb49164b1f8cefaf8b1fe58d08": {
      "model_module": "@jupyter-widgets/controls",
      "model_module_version": "1.5.0",
      "model_name": "DescriptionStyleModel",
      "state": {
       "description_width": ""
      }
     },
     "c7a2b2870ecc489381bf7d6647f7c2b9": {
      "model_module": "@jupyter-widgets/controls",
      "model_module_version": "1.5.0",
      "model_name": "HTMLModel",
      "state": {
       "layout": "IPY_MODEL_5fa09f33031b4df7b9077f794a163377",
       "style": "IPY_MODEL_35cbe9c5bc504b668461a8aa280dda63",
       "value": " 15/15 [00:00&lt;00:00, 21.27it/s, loss=2.3, v_num=2j1h, val_acc_epoch=0.0969, val_f1_epoch=0.0318, val_prec_epoch=0.0188, val_rec_epoch=0.112, val_loss_epoch=2.31, train_acc_step=0.109, train_f1_step=0.0259, train_prec_step=0.0149, train_rec_step=0.1, train_loss_step=2.31, val_acc_step=0.0781, val_f1_step=0.0265, val_prec_step=0.0145, val_rec_step=0.18, val_loss_step=2.32]"
      }
     },
     "c841b42fa6d64e6286d78f78d3316058": {
      "model_module": "@jupyter-widgets/base",
      "model_module_version": "1.2.0",
      "model_name": "LayoutModel",
      "state": {
       "flex": "2"
      }
     },
     "c91982d123f1481db6499c5901d467a1": {
      "model_module": "@jupyter-widgets/controls",
      "model_module_version": "1.5.0",
      "model_name": "HTMLModel",
      "state": {
       "layout": "IPY_MODEL_3f95cf9a18da4f46bd80090a793e9280",
       "style": "IPY_MODEL_838e0f2f9fb14765adfd571d9c16534f",
       "value": "Reval: 100%"
      }
     },
     "c94f099387ab4f4498e09a8abeff3b1a": {
      "model_module": "@jupyter-widgets/controls",
      "model_module_version": "1.5.0",
      "model_name": "DescriptionStyleModel",
      "state": {
       "description_width": ""
      }
     },
     "c95c60f249ba439c89978e3cec71fbc4": {
      "model_module": "@jupyter-widgets/controls",
      "model_module_version": "1.5.0",
      "model_name": "DescriptionStyleModel",
      "state": {
       "description_width": ""
      }
     },
     "ca067900951746d1ac887b7498b28a74": {
      "model_module": "@jupyter-widgets/controls",
      "model_module_version": "1.5.0",
      "model_name": "FloatProgressModel",
      "state": {
       "layout": "IPY_MODEL_0f32d75120a04cd79ea0eeeb32ad6e0d",
       "max": 15,
       "style": "IPY_MODEL_54e82baa2e96409da4cb2459ea8f1a87",
       "value": 15
      }
     },
     "d43f8b1a7b0d4f6f9d9de2be1e2dc7e5": {
      "model_module": "@jupyter-widgets/base",
      "model_module_version": "1.2.0",
      "model_name": "LayoutModel",
      "state": {}
     },
     "d55a2f0225934c94b733ec1e4451a4e0": {
      "model_module": "@jupyter-widgets/controls",
      "model_module_version": "1.5.0",
      "model_name": "HTMLModel",
      "state": {
       "layout": "IPY_MODEL_d6bc5aaca63246e9be30cbb9a23d0494",
       "style": "IPY_MODEL_e9f2f97e1b3844fbabb9c54fda87533e",
       "value": " 5/5 [00:00&lt;00:00,  4.92it/s]"
      }
     },
     "d5eda4bc97164855b123e8c9f242a95e": {
      "model_module": "@jupyter-widgets/base",
      "model_module_version": "1.2.0",
      "model_name": "LayoutModel",
      "state": {
       "display": "inline-flex",
       "flex_flow": "row wrap",
       "width": "100%"
      }
     },
     "d6bc5aaca63246e9be30cbb9a23d0494": {
      "model_module": "@jupyter-widgets/base",
      "model_module_version": "1.2.0",
      "model_name": "LayoutModel",
      "state": {}
     },
     "d89b89f2665646a2bc6b3354132cfdf1": {
      "model_module": "@jupyter-widgets/base",
      "model_module_version": "1.2.0",
      "model_name": "LayoutModel",
      "state": {
       "flex": "2"
      }
     },
     "d8df68518cbe4b6dbb302b17f7b4752e": {
      "model_module": "@jupyter-widgets/controls",
      "model_module_version": "1.5.0",
      "model_name": "DescriptionStyleModel",
      "state": {
       "description_width": ""
      }
     },
     "dc2130cf00d741b88b20f116fa51760d": {
      "model_module": "@jupyter-widgets/base",
      "model_module_version": "1.2.0",
      "model_name": "LayoutModel",
      "state": {}
     },
     "ddd3e6d124f241c9ad4cb92e1a9d4d2a": {
      "model_module": "@jupyter-widgets/base",
      "model_module_version": "1.2.0",
      "model_name": "LayoutModel",
      "state": {
       "display": "inline-flex",
       "flex_flow": "row wrap",
       "width": "100%"
      }
     },
     "de043ef071724e34bcd0ad9b7895fcc8": {
      "model_module": "@jupyter-widgets/base",
      "model_module_version": "1.2.0",
      "model_name": "LayoutModel",
      "state": {}
     },
     "e55c6926c04042aa907581eb48760a06": {
      "model_module": "@jupyter-widgets/controls",
      "model_module_version": "1.5.0",
      "model_name": "HTMLModel",
      "state": {
       "layout": "IPY_MODEL_7dfde8c8217f40a4a891c0d38c656214",
       "style": "IPY_MODEL_27c3ef290d8c4463a9c40f2fb9cf181a",
       "value": " 15/15 [00:01&lt;00:00,  4.55it/s, loss=2.31, v_num=2j1h, val_acc_epoch=0.103, val_f1_epoch=0.0345, val_prec_epoch=0.0205, val_rec_epoch=0.12, val_loss_epoch=2.3, train_acc_step=0.141, train_f1_step=0.0465, train_prec_step=0.0289, train_rec_step=0.14, train_loss_step=2.3, val_acc_step=0.0781, val_f1_step=0.0265, val_prec_step=0.0145, val_rec_step=0.18, val_loss_step=2.32, train_acc_epoch=0.0922, train_f1_epoch=0.0283, train_prec_epoch=0.017, train_rec_epoch=0.094, train_loss_epoch=2.31]"
      }
     },
     "e64e1278ac7c49e79de8e2aff8b49a35": {
      "model_module": "@jupyter-widgets/controls",
      "model_module_version": "1.5.0",
      "model_name": "HTMLModel",
      "state": {
       "layout": "IPY_MODEL_8d6a731628cb4d76948c807aac71e89d",
       "style": "IPY_MODEL_5589c5baf4224b21bf923006bee6649d"
      }
     },
     "e7072fe64e134eaeb195d78a13e7944f": {
      "model_module": "@jupyter-widgets/controls",
      "model_module_version": "1.5.0",
      "model_name": "ProgressStyleModel",
      "state": {
       "description_width": ""
      }
     },
     "e7a637bb5fc74dd9bd77cfbc3bdc1d94": {
      "model_module": "@jupyter-widgets/controls",
      "model_module_version": "1.5.0",
      "model_name": "DescriptionStyleModel",
      "state": {
       "description_width": ""
      }
     },
     "e7e49644b68f40bd88fc01c85b73c585": {
      "model_module": "@jupyter-widgets/base",
      "model_module_version": "1.2.0",
      "model_name": "LayoutModel",
      "state": {
       "flex": "2"
      }
     },
     "e9f2f97e1b3844fbabb9c54fda87533e": {
      "model_module": "@jupyter-widgets/controls",
      "model_module_version": "1.5.0",
      "model_name": "DescriptionStyleModel",
      "state": {
       "description_width": ""
      }
     },
     "eb124d9aeb264dc7a4c57e0392e87151": {
      "model_module": "@jupyter-widgets/controls",
      "model_module_version": "1.5.0",
      "model_name": "DescriptionStyleModel",
      "state": {
       "description_width": ""
      }
     },
     "ed03168f71664369b484248224543149": {
      "model_module": "@jupyter-widgets/controls",
      "model_module_version": "1.5.0",
      "model_name": "HTMLModel",
      "state": {
       "layout": "IPY_MODEL_fa967d96ffae4ab19989944167d404e5",
       "style": "IPY_MODEL_bc9821553c7f47129ada7143bb47333d",
       "value": " 5/5 [00:00&lt;00:00,  4.94it/s]"
      }
     },
     "f047338149064ec8afb1cf94e13eb655": {
      "model_module": "@jupyter-widgets/controls",
      "model_module_version": "1.5.0",
      "model_name": "ProgressStyleModel",
      "state": {
       "description_width": ""
      }
     },
     "f2e52268e4f94ea284e7eaa08caa71bd": {
      "model_module": "@jupyter-widgets/controls",
      "model_module_version": "1.5.0",
      "model_name": "DescriptionStyleModel",
      "state": {
       "description_width": ""
      }
     },
     "f3205a9dda4445d194a90262fb9ef499": {
      "model_module": "@jupyter-widgets/controls",
      "model_module_version": "1.5.0",
      "model_name": "HTMLModel",
      "state": {
       "layout": "IPY_MODEL_dc2130cf00d741b88b20f116fa51760d",
       "style": "IPY_MODEL_29f1fdd3a2db48c58dca9e5159fe5a91",
       "value": " 10/10 [00:00&lt;00:00, 27.39it/s, loss=2.3, v_num=2j1h, train_acc_step=0.109, train_f1_step=0.0475, train_prec_step=0.0693, train_rec_step=0.102, train_loss_step=2.3]"
      }
     },
     "f4ee3981a54f477aa9b1e1c1de89a7e6": {
      "model_module": "@jupyter-widgets/base",
      "model_module_version": "1.2.0",
      "model_name": "LayoutModel",
      "state": {}
     },
     "f73d463e67a44eabbe6f052bc5874ebb": {
      "model_module": "@jupyter-widgets/controls",
      "model_module_version": "1.5.0",
      "model_name": "HTMLModel",
      "state": {
       "layout": "IPY_MODEL_1dcc1bca5bcf4d2d880f179020e55561",
       "style": "IPY_MODEL_73116e9b504e4e2abecad88f82838d3e",
       "value": " 10/10 [00:00&lt;?, ?it/s, loss=2.3, v_num=2j1h, train_acc_step=0.125, train_f1_step=0.0586, train_prec_step=0.046, train_rec_step=0.127, train_loss_step=2.3, train_acc_epoch=0.103, train_f1_epoch=0.0326, train_prec_epoch=0.0238, train_rec_epoch=0.102, train_loss_epoch=2.3]"
      }
     },
     "f9a637ed02bb401d89c301967e948480": {
      "model_module": "@jupyter-widgets/base",
      "model_module_version": "1.2.0",
      "model_name": "LayoutModel",
      "state": {}
     },
     "fa967d96ffae4ab19989944167d404e5": {
      "model_module": "@jupyter-widgets/base",
      "model_module_version": "1.2.0",
      "model_name": "LayoutModel",
      "state": {}
     },
     "faf25f02ae9841f5b1a50430eb05fbdb": {
      "model_module": "@jupyter-widgets/controls",
      "model_module_version": "1.5.0",
      "model_name": "HTMLModel",
      "state": {
       "layout": "IPY_MODEL_4739feb4b55444ce9d615f2837e8066a",
       "style": "IPY_MODEL_b4a2bbd098f24bdc8de95229f3a2dc24",
       "value": "Epoch 0: 100%"
      }
     },
     "ff3c94250ac147ddaad44b5a43224946": {
      "model_module": "@jupyter-widgets/base",
      "model_module_version": "1.2.0",
      "model_name": "LayoutModel",
      "state": {}
     },
     "ff655f47eaa641ff865eb50ace7ff5e9": {
      "model_module": "@jupyter-widgets/base",
      "model_module_version": "1.2.0",
      "model_name": "LayoutModel",
      "state": {
       "display": "inline-flex",
       "flex_flow": "row wrap",
       "width": "100%"
      }
     }
    },
    "version_major": 2,
    "version_minor": 0
   }
  }
 },
 "nbformat": 4,
 "nbformat_minor": 4
}
