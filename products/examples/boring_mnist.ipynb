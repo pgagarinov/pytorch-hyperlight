{
 "cells": [
  {
   "cell_type": "code",
   "execution_count": null,
   "metadata": {},
   "outputs": [
    {
     "name": "stderr",
     "output_type": "stream",
     "text": [
      "/home/peter/.conda/envs/pth2/lib/python3.8/site-packages/wandb/util.py:37: DeprecationWarning: Using or importing the ABCs from 'collections' instead of from 'collections.abc' is deprecated since Python 3.3, and in 3.9 it will stop working\n",
      "  from collections import namedtuple, Mapping, Sequence\n",
      "/home/peter/.conda/envs/pth2/lib/python3.8/site-packages/wandb/vendor/graphql-core-1.1/graphql/type/directives.py:55: DeprecationWarning: Using or importing the ABCs from 'collections' instead of from 'collections.abc' is deprecated since Python 3.3, and in 3.9 it will stop working\n",
      "  assert isinstance(locations, collections.Iterable), 'Must provide locations for directive.'\n"
     ]
    }
   ],
   "source": [
    "from pathlib import Path\n",
    "\n",
    "import matplotlib.patches as patches\n",
    "\n",
    "#\n",
    "import numpy as np\n",
    "import pytorch_hyperlight as pth\n",
    "\n",
    "#\n",
    "###\n",
    "import pytorch_lightning as pl\n",
    "import pytorch_lightning.metrics as metrics\n",
    "import torch\n",
    "import torch.nn.functional as F\n",
    "\n",
    "#\n",
    "from matplotlib import pyplot as plt\n",
    "from matplotlib.font_manager import FontProperties\n",
    "from pytorch_lightning import Callback\n",
    "\n",
    "###\n",
    "from ray import tune\n",
    "#\n",
    "from torch import nn\n",
    "from torch.utils.data import DataLoader, random_split\n",
    "from torchvision import transforms\n",
    "from torchvision.datasets.mnist import MNIST\n",
    "\n",
    "from transformers import AdamW, get_linear_schedule_with_warmup\n",
    "import warnings"
   ]
  },
  {
   "cell_type": "code",
   "execution_count": null,
   "metadata": {},
   "outputs": [],
   "source": [
    "# USAGE_MODE = \"single-run\"  # choose from 'single-run' and 'hyper-opt'\n",
    "USAGE_MODE = \"hyper-opt\"  # choose from 'single-run' and 'hyper-opt'"
   ]
  },
  {
   "cell_type": "code",
   "execution_count": null,
   "metadata": {},
   "outputs": [],
   "source": [
    "FAST_DEV_RUN = True  # if true, simplifed configurations running for just a few epochs are used for making sure there are no obvious bugs"
   ]
  },
  {
   "cell_type": "code",
   "execution_count": null,
   "metadata": {},
   "outputs": [],
   "source": [
    "EXPERIMENT_ID = \"boring-mnist\"\n",
    "\n",
    "DATASETS_PATH = Path(\"/home/peter/_Git/_ML/dlschool-solutions/term1/task5/data\")\n",
    "\n",
    "warnings.filterwarnings(\"ignore\")\n",
    "\n",
    "\n",
    "# a dedicated function for creating datasets\n",
    "# please note how 'full_train_dataset' is created along with train,\n",
    "# val and test datasets\n",
    "def create_datasets(val_size=0.2):\n",
    "    SEED = 16\n",
    "    pl.seed_everything(SEED)\n",
    "    #\n",
    "    full_train_dataset = MNIST(\n",
    "        DATASETS_PATH, train=True, download=True, transform=transforms.ToTensor()\n",
    "    )\n",
    "    test_dataset = MNIST(\n",
    "        DATASETS_PATH, train=False, download=True, transform=transforms.ToTensor()\n",
    "    )\n",
    "    n_full_train_samples = len(full_train_dataset)\n",
    "    n_val_samples = int(n_full_train_samples * val_size)\n",
    "    train_dataset, val_dataset = random_split(full_train_dataset, [n_full_train_samples - n_val_samples, n_val_samples])\n",
    "\n",
    "    n_classes = len(MNIST.classes)\n",
    "\n",
    "    return {\n",
    "        \"full_train_dataset\": full_train_dataset,\n",
    "        \"train_dataset\": train_dataset,\n",
    "        \"val_dataset\": val_dataset,\n",
    "        \"test_dataset\": test_dataset,\n",
    "        \"n_classes\": n_classes,\n",
    "    }"
   ]
  },
  {
   "cell_type": "code",
   "execution_count": null,
   "metadata": {
    "id": "uJ6-Ce3Fuhno"
   },
   "outputs": [],
   "source": [
    "def imshow(inp, title=None, plt_ax=plt, default=False):\n",
    "    \"\"\"Imshow for tensors\"\"\"\n",
    "    inp = inp.numpy().transpose((1, 2, 0))\n",
    "    mean = np.array([0.485, 0.456, 0.406])\n",
    "    std = np.array([0.229, 0.224, 0.225])\n",
    "    inp = std * inp + mean\n",
    "    inp = np.clip(inp, 0, 1)\n",
    "    plt_ax.imshow(inp)\n",
    "    if title is not None:\n",
    "        plt_ax.set_title(title)\n",
    "    plt_ax.grid(False)"
   ]
  },
  {
   "cell_type": "code",
   "execution_count": null,
   "metadata": {
    "collapsed": false,
    "jupyter": {
     "outputs_hidden": false
    },
    "pycharm": {
     "name": "#%%\n"
    }
   },
   "outputs": [],
   "source": [
    "# a dedicated function for creating dataloaders\n",
    "# 'full_train_loader' is created along with standard 3 loaderers\n",
    "# for training, validation and testing datasets\n",
    "def configure_dataloaders(batch_size, n_workers=4, val_size=0.2):\n",
    "    #\n",
    "    SHUFFLE = True\n",
    "    SAMPLER = None\n",
    "    #\n",
    "    result_dict = create_datasets(val_size)\n",
    "    #\n",
    "    for prefix in [\"train\", \"full_train\"]:\n",
    "\n",
    "        result_dict[f\"{prefix}_loader\"] = DataLoader(\n",
    "            result_dict[f\"{prefix}_dataset\"],\n",
    "            batch_size=batch_size,\n",
    "            shuffle=SHUFFLE,\n",
    "            sampler=SAMPLER,\n",
    "            num_workers=n_workers,\n",
    "            pin_memory=True,\n",
    "        )\n",
    "    #\n",
    "    for prefix in [\"val\", \"test\"]:\n",
    "        result_dict[f\"{prefix}_loader\"] = DataLoader(\n",
    "            result_dict[f\"{prefix}_dataset\"],\n",
    "            batch_size=batch_size,\n",
    "            shuffle=False,\n",
    "            num_workers=n_workers,\n",
    "            pin_memory=True,\n",
    "        )\n",
    "\n",
    "    return result_dict"
   ]
  },
  {
   "cell_type": "markdown",
   "metadata": {},
   "source": [
    "Let us make sure our dataloaders can be created correctly"
   ]
  },
  {
   "cell_type": "code",
   "execution_count": null,
   "metadata": {},
   "outputs": [],
   "source": [
    "BATCH_SIZE = 32\n",
    "\n",
    "loaders_dict = configure_dataloaders(BATCH_SIZE)\n",
    "\n",
    "loaders_dict\n",
    "\n",
    "batch = next(iter(loaders_dict[\"train_loader\"]))\n",
    "assert len(batch[0]) > 0"
   ]
  },
  {
   "cell_type": "code",
   "execution_count": null,
   "metadata": {},
   "outputs": [],
   "source": [
    "result_dict = create_datasets(0.2)\n",
    "len(result_dict[\"full_train_dataset\"])"
   ]
  },
  {
   "cell_type": "code",
   "execution_count": null,
   "metadata": {},
   "outputs": [],
   "source": [
    "loaders_dict[\"n_classes\"]"
   ]
  },
  {
   "cell_type": "markdown",
   "metadata": {},
   "source": [
    "### Defining the model"
   ]
  },
  {
   "cell_type": "markdown",
   "metadata": {},
   "source": [
    "Let define a dedicated class for metrics calculation"
   ]
  },
  {
   "cell_type": "code",
   "execution_count": null,
   "metadata": {},
   "outputs": [],
   "source": [
    "class LitMetricsCalc(torch.nn.Module):\n",
    "    def __init__(self, prefix, num_classes):\n",
    "        super(LitMetricsCalc, self).__init__()\n",
    "        self.acc = metrics.classification.Accuracy()\n",
    "        self.f1 = metrics.classification.F1(\n",
    "            num_classes=num_classes, average=\"macro\"\n",
    "        )\n",
    "        self.rec = metrics.classification.Recall(\n",
    "            num_classes=num_classes, average=\"macro\"\n",
    "        )\n",
    "        self.prec = metrics.classification.Precision(\n",
    "            num_classes=num_classes, average=\"macro\"\n",
    "        )\n",
    "        self.prefix = prefix\n",
    "\n",
    "    def step(self, logit, target):\n",
    "        probs = torch.softmax(logit, dim=1)\n",
    "        prefix = self.prefix\n",
    "        self.acc(probs, target)\n",
    "        self.f1(probs, target)\n",
    "        self.prec(probs, target)\n",
    "        self.rec(probs, target)\n",
    "\n",
    "        return {\n",
    "            f\"{prefix}_acc\": self.acc,\n",
    "            f\"{prefix}_f1\": self.f1,\n",
    "            f\"{prefix}_prec\": self.prec,\n",
    "            f\"{prefix}_rec\": self.rec,\n",
    "        }"
   ]
  },
  {
   "cell_type": "code",
   "execution_count": null,
   "metadata": {
    "collapsed": false,
    "jupyter": {
     "outputs_hidden": false
    },
    "pycharm": {
     "name": "#%%\n"
    }
   },
   "outputs": [],
   "source": [
    "class Backbone(torch.nn.Module):\n",
    "    def __init__(self, n_classes):\n",
    "        super().__init__()\n",
    "        self.l0 = torch.nn.Linear(28 * 28, 256)\n",
    "        self.l1 = torch.nn.Linear(256, 128)\n",
    "        self.l2 = torch.nn.Linear(128, n_classes)\n",
    "\n",
    "    def forward(self, x):\n",
    "        x = x.view(x.size(0), -1)\n",
    "        x = torch.relu(self.l0(x))\n",
    "        x = torch.relu(self.l1(x))\n",
    "        x = torch.relu(self.l2(x))\n",
    "        return x"
   ]
  },
  {
   "cell_type": "code",
   "execution_count": null,
   "metadata": {},
   "outputs": [],
   "source": [
    "class LitBackbone(pl.LightningModule):\n",
    "    def __init__(self, hparams):\n",
    "        super().__init__()\n",
    "        self.hparams = hparams\n",
    "        #\n",
    "        n_classes = self.hparams.n_classes\n",
    "        #\n",
    "        model = Backbone(n_classes)\n",
    "        #\n",
    "        self.model = model\n",
    "        self.train_metric_calc = LitMetricsCalc(\"train\", num_classes=n_classes)\n",
    "        self.val_metric_calc = LitMetricsCalc(\"val\", num_classes=n_classes)\n",
    "        self.test_metric_calc = LitMetricsCalc(\"test\", num_classes=n_classes)\n",
    "        self.freeze()\n",
    "\n",
    "    def freeze(self):\n",
    "        for param in self.model.parameters():\n",
    "            param.requires_grad = False\n",
    "\n",
    "    def unfreeze(self):\n",
    "        for param in self.model.parameters():\n",
    "            param.requires_grad = True\n",
    "\n",
    "    def unfreeze_tail(self, ind_layer):\n",
    "        assert ind_layer >= 0\n",
    "        ind = ind_layer\n",
    "        while True:\n",
    "            if ind == 0:\n",
    "                for param in self.model.l2.parameters():\n",
    "                    param.requires_grad = True\n",
    "            elif ind == 1:\n",
    "                for param in self.model.l1.parameters():\n",
    "                    param.requires_grad = True\n",
    "            elif ind == 2:\n",
    "                for param in self.model.l0.parameters():\n",
    "                    param.requires_grad = True\n",
    "            ind -= 1\n",
    "            if ind < 0:\n",
    "                break\n",
    "\n",
    "    def configure_optimizers(self):\n",
    "        optimizer = AdamW(\n",
    "            self.model.parameters(),\n",
    "            lr=self.hparams.lr,\n",
    "            betas=(0.9, 0.999),\n",
    "            eps=1e-8,\n",
    "        )\n",
    "\n",
    "        scheduler = get_linear_schedule_with_warmup(\n",
    "            optimizer, self.hparams.warmup, self.hparams.n_train_steps\n",
    "        )\n",
    "        return [optimizer], [\n",
    "            {\"scheduler\": scheduler, \"interval\": \"step\", \"frequency\": 1}\n",
    "        ]\n",
    "\n",
    "    def forward(self, inputs):\n",
    "        logits = self.model(inputs)\n",
    "        return logits\n",
    "\n",
    "    def forward_batch(self, batch):\n",
    "        inputs = batch[0]\n",
    "        return self(inputs)\n",
    "\n",
    "    def __calc_loss(self, logits, target, log_label):\n",
    "        loss = F.cross_entropy(logits, target)\n",
    "        self.log(f\"{log_label}_loss\", loss, prog_bar=True, on_step=True, on_epoch=True)\n",
    "        return loss\n",
    "\n",
    "    def __stage_step(self, metric_calc, batch, batch_idx, stage):\n",
    "        logits = self.forward_batch(batch)\n",
    "        mval_dict = metric_calc.step(logits, batch[1])\n",
    "        self.log_dict(mval_dict, prog_bar=True, on_step=True, on_epoch=True)\n",
    "        loss = self.__calc_loss(logits, batch[1], stage)\n",
    "        return loss\n",
    "\n",
    "    def training_step(self, batch, batch_idx):\n",
    "        return self.__stage_step(self.train_metric_calc, batch, batch_idx, \"train\")\n",
    "\n",
    "    def test_step(self, batch, batch_idx):\n",
    "        return self.__stage_step(self.test_metric_calc, batch, batch_idx, \"test\")\n",
    "\n",
    "    def validation_step(self, batch, batch_idx):\n",
    "        return self.__stage_step(self.val_metric_calc, batch, batch_idx, \"val\")"
   ]
  },
  {
   "cell_type": "code",
   "execution_count": null,
   "metadata": {
    "collapsed": false,
    "jupyter": {
     "outputs_hidden": false
    },
    "pycharm": {
     "name": "#%%\n"
    }
   },
   "outputs": [],
   "source": [
    "N_CLASSES = loaders_dict[\"n_classes\"]\n",
    "MODEL_CLASS = LitBackbone"
   ]
  },
  {
   "cell_type": "code",
   "execution_count": null,
   "metadata": {},
   "outputs": [],
   "source": [
    "lmodule_builder = pth.LitModuleBuilder(MODEL_CLASS)"
   ]
  },
  {
   "cell_type": "code",
   "execution_count": null,
   "metadata": {},
   "outputs": [],
   "source": [
    "CONFIG = {\n",
    "    \"lr\": 6.2e-5,  # Initial learning rate\n",
    "    \"warmup\": 200,  # for StepLR LR scheduler\n",
    "    \"gradient_clip_val\": 0,\n",
    "    \"max_epochs\": 30,  # the actual number can be less due to early stopping\n",
    "    \"batch_size\": 64,  # the maximum for this model and RTX 2070,\n",
    "    \"n_classes\": N_CLASSES,\n",
    "    \"unfreeze_epochs\": [0, 1],  #\n",
    "}\n",
    "\n",
    "TUNE_CONFIG = {\n",
    "    \"metric_to_optimize\": \"val_f1_epoch\",  # Ray + PTL Trainer\n",
    "    \"ray_metrics_to_show\": [\n",
    "        \"val_loss_epoch\",\n",
    "        \"val_f1_epoch\",\n",
    "        \"val_acc_epoch\",\n",
    "    ],  # Ray\n",
    "    \"metric_opt_mode\": \"max\",  # Ray + PTL Trainer\n",
    "    \"cpu_per_trial\": 3,  # Ray + DataLoaders\n",
    "    \"gpu_per_trial\": 0,  # Ray\n",
    "    \"n_checkpoints_to_keep\": 1,  # Ray\n",
    "    \"grace_period\": 6,  # Ray\n",
    "    \"epoch_upper_limit\": 45,  # Ray\n",
    "    \"n_samples\": 40,  # Ray\n",
    "    # \"n_samples\": 3,\n",
    "    \"ptl_trainer_patience\": 7,  # PTL Trainer\n",
    "    # \"ptl_precision\": 16,  # PTL Trainer\n",
    "    \"ptl_precision\": 32,  # PTL Trainer\n",
    "    #\n",
    "    \"train_loader_name\": \"train_loader\",\n",
    "    \"val_loader_name\": \"val_loader\",\n",
    "    \"test_loader_name\": \"test_loader\",\n",
    "    #\n",
    "    \"batch_size_main\": 32,  # batch size for validation runs in the main process once all Ray Tune trials are finished\n",
    "    \"gpus\": 0,\n",
    "}\n",
    "\n",
    "if FAST_DEV_RUN:\n",
    "    CONFIG[\"max_epochs\"] = 2\n",
    "    TUNE_CONFIG[\"n_samples\"] = 2\n",
    "    TUNE_CONFIG[\"gpu_per_trial\"] = 0"
   ]
  },
  {
   "cell_type": "code",
   "execution_count": null,
   "metadata": {},
   "outputs": [],
   "source": [
    "def set_seed():\n",
    "    SEED = 16\n",
    "    pl.seed_everything(SEED)"
   ]
  },
  {
   "cell_type": "code",
   "execution_count": null,
   "metadata": {},
   "outputs": [],
   "source": [
    "class UnfreezeModelTailCallback(Callback):\n",
    "    def __init__(self, epoch_vec):\n",
    "        super().__init__()\n",
    "        self.epoch_vec = epoch_vec\n",
    "\n",
    "    def on_epoch_start(self, trainer, pl_module):\n",
    "        if trainer.current_epoch <= self.epoch_vec[0]:\n",
    "            pl_module.unfreeze_tail(0)\n",
    "        elif trainer.current_epoch <= self.epoch_vec[1]:\n",
    "            pl_module.unfreeze_tail(1)\n",
    "        else:\n",
    "            pl_module.unfreeze()\n",
    "\n",
    "\n",
    "pl_callbacks = [UnfreezeModelTailCallback(CONFIG[\"unfreeze_epochs\"])]"
   ]
  },
  {
   "cell_type": "code",
   "execution_count": null,
   "metadata": {},
   "outputs": [],
   "source": [
    "ptl_ray_runner = pth.Runner(\n",
    "    lmodule_builder,\n",
    "    configure_dataloaders,\n",
    "    set_seed,\n",
    "    pl_callbacks=pl_callbacks,\n",
    "    is_debug=FAST_DEV_RUN,\n",
    "    experiment_id=EXPERIMENT_ID\n",
    ")"
   ]
  },
  {
   "cell_type": "code",
   "execution_count": null,
   "metadata": {},
   "outputs": [],
   "source": [
    "if USAGE_MODE == \"single-run\":\n",
    "    best_result = ptl_ray_runner.run_single_trial(CONFIG, TUNE_CONFIG)"
   ]
  },
  {
   "cell_type": "markdown",
   "metadata": {},
   "source": [
    "### Running a hyper-parameters search via Ray Tune"
   ]
  },
  {
   "cell_type": "code",
   "execution_count": null,
   "metadata": {},
   "outputs": [],
   "source": [
    "SEARCH_SPACE_CONFIG = {\n",
    "    \"unfreeze_epochs\": [0, 1],\n",
    "    \"lr\": tune.uniform(1e-5, 1e-4),\n",
    "    \"warmup\": tune.choice([200, 500, 600, 1000]),\n",
    "    \"gradient_clip_val\": 0,\n",
    "    \"max_epochs\": tune.choice([10, 20, 30]),\n",
    "    \"batch_size\": tune.choice([16, 32, 64]),\n",
    "    \"n_classes\": N_CLASSES,\n",
    "}"
   ]
  },
  {
   "cell_type": "code",
   "execution_count": null,
   "metadata": {},
   "outputs": [],
   "source": [
    "if FAST_DEV_RUN:\n",
    "    SEARCH_SPACE_CONFIG[\"max_epochs\"] = 2\n",
    "    SEARCH_SPACE_CONFIG[\"batch_size\"] = 32"
   ]
  },
  {
   "cell_type": "code",
   "execution_count": null,
   "metadata": {},
   "outputs": [],
   "source": [
    "if USAGE_MODE == \"hyper-opt\":\n",
    "    #\n",
    "    best_result = ptl_ray_runner.run_hyper_opt(\n",
    "        SEARCH_SPACE_CONFIG,\n",
    "        TUNE_CONFIG,\n",
    "    )"
   ]
  },
  {
   "cell_type": "markdown",
   "metadata": {},
   "source": [
    "The following code is launches an automatic hyper-parameter tunning via Ray Tune"
   ]
  },
  {
   "cell_type": "markdown",
   "metadata": {},
   "source": [
    "Below is an example of output produced by Ray Tune"
   ]
  },
  {
   "cell_type": "markdown",
   "metadata": {},
   "source": [
    "### Let us look at the results"
   ]
  },
  {
   "cell_type": "code",
   "execution_count": null,
   "metadata": {},
   "outputs": [],
   "source": [
    "DEVICE = torch.device(\"cpu\")"
   ]
  },
  {
   "cell_type": "code",
   "execution_count": null,
   "metadata": {},
   "outputs": [],
   "source": [
    "def predict_one_sample(model, inputs, device=DEVICE):\n",
    "    with torch.no_grad():\n",
    "        inputs = inputs.to(device)\n",
    "        model.eval()\n",
    "        logit = model(inputs).cpu()\n",
    "        probs = torch.nn.functional.softmax(logit, dim=-1).numpy()\n",
    "    return probs"
   ]
  },
  {
   "cell_type": "code",
   "execution_count": null,
   "metadata": {},
   "outputs": [],
   "source": [
    "def show_some_predictions(loaders_dict, lmodule):\n",
    "    fig, ax = plt.subplots(nrows=3, ncols=3, figsize=(12, 12), sharey=True, sharex=True)\n",
    "    for fig_x in ax.flatten():\n",
    "        random_characters = int(np.random.uniform(0, 1000))\n",
    "        im_val, label = loaders_dict[\"val_dataset\"][random_characters]\n",
    "        img_label = \" \".join(\n",
    "            map(\n",
    "                lambda x: x.capitalize(),\n",
    "                MNIST.classes[label].split(\"_\"),\n",
    "            )\n",
    "        )\n",
    "\n",
    "        imshow(im_val.data.cpu(), title=img_label, plt_ax=fig_x)\n",
    "\n",
    "        fig_x.add_patch(patches.Rectangle((0, 0), 10, 5, color=\"white\"))\n",
    "        font0 = FontProperties()\n",
    "        font = font0.copy()\n",
    "        font.set_family(\"fantasy\")\n",
    "        prob_pred = predict_one_sample(lmodule, im_val.unsqueeze(0))\n",
    "        predicted_proba = np.max(prob_pred) * 100\n",
    "        y_pred = np.argmax(prob_pred)\n",
    "\n",
    "        predicted_label = MNIST.classes[y_pred]\n",
    "        predicted_label = (\n",
    "            predicted_label[: len(predicted_label) // 2]\n",
    "            + \"\\n\"\n",
    "            + predicted_label[len(predicted_label) // 2 :]\n",
    "        )\n",
    "        predicted_text = \"{} : {:.0f}%\".format(predicted_label, predicted_proba)\n",
    "\n",
    "        fig_x.text(\n",
    "            1,\n",
    "            2,\n",
    "            predicted_text,\n",
    "            horizontalalignment=\"left\",\n",
    "            fontproperties=font,\n",
    "            verticalalignment=\"top\",\n",
    "            fontsize=8,\n",
    "            color=\"black\",\n",
    "            fontweight=\"bold\",\n",
    "        )"
   ]
  },
  {
   "cell_type": "code",
   "execution_count": null,
   "metadata": {},
   "outputs": [],
   "source": [
    "def predict(model, test_loader):\n",
    "    with torch.no_grad():\n",
    "        logits = []\n",
    "\n",
    "        for inputs, _ in test_loader:\n",
    "            inputs = inputs.to(DEVICE)\n",
    "            model.eval()\n",
    "            outputs = model(inputs).cpu()\n",
    "            logits.append(outputs)\n",
    "\n",
    "    probs = nn.functional.softmax(torch.cat(logits), dim=-1).numpy()\n",
    "    return probs"
   ]
  },
  {
   "cell_type": "code",
   "execution_count": null,
   "metadata": {},
   "outputs": [],
   "source": [
    "show_some_predictions(loaders_dict, best_result[\"lmodule_best\"])"
   ]
  },
  {
   "cell_type": "markdown",
   "metadata": {},
   "source": [
    "### Re-train the model on all available data with the same hyper-parameters"
   ]
  },
  {
   "cell_type": "code",
   "execution_count": null,
   "metadata": {},
   "outputs": [],
   "source": [
    "FT_TUNE_CONFIG = TUNE_CONFIG.copy()\n",
    "FT_TUNE_CONFIG[\"val_loader_name\"] = None\n",
    "FT_TUNE_CONFIG[\"train_loader_name\"] = \"full_train_loader\"\n",
    "FT_TUNE_CONFIG[\"metric_to_optimize\"] = \"train_f1_epoch\""
   ]
  },
  {
   "cell_type": "code",
   "execution_count": null,
   "metadata": {},
   "outputs": [],
   "source": [
    "FT_CONFIG = CONFIG.copy()\n",
    "# FT_CONFIG['max_epochs'] = 19\n",
    "FT_CONFIG[\"max_epochs\"] = best_result[\"best_epoch\"]"
   ]
  },
  {
   "cell_type": "code",
   "execution_count": null,
   "metadata": {},
   "outputs": [],
   "source": [
    "full_train_result = ptl_ray_runner.run_single_trial(\n",
    "    FT_CONFIG,\n",
    "    FT_TUNE_CONFIG,\n",
    ")"
   ]
  },
  {
   "cell_type": "code",
   "execution_count": null,
   "metadata": {},
   "outputs": [],
   "source": [
    "\"\"\"\n",
    "FT_REVAL_TUNE_CONFIG = FT_TUNE_CONFIG.copy()\n",
    "FT_REVAL_TUNE_CONFIG['val_loader_name'] = 'full_train_loader'\n",
    "\"\"\""
   ]
  },
  {
   "cell_type": "code",
   "execution_count": null,
   "metadata": {
    "pycharm": {
     "name": "#%%\n"
    }
   },
   "outputs": [],
   "source": [
    "lmodule_best = full_train_result[\"lmodule_best\"]\n",
    "loaders_dict = configure_dataloaders(\n",
    "    FT_CONFIG[\"batch_size\"], n_workers=FT_TUNE_CONFIG[\"cpu_per_trial\"]\n",
    ")\n",
    "train_repeated_result = full_train_result[\"trainer\"].test(\n",
    "    lmodule_best, test_dataloaders=loaders_dict[\"test_loader\"], verbose=False\n",
    ")"
   ]
  },
  {
   "cell_type": "code",
   "execution_count": null,
   "metadata": {
    "collapsed": false,
    "jupyter": {
     "outputs_hidden": false
    },
    "pycharm": {
     "name": "#%%\n"
    }
   },
   "outputs": [],
   "source": [
    "show_some_predictions(loaders_dict, full_train_result[\"lmodule_best\"])"
   ]
  }
 ],
 "metadata": {
  "accelerator": "GPU",
  "colab": {
   "collapsed_sections": [],
   "machine_shape": "hm",
   "name": "[homework]BERT_for_text_classification.ipynb",
   "provenance": []
  },
  "kernelspec": {
   "display_name": "Python 3",
   "language": "python",
   "name": "python3"
  },
  "language_info": {
   "codemirror_mode": {
    "name": "ipython",
    "version": 3
   },
   "file_extension": ".py",
   "mimetype": "text/x-python",
   "name": "python",
   "nbconvert_exporter": "python",
   "pygments_lexer": "ipython3",
   "version": "3.8.5"
  },
  "widgets": {
   "application/vnd.jupyter.widget-state+json": {
    "state": {
     "02ac10f26cd74ec9bb3ee725fcb486a1": {
      "model_module": "@jupyter-widgets/controls",
      "model_module_version": "1.5.0",
      "model_name": "DescriptionStyleModel",
      "state": {
       "description_width": ""
      }
     },
     "02b61195d9824a808d487879f97ca722": {
      "model_module": "@jupyter-widgets/controls",
      "model_module_version": "1.5.0",
      "model_name": "HTMLModel",
      "state": {
       "layout": "IPY_MODEL_7686259785f84146ad8c54cfae174211",
       "style": "IPY_MODEL_71cdfa3be5214e35a42fa32d730ee413",
       "value": " 10/10 [00:03&lt;00:00,  2.79it/s, loss=3.59, v_num=v7tq, train_acc_step=0.14, train_f1_step=0.14, train_prec_step=0.14, train_rec_step=0.14, train_loss_step=3.52]"
      }
     },
     "0370fdfeffef482aa3ae87dd2feaf398": {
      "model_module": "@jupyter-widgets/controls",
      "model_module_version": "1.5.0",
      "model_name": "DescriptionStyleModel",
      "state": {
       "description_width": ""
      }
     },
     "03d3c550d45147dbae593b55e4c379da": {
      "model_module": "@jupyter-widgets/controls",
      "model_module_version": "1.5.0",
      "model_name": "DescriptionStyleModel",
      "state": {
       "description_width": ""
      }
     },
     "046f62fb48d742c1ad3deddc49bee62e": {
      "model_module": "@jupyter-widgets/controls",
      "model_module_version": "1.5.0",
      "model_name": "DescriptionStyleModel",
      "state": {
       "description_width": ""
      }
     },
     "075dafc9a77a451fb3c32925a7bfea4c": {
      "model_module": "@jupyter-widgets/base",
      "model_module_version": "1.2.0",
      "model_name": "LayoutModel",
      "state": {}
     },
     "0776198ae8ad43148ec7f8bc4c089f02": {
      "model_module": "@jupyter-widgets/base",
      "model_module_version": "1.2.0",
      "model_name": "LayoutModel",
      "state": {}
     },
     "0981004d6e40440581a6326420747195": {
      "model_module": "@jupyter-widgets/base",
      "model_module_version": "1.2.0",
      "model_name": "LayoutModel",
      "state": {
       "display": "inline-flex",
       "flex_flow": "row wrap",
       "width": "100%"
      }
     },
     "0bd05759393041bdaaf5d66ee126676d": {
      "model_module": "@jupyter-widgets/controls",
      "model_module_version": "1.5.0",
      "model_name": "ProgressStyleModel",
      "state": {
       "description_width": ""
      }
     },
     "0e39d67d57a040e384d3be3aa65d8f21": {
      "model_module": "@jupyter-widgets/controls",
      "model_module_version": "1.5.0",
      "model_name": "ProgressStyleModel",
      "state": {
       "description_width": ""
      }
     },
     "0f6c2626cc804c078b8370cca9688516": {
      "model_module": "@jupyter-widgets/base",
      "model_module_version": "1.2.0",
      "model_name": "LayoutModel",
      "state": {
       "display": "inline-flex",
       "flex_flow": "row wrap",
       "width": "100%"
      }
     },
     "0f8d5dd4fd9a4d4695a587e9218dd835": {
      "model_module": "@jupyter-widgets/controls",
      "model_module_version": "1.5.0",
      "model_name": "HTMLModel",
      "state": {
       "layout": "IPY_MODEL_879ed165db664f2eb8fe9a95bb175942",
       "style": "IPY_MODEL_3e7b5cfadaf14ab891cb07d6c5c43d7d",
       "value": "Epoch 0: 100%"
      }
     },
     "108289a24a4f4f5f8d8c850d75028483": {
      "model_module": "@jupyter-widgets/controls",
      "model_module_version": "1.5.0",
      "model_name": "FloatProgressModel",
      "state": {
       "layout": "IPY_MODEL_f396438eae72493ea04023bc501350a6",
       "max": 15,
       "style": "IPY_MODEL_15f3729caa474bc1981be2ca63071c0c",
       "value": 15
      }
     },
     "1095a737245b412394b7e75c7bc96c16": {
      "model_module": "@jupyter-widgets/controls",
      "model_module_version": "1.5.0",
      "model_name": "HTMLModel",
      "state": {
       "layout": "IPY_MODEL_8fd60b9adfd24a65b39497b1359eabd3",
       "style": "IPY_MODEL_a3fa57a9ff584e8e93b06eba7b3deda0",
       "value": "Validation sanity check: 0it [00:00, ?it/s]"
      }
     },
     "15f3729caa474bc1981be2ca63071c0c": {
      "model_module": "@jupyter-widgets/controls",
      "model_module_version": "1.5.0",
      "model_name": "ProgressStyleModel",
      "state": {
       "description_width": ""
      }
     },
     "16470a2926b14ec2a49b225ecab1b5b3": {
      "model_module": "@jupyter-widgets/controls",
      "model_module_version": "1.5.0",
      "model_name": "HTMLModel",
      "state": {
       "layout": "IPY_MODEL_41c7ce1bda5b4e6c9619552c07bdb283",
       "style": "IPY_MODEL_5fc4640252e94ef7b382171ef0883b20",
       "value": " 15/15 [00:07&lt;00:00,  1.44s/it, loss=3.22, v_num=v7tq, val_acc_epoch=0.0349, val_f1_epoch=0.0349, val_prec_epoch=0.0349, val_rec_epoch=0.0349, val_loss_epoch=3.48, train_acc_step=0.233, train_f1_step=0.233, train_prec_step=0.233, train_rec_step=0.233, train_loss_step=3.01, val_acc_step=0.128, val_f1_step=0.128, val_prec_step=0.128, val_rec_step=0.128, val_loss_step=3.1, train_acc_epoch=0.205, train_f1_epoch=0.205, train_prec_epoch=0.205, train_rec_epoch=0.205, train_loss_epoch=3.34]"
      }
     },
     "17cab28a2dc24f17b69c232016ed9a71": {
      "model_module": "@jupyter-widgets/base",
      "model_module_version": "1.2.0",
      "model_name": "LayoutModel",
      "state": {}
     },
     "1a35a3f13bec4b64a3c1dd9aae2d2728": {
      "model_module": "@jupyter-widgets/controls",
      "model_module_version": "1.5.0",
      "model_name": "ProgressStyleModel",
      "state": {
       "description_width": ""
      }
     },
     "1cab470814ec40e69773e2550952cb7d": {
      "model_module": "@jupyter-widgets/base",
      "model_module_version": "1.2.0",
      "model_name": "LayoutModel",
      "state": {}
     },
     "1cb70dbf749241f49f6a814a8e9cdba5": {
      "model_module": "@jupyter-widgets/base",
      "model_module_version": "1.2.0",
      "model_name": "LayoutModel",
      "state": {
       "flex": "2"
      }
     },
     "1dd2a443cf2746de87effea04c63e285": {
      "model_module": "@jupyter-widgets/controls",
      "model_module_version": "1.5.0",
      "model_name": "HTMLModel",
      "state": {
       "layout": "IPY_MODEL_6b690b25740442d4824241e558dcbe04",
       "style": "IPY_MODEL_71be6b69d8964b569e1e5bf295a9a305",
       "value": " 5/5 [00:03&lt;00:00,  1.88it/s]"
      }
     },
     "1fd22c932e9341da8ed2ae9364dd0c70": {
      "model_module": "@jupyter-widgets/base",
      "model_module_version": "1.2.0",
      "model_name": "LayoutModel",
      "state": {}
     },
     "20d021fb388e4871aef2c5d7943b20f6": {
      "model_module": "@jupyter-widgets/controls",
      "model_module_version": "1.5.0",
      "model_name": "HTMLModel",
      "state": {
       "layout": "IPY_MODEL_d9d24c64898d471ab9f6c56d1a2757ad",
       "style": "IPY_MODEL_ac68bd312e4c4c01a83d424824636504",
       "value": "Tst: 100%"
      }
     },
     "21ce42fe8f6f415e8fe8b94d370aec8a": {
      "model_module": "@jupyter-widgets/controls",
      "model_module_version": "1.5.0",
      "model_name": "FloatProgressModel",
      "state": {
       "bar_style": "info",
       "layout": "IPY_MODEL_a7296006144e44ac850415836c68c232",
       "max": 1,
       "style": "IPY_MODEL_f711fe0de841464280dea8e1a6118062"
      }
     },
     "221bcb8e6591474b8b5ad9f1f8c842f1": {
      "model_module": "@jupyter-widgets/controls",
      "model_module_version": "1.5.0",
      "model_name": "FloatProgressModel",
      "state": {
       "layout": "IPY_MODEL_3538372ddf56423696927619ddc5e014",
       "max": 10,
       "style": "IPY_MODEL_4c580406435643d5bd15209e5c5b1c67",
       "value": 10
      }
     },
     "23d8cc76520b4c2e984514d4e4c7b8cd": {
      "model_module": "@jupyter-widgets/controls",
      "model_module_version": "1.5.0",
      "model_name": "DescriptionStyleModel",
      "state": {
       "description_width": ""
      }
     },
     "23f347d7aa324a50b7b35cabddefe38b": {
      "model_module": "@jupyter-widgets/controls",
      "model_module_version": "1.5.0",
      "model_name": "ProgressStyleModel",
      "state": {
       "description_width": ""
      }
     },
     "24b2edba31df42f293e73e172e088c74": {
      "model_module": "@jupyter-widgets/base",
      "model_module_version": "1.2.0",
      "model_name": "LayoutModel",
      "state": {}
     },
     "270863f2047c42ec8ff39968008a181c": {
      "model_module": "@jupyter-widgets/base",
      "model_module_version": "1.2.0",
      "model_name": "LayoutModel",
      "state": {
       "display": "inline-flex",
       "flex_flow": "row wrap",
       "width": "100%"
      }
     },
     "2737a3fb40a24fa882bb021c8dd00205": {
      "model_module": "@jupyter-widgets/controls",
      "model_module_version": "1.5.0",
      "model_name": "HTMLModel",
      "state": {
       "layout": "IPY_MODEL_17cab28a2dc24f17b69c232016ed9a71",
       "style": "IPY_MODEL_2a8800eff6254d648526d1e7d144b932",
       "value": "Epoch 2: 100%"
      }
     },
     "285988b5e2764592a9de09666be408b8": {
      "model_module": "@jupyter-widgets/controls",
      "model_module_version": "1.5.0",
      "model_name": "ProgressStyleModel",
      "state": {
       "description_width": ""
      }
     },
     "2a8800eff6254d648526d1e7d144b932": {
      "model_module": "@jupyter-widgets/controls",
      "model_module_version": "1.5.0",
      "model_name": "DescriptionStyleModel",
      "state": {
       "description_width": ""
      }
     },
     "2c65496fef31405ea4e052666b824b61": {
      "model_module": "@jupyter-widgets/base",
      "model_module_version": "1.2.0",
      "model_name": "LayoutModel",
      "state": {
       "display": "inline-flex",
       "flex_flow": "row wrap",
       "width": "100%"
      }
     },
     "2e4e68dc956e44eab8d125ba22ec0142": {
      "model_module": "@jupyter-widgets/base",
      "model_module_version": "1.2.0",
      "model_name": "LayoutModel",
      "state": {}
     },
     "2e9a4b227f8840c9848dc903f347af76": {
      "model_module": "@jupyter-widgets/controls",
      "model_module_version": "1.5.0",
      "model_name": "HTMLModel",
      "state": {
       "layout": "IPY_MODEL_c8cc5cd93ca44cfdabec4240cd963ec3",
       "style": "IPY_MODEL_b47a5de98bd647b69e501249fb47f757",
       "value": "Tr/Val: : 10it [00:00, ?it/s]"
      }
     },
     "2f2ac7fd5e274fd6be10a3fe93ae97df": {
      "model_module": "@jupyter-widgets/controls",
      "model_module_version": "1.5.0",
      "model_name": "DescriptionStyleModel",
      "state": {
       "description_width": ""
      }
     },
     "30742484b7374f55abfe99786964b60c": {
      "model_module": "@jupyter-widgets/controls",
      "model_module_version": "1.5.0",
      "model_name": "HTMLModel",
      "state": {
       "layout": "IPY_MODEL_85c98dbaf696425ca836d0f6ff49685a",
       "style": "IPY_MODEL_046f62fb48d742c1ad3deddc49bee62e",
       "value": "Epoch 2: 100%"
      }
     },
     "3136a530d6fc409b8bb2432cbe54db46": {
      "model_module": "@jupyter-widgets/controls",
      "model_module_version": "1.5.0",
      "model_name": "HTMLModel",
      "state": {
       "layout": "IPY_MODEL_a6073606790948ceaa9a402427dd1f2f",
       "style": "IPY_MODEL_f9887c7dcb2248ae904ccb7d10487029",
       "value": " 10/10 [00:03&lt;00:00,  2.63it/s, loss=3.59, v_num=v7tq, train_acc_step=0.14, train_f1_step=0.14, train_prec_step=0.14, train_rec_step=0.14, train_loss_step=3.52]"
      }
     },
     "32293973d8794b2b8da32aa79f09a74a": {
      "model_module": "@jupyter-widgets/controls",
      "model_module_version": "1.5.0",
      "model_name": "HTMLModel",
      "state": {
       "layout": "IPY_MODEL_24b2edba31df42f293e73e172e088c74",
       "style": "IPY_MODEL_0370fdfeffef482aa3ae87dd2feaf398",
       "value": " 15/15 [00:07&lt;00:00,  2.07it/s, loss=3.6, v_num=v7tq, val_acc_epoch=0.014, val_f1_epoch=0.014, val_prec_epoch=0.014, val_rec_epoch=0.014, val_loss_epoch=3.68, train_acc_step=0.186, train_f1_step=0.186, train_prec_step=0.186, train_rec_step=0.186, train_loss_step=3.39, val_acc_step=0.0233, val_f1_step=0.0233, val_prec_step=0.0233, val_rec_step=0.0233, val_loss_step=3.61]"
      }
     },
     "32984db5623947408dc147e9cea04535": {
      "model_module": "@jupyter-widgets/base",
      "model_module_version": "1.2.0",
      "model_name": "LayoutModel",
      "state": {}
     },
     "334229b9ebc44cee85a2fe1a5e64877f": {
      "model_module": "@jupyter-widgets/base",
      "model_module_version": "1.2.0",
      "model_name": "LayoutModel",
      "state": {
       "display": "inline-flex",
       "flex_flow": "row wrap",
       "width": "100%"
      }
     },
     "3538372ddf56423696927619ddc5e014": {
      "model_module": "@jupyter-widgets/base",
      "model_module_version": "1.2.0",
      "model_name": "LayoutModel",
      "state": {
       "flex": "2"
      }
     },
     "35fcd1ad40734d958aec7c0b223221fd": {
      "model_module": "@jupyter-widgets/controls",
      "model_module_version": "1.5.0",
      "model_name": "FloatProgressModel",
      "state": {
       "bar_style": "info",
       "layout": "IPY_MODEL_b6ca7669073c4e508cc23757f0ab9189",
       "max": 1,
       "style": "IPY_MODEL_6ca991b92ecc4912a735a6a4989fcc23",
       "value": 1
      }
     },
     "3846d1018b89419b9a7b33b8603ed297": {
      "model_module": "@jupyter-widgets/controls",
      "model_module_version": "1.5.0",
      "model_name": "DescriptionStyleModel",
      "state": {
       "description_width": ""
      }
     },
     "3b5de4b2144e42e48dc284aee6457f24": {
      "model_module": "@jupyter-widgets/controls",
      "model_module_version": "1.5.0",
      "model_name": "HTMLModel",
      "state": {
       "layout": "IPY_MODEL_5635ccece4314c64a53fd56db7250c0e",
       "style": "IPY_MODEL_a05be89978f640bda460d29bfc6169bc",
       "value": "Val: 100%"
      }
     },
     "3e7b5cfadaf14ab891cb07d6c5c43d7d": {
      "model_module": "@jupyter-widgets/controls",
      "model_module_version": "1.5.0",
      "model_name": "DescriptionStyleModel",
      "state": {
       "description_width": ""
      }
     },
     "403bd0f360d843458f32a5a569bd11e4": {
      "model_module": "@jupyter-widgets/base",
      "model_module_version": "1.2.0",
      "model_name": "LayoutModel",
      "state": {}
     },
     "415074ead4514c4a9aa0f78192f9f6bd": {
      "model_module": "@jupyter-widgets/base",
      "model_module_version": "1.2.0",
      "model_name": "LayoutModel",
      "state": {
       "display": "inline-flex",
       "flex_flow": "row wrap",
       "width": "100%"
      }
     },
     "41c7ce1bda5b4e6c9619552c07bdb283": {
      "model_module": "@jupyter-widgets/base",
      "model_module_version": "1.2.0",
      "model_name": "LayoutModel",
      "state": {}
     },
     "460d7285bbaf4ec981a06bc9d8d254ed": {
      "model_module": "@jupyter-widgets/controls",
      "model_module_version": "1.5.0",
      "model_name": "DescriptionStyleModel",
      "state": {
       "description_width": ""
      }
     },
     "4aa542d8300a4b31a5bd6235c1a916da": {
      "model_module": "@jupyter-widgets/base",
      "model_module_version": "1.2.0",
      "model_name": "LayoutModel",
      "state": {
       "flex": "2"
      }
     },
     "4c580406435643d5bd15209e5c5b1c67": {
      "model_module": "@jupyter-widgets/controls",
      "model_module_version": "1.5.0",
      "model_name": "ProgressStyleModel",
      "state": {
       "description_width": ""
      }
     },
     "4d5e60df03a44a1498f0c2d7270fc354": {
      "model_module": "@jupyter-widgets/controls",
      "model_module_version": "1.5.0",
      "model_name": "FloatProgressModel",
      "state": {
       "bar_style": "info",
       "layout": "IPY_MODEL_f2ac327776334f4f8c04f34cba5df06c",
       "max": 1,
       "style": "IPY_MODEL_bdd98c619d414b2283815fe561f2f8e8",
       "value": 1
      }
     },
     "4d616edecf5947c58e9d234e26f2e009": {
      "model_module": "@jupyter-widgets/base",
      "model_module_version": "1.2.0",
      "model_name": "LayoutModel",
      "state": {
       "display": "inline-flex",
       "flex_flow": "row wrap",
       "width": "100%"
      }
     },
     "4e701c2a7e554f0eb7889ce2dabe3c67": {
      "model_module": "@jupyter-widgets/controls",
      "model_module_version": "1.5.0",
      "model_name": "HBoxModel",
      "state": {
       "children": [
        "IPY_MODEL_a0fb7fb6436344debf0dc8e5c15f1c74",
        "IPY_MODEL_21ce42fe8f6f415e8fe8b94d370aec8a",
        "IPY_MODEL_f7206452b22d4907aac0d79e1891d88c"
       ],
       "layout": "IPY_MODEL_415074ead4514c4a9aa0f78192f9f6bd"
      }
     },
     "4ee1d5f1c65c4e769b648552ab5e795b": {
      "model_module": "@jupyter-widgets/controls",
      "model_module_version": "1.5.0",
      "model_name": "DescriptionStyleModel",
      "state": {
       "description_width": ""
      }
     },
     "5062fdbdf4794aba97eb28a2e74f0bfe": {
      "model_module": "@jupyter-widgets/base",
      "model_module_version": "1.2.0",
      "model_name": "LayoutModel",
      "state": {
       "display": "inline-flex",
       "flex_flow": "row wrap",
       "width": "100%"
      }
     },
     "514552244ff14f8da32c34b14e6b7ad6": {
      "model_module": "@jupyter-widgets/base",
      "model_module_version": "1.2.0",
      "model_name": "LayoutModel",
      "state": {
       "flex": "2"
      }
     },
     "51aa2cb9ded8454b9116447e28592756": {
      "model_module": "@jupyter-widgets/base",
      "model_module_version": "1.2.0",
      "model_name": "LayoutModel",
      "state": {
       "flex": "2"
      }
     },
     "5635ccece4314c64a53fd56db7250c0e": {
      "model_module": "@jupyter-widgets/base",
      "model_module_version": "1.2.0",
      "model_name": "LayoutModel",
      "state": {}
     },
     "572793478a154b1aaaa9da90e00bbe55": {
      "model_module": "@jupyter-widgets/controls",
      "model_module_version": "1.5.0",
      "model_name": "DescriptionStyleModel",
      "state": {
       "description_width": ""
      }
     },
     "573d38b0bb3e473bbcf97da71f70a7da": {
      "model_module": "@jupyter-widgets/base",
      "model_module_version": "1.2.0",
      "model_name": "LayoutModel",
      "state": {
       "display": "inline-flex",
       "flex_flow": "row wrap",
       "width": "100%"
      }
     },
     "5ac1582ec8fb4fc5be624ece713fe8e9": {
      "model_module": "@jupyter-widgets/controls",
      "model_module_version": "1.5.0",
      "model_name": "FloatProgressModel",
      "state": {
       "layout": "IPY_MODEL_c3ec8fce7a04440eba59d4b11d94e23e",
       "max": 10,
       "style": "IPY_MODEL_a5e537538aea4e7086cf16b238542e81",
       "value": 10
      }
     },
     "5bab8dd5d5ed49a0bac39aef06ba31aa": {
      "model_module": "@jupyter-widgets/controls",
      "model_module_version": "1.5.0",
      "model_name": "DescriptionStyleModel",
      "state": {
       "description_width": ""
      }
     },
     "5c4ffd946d414d04bbcc10bc8be08d09": {
      "model_module": "@jupyter-widgets/controls",
      "model_module_version": "1.5.0",
      "model_name": "DescriptionStyleModel",
      "state": {
       "description_width": ""
      }
     },
     "5cbfc21408a94d98acd636c1435b424b": {
      "model_module": "@jupyter-widgets/base",
      "model_module_version": "1.2.0",
      "model_name": "LayoutModel",
      "state": {}
     },
     "5fc4640252e94ef7b382171ef0883b20": {
      "model_module": "@jupyter-widgets/controls",
      "model_module_version": "1.5.0",
      "model_name": "DescriptionStyleModel",
      "state": {
       "description_width": ""
      }
     },
     "5ffd25bffe4a4379aaea5f9edfc931bb": {
      "model_module": "@jupyter-widgets/base",
      "model_module_version": "1.2.0",
      "model_name": "LayoutModel",
      "state": {
       "flex": "2"
      }
     },
     "61851086f1f04d01ba7e1d7b137c8ad0": {
      "model_module": "@jupyter-widgets/controls",
      "model_module_version": "1.5.0",
      "model_name": "HTMLModel",
      "state": {
       "layout": "IPY_MODEL_5cbfc21408a94d98acd636c1435b424b",
       "style": "IPY_MODEL_572793478a154b1aaaa9da90e00bbe55",
       "value": " 10/10 [00:03&lt;?, ?it/s, loss=3.22, v_num=v7tq, train_acc_step=0.209, train_f1_step=0.209, train_prec_step=0.209, train_rec_step=0.209, train_loss_step=3.13, train_acc_epoch=0.162, train_f1_epoch=0.162, train_prec_epoch=0.162, train_rec_epoch=0.162, train_loss_epoch=3.32]"
      }
     },
     "62f2a625ff754542b6c01bb2fce68509": {
      "model_module": "@jupyter-widgets/controls",
      "model_module_version": "1.5.0",
      "model_name": "DescriptionStyleModel",
      "state": {
       "description_width": ""
      }
     },
     "650d5ee3896c41168f0e68d901c4154b": {
      "model_module": "@jupyter-widgets/controls",
      "model_module_version": "1.5.0",
      "model_name": "ProgressStyleModel",
      "state": {
       "description_width": ""
      }
     },
     "65e24a5ae4f349a397840d6362fa4b54": {
      "model_module": "@jupyter-widgets/controls",
      "model_module_version": "1.5.0",
      "model_name": "FloatProgressModel",
      "state": {
       "bar_style": "info",
       "layout": "IPY_MODEL_51aa2cb9ded8454b9116447e28592756",
       "max": 1,
       "style": "IPY_MODEL_0e39d67d57a040e384d3be3aa65d8f21",
       "value": 1
      }
     },
     "664109caea6345eca7d5968cc127d9c6": {
      "model_module": "@jupyter-widgets/base",
      "model_module_version": "1.2.0",
      "model_name": "LayoutModel",
      "state": {}
     },
     "6827812bae7e4e5491a9f32bf2ff5312": {
      "model_module": "@jupyter-widgets/controls",
      "model_module_version": "1.5.0",
      "model_name": "ProgressStyleModel",
      "state": {
       "description_width": ""
      }
     },
     "6add8e03c6414d0d867b7aad53c228ea": {
      "model_module": "@jupyter-widgets/controls",
      "model_module_version": "1.5.0",
      "model_name": "HTMLModel",
      "state": {
       "layout": "IPY_MODEL_c8ca6aae06914b74a2f64ce654c74bc8",
       "style": "IPY_MODEL_5bab8dd5d5ed49a0bac39aef06ba31aa",
       "value": "Epoch 0: 100%"
      }
     },
     "6b690b25740442d4824241e558dcbe04": {
      "model_module": "@jupyter-widgets/base",
      "model_module_version": "1.2.0",
      "model_name": "LayoutModel",
      "state": {}
     },
     "6ca991b92ecc4912a735a6a4989fcc23": {
      "model_module": "@jupyter-widgets/controls",
      "model_module_version": "1.5.0",
      "model_name": "ProgressStyleModel",
      "state": {
       "description_width": ""
      }
     },
     "6e2a6f4e33ea4153bbd778265913e724": {
      "model_module": "@jupyter-widgets/base",
      "model_module_version": "1.2.0",
      "model_name": "LayoutModel",
      "state": {}
     },
     "714009392fed49f3961b63a393dba781": {
      "model_module": "@jupyter-widgets/controls",
      "model_module_version": "1.5.0",
      "model_name": "HTMLModel",
      "state": {
       "layout": "IPY_MODEL_9f0caaf7f2064949980149905e3813f4",
       "style": "IPY_MODEL_a9fa52005ba3474cb62f7257440a41f3",
       "value": " 10/10 [00:03&lt;?, ?it/s, loss=3.45, v_num=v7tq, train_acc_step=0.116, train_f1_step=0.116, train_prec_step=0.116, train_rec_step=0.116, train_loss_step=3.26, train_acc_epoch=0.0814, train_f1_epoch=0.0814, train_prec_epoch=0.0814, train_rec_epoch=0.0814, train_loss_epoch=3.59]"
      }
     },
     "71be6b69d8964b569e1e5bf295a9a305": {
      "model_module": "@jupyter-widgets/controls",
      "model_module_version": "1.5.0",
      "model_name": "DescriptionStyleModel",
      "state": {
       "description_width": ""
      }
     },
     "71cdfa3be5214e35a42fa32d730ee413": {
      "model_module": "@jupyter-widgets/controls",
      "model_module_version": "1.5.0",
      "model_name": "DescriptionStyleModel",
      "state": {
       "description_width": ""
      }
     },
     "721fe0279a154ada828d13ff38851448": {
      "model_module": "@jupyter-widgets/controls",
      "model_module_version": "1.5.0",
      "model_name": "HTMLModel",
      "state": {
       "layout": "IPY_MODEL_075dafc9a77a451fb3c32925a7bfea4c",
       "style": "IPY_MODEL_c3e500e72bfc45559972da8d6b971549",
       "value": " 2/2 [00:02&lt;00:00,  1.25s/it]"
      }
     },
     "72dfb75e4a804ff59e1771188dde992b": {
      "model_module": "@jupyter-widgets/controls",
      "model_module_version": "1.5.0",
      "model_name": "HTMLModel",
      "state": {
       "layout": "IPY_MODEL_32984db5623947408dc147e9cea04535",
       "style": "IPY_MODEL_c1b307e082eb455c9ee7388cc1ab3ca3",
       "value": " 10/10 [00:03&lt;?, ?it/s, loss=3.22, v_num=v7tq, train_acc_step=0.209, train_f1_step=0.209, train_prec_step=0.209, train_rec_step=0.209, train_loss_step=3.13, train_acc_epoch=0.162, train_f1_epoch=0.162, train_prec_epoch=0.162, train_rec_epoch=0.162, train_loss_epoch=3.32]"
      }
     },
     "75813b103fb742beadea7e6b64d97543": {
      "model_module": "@jupyter-widgets/base",
      "model_module_version": "1.2.0",
      "model_name": "LayoutModel",
      "state": {
       "flex": "2"
      }
     },
     "7686259785f84146ad8c54cfae174211": {
      "model_module": "@jupyter-widgets/base",
      "model_module_version": "1.2.0",
      "model_name": "LayoutModel",
      "state": {}
     },
     "76df6f8284f4470ea898e8d0b560c0b8": {
      "model_module": "@jupyter-widgets/base",
      "model_module_version": "1.2.0",
      "model_name": "LayoutModel",
      "state": {}
     },
     "79bf1754e5334b839eafeb90a1168762": {
      "model_module": "@jupyter-widgets/controls",
      "model_module_version": "1.5.0",
      "model_name": "DescriptionStyleModel",
      "state": {
       "description_width": ""
      }
     },
     "7c7ef9b1c9db42eb959404d2f1f874d0": {
      "model_module": "@jupyter-widgets/controls",
      "model_module_version": "1.5.0",
      "model_name": "FloatProgressModel",
      "state": {
       "bar_style": "info",
       "layout": "IPY_MODEL_75813b103fb742beadea7e6b64d97543",
       "max": 1,
       "style": "IPY_MODEL_6827812bae7e4e5491a9f32bf2ff5312",
       "value": 1
      }
     },
     "7c856513757544559a2f1c5ca0c09c4d": {
      "model_module": "@jupyter-widgets/controls",
      "model_module_version": "1.5.0",
      "model_name": "FloatProgressModel",
      "state": {
       "bar_style": "info",
       "layout": "IPY_MODEL_f98eae17c96e42289a46f5dc7842f2de",
       "max": 1,
       "style": "IPY_MODEL_285988b5e2764592a9de09666be408b8"
      }
     },
     "7dbc05540f7c49839fb8dfc598b22d47": {
      "model_module": "@jupyter-widgets/base",
      "model_module_version": "1.2.0",
      "model_name": "LayoutModel",
      "state": {}
     },
     "7de0f6d61b7c4b9f9eb4422b9e014f60": {
      "model_module": "@jupyter-widgets/base",
      "model_module_version": "1.2.0",
      "model_name": "LayoutModel",
      "state": {}
     },
     "7ff0f11868484be98a26010a1679724e": {
      "model_module": "@jupyter-widgets/base",
      "model_module_version": "1.2.0",
      "model_name": "LayoutModel",
      "state": {
       "display": "inline-flex",
       "flex_flow": "row wrap",
       "width": "100%"
      }
     },
     "8187344b9dae40df9a5a3a8217af3f82": {
      "model_module": "@jupyter-widgets/base",
      "model_module_version": "1.2.0",
      "model_name": "LayoutModel",
      "state": {}
     },
     "81fc9789207a4ebbaedf3d6ece4a2927": {
      "model_module": "@jupyter-widgets/base",
      "model_module_version": "1.2.0",
      "model_name": "LayoutModel",
      "state": {
       "display": "inline-flex",
       "flex_flow": "row wrap",
       "width": "100%"
      }
     },
     "849483b5349146a4a698688c4c29e1b8": {
      "model_module": "@jupyter-widgets/base",
      "model_module_version": "1.2.0",
      "model_name": "LayoutModel",
      "state": {}
     },
     "84d37cf6ef7d405a8f8b4f5b36375b73": {
      "model_module": "@jupyter-widgets/controls",
      "model_module_version": "1.5.0",
      "model_name": "DescriptionStyleModel",
      "state": {
       "description_width": ""
      }
     },
     "85c98dbaf696425ca836d0f6ff49685a": {
      "model_module": "@jupyter-widgets/base",
      "model_module_version": "1.2.0",
      "model_name": "LayoutModel",
      "state": {}
     },
     "865f3d0a8ba04bed93936f122bd5cb9d": {
      "model_module": "@jupyter-widgets/controls",
      "model_module_version": "1.5.0",
      "model_name": "HTMLModel",
      "state": {
       "layout": "IPY_MODEL_f2e8288990c74108a20532fe082f423f",
       "style": "IPY_MODEL_c9d6a05a0b274002b17f58b32ea29dbf",
       "value": "Epoch 1: 100%"
      }
     },
     "87216dc098224bd295eafb04a9716ef8": {
      "model_module": "@jupyter-widgets/base",
      "model_module_version": "1.2.0",
      "model_name": "LayoutModel",
      "state": {}
     },
     "879ed165db664f2eb8fe9a95bb175942": {
      "model_module": "@jupyter-widgets/base",
      "model_module_version": "1.2.0",
      "model_name": "LayoutModel",
      "state": {}
     },
     "87cfca9abdef499fad2751dbeb19cb80": {
      "model_module": "@jupyter-widgets/controls",
      "model_module_version": "1.5.0",
      "model_name": "HTMLModel",
      "state": {
       "layout": "IPY_MODEL_fef86f6a5ee5482e92f8e9edf83537f2",
       "style": "IPY_MODEL_02ac10f26cd74ec9bb3ee725fcb486a1"
      }
     },
     "8a49893bf406446eb06e370c09a160fb": {
      "model_module": "@jupyter-widgets/base",
      "model_module_version": "1.2.0",
      "model_name": "LayoutModel",
      "state": {
       "display": "inline-flex",
       "flex_flow": "row wrap",
       "width": "100%"
      }
     },
     "8aa8e02281c74d82a942171628f28a2e": {
      "model_module": "@jupyter-widgets/controls",
      "model_module_version": "1.5.0",
      "model_name": "HTMLModel",
      "state": {
       "layout": "IPY_MODEL_76df6f8284f4470ea898e8d0b560c0b8",
       "style": "IPY_MODEL_23d8cc76520b4c2e984514d4e4c7b8cd",
       "value": " 5/5 [00:03&lt;00:00,  1.77it/s]"
      }
     },
     "8e04978ce614430dad95508bfbe3c058": {
      "model_module": "@jupyter-widgets/controls",
      "model_module_version": "1.5.0",
      "model_name": "ProgressStyleModel",
      "state": {
       "description_width": ""
      }
     },
     "8e7766f161db4bd69d46ae20f35a07ac": {
      "model_module": "@jupyter-widgets/base",
      "model_module_version": "1.2.0",
      "model_name": "LayoutModel",
      "state": {}
     },
     "8f2e037c7aa14ddcb05b0fef67b24741": {
      "model_module": "@jupyter-widgets/controls",
      "model_module_version": "1.5.0",
      "model_name": "FloatProgressModel",
      "state": {
       "layout": "IPY_MODEL_5ffd25bffe4a4379aaea5f9edfc931bb",
       "max": 15,
       "style": "IPY_MODEL_9373cc22cacc410887cfbf39c7374315",
       "value": 15
      }
     },
     "8f8a3dd369274a72bfdd9d37dd83dff0": {
      "model_module": "@jupyter-widgets/controls",
      "model_module_version": "1.5.0",
      "model_name": "DescriptionStyleModel",
      "state": {
       "description_width": ""
      }
     },
     "8fd60b9adfd24a65b39497b1359eabd3": {
      "model_module": "@jupyter-widgets/base",
      "model_module_version": "1.2.0",
      "model_name": "LayoutModel",
      "state": {}
     },
     "9373cc22cacc410887cfbf39c7374315": {
      "model_module": "@jupyter-widgets/controls",
      "model_module_version": "1.5.0",
      "model_name": "ProgressStyleModel",
      "state": {
       "description_width": ""
      }
     },
     "9a7e6f3ddb7642129384f24499d44edb": {
      "model_module": "@jupyter-widgets/controls",
      "model_module_version": "1.5.0",
      "model_name": "DescriptionStyleModel",
      "state": {
       "description_width": ""
      }
     },
     "9bfccdca4a0440cfa6808b96a5cc4ae3": {
      "model_module": "@jupyter-widgets/controls",
      "model_module_version": "1.5.0",
      "model_name": "HTMLModel",
      "state": {
       "layout": "IPY_MODEL_c931b9ae654e45afb153a6118380d357",
       "style": "IPY_MODEL_460d7285bbaf4ec981a06bc9d8d254ed",
       "value": "Val: 100%"
      }
     },
     "9cc2e4317247482b84031e9b499f6f4d": {
      "model_module": "@jupyter-widgets/base",
      "model_module_version": "1.2.0",
      "model_name": "LayoutModel",
      "state": {
       "display": "inline-flex",
       "flex_flow": "row wrap",
       "width": "100%"
      }
     },
     "9d6b2917a8a04e6bb0fcbd8060551e2d": {
      "model_module": "@jupyter-widgets/controls",
      "model_module_version": "1.5.0",
      "model_name": "DescriptionStyleModel",
      "state": {
       "description_width": ""
      }
     },
     "9eee7085ccf744829d3200f9033ac313": {
      "model_module": "@jupyter-widgets/controls",
      "model_module_version": "1.5.0",
      "model_name": "HTMLModel",
      "state": {
       "layout": "IPY_MODEL_8e7766f161db4bd69d46ae20f35a07ac",
       "style": "IPY_MODEL_9a7e6f3ddb7642129384f24499d44edb"
      }
     },
     "9f0caaf7f2064949980149905e3813f4": {
      "model_module": "@jupyter-widgets/base",
      "model_module_version": "1.2.0",
      "model_name": "LayoutModel",
      "state": {}
     },
     "9f3441f06c494c14b5ff7f6ecbe2b95e": {
      "model_module": "@jupyter-widgets/controls",
      "model_module_version": "1.5.0",
      "model_name": "HTMLModel",
      "state": {
       "layout": "IPY_MODEL_849483b5349146a4a698688c4c29e1b8",
       "style": "IPY_MODEL_cbf1dabcfed44f4db910dac8d47c8784",
       "value": "Reval: 100%"
      }
     },
     "a05be89978f640bda460d29bfc6169bc": {
      "model_module": "@jupyter-widgets/controls",
      "model_module_version": "1.5.0",
      "model_name": "DescriptionStyleModel",
      "state": {
       "description_width": ""
      }
     },
     "a08ab74ad7a549f496f6068e3952b851": {
      "model_module": "@jupyter-widgets/controls",
      "model_module_version": "1.5.0",
      "model_name": "FloatProgressModel",
      "state": {
       "layout": "IPY_MODEL_f1030a28c01441a4bd1b4019dc666fd8",
       "max": 10,
       "style": "IPY_MODEL_650d5ee3896c41168f0e68d901c4154b",
       "value": 10
      }
     },
     "a0fb7fb6436344debf0dc8e5c15f1c74": {
      "model_module": "@jupyter-widgets/controls",
      "model_module_version": "1.5.0",
      "model_name": "HTMLModel",
      "state": {
       "layout": "IPY_MODEL_87216dc098224bd295eafb04a9716ef8",
       "style": "IPY_MODEL_62f2a625ff754542b6c01bb2fce68509"
      }
     },
     "a1155f7421264da1a2b50fdff215bebe": {
      "model_module": "@jupyter-widgets/controls",
      "model_module_version": "1.5.0",
      "model_name": "HTMLModel",
      "state": {
       "layout": "IPY_MODEL_7dbc05540f7c49839fb8dfc598b22d47",
       "style": "IPY_MODEL_84d37cf6ef7d405a8f8b4f5b36375b73",
       "value": "Epoch 1: 100%"
      }
     },
     "a16d47e9487f412cbd8e01da38068363": {
      "model_module": "@jupyter-widgets/controls",
      "model_module_version": "1.5.0",
      "model_name": "ProgressStyleModel",
      "state": {
       "description_width": ""
      }
     },
     "a25b1c2ea0c741348b365af4e94a57ec": {
      "model_module": "@jupyter-widgets/controls",
      "model_module_version": "1.5.0",
      "model_name": "FloatProgressModel",
      "state": {
       "bar_style": "info",
       "layout": "IPY_MODEL_d92d4fd381f745ada2b8d05a95abaddf",
       "max": 1,
       "style": "IPY_MODEL_a16d47e9487f412cbd8e01da38068363",
       "value": 1
      }
     },
     "a2a7b21811f94d429b79378d1c4e0fb0": {
      "model_module": "@jupyter-widgets/controls",
      "model_module_version": "1.5.0",
      "model_name": "FloatProgressModel",
      "state": {
       "bar_style": "info",
       "layout": "IPY_MODEL_c2736b48149440658def97d99d67d875",
       "max": 1,
       "style": "IPY_MODEL_23f347d7aa324a50b7b35cabddefe38b",
       "value": 1
      }
     },
     "a3fa57a9ff584e8e93b06eba7b3deda0": {
      "model_module": "@jupyter-widgets/controls",
      "model_module_version": "1.5.0",
      "model_name": "DescriptionStyleModel",
      "state": {
       "description_width": ""
      }
     },
     "a5e537538aea4e7086cf16b238542e81": {
      "model_module": "@jupyter-widgets/controls",
      "model_module_version": "1.5.0",
      "model_name": "ProgressStyleModel",
      "state": {
       "description_width": ""
      }
     },
     "a6073606790948ceaa9a402427dd1f2f": {
      "model_module": "@jupyter-widgets/base",
      "model_module_version": "1.2.0",
      "model_name": "LayoutModel",
      "state": {}
     },
     "a6de7beb99d1476ba8d3aa08d3466a48": {
      "model_module": "@jupyter-widgets/controls",
      "model_module_version": "1.5.0",
      "model_name": "FloatProgressModel",
      "state": {
       "layout": "IPY_MODEL_1cb70dbf749241f49f6a814a8e9cdba5",
       "max": 10,
       "style": "IPY_MODEL_b3b2c69e88074024a9f00bd0b4cce435",
       "value": 10
      }
     },
     "a7296006144e44ac850415836c68c232": {
      "model_module": "@jupyter-widgets/base",
      "model_module_version": "1.2.0",
      "model_name": "LayoutModel",
      "state": {
       "flex": "2"
      }
     },
     "a8fcee8e563c48b1945ad6d11b820f93": {
      "model_module": "@jupyter-widgets/controls",
      "model_module_version": "1.5.0",
      "model_name": "ProgressStyleModel",
      "state": {
       "description_width": ""
      }
     },
     "a9fa52005ba3474cb62f7257440a41f3": {
      "model_module": "@jupyter-widgets/controls",
      "model_module_version": "1.5.0",
      "model_name": "DescriptionStyleModel",
      "state": {
       "description_width": ""
      }
     },
     "ab2a0f9133c747029ff725e2c79eeef6": {
      "model_module": "@jupyter-widgets/controls",
      "model_module_version": "1.5.0",
      "model_name": "HTMLModel",
      "state": {
       "layout": "IPY_MODEL_6e2a6f4e33ea4153bbd778265913e724",
       "style": "IPY_MODEL_9d6b2917a8a04e6bb0fcbd8060551e2d"
      }
     },
     "ac4b180e88e04325a5ded86b62d0a591": {
      "model_module": "@jupyter-widgets/base",
      "model_module_version": "1.2.0",
      "model_name": "LayoutModel",
      "state": {}
     },
     "ac68bd312e4c4c01a83d424824636504": {
      "model_module": "@jupyter-widgets/controls",
      "model_module_version": "1.5.0",
      "model_name": "DescriptionStyleModel",
      "state": {
       "description_width": ""
      }
     },
     "b00291af62084ffea2d03eaf8583a67a": {
      "model_module": "@jupyter-widgets/controls",
      "model_module_version": "1.5.0",
      "model_name": "HTMLModel",
      "state": {
       "layout": "IPY_MODEL_b7caf67f966648db91aa9ff29f20a2c2",
       "style": "IPY_MODEL_ff0689c195a046fc81243e74b16e1d32",
       "value": " 5/5 [00:02&lt;00:00,  2.20it/s]"
      }
     },
     "b08f3a294a2a4dd7b11ad93a2f9b1870": {
      "model_module": "@jupyter-widgets/controls",
      "model_module_version": "1.5.0",
      "model_name": "HTMLModel",
      "state": {
       "layout": "IPY_MODEL_664109caea6345eca7d5968cc127d9c6",
       "style": "IPY_MODEL_b832daed2b1140c891f1ffa838683ee0",
       "value": "Tr/Val: : 10it [00:01, ?it/s]"
      }
     },
     "b16e9c231d6f4f89a80f239a1a1b2452": {
      "model_module": "@jupyter-widgets/controls",
      "model_module_version": "1.5.0",
      "model_name": "HBoxModel",
      "state": {
       "children": [
        "IPY_MODEL_ab2a0f9133c747029ff725e2c79eeef6",
        "IPY_MODEL_7c856513757544559a2f1c5ca0c09c4d",
        "IPY_MODEL_1095a737245b412394b7e75c7bc96c16"
       ],
       "layout": "IPY_MODEL_573d38b0bb3e473bbcf97da71f70a7da"
      }
     },
     "b3b2c69e88074024a9f00bd0b4cce435": {
      "model_module": "@jupyter-widgets/controls",
      "model_module_version": "1.5.0",
      "model_name": "ProgressStyleModel",
      "state": {
       "description_width": ""
      }
     },
     "b47a5de98bd647b69e501249fb47f757": {
      "model_module": "@jupyter-widgets/controls",
      "model_module_version": "1.5.0",
      "model_name": "DescriptionStyleModel",
      "state": {
       "description_width": ""
      }
     },
     "b506c1b3e3cc4fbeaeebd89a31c9d56a": {
      "model_module": "@jupyter-widgets/controls",
      "model_module_version": "1.5.0",
      "model_name": "HTMLModel",
      "state": {
       "layout": "IPY_MODEL_e463752edde94176909fccc98dba30b1",
       "style": "IPY_MODEL_2f2ac7fd5e274fd6be10a3fe93ae97df",
       "value": " 5/5 [00:03&lt;00:00,  1.83it/s]"
      }
     },
     "b6ca7669073c4e508cc23757f0ab9189": {
      "model_module": "@jupyter-widgets/base",
      "model_module_version": "1.2.0",
      "model_name": "LayoutModel",
      "state": {
       "flex": "2"
      }
     },
     "b76c106c1c5745a2891d67d82a6e7443": {
      "model_module": "@jupyter-widgets/controls",
      "model_module_version": "1.5.0",
      "model_name": "FloatProgressModel",
      "state": {
       "bar_style": "info",
       "layout": "IPY_MODEL_4aa542d8300a4b31a5bd6235c1a916da",
       "max": 1,
       "style": "IPY_MODEL_0bd05759393041bdaaf5d66ee126676d",
       "value": 1
      }
     },
     "b7caf67f966648db91aa9ff29f20a2c2": {
      "model_module": "@jupyter-widgets/base",
      "model_module_version": "1.2.0",
      "model_name": "LayoutModel",
      "state": {}
     },
     "b832daed2b1140c891f1ffa838683ee0": {
      "model_module": "@jupyter-widgets/controls",
      "model_module_version": "1.5.0",
      "model_name": "DescriptionStyleModel",
      "state": {
       "description_width": ""
      }
     },
     "b8c70801364f403399791ffd302c508d": {
      "model_module": "@jupyter-widgets/controls",
      "model_module_version": "1.5.0",
      "model_name": "DescriptionStyleModel",
      "state": {
       "description_width": ""
      }
     },
     "b949e82c17f84d9aae5adaaf25446760": {
      "model_module": "@jupyter-widgets/controls",
      "model_module_version": "1.5.0",
      "model_name": "ProgressStyleModel",
      "state": {
       "description_width": ""
      }
     },
     "bc258f73001d443197f2c9ecf3f528ec": {
      "model_module": "@jupyter-widgets/base",
      "model_module_version": "1.2.0",
      "model_name": "LayoutModel",
      "state": {
       "flex": "2"
      }
     },
     "bc28181aae684554bcc256a35404be89": {
      "model_module": "@jupyter-widgets/base",
      "model_module_version": "1.2.0",
      "model_name": "LayoutModel",
      "state": {
       "flex": "2"
      }
     },
     "bd57ce67ddca40bd8a85cdb08ebafea5": {
      "model_module": "@jupyter-widgets/controls",
      "model_module_version": "1.5.0",
      "model_name": "HTMLModel",
      "state": {
       "layout": "IPY_MODEL_8187344b9dae40df9a5a3a8217af3f82",
       "style": "IPY_MODEL_ea4781940a3b41f4929427e26f8a4892",
       "value": "Tr/Val: : 10it [00:01, ?it/s]"
      }
     },
     "bdd98c619d414b2283815fe561f2f8e8": {
      "model_module": "@jupyter-widgets/controls",
      "model_module_version": "1.5.0",
      "model_name": "ProgressStyleModel",
      "state": {
       "description_width": ""
      }
     },
     "be5127d950b941f7a1c6ec75442caddd": {
      "model_module": "@jupyter-widgets/base",
      "model_module_version": "1.2.0",
      "model_name": "LayoutModel",
      "state": {
       "display": "inline-flex",
       "flex_flow": "row wrap",
       "width": "100%"
      }
     },
     "bf7dd442f486488b8cde4c09b279837e": {
      "model_module": "@jupyter-widgets/controls",
      "model_module_version": "1.5.0",
      "model_name": "DescriptionStyleModel",
      "state": {
       "description_width": ""
      }
     },
     "c1b307e082eb455c9ee7388cc1ab3ca3": {
      "model_module": "@jupyter-widgets/controls",
      "model_module_version": "1.5.0",
      "model_name": "DescriptionStyleModel",
      "state": {
       "description_width": ""
      }
     },
     "c2736b48149440658def97d99d67d875": {
      "model_module": "@jupyter-widgets/base",
      "model_module_version": "1.2.0",
      "model_name": "LayoutModel",
      "state": {
       "flex": "2"
      }
     },
     "c3e500e72bfc45559972da8d6b971549": {
      "model_module": "@jupyter-widgets/controls",
      "model_module_version": "1.5.0",
      "model_name": "DescriptionStyleModel",
      "state": {
       "description_width": ""
      }
     },
     "c3ec8fce7a04440eba59d4b11d94e23e": {
      "model_module": "@jupyter-widgets/base",
      "model_module_version": "1.2.0",
      "model_name": "LayoutModel",
      "state": {
       "flex": "2"
      }
     },
     "c4b8b7007c194b7fb198f267f903d948": {
      "model_module": "@jupyter-widgets/controls",
      "model_module_version": "1.5.0",
      "model_name": "DescriptionStyleModel",
      "state": {
       "description_width": ""
      }
     },
     "c5268c9c622a400bbcf9b3a41fb43fdd": {
      "model_module": "@jupyter-widgets/base",
      "model_module_version": "1.2.0",
      "model_name": "LayoutModel",
      "state": {}
     },
     "c5cbfbb42b2443b6973265ee6b24dcd8": {
      "model_module": "@jupyter-widgets/base",
      "model_module_version": "1.2.0",
      "model_name": "LayoutModel",
      "state": {
       "display": "inline-flex",
       "flex_flow": "row wrap",
       "width": "100%"
      }
     },
     "c5ff9865d1834ad7ab606685bba82d4d": {
      "model_module": "@jupyter-widgets/controls",
      "model_module_version": "1.5.0",
      "model_name": "HTMLModel",
      "state": {
       "layout": "IPY_MODEL_7de0f6d61b7c4b9f9eb4422b9e014f60",
       "style": "IPY_MODEL_03d3c550d45147dbae593b55e4c379da",
       "value": "Epoch 1: 100%"
      }
     },
     "c8ca6aae06914b74a2f64ce654c74bc8": {
      "model_module": "@jupyter-widgets/base",
      "model_module_version": "1.2.0",
      "model_name": "LayoutModel",
      "state": {}
     },
     "c8cc5cd93ca44cfdabec4240cd963ec3": {
      "model_module": "@jupyter-widgets/base",
      "model_module_version": "1.2.0",
      "model_name": "LayoutModel",
      "state": {}
     },
     "c931b9ae654e45afb153a6118380d357": {
      "model_module": "@jupyter-widgets/base",
      "model_module_version": "1.2.0",
      "model_name": "LayoutModel",
      "state": {}
     },
     "c9d6a05a0b274002b17f58b32ea29dbf": {
      "model_module": "@jupyter-widgets/controls",
      "model_module_version": "1.5.0",
      "model_name": "DescriptionStyleModel",
      "state": {
       "description_width": ""
      }
     },
     "ca2335ea9bc54a5e9d042681de6978a7": {
      "model_module": "@jupyter-widgets/controls",
      "model_module_version": "1.5.0",
      "model_name": "HTMLModel",
      "state": {
       "layout": "IPY_MODEL_cdb4bcb9cedc4f7f8f21009ca8e2b59a",
       "style": "IPY_MODEL_3846d1018b89419b9a7b33b8603ed297",
       "value": "Val: 100%"
      }
     },
     "cb91db85ba564b0797b36bbd232488b9": {
      "model_module": "@jupyter-widgets/base",
      "model_module_version": "1.2.0",
      "model_name": "LayoutModel",
      "state": {}
     },
     "cbf1dabcfed44f4db910dac8d47c8784": {
      "model_module": "@jupyter-widgets/controls",
      "model_module_version": "1.5.0",
      "model_name": "DescriptionStyleModel",
      "state": {
       "description_width": ""
      }
     },
     "cd22da59be4f47dda73a177dca0b2bc6": {
      "model_module": "@jupyter-widgets/controls",
      "model_module_version": "1.5.0",
      "model_name": "ProgressStyleModel",
      "state": {
       "description_width": ""
      }
     },
     "cdb4bcb9cedc4f7f8f21009ca8e2b59a": {
      "model_module": "@jupyter-widgets/base",
      "model_module_version": "1.2.0",
      "model_name": "LayoutModel",
      "state": {}
     },
     "ce25b6082a254a4aa5c8dc11812bf79b": {
      "model_module": "@jupyter-widgets/base",
      "model_module_version": "1.2.0",
      "model_name": "LayoutModel",
      "state": {
       "display": "inline-flex",
       "flex_flow": "row wrap",
       "width": "100%"
      }
     },
     "d0ad241a62b4412fb297e58c81d96348": {
      "model_module": "@jupyter-widgets/base",
      "model_module_version": "1.2.0",
      "model_name": "LayoutModel",
      "state": {
       "flex": "2"
      }
     },
     "d1c06e5a614c4fe7a8161dc26a7ba349": {
      "model_module": "@jupyter-widgets/controls",
      "model_module_version": "1.5.0",
      "model_name": "FloatProgressModel",
      "state": {
       "bar_style": "info",
       "layout": "IPY_MODEL_bc28181aae684554bcc256a35404be89",
       "max": 1,
       "style": "IPY_MODEL_8e04978ce614430dad95508bfbe3c058",
       "value": 1
      }
     },
     "d59748129b534f118ec183a977c3182f": {
      "model_module": "@jupyter-widgets/controls",
      "model_module_version": "1.5.0",
      "model_name": "HTMLModel",
      "state": {
       "layout": "IPY_MODEL_c5268c9c622a400bbcf9b3a41fb43fdd",
       "style": "IPY_MODEL_5c4ffd946d414d04bbcc10bc8be08d09"
      }
     },
     "d5ed3d9eba81420089f56893e3956c16": {
      "model_module": "@jupyter-widgets/controls",
      "model_module_version": "1.5.0",
      "model_name": "ProgressStyleModel",
      "state": {
       "description_width": ""
      }
     },
     "d65d2fd0916e41919625e6b6706fa3e9": {
      "model_module": "@jupyter-widgets/base",
      "model_module_version": "1.2.0",
      "model_name": "LayoutModel",
      "state": {
       "display": "inline-flex",
       "flex_flow": "row wrap",
       "width": "100%"
      }
     },
     "d92d4fd381f745ada2b8d05a95abaddf": {
      "model_module": "@jupyter-widgets/base",
      "model_module_version": "1.2.0",
      "model_name": "LayoutModel",
      "state": {
       "flex": "2"
      }
     },
     "d9d24c64898d471ab9f6c56d1a2757ad": {
      "model_module": "@jupyter-widgets/base",
      "model_module_version": "1.2.0",
      "model_name": "LayoutModel",
      "state": {}
     },
     "db28744bb31b40449e3ce9331fcb47cf": {
      "model_module": "@jupyter-widgets/controls",
      "model_module_version": "1.5.0",
      "model_name": "VBoxModel",
      "state": {
       "children": [
        "IPY_MODEL_e27127e3350e415cbffcc67604dba340",
        "IPY_MODEL_eda40cbed54842698eedad1b493b1294"
       ],
       "layout": "IPY_MODEL_1fd22c932e9341da8ed2ae9364dd0c70"
      }
     },
     "dd65d7adb37c4c918987c4de9525cb0c": {
      "model_module": "@jupyter-widgets/base",
      "model_module_version": "1.2.0",
      "model_name": "LayoutModel",
      "state": {
       "display": "inline-flex",
       "flex_flow": "row wrap",
       "width": "100%"
      }
     },
     "dda9f137b5114747a03ee5bb5c223950": {
      "model_module": "@jupyter-widgets/controls",
      "model_module_version": "1.5.0",
      "model_name": "HTMLModel",
      "state": {
       "layout": "IPY_MODEL_ddc3737c2f9642e09e1d9bc9a15cb8aa",
       "style": "IPY_MODEL_79bf1754e5334b839eafeb90a1168762",
       "value": " 15/15 [00:07&lt;00:00,  1.41s/it, loss=3.47, v_num=v7tq, val_acc_epoch=0.0279, val_f1_epoch=0.0279, val_prec_epoch=0.0279, val_rec_epoch=0.0279, val_loss_epoch=3.57, train_acc_step=0.221, train_f1_step=0.221, train_prec_step=0.221, train_rec_step=0.221, train_loss_step=3.34, val_acc_step=0.0698, val_f1_step=0.0698, val_prec_step=0.0698, val_rec_step=0.0698, val_loss_step=3.31, train_acc_epoch=0.0942, train_f1_epoch=0.0942, train_prec_epoch=0.0942, train_rec_epoch=0.0942, train_loss_epoch=3.6]"
      }
     },
     "ddc3737c2f9642e09e1d9bc9a15cb8aa": {
      "model_module": "@jupyter-widgets/base",
      "model_module_version": "1.2.0",
      "model_name": "LayoutModel",
      "state": {}
     },
     "e12a1275bd9749d4a1e0cb64f4be2567": {
      "model_module": "@jupyter-widgets/base",
      "model_module_version": "1.2.0",
      "model_name": "LayoutModel",
      "state": {
       "display": "inline-flex",
       "flex_flow": "row wrap",
       "width": "100%"
      }
     },
     "e27127e3350e415cbffcc67604dba340": {
      "model_module": "@jupyter-widgets/controls",
      "model_module_version": "1.5.0",
      "model_name": "LabelModel",
      "state": {
       "layout": "IPY_MODEL_e639aa9e077c42e7bc5779ae38b26828",
       "style": "IPY_MODEL_8f8a3dd369274a72bfdd9d37dd83dff0"
      }
     },
     "e2b44fe883454fb5a7f0389381a49ea8": {
      "model_module": "@jupyter-widgets/controls",
      "model_module_version": "1.5.0",
      "model_name": "FloatProgressModel",
      "state": {
       "bar_style": "info",
       "layout": "IPY_MODEL_bc258f73001d443197f2c9ecf3f528ec",
       "max": 1,
       "style": "IPY_MODEL_1a35a3f13bec4b64a3c1dd9aae2d2728",
       "value": 1
      }
     },
     "e463752edde94176909fccc98dba30b1": {
      "model_module": "@jupyter-widgets/base",
      "model_module_version": "1.2.0",
      "model_name": "LayoutModel",
      "state": {}
     },
     "e488073c07c64027b24342a0731e0ec3": {
      "model_module": "@jupyter-widgets/controls",
      "model_module_version": "1.5.0",
      "model_name": "FloatProgressModel",
      "state": {
       "layout": "IPY_MODEL_d0ad241a62b4412fb297e58c81d96348",
       "max": 10,
       "style": "IPY_MODEL_a8fcee8e563c48b1945ad6d11b820f93",
       "value": 10
      }
     },
     "e599831d41984a4ab7e34106460f0116": {
      "model_module": "@jupyter-widgets/controls",
      "model_module_version": "1.5.0",
      "model_name": "HTMLModel",
      "state": {
       "layout": "IPY_MODEL_403bd0f360d843458f32a5a569bd11e4",
       "style": "IPY_MODEL_ef6f802570f5437eb4b5d40db3371069",
       "value": "Epoch 2: 100%"
      }
     },
     "e639aa9e077c42e7bc5779ae38b26828": {
      "model_module": "@jupyter-widgets/base",
      "model_module_version": "1.2.0",
      "model_name": "LayoutModel",
      "state": {}
     },
     "e78d8e8f8e6943e3a250fa625c18d55b": {
      "model_module": "@jupyter-widgets/controls",
      "model_module_version": "1.5.0",
      "model_name": "HTMLModel",
      "state": {
       "layout": "IPY_MODEL_2e4e68dc956e44eab8d125ba22ec0142",
       "style": "IPY_MODEL_4ee1d5f1c65c4e769b648552ab5e795b",
       "value": "Validation sanity check: 100%"
      }
     },
     "e99a0848617542659b0c29776b76f2c5": {
      "model_module": "@jupyter-widgets/controls",
      "model_module_version": "1.5.0",
      "model_name": "FloatProgressModel",
      "state": {
       "layout": "IPY_MODEL_fe909204ee0446ea9df6b6e4bdd7ebf2",
       "max": 10,
       "style": "IPY_MODEL_b949e82c17f84d9aae5adaaf25446760",
       "value": 10
      }
     },
     "ea4781940a3b41f4929427e26f8a4892": {
      "model_module": "@jupyter-widgets/controls",
      "model_module_version": "1.5.0",
      "model_name": "DescriptionStyleModel",
      "state": {
       "description_width": ""
      }
     },
     "eda40cbed54842698eedad1b493b1294": {
      "model_module": "@jupyter-widgets/controls",
      "model_module_version": "1.5.0",
      "model_name": "FloatProgressModel",
      "state": {
       "layout": "IPY_MODEL_ee1ffd485a3d49d9a1782f256b66fbe8",
       "max": 1,
       "style": "IPY_MODEL_d5ed3d9eba81420089f56893e3956c16"
      }
     },
     "ee1ffd485a3d49d9a1782f256b66fbe8": {
      "model_module": "@jupyter-widgets/base",
      "model_module_version": "1.2.0",
      "model_name": "LayoutModel",
      "state": {}
     },
     "ef6f802570f5437eb4b5d40db3371069": {
      "model_module": "@jupyter-widgets/controls",
      "model_module_version": "1.5.0",
      "model_name": "DescriptionStyleModel",
      "state": {
       "description_width": ""
      }
     },
     "f1030a28c01441a4bd1b4019dc666fd8": {
      "model_module": "@jupyter-widgets/base",
      "model_module_version": "1.2.0",
      "model_name": "LayoutModel",
      "state": {
       "flex": "2"
      }
     },
     "f2ac327776334f4f8c04f34cba5df06c": {
      "model_module": "@jupyter-widgets/base",
      "model_module_version": "1.2.0",
      "model_name": "LayoutModel",
      "state": {
       "flex": "2"
      }
     },
     "f2e8288990c74108a20532fe082f423f": {
      "model_module": "@jupyter-widgets/base",
      "model_module_version": "1.2.0",
      "model_name": "LayoutModel",
      "state": {}
     },
     "f396438eae72493ea04023bc501350a6": {
      "model_module": "@jupyter-widgets/base",
      "model_module_version": "1.2.0",
      "model_name": "LayoutModel",
      "state": {
       "flex": "2"
      }
     },
     "f5b4968b29bf49a59cb303664629fb89": {
      "model_module": "@jupyter-widgets/controls",
      "model_module_version": "1.5.0",
      "model_name": "HTMLModel",
      "state": {
       "layout": "IPY_MODEL_0776198ae8ad43148ec7f8bc4c089f02",
       "style": "IPY_MODEL_fa0f5363d8974dbdb09a8ba8a9b88a60",
       "value": "Epoch 0: 100%"
      }
     },
     "f711fe0de841464280dea8e1a6118062": {
      "model_module": "@jupyter-widgets/controls",
      "model_module_version": "1.5.0",
      "model_name": "ProgressStyleModel",
      "state": {
       "description_width": ""
      }
     },
     "f7206452b22d4907aac0d79e1891d88c": {
      "model_module": "@jupyter-widgets/controls",
      "model_module_version": "1.5.0",
      "model_name": "HTMLModel",
      "state": {
       "layout": "IPY_MODEL_1cab470814ec40e69773e2550952cb7d",
       "style": "IPY_MODEL_bf7dd442f486488b8cde4c09b279837e",
       "value": "Validation sanity check: 0it [00:00, ?it/s]"
      }
     },
     "f9887c7dcb2248ae904ccb7d10487029": {
      "model_module": "@jupyter-widgets/controls",
      "model_module_version": "1.5.0",
      "model_name": "DescriptionStyleModel",
      "state": {
       "description_width": ""
      }
     },
     "f98eae17c96e42289a46f5dc7842f2de": {
      "model_module": "@jupyter-widgets/base",
      "model_module_version": "1.2.0",
      "model_name": "LayoutModel",
      "state": {
       "flex": "2"
      }
     },
     "fa0eced5bee0414989659ff6ccf6929d": {
      "model_module": "@jupyter-widgets/base",
      "model_module_version": "1.2.0",
      "model_name": "LayoutModel",
      "state": {
       "display": "inline-flex",
       "flex_flow": "row wrap",
       "width": "100%"
      }
     },
     "fa0f5363d8974dbdb09a8ba8a9b88a60": {
      "model_module": "@jupyter-widgets/controls",
      "model_module_version": "1.5.0",
      "model_name": "DescriptionStyleModel",
      "state": {
       "description_width": ""
      }
     },
     "fc423a9dda53468481f39dd229be56ee": {
      "model_module": "@jupyter-widgets/controls",
      "model_module_version": "1.5.0",
      "model_name": "HTMLModel",
      "state": {
       "layout": "IPY_MODEL_ac4b180e88e04325a5ded86b62d0a591",
       "style": "IPY_MODEL_b8c70801364f403399791ffd302c508d",
       "value": " 10/10 [00:03&lt;?, ?it/s, loss=3.45, v_num=v7tq, train_acc_step=0.116, train_f1_step=0.116, train_prec_step=0.116, train_rec_step=0.116, train_loss_step=3.26, train_acc_epoch=0.0814, train_f1_epoch=0.0814, train_prec_epoch=0.0814, train_rec_epoch=0.0814, train_loss_epoch=3.59]"
      }
     },
     "fe909204ee0446ea9df6b6e4bdd7ebf2": {
      "model_module": "@jupyter-widgets/base",
      "model_module_version": "1.2.0",
      "model_name": "LayoutModel",
      "state": {
       "flex": "2"
      }
     },
     "fef86f6a5ee5482e92f8e9edf83537f2": {
      "model_module": "@jupyter-widgets/base",
      "model_module_version": "1.2.0",
      "model_name": "LayoutModel",
      "state": {}
     },
     "ff0689c195a046fc81243e74b16e1d32": {
      "model_module": "@jupyter-widgets/controls",
      "model_module_version": "1.5.0",
      "model_name": "DescriptionStyleModel",
      "state": {
       "description_width": ""
      }
     },
     "ff71fdb577cd4350ba0733c5b4a56aff": {
      "model_module": "@jupyter-widgets/controls",
      "model_module_version": "1.5.0",
      "model_name": "FloatProgressModel",
      "state": {
       "layout": "IPY_MODEL_514552244ff14f8da32c34b14e6b7ad6",
       "max": 15,
       "style": "IPY_MODEL_cd22da59be4f47dda73a177dca0b2bc6",
       "value": 15
      }
     },
     "ffe22254130d4fd6b880da92c20bad72": {
      "model_module": "@jupyter-widgets/controls",
      "model_module_version": "1.5.0",
      "model_name": "HTMLModel",
      "state": {
       "layout": "IPY_MODEL_cb91db85ba564b0797b36bbd232488b9",
       "style": "IPY_MODEL_c4b8b7007c194b7fb198f267f903d948",
       "value": " 5/5 [00:03&lt;00:00,  1.63it/s]"
      }
     }
    },
    "version_major": 2,
    "version_minor": 0
   }
  }
 },
 "nbformat": 4,
 "nbformat_minor": 4
}
