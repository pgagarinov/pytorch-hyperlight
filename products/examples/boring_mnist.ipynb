{
 "cells": [
  {
   "cell_type": "markdown",
   "metadata": {},
   "source": [
    "# MNIST classification using using LeNet"
   ]
  },
  {
   "cell_type": "code",
   "execution_count": 34,
   "metadata": {},
   "outputs": [],
   "source": [
    "import warnings\n",
    "from pathlib import Path\n",
    "\n",
    "import matplotlib.patches as patches\n",
    "import numpy as np\n",
    "import pytorch_hyperlight as pth\n",
    "import pytorch_lightning as pl\n",
    "import pytorch_lightning.metrics as metrics\n",
    "import torch\n",
    "import torch.nn.functional as F\n",
    "from matplotlib import pyplot as plt\n",
    "from matplotlib.font_manager import FontProperties\n",
    "from pytorch_lightning import Callback\n",
    "from IPython.display import display\n",
    "from ray import tune\n",
    "from torch import nn\n",
    "from torch.utils.data import DataLoader, random_split\n",
    "from torchvision import transforms\n",
    "from torchvision.datasets.mnist import MNIST\n",
    "from transformers import AdamW, get_linear_schedule_with_warmup"
   ]
  },
  {
   "cell_type": "code",
   "execution_count": 35,
   "metadata": {
    "tags": [
     "parameters"
    ]
   },
   "outputs": [],
   "source": [
    "USAGE_MODE_LIST = [\"single-run\", \"hyper-opt\"]  # choose from 'single-run' and 'hyper-opt'\n",
    "# USAGE_MODE_LIST = [\"hyper-opt\"]\n",
    "# USAGE_MODE_LIST = [\"single-run\"]\n",
    "FAST_DEV_RUN = False  # if true, simplifed configurations running for just a few epochs are used for making sure there are no obvious bugs"
   ]
  },
  {
   "cell_type": "code",
   "execution_count": 36,
   "metadata": {},
   "outputs": [],
   "source": [
    "EXPERIMENT_ID = \"boring-mnist\"\n",
    "\n",
    "DATASETS_PATH = Path(\"/home/peter/_Git/_ML/dlschool-solutions/term1/task5/data\")\n",
    "\n",
    "warnings.filterwarnings(\"ignore\")\n",
    "\n",
    "\n",
    "# a dedicated function for creating datasets\n",
    "# please note how 'full_train_dataset' is created along with train,\n",
    "# val and test datasets\n",
    "def create_datasets(val_size=0.2):\n",
    "    SEED = 16\n",
    "    pl.seed_everything(SEED)\n",
    "    #\n",
    "    full_train_dataset = MNIST(\n",
    "        DATASETS_PATH, train=True, download=True, transform=transforms.ToTensor()\n",
    "    )\n",
    "    test_dataset = MNIST(\n",
    "        DATASETS_PATH, train=False, download=True, transform=transforms.ToTensor()\n",
    "    )\n",
    "    n_full_train_samples = len(full_train_dataset)\n",
    "    n_val_samples = int(n_full_train_samples * val_size)\n",
    "    train_dataset, val_dataset = random_split(\n",
    "        full_train_dataset, [n_full_train_samples - n_val_samples, n_val_samples]\n",
    "    )\n",
    "\n",
    "    n_classes = len(MNIST.classes)\n",
    "\n",
    "    return {\n",
    "        \"full_train_dataset\": full_train_dataset,\n",
    "        \"train_dataset\": train_dataset,\n",
    "        \"val_dataset\": val_dataset,\n",
    "        \"test_dataset\": test_dataset,\n",
    "        \"n_classes\": n_classes,\n",
    "    }"
   ]
  },
  {
   "cell_type": "code",
   "execution_count": 37,
   "metadata": {
    "id": "uJ6-Ce3Fuhno"
   },
   "outputs": [],
   "source": [
    "def imshow(inp, title=None, plt_ax=plt, default=False):\n",
    "    \"\"\"Imshow for tensors\"\"\"\n",
    "    inp = inp.numpy().transpose((1, 2, 0))\n",
    "    mean = np.array([0.485, 0.456, 0.406])\n",
    "    std = np.array([0.229, 0.224, 0.225])\n",
    "    inp = std * inp + mean\n",
    "    inp = np.clip(inp, 0, 1)\n",
    "    plt_ax.imshow(inp)\n",
    "    if title is not None:\n",
    "        plt_ax.set_title(title)\n",
    "    plt_ax.grid(False)"
   ]
  },
  {
   "cell_type": "code",
   "execution_count": 38,
   "metadata": {
    "collapsed": false,
    "jupyter": {
     "outputs_hidden": false
    },
    "pycharm": {
     "name": "#%%\n"
    }
   },
   "outputs": [],
   "source": [
    "# a dedicated function for creating dataloaders\n",
    "# 'full_train_loader' is created along with standard 3 loaderers\n",
    "# for training, validation and testing datasets\n",
    "def configure_dataloaders(batch_size, n_workers=4, val_size=0.2):\n",
    "    #\n",
    "    SHUFFLE = True\n",
    "    SAMPLER = None\n",
    "    #\n",
    "    result_dict = create_datasets(val_size)\n",
    "    #\n",
    "    for prefix in [\"train\", \"full_train\"]:\n",
    "\n",
    "        result_dict[f\"{prefix}_loader\"] = DataLoader(\n",
    "            result_dict[f\"{prefix}_dataset\"],\n",
    "            batch_size=batch_size,\n",
    "            shuffle=SHUFFLE,\n",
    "            sampler=SAMPLER,\n",
    "            num_workers=n_workers,\n",
    "            pin_memory=True,\n",
    "        )\n",
    "    #\n",
    "    for prefix in [\"val\", \"test\"]:\n",
    "        result_dict[f\"{prefix}_loader\"] = DataLoader(\n",
    "            result_dict[f\"{prefix}_dataset\"],\n",
    "            batch_size=batch_size,\n",
    "            shuffle=False,\n",
    "            num_workers=n_workers,\n",
    "            pin_memory=True,\n",
    "        )\n",
    "\n",
    "    return result_dict"
   ]
  },
  {
   "cell_type": "markdown",
   "metadata": {},
   "source": [
    "Let us make sure our dataloaders can be created correctly"
   ]
  },
  {
   "cell_type": "code",
   "execution_count": 39,
   "metadata": {},
   "outputs": [],
   "source": [
    "BATCH_SIZE = 32\n",
    "\n",
    "loaders_dict = configure_dataloaders(BATCH_SIZE)\n",
    "\n",
    "loaders_dict\n",
    "\n",
    "batch = next(iter(loaders_dict[\"train_loader\"]))\n",
    "assert len(batch[0]) > 0"
   ]
  },
  {
   "cell_type": "code",
   "execution_count": 40,
   "metadata": {},
   "outputs": [
    {
     "data": {
      "text/plain": [
       "60000"
      ]
     },
     "execution_count": 40,
     "metadata": {},
     "output_type": "execute_result"
    }
   ],
   "source": [
    "result_dict = create_datasets(0.2)\n",
    "len(result_dict[\"full_train_dataset\"])"
   ]
  },
  {
   "cell_type": "code",
   "execution_count": 41,
   "metadata": {},
   "outputs": [
    {
     "data": {
      "text/plain": [
       "10"
      ]
     },
     "execution_count": 41,
     "metadata": {},
     "output_type": "execute_result"
    }
   ],
   "source": [
    "loaders_dict[\"n_classes\"]"
   ]
  },
  {
   "cell_type": "markdown",
   "metadata": {},
   "source": [
    "### Defining the model"
   ]
  },
  {
   "cell_type": "markdown",
   "metadata": {},
   "source": [
    "Let define a dedicated class for metrics calculation"
   ]
  },
  {
   "cell_type": "code",
   "execution_count": 42,
   "metadata": {},
   "outputs": [],
   "source": [
    "class LitMetricsCalc(torch.nn.Module):\n",
    "    def __init__(self, prefix, num_classes):\n",
    "        super(LitMetricsCalc, self).__init__()\n",
    "        self.acc = metrics.classification.Accuracy()\n",
    "        self.f1 = metrics.classification.F1(num_classes=num_classes, average=\"macro\")\n",
    "        self.prefix = prefix\n",
    "\n",
    "    def step(self, logit, target):\n",
    "        probs = torch.softmax(logit, dim=1)\n",
    "        prefix = self.prefix\n",
    "        self.acc(probs, target)\n",
    "        self.f1(probs, target)\n",
    "\n",
    "        return {\n",
    "            f\"{prefix}_acc\": self.acc,\n",
    "            f\"{prefix}_f1\": self.f1,\n",
    "        }"
   ]
  },
  {
   "cell_type": "code",
   "execution_count": 43,
   "metadata": {
    "collapsed": false,
    "jupyter": {
     "outputs_hidden": false
    },
    "pycharm": {
     "name": "#%%\n"
    }
   },
   "outputs": [],
   "source": [
    "class LeNetBoringMNIST(nn.Module):\n",
    "    def __init__(self, n_classes):\n",
    "        super().__init__()\n",
    "        self.conv1 = nn.Conv2d(1, 6, 3)\n",
    "        self.conv2 = nn.Conv2d(6, 16, 3)\n",
    "        self.fc1 = nn.Linear(16 * 5 * 5, 120)\n",
    "        self.fc2 = nn.Linear(120, 84)\n",
    "        self.fc3 = nn.Linear(84, n_classes)\n",
    "\n",
    "    def forward(self, x):\n",
    "        x = F.max_pool2d(F.relu(self.conv1(x)), (2, 2))\n",
    "        x = F.max_pool2d(F.relu(self.conv2(x)), 2)\n",
    "        x = x.view(-1, int(x.nelement() / x.shape[0]))\n",
    "        x = F.relu(self.fc1(x))\n",
    "        x = F.relu(self.fc2(x))\n",
    "        x = self.fc3(x)\n",
    "        return x"
   ]
  },
  {
   "cell_type": "code",
   "execution_count": 44,
   "metadata": {},
   "outputs": [],
   "source": [
    "class LitBoringMNIST(pl.LightningModule):\n",
    "    def __init__(self, hparams):\n",
    "        super().__init__()\n",
    "        self.hparams = hparams\n",
    "        #\n",
    "        n_classes = self.hparams.n_classes\n",
    "        #\n",
    "        model = LeNetBoringMNIST(n_classes)\n",
    "        #\n",
    "        self.model = model\n",
    "        self.train_metric_calc = LitMetricsCalc(\"train\", num_classes=n_classes)\n",
    "        self.val_metric_calc = LitMetricsCalc(\"val\", num_classes=n_classes)\n",
    "        self.test_metric_calc = LitMetricsCalc(\"test\", num_classes=n_classes)\n",
    "        self.freeze()\n",
    "\n",
    "    def freeze(self):\n",
    "        for param in self.model.parameters():\n",
    "            param.requires_grad = False\n",
    "\n",
    "    def unfreeze(self):\n",
    "        for param in self.model.parameters():\n",
    "            param.requires_grad = True\n",
    "\n",
    "    def unfreeze_tail(self, ind_layer):\n",
    "        assert ind_layer >= 0\n",
    "        ind = ind_layer\n",
    "        while True:\n",
    "            if ind == 0:\n",
    "                for param in self.model.fc3.parameters():\n",
    "                    param.requires_grad = True\n",
    "            elif ind == 1:\n",
    "                for param in self.model.fc2.parameters():\n",
    "                    param.requires_grad = True\n",
    "            elif ind == 2:\n",
    "                for param in self.model.fc1.parameters():\n",
    "                    param.requires_grad = True\n",
    "            ind -= 1\n",
    "            if ind < 0:\n",
    "                break\n",
    "\n",
    "    def configure_optimizers(self):\n",
    "        optimizer = AdamW(\n",
    "            self.model.parameters(),\n",
    "            lr=self.hparams.lr,\n",
    "        )\n",
    "\n",
    "        scheduler = get_linear_schedule_with_warmup(\n",
    "            optimizer, self.hparams.warmup, self.hparams.n_train_steps\n",
    "        )\n",
    "        return [optimizer], [\n",
    "            {\"scheduler\": scheduler, \"interval\": \"step\", \"frequency\": 1}\n",
    "        ]\n",
    "\n",
    "    def forward(self, inputs):\n",
    "        logits = self.model(inputs)\n",
    "        return logits\n",
    "\n",
    "    def forward_batch(self, batch):\n",
    "        inputs = batch[0]\n",
    "        return self(inputs)\n",
    "\n",
    "    def __calc_loss(self, logits, target, log_label):\n",
    "        loss = F.cross_entropy(logits, target)\n",
    "        self.log(f\"{log_label}_loss\", loss, prog_bar=True, on_step=True, on_epoch=True)\n",
    "        return loss\n",
    "\n",
    "    def __stage_step(self, metric_calc, batch, batch_idx, stage):\n",
    "        logits = self.forward_batch(batch)\n",
    "        mval_dict = metric_calc.step(logits, batch[1])\n",
    "        self.log_dict(mval_dict, prog_bar=True, on_step=True, on_epoch=True)\n",
    "        loss = self.__calc_loss(logits, batch[1], stage)\n",
    "        return loss\n",
    "\n",
    "    def training_step(self, batch, batch_idx):\n",
    "        return self.__stage_step(self.train_metric_calc, batch, batch_idx, \"train\")\n",
    "\n",
    "    def test_step(self, batch, batch_idx):\n",
    "        return self.__stage_step(self.test_metric_calc, batch, batch_idx, \"test\")\n",
    "\n",
    "    def validation_step(self, batch, batch_idx):\n",
    "        return self.__stage_step(self.val_metric_calc, batch, batch_idx, \"val\")"
   ]
  },
  {
   "cell_type": "code",
   "execution_count": 45,
   "metadata": {
    "collapsed": false,
    "jupyter": {
     "outputs_hidden": false
    },
    "pycharm": {
     "name": "#%%\n"
    }
   },
   "outputs": [],
   "source": [
    "N_CLASSES = loaders_dict[\"n_classes\"]\n",
    "LMODULE_CLASS = LitBoringMNIST\n",
    "IS_CUDA = torch.cuda.is_available()\n",
    "GPU_PER_TRIAL = 0.3 * IS_CUDA"
   ]
  },
  {
   "cell_type": "code",
   "execution_count": 46,
   "metadata": {},
   "outputs": [],
   "source": [
    "CONFIG = {\n",
    "    \"lr\": 1e-3,  # Initial learning rate\n",
    "    \"warmup\": 200,  # For LinearSchedulerWihtWarmup\n",
    "    \"gradient_clip_val\": 0,\n",
    "    \"max_epochs\": 6,  # the actual number can be less due to early stopping\n",
    "    \"batch_size\": 64,\n",
    "    \"n_classes\": N_CLASSES,\n",
    "    \"unfreeze_epochs\": [0, 1]  # 2-phase unfreeze,\n",
    "    #    unfreeze the tip of the tail at the start of epoch 0,\n",
    "    #    then unfreeze one more layer at epoch 1,\n",
    "}\n",
    "\n",
    "TUNE_CONFIG = {\n",
    "    \"seed\": 16,  # just remove this if you do not want determenistic behavior\n",
    "    \"metric_to_optimize\": \"val_f1_epoch\",  # Ray + PTL Trainer\n",
    "    \"ray_metrics_to_show\": [\n",
    "        \"val_loss_epoch\",\n",
    "        \"val_f1_epoch\",\n",
    "        \"val_acc_epoch\",\n",
    "    ],  # for Ray Tune\n",
    "    \"metric_opt_mode\": \"max\",  # Ray + PTL Trainer\n",
    "    \"cpu_per_trial\": 3,  # Ray + DataLoaders\n",
    "    \"gpu_per_trial\": GPU_PER_TRIAL,  # for Ray Tune\n",
    "    \"n_checkpoints_to_keep\": 1,  # for Ray Tune\n",
    "    \"grace_period\": 6,  # for both PTL Trainer and Ray Tune scheduler\n",
    "    \"epoch_upper_limit\": 45,  # for Ray Tune\n",
    "    \"n_samples\": 3,  # for Ray Tune\n",
    "    \"ptl_early_stopping_patience\": 7,  # for PTL Trainer\n",
    "    \"ptl_precision\": 32,  # or 16, for PTL Trainer\n",
    "    \"train_loader_name\": \"train_loader\",\n",
    "    \"val_loader_name\": \"val_loader\",\n",
    "    \"test_loader_name\": \"test_loader\",\n",
    "    \"batch_size_main\": CONFIG[\n",
    "        \"batch_size\"\n",
    "    ],  # batch size for revalidation and test phases\n",
    "    #    that run in the main process after all Ray Tune child processes are finished\n",
    "    \"gpus\": -1 * IS_CUDA,  # -1 - use GPU if available, 0 - use CPU, 1 - use single GPU,\n",
    "    # >=2 - use multiple GPUs\n",
    "}\n",
    "\n",
    "if FAST_DEV_RUN:\n",
    "    CONFIG[\"max_epochs\"] = 2\n",
    "    TUNE_CONFIG[\"n_samples\"] = 2"
   ]
  },
  {
   "cell_type": "code",
   "execution_count": 47,
   "metadata": {},
   "outputs": [],
   "source": [
    "class UnfreezeModelTailCallback(Callback):\n",
    "    def __init__(self, epoch_vec):\n",
    "        super().__init__()\n",
    "        self.epoch_vec = epoch_vec\n",
    "\n",
    "    def on_epoch_start(self, trainer, pl_module):\n",
    "        if trainer.current_epoch <= self.epoch_vec[0]:\n",
    "            pl_module.unfreeze_tail(0)\n",
    "        elif trainer.current_epoch <= self.epoch_vec[1]:\n",
    "            pl_module.unfreeze_tail(1)\n",
    "        else:\n",
    "            pl_module.unfreeze()\n",
    "\n",
    "\n",
    "pl_callbacks = [UnfreezeModelTailCallback(CONFIG[\"unfreeze_epochs\"])]"
   ]
  },
  {
   "cell_type": "code",
   "execution_count": 48,
   "metadata": {},
   "outputs": [],
   "source": [
    "runner = pth.Runner(\n",
    "    configure_dataloaders,\n",
    "    pl_callbacks=pl_callbacks,\n",
    "    is_debug=FAST_DEV_RUN,\n",
    "    experiment_id=EXPERIMENT_ID,\n",
    "    log2wandb=False\n",
    ")"
   ]
  },
  {
   "cell_type": "code",
   "execution_count": 49,
   "metadata": {},
   "outputs": [
    {
     "name": "stderr",
     "output_type": "stream",
     "text": [
      "GPU available: False, used: False\n",
      "TPU available: None, using: 0 TPU cores\n",
      "\n",
      "  | Name              | Type             | Params\n",
      "-------------------------------------------------------\n",
      "0 | model             | LeNetBoringMNIST | 60.1 K\n",
      "1 | train_metric_calc | LitMetricsCalc   | 0     \n",
      "2 | val_metric_calc   | LitMetricsCalc   | 0     \n",
      "3 | test_metric_calc  | LitMetricsCalc   | 0     \n",
      "-------------------------------------------------------\n",
      "0         Trainable params\n",
      "60.1 K    Non-trainable params\n",
      "60.1 K    Total params\n"
     ]
    },
    {
     "data": {
      "application/vnd.jupyter.widget-view+json": {
       "model_id": "",
       "version_major": 2,
       "version_minor": 0
      },
      "text/plain": [
       "HBox(children=(FloatProgress(value=1.0, bar_style='info', description='Validation sanity check', layout=Layout…"
      ]
     },
     "metadata": {},
     "output_type": "display_data"
    },
    {
     "data": {
      "application/vnd.jupyter.widget-view+json": {
       "model_id": "",
       "version_major": 2,
       "version_minor": 0
      },
      "text/plain": [
       "HBox(children=(FloatProgress(value=1.0, bar_style='info', description='Training', layout=Layout(flex='2'), max…"
      ]
     },
     "metadata": {},
     "output_type": "display_data"
    },
    {
     "data": {
      "application/vnd.jupyter.widget-view+json": {
       "model_id": "",
       "version_major": 2,
       "version_minor": 0
      },
      "text/plain": [
       "HBox(children=(FloatProgress(value=1.0, bar_style='info', description='Validating', layout=Layout(flex='2'), m…"
      ]
     },
     "metadata": {},
     "output_type": "display_data"
    },
    {
     "name": "stdout",
     "output_type": "stream",
     "text": [
      "|   epoch |   val_f1 |   train_f1 |   val_acc |   train_acc | stage     |   val_loss |   train_loss |\n",
      "|--------:|---------:|-----------:|----------:|------------:|:----------|-----------:|-------------:|\n",
      "|       0 |   0.1747 |     0.0951 |    0.2534 |      0.1639 | Train/Val |     2.2725 |       2.2897 |\n"
     ]
    },
    {
     "data": {
      "application/vnd.jupyter.widget-view+json": {
       "model_id": "",
       "version_major": 2,
       "version_minor": 0
      },
      "text/plain": [
       "HBox(children=(FloatProgress(value=1.0, bar_style='info', description='Training', layout=Layout(flex='2'), max…"
      ]
     },
     "metadata": {},
     "output_type": "display_data"
    },
    {
     "data": {
      "application/vnd.jupyter.widget-view+json": {
       "model_id": "",
       "version_major": 2,
       "version_minor": 0
      },
      "text/plain": [
       "HBox(children=(FloatProgress(value=1.0, bar_style='info', description='Validating', layout=Layout(flex='2'), m…"
      ]
     },
     "metadata": {},
     "output_type": "display_data"
    },
    {
     "name": "stdout",
     "output_type": "stream",
     "text": [
      "|   epoch |   val_f1 |   train_f1 |   val_acc |   train_acc | stage     |   val_loss |   train_loss |\n",
      "|--------:|---------:|-----------:|----------:|------------:|:----------|-----------:|-------------:|\n",
      "|       1 |   0.7387 |     0.5947 |    0.7512 |      0.6287 | Train/Val |     1.0247 |       1.5376 |\n"
     ]
    },
    {
     "data": {
      "application/vnd.jupyter.widget-view+json": {
       "model_id": "",
       "version_major": 2,
       "version_minor": 0
      },
      "text/plain": [
       "HBox(children=(FloatProgress(value=1.0, bar_style='info', description='Training', layout=Layout(flex='2'), max…"
      ]
     },
     "metadata": {},
     "output_type": "display_data"
    },
    {
     "data": {
      "application/vnd.jupyter.widget-view+json": {
       "model_id": "",
       "version_major": 2,
       "version_minor": 0
      },
      "text/plain": [
       "HBox(children=(FloatProgress(value=1.0, bar_style='info', description='Validating', layout=Layout(flex='2'), m…"
      ]
     },
     "metadata": {},
     "output_type": "display_data"
    },
    {
     "name": "stdout",
     "output_type": "stream",
     "text": [
      "|   epoch |   val_f1 |   train_f1 |   val_acc |   train_acc | stage     |   val_loss |   train_loss |\n",
      "|--------:|---------:|-----------:|----------:|------------:|:----------|-----------:|-------------:|\n",
      "|       2 |   0.9642 |     0.9305 |    0.9646 |      0.9311 | Train/Val |     0.1153 |       0.2273 |\n"
     ]
    },
    {
     "data": {
      "application/vnd.jupyter.widget-view+json": {
       "model_id": "",
       "version_major": 2,
       "version_minor": 0
      },
      "text/plain": [
       "HBox(children=(FloatProgress(value=1.0, bar_style='info', description='Training', layout=Layout(flex='2'), max…"
      ]
     },
     "metadata": {},
     "output_type": "display_data"
    },
    {
     "data": {
      "application/vnd.jupyter.widget-view+json": {
       "model_id": "",
       "version_major": 2,
       "version_minor": 0
      },
      "text/plain": [
       "HBox(children=(FloatProgress(value=1.0, bar_style='info', description='Validating', layout=Layout(flex='2'), m…"
      ]
     },
     "metadata": {},
     "output_type": "display_data"
    },
    {
     "name": "stdout",
     "output_type": "stream",
     "text": [
      "|   epoch |   val_f1 |   train_f1 |   val_acc |   train_acc | stage     |   val_loss |   train_loss |\n",
      "|--------:|---------:|-----------:|----------:|------------:|:----------|-----------:|-------------:|\n",
      "|       3 |   0.9757 |     0.9742 |     0.976 |      0.9744 | Train/Val |     0.0753 |       0.0837 |\n"
     ]
    },
    {
     "data": {
      "application/vnd.jupyter.widget-view+json": {
       "model_id": "",
       "version_major": 2,
       "version_minor": 0
      },
      "text/plain": [
       "HBox(children=(FloatProgress(value=1.0, bar_style='info', description='Training', layout=Layout(flex='2'), max…"
      ]
     },
     "metadata": {},
     "output_type": "display_data"
    },
    {
     "data": {
      "application/vnd.jupyter.widget-view+json": {
       "model_id": "",
       "version_major": 2,
       "version_minor": 0
      },
      "text/plain": [
       "HBox(children=(FloatProgress(value=1.0, bar_style='info', description='Validating', layout=Layout(flex='2'), m…"
      ]
     },
     "metadata": {},
     "output_type": "display_data"
    },
    {
     "name": "stdout",
     "output_type": "stream",
     "text": [
      "|   epoch |   val_f1 |   train_f1 |   val_acc |   train_acc | stage     |   val_loss |   train_loss |\n",
      "|--------:|---------:|-----------:|----------:|------------:|:----------|-----------:|-------------:|\n",
      "|       4 |   0.9794 |     0.9831 |    0.9797 |      0.9833 | Train/Val |     0.0666 |       0.0564 |\n"
     ]
    },
    {
     "data": {
      "application/vnd.jupyter.widget-view+json": {
       "model_id": "",
       "version_major": 2,
       "version_minor": 0
      },
      "text/plain": [
       "HBox(children=(FloatProgress(value=1.0, bar_style='info', description='Training', layout=Layout(flex='2'), max…"
      ]
     },
     "metadata": {},
     "output_type": "display_data"
    },
    {
     "data": {
      "application/vnd.jupyter.widget-view+json": {
       "model_id": "",
       "version_major": 2,
       "version_minor": 0
      },
      "text/plain": [
       "HBox(children=(FloatProgress(value=1.0, bar_style='info', description='Validating', layout=Layout(flex='2'), m…"
      ]
     },
     "metadata": {},
     "output_type": "display_data"
    },
    {
     "name": "stdout",
     "output_type": "stream",
     "text": [
      "|   epoch |   val_f1 |   train_f1 |   val_acc |   train_acc | stage     |   val_loss |   train_loss |\n",
      "|--------:|---------:|-----------:|----------:|------------:|:----------|-----------:|-------------:|\n",
      "|       5 |   0.9815 |     0.9874 |    0.9816 |      0.9875 | Train/Val |     0.0607 |       0.0418 |\n"
     ]
    },
    {
     "data": {
      "application/vnd.jupyter.widget-view+json": {
       "model_id": "",
       "version_major": 2,
       "version_minor": 0
      },
      "text/plain": [
       "HBox(children=(FloatProgress(value=1.0, bar_style='info', description='Training', layout=Layout(flex='2'), max…"
      ]
     },
     "metadata": {},
     "output_type": "display_data"
    },
    {
     "data": {
      "application/vnd.jupyter.widget-view+json": {
       "model_id": "",
       "version_major": 2,
       "version_minor": 0
      },
      "text/plain": [
       "HBox(children=(FloatProgress(value=1.0, bar_style='info', description='Testing', layout=Layout(flex='2'), max=…"
      ]
     },
     "metadata": {},
     "output_type": "display_data"
    },
    {
     "name": "stdout",
     "output_type": "stream",
     "text": [
      "|   epoch |   val_f1 |   reval_f1 |   train_f1 |   val_acc |   reval_acc |   train_acc | stage   |   val_loss |   reval_loss |   train_loss |\n",
      "|--------:|---------:|-----------:|-----------:|----------:|------------:|------------:|:--------|-----------:|-------------:|-------------:|\n",
      "|       5 |   0.9815 |     0.9815 |     0.9874 |    0.9816 |      0.9816 |      0.9875 | Reval   |     0.0607 |       0.0607 |       0.0418 |\n"
     ]
    },
    {
     "data": {
      "application/vnd.jupyter.widget-view+json": {
       "model_id": "",
       "version_major": 2,
       "version_minor": 0
      },
      "text/plain": [
       "HBox(children=(FloatProgress(value=1.0, bar_style='info', description='Testing', layout=Layout(flex='2'), max=…"
      ]
     },
     "metadata": {},
     "output_type": "display_data"
    },
    {
     "name": "stdout",
     "output_type": "stream",
     "text": [
      "|   epoch |   val_f1 |   train_f1 |   test_f1 |   val_acc |   train_acc |   test_acc | stage   |   val_loss |   train_loss |   test_loss |\n",
      "|--------:|---------:|-----------:|----------:|----------:|------------:|-----------:|:--------|-----------:|-------------:|------------:|\n",
      "|       5 |   0.9815 |     0.9874 |    0.9858 |    0.9816 |      0.9875 |     0.9859 | Test    |     0.0607 |       0.0418 |      0.0458 |\n"
     ]
    },
    {
     "data": {
      "text/html": [
       "<div>\n",
       "<style scoped>\n",
       "    .dataframe tbody tr th:only-of-type {\n",
       "        vertical-align: middle;\n",
       "    }\n",
       "\n",
       "    .dataframe tbody tr th {\n",
       "        vertical-align: top;\n",
       "    }\n",
       "\n",
       "    .dataframe thead th {\n",
       "        text-align: right;\n",
       "    }\n",
       "</style>\n",
       "<table border=\"1\" class=\"dataframe\">\n",
       "  <thead>\n",
       "    <tr style=\"text-align: right;\">\n",
       "      <th></th>\n",
       "      <th>stage</th>\n",
       "      <th>epoch</th>\n",
       "      <th>val_f1</th>\n",
       "      <th>train_f1</th>\n",
       "      <th>val_acc</th>\n",
       "      <th>train_acc</th>\n",
       "      <th>val_loss</th>\n",
       "      <th>train_loss</th>\n",
       "      <th>reval_f1</th>\n",
       "      <th>reval_acc</th>\n",
       "      <th>reval_loss</th>\n",
       "      <th>test_f1</th>\n",
       "      <th>test_acc</th>\n",
       "      <th>test_loss</th>\n",
       "    </tr>\n",
       "  </thead>\n",
       "  <tbody>\n",
       "    <tr>\n",
       "      <th>0</th>\n",
       "      <td>Train/Val</td>\n",
       "      <td>0</td>\n",
       "      <td>0.1747</td>\n",
       "      <td>0.0951</td>\n",
       "      <td>0.2534</td>\n",
       "      <td>0.1639</td>\n",
       "      <td>2.2725</td>\n",
       "      <td>2.2897</td>\n",
       "      <td>NaN</td>\n",
       "      <td>NaN</td>\n",
       "      <td>NaN</td>\n",
       "      <td>NaN</td>\n",
       "      <td>NaN</td>\n",
       "      <td>NaN</td>\n",
       "    </tr>\n",
       "    <tr>\n",
       "      <th>1</th>\n",
       "      <td>Train/Val</td>\n",
       "      <td>1</td>\n",
       "      <td>0.7387</td>\n",
       "      <td>0.5947</td>\n",
       "      <td>0.7512</td>\n",
       "      <td>0.6287</td>\n",
       "      <td>1.0247</td>\n",
       "      <td>1.5376</td>\n",
       "      <td>NaN</td>\n",
       "      <td>NaN</td>\n",
       "      <td>NaN</td>\n",
       "      <td>NaN</td>\n",
       "      <td>NaN</td>\n",
       "      <td>NaN</td>\n",
       "    </tr>\n",
       "    <tr>\n",
       "      <th>2</th>\n",
       "      <td>Train/Val</td>\n",
       "      <td>2</td>\n",
       "      <td>0.9642</td>\n",
       "      <td>0.9305</td>\n",
       "      <td>0.9646</td>\n",
       "      <td>0.9311</td>\n",
       "      <td>0.1153</td>\n",
       "      <td>0.2273</td>\n",
       "      <td>NaN</td>\n",
       "      <td>NaN</td>\n",
       "      <td>NaN</td>\n",
       "      <td>NaN</td>\n",
       "      <td>NaN</td>\n",
       "      <td>NaN</td>\n",
       "    </tr>\n",
       "    <tr>\n",
       "      <th>3</th>\n",
       "      <td>Train/Val</td>\n",
       "      <td>3</td>\n",
       "      <td>0.9757</td>\n",
       "      <td>0.9742</td>\n",
       "      <td>0.9760</td>\n",
       "      <td>0.9744</td>\n",
       "      <td>0.0753</td>\n",
       "      <td>0.0837</td>\n",
       "      <td>NaN</td>\n",
       "      <td>NaN</td>\n",
       "      <td>NaN</td>\n",
       "      <td>NaN</td>\n",
       "      <td>NaN</td>\n",
       "      <td>NaN</td>\n",
       "    </tr>\n",
       "    <tr>\n",
       "      <th>4</th>\n",
       "      <td>Train/Val</td>\n",
       "      <td>4</td>\n",
       "      <td>0.9794</td>\n",
       "      <td>0.9831</td>\n",
       "      <td>0.9797</td>\n",
       "      <td>0.9833</td>\n",
       "      <td>0.0666</td>\n",
       "      <td>0.0564</td>\n",
       "      <td>NaN</td>\n",
       "      <td>NaN</td>\n",
       "      <td>NaN</td>\n",
       "      <td>NaN</td>\n",
       "      <td>NaN</td>\n",
       "      <td>NaN</td>\n",
       "    </tr>\n",
       "    <tr>\n",
       "      <th>5</th>\n",
       "      <td>Train/Val</td>\n",
       "      <td>5</td>\n",
       "      <td>0.9815</td>\n",
       "      <td>0.9874</td>\n",
       "      <td>0.9816</td>\n",
       "      <td>0.9875</td>\n",
       "      <td>0.0607</td>\n",
       "      <td>0.0418</td>\n",
       "      <td>NaN</td>\n",
       "      <td>NaN</td>\n",
       "      <td>NaN</td>\n",
       "      <td>NaN</td>\n",
       "      <td>NaN</td>\n",
       "      <td>NaN</td>\n",
       "    </tr>\n",
       "    <tr>\n",
       "      <th>6</th>\n",
       "      <td>Reval</td>\n",
       "      <td>5</td>\n",
       "      <td>0.9815</td>\n",
       "      <td>0.9874</td>\n",
       "      <td>0.9816</td>\n",
       "      <td>0.9875</td>\n",
       "      <td>0.0607</td>\n",
       "      <td>0.0418</td>\n",
       "      <td>0.9815</td>\n",
       "      <td>0.9816</td>\n",
       "      <td>0.0607</td>\n",
       "      <td>NaN</td>\n",
       "      <td>NaN</td>\n",
       "      <td>NaN</td>\n",
       "    </tr>\n",
       "    <tr>\n",
       "      <th>7</th>\n",
       "      <td>Test</td>\n",
       "      <td>5</td>\n",
       "      <td>0.9815</td>\n",
       "      <td>0.9874</td>\n",
       "      <td>0.9816</td>\n",
       "      <td>0.9875</td>\n",
       "      <td>0.0607</td>\n",
       "      <td>0.0418</td>\n",
       "      <td>NaN</td>\n",
       "      <td>NaN</td>\n",
       "      <td>NaN</td>\n",
       "      <td>0.9858</td>\n",
       "      <td>0.9859</td>\n",
       "      <td>0.0458</td>\n",
       "    </tr>\n",
       "  </tbody>\n",
       "</table>\n",
       "</div>"
      ],
      "text/plain": [
       "       stage  epoch  val_f1  train_f1  val_acc  train_acc  val_loss  \\\n",
       "0  Train/Val      0  0.1747    0.0951   0.2534     0.1639    2.2725   \n",
       "1  Train/Val      1  0.7387    0.5947   0.7512     0.6287    1.0247   \n",
       "2  Train/Val      2  0.9642    0.9305   0.9646     0.9311    0.1153   \n",
       "3  Train/Val      3  0.9757    0.9742   0.9760     0.9744    0.0753   \n",
       "4  Train/Val      4  0.9794    0.9831   0.9797     0.9833    0.0666   \n",
       "5  Train/Val      5  0.9815    0.9874   0.9816     0.9875    0.0607   \n",
       "6      Reval      5  0.9815    0.9874   0.9816     0.9875    0.0607   \n",
       "7       Test      5  0.9815    0.9874   0.9816     0.9875    0.0607   \n",
       "\n",
       "   train_loss  reval_f1  reval_acc  reval_loss  test_f1  test_acc  test_loss  \n",
       "0      2.2897       NaN        NaN         NaN      NaN       NaN        NaN  \n",
       "1      1.5376       NaN        NaN         NaN      NaN       NaN        NaN  \n",
       "2      0.2273       NaN        NaN         NaN      NaN       NaN        NaN  \n",
       "3      0.0837       NaN        NaN         NaN      NaN       NaN        NaN  \n",
       "4      0.0564       NaN        NaN         NaN      NaN       NaN        NaN  \n",
       "5      0.0418       NaN        NaN         NaN      NaN       NaN        NaN  \n",
       "6      0.0418    0.9815     0.9816      0.0607      NaN       NaN        NaN  \n",
       "7      0.0418       NaN        NaN         NaN   0.9858    0.9859     0.0458  "
      ]
     },
     "metadata": {},
     "output_type": "display_data"
    },
    {
     "data": {
      "image/png": "[encoded data removed]",
      "text/plain": [
       "<Figure size 1440x864 with 3 Axes>"
      ]
     },
     "metadata": {
      "needs_background": "light"
     },
     "output_type": "display_data"
    }
   ],
   "source": [
    "if \"single-run\" in USAGE_MODE_LIST:\n",
    "    best_result = runner.run_single_trial(LMODULE_CLASS, CONFIG, TUNE_CONFIG)\n",
    "    best_result[\"metrics\"].show_report()"
   ]
  },
  {
   "cell_type": "code",
   "execution_count": 50,
   "metadata": {},
   "outputs": [
    {
     "data": {
      "text/html": [
       "<div>\n",
       "<style scoped>\n",
       "    .dataframe tbody tr th:only-of-type {\n",
       "        vertical-align: middle;\n",
       "    }\n",
       "\n",
       "    .dataframe tbody tr th {\n",
       "        vertical-align: top;\n",
       "    }\n",
       "\n",
       "    .dataframe thead th {\n",
       "        text-align: right;\n",
       "    }\n",
       "</style>\n",
       "<table border=\"1\" class=\"dataframe\">\n",
       "  <thead>\n",
       "    <tr style=\"text-align: right;\">\n",
       "      <th></th>\n",
       "      <th>stage</th>\n",
       "      <th>epoch</th>\n",
       "      <th>stage-list</th>\n",
       "      <th>val_f1</th>\n",
       "      <th>train_f1</th>\n",
       "      <th>val_acc</th>\n",
       "      <th>train_acc</th>\n",
       "      <th>val_loss</th>\n",
       "      <th>train_loss</th>\n",
       "      <th>reval_f1</th>\n",
       "      <th>reval_acc</th>\n",
       "      <th>reval_loss</th>\n",
       "      <th>test_f1</th>\n",
       "      <th>test_acc</th>\n",
       "      <th>test_loss</th>\n",
       "    </tr>\n",
       "  </thead>\n",
       "  <tbody>\n",
       "    <tr>\n",
       "      <th>0</th>\n",
       "      <td>Train/Val</td>\n",
       "      <td>0</td>\n",
       "      <td>(train, val)</td>\n",
       "      <td>0.1747</td>\n",
       "      <td>0.0951</td>\n",
       "      <td>0.2534</td>\n",
       "      <td>0.1639</td>\n",
       "      <td>2.2725</td>\n",
       "      <td>2.2897</td>\n",
       "      <td>NaN</td>\n",
       "      <td>NaN</td>\n",
       "      <td>NaN</td>\n",
       "      <td>NaN</td>\n",
       "      <td>NaN</td>\n",
       "      <td>NaN</td>\n",
       "    </tr>\n",
       "    <tr>\n",
       "      <th>1</th>\n",
       "      <td>Train/Val</td>\n",
       "      <td>1</td>\n",
       "      <td>(train, val)</td>\n",
       "      <td>0.7387</td>\n",
       "      <td>0.5947</td>\n",
       "      <td>0.7512</td>\n",
       "      <td>0.6287</td>\n",
       "      <td>1.0247</td>\n",
       "      <td>1.5376</td>\n",
       "      <td>NaN</td>\n",
       "      <td>NaN</td>\n",
       "      <td>NaN</td>\n",
       "      <td>NaN</td>\n",
       "      <td>NaN</td>\n",
       "      <td>NaN</td>\n",
       "    </tr>\n",
       "    <tr>\n",
       "      <th>2</th>\n",
       "      <td>Train/Val</td>\n",
       "      <td>2</td>\n",
       "      <td>(train, val)</td>\n",
       "      <td>0.9642</td>\n",
       "      <td>0.9305</td>\n",
       "      <td>0.9646</td>\n",
       "      <td>0.9311</td>\n",
       "      <td>0.1153</td>\n",
       "      <td>0.2273</td>\n",
       "      <td>NaN</td>\n",
       "      <td>NaN</td>\n",
       "      <td>NaN</td>\n",
       "      <td>NaN</td>\n",
       "      <td>NaN</td>\n",
       "      <td>NaN</td>\n",
       "    </tr>\n",
       "    <tr>\n",
       "      <th>3</th>\n",
       "      <td>Train/Val</td>\n",
       "      <td>3</td>\n",
       "      <td>(train, val)</td>\n",
       "      <td>0.9757</td>\n",
       "      <td>0.9742</td>\n",
       "      <td>0.9760</td>\n",
       "      <td>0.9744</td>\n",
       "      <td>0.0753</td>\n",
       "      <td>0.0837</td>\n",
       "      <td>NaN</td>\n",
       "      <td>NaN</td>\n",
       "      <td>NaN</td>\n",
       "      <td>NaN</td>\n",
       "      <td>NaN</td>\n",
       "      <td>NaN</td>\n",
       "    </tr>\n",
       "    <tr>\n",
       "      <th>4</th>\n",
       "      <td>Train/Val</td>\n",
       "      <td>4</td>\n",
       "      <td>(train, val)</td>\n",
       "      <td>0.9794</td>\n",
       "      <td>0.9831</td>\n",
       "      <td>0.9797</td>\n",
       "      <td>0.9833</td>\n",
       "      <td>0.0666</td>\n",
       "      <td>0.0564</td>\n",
       "      <td>NaN</td>\n",
       "      <td>NaN</td>\n",
       "      <td>NaN</td>\n",
       "      <td>NaN</td>\n",
       "      <td>NaN</td>\n",
       "      <td>NaN</td>\n",
       "    </tr>\n",
       "    <tr>\n",
       "      <th>5</th>\n",
       "      <td>Train/Val</td>\n",
       "      <td>5</td>\n",
       "      <td>(train, val)</td>\n",
       "      <td>0.9815</td>\n",
       "      <td>0.9874</td>\n",
       "      <td>0.9816</td>\n",
       "      <td>0.9875</td>\n",
       "      <td>0.0607</td>\n",
       "      <td>0.0418</td>\n",
       "      <td>NaN</td>\n",
       "      <td>NaN</td>\n",
       "      <td>NaN</td>\n",
       "      <td>NaN</td>\n",
       "      <td>NaN</td>\n",
       "      <td>NaN</td>\n",
       "    </tr>\n",
       "    <tr>\n",
       "      <th>6</th>\n",
       "      <td>Reval</td>\n",
       "      <td>5</td>\n",
       "      <td>(reval,)</td>\n",
       "      <td>0.9815</td>\n",
       "      <td>0.9874</td>\n",
       "      <td>0.9816</td>\n",
       "      <td>0.9875</td>\n",
       "      <td>0.0607</td>\n",
       "      <td>0.0418</td>\n",
       "      <td>0.9815</td>\n",
       "      <td>0.9816</td>\n",
       "      <td>0.0607</td>\n",
       "      <td>NaN</td>\n",
       "      <td>NaN</td>\n",
       "      <td>NaN</td>\n",
       "    </tr>\n",
       "    <tr>\n",
       "      <th>7</th>\n",
       "      <td>Test</td>\n",
       "      <td>5</td>\n",
       "      <td>(test,)</td>\n",
       "      <td>0.9815</td>\n",
       "      <td>0.9874</td>\n",
       "      <td>0.9816</td>\n",
       "      <td>0.9875</td>\n",
       "      <td>0.0607</td>\n",
       "      <td>0.0418</td>\n",
       "      <td>NaN</td>\n",
       "      <td>NaN</td>\n",
       "      <td>NaN</td>\n",
       "      <td>0.9858</td>\n",
       "      <td>0.9859</td>\n",
       "      <td>0.0458</td>\n",
       "    </tr>\n",
       "  </tbody>\n",
       "</table>\n",
       "</div>"
      ],
      "text/plain": [
       "       stage  epoch    stage-list  val_f1  train_f1  val_acc  train_acc  \\\n",
       "0  Train/Val      0  (train, val)  0.1747    0.0951   0.2534     0.1639   \n",
       "1  Train/Val      1  (train, val)  0.7387    0.5947   0.7512     0.6287   \n",
       "2  Train/Val      2  (train, val)  0.9642    0.9305   0.9646     0.9311   \n",
       "3  Train/Val      3  (train, val)  0.9757    0.9742   0.9760     0.9744   \n",
       "4  Train/Val      4  (train, val)  0.9794    0.9831   0.9797     0.9833   \n",
       "5  Train/Val      5  (train, val)  0.9815    0.9874   0.9816     0.9875   \n",
       "6      Reval      5      (reval,)  0.9815    0.9874   0.9816     0.9875   \n",
       "7       Test      5       (test,)  0.9815    0.9874   0.9816     0.9875   \n",
       "\n",
       "   val_loss  train_loss  reval_f1  reval_acc  reval_loss  test_f1  test_acc  \\\n",
       "0    2.2725      2.2897       NaN        NaN         NaN      NaN       NaN   \n",
       "1    1.0247      1.5376       NaN        NaN         NaN      NaN       NaN   \n",
       "2    0.1153      0.2273       NaN        NaN         NaN      NaN       NaN   \n",
       "3    0.0753      0.0837       NaN        NaN         NaN      NaN       NaN   \n",
       "4    0.0666      0.0564       NaN        NaN         NaN      NaN       NaN   \n",
       "5    0.0607      0.0418       NaN        NaN         NaN      NaN       NaN   \n",
       "6    0.0607      0.0418    0.9815     0.9816      0.0607      NaN       NaN   \n",
       "7    0.0607      0.0418       NaN        NaN         NaN   0.9858    0.9859   \n",
       "\n",
       "   test_loss  \n",
       "0        NaN  \n",
       "1        NaN  \n",
       "2        NaN  \n",
       "3        NaN  \n",
       "4        NaN  \n",
       "5        NaN  \n",
       "6        NaN  \n",
       "7     0.0458  "
      ]
     },
     "metadata": {},
     "output_type": "display_data"
    }
   ],
   "source": [
    "if \"single-run\" in USAGE_MODE_LIST:\n",
    "    display(best_result[\"metrics\"].df)"
   ]
  },
  {
   "cell_type": "code",
   "execution_count": 51,
   "metadata": {},
   "outputs": [
    {
     "data": {
      "text/plain": [
       "val_f1        0.9815\n",
       "train_f1      0.9874\n",
       "val_acc       0.9816\n",
       "train_acc     0.9875\n",
       "val_loss      0.0607\n",
       "train_loss    0.0418\n",
       "reval_f1      0.9815\n",
       "reval_acc     0.9816\n",
       "reval_loss    0.0607\n",
       "test_f1       0.9858\n",
       "test_acc      0.9859\n",
       "test_loss     0.0458\n",
       "Name: 7, dtype: float64"
      ]
     },
     "metadata": {},
     "output_type": "display_data"
    }
   ],
   "source": [
    "if \"single-run\" in USAGE_MODE_LIST:\n",
    "    display(best_result[\"metrics\"].series_last)"
   ]
  },
  {
   "cell_type": "markdown",
   "metadata": {},
   "source": [
    "### Running a hyper-parameters search via Ray Tune"
   ]
  },
  {
   "cell_type": "code",
   "execution_count": 17,
   "metadata": {},
   "outputs": [],
   "source": [
    "SEARCH_SPACE_CONFIG = {\n",
    "    \"unfreeze_epochs\": [0, 1],\n",
    "    \"lr\": tune.uniform(1e-4, 1e-3),\n",
    "    \"warmup\": tune.choice([200, 500, 600, 1000]),\n",
    "    \"gradient_clip_val\": 0,\n",
    "    \"max_epochs\": tune.choice([6]),\n",
    "    \"batch_size\": tune.choice([16, 32, 64]),\n",
    "    \"n_classes\": N_CLASSES,\n",
    "}"
   ]
  },
  {
   "cell_type": "code",
   "execution_count": 18,
   "metadata": {},
   "outputs": [],
   "source": [
    "if FAST_DEV_RUN:\n",
    "    SEARCH_SPACE_CONFIG[\"max_epochs\"] = 2\n",
    "    SEARCH_SPACE_CONFIG[\"batch_size\"] = 32"
   ]
  },
  {
   "cell_type": "code",
   "execution_count": 19,
   "metadata": {},
   "outputs": [
    {
     "name": "stderr",
     "output_type": "stream",
     "text": [
      "2021-01-11 18:34:31,329\tINFO services.py:1171 -- View the Ray dashboard at \u001b[1m\u001b[32mhttp://192.168.1.135:8266\u001b[39m\u001b[22m\n"
     ]
    },
    {
     "name": "stdout",
     "output_type": "stream",
     "text": [
      "== Status ==\n",
      "Memory usage on this node: 18.2/31.3 GiB\n",
      "Using AsyncHyperBand: num_stopped=0\n",
      "Bracket: Iter 18.000: None | Iter 6.000: None\n",
      "Resources requested: 3/12 CPUs, 0.0/0 GPUs, 0.0/9.33 GiB heap, 0.0/3.22 GiB objects\n",
      "Result logdir: /home/peter/ray_results/boring-mnist_11_Jan_2021_18_34_32\n",
      "Number of trials: 1/3 (1 RUNNING)\n",
      "+----------------+----------+-------+-------------------+-------------+----------+---------------------+--------------+--------------+-------------+\n",
      "| Trial name     | status   | loc   | unfreeze_epochs   |          lr |   warmup |   gradient_clip_val |   max_epochs |   batch_size |   n_classes |\n",
      "|----------------+----------+-------+-------------------+-------------+----------+---------------------+--------------+--------------+-------------|\n",
      "| inner_804200b6 | RUNNING  |       | (0, 1)            | 0.000680938 |      200 |                   0 |            6 |           32 |          10 |\n",
      "+----------------+----------+-------+-------------------+-------------+----------+---------------------+--------------+--------------+-------------+\n",
      "\n",
      "\n",
      "== Status ==\n",
      "Memory usage on this node: 19.7/31.3 GiB\n",
      "Using AsyncHyperBand: num_stopped=0\n",
      "Bracket: Iter 18.000: None | Iter 6.000: None\n",
      "Resources requested: 9/12 CPUs, 0.0/0 GPUs, 0.0/9.33 GiB heap, 0.0/3.22 GiB objects\n",
      "Current best trial: 804cbc40 with val_f1_epoch=0.09338506311178207 and parameters={'unfreeze_epochs': (0, 1), 'lr': 0.0005271600916450124, 'warmup': 200, 'gradient_clip_val': 0, 'max_epochs': 6, 'batch_size': 64, 'n_classes': 10}\n",
      "Result logdir: /home/peter/ray_results/boring-mnist_11_Jan_2021_18_34_32\n",
      "Number of trials: 3/3 (3 RUNNING)\n",
      "+----------------+----------+-----------------------+-------------------+-------------+----------+---------------------+--------------+--------------+-------------+------------------+----------------+-----------------+----------------------+\n",
      "| Trial name     | status   | loc                   | unfreeze_epochs   |          lr |   warmup |   gradient_clip_val |   max_epochs |   batch_size |   n_classes |   val_loss_epoch |   val_f1_epoch |   val_acc_epoch |   training_iteration |\n",
      "|----------------+----------+-----------------------+-------------------+-------------+----------+---------------------+--------------+--------------+-------------+------------------+----------------+-----------------+----------------------|\n",
      "| inner_804200b6 | RUNNING  |                       | (0, 1)            | 0.000680938 |      200 |                   0 |            6 |           32 |          10 |                  |                |                 |                      |\n",
      "| inner_804cbc40 | RUNNING  | 192.168.1.135:1894936 | (0, 1)            | 0.00052716  |      200 |                   0 |            6 |           64 |          10 |          2.28607 |      0.0933851 |        0.162583 |                    1 |\n",
      "| inner_804ed548 | RUNNING  |                       | (0, 1)            | 0.000794071 |      600 |                   0 |            6 |           32 |          10 |                  |                |                 |                      |\n",
      "+----------------+----------+-----------------------+-------------------+-------------+----------+---------------------+--------------+--------------+-------------+------------------+----------------+-----------------+----------------------+\n",
      "\n",
      "\n",
      "== Status ==\n",
      "Memory usage on this node: 19.6/31.3 GiB\n",
      "Using AsyncHyperBand: num_stopped=0\n",
      "Bracket: Iter 18.000: None | Iter 6.000: None\n",
      "Resources requested: 9/12 CPUs, 0.0/0 GPUs, 0.0/9.33 GiB heap, 0.0/3.22 GiB objects\n",
      "Current best trial: 804cbc40 with val_f1_epoch=0.5952173471450806 and parameters={'unfreeze_epochs': (0, 1), 'lr': 0.0005271600916450124, 'warmup': 200, 'gradient_clip_val': 0, 'max_epochs': 6, 'batch_size': 64, 'n_classes': 10}\n",
      "Result logdir: /home/peter/ray_results/boring-mnist_11_Jan_2021_18_34_32\n",
      "Number of trials: 3/3 (3 RUNNING)\n",
      "+----------------+----------+-----------------------+-------------------+-------------+----------+---------------------+--------------+--------------+-------------+------------------+----------------+-----------------+----------------------+\n",
      "| Trial name     | status   | loc                   | unfreeze_epochs   |          lr |   warmup |   gradient_clip_val |   max_epochs |   batch_size |   n_classes |   val_loss_epoch |   val_f1_epoch |   val_acc_epoch |   training_iteration |\n",
      "|----------------+----------+-----------------------+-------------------+-------------+----------+---------------------+--------------+--------------+-------------+------------------+----------------+-----------------+----------------------|\n",
      "| inner_804200b6 | RUNNING  | 192.168.1.135:1894938 | (0, 1)            | 0.000680938 |      200 |                   0 |            6 |           32 |          10 |          2.26848 |       0.180621 |        0.259417 |                    1 |\n",
      "| inner_804cbc40 | RUNNING  | 192.168.1.135:1894936 | (0, 1)            | 0.00052716  |      200 |                   0 |            6 |           64 |          10 |          1.52947 |       0.595217 |        0.644917 |                    2 |\n",
      "| inner_804ed548 | RUNNING  | 192.168.1.135:1894935 | (0, 1)            | 0.000794071 |      600 |                   0 |            6 |           32 |          10 |          2.26749 |       0.192951 |        0.2735   |                    1 |\n",
      "+----------------+----------+-----------------------+-------------------+-------------+----------+---------------------+--------------+--------------+-------------+------------------+----------------+-----------------+----------------------+\n",
      "\n",
      "\n",
      "== Status ==\n",
      "Memory usage on this node: 19.6/31.3 GiB\n",
      "Using AsyncHyperBand: num_stopped=0\n",
      "Bracket: Iter 18.000: None | Iter 6.000: None\n",
      "Resources requested: 9/12 CPUs, 0.0/0 GPUs, 0.0/9.33 GiB heap, 0.0/3.22 GiB objects\n",
      "Current best trial: 804ed548 with val_f1_epoch=0.7670667767524719 and parameters={'unfreeze_epochs': (0, 1), 'lr': 0.0007940708599206269, 'warmup': 600, 'gradient_clip_val': 0, 'max_epochs': 6, 'batch_size': 32, 'n_classes': 10}\n",
      "Result logdir: /home/peter/ray_results/boring-mnist_11_Jan_2021_18_34_32\n",
      "Number of trials: 3/3 (3 RUNNING)\n",
      "+----------------+----------+-----------------------+-------------------+-------------+----------+---------------------+--------------+--------------+-------------+------------------+----------------+-----------------+----------------------+\n",
      "| Trial name     | status   | loc                   | unfreeze_epochs   |          lr |   warmup |   gradient_clip_val |   max_epochs |   batch_size |   n_classes |   val_loss_epoch |   val_f1_epoch |   val_acc_epoch |   training_iteration |\n",
      "|----------------+----------+-----------------------+-------------------+-------------+----------+---------------------+--------------+--------------+-------------+------------------+----------------+-----------------+----------------------|\n",
      "| inner_804200b6 | RUNNING  | 192.168.1.135:1894938 | (0, 1)            | 0.000680938 |      200 |                   0 |            6 |           32 |          10 |         2.26848  |       0.180621 |        0.259417 |                    1 |\n",
      "| inner_804cbc40 | RUNNING  | 192.168.1.135:1894936 | (0, 1)            | 0.00052716  |      200 |                   0 |            6 |           64 |          10 |         1.52947  |       0.595217 |        0.644917 |                    2 |\n",
      "| inner_804ed548 | RUNNING  | 192.168.1.135:1894935 | (0, 1)            | 0.000794071 |      600 |                   0 |            6 |           32 |          10 |         0.898785 |       0.767067 |        0.775083 |                    2 |\n",
      "+----------------+----------+-----------------------+-------------------+-------------+----------+---------------------+--------------+--------------+-------------+------------------+----------------+-----------------+----------------------+\n",
      "\n",
      "\n",
      "== Status ==\n",
      "Memory usage on this node: 20.1/31.3 GiB\n",
      "Using AsyncHyperBand: num_stopped=0\n",
      "Bracket: Iter 18.000: None | Iter 6.000: None\n",
      "Resources requested: 9/12 CPUs, 0.0/0 GPUs, 0.0/9.33 GiB heap, 0.0/3.22 GiB objects\n",
      "Current best trial: 804cbc40 with val_f1_epoch=0.9654356241226196 and parameters={'unfreeze_epochs': (0, 1), 'lr': 0.0005271600916450124, 'warmup': 200, 'gradient_clip_val': 0, 'max_epochs': 6, 'batch_size': 64, 'n_classes': 10}\n",
      "Result logdir: /home/peter/ray_results/boring-mnist_11_Jan_2021_18_34_32\n",
      "Number of trials: 3/3 (3 RUNNING)\n",
      "+----------------+----------+-----------------------+-------------------+-------------+----------+---------------------+--------------+--------------+-------------+------------------+----------------+-----------------+----------------------+\n",
      "| Trial name     | status   | loc                   | unfreeze_epochs   |          lr |   warmup |   gradient_clip_val |   max_epochs |   batch_size |   n_classes |   val_loss_epoch |   val_f1_epoch |   val_acc_epoch |   training_iteration |\n",
      "|----------------+----------+-----------------------+-------------------+-------------+----------+---------------------+--------------+--------------+-------------+------------------+----------------+-----------------+----------------------|\n",
      "| inner_804200b6 | RUNNING  | 192.168.1.135:1894938 | (0, 1)            | 0.000680938 |      200 |                   0 |            6 |           32 |          10 |         1.00679  |       0.741599 |        0.753083 |                    2 |\n",
      "| inner_804cbc40 | RUNNING  | 192.168.1.135:1894936 | (0, 1)            | 0.00052716  |      200 |                   0 |            6 |           64 |          10 |         0.111399 |       0.965436 |        0.965833 |                    4 |\n",
      "| inner_804ed548 | RUNNING  | 192.168.1.135:1894935 | (0, 1)            | 0.000794071 |      600 |                   0 |            6 |           32 |          10 |         0.898785 |       0.767067 |        0.775083 |                    2 |\n",
      "+----------------+----------+-----------------------+-------------------+-------------+----------+---------------------+--------------+--------------+-------------+------------------+----------------+-----------------+----------------------+\n",
      "\n",
      "\n",
      "== Status ==\n",
      "Memory usage on this node: 19.6/31.3 GiB\n",
      "Using AsyncHyperBand: num_stopped=0\n",
      "Bracket: Iter 18.000: None | Iter 6.000: None\n",
      "Resources requested: 9/12 CPUs, 0.0/0 GPUs, 0.0/9.33 GiB heap, 0.0/3.22 GiB objects\n",
      "Current best trial: 804cbc40 with val_f1_epoch=0.9707807302474976 and parameters={'unfreeze_epochs': (0, 1), 'lr': 0.0005271600916450124, 'warmup': 200, 'gradient_clip_val': 0, 'max_epochs': 6, 'batch_size': 64, 'n_classes': 10}\n",
      "Result logdir: /home/peter/ray_results/boring-mnist_11_Jan_2021_18_34_32\n",
      "Number of trials: 3/3 (3 RUNNING)\n",
      "+----------------+----------+-----------------------+-------------------+-------------+----------+---------------------+--------------+--------------+-------------+------------------+----------------+-----------------+----------------------+\n",
      "| Trial name     | status   | loc                   | unfreeze_epochs   |          lr |   warmup |   gradient_clip_val |   max_epochs |   batch_size |   n_classes |   val_loss_epoch |   val_f1_epoch |   val_acc_epoch |   training_iteration |\n",
      "|----------------+----------+-----------------------+-------------------+-------------+----------+---------------------+--------------+--------------+-------------+------------------+----------------+-----------------+----------------------|\n",
      "| inner_804200b6 | RUNNING  | 192.168.1.135:1894938 | (0, 1)            | 0.000680938 |      200 |                   0 |            6 |           32 |          10 |        0.130258  |       0.960991 |        0.961333 |                    3 |\n",
      "| inner_804cbc40 | RUNNING  | 192.168.1.135:1894936 | (0, 1)            | 0.00052716  |      200 |                   0 |            6 |           64 |          10 |        0.0964321 |       0.970781 |        0.971083 |                    5 |\n",
      "| inner_804ed548 | RUNNING  | 192.168.1.135:1894935 | (0, 1)            | 0.000794071 |      600 |                   0 |            6 |           32 |          10 |        0.123671  |       0.963281 |        0.963583 |                    3 |\n",
      "+----------------+----------+-----------------------+-------------------+-------------+----------+---------------------+--------------+--------------+-------------+------------------+----------------+-----------------+----------------------+\n",
      "\n",
      "\n",
      "== Status ==\n",
      "Memory usage on this node: 19.6/31.3 GiB\n",
      "Using AsyncHyperBand: num_stopped=0\n",
      "Bracket: Iter 18.000: None | Iter 6.000: None\n",
      "Resources requested: 9/12 CPUs, 0.0/0 GPUs, 0.0/9.33 GiB heap, 0.0/3.22 GiB objects\n",
      "Current best trial: 804ed548 with val_f1_epoch=0.9777634739875793 and parameters={'unfreeze_epochs': (0, 1), 'lr': 0.0007940708599206269, 'warmup': 600, 'gradient_clip_val': 0, 'max_epochs': 6, 'batch_size': 32, 'n_classes': 10}\n",
      "Result logdir: /home/peter/ray_results/boring-mnist_11_Jan_2021_18_34_32\n",
      "Number of trials: 3/3 (3 RUNNING)\n",
      "+----------------+----------+-----------------------+-------------------+-------------+----------+---------------------+--------------+--------------+-------------+------------------+----------------+-----------------+----------------------+\n",
      "| Trial name     | status   | loc                   | unfreeze_epochs   |          lr |   warmup |   gradient_clip_val |   max_epochs |   batch_size |   n_classes |   val_loss_epoch |   val_f1_epoch |   val_acc_epoch |   training_iteration |\n",
      "|----------------+----------+-----------------------+-------------------+-------------+----------+---------------------+--------------+--------------+-------------+------------------+----------------+-----------------+----------------------|\n",
      "| inner_804200b6 | RUNNING  | 192.168.1.135:1894938 | (0, 1)            | 0.000680938 |      200 |                   0 |            6 |           32 |          10 |        0.130258  |       0.960991 |        0.961333 |                    3 |\n",
      "| inner_804cbc40 | RUNNING  | 192.168.1.135:1894936 | (0, 1)            | 0.00052716  |      200 |                   0 |            6 |           64 |          10 |        0.0964321 |       0.970781 |        0.971083 |                    5 |\n",
      "| inner_804ed548 | RUNNING  | 192.168.1.135:1894935 | (0, 1)            | 0.000794071 |      600 |                   0 |            6 |           32 |          10 |        0.0715704 |       0.977763 |        0.978    |                    4 |\n",
      "+----------------+----------+-----------------------+-------------------+-------------+----------+---------------------+--------------+--------------+-------------+------------------+----------------+-----------------+----------------------+\n",
      "\n",
      "\n"
     ]
    },
    {
     "name": "stderr",
     "output_type": "stream",
     "text": [
      "2021-01-11 18:35:45,092\tINFO logger.py:293 -- Removed the following hyperparameter values when logging to tensorboard: {'unfreeze_epochs': (0, 1)}\n"
     ]
    },
    {
     "name": "stdout",
     "output_type": "stream",
     "text": [
      "== Status ==\n",
      "Memory usage on this node: 19.0/31.3 GiB\n",
      "Using AsyncHyperBand: num_stopped=0\n",
      "Bracket: Iter 18.000: None | Iter 6.000: 0.9730709195137024\n",
      "Resources requested: 6/12 CPUs, 0.0/0 GPUs, 0.0/9.33 GiB heap, 0.0/3.22 GiB objects\n",
      "Current best trial: 804ed548 with val_f1_epoch=0.9812755584716797 and parameters={'unfreeze_epochs': (0, 1), 'lr': 0.0007940708599206269, 'warmup': 600, 'gradient_clip_val': 0, 'max_epochs': 6, 'batch_size': 32, 'n_classes': 10}\n",
      "Result logdir: /home/peter/ray_results/boring-mnist_11_Jan_2021_18_34_32\n",
      "Number of trials: 3/3 (2 RUNNING, 1 TERMINATED)\n",
      "+----------------+------------+-----------------------+-------------------+-------------+----------+---------------------+--------------+--------------+-------------+------------------+----------------+-----------------+----------------------+\n",
      "| Trial name     | status     | loc                   | unfreeze_epochs   |          lr |   warmup |   gradient_clip_val |   max_epochs |   batch_size |   n_classes |   val_loss_epoch |   val_f1_epoch |   val_acc_epoch |   training_iteration |\n",
      "|----------------+------------+-----------------------+-------------------+-------------+----------+---------------------+--------------+--------------+-------------+------------------+----------------+-----------------+----------------------|\n",
      "| inner_804200b6 | RUNNING    | 192.168.1.135:1894938 | (0, 1)            | 0.000680938 |      200 |                   0 |            6 |           32 |          10 |        0.06963   |       0.97896  |        0.97925  |                    4 |\n",
      "| inner_804ed548 | RUNNING    | 192.168.1.135:1894935 | (0, 1)            | 0.000794071 |      600 |                   0 |            6 |           32 |          10 |        0.0601014 |       0.981276 |        0.9815   |                    5 |\n",
      "| inner_804cbc40 | TERMINATED |                       | (0, 1)            | 0.00052716  |      200 |                   0 |            6 |           64 |          10 |        0.0884452 |       0.973071 |        0.973333 |                    6 |\n",
      "+----------------+------------+-----------------------+-------------------+-------------+----------+---------------------+--------------+--------------+-------------+------------------+----------------+-----------------+----------------------+\n",
      "\n",
      "\n"
     ]
    },
    {
     "name": "stderr",
     "output_type": "stream",
     "text": [
      "2021-01-11 18:36:13,184\tINFO logger.py:293 -- Removed the following hyperparameter values when logging to tensorboard: {'unfreeze_epochs': (0, 1)}\n"
     ]
    },
    {
     "name": "stdout",
     "output_type": "stream",
     "text": [
      "== Status ==\n",
      "Memory usage on this node: 19.0/31.3 GiB\n",
      "Using AsyncHyperBand: num_stopped=0\n",
      "Bracket: Iter 18.000: None | Iter 6.000: 0.9798043767611186\n",
      "Resources requested: 6/12 CPUs, 0.0/0 GPUs, 0.0/9.33 GiB heap, 0.0/3.22 GiB objects\n",
      "Current best trial: 804ed548 with val_f1_epoch=0.9831711053848267 and parameters={'unfreeze_epochs': (0, 1), 'lr': 0.0007940708599206269, 'warmup': 600, 'gradient_clip_val': 0, 'max_epochs': 6, 'batch_size': 32, 'n_classes': 10}\n",
      "Result logdir: /home/peter/ray_results/boring-mnist_11_Jan_2021_18_34_32\n",
      "Number of trials: 3/3 (2 RUNNING, 1 TERMINATED)\n",
      "+----------------+------------+-----------------------+-------------------+-------------+----------+---------------------+--------------+--------------+-------------+------------------+----------------+-----------------+----------------------+\n",
      "| Trial name     | status     | loc                   | unfreeze_epochs   |          lr |   warmup |   gradient_clip_val |   max_epochs |   batch_size |   n_classes |   val_loss_epoch |   val_f1_epoch |   val_acc_epoch |   training_iteration |\n",
      "|----------------+------------+-----------------------+-------------------+-------------+----------+---------------------+--------------+--------------+-------------+------------------+----------------+-----------------+----------------------|\n",
      "| inner_804200b6 | RUNNING    | 192.168.1.135:1894938 | (0, 1)            | 0.000680938 |      200 |                   0 |            6 |           32 |          10 |        0.0635874 |       0.981203 |        0.981417 |                    5 |\n",
      "| inner_804ed548 | RUNNING    | 192.168.1.135:1894935 | (0, 1)            | 0.000794071 |      600 |                   0 |            6 |           32 |          10 |        0.0546668 |       0.983171 |        0.983333 |                    6 |\n",
      "| inner_804cbc40 | TERMINATED |                       | (0, 1)            | 0.00052716  |      200 |                   0 |            6 |           64 |          10 |        0.0884452 |       0.973071 |        0.973333 |                    6 |\n",
      "+----------------+------------+-----------------------+-------------------+-------------+----------+---------------------+--------------+--------------+-------------+------------------+----------------+-----------------+----------------------+\n",
      "\n",
      "\n"
     ]
    },
    {
     "name": "stderr",
     "output_type": "stream",
     "text": [
      "2021-01-11 18:36:13,486\tINFO logger.py:293 -- Removed the following hyperparameter values when logging to tensorboard: {'unfreeze_epochs': (0, 1)}\n",
      "2021-01-11 18:36:13,499\tINFO tune.py:448 -- Total run time: 101.33 seconds (101.28 seconds for the tuning loop).\n",
      "GPU available: False, used: False\n",
      "TPU available: None, using: 0 TPU cores\n"
     ]
    },
    {
     "name": "stdout",
     "output_type": "stream",
     "text": [
      "== Status ==\n",
      "Memory usage on this node: 18.9/31.3 GiB\n",
      "Using AsyncHyperBand: num_stopped=0\n",
      "Bracket: Iter 18.000: None | Iter 6.000: 0.9824943145116171\n",
      "Resources requested: 0/12 CPUs, 0.0/0 GPUs, 0.0/9.33 GiB heap, 0.0/3.22 GiB objects\n",
      "Current best trial: 804ed548 with val_f1_epoch=0.9831711053848267 and parameters={'unfreeze_epochs': (0, 1), 'lr': 0.0007940708599206269, 'warmup': 600, 'gradient_clip_val': 0, 'max_epochs': 6, 'batch_size': 32, 'n_classes': 10}\n",
      "Result logdir: /home/peter/ray_results/boring-mnist_11_Jan_2021_18_34_32\n",
      "Number of trials: 3/3 (3 TERMINATED)\n",
      "+----------------+------------+-------+-------------------+-------------+----------+---------------------+--------------+--------------+-------------+------------------+----------------+-----------------+----------------------+\n",
      "| Trial name     | status     | loc   | unfreeze_epochs   |          lr |   warmup |   gradient_clip_val |   max_epochs |   batch_size |   n_classes |   val_loss_epoch |   val_f1_epoch |   val_acc_epoch |   training_iteration |\n",
      "|----------------+------------+-------+-------------------+-------------+----------+---------------------+--------------+--------------+-------------+------------------+----------------+-----------------+----------------------|\n",
      "| inner_804200b6 | TERMINATED |       | (0, 1)            | 0.000680938 |      200 |                   0 |            6 |           32 |          10 |        0.0577719 |       0.982156 |        0.982333 |                    6 |\n",
      "| inner_804cbc40 | TERMINATED |       | (0, 1)            | 0.00052716  |      200 |                   0 |            6 |           64 |          10 |        0.0884452 |       0.973071 |        0.973333 |                    6 |\n",
      "| inner_804ed548 | TERMINATED |       | (0, 1)            | 0.000794071 |      600 |                   0 |            6 |           32 |          10 |        0.0546668 |       0.983171 |        0.983333 |                    6 |\n",
      "+----------------+------------+-------+-------------------+-------------+----------+---------------------+--------------+--------------+-------------+------------------+----------------+-----------------+----------------------+\n",
      "\n",
      "\n",
      "Best hyperparameters found were:  {'unfreeze_epochs': (0, 1), 'lr': 0.0007940708599206269, 'warmup': 600, 'gradient_clip_val': 0, 'max_epochs': 6, 'batch_size': 32, 'n_classes': 10}\n"
     ]
    },
    {
     "data": {
      "application/vnd.jupyter.widget-view+json": {
       "model_id": "",
       "version_major": 2,
       "version_minor": 0
      },
      "text/plain": [
       "HBox(children=(FloatProgress(value=1.0, bar_style='info', description='Testing', layout=Layout(flex='2'), max=…"
      ]
     },
     "metadata": {},
     "output_type": "display_data"
    },
    {
     "name": "stdout",
     "output_type": "stream",
     "text": [
      "|   epoch |   reval_f1 |   reval_acc | stage   |   reval_loss |\n",
      "|--------:|-----------:|------------:|:--------|-------------:|\n",
      "|       0 |     0.9832 |      0.9833 | Reval   |       0.0547 |\n"
     ]
    },
    {
     "data": {
      "application/vnd.jupyter.widget-view+json": {
       "model_id": "",
       "version_major": 2,
       "version_minor": 0
      },
      "text/plain": [
       "HBox(children=(FloatProgress(value=1.0, bar_style='info', description='Testing', layout=Layout(flex='2'), max=…"
      ]
     },
     "metadata": {},
     "output_type": "display_data"
    },
    {
     "name": "stdout",
     "output_type": "stream",
     "text": [
      "|   epoch |   test_f1 |   test_acc | stage   |   test_loss |\n",
      "|--------:|----------:|-----------:|:--------|------------:|\n",
      "|       0 |    0.9866 |     0.9867 | Test    |      0.0409 |\n"
     ]
    },
    {
     "data": {
      "text/html": [
       "<div>\n",
       "<style scoped>\n",
       "    .dataframe tbody tr th:only-of-type {\n",
       "        vertical-align: middle;\n",
       "    }\n",
       "\n",
       "    .dataframe tbody tr th {\n",
       "        vertical-align: top;\n",
       "    }\n",
       "\n",
       "    .dataframe thead th {\n",
       "        text-align: right;\n",
       "    }\n",
       "</style>\n",
       "<table border=\"1\" class=\"dataframe\">\n",
       "  <thead>\n",
       "    <tr style=\"text-align: right;\">\n",
       "      <th></th>\n",
       "      <th>stage</th>\n",
       "      <th>epoch</th>\n",
       "      <th>reval_f1</th>\n",
       "      <th>reval_acc</th>\n",
       "      <th>reval_loss</th>\n",
       "      <th>test_f1</th>\n",
       "      <th>test_acc</th>\n",
       "      <th>test_loss</th>\n",
       "    </tr>\n",
       "  </thead>\n",
       "  <tbody>\n",
       "    <tr>\n",
       "      <th>0</th>\n",
       "      <td>Reval</td>\n",
       "      <td>6</td>\n",
       "      <td>0.9832</td>\n",
       "      <td>0.9833</td>\n",
       "      <td>0.0547</td>\n",
       "      <td>NaN</td>\n",
       "      <td>NaN</td>\n",
       "      <td>NaN</td>\n",
       "    </tr>\n",
       "    <tr>\n",
       "      <th>1</th>\n",
       "      <td>Test</td>\n",
       "      <td>6</td>\n",
       "      <td>NaN</td>\n",
       "      <td>NaN</td>\n",
       "      <td>NaN</td>\n",
       "      <td>0.9866</td>\n",
       "      <td>0.9867</td>\n",
       "      <td>0.0409</td>\n",
       "    </tr>\n",
       "  </tbody>\n",
       "</table>\n",
       "</div>"
      ],
      "text/plain": [
       "   stage  epoch  reval_f1  reval_acc  reval_loss  test_f1  test_acc  test_loss\n",
       "0  Reval      6    0.9832     0.9833      0.0547      NaN       NaN        NaN\n",
       "1   Test      6       NaN        NaN         NaN   0.9866    0.9867     0.0409"
      ]
     },
     "metadata": {},
     "output_type": "display_data"
    },
    {
     "data": {
      "image/png": "[encoded data removed]",
      "text/plain": [
       "<Figure size 1440x864 with 3 Axes>"
      ]
     },
     "metadata": {
      "needs_background": "light"
     },
     "output_type": "display_data"
    }
   ],
   "source": [
    "if \"hyper-opt\" in USAGE_MODE_LIST:\n",
    "    best_result = runner.run_hyper_opt(\n",
    "        LMODULE_CLASS,\n",
    "        SEARCH_SPACE_CONFIG,\n",
    "        TUNE_CONFIG,\n",
    "    )\n",
    "    best_result[\"metrics\"].show_report()"
   ]
  },
  {
   "cell_type": "markdown",
   "metadata": {},
   "source": [
    "### Let us look at the results"
   ]
  },
  {
   "cell_type": "code",
   "execution_count": 20,
   "metadata": {},
   "outputs": [],
   "source": [
    "DEVICE = torch.device(\"cuda\" if torch.cuda.is_available() else \"cpu\")"
   ]
  },
  {
   "cell_type": "code",
   "execution_count": 21,
   "metadata": {},
   "outputs": [],
   "source": [
    "def predict_one_sample(model, inputs, device=DEVICE):\n",
    "    with torch.no_grad():\n",
    "        inputs = inputs.to(device)\n",
    "        model.eval()\n",
    "        logit = model(inputs).cpu()\n",
    "        probs = torch.nn.functional.softmax(logit, dim=-1).numpy()\n",
    "    return probs"
   ]
  },
  {
   "cell_type": "code",
   "execution_count": 22,
   "metadata": {},
   "outputs": [],
   "source": [
    "def show_some_predictions(loaders_dict, lmodule):\n",
    "    fig, ax = plt.subplots(nrows=3, ncols=3, figsize=(12, 12), sharey=True, sharex=True)\n",
    "    for fig_x in ax.flatten():\n",
    "        random_characters = int(np.random.uniform(0, 1000))\n",
    "        im_val, label = loaders_dict[\"val_dataset\"][random_characters]\n",
    "        img_label = \" \".join(\n",
    "            map(\n",
    "                lambda x: x.capitalize(),\n",
    "                MNIST.classes[label].split(\"_\"),\n",
    "            )\n",
    "        )\n",
    "\n",
    "        imshow(im_val.data.cpu(), title=img_label, plt_ax=fig_x)\n",
    "\n",
    "        fig_x.add_patch(patches.Rectangle((0, 0), 10, 5, color=\"white\"))\n",
    "        font0 = FontProperties()\n",
    "        font = font0.copy()\n",
    "        font.set_family(\"fantasy\")\n",
    "        prob_pred = predict_one_sample(lmodule, im_val.unsqueeze(0))\n",
    "        predicted_proba = np.max(prob_pred) * 100\n",
    "        y_pred = np.argmax(prob_pred)\n",
    "\n",
    "        predicted_label = MNIST.classes[y_pred]\n",
    "        predicted_label = (\n",
    "            predicted_label[: len(predicted_label) // 2]\n",
    "            + \"\\n\"\n",
    "            + predicted_label[len(predicted_label) // 2 :]\n",
    "        )\n",
    "        predicted_text = \"{} : {:.0f}%\".format(predicted_label, predicted_proba)\n",
    "\n",
    "        fig_x.text(\n",
    "            1,\n",
    "            2,\n",
    "            predicted_text,\n",
    "            horizontalalignment=\"left\",\n",
    "            fontproperties=font,\n",
    "            verticalalignment=\"top\",\n",
    "            fontsize=8,\n",
    "            color=\"black\",\n",
    "            fontweight=\"bold\",\n",
    "        )"
   ]
  },
  {
   "cell_type": "code",
   "execution_count": 23,
   "metadata": {},
   "outputs": [],
   "source": [
    "def predict(model, test_loader):\n",
    "    with torch.no_grad():\n",
    "        logits = []\n",
    "\n",
    "        for inputs, _ in test_loader:\n",
    "            inputs = inputs.to(DEVICE)\n",
    "            model.eval()\n",
    "            outputs = model(inputs).cpu()\n",
    "            logits.append(outputs)\n",
    "\n",
    "    probs = nn.functional.softmax(torch.cat(logits), dim=-1).numpy()\n",
    "    return probs"
   ]
  },
  {
   "cell_type": "code",
   "execution_count": 24,
   "metadata": {},
   "outputs": [
    {
     "data": {
      "image/png": "[encoded data removed]",
      "text/plain": [
       "<Figure size 864x864 with 9 Axes>"
      ]
     },
     "metadata": {
      "needs_background": "light"
     },
     "output_type": "display_data"
    }
   ],
   "source": [
    "show_some_predictions(loaders_dict, best_result[\"lmodule_best\"])"
   ]
  },
  {
   "cell_type": "markdown",
   "metadata": {},
   "source": [
    "### Re-train the model on all available data with the same hyper-parameters"
   ]
  },
  {
   "cell_type": "code",
   "execution_count": 25,
   "metadata": {},
   "outputs": [],
   "source": [
    "FT_TUNE_CONFIG = TUNE_CONFIG.copy()\n",
    "FT_TUNE_CONFIG[\"val_loader_name\"] = None\n",
    "FT_TUNE_CONFIG[\"train_loader_name\"] = \"full_train_loader\"\n",
    "FT_TUNE_CONFIG[\"metric_to_optimize\"] = \"train_f1_epoch\""
   ]
  },
  {
   "cell_type": "code",
   "execution_count": 26,
   "metadata": {},
   "outputs": [],
   "source": [
    "FT_CONFIG = CONFIG.copy()\n",
    "# Train for a number of epochs found to be optimal during the hyper-parameter search\n",
    "FT_CONFIG[\"max_epochs\"] = best_result[\"best_epoch\"]"
   ]
  },
  {
   "cell_type": "code",
   "execution_count": 27,
   "metadata": {},
   "outputs": [
    {
     "name": "stderr",
     "output_type": "stream",
     "text": [
      "GPU available: False, used: False\n",
      "TPU available: None, using: 0 TPU cores\n",
      "\n",
      "  | Name              | Type             | Params\n",
      "-------------------------------------------------------\n",
      "0 | model             | LeNetBoringMNIST | 60.1 K\n",
      "1 | train_metric_calc | LitMetricsCalc   | 0     \n",
      "2 | val_metric_calc   | LitMetricsCalc   | 0     \n",
      "3 | test_metric_calc  | LitMetricsCalc   | 0     \n",
      "-------------------------------------------------------\n",
      "0         Trainable params\n",
      "60.1 K    Non-trainable params\n",
      "60.1 K    Total params\n"
     ]
    },
    {
     "data": {
      "application/vnd.jupyter.widget-view+json": {
       "model_id": "ef8fca8cb95742ca94ba65c336508898",
       "version_major": 2,
       "version_minor": 0
      },
      "text/plain": [
       "HBox(children=(FloatProgress(value=1.0, bar_style='info', description='Validation sanity check', layout=Layout…"
      ]
     },
     "metadata": {},
     "output_type": "display_data"
    },
    {
     "data": {
      "application/vnd.jupyter.widget-view+json": {
       "model_id": "",
       "version_major": 2,
       "version_minor": 0
      },
      "text/plain": [
       "HBox(children=(FloatProgress(value=1.0, bar_style='info', description='Training', layout=Layout(flex='2'), max…"
      ]
     },
     "metadata": {},
     "output_type": "display_data"
    },
    {
     "name": "stdout",
     "output_type": "stream",
     "text": [
      "|   epoch |   train_f1 |   train_acc | stage   |   train_loss |\n",
      "|--------:|-----------:|------------:|:--------|-------------:|\n",
      "|       0 |     0.1088 |      0.1685 | Train   |       2.2849 |\n"
     ]
    },
    {
     "data": {
      "application/vnd.jupyter.widget-view+json": {
       "model_id": "",
       "version_major": 2,
       "version_minor": 0
      },
      "text/plain": [
       "HBox(children=(FloatProgress(value=1.0, bar_style='info', description='Training', layout=Layout(flex='2'), max…"
      ]
     },
     "metadata": {},
     "output_type": "display_data"
    },
    {
     "name": "stdout",
     "output_type": "stream",
     "text": [
      "|   epoch |   train_f1 |   train_acc | stage   |   train_loss |\n",
      "|--------:|-----------:|------------:|:--------|-------------:|\n",
      "|       1 |     0.6442 |      0.6674 | Train   |       1.3894 |\n"
     ]
    },
    {
     "data": {
      "application/vnd.jupyter.widget-view+json": {
       "model_id": "",
       "version_major": 2,
       "version_minor": 0
      },
      "text/plain": [
       "HBox(children=(FloatProgress(value=1.0, bar_style='info', description='Training', layout=Layout(flex='2'), max…"
      ]
     },
     "metadata": {},
     "output_type": "display_data"
    },
    {
     "name": "stdout",
     "output_type": "stream",
     "text": [
      "|   epoch |   train_f1 |   train_acc | stage   |   train_loss |\n",
      "|--------:|-----------:|------------:|:--------|-------------:|\n",
      "|       2 |     0.9428 |      0.9434 | Train   |       0.1863 |\n"
     ]
    },
    {
     "data": {
      "application/vnd.jupyter.widget-view+json": {
       "model_id": "",
       "version_major": 2,
       "version_minor": 0
      },
      "text/plain": [
       "HBox(children=(FloatProgress(value=1.0, bar_style='info', description='Training', layout=Layout(flex='2'), max…"
      ]
     },
     "metadata": {},
     "output_type": "display_data"
    },
    {
     "name": "stdout",
     "output_type": "stream",
     "text": [
      "|   epoch |   train_f1 |   train_acc | stage   |   train_loss |\n",
      "|--------:|-----------:|------------:|:--------|-------------:|\n",
      "|       3 |      0.978 |      0.9782 | Train   |       0.0717 |\n"
     ]
    },
    {
     "data": {
      "application/vnd.jupyter.widget-view+json": {
       "model_id": "",
       "version_major": 2,
       "version_minor": 0
      },
      "text/plain": [
       "HBox(children=(FloatProgress(value=1.0, bar_style='info', description='Training', layout=Layout(flex='2'), max…"
      ]
     },
     "metadata": {},
     "output_type": "display_data"
    },
    {
     "name": "stdout",
     "output_type": "stream",
     "text": [
      "|   epoch |   train_f1 |   train_acc | stage   |   train_loss |\n",
      "|--------:|-----------:|------------:|:--------|-------------:|\n",
      "|       4 |     0.9845 |      0.9846 | Train   |       0.0508 |\n"
     ]
    },
    {
     "data": {
      "application/vnd.jupyter.widget-view+json": {
       "model_id": "",
       "version_major": 2,
       "version_minor": 0
      },
      "text/plain": [
       "HBox(children=(FloatProgress(value=1.0, bar_style='info', description='Training', layout=Layout(flex='2'), max…"
      ]
     },
     "metadata": {},
     "output_type": "display_data"
    },
    {
     "name": "stdout",
     "output_type": "stream",
     "text": [
      "|   epoch |   train_f1 |   train_acc | stage   |   train_loss |\n",
      "|--------:|-----------:|------------:|:--------|-------------:|\n",
      "|       5 |     0.9891 |      0.9891 | Train   |       0.0365 |\n"
     ]
    },
    {
     "data": {
      "application/vnd.jupyter.widget-view+json": {
       "model_id": "",
       "version_major": 2,
       "version_minor": 0
      },
      "text/plain": [
       "HBox(children=(FloatProgress(value=1.0, bar_style='info', description='Training', layout=Layout(flex='2'), max…"
      ]
     },
     "metadata": {},
     "output_type": "display_data"
    },
    {
     "data": {
      "application/vnd.jupyter.widget-view+json": {
       "model_id": "",
       "version_major": 2,
       "version_minor": 0
      },
      "text/plain": [
       "HBox(children=(FloatProgress(value=1.0, bar_style='info', description='Testing', layout=Layout(flex='2'), max=…"
      ]
     },
     "metadata": {},
     "output_type": "display_data"
    },
    {
     "name": "stdout",
     "output_type": "stream",
     "text": [
      "|   epoch |   train_f1 |   test_f1 |   train_acc |   test_acc | stage   |   train_loss |   test_loss |\n",
      "|--------:|-----------:|----------:|------------:|-----------:|:--------|-------------:|------------:|\n",
      "|       5 |     0.9891 |    0.9859 |      0.9891 |      0.986 | Test    |       0.0365 |      0.0411 |\n"
     ]
    }
   ],
   "source": [
    "full_train_result = runner.run_single_trial(\n",
    "    LMODULE_CLASS,\n",
    "    FT_CONFIG,\n",
    "    FT_TUNE_CONFIG,\n",
    ")"
   ]
  },
  {
   "cell_type": "markdown",
   "metadata": {},
   "source": [
    "### Look at prediction results again"
   ]
  },
  {
   "cell_type": "code",
   "execution_count": 28,
   "metadata": {
    "collapsed": false,
    "jupyter": {
     "outputs_hidden": false
    },
    "pycharm": {
     "name": "#%%\n"
    }
   },
   "outputs": [
    {
     "data": {
      "image/png": "[encoded data removed]",
      "text/plain": [
       "<Figure size 864x864 with 9 Axes>"
      ]
     },
     "metadata": {
      "needs_background": "light"
     },
     "output_type": "display_data"
    }
   ],
   "source": [
    "show_some_predictions(loaders_dict, full_train_result[\"lmodule_best\"])"
   ]
  },
  {
   "cell_type": "markdown",
   "metadata": {},
   "source": [
    "### Show the report comparing the single run and the result of hyper-parameter optimization"
   ]
  },
  {
   "cell_type": "code",
   "execution_count": 33,
   "metadata": {},
   "outputs": [
    {
     "data": {
      "text/html": [
       "<div>\n",
       "<style scoped>\n",
       "    .dataframe tbody tr th:only-of-type {\n",
       "        vertical-align: middle;\n",
       "    }\n",
       "\n",
       "    .dataframe tbody tr th {\n",
       "        vertical-align: top;\n",
       "    }\n",
       "\n",
       "    .dataframe thead th {\n",
       "        text-align: right;\n",
       "    }\n",
       "</style>\n",
       "<table border=\"1\" class=\"dataframe\">\n",
       "  <thead>\n",
       "    <tr style=\"text-align: right;\">\n",
       "      <th></th>\n",
       "      <th>test_f1</th>\n",
       "      <th>test_acc</th>\n",
       "      <th>test_loss</th>\n",
       "      <th>run</th>\n",
       "    </tr>\n",
       "  </thead>\n",
       "  <tbody>\n",
       "    <tr>\n",
       "      <th>1</th>\n",
       "      <td>0.9866</td>\n",
       "      <td>0.9867</td>\n",
       "      <td>0.0409</td>\n",
       "      <td>hyper-opt-LitBoringMNIST</td>\n",
       "    </tr>\n",
       "    <tr>\n",
       "      <th>6</th>\n",
       "      <td>0.9859</td>\n",
       "      <td>0.9860</td>\n",
       "      <td>0.0411</td>\n",
       "      <td>single-trial-LitBoringMNIST@2</td>\n",
       "    </tr>\n",
       "    <tr>\n",
       "      <th>7</th>\n",
       "      <td>0.9858</td>\n",
       "      <td>0.9859</td>\n",
       "      <td>0.0458</td>\n",
       "      <td>single-trial-LitBoringMNIST</td>\n",
       "    </tr>\n",
       "  </tbody>\n",
       "</table>\n",
       "</div>"
      ],
      "text/plain": [
       "  test_f1 test_acc test_loss                            run\n",
       "1  0.9866   0.9867    0.0409       hyper-opt-LitBoringMNIST\n",
       "6  0.9859   0.9860    0.0411  single-trial-LitBoringMNIST@2\n",
       "7  0.9858   0.9859    0.0458    single-trial-LitBoringMNIST"
      ]
     },
     "metadata": {},
     "output_type": "display_data"
    },
    {
     "data": {
      "image/png": "[encoded data removed]",
      "text/plain": [
       "<Figure size 1440x720 with 3 Axes>"
      ]
     },
     "metadata": {
      "needs_background": "light"
     },
     "output_type": "display_data"
    }
   ],
   "source": [
    "runner.show_metric_report(sort_by_metric_list=['test_f1', 'test_acc', \"test_loss\"])"
   ]
  },
  {
   "cell_type": "markdown",
   "metadata": {},
   "source": [
    "### Get the last observed metrics for both single-run and hyper-parameter optimization as Pandas DataFrame"
   ]
  },
  {
   "cell_type": "code",
   "execution_count": 30,
   "metadata": {},
   "outputs": [
    {
     "data": {
      "text/html": [
       "<div>\n",
       "<style scoped>\n",
       "    .dataframe tbody tr th:only-of-type {\n",
       "        vertical-align: middle;\n",
       "    }\n",
       "\n",
       "    .dataframe tbody tr th {\n",
       "        vertical-align: top;\n",
       "    }\n",
       "\n",
       "    .dataframe thead th {\n",
       "        text-align: right;\n",
       "    }\n",
       "</style>\n",
       "<table border=\"1\" class=\"dataframe\">\n",
       "  <thead>\n",
       "    <tr style=\"text-align: right;\">\n",
       "      <th></th>\n",
       "      <th>val_f1</th>\n",
       "      <th>train_f1</th>\n",
       "      <th>val_acc</th>\n",
       "      <th>train_acc</th>\n",
       "      <th>val_loss</th>\n",
       "      <th>train_loss</th>\n",
       "      <th>reval_f1</th>\n",
       "      <th>reval_acc</th>\n",
       "      <th>reval_loss</th>\n",
       "      <th>test_f1</th>\n",
       "      <th>test_acc</th>\n",
       "      <th>test_loss</th>\n",
       "      <th>run</th>\n",
       "    </tr>\n",
       "  </thead>\n",
       "  <tbody>\n",
       "    <tr>\n",
       "      <th>7</th>\n",
       "      <td>0.9815</td>\n",
       "      <td>0.9874</td>\n",
       "      <td>0.9816</td>\n",
       "      <td>0.9875</td>\n",
       "      <td>0.0607</td>\n",
       "      <td>0.0418</td>\n",
       "      <td>0.9815</td>\n",
       "      <td>0.9816</td>\n",
       "      <td>0.0607</td>\n",
       "      <td>0.9858</td>\n",
       "      <td>0.9859</td>\n",
       "      <td>0.0458</td>\n",
       "      <td>single-trial-LitBoringMNIST</td>\n",
       "    </tr>\n",
       "    <tr>\n",
       "      <th>1</th>\n",
       "      <td>NaN</td>\n",
       "      <td>NaN</td>\n",
       "      <td>NaN</td>\n",
       "      <td>NaN</td>\n",
       "      <td>NaN</td>\n",
       "      <td>NaN</td>\n",
       "      <td>0.9832</td>\n",
       "      <td>0.9833</td>\n",
       "      <td>0.0547</td>\n",
       "      <td>0.9866</td>\n",
       "      <td>0.9867</td>\n",
       "      <td>0.0409</td>\n",
       "      <td>hyper-opt-LitBoringMNIST</td>\n",
       "    </tr>\n",
       "    <tr>\n",
       "      <th>6</th>\n",
       "      <td>NaN</td>\n",
       "      <td>0.9891</td>\n",
       "      <td>NaN</td>\n",
       "      <td>0.9891</td>\n",
       "      <td>NaN</td>\n",
       "      <td>0.0365</td>\n",
       "      <td>NaN</td>\n",
       "      <td>NaN</td>\n",
       "      <td>NaN</td>\n",
       "      <td>0.9859</td>\n",
       "      <td>0.9860</td>\n",
       "      <td>0.0411</td>\n",
       "      <td>single-trial-LitBoringMNIST@2</td>\n",
       "    </tr>\n",
       "  </tbody>\n",
       "</table>\n",
       "</div>"
      ],
      "text/plain": [
       "   val_f1 train_f1 val_acc train_acc val_loss train_loss reval_f1 reval_acc  \\\n",
       "7  0.9815   0.9874  0.9816    0.9875   0.0607     0.0418   0.9815    0.9816   \n",
       "1     NaN      NaN     NaN       NaN      NaN        NaN   0.9832    0.9833   \n",
       "6     NaN   0.9891     NaN    0.9891      NaN     0.0365      NaN       NaN   \n",
       "\n",
       "  reval_loss test_f1 test_acc test_loss                            run  \n",
       "7     0.0607  0.9858   0.9859    0.0458    single-trial-LitBoringMNIST  \n",
       "1     0.0547  0.9866   0.9867    0.0409       hyper-opt-LitBoringMNIST  \n",
       "6        NaN  0.9859   0.9860    0.0411  single-trial-LitBoringMNIST@2  "
      ]
     },
     "execution_count": 30,
     "metadata": {},
     "output_type": "execute_result"
    }
   ],
   "source": [
    "runner.get_metrics()['run_x_last_metric_df']"
   ]
  },
  {
   "cell_type": "markdown",
   "metadata": {},
   "source": [
    "### Get the time-series metrics for both single-run and hyper-parameter optimization as Pandas DataFrame"
   ]
  },
  {
   "cell_type": "code",
   "execution_count": 31,
   "metadata": {},
   "outputs": [
    {
     "data": {
      "text/html": [
       "<div>\n",
       "<style scoped>\n",
       "    .dataframe tbody tr th:only-of-type {\n",
       "        vertical-align: middle;\n",
       "    }\n",
       "\n",
       "    .dataframe tbody tr th {\n",
       "        vertical-align: top;\n",
       "    }\n",
       "\n",
       "    .dataframe thead th {\n",
       "        text-align: right;\n",
       "    }\n",
       "</style>\n",
       "<table border=\"1\" class=\"dataframe\">\n",
       "  <thead>\n",
       "    <tr style=\"text-align: right;\">\n",
       "      <th></th>\n",
       "      <th>stage</th>\n",
       "      <th>epoch</th>\n",
       "      <th>stage-list</th>\n",
       "      <th>val-single-trial-LitBoringMNIST_f1</th>\n",
       "      <th>train-single-trial-LitBoringMNIST_f1</th>\n",
       "      <th>val-single-trial-LitBoringMNIST_acc</th>\n",
       "      <th>train-single-trial-LitBoringMNIST_acc</th>\n",
       "      <th>val-single-trial-LitBoringMNIST_loss</th>\n",
       "      <th>train-single-trial-LitBoringMNIST_loss</th>\n",
       "      <th>reval-single-trial-LitBoringMNIST_f1</th>\n",
       "      <th>...</th>\n",
       "      <th>reval-hyper-opt-LitBoringMNIST_loss</th>\n",
       "      <th>test-hyper-opt-LitBoringMNIST_f1</th>\n",
       "      <th>test-hyper-opt-LitBoringMNIST_acc</th>\n",
       "      <th>test-hyper-opt-LitBoringMNIST_loss</th>\n",
       "      <th>train-single-trial-LitBoringMNIST@2_f1</th>\n",
       "      <th>train-single-trial-LitBoringMNIST@2_acc</th>\n",
       "      <th>train-single-trial-LitBoringMNIST@2_loss</th>\n",
       "      <th>test-single-trial-LitBoringMNIST@2_f1</th>\n",
       "      <th>test-single-trial-LitBoringMNIST@2_acc</th>\n",
       "      <th>test-single-trial-LitBoringMNIST@2_loss</th>\n",
       "    </tr>\n",
       "  </thead>\n",
       "  <tbody>\n",
       "    <tr>\n",
       "      <th>0</th>\n",
       "      <td>Train/Val</td>\n",
       "      <td>0</td>\n",
       "      <td>(train, val)</td>\n",
       "      <td>0.1747</td>\n",
       "      <td>0.0951</td>\n",
       "      <td>0.2534</td>\n",
       "      <td>0.1639</td>\n",
       "      <td>2.2725</td>\n",
       "      <td>2.2897</td>\n",
       "      <td>NaN</td>\n",
       "      <td>...</td>\n",
       "      <td>NaN</td>\n",
       "      <td>NaN</td>\n",
       "      <td>NaN</td>\n",
       "      <td>NaN</td>\n",
       "      <td>NaN</td>\n",
       "      <td>NaN</td>\n",
       "      <td>NaN</td>\n",
       "      <td>NaN</td>\n",
       "      <td>NaN</td>\n",
       "      <td>NaN</td>\n",
       "    </tr>\n",
       "    <tr>\n",
       "      <th>1</th>\n",
       "      <td>Train/Val</td>\n",
       "      <td>1</td>\n",
       "      <td>(train, val)</td>\n",
       "      <td>0.7387</td>\n",
       "      <td>0.5947</td>\n",
       "      <td>0.7512</td>\n",
       "      <td>0.6287</td>\n",
       "      <td>1.0247</td>\n",
       "      <td>1.5376</td>\n",
       "      <td>NaN</td>\n",
       "      <td>...</td>\n",
       "      <td>NaN</td>\n",
       "      <td>NaN</td>\n",
       "      <td>NaN</td>\n",
       "      <td>NaN</td>\n",
       "      <td>NaN</td>\n",
       "      <td>NaN</td>\n",
       "      <td>NaN</td>\n",
       "      <td>NaN</td>\n",
       "      <td>NaN</td>\n",
       "      <td>NaN</td>\n",
       "    </tr>\n",
       "    <tr>\n",
       "      <th>2</th>\n",
       "      <td>Train/Val</td>\n",
       "      <td>2</td>\n",
       "      <td>(train, val)</td>\n",
       "      <td>0.9642</td>\n",
       "      <td>0.9305</td>\n",
       "      <td>0.9646</td>\n",
       "      <td>0.9311</td>\n",
       "      <td>0.1153</td>\n",
       "      <td>0.2273</td>\n",
       "      <td>NaN</td>\n",
       "      <td>...</td>\n",
       "      <td>NaN</td>\n",
       "      <td>NaN</td>\n",
       "      <td>NaN</td>\n",
       "      <td>NaN</td>\n",
       "      <td>NaN</td>\n",
       "      <td>NaN</td>\n",
       "      <td>NaN</td>\n",
       "      <td>NaN</td>\n",
       "      <td>NaN</td>\n",
       "      <td>NaN</td>\n",
       "    </tr>\n",
       "    <tr>\n",
       "      <th>3</th>\n",
       "      <td>Train/Val</td>\n",
       "      <td>3</td>\n",
       "      <td>(train, val)</td>\n",
       "      <td>0.9757</td>\n",
       "      <td>0.9742</td>\n",
       "      <td>0.9760</td>\n",
       "      <td>0.9744</td>\n",
       "      <td>0.0753</td>\n",
       "      <td>0.0837</td>\n",
       "      <td>NaN</td>\n",
       "      <td>...</td>\n",
       "      <td>NaN</td>\n",
       "      <td>NaN</td>\n",
       "      <td>NaN</td>\n",
       "      <td>NaN</td>\n",
       "      <td>NaN</td>\n",
       "      <td>NaN</td>\n",
       "      <td>NaN</td>\n",
       "      <td>NaN</td>\n",
       "      <td>NaN</td>\n",
       "      <td>NaN</td>\n",
       "    </tr>\n",
       "    <tr>\n",
       "      <th>4</th>\n",
       "      <td>Train/Val</td>\n",
       "      <td>4</td>\n",
       "      <td>(train, val)</td>\n",
       "      <td>0.9794</td>\n",
       "      <td>0.9831</td>\n",
       "      <td>0.9797</td>\n",
       "      <td>0.9833</td>\n",
       "      <td>0.0666</td>\n",
       "      <td>0.0564</td>\n",
       "      <td>NaN</td>\n",
       "      <td>...</td>\n",
       "      <td>NaN</td>\n",
       "      <td>NaN</td>\n",
       "      <td>NaN</td>\n",
       "      <td>NaN</td>\n",
       "      <td>NaN</td>\n",
       "      <td>NaN</td>\n",
       "      <td>NaN</td>\n",
       "      <td>NaN</td>\n",
       "      <td>NaN</td>\n",
       "      <td>NaN</td>\n",
       "    </tr>\n",
       "    <tr>\n",
       "      <th>5</th>\n",
       "      <td>Train/Val</td>\n",
       "      <td>5</td>\n",
       "      <td>(train, val)</td>\n",
       "      <td>0.9815</td>\n",
       "      <td>0.9874</td>\n",
       "      <td>0.9816</td>\n",
       "      <td>0.9875</td>\n",
       "      <td>0.0607</td>\n",
       "      <td>0.0418</td>\n",
       "      <td>NaN</td>\n",
       "      <td>...</td>\n",
       "      <td>NaN</td>\n",
       "      <td>NaN</td>\n",
       "      <td>NaN</td>\n",
       "      <td>NaN</td>\n",
       "      <td>NaN</td>\n",
       "      <td>NaN</td>\n",
       "      <td>NaN</td>\n",
       "      <td>NaN</td>\n",
       "      <td>NaN</td>\n",
       "      <td>NaN</td>\n",
       "    </tr>\n",
       "    <tr>\n",
       "      <th>6</th>\n",
       "      <td>Reval</td>\n",
       "      <td>5</td>\n",
       "      <td>(reval,)</td>\n",
       "      <td>0.9815</td>\n",
       "      <td>0.9874</td>\n",
       "      <td>0.9816</td>\n",
       "      <td>0.9875</td>\n",
       "      <td>0.0607</td>\n",
       "      <td>0.0418</td>\n",
       "      <td>0.9815</td>\n",
       "      <td>...</td>\n",
       "      <td>NaN</td>\n",
       "      <td>NaN</td>\n",
       "      <td>NaN</td>\n",
       "      <td>NaN</td>\n",
       "      <td>NaN</td>\n",
       "      <td>NaN</td>\n",
       "      <td>NaN</td>\n",
       "      <td>NaN</td>\n",
       "      <td>NaN</td>\n",
       "      <td>NaN</td>\n",
       "    </tr>\n",
       "    <tr>\n",
       "      <th>7</th>\n",
       "      <td>Test</td>\n",
       "      <td>5</td>\n",
       "      <td>(test,)</td>\n",
       "      <td>0.9815</td>\n",
       "      <td>0.9874</td>\n",
       "      <td>0.9816</td>\n",
       "      <td>0.9875</td>\n",
       "      <td>0.0607</td>\n",
       "      <td>0.0418</td>\n",
       "      <td>NaN</td>\n",
       "      <td>...</td>\n",
       "      <td>NaN</td>\n",
       "      <td>NaN</td>\n",
       "      <td>NaN</td>\n",
       "      <td>NaN</td>\n",
       "      <td>0.9891</td>\n",
       "      <td>0.9891</td>\n",
       "      <td>0.0365</td>\n",
       "      <td>0.9859</td>\n",
       "      <td>0.986</td>\n",
       "      <td>0.0411</td>\n",
       "    </tr>\n",
       "    <tr>\n",
       "      <th>8</th>\n",
       "      <td>Reval</td>\n",
       "      <td>6</td>\n",
       "      <td>(reval,)</td>\n",
       "      <td>NaN</td>\n",
       "      <td>NaN</td>\n",
       "      <td>NaN</td>\n",
       "      <td>NaN</td>\n",
       "      <td>NaN</td>\n",
       "      <td>NaN</td>\n",
       "      <td>NaN</td>\n",
       "      <td>...</td>\n",
       "      <td>0.0547</td>\n",
       "      <td>NaN</td>\n",
       "      <td>NaN</td>\n",
       "      <td>NaN</td>\n",
       "      <td>NaN</td>\n",
       "      <td>NaN</td>\n",
       "      <td>NaN</td>\n",
       "      <td>NaN</td>\n",
       "      <td>NaN</td>\n",
       "      <td>NaN</td>\n",
       "    </tr>\n",
       "    <tr>\n",
       "      <th>9</th>\n",
       "      <td>Test</td>\n",
       "      <td>6</td>\n",
       "      <td>(test,)</td>\n",
       "      <td>NaN</td>\n",
       "      <td>NaN</td>\n",
       "      <td>NaN</td>\n",
       "      <td>NaN</td>\n",
       "      <td>NaN</td>\n",
       "      <td>NaN</td>\n",
       "      <td>NaN</td>\n",
       "      <td>...</td>\n",
       "      <td>NaN</td>\n",
       "      <td>0.9866</td>\n",
       "      <td>0.9867</td>\n",
       "      <td>0.0409</td>\n",
       "      <td>NaN</td>\n",
       "      <td>NaN</td>\n",
       "      <td>NaN</td>\n",
       "      <td>NaN</td>\n",
       "      <td>NaN</td>\n",
       "      <td>NaN</td>\n",
       "    </tr>\n",
       "    <tr>\n",
       "      <th>10</th>\n",
       "      <td>Train</td>\n",
       "      <td>0</td>\n",
       "      <td>(train,)</td>\n",
       "      <td>NaN</td>\n",
       "      <td>NaN</td>\n",
       "      <td>NaN</td>\n",
       "      <td>NaN</td>\n",
       "      <td>NaN</td>\n",
       "      <td>NaN</td>\n",
       "      <td>NaN</td>\n",
       "      <td>...</td>\n",
       "      <td>NaN</td>\n",
       "      <td>NaN</td>\n",
       "      <td>NaN</td>\n",
       "      <td>NaN</td>\n",
       "      <td>0.1088</td>\n",
       "      <td>0.1685</td>\n",
       "      <td>2.2849</td>\n",
       "      <td>NaN</td>\n",
       "      <td>NaN</td>\n",
       "      <td>NaN</td>\n",
       "    </tr>\n",
       "    <tr>\n",
       "      <th>11</th>\n",
       "      <td>Train</td>\n",
       "      <td>1</td>\n",
       "      <td>(train,)</td>\n",
       "      <td>NaN</td>\n",
       "      <td>NaN</td>\n",
       "      <td>NaN</td>\n",
       "      <td>NaN</td>\n",
       "      <td>NaN</td>\n",
       "      <td>NaN</td>\n",
       "      <td>NaN</td>\n",
       "      <td>...</td>\n",
       "      <td>NaN</td>\n",
       "      <td>NaN</td>\n",
       "      <td>NaN</td>\n",
       "      <td>NaN</td>\n",
       "      <td>0.6442</td>\n",
       "      <td>0.6674</td>\n",
       "      <td>1.3894</td>\n",
       "      <td>NaN</td>\n",
       "      <td>NaN</td>\n",
       "      <td>NaN</td>\n",
       "    </tr>\n",
       "    <tr>\n",
       "      <th>12</th>\n",
       "      <td>Train</td>\n",
       "      <td>2</td>\n",
       "      <td>(train,)</td>\n",
       "      <td>NaN</td>\n",
       "      <td>NaN</td>\n",
       "      <td>NaN</td>\n",
       "      <td>NaN</td>\n",
       "      <td>NaN</td>\n",
       "      <td>NaN</td>\n",
       "      <td>NaN</td>\n",
       "      <td>...</td>\n",
       "      <td>NaN</td>\n",
       "      <td>NaN</td>\n",
       "      <td>NaN</td>\n",
       "      <td>NaN</td>\n",
       "      <td>0.9428</td>\n",
       "      <td>0.9434</td>\n",
       "      <td>0.1863</td>\n",
       "      <td>NaN</td>\n",
       "      <td>NaN</td>\n",
       "      <td>NaN</td>\n",
       "    </tr>\n",
       "    <tr>\n",
       "      <th>13</th>\n",
       "      <td>Train</td>\n",
       "      <td>3</td>\n",
       "      <td>(train,)</td>\n",
       "      <td>NaN</td>\n",
       "      <td>NaN</td>\n",
       "      <td>NaN</td>\n",
       "      <td>NaN</td>\n",
       "      <td>NaN</td>\n",
       "      <td>NaN</td>\n",
       "      <td>NaN</td>\n",
       "      <td>...</td>\n",
       "      <td>NaN</td>\n",
       "      <td>NaN</td>\n",
       "      <td>NaN</td>\n",
       "      <td>NaN</td>\n",
       "      <td>0.9780</td>\n",
       "      <td>0.9782</td>\n",
       "      <td>0.0717</td>\n",
       "      <td>NaN</td>\n",
       "      <td>NaN</td>\n",
       "      <td>NaN</td>\n",
       "    </tr>\n",
       "    <tr>\n",
       "      <th>14</th>\n",
       "      <td>Train</td>\n",
       "      <td>4</td>\n",
       "      <td>(train,)</td>\n",
       "      <td>NaN</td>\n",
       "      <td>NaN</td>\n",
       "      <td>NaN</td>\n",
       "      <td>NaN</td>\n",
       "      <td>NaN</td>\n",
       "      <td>NaN</td>\n",
       "      <td>NaN</td>\n",
       "      <td>...</td>\n",
       "      <td>NaN</td>\n",
       "      <td>NaN</td>\n",
       "      <td>NaN</td>\n",
       "      <td>NaN</td>\n",
       "      <td>0.9845</td>\n",
       "      <td>0.9846</td>\n",
       "      <td>0.0508</td>\n",
       "      <td>NaN</td>\n",
       "      <td>NaN</td>\n",
       "      <td>NaN</td>\n",
       "    </tr>\n",
       "    <tr>\n",
       "      <th>15</th>\n",
       "      <td>Train</td>\n",
       "      <td>5</td>\n",
       "      <td>(train,)</td>\n",
       "      <td>NaN</td>\n",
       "      <td>NaN</td>\n",
       "      <td>NaN</td>\n",
       "      <td>NaN</td>\n",
       "      <td>NaN</td>\n",
       "      <td>NaN</td>\n",
       "      <td>NaN</td>\n",
       "      <td>...</td>\n",
       "      <td>NaN</td>\n",
       "      <td>NaN</td>\n",
       "      <td>NaN</td>\n",
       "      <td>NaN</td>\n",
       "      <td>0.9891</td>\n",
       "      <td>0.9891</td>\n",
       "      <td>0.0365</td>\n",
       "      <td>NaN</td>\n",
       "      <td>NaN</td>\n",
       "      <td>NaN</td>\n",
       "    </tr>\n",
       "  </tbody>\n",
       "</table>\n",
       "<p>16 rows × 27 columns</p>\n",
       "</div>"
      ],
      "text/plain": [
       "        stage  epoch    stage-list  val-single-trial-LitBoringMNIST_f1  \\\n",
       "0   Train/Val      0  (train, val)                              0.1747   \n",
       "1   Train/Val      1  (train, val)                              0.7387   \n",
       "2   Train/Val      2  (train, val)                              0.9642   \n",
       "3   Train/Val      3  (train, val)                              0.9757   \n",
       "4   Train/Val      4  (train, val)                              0.9794   \n",
       "5   Train/Val      5  (train, val)                              0.9815   \n",
       "6       Reval      5      (reval,)                              0.9815   \n",
       "7        Test      5       (test,)                              0.9815   \n",
       "8       Reval      6      (reval,)                                 NaN   \n",
       "9        Test      6       (test,)                                 NaN   \n",
       "10      Train      0      (train,)                                 NaN   \n",
       "11      Train      1      (train,)                                 NaN   \n",
       "12      Train      2      (train,)                                 NaN   \n",
       "13      Train      3      (train,)                                 NaN   \n",
       "14      Train      4      (train,)                                 NaN   \n",
       "15      Train      5      (train,)                                 NaN   \n",
       "\n",
       "    train-single-trial-LitBoringMNIST_f1  val-single-trial-LitBoringMNIST_acc  \\\n",
       "0                                 0.0951                               0.2534   \n",
       "1                                 0.5947                               0.7512   \n",
       "2                                 0.9305                               0.9646   \n",
       "3                                 0.9742                               0.9760   \n",
       "4                                 0.9831                               0.9797   \n",
       "5                                 0.9874                               0.9816   \n",
       "6                                 0.9874                               0.9816   \n",
       "7                                 0.9874                               0.9816   \n",
       "8                                    NaN                                  NaN   \n",
       "9                                    NaN                                  NaN   \n",
       "10                                   NaN                                  NaN   \n",
       "11                                   NaN                                  NaN   \n",
       "12                                   NaN                                  NaN   \n",
       "13                                   NaN                                  NaN   \n",
       "14                                   NaN                                  NaN   \n",
       "15                                   NaN                                  NaN   \n",
       "\n",
       "    train-single-trial-LitBoringMNIST_acc  \\\n",
       "0                                  0.1639   \n",
       "1                                  0.6287   \n",
       "2                                  0.9311   \n",
       "3                                  0.9744   \n",
       "4                                  0.9833   \n",
       "5                                  0.9875   \n",
       "6                                  0.9875   \n",
       "7                                  0.9875   \n",
       "8                                     NaN   \n",
       "9                                     NaN   \n",
       "10                                    NaN   \n",
       "11                                    NaN   \n",
       "12                                    NaN   \n",
       "13                                    NaN   \n",
       "14                                    NaN   \n",
       "15                                    NaN   \n",
       "\n",
       "    val-single-trial-LitBoringMNIST_loss  \\\n",
       "0                                 2.2725   \n",
       "1                                 1.0247   \n",
       "2                                 0.1153   \n",
       "3                                 0.0753   \n",
       "4                                 0.0666   \n",
       "5                                 0.0607   \n",
       "6                                 0.0607   \n",
       "7                                 0.0607   \n",
       "8                                    NaN   \n",
       "9                                    NaN   \n",
       "10                                   NaN   \n",
       "11                                   NaN   \n",
       "12                                   NaN   \n",
       "13                                   NaN   \n",
       "14                                   NaN   \n",
       "15                                   NaN   \n",
       "\n",
       "    train-single-trial-LitBoringMNIST_loss  \\\n",
       "0                                   2.2897   \n",
       "1                                   1.5376   \n",
       "2                                   0.2273   \n",
       "3                                   0.0837   \n",
       "4                                   0.0564   \n",
       "5                                   0.0418   \n",
       "6                                   0.0418   \n",
       "7                                   0.0418   \n",
       "8                                      NaN   \n",
       "9                                      NaN   \n",
       "10                                     NaN   \n",
       "11                                     NaN   \n",
       "12                                     NaN   \n",
       "13                                     NaN   \n",
       "14                                     NaN   \n",
       "15                                     NaN   \n",
       "\n",
       "    reval-single-trial-LitBoringMNIST_f1  ...  \\\n",
       "0                                    NaN  ...   \n",
       "1                                    NaN  ...   \n",
       "2                                    NaN  ...   \n",
       "3                                    NaN  ...   \n",
       "4                                    NaN  ...   \n",
       "5                                    NaN  ...   \n",
       "6                                 0.9815  ...   \n",
       "7                                    NaN  ...   \n",
       "8                                    NaN  ...   \n",
       "9                                    NaN  ...   \n",
       "10                                   NaN  ...   \n",
       "11                                   NaN  ...   \n",
       "12                                   NaN  ...   \n",
       "13                                   NaN  ...   \n",
       "14                                   NaN  ...   \n",
       "15                                   NaN  ...   \n",
       "\n",
       "    reval-hyper-opt-LitBoringMNIST_loss  test-hyper-opt-LitBoringMNIST_f1  \\\n",
       "0                                   NaN                               NaN   \n",
       "1                                   NaN                               NaN   \n",
       "2                                   NaN                               NaN   \n",
       "3                                   NaN                               NaN   \n",
       "4                                   NaN                               NaN   \n",
       "5                                   NaN                               NaN   \n",
       "6                                   NaN                               NaN   \n",
       "7                                   NaN                               NaN   \n",
       "8                                0.0547                               NaN   \n",
       "9                                   NaN                            0.9866   \n",
       "10                                  NaN                               NaN   \n",
       "11                                  NaN                               NaN   \n",
       "12                                  NaN                               NaN   \n",
       "13                                  NaN                               NaN   \n",
       "14                                  NaN                               NaN   \n",
       "15                                  NaN                               NaN   \n",
       "\n",
       "    test-hyper-opt-LitBoringMNIST_acc  test-hyper-opt-LitBoringMNIST_loss  \\\n",
       "0                                 NaN                                 NaN   \n",
       "1                                 NaN                                 NaN   \n",
       "2                                 NaN                                 NaN   \n",
       "3                                 NaN                                 NaN   \n",
       "4                                 NaN                                 NaN   \n",
       "5                                 NaN                                 NaN   \n",
       "6                                 NaN                                 NaN   \n",
       "7                                 NaN                                 NaN   \n",
       "8                                 NaN                                 NaN   \n",
       "9                              0.9867                              0.0409   \n",
       "10                                NaN                                 NaN   \n",
       "11                                NaN                                 NaN   \n",
       "12                                NaN                                 NaN   \n",
       "13                                NaN                                 NaN   \n",
       "14                                NaN                                 NaN   \n",
       "15                                NaN                                 NaN   \n",
       "\n",
       "    train-single-trial-LitBoringMNIST@2_f1  \\\n",
       "0                                      NaN   \n",
       "1                                      NaN   \n",
       "2                                      NaN   \n",
       "3                                      NaN   \n",
       "4                                      NaN   \n",
       "5                                      NaN   \n",
       "6                                      NaN   \n",
       "7                                   0.9891   \n",
       "8                                      NaN   \n",
       "9                                      NaN   \n",
       "10                                  0.1088   \n",
       "11                                  0.6442   \n",
       "12                                  0.9428   \n",
       "13                                  0.9780   \n",
       "14                                  0.9845   \n",
       "15                                  0.9891   \n",
       "\n",
       "    train-single-trial-LitBoringMNIST@2_acc  \\\n",
       "0                                       NaN   \n",
       "1                                       NaN   \n",
       "2                                       NaN   \n",
       "3                                       NaN   \n",
       "4                                       NaN   \n",
       "5                                       NaN   \n",
       "6                                       NaN   \n",
       "7                                    0.9891   \n",
       "8                                       NaN   \n",
       "9                                       NaN   \n",
       "10                                   0.1685   \n",
       "11                                   0.6674   \n",
       "12                                   0.9434   \n",
       "13                                   0.9782   \n",
       "14                                   0.9846   \n",
       "15                                   0.9891   \n",
       "\n",
       "    train-single-trial-LitBoringMNIST@2_loss  \\\n",
       "0                                        NaN   \n",
       "1                                        NaN   \n",
       "2                                        NaN   \n",
       "3                                        NaN   \n",
       "4                                        NaN   \n",
       "5                                        NaN   \n",
       "6                                        NaN   \n",
       "7                                     0.0365   \n",
       "8                                        NaN   \n",
       "9                                        NaN   \n",
       "10                                    2.2849   \n",
       "11                                    1.3894   \n",
       "12                                    0.1863   \n",
       "13                                    0.0717   \n",
       "14                                    0.0508   \n",
       "15                                    0.0365   \n",
       "\n",
       "    test-single-trial-LitBoringMNIST@2_f1  \\\n",
       "0                                     NaN   \n",
       "1                                     NaN   \n",
       "2                                     NaN   \n",
       "3                                     NaN   \n",
       "4                                     NaN   \n",
       "5                                     NaN   \n",
       "6                                     NaN   \n",
       "7                                  0.9859   \n",
       "8                                     NaN   \n",
       "9                                     NaN   \n",
       "10                                    NaN   \n",
       "11                                    NaN   \n",
       "12                                    NaN   \n",
       "13                                    NaN   \n",
       "14                                    NaN   \n",
       "15                                    NaN   \n",
       "\n",
       "    test-single-trial-LitBoringMNIST@2_acc  \\\n",
       "0                                      NaN   \n",
       "1                                      NaN   \n",
       "2                                      NaN   \n",
       "3                                      NaN   \n",
       "4                                      NaN   \n",
       "5                                      NaN   \n",
       "6                                      NaN   \n",
       "7                                    0.986   \n",
       "8                                      NaN   \n",
       "9                                      NaN   \n",
       "10                                     NaN   \n",
       "11                                     NaN   \n",
       "12                                     NaN   \n",
       "13                                     NaN   \n",
       "14                                     NaN   \n",
       "15                                     NaN   \n",
       "\n",
       "    test-single-trial-LitBoringMNIST@2_loss  \n",
       "0                                       NaN  \n",
       "1                                       NaN  \n",
       "2                                       NaN  \n",
       "3                                       NaN  \n",
       "4                                       NaN  \n",
       "5                                       NaN  \n",
       "6                                       NaN  \n",
       "7                                    0.0411  \n",
       "8                                       NaN  \n",
       "9                                       NaN  \n",
       "10                                      NaN  \n",
       "11                                      NaN  \n",
       "12                                      NaN  \n",
       "13                                      NaN  \n",
       "14                                      NaN  \n",
       "15                                      NaN  \n",
       "\n",
       "[16 rows x 27 columns]"
      ]
     },
     "execution_count": 31,
     "metadata": {},
     "output_type": "execute_result"
    }
   ],
   "source": [
    "runner.get_metrics()['epoch_x_stage_run_metric'].df"
   ]
  }
 ],
 "metadata": {
  "accelerator": "GPU",
  "colab": {
   "collapsed_sections": [],
   "machine_shape": "hm",
   "name": "[homework]BERT_for_text_classification.ipynb",
   "provenance": []
  },
  "kernelspec": {
   "display_name": "Python 3",
   "language": "python",
   "name": "python3"
  },
  "language_info": {
   "codemirror_mode": {
    "name": "ipython",
    "version": 3
   },
   "file_extension": ".py",
   "mimetype": "text/x-python",
   "name": "python",
   "nbconvert_exporter": "python",
   "pygments_lexer": "ipython3",
   "version": "3.8.5"
  },
  "widgets": {
   "application/vnd.jupyter.widget-state+json": {
    "state": {},
    "version_major": 2,
    "version_minor": 0
   }
  }
 },
 "nbformat": 4,
 "nbformat_minor": 4
}
