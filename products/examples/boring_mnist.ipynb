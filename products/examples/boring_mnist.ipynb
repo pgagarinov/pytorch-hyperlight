{
 "cells": [
  {
   "cell_type": "markdown",
   "metadata": {},
   "source": [
    "# MNIST classification using using LeNet"
   ]
  },
  {
   "cell_type": "code",
   "execution_count": null,
   "metadata": {},
   "outputs": [],
   "source": [
    "import warnings\n",
    "from pathlib import Path\n",
    "\n",
    "import matplotlib.patches as patches\n",
    "from IPython.display import display\n",
    "\n",
    "import numpy as np\n",
    "import pytorch_hyperlight as pth\n",
    "\n",
    "import pytorch_lightning as pl\n",
    "import pytorch_lightning.metrics as metrics\n",
    "import torch\n",
    "import torch.nn.functional as F\n",
    "\n",
    "from matplotlib import pyplot as plt\n",
    "from matplotlib.font_manager import FontProperties\n",
    "from pytorch_lightning import Callback\n",
    "\n",
    "from ray import tune\n",
    "\n",
    "from torch import nn\n",
    "from torch.utils.data import DataLoader, random_split\n",
    "from torchvision import transforms\n",
    "from torchvision.datasets.mnist import MNIST\n",
    "from transformers import AdamW, get_linear_schedule_with_warmup"
   ]
  },
  {
   "cell_type": "code",
   "execution_count": 2,
   "metadata": {
    "tags": [
     "parameters"
    ]
   },
   "outputs": [],
   "source": [
    "USAGE_MODE = \"single-run\"  # choose from 'single-run' and 'hyper-opt'\n",
    "# USAGE_MODE = \"hyper-opt\"  # choose from 'single-run' and 'hyper-opt'\n",
    "FAST_DEV_RUN = False  # if true, simplifed configurations running for just a few epochs are used for making sure there are no obvious bugs"
   ]
  },
  {
   "cell_type": "code",
   "execution_count": 3,
   "metadata": {},
   "outputs": [],
   "source": [
    "EXPERIMENT_ID = \"boring-mnist\"\n",
    "\n",
    "DATASETS_PATH = Path(\"/home/peter/_Git/_ML/dlschool-solutions/term1/task5/data\")\n",
    "\n",
    "warnings.filterwarnings(\"ignore\")\n",
    "\n",
    "\n",
    "# a dedicated function for creating datasets\n",
    "# please note how 'full_train_dataset' is created along with train,\n",
    "# val and test datasets\n",
    "def create_datasets(val_size=0.2):\n",
    "    SEED = 16\n",
    "    pl.seed_everything(SEED)\n",
    "    #\n",
    "    full_train_dataset = MNIST(\n",
    "        DATASETS_PATH, train=True, download=True, transform=transforms.ToTensor()\n",
    "    )\n",
    "    test_dataset = MNIST(\n",
    "        DATASETS_PATH, train=False, download=True, transform=transforms.ToTensor()\n",
    "    )\n",
    "    n_full_train_samples = len(full_train_dataset)\n",
    "    n_val_samples = int(n_full_train_samples * val_size)\n",
    "    train_dataset, val_dataset = random_split(\n",
    "        full_train_dataset, [n_full_train_samples - n_val_samples, n_val_samples]\n",
    "    )\n",
    "\n",
    "    n_classes = len(MNIST.classes)\n",
    "\n",
    "    return {\n",
    "        \"full_train_dataset\": full_train_dataset,\n",
    "        \"train_dataset\": train_dataset,\n",
    "        \"val_dataset\": val_dataset,\n",
    "        \"test_dataset\": test_dataset,\n",
    "        \"n_classes\": n_classes,\n",
    "    }"
   ]
  },
  {
   "cell_type": "code",
   "execution_count": 4,
   "metadata": {
    "id": "uJ6-Ce3Fuhno"
   },
   "outputs": [],
   "source": [
    "def imshow(inp, title=None, plt_ax=plt, default=False):\n",
    "    \"\"\"Imshow for tensors\"\"\"\n",
    "    inp = inp.numpy().transpose((1, 2, 0))\n",
    "    mean = np.array([0.485, 0.456, 0.406])\n",
    "    std = np.array([0.229, 0.224, 0.225])\n",
    "    inp = std * inp + mean\n",
    "    inp = np.clip(inp, 0, 1)\n",
    "    plt_ax.imshow(inp)\n",
    "    if title is not None:\n",
    "        plt_ax.set_title(title)\n",
    "    plt_ax.grid(False)"
   ]
  },
  {
   "cell_type": "code",
   "execution_count": 5,
   "metadata": {
    "collapsed": false,
    "jupyter": {
     "outputs_hidden": false
    },
    "pycharm": {
     "name": "#%%\n"
    }
   },
   "outputs": [],
   "source": [
    "# a dedicated function for creating dataloaders\n",
    "# 'full_train_loader' is created along with standard 3 loaderers\n",
    "# for training, validation and testing datasets\n",
    "def configure_dataloaders(batch_size, n_workers=4, val_size=0.2):\n",
    "    #\n",
    "    SHUFFLE = True\n",
    "    SAMPLER = None\n",
    "    #\n",
    "    result_dict = create_datasets(val_size)\n",
    "    #\n",
    "    for prefix in [\"train\", \"full_train\"]:\n",
    "\n",
    "        result_dict[f\"{prefix}_loader\"] = DataLoader(\n",
    "            result_dict[f\"{prefix}_dataset\"],\n",
    "            batch_size=batch_size,\n",
    "            shuffle=SHUFFLE,\n",
    "            sampler=SAMPLER,\n",
    "            num_workers=n_workers,\n",
    "            pin_memory=True,\n",
    "        )\n",
    "    #\n",
    "    for prefix in [\"val\", \"test\"]:\n",
    "        result_dict[f\"{prefix}_loader\"] = DataLoader(\n",
    "            result_dict[f\"{prefix}_dataset\"],\n",
    "            batch_size=batch_size,\n",
    "            shuffle=False,\n",
    "            num_workers=n_workers,\n",
    "            pin_memory=True,\n",
    "        )\n",
    "\n",
    "    return result_dict"
   ]
  },
  {
   "cell_type": "markdown",
   "metadata": {},
   "source": [
    "Let us make sure our dataloaders can be created correctly"
   ]
  },
  {
   "cell_type": "code",
   "execution_count": 6,
   "metadata": {},
   "outputs": [],
   "source": [
    "BATCH_SIZE = 32\n",
    "\n",
    "loaders_dict = configure_dataloaders(BATCH_SIZE)\n",
    "\n",
    "loaders_dict\n",
    "\n",
    "batch = next(iter(loaders_dict[\"train_loader\"]))\n",
    "assert len(batch[0]) > 0"
   ]
  },
  {
   "cell_type": "code",
   "execution_count": 7,
   "metadata": {},
   "outputs": [
    {
     "data": {
      "text/plain": [
       "60000"
      ]
     },
     "execution_count": 7,
     "metadata": {},
     "output_type": "execute_result"
    }
   ],
   "source": [
    "result_dict = create_datasets(0.2)\n",
    "len(result_dict[\"full_train_dataset\"])"
   ]
  },
  {
   "cell_type": "code",
   "execution_count": 8,
   "metadata": {},
   "outputs": [
    {
     "data": {
      "text/plain": [
       "10"
      ]
     },
     "execution_count": 8,
     "metadata": {},
     "output_type": "execute_result"
    }
   ],
   "source": [
    "loaders_dict[\"n_classes\"]"
   ]
  },
  {
   "cell_type": "markdown",
   "metadata": {},
   "source": [
    "### Defining the model"
   ]
  },
  {
   "cell_type": "markdown",
   "metadata": {},
   "source": [
    "Let define a dedicated class for metrics calculation"
   ]
  },
  {
   "cell_type": "code",
   "execution_count": 9,
   "metadata": {},
   "outputs": [],
   "source": [
    "class LitMetricsCalc(torch.nn.Module):\n",
    "    def __init__(self, prefix, num_classes):\n",
    "        super(LitMetricsCalc, self).__init__()\n",
    "        self.acc = metrics.classification.Accuracy()\n",
    "        self.f1 = metrics.classification.F1(num_classes=num_classes, average=\"macro\")\n",
    "        self.prefix = prefix\n",
    "\n",
    "    def step(self, logit, target):\n",
    "        probs = torch.softmax(logit, dim=1)\n",
    "        prefix = self.prefix\n",
    "        self.acc(probs, target)\n",
    "        self.f1(probs, target)\n",
    "\n",
    "        return {\n",
    "            f\"{prefix}_acc\": self.acc,\n",
    "            f\"{prefix}_f1\": self.f1,\n",
    "        }"
   ]
  },
  {
   "cell_type": "code",
   "execution_count": 10,
   "metadata": {
    "collapsed": false,
    "jupyter": {
     "outputs_hidden": false
    },
    "pycharm": {
     "name": "#%%\n"
    }
   },
   "outputs": [],
   "source": [
    "class BoringMNIST(nn.Module):\n",
    "    def __init__(self, n_classes):\n",
    "        super().__init__()\n",
    "        self.conv1 = nn.Conv2d(1, 6, 3)\n",
    "        self.conv2 = nn.Conv2d(6, 16, 3)\n",
    "        self.fc1 = nn.Linear(16 * 5 * 5, 120)\n",
    "        self.fc2 = nn.Linear(120, 84)\n",
    "        self.fc3 = nn.Linear(84, n_classes)\n",
    "\n",
    "    def forward(self, x):\n",
    "        x = F.max_pool2d(F.relu(self.conv1(x)), (2, 2))\n",
    "        x = F.max_pool2d(F.relu(self.conv2(x)), 2)\n",
    "        x = x.view(-1, int(x.nelement() / x.shape[0]))\n",
    "        x = F.relu(self.fc1(x))\n",
    "        x = F.relu(self.fc2(x))\n",
    "        x = self.fc3(x)\n",
    "        return x"
   ]
  },
  {
   "cell_type": "code",
   "execution_count": 11,
   "metadata": {},
   "outputs": [],
   "source": [
    "class LitBoringMNIST(pl.LightningModule):\n",
    "    def __init__(self, hparams):\n",
    "        super().__init__()\n",
    "        self.hparams = hparams\n",
    "        #\n",
    "        n_classes = self.hparams.n_classes\n",
    "        #\n",
    "        model = BoringMNIST(n_classes)\n",
    "        #\n",
    "        self.model = model\n",
    "        self.train_metric_calc = LitMetricsCalc(\"train\", num_classes=n_classes)\n",
    "        self.val_metric_calc = LitMetricsCalc(\"val\", num_classes=n_classes)\n",
    "        self.test_metric_calc = LitMetricsCalc(\"test\", num_classes=n_classes)\n",
    "        self.freeze()\n",
    "\n",
    "    def freeze(self):\n",
    "        for param in self.model.parameters():\n",
    "            param.requires_grad = False\n",
    "\n",
    "    def unfreeze(self):\n",
    "        for param in self.model.parameters():\n",
    "            param.requires_grad = True\n",
    "\n",
    "    def unfreeze_tail(self, ind_layer):\n",
    "        assert ind_layer >= 0\n",
    "        ind = ind_layer\n",
    "        while True:\n",
    "            if ind == 0:\n",
    "                for param in self.model.fc3.parameters():\n",
    "                    param.requires_grad = True\n",
    "            elif ind == 1:\n",
    "                for param in self.model.fc2.parameters():\n",
    "                    param.requires_grad = True\n",
    "            elif ind == 2:\n",
    "                for param in self.model.fc1.parameters():\n",
    "                    param.requires_grad = True\n",
    "            ind -= 1\n",
    "            if ind < 0:\n",
    "                break\n",
    "\n",
    "    def configure_optimizers(self):\n",
    "        optimizer = AdamW(\n",
    "            self.model.parameters(),\n",
    "            lr=self.hparams.lr,\n",
    "        )\n",
    "\n",
    "        scheduler = get_linear_schedule_with_warmup(\n",
    "            optimizer, self.hparams.warmup, self.hparams.n_train_steps\n",
    "        )\n",
    "        return [optimizer], [\n",
    "            {\"scheduler\": scheduler, \"interval\": \"step\", \"frequency\": 1}\n",
    "        ]\n",
    "\n",
    "    def forward(self, inputs):\n",
    "        logits = self.model(inputs)\n",
    "        return logits\n",
    "\n",
    "    def forward_batch(self, batch):\n",
    "        inputs = batch[0]\n",
    "        return self(inputs)\n",
    "\n",
    "    def __calc_loss(self, logits, target, log_label):\n",
    "        loss = F.cross_entropy(logits, target)\n",
    "        self.log(f\"{log_label}_loss\", loss, prog_bar=True, on_step=True, on_epoch=True)\n",
    "        return loss\n",
    "\n",
    "    def __stage_step(self, metric_calc, batch, batch_idx, stage):\n",
    "        logits = self.forward_batch(batch)\n",
    "        mval_dict = metric_calc.step(logits, batch[1])\n",
    "        self.log_dict(mval_dict, prog_bar=True, on_step=True, on_epoch=True)\n",
    "        loss = self.__calc_loss(logits, batch[1], stage)\n",
    "        return loss\n",
    "\n",
    "    def training_step(self, batch, batch_idx):\n",
    "        return self.__stage_step(self.train_metric_calc, batch, batch_idx, \"train\")\n",
    "\n",
    "    def test_step(self, batch, batch_idx):\n",
    "        return self.__stage_step(self.test_metric_calc, batch, batch_idx, \"test\")\n",
    "\n",
    "    def validation_step(self, batch, batch_idx):\n",
    "        return self.__stage_step(self.val_metric_calc, batch, batch_idx, \"val\")"
   ]
  },
  {
   "cell_type": "code",
   "execution_count": 12,
   "metadata": {
    "collapsed": false,
    "jupyter": {
     "outputs_hidden": false
    },
    "pycharm": {
     "name": "#%%\n"
    }
   },
   "outputs": [],
   "source": [
    "N_CLASSES = loaders_dict[\"n_classes\"]\n",
    "LMODULE_CLASS = LitBoringMNIST\n",
    "IS_CUDA = torch.cuda.is_available()\n",
    "GPU_PER_TRIAL = 0.3 * IS_CUDA"
   ]
  },
  {
   "cell_type": "code",
   "execution_count": 13,
   "metadata": {},
   "outputs": [],
   "source": [
    "CONFIG = {\n",
    "    \"lr\": 1e-3,  # Initial learning rate\n",
    "    \"warmup\": 200,  # For LinearSchedulerWihtWarmup\n",
    "    \"gradient_clip_val\": 0,\n",
    "    \"max_epochs\": 6,  # the actual number can be less due to early stopping\n",
    "    \"batch_size\": 64,\n",
    "    \"n_classes\": N_CLASSES,\n",
    "    \"unfreeze_epochs\": [0, 1]  # 2-phase unfreeze,\n",
    "    #    unfreeze the tip of the tail at the start of epoch 0,\n",
    "    #    then unfreeze one more layer at epoch 1,\n",
    "}\n",
    "\n",
    "TUNE_CONFIG = {\n",
    "    \"seed\": 16,  # just remove this if you do not want determenistic behavior\n",
    "    \"metric_to_optimize\": \"val_f1_epoch\",  # Ray + PTL Trainer\n",
    "    \"ray_metrics_to_show\": [\n",
    "        \"val_loss_epoch\",\n",
    "        \"val_f1_epoch\",\n",
    "        \"val_acc_epoch\",\n",
    "    ],  # for Ray Tune\n",
    "    \"metric_opt_mode\": \"max\",  # Ray + PTL Trainer\n",
    "    \"cpu_per_trial\": 3,  # Ray + DataLoaders\n",
    "    \"gpu_per_trial\": GPU_PER_TRIAL,  # for Ray Tune\n",
    "    \"n_checkpoints_to_keep\": 1,  # for Ray Tune\n",
    "    \"grace_period\": 6,  # for both PTL Trainer and Ray Tune scheduler\n",
    "    \"epoch_upper_limit\": 45,  # for Ray Tune\n",
    "    \"n_samples\": 40,  # for Ray Tune\n",
    "    \"ptl_early_stopping_patience\": 7,  # for PTL Trainer\n",
    "    \"ptl_precision\": 32,  # or 16, for PTL Trainer\n",
    "    \"train_loader_name\": \"train_loader\",\n",
    "    \"val_loader_name\": \"val_loader\",\n",
    "    \"test_loader_name\": \"test_loader\",\n",
    "    \"batch_size_main\": CONFIG[\n",
    "        \"batch_size\"\n",
    "    ],  # batch size for revalidation and test phases\n",
    "    #    that run in the main process after all Ray Tune child processes are finished\n",
    "    \"gpus\": -1 * IS_CUDA,  # -1 - use GPU if available, 0 - use CPU, 1 - use single GPU,\n",
    "    # >=2 - use multiple GPUs\n",
    "}\n",
    "\n",
    "if FAST_DEV_RUN:\n",
    "    CONFIG[\"max_epochs\"] = 2\n",
    "    TUNE_CONFIG[\"n_samples\"] = 2"
   ]
  },
  {
   "cell_type": "code",
   "execution_count": 14,
   "metadata": {},
   "outputs": [],
   "source": [
    "class UnfreezeModelTailCallback(Callback):\n",
    "    def __init__(self, epoch_vec):\n",
    "        super().__init__()\n",
    "        self.epoch_vec = epoch_vec\n",
    "\n",
    "    def on_epoch_start(self, trainer, pl_module):\n",
    "        if trainer.current_epoch <= self.epoch_vec[0]:\n",
    "            pl_module.unfreeze_tail(0)\n",
    "        elif trainer.current_epoch <= self.epoch_vec[1]:\n",
    "            pl_module.unfreeze_tail(1)\n",
    "        else:\n",
    "            pl_module.unfreeze()\n",
    "\n",
    "\n",
    "pl_callbacks = [UnfreezeModelTailCallback(CONFIG[\"unfreeze_epochs\"])]"
   ]
  },
  {
   "cell_type": "code",
   "execution_count": 15,
   "metadata": {},
   "outputs": [],
   "source": [
    "ptl_ray_runner = pth.Runner(\n",
    "    configure_dataloaders,\n",
    "    pl_callbacks=pl_callbacks,\n",
    "    is_debug=FAST_DEV_RUN,\n",
    "    experiment_id=EXPERIMENT_ID,\n",
    ")"
   ]
  },
  {
   "cell_type": "code",
   "execution_count": 16,
   "metadata": {},
   "outputs": [
    {
     "name": "stderr",
     "output_type": "stream",
     "text": [
      "GPU available: False, used: False\n",
      "TPU available: None, using: 0 TPU cores\n",
      "\n",
      "  | Name              | Type           | Params\n",
      "-----------------------------------------------------\n",
      "0 | model             | BoringMNIST    | 60.1 K\n",
      "1 | train_metric_calc | LitMetricsCalc | 0     \n",
      "2 | val_metric_calc   | LitMetricsCalc | 0     \n",
      "3 | test_metric_calc  | LitMetricsCalc | 0     \n",
      "-----------------------------------------------------\n",
      "0         Trainable params\n",
      "60.1 K    Non-trainable params\n",
      "60.1 K    Total params\n"
     ]
    },
    {
     "data": {
      "application/vnd.jupyter.widget-view+json": {
       "model_id": "",
       "version_major": 2,
       "version_minor": 0
      },
      "text/plain": [
       "HBox(children=(FloatProgress(value=1.0, bar_style='info', description='Validation sanity check', layout=Layout…"
      ]
     },
     "metadata": {},
     "output_type": "display_data"
    },
    {
     "data": {
      "application/vnd.jupyter.widget-view+json": {
       "model_id": "",
       "version_major": 2,
       "version_minor": 0
      },
      "text/plain": [
       "HBox(children=(FloatProgress(value=1.0, bar_style='info', description='Training', layout=Layout(flex='2'), max…"
      ]
     },
     "metadata": {},
     "output_type": "display_data"
    },
    {
     "data": {
      "application/vnd.jupyter.widget-view+json": {
       "model_id": "",
       "version_major": 2,
       "version_minor": 0
      },
      "text/plain": [
       "HBox(children=(FloatProgress(value=1.0, bar_style='info', description='Validating', layout=Layout(flex='2'), m…"
      ]
     },
     "metadata": {},
     "output_type": "display_data"
    },
    {
     "name": "stdout",
     "output_type": "stream",
     "text": [
      "|   epoch |   val_f1 |   train_f1 |   val_acc |   train_acc | stage     |   val_loss |   train_loss |\n",
      "|--------:|---------:|-----------:|----------:|------------:|:----------|-----------:|-------------:|\n",
      "|       0 |   0.1747 |     0.0951 |    0.2534 |      0.1639 | Train/Val |     2.2725 |       2.2897 |\n"
     ]
    },
    {
     "data": {
      "application/vnd.jupyter.widget-view+json": {
       "model_id": "",
       "version_major": 2,
       "version_minor": 0
      },
      "text/plain": [
       "HBox(children=(FloatProgress(value=1.0, bar_style='info', description='Training', layout=Layout(flex='2'), max…"
      ]
     },
     "metadata": {},
     "output_type": "display_data"
    },
    {
     "data": {
      "application/vnd.jupyter.widget-view+json": {
       "model_id": "",
       "version_major": 2,
       "version_minor": 0
      },
      "text/plain": [
       "HBox(children=(FloatProgress(value=1.0, bar_style='info', description='Validating', layout=Layout(flex='2'), m…"
      ]
     },
     "metadata": {},
     "output_type": "display_data"
    },
    {
     "name": "stdout",
     "output_type": "stream",
     "text": [
      "|   epoch |   val_f1 |   train_f1 |   val_acc |   train_acc | stage     |   val_loss |   train_loss |\n",
      "|--------:|---------:|-----------:|----------:|------------:|:----------|-----------:|-------------:|\n",
      "|       1 |   0.7387 |     0.5947 |    0.7512 |      0.6287 | Train/Val |     1.0247 |       1.5376 |\n"
     ]
    },
    {
     "data": {
      "application/vnd.jupyter.widget-view+json": {
       "model_id": "",
       "version_major": 2,
       "version_minor": 0
      },
      "text/plain": [
       "HBox(children=(FloatProgress(value=1.0, bar_style='info', description='Training', layout=Layout(flex='2'), max…"
      ]
     },
     "metadata": {},
     "output_type": "display_data"
    },
    {
     "data": {
      "application/vnd.jupyter.widget-view+json": {
       "model_id": "",
       "version_major": 2,
       "version_minor": 0
      },
      "text/plain": [
       "HBox(children=(FloatProgress(value=1.0, bar_style='info', description='Validating', layout=Layout(flex='2'), m…"
      ]
     },
     "metadata": {},
     "output_type": "display_data"
    },
    {
     "name": "stdout",
     "output_type": "stream",
     "text": [
      "|   epoch |   val_f1 |   train_f1 |   val_acc |   train_acc | stage     |   val_loss |   train_loss |\n",
      "|--------:|---------:|-----------:|----------:|------------:|:----------|-----------:|-------------:|\n",
      "|       2 |   0.9642 |     0.9305 |    0.9646 |      0.9311 | Train/Val |     0.1153 |       0.2273 |\n"
     ]
    },
    {
     "data": {
      "application/vnd.jupyter.widget-view+json": {
       "model_id": "",
       "version_major": 2,
       "version_minor": 0
      },
      "text/plain": [
       "HBox(children=(FloatProgress(value=1.0, bar_style='info', description='Training', layout=Layout(flex='2'), max…"
      ]
     },
     "metadata": {},
     "output_type": "display_data"
    },
    {
     "data": {
      "application/vnd.jupyter.widget-view+json": {
       "model_id": "",
       "version_major": 2,
       "version_minor": 0
      },
      "text/plain": [
       "HBox(children=(FloatProgress(value=1.0, bar_style='info', description='Validating', layout=Layout(flex='2'), m…"
      ]
     },
     "metadata": {},
     "output_type": "display_data"
    },
    {
     "name": "stdout",
     "output_type": "stream",
     "text": [
      "|   epoch |   val_f1 |   train_f1 |   val_acc |   train_acc | stage     |   val_loss |   train_loss |\n",
      "|--------:|---------:|-----------:|----------:|------------:|:----------|-----------:|-------------:|\n",
      "|       3 |   0.9757 |     0.9742 |     0.976 |      0.9744 | Train/Val |     0.0753 |       0.0837 |\n"
     ]
    },
    {
     "data": {
      "application/vnd.jupyter.widget-view+json": {
       "model_id": "",
       "version_major": 2,
       "version_minor": 0
      },
      "text/plain": [
       "HBox(children=(FloatProgress(value=1.0, bar_style='info', description='Training', layout=Layout(flex='2'), max…"
      ]
     },
     "metadata": {},
     "output_type": "display_data"
    },
    {
     "data": {
      "application/vnd.jupyter.widget-view+json": {
       "model_id": "",
       "version_major": 2,
       "version_minor": 0
      },
      "text/plain": [
       "HBox(children=(FloatProgress(value=1.0, bar_style='info', description='Validating', layout=Layout(flex='2'), m…"
      ]
     },
     "metadata": {},
     "output_type": "display_data"
    },
    {
     "name": "stdout",
     "output_type": "stream",
     "text": [
      "|   epoch |   val_f1 |   train_f1 |   val_acc |   train_acc | stage     |   val_loss |   train_loss |\n",
      "|--------:|---------:|-----------:|----------:|------------:|:----------|-----------:|-------------:|\n",
      "|       4 |   0.9794 |     0.9831 |    0.9797 |      0.9833 | Train/Val |     0.0666 |       0.0564 |\n"
     ]
    },
    {
     "data": {
      "application/vnd.jupyter.widget-view+json": {
       "model_id": "",
       "version_major": 2,
       "version_minor": 0
      },
      "text/plain": [
       "HBox(children=(FloatProgress(value=1.0, bar_style='info', description='Training', layout=Layout(flex='2'), max…"
      ]
     },
     "metadata": {},
     "output_type": "display_data"
    },
    {
     "data": {
      "application/vnd.jupyter.widget-view+json": {
       "model_id": "",
       "version_major": 2,
       "version_minor": 0
      },
      "text/plain": [
       "HBox(children=(FloatProgress(value=1.0, bar_style='info', description='Validating', layout=Layout(flex='2'), m…"
      ]
     },
     "metadata": {},
     "output_type": "display_data"
    },
    {
     "name": "stdout",
     "output_type": "stream",
     "text": [
      "|   epoch |   val_f1 |   train_f1 |   val_acc |   train_acc | stage     |   val_loss |   train_loss |\n",
      "|--------:|---------:|-----------:|----------:|------------:|:----------|-----------:|-------------:|\n",
      "|       5 |   0.9815 |     0.9874 |    0.9816 |      0.9875 | Train/Val |     0.0607 |       0.0418 |\n"
     ]
    },
    {
     "data": {
      "application/vnd.jupyter.widget-view+json": {
       "model_id": "",
       "version_major": 2,
       "version_minor": 0
      },
      "text/plain": [
       "HBox(children=(FloatProgress(value=1.0, bar_style='info', description='Training', layout=Layout(flex='2'), max…"
      ]
     },
     "metadata": {},
     "output_type": "display_data"
    },
    {
     "data": {
      "application/vnd.jupyter.widget-view+json": {
       "model_id": "",
       "version_major": 2,
       "version_minor": 0
      },
      "text/plain": [
       "HBox(children=(FloatProgress(value=1.0, bar_style='info', description='Testing', layout=Layout(flex='2'), max=…"
      ]
     },
     "metadata": {},
     "output_type": "display_data"
    },
    {
     "name": "stdout",
     "output_type": "stream",
     "text": [
      "|   epoch |   val_f1 |   reval_f1 |   train_f1 |   val_acc |   reval_acc |   train_acc | stage   |   val_loss |   reval_loss |   train_loss |\n",
      "|--------:|---------:|-----------:|-----------:|----------:|------------:|------------:|:--------|-----------:|-------------:|-------------:|\n",
      "|       5 |   0.9815 |     0.9815 |     0.9874 |    0.9816 |      0.9816 |      0.9875 | Reval   |     0.0607 |       0.0607 |       0.0418 |\n"
     ]
    },
    {
     "data": {
      "application/vnd.jupyter.widget-view+json": {
       "model_id": "",
       "version_major": 2,
       "version_minor": 0
      },
      "text/plain": [
       "HBox(children=(FloatProgress(value=1.0, bar_style='info', description='Testing', layout=Layout(flex='2'), max=…"
      ]
     },
     "metadata": {},
     "output_type": "display_data"
    },
    {
     "name": "stdout",
     "output_type": "stream",
     "text": [
      "|   epoch |   val_f1 |   train_f1 |   test_f1 |   val_acc |   train_acc |   test_acc | stage   |   val_loss |   train_loss |   test_loss |\n",
      "|--------:|---------:|-----------:|----------:|----------:|------------:|-----------:|:--------|-----------:|-------------:|------------:|\n",
      "|       5 |   0.9815 |     0.9874 |    0.9858 |    0.9816 |      0.9875 |     0.9859 | Test    |     0.0607 |       0.0418 |      0.0458 |\n"
     ]
    }
   ],
   "source": [
    "if USAGE_MODE == \"single-run\":\n",
    "    best_result = ptl_ray_runner.run_single_trial(LMODULE_CLASS, CONFIG, TUNE_CONFIG)\n",
    "\n",
    "    display(best_result[\"metrics\"].df)\n",
    "    best_result[\"metrics\"].plot()"
   ]
  },
  {
   "cell_type": "markdown",
   "metadata": {},
   "source": [
    "### Running a hyper-parameters search via Ray Tune"
   ]
  },
  {
   "cell_type": "code",
   "execution_count": 19,
   "metadata": {},
   "outputs": [],
   "source": [
    "SEARCH_SPACE_CONFIG = {\n",
    "    \"unfreeze_epochs\": [0, 1],\n",
    "    \"lr\": tune.uniform(1e-5, 1e-4),\n",
    "    \"warmup\": tune.choice([200, 500, 600, 1000]),\n",
    "    \"gradient_clip_val\": 0,\n",
    "    \"max_epochs\": tune.choice([10, 20, 30]),\n",
    "    \"batch_size\": tune.choice([16, 32, 64]),\n",
    "    \"n_classes\": N_CLASSES,\n",
    "}"
   ]
  },
  {
   "cell_type": "code",
   "execution_count": 20,
   "metadata": {},
   "outputs": [],
   "source": [
    "if FAST_DEV_RUN:\n",
    "    SEARCH_SPACE_CONFIG[\"max_epochs\"] = 2\n",
    "    SEARCH_SPACE_CONFIG[\"batch_size\"] = 32"
   ]
  },
  {
   "cell_type": "code",
   "execution_count": 21,
   "metadata": {},
   "outputs": [],
   "source": [
    "if USAGE_MODE == \"hyper-opt\":\n",
    "    #\n",
    "    best_result = ptl_ray_runner.run_hyper_opt(\n",
    "        LMODULE_CLASS,\n",
    "        SEARCH_SPACE_CONFIG,\n",
    "        TUNE_CONFIG,\n",
    "    )\n",
    "\n",
    "    display(best_result[\"metrics\"])\n",
    "    best_result[\"metrics\"].plot()"
   ]
  },
  {
   "cell_type": "markdown",
   "metadata": {},
   "source": [
    "The following code is launches an automatic hyper-parameter tunning via Ray Tune"
   ]
  },
  {
   "cell_type": "markdown",
   "metadata": {},
   "source": [
    "Below is an example of output produced by Ray Tune"
   ]
  },
  {
   "cell_type": "markdown",
   "metadata": {},
   "source": [
    "### Let us look at the results"
   ]
  },
  {
   "cell_type": "code",
   "execution_count": 22,
   "metadata": {},
   "outputs": [],
   "source": [
    "DEVICE = torch.device(\"cuda\" if torch.cuda.is_available() else \"cpu\")"
   ]
  },
  {
   "cell_type": "code",
   "execution_count": 23,
   "metadata": {},
   "outputs": [],
   "source": [
    "def predict_one_sample(model, inputs, device=DEVICE):\n",
    "    with torch.no_grad():\n",
    "        inputs = inputs.to(device)\n",
    "        model.eval()\n",
    "        logit = model(inputs).cpu()\n",
    "        probs = torch.nn.functional.softmax(logit, dim=-1).numpy()\n",
    "    return probs"
   ]
  },
  {
   "cell_type": "code",
   "execution_count": 24,
   "metadata": {},
   "outputs": [],
   "source": [
    "def show_some_predictions(loaders_dict, lmodule):\n",
    "    fig, ax = plt.subplots(nrows=3, ncols=3, figsize=(12, 12), sharey=True, sharex=True)\n",
    "    for fig_x in ax.flatten():\n",
    "        random_characters = int(np.random.uniform(0, 1000))\n",
    "        im_val, label = loaders_dict[\"val_dataset\"][random_characters]\n",
    "        img_label = \" \".join(\n",
    "            map(\n",
    "                lambda x: x.capitalize(),\n",
    "                MNIST.classes[label].split(\"_\"),\n",
    "            )\n",
    "        )\n",
    "\n",
    "        imshow(im_val.data.cpu(), title=img_label, plt_ax=fig_x)\n",
    "\n",
    "        fig_x.add_patch(patches.Rectangle((0, 0), 10, 5, color=\"white\"))\n",
    "        font0 = FontProperties()\n",
    "        font = font0.copy()\n",
    "        font.set_family(\"fantasy\")\n",
    "        prob_pred = predict_one_sample(lmodule, im_val.unsqueeze(0))\n",
    "        predicted_proba = np.max(prob_pred) * 100\n",
    "        y_pred = np.argmax(prob_pred)\n",
    "\n",
    "        predicted_label = MNIST.classes[y_pred]\n",
    "        predicted_label = (\n",
    "            predicted_label[: len(predicted_label) // 2]\n",
    "            + \"\\n\"\n",
    "            + predicted_label[len(predicted_label) // 2 :]\n",
    "        )\n",
    "        predicted_text = \"{} : {:.0f}%\".format(predicted_label, predicted_proba)\n",
    "\n",
    "        fig_x.text(\n",
    "            1,\n",
    "            2,\n",
    "            predicted_text,\n",
    "            horizontalalignment=\"left\",\n",
    "            fontproperties=font,\n",
    "            verticalalignment=\"top\",\n",
    "            fontsize=8,\n",
    "            color=\"black\",\n",
    "            fontweight=\"bold\",\n",
    "        )"
   ]
  },
  {
   "cell_type": "code",
   "execution_count": 25,
   "metadata": {},
   "outputs": [],
   "source": [
    "def predict(model, test_loader):\n",
    "    with torch.no_grad():\n",
    "        logits = []\n",
    "\n",
    "        for inputs, _ in test_loader:\n",
    "            inputs = inputs.to(DEVICE)\n",
    "            model.eval()\n",
    "            outputs = model(inputs).cpu()\n",
    "            logits.append(outputs)\n",
    "\n",
    "    probs = nn.functional.softmax(torch.cat(logits), dim=-1).numpy()\n",
    "    return probs"
   ]
  },
  {
   "cell_type": "code",
   "execution_count": 26,
   "metadata": {},
   "outputs": [
    {
     "data": {
      "image/png": "[encoded data removed]",
      "text/plain": [
       "<Figure size 864x864 with 9 Axes>"
      ]
     },
     "metadata": {
      "needs_background": "light"
     },
     "output_type": "display_data"
    }
   ],
   "source": [
    "show_some_predictions(loaders_dict, best_result[\"lmodule_best\"])"
   ]
  },
  {
   "cell_type": "markdown",
   "metadata": {},
   "source": [
    "### Re-train the model on all available data with the same hyper-parameters"
   ]
  },
  {
   "cell_type": "code",
   "execution_count": 27,
   "metadata": {},
   "outputs": [],
   "source": [
    "FT_TUNE_CONFIG = TUNE_CONFIG.copy()\n",
    "FT_TUNE_CONFIG[\"val_loader_name\"] = None\n",
    "FT_TUNE_CONFIG[\"train_loader_name\"] = \"full_train_loader\"\n",
    "FT_TUNE_CONFIG[\"metric_to_optimize\"] = \"train_f1_epoch\""
   ]
  },
  {
   "cell_type": "code",
   "execution_count": 28,
   "metadata": {},
   "outputs": [],
   "source": [
    "FT_CONFIG = CONFIG.copy()\n",
    "# FT_CONFIG['max_epochs'] = 19\n",
    "FT_CONFIG[\"max_epochs\"] = best_result[\"best_epoch\"]"
   ]
  },
  {
   "cell_type": "code",
   "execution_count": 29,
   "metadata": {},
   "outputs": [
    {
     "name": "stderr",
     "output_type": "stream",
     "text": [
      "GPU available: False, used: False\n",
      "TPU available: None, using: 0 TPU cores\n",
      "\n",
      "  | Name              | Type           | Params\n",
      "-----------------------------------------------------\n",
      "0 | model             | BoringMNIST    | 60.1 K\n",
      "1 | train_metric_calc | LitMetricsCalc | 0     \n",
      "2 | val_metric_calc   | LitMetricsCalc | 0     \n",
      "3 | test_metric_calc  | LitMetricsCalc | 0     \n",
      "-----------------------------------------------------\n",
      "0         Trainable params\n",
      "60.1 K    Non-trainable params\n",
      "60.1 K    Total params\n"
     ]
    },
    {
     "data": {
      "application/vnd.jupyter.widget-view+json": {
       "model_id": "3fa35b83c9704503941e3d93e9000a4e",
       "version_major": 2,
       "version_minor": 0
      },
      "text/plain": [
       "HBox(children=(FloatProgress(value=1.0, bar_style='info', description='Validation sanity check', layout=Layout…"
      ]
     },
     "metadata": {},
     "output_type": "display_data"
    },
    {
     "data": {
      "application/vnd.jupyter.widget-view+json": {
       "model_id": "",
       "version_major": 2,
       "version_minor": 0
      },
      "text/plain": [
       "HBox(children=(FloatProgress(value=1.0, bar_style='info', description='Training', layout=Layout(flex='2'), max…"
      ]
     },
     "metadata": {},
     "output_type": "display_data"
    },
    {
     "name": "stdout",
     "output_type": "stream",
     "text": [
      "|   epoch |   train_f1 |   train_acc | stage   |   train_loss |\n",
      "|--------:|-----------:|------------:|:--------|-------------:|\n",
      "|       0 |     0.1088 |      0.1685 | Train   |       2.2849 |\n"
     ]
    },
    {
     "data": {
      "application/vnd.jupyter.widget-view+json": {
       "model_id": "",
       "version_major": 2,
       "version_minor": 0
      },
      "text/plain": [
       "HBox(children=(FloatProgress(value=1.0, bar_style='info', description='Training', layout=Layout(flex='2'), max…"
      ]
     },
     "metadata": {},
     "output_type": "display_data"
    },
    {
     "name": "stdout",
     "output_type": "stream",
     "text": [
      "|   epoch |   train_f1 |   train_acc | stage   |   train_loss |\n",
      "|--------:|-----------:|------------:|:--------|-------------:|\n",
      "|       1 |     0.6442 |      0.6674 | Train   |       1.3894 |\n"
     ]
    },
    {
     "data": {
      "application/vnd.jupyter.widget-view+json": {
       "model_id": "",
       "version_major": 2,
       "version_minor": 0
      },
      "text/plain": [
       "HBox(children=(FloatProgress(value=1.0, bar_style='info', description='Training', layout=Layout(flex='2'), max…"
      ]
     },
     "metadata": {},
     "output_type": "display_data"
    },
    {
     "name": "stdout",
     "output_type": "stream",
     "text": [
      "|   epoch |   train_f1 |   train_acc | stage   |   train_loss |\n",
      "|--------:|-----------:|------------:|:--------|-------------:|\n",
      "|       2 |     0.9428 |      0.9434 | Train   |       0.1863 |\n"
     ]
    },
    {
     "data": {
      "application/vnd.jupyter.widget-view+json": {
       "model_id": "",
       "version_major": 2,
       "version_minor": 0
      },
      "text/plain": [
       "HBox(children=(FloatProgress(value=1.0, bar_style='info', description='Training', layout=Layout(flex='2'), max…"
      ]
     },
     "metadata": {},
     "output_type": "display_data"
    },
    {
     "name": "stdout",
     "output_type": "stream",
     "text": [
      "|   epoch |   train_f1 |   train_acc | stage   |   train_loss |\n",
      "|--------:|-----------:|------------:|:--------|-------------:|\n",
      "|       3 |      0.978 |      0.9782 | Train   |       0.0717 |\n"
     ]
    },
    {
     "data": {
      "application/vnd.jupyter.widget-view+json": {
       "model_id": "",
       "version_major": 2,
       "version_minor": 0
      },
      "text/plain": [
       "HBox(children=(FloatProgress(value=1.0, bar_style='info', description='Training', layout=Layout(flex='2'), max…"
      ]
     },
     "metadata": {},
     "output_type": "display_data"
    },
    {
     "name": "stdout",
     "output_type": "stream",
     "text": [
      "|   epoch |   train_f1 |   train_acc | stage   |   train_loss |\n",
      "|--------:|-----------:|------------:|:--------|-------------:|\n",
      "|       4 |     0.9845 |      0.9846 | Train   |       0.0508 |\n"
     ]
    },
    {
     "data": {
      "application/vnd.jupyter.widget-view+json": {
       "model_id": "",
       "version_major": 2,
       "version_minor": 0
      },
      "text/plain": [
       "HBox(children=(FloatProgress(value=1.0, bar_style='info', description='Training', layout=Layout(flex='2'), max…"
      ]
     },
     "metadata": {},
     "output_type": "display_data"
    },
    {
     "name": "stdout",
     "output_type": "stream",
     "text": [
      "|   epoch |   train_f1 |   train_acc | stage   |   train_loss |\n",
      "|--------:|-----------:|------------:|:--------|-------------:|\n",
      "|       5 |     0.9891 |      0.9891 | Train   |       0.0365 |\n"
     ]
    },
    {
     "data": {
      "application/vnd.jupyter.widget-view+json": {
       "model_id": "",
       "version_major": 2,
       "version_minor": 0
      },
      "text/plain": [
       "HBox(children=(FloatProgress(value=1.0, bar_style='info', description='Training', layout=Layout(flex='2'), max…"
      ]
     },
     "metadata": {},
     "output_type": "display_data"
    },
    {
     "data": {
      "application/vnd.jupyter.widget-view+json": {
       "model_id": "",
       "version_major": 2,
       "version_minor": 0
      },
      "text/plain": [
       "HBox(children=(FloatProgress(value=1.0, bar_style='info', description='Testing', layout=Layout(flex='2'), max=…"
      ]
     },
     "metadata": {},
     "output_type": "display_data"
    },
    {
     "name": "stdout",
     "output_type": "stream",
     "text": [
      "|   epoch |   train_f1 |   test_f1 |   train_acc |   test_acc | stage   |   train_loss |   test_loss |\n",
      "|--------:|-----------:|----------:|------------:|-----------:|:--------|-------------:|------------:|\n",
      "|       5 |     0.9891 |    0.9859 |      0.9891 |      0.986 | Test    |       0.0365 |      0.0411 |\n"
     ]
    }
   ],
   "source": [
    "full_train_result = ptl_ray_runner.run_single_trial(\n",
    "    LMODULE_CLASS,\n",
    "    FT_CONFIG,\n",
    "    FT_TUNE_CONFIG,\n",
    ")"
   ]
  },
  {
   "cell_type": "code",
   "execution_count": 30,
   "metadata": {
    "collapsed": false,
    "jupyter": {
     "outputs_hidden": false
    },
    "pycharm": {
     "name": "#%%\n"
    }
   },
   "outputs": [
    {
     "data": {
      "image/png": "[encoded data removed]",
      "text/plain": [
       "<Figure size 864x864 with 9 Axes>"
      ]
     },
     "metadata": {
      "needs_background": "light"
     },
     "output_type": "display_data"
    }
   ],
   "source": [
    "show_some_predictions(loaders_dict, full_train_result[\"lmodule_best\"])"
   ]
  }
 ],
 "metadata": {
  "accelerator": "GPU",
  "colab": {
   "collapsed_sections": [],
   "machine_shape": "hm",
   "name": "[homework]BERT_for_text_classification.ipynb",
   "provenance": []
  },
  "kernelspec": {
   "display_name": "Python 3",
   "language": "python",
   "name": "python3"
  },
  "language_info": {
   "codemirror_mode": {
    "name": "ipython",
    "version": 3
   },
   "file_extension": ".py",
   "mimetype": "text/x-python",
   "name": "python",
   "nbconvert_exporter": "python",
   "pygments_lexer": "ipython3",
   "version": "3.8.5"
  },
  "widgets": {
   "application/vnd.jupyter.widget-state+json": {
    "state": {},
    "version_major": 2,
    "version_minor": 0
   }
  }
 },
 "nbformat": 4,
 "nbformat_minor": 4
}