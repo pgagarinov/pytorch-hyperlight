{
 "cells": [
  {
   "cell_type": "markdown",
   "metadata": {
    "papermill": {
     "duration": 0.050774,
     "end_time": "2021-01-21T09:04:49.744393",
     "exception": false,
     "start_time": "2021-01-21T09:04:49.693619",
     "status": "completed"
    },
    "tags": []
   },
   "source": [
    "# MNIST classification using LeNet"
   ]
  },
  {
   "cell_type": "code",
   "execution_count": 1,
   "metadata": {
    "execution": {
     "iopub.execute_input": "2022-10-01T22:24:49.802216Z",
     "iopub.status.busy": "2022-10-01T22:24:49.801746Z",
     "iopub.status.idle": "2022-10-01T22:24:54.642289Z",
     "shell.execute_reply": "2022-10-01T22:24:54.640562Z",
     "shell.execute_reply.started": "2022-10-01T22:24:49.802113Z"
    },
    "papermill": {
     "duration": 4.093941,
     "end_time": "2021-01-21T09:04:53.889298",
     "exception": false,
     "start_time": "2021-01-21T09:04:49.795357",
     "status": "completed"
    },
    "tags": []
   },
   "outputs": [],
   "source": [
    "import warnings\n",
    "from pathlib import Path\n",
    "\n",
    "import matplotlib.patches as patches\n",
    "import numpy as np\n",
    "import pytorch_hyperlight as pth\n",
    "import pytorch_lightning as pl\n",
    "import torchmetrics as metrics\n",
    "import torch\n",
    "import torch.nn.functional as F\n",
    "from matplotlib import pyplot as plt\n",
    "from matplotlib.font_manager import FontProperties\n",
    "from pytorch_lightning import Callback\n",
    "from IPython.display import display\n",
    "from ray import tune\n",
    "from torch import nn\n",
    "from torch.utils.data import DataLoader, random_split\n",
    "from torchvision import transforms\n",
    "from torchvision.datasets.mnist import MNIST\n",
    "from transformers import AdamW, get_linear_schedule_with_warmup"
   ]
  },
  {
   "cell_type": "code",
   "execution_count": 2,
   "metadata": {
    "execution": {
     "iopub.execute_input": "2022-10-01T22:24:54.646295Z",
     "iopub.status.busy": "2022-10-01T22:24:54.645490Z",
     "iopub.status.idle": "2022-10-01T22:24:54.654277Z",
     "shell.execute_reply": "2022-10-01T22:24:54.652043Z",
     "shell.execute_reply.started": "2022-10-01T22:24:54.646244Z"
    },
    "papermill": {
     "duration": 0.067139,
     "end_time": "2021-01-21T09:04:54.007153",
     "exception": false,
     "start_time": "2021-01-21T09:04:53.940014",
     "status": "completed"
    },
    "tags": [
     "parameters"
    ]
   },
   "outputs": [],
   "source": [
    "USAGE_MODE_LIST = [\"single-run\", \"hyper-opt\"]  # choose from 'single-run' and 'hyper-opt'\n",
    "# USAGE_MODE_LIST = [\"hyper-opt\"]\n",
    "# USAGE_MODE_LIST = [\"single-run\"]\n",
    "FAST_DEV_RUN = False  # if true, simplifed configurations running for just a few epochs are used for making sure there are no obvious bugs"
   ]
  },
  {
   "cell_type": "code",
   "execution_count": 3,
   "metadata": {
    "execution": {
     "iopub.execute_input": "2022-10-01T22:24:54.656636Z",
     "iopub.status.busy": "2022-10-01T22:24:54.656042Z",
     "iopub.status.idle": "2022-10-01T22:24:54.669952Z",
     "shell.execute_reply": "2022-10-01T22:24:54.668485Z",
     "shell.execute_reply.started": "2022-10-01T22:24:54.656582Z"
    }
   },
   "outputs": [],
   "source": [
    "SEED = 16"
   ]
  },
  {
   "cell_type": "code",
   "execution_count": 4,
   "metadata": {
    "execution": {
     "iopub.execute_input": "2022-10-01T22:24:54.671755Z",
     "iopub.status.busy": "2022-10-01T22:24:54.671272Z",
     "iopub.status.idle": "2022-10-01T22:24:54.682769Z",
     "shell.execute_reply": "2022-10-01T22:24:54.681286Z",
     "shell.execute_reply.started": "2022-10-01T22:24:54.671711Z"
    },
    "papermill": {
     "duration": 0.062663,
     "end_time": "2021-01-21T09:04:54.237548",
     "exception": false,
     "start_time": "2021-01-21T09:04:54.174885",
     "status": "completed"
    },
    "tags": []
   },
   "outputs": [],
   "source": [
    "EXPERIMENT_ID = \"boring-mnist\"\n",
    "\n",
    "DATASETS_PATH = Path.cwd()\n",
    "\n",
    "warnings.filterwarnings(\"ignore\")\n",
    "\n",
    "\n",
    "# a dedicated function for creating datasets\n",
    "# please note how 'full_train_dataset' is created along with train,\n",
    "# val and test datasets\n",
    "def create_datasets(val_size=0.2):\n",
    "    pl.seed_everything(SEED)\n",
    "    #\n",
    "    full_train_dataset = MNIST(\n",
    "        DATASETS_PATH, train=True, download=True, transform=transforms.ToTensor()\n",
    "    )\n",
    "    test_dataset = MNIST(\n",
    "        DATASETS_PATH, train=False, download=True, transform=transforms.ToTensor()\n",
    "    )\n",
    "    n_full_train_samples = len(full_train_dataset)\n",
    "    n_val_samples = int(n_full_train_samples * val_size)\n",
    "    train_dataset, val_dataset = random_split(\n",
    "        full_train_dataset, [n_full_train_samples - n_val_samples, n_val_samples]\n",
    "    )\n",
    "\n",
    "    n_classes = len(MNIST.classes)\n",
    "\n",
    "    return {\n",
    "        \"full_train_dataset\": full_train_dataset,\n",
    "        \"train_dataset\": train_dataset,\n",
    "        \"val_dataset\": val_dataset,\n",
    "        \"test_dataset\": test_dataset,\n",
    "        \"n_classes\": n_classes,\n",
    "    }"
   ]
  },
  {
   "cell_type": "code",
   "execution_count": 5,
   "metadata": {
    "execution": {
     "iopub.execute_input": "2022-10-01T22:24:54.684741Z",
     "iopub.status.busy": "2022-10-01T22:24:54.684326Z",
     "iopub.status.idle": "2022-10-01T22:24:54.694802Z",
     "shell.execute_reply": "2022-10-01T22:24:54.693272Z",
     "shell.execute_reply.started": "2022-10-01T22:24:54.684693Z"
    },
    "id": "uJ6-Ce3Fuhno",
    "papermill": {
     "duration": 0.062039,
     "end_time": "2021-01-21T09:04:54.348250",
     "exception": false,
     "start_time": "2021-01-21T09:04:54.286211",
     "status": "completed"
    },
    "tags": []
   },
   "outputs": [],
   "source": [
    "def imshow(inp, title=None, plt_ax=plt, default=False):\n",
    "    \"\"\"Imshow for tensors\"\"\"\n",
    "    inp = inp.numpy().transpose((1, 2, 0))\n",
    "    mean = np.array([0.485, 0.456, 0.406])\n",
    "    std = np.array([0.229, 0.224, 0.225])\n",
    "    inp = std * inp + mean\n",
    "    inp = np.clip(inp, 0, 1)\n",
    "    plt_ax.imshow(inp)\n",
    "    if title is not None:\n",
    "        plt_ax.set_title(title)\n",
    "    plt_ax.grid(False)"
   ]
  },
  {
   "cell_type": "code",
   "execution_count": 6,
   "metadata": {
    "collapsed": false,
    "execution": {
     "iopub.execute_input": "2022-10-01T22:24:54.696595Z",
     "iopub.status.busy": "2022-10-01T22:24:54.696100Z",
     "iopub.status.idle": "2022-10-01T22:24:54.708090Z",
     "shell.execute_reply": "2022-10-01T22:24:54.706425Z",
     "shell.execute_reply.started": "2022-10-01T22:24:54.696523Z"
    },
    "jupyter": {
     "outputs_hidden": false
    },
    "papermill": {
     "duration": 0.062433,
     "end_time": "2021-01-21T09:04:54.460577",
     "exception": false,
     "start_time": "2021-01-21T09:04:54.398144",
     "status": "completed"
    },
    "pycharm": {
     "name": "#%%\n"
    },
    "tags": []
   },
   "outputs": [],
   "source": [
    "# a dedicated function for creating dataloaders\n",
    "# 'full_train_loader' is created along with standard 3 loaderers\n",
    "# for training, validation and testing datasets\n",
    "def configure_dataloaders(batch_size, n_workers=4, val_size=0.2):\n",
    "    #\n",
    "    SHUFFLE = True\n",
    "    SAMPLER = None\n",
    "    #\n",
    "    result_dict = create_datasets(val_size)\n",
    "    #\n",
    "    for prefix in [\"train\", \"full_train\"]:\n",
    "\n",
    "        result_dict[f\"{prefix}_loader\"] = DataLoader(\n",
    "            result_dict[f\"{prefix}_dataset\"],\n",
    "            batch_size=batch_size,\n",
    "            shuffle=SHUFFLE,\n",
    "            sampler=SAMPLER,\n",
    "            num_workers=n_workers,\n",
    "            pin_memory=True,\n",
    "        )\n",
    "    #\n",
    "    for prefix in [\"val\", \"test\"]:\n",
    "        result_dict[f\"{prefix}_loader\"] = DataLoader(\n",
    "            result_dict[f\"{prefix}_dataset\"],\n",
    "            batch_size=batch_size,\n",
    "            shuffle=False,\n",
    "            num_workers=n_workers,\n",
    "            pin_memory=True,\n",
    "        )\n",
    "\n",
    "    return result_dict"
   ]
  },
  {
   "cell_type": "markdown",
   "metadata": {
    "papermill": {
     "duration": 0.048971,
     "end_time": "2021-01-21T09:04:54.560081",
     "exception": false,
     "start_time": "2021-01-21T09:04:54.511110",
     "status": "completed"
    },
    "tags": []
   },
   "source": [
    "Let us make sure our dataloaders can be created correctly"
   ]
  },
  {
   "cell_type": "code",
   "execution_count": 7,
   "metadata": {
    "execution": {
     "iopub.execute_input": "2022-10-01T22:24:54.712885Z",
     "iopub.status.busy": "2022-10-01T22:24:54.712356Z",
     "iopub.status.idle": "2022-10-01T22:24:57.496518Z",
     "shell.execute_reply": "2022-10-01T22:24:57.494746Z",
     "shell.execute_reply.started": "2022-10-01T22:24:54.712803Z"
    },
    "papermill": {
     "duration": 3.786079,
     "end_time": "2021-01-21T09:04:58.391717",
     "exception": false,
     "start_time": "2021-01-21T09:04:54.605638",
     "status": "completed"
    },
    "tags": []
   },
   "outputs": [
    {
     "name": "stderr",
     "output_type": "stream",
     "text": [
      "Global seed set to 16\n"
     ]
    }
   ],
   "source": [
    "BATCH_SIZE = 32\n",
    "\n",
    "loaders_dict = configure_dataloaders(BATCH_SIZE)\n",
    "\n",
    "loaders_dict\n",
    "\n",
    "batch = next(iter(loaders_dict[\"train_loader\"]))\n",
    "assert len(batch[0]) > 0"
   ]
  },
  {
   "cell_type": "code",
   "execution_count": 8,
   "metadata": {
    "execution": {
     "iopub.execute_input": "2022-10-01T22:24:57.499060Z",
     "iopub.status.busy": "2022-10-01T22:24:57.498641Z",
     "iopub.status.idle": "2022-10-01T22:24:57.578899Z",
     "shell.execute_reply": "2022-10-01T22:24:57.577228Z",
     "shell.execute_reply.started": "2022-10-01T22:24:57.498999Z"
    },
    "papermill": {
     "duration": 0.192699,
     "end_time": "2021-01-21T09:04:58.635156",
     "exception": false,
     "start_time": "2021-01-21T09:04:58.442457",
     "status": "completed"
    },
    "tags": []
   },
   "outputs": [
    {
     "name": "stderr",
     "output_type": "stream",
     "text": [
      "Global seed set to 16\n"
     ]
    },
    {
     "data": {
      "text/plain": [
       "60000"
      ]
     },
     "execution_count": 8,
     "metadata": {},
     "output_type": "execute_result"
    }
   ],
   "source": [
    "result_dict = create_datasets(0.2)\n",
    "len(result_dict[\"full_train_dataset\"])"
   ]
  },
  {
   "cell_type": "code",
   "execution_count": 9,
   "metadata": {
    "execution": {
     "iopub.execute_input": "2022-10-01T22:24:57.599908Z",
     "iopub.status.busy": "2022-10-01T22:24:57.599347Z",
     "iopub.status.idle": "2022-10-01T22:24:57.622872Z",
     "shell.execute_reply": "2022-10-01T22:24:57.618924Z",
     "shell.execute_reply.started": "2022-10-01T22:24:57.599844Z"
    },
    "papermill": {
     "duration": 0.062142,
     "end_time": "2021-01-21T09:04:58.783040",
     "exception": false,
     "start_time": "2021-01-21T09:04:58.720898",
     "status": "completed"
    },
    "tags": []
   },
   "outputs": [
    {
     "data": {
      "text/plain": [
       "10"
      ]
     },
     "execution_count": 9,
     "metadata": {},
     "output_type": "execute_result"
    }
   ],
   "source": [
    "loaders_dict[\"n_classes\"]"
   ]
  },
  {
   "cell_type": "markdown",
   "metadata": {
    "papermill": {
     "duration": 0.051245,
     "end_time": "2021-01-21T09:04:58.883383",
     "exception": false,
     "start_time": "2021-01-21T09:04:58.832138",
     "status": "completed"
    },
    "tags": []
   },
   "source": [
    "### Defining the model"
   ]
  },
  {
   "cell_type": "markdown",
   "metadata": {
    "papermill": {
     "duration": 0.051186,
     "end_time": "2021-01-21T09:04:58.986433",
     "exception": false,
     "start_time": "2021-01-21T09:04:58.935247",
     "status": "completed"
    },
    "tags": []
   },
   "source": [
    "Let define a dedicated class for metrics calculation"
   ]
  },
  {
   "cell_type": "code",
   "execution_count": 10,
   "metadata": {
    "execution": {
     "iopub.execute_input": "2022-10-01T22:24:57.628670Z",
     "iopub.status.busy": "2022-10-01T22:24:57.628018Z",
     "iopub.status.idle": "2022-10-01T22:24:57.661810Z",
     "shell.execute_reply": "2022-10-01T22:24:57.659562Z",
     "shell.execute_reply.started": "2022-10-01T22:24:57.628607Z"
    },
    "papermill": {
     "duration": 0.06031,
     "end_time": "2021-01-21T09:04:59.097164",
     "exception": false,
     "start_time": "2021-01-21T09:04:59.036854",
     "status": "completed"
    },
    "tags": []
   },
   "outputs": [],
   "source": [
    "class LitMetricsCalc(torch.nn.Module):\n",
    "    def __init__(self, prefix, num_classes):\n",
    "        super(LitMetricsCalc, self).__init__()\n",
    "        self.acc = metrics.classification.Accuracy()\n",
    "        self.f1 = metrics.classification.F1Score(num_classes=num_classes, average=\"macro\")\n",
    "        self.prefix = prefix\n",
    "\n",
    "    def step(self, logit, target):\n",
    "        probs = torch.softmax(logit, dim=1)\n",
    "        prefix = self.prefix\n",
    "        self.acc(probs, target)\n",
    "        self.f1(probs, target)\n",
    "\n",
    "        return {\n",
    "            f\"{prefix}_acc\": self.acc,\n",
    "            f\"{prefix}_f1\": self.f1,\n",
    "        }"
   ]
  },
  {
   "cell_type": "code",
   "execution_count": 11,
   "metadata": {
    "collapsed": false,
    "execution": {
     "iopub.execute_input": "2022-10-01T22:24:57.668413Z",
     "iopub.status.busy": "2022-10-01T22:24:57.666247Z",
     "iopub.status.idle": "2022-10-01T22:24:57.706363Z",
     "shell.execute_reply": "2022-10-01T22:24:57.703969Z",
     "shell.execute_reply.started": "2022-10-01T22:24:57.668357Z"
    },
    "jupyter": {
     "outputs_hidden": false
    },
    "papermill": {
     "duration": 0.060447,
     "end_time": "2021-01-21T09:04:59.205907",
     "exception": false,
     "start_time": "2021-01-21T09:04:59.145460",
     "status": "completed"
    },
    "pycharm": {
     "name": "#%%\n"
    },
    "tags": []
   },
   "outputs": [],
   "source": [
    "class LeNetBoringMNIST(nn.Module):\n",
    "    def __init__(self, n_classes):\n",
    "        super().__init__()\n",
    "        self.conv1 = nn.Conv2d(1, 6, 3)\n",
    "        self.conv2 = nn.Conv2d(6, 16, 3)\n",
    "        self.fc1 = nn.Linear(16 * 5 * 5, 120)\n",
    "        self.fc2 = nn.Linear(120, 84)\n",
    "        self.fc3 = nn.Linear(84, n_classes)\n",
    "\n",
    "    def forward(self, x):\n",
    "        x = F.max_pool2d(F.relu(self.conv1(x)), (2, 2))\n",
    "        x = F.max_pool2d(F.relu(self.conv2(x)), 2)\n",
    "        x = x.view(-1, int(x.nelement() / x.shape[0]))\n",
    "        x = F.relu(self.fc1(x))\n",
    "        x = F.relu(self.fc2(x))\n",
    "        x = self.fc3(x)\n",
    "        return x"
   ]
  },
  {
   "cell_type": "code",
   "execution_count": 12,
   "metadata": {
    "execution": {
     "iopub.execute_input": "2022-10-01T22:24:57.708410Z",
     "iopub.status.busy": "2022-10-01T22:24:57.707829Z",
     "iopub.status.idle": "2022-10-01T22:24:57.732650Z",
     "shell.execute_reply": "2022-10-01T22:24:57.731089Z",
     "shell.execute_reply.started": "2022-10-01T22:24:57.708367Z"
    },
    "papermill": {
     "duration": 0.07539,
     "end_time": "2021-01-21T09:04:59.329359",
     "exception": false,
     "start_time": "2021-01-21T09:04:59.253969",
     "status": "completed"
    },
    "tags": []
   },
   "outputs": [],
   "source": [
    "class LitBoringMNIST(pl.LightningModule):\n",
    "    def __init__(self, hparams):\n",
    "        super().__init__()\n",
    "        self.save_hyperparameters(hparams)\n",
    "        #\n",
    "        n_classes = self.hparams.n_classes\n",
    "        #\n",
    "        model = LeNetBoringMNIST(n_classes)\n",
    "        #\n",
    "        self.model = model\n",
    "        self.train_metric_calc = LitMetricsCalc(\"train\", num_classes=n_classes)\n",
    "        self.val_metric_calc = LitMetricsCalc(\"val\", num_classes=n_classes)\n",
    "        self.test_metric_calc = LitMetricsCalc(\"test\", num_classes=n_classes)\n",
    "        self.freeze()\n",
    "\n",
    "    def freeze(self):\n",
    "        for param in self.model.parameters():\n",
    "            param.requires_grad = False\n",
    "\n",
    "    def unfreeze(self):\n",
    "        for param in self.model.parameters():\n",
    "            param.requires_grad = True\n",
    "\n",
    "    def unfreeze_tail(self, ind_layer):\n",
    "        assert ind_layer >= 0\n",
    "        ind = ind_layer\n",
    "        while True:\n",
    "            if ind == 0:\n",
    "                for param in self.model.fc3.parameters():\n",
    "                    param.requires_grad = True\n",
    "            elif ind == 1:\n",
    "                for param in self.model.fc2.parameters():\n",
    "                    param.requires_grad = True\n",
    "            elif ind == 2:\n",
    "                for param in self.model.fc1.parameters():\n",
    "                    param.requires_grad = True\n",
    "            ind -= 1\n",
    "            if ind < 0:\n",
    "                break\n",
    "\n",
    "    def configure_optimizers(self):\n",
    "        optimizer = AdamW(\n",
    "            self.model.parameters(),\n",
    "            lr=self.hparams.lr,\n",
    "        )\n",
    "\n",
    "        scheduler = get_linear_schedule_with_warmup(\n",
    "            optimizer, self.hparams.warmup, self.hparams.n_train_steps\n",
    "        )\n",
    "        return [optimizer], [\n",
    "            {\"scheduler\": scheduler, \"interval\": \"step\", \"frequency\": 1}\n",
    "        ]\n",
    "\n",
    "    def forward(self, inputs):\n",
    "        logits = self.model(inputs)\n",
    "        return logits\n",
    "\n",
    "    def forward_batch(self, batch):\n",
    "        inputs = batch[0]\n",
    "        return self(inputs)\n",
    "\n",
    "    def __calc_loss(self, logits, target, log_label):\n",
    "        loss = F.cross_entropy(logits, target)\n",
    "        self.log(f\"{log_label}_loss\", loss, prog_bar=True, on_step=True, on_epoch=True)\n",
    "        return loss\n",
    "\n",
    "    def __stage_step(self, metric_calc, batch, batch_idx, stage):\n",
    "        logits = self.forward_batch(batch)\n",
    "        mval_dict = metric_calc.step(logits, batch[1])\n",
    "        self.log_dict(mval_dict, prog_bar=True, on_step=True, on_epoch=True)\n",
    "        loss = self.__calc_loss(logits, batch[1], stage)\n",
    "        return loss\n",
    "\n",
    "    def training_step(self, batch, batch_idx):\n",
    "        return self.__stage_step(self.train_metric_calc, batch, batch_idx, \"train\")\n",
    "\n",
    "    def test_step(self, batch, batch_idx):\n",
    "        return self.__stage_step(self.test_metric_calc, batch, batch_idx, \"test\")\n",
    "\n",
    "    def validation_step(self, batch, batch_idx):\n",
    "        return self.__stage_step(self.val_metric_calc, batch, batch_idx, \"val\")"
   ]
  },
  {
   "cell_type": "code",
   "execution_count": 13,
   "metadata": {
    "collapsed": false,
    "execution": {
     "iopub.execute_input": "2022-10-01T22:24:57.734798Z",
     "iopub.status.busy": "2022-10-01T22:24:57.734318Z",
     "iopub.status.idle": "2022-10-01T22:24:57.745991Z",
     "shell.execute_reply": "2022-10-01T22:24:57.744563Z",
     "shell.execute_reply.started": "2022-10-01T22:24:57.734742Z"
    },
    "jupyter": {
     "outputs_hidden": false
    },
    "papermill": {
     "duration": 0.055787,
     "end_time": "2021-01-21T09:04:59.434793",
     "exception": false,
     "start_time": "2021-01-21T09:04:59.379006",
     "status": "completed"
    },
    "pycharm": {
     "name": "#%%\n"
    },
    "tags": []
   },
   "outputs": [],
   "source": [
    "N_CLASSES = loaders_dict[\"n_classes\"]\n",
    "LMODULE_CLASS = LitBoringMNIST\n",
    "IS_CUDA = torch.cuda.is_available()\n",
    "GPU_PER_TRIAL = 0.3 * IS_CUDA"
   ]
  },
  {
   "cell_type": "code",
   "execution_count": 14,
   "metadata": {
    "execution": {
     "iopub.execute_input": "2022-10-01T22:24:57.747666Z",
     "iopub.status.busy": "2022-10-01T22:24:57.747249Z",
     "iopub.status.idle": "2022-10-01T22:24:57.758107Z",
     "shell.execute_reply": "2022-10-01T22:24:57.756354Z",
     "shell.execute_reply.started": "2022-10-01T22:24:57.747628Z"
    },
    "papermill": {
     "duration": 0.06012,
     "end_time": "2021-01-21T09:04:59.543318",
     "exception": false,
     "start_time": "2021-01-21T09:04:59.483198",
     "status": "completed"
    },
    "tags": []
   },
   "outputs": [],
   "source": [
    "CONFIG = {\n",
    "    \"lr\": 1e-3,  # Initial learning rate\n",
    "    \"warmup\": 200,  # For LinearSchedulerWihtWarmup\n",
    "    \"gradient_clip_val\": 0,\n",
    "    \"max_epochs\": 6,  # the actual number can be less due to early stopping\n",
    "    \"batch_size\": 64,\n",
    "    \"n_classes\": N_CLASSES,\n",
    "    \"unfreeze_epochs\": [0, 1]  # 2-phase unfreeze,\n",
    "    #    unfreeze the tip of the tail at the start of epoch 0,\n",
    "    #    then unfreeze one more layer at epoch 1,\n",
    "}\n",
    "\n",
    "TUNE_CONFIG = {\n",
    "    \"seed\": SEED,  # just remove this if you do not want determenistic behavior\n",
    "    \"metric_to_optimize\": \"val_f1_epoch\",  # Ray + PTL Trainer\n",
    "    \"ray_metrics_to_show\": [\n",
    "        \"val_loss_epoch\",\n",
    "        \"val_f1_epoch\",\n",
    "        \"val_acc_epoch\",\n",
    "    ],  # for Ray Tune\n",
    "    \"metric_opt_mode\": \"max\",  # Ray + PTL Trainer\n",
    "    \"cpu_per_trial\": 3,  # Ray + DataLoaders\n",
    "    \"gpu_per_trial\": GPU_PER_TRIAL,  # for Ray Tune\n",
    "    \"n_checkpoints_to_keep\": 1,  # for Ray Tune\n",
    "    \"grace_period\": 6,  # for both PTL Trainer and Ray Tune scheduler\n",
    "    \"epoch_upper_limit\": 45,  # for Ray Tune\n",
    "    \"n_samples\": 3,  # for Ray Tune\n",
    "    \"ptl_early_stopping_patience\": 7,  # for PTL Trainer\n",
    "    \"ptl_precision\": 32,  # or 16, for PTL Trainer\n",
    "    \"train_loader_name\": \"train_loader\",\n",
    "    \"val_loader_name\": \"val_loader\",\n",
    "    \"test_loader_name\": \"test_loader\",\n",
    "    \"batch_size_main\": CONFIG[\n",
    "        \"batch_size\"\n",
    "    ],  # batch size for revalidation and test phases\n",
    "    #    that run in the main process after all Ray Tune child processes are finished\n",
    "    \"gpus\": -1 * IS_CUDA,  # -1 - use GPU if available, 0 - use CPU, 1 - use single GPU,\n",
    "    # >=2 - use multiple GPUs\n",
    "}\n",
    "\n",
    "if FAST_DEV_RUN:\n",
    "    CONFIG[\"max_epochs\"] = 2\n",
    "    TUNE_CONFIG[\"n_samples\"] = 2"
   ]
  },
  {
   "cell_type": "code",
   "execution_count": 15,
   "metadata": {
    "execution": {
     "iopub.execute_input": "2022-10-01T22:24:57.760308Z",
     "iopub.status.busy": "2022-10-01T22:24:57.759874Z",
     "iopub.status.idle": "2022-10-01T22:24:57.772118Z",
     "shell.execute_reply": "2022-10-01T22:24:57.770254Z",
     "shell.execute_reply.started": "2022-10-01T22:24:57.760261Z"
    },
    "papermill": {
     "duration": 0.058875,
     "end_time": "2021-01-21T09:04:59.653105",
     "exception": false,
     "start_time": "2021-01-21T09:04:59.594230",
     "status": "completed"
    },
    "tags": []
   },
   "outputs": [],
   "source": [
    "class UnfreezeModelTailCallback(Callback):\n",
    "    def __init__(self, epoch_vec):\n",
    "        super().__init__()\n",
    "        self.epoch_vec = epoch_vec\n",
    "\n",
    "    def on_epoch_start(self, trainer, pl_module):\n",
    "        if trainer.current_epoch <= self.epoch_vec[0]:\n",
    "            pl_module.unfreeze_tail(0)\n",
    "        elif trainer.current_epoch <= self.epoch_vec[1]:\n",
    "            pl_module.unfreeze_tail(1)\n",
    "        else:\n",
    "            pl_module.unfreeze()\n",
    "\n",
    "\n",
    "pl_callbacks = [UnfreezeModelTailCallback(CONFIG[\"unfreeze_epochs\"])]"
   ]
  },
  {
   "cell_type": "code",
   "execution_count": 16,
   "metadata": {
    "execution": {
     "iopub.execute_input": "2022-10-01T22:24:57.774148Z",
     "iopub.status.busy": "2022-10-01T22:24:57.773739Z",
     "iopub.status.idle": "2022-10-01T22:24:57.784632Z",
     "shell.execute_reply": "2022-10-01T22:24:57.783384Z",
     "shell.execute_reply.started": "2022-10-01T22:24:57.774099Z"
    },
    "papermill": {
     "duration": 0.06663,
     "end_time": "2021-01-21T09:04:59.768649",
     "exception": false,
     "start_time": "2021-01-21T09:04:59.702019",
     "status": "completed"
    },
    "tags": []
   },
   "outputs": [],
   "source": [
    "runner = pth.Runner(\n",
    "    configure_dataloaders,\n",
    "    pl_callbacks=pl_callbacks,\n",
    "    is_debug=FAST_DEV_RUN,\n",
    "    experiment_id=EXPERIMENT_ID,\n",
    "    log2wandb=False\n",
    ")"
   ]
  },
  {
   "cell_type": "markdown",
   "metadata": {
    "papermill": {
     "duration": 0.050323,
     "end_time": "2021-01-21T09:04:59.871492",
     "exception": false,
     "start_time": "2021-01-21T09:04:59.821169",
     "status": "completed"
    },
    "tags": []
   },
   "source": [
    "#### Run a single trial (train-validation-test cycle)"
   ]
  },
  {
   "cell_type": "code",
   "execution_count": 17,
   "metadata": {
    "execution": {
     "iopub.execute_input": "2022-10-01T22:24:57.786170Z",
     "iopub.status.busy": "2022-10-01T22:24:57.785785Z",
     "iopub.status.idle": "2022-10-01T22:25:09.411386Z",
     "shell.execute_reply": "2022-10-01T22:25:09.409813Z",
     "shell.execute_reply.started": "2022-10-01T22:24:57.786124Z"
    },
    "papermill": {
     "duration": 108.743573,
     "end_time": "2021-01-21T09:06:48.667316",
     "exception": false,
     "start_time": "2021-01-21T09:04:59.923743",
     "status": "completed"
    },
    "tags": []
   },
   "outputs": [
    {
     "name": "stderr",
     "output_type": "stream",
     "text": [
      "GPU available: True, used: True\n",
      "TPU available: False, using: 0 TPU cores\n",
      "IPU available: False, using: 0 IPUs\n",
      "HPU available: False, using: 0 HPUs\n",
      "Global seed set to 16\n",
      "Global seed set to 16\n",
      "Global seed set to 16\n",
      "LOCAL_RANK: 0 - CUDA_VISIBLE_DEVICES: [0]\n",
      "\n",
      "  | Name              | Type             | Params\n",
      "-------------------------------------------------------\n",
      "0 | model             | LeNetBoringMNIST | 60.1 K\n",
      "1 | train_metric_calc | LitMetricsCalc   | 0     \n",
      "2 | val_metric_calc   | LitMetricsCalc   | 0     \n",
      "3 | test_metric_calc  | LitMetricsCalc   | 0     \n",
      "-------------------------------------------------------\n",
      "0         Trainable params\n",
      "60.1 K    Non-trainable params\n",
      "60.1 K    Total params\n",
      "0.240     Total estimated model params size (MB)\n"
     ]
    },
    {
     "data": {
      "application/vnd.jupyter.widget-view+json": {
       "model_id": "",
       "version_major": 2,
       "version_minor": 0
      },
      "text/plain": [
       "Sanity Checking: 0it [00:00, ?it/s]"
      ]
     },
     "metadata": {},
     "output_type": "display_data"
    },
    {
     "data": {
      "application/vnd.jupyter.widget-view+json": {
       "model_id": "36c5d2d9555449bca7383a073e6a065a",
       "version_major": 2,
       "version_minor": 0
      },
      "text/plain": [
       "Training: 0it [00:00, ?it/s]"
      ]
     },
     "metadata": {},
     "output_type": "display_data"
    },
    {
     "data": {
      "application/vnd.jupyter.widget-view+json": {
       "model_id": "",
       "version_major": 2,
       "version_minor": 0
      },
      "text/plain": [
       "Validation: 0it [00:00, ?it/s]"
      ]
     },
     "metadata": {},
     "output_type": "display_data"
    },
    {
     "data": {
      "image/png": "[encoded data removed]",
      "text/plain": [
       "<Figure size 2000x1200 with 3 Axes>"
      ]
     },
     "metadata": {},
     "output_type": "display_data"
    },
    {
     "name": "stderr",
     "output_type": "stream",
     "text": [
      "Global seed set to 16\n",
      "LOCAL_RANK: 0 - CUDA_VISIBLE_DEVICES: [0]\n"
     ]
    },
    {
     "data": {
      "application/vnd.jupyter.widget-view+json": {
       "model_id": "006aa76525b545fe9e25c2e2cb427179",
       "version_major": 2,
       "version_minor": 0
      },
      "text/plain": [
       "Testing: 0it [00:00, ?it/s]"
      ]
     },
     "metadata": {},
     "output_type": "display_data"
    },
    {
     "name": "stderr",
     "output_type": "stream",
     "text": [
      "Global seed set to 16\n",
      "LOCAL_RANK: 0 - CUDA_VISIBLE_DEVICES: [0]\n"
     ]
    }
   ],
   "source": [
    "if \"single-run\" in USAGE_MODE_LIST:\n",
    "    best_result = runner.run_single_trial(LMODULE_CLASS, CONFIG, TUNE_CONFIG)"
   ]
  },
  {
   "cell_type": "markdown",
   "metadata": {
    "papermill": {
     "duration": 0.058572,
     "end_time": "2021-01-21T09:06:48.874802",
     "exception": false,
     "start_time": "2021-01-21T09:06:48.816230",
     "status": "completed"
    },
    "tags": []
   },
   "source": [
    "#### Let us look at the resulting metrics timeseries in a tabular form"
   ]
  },
  {
   "cell_type": "code",
   "execution_count": 18,
   "metadata": {
    "execution": {
     "iopub.execute_input": "2022-10-01T22:25:09.414886Z",
     "iopub.status.busy": "2022-10-01T22:25:09.414265Z",
     "iopub.status.idle": "2022-10-01T22:25:09.426215Z",
     "shell.execute_reply": "2022-10-01T22:25:09.424611Z",
     "shell.execute_reply.started": "2022-10-01T22:25:09.414784Z"
    },
    "tags": []
   },
   "outputs": [
    {
     "data": {
      "text/plain": [
       "'{\"stage\":{\"0\":\"Val\",\"1\":\"Train\",\"2\":\"Val\",\"3\":\"Train\",\"4\":\"Reval\",\"5\":\"Test\"},\"epoch\":{\"0\":0,\"1\":0,\"2\":1,\"3\":1,\"4\":2,\"5\":2},\"stage-list\":{\"0\":[\"val\"],\"1\":[\"train\"],\"2\":[\"val\"],\"3\":[\"train\"],\"4\":[\"reval\"],\"5\":[\"test\"]},\"val_f1\":{\"0\":0.0419,\"1\":null,\"2\":0.0407,\"3\":null,\"4\":null,\"5\":null},\"val_acc\":{\"0\":0.125,\"1\":null,\"2\":0.125,\"3\":null,\"4\":null,\"5\":null},\"val_loss\":{\"0\":2.2989,\"1\":null,\"2\":2.2987,\"3\":null,\"4\":null,\"5\":null},\"train_f1\":{\"0\":null,\"1\":0.0291,\"2\":null,\"3\":0.036,\"4\":null,\"5\":null},\"train_acc\":{\"0\":null,\"1\":0.0891,\"2\":null,\"3\":0.1047,\"4\":null,\"5\":null},\"train_loss\":{\"0\":null,\"1\":2.3063,\"2\":null,\"3\":2.3026,\"4\":null,\"5\":null},\"reval_f1\":{\"0\":null,\"1\":null,\"2\":null,\"3\":null,\"4\":0.0419,\"5\":null},\"reval_acc\":{\"0\":null,\"1\":null,\"2\":null,\"3\":null,\"4\":0.125,\"5\":null},\"reval_loss\":{\"0\":null,\"1\":null,\"2\":null,\"3\":null,\"4\":2.2989,\"5\":null},\"test_f1\":{\"0\":null,\"1\":null,\"2\":null,\"3\":null,\"4\":null,\"5\":0.033},\"test_acc\":{\"0\":null,\"1\":null,\"2\":null,\"3\":null,\"4\":null,\"5\":0.0875},\"test_loss\":{\"0\":null,\"1\":null,\"2\":null,\"3\":null,\"4\":null,\"5\":2.3043}}'"
      ]
     },
     "execution_count": 18,
     "metadata": {},
     "output_type": "execute_result"
    }
   ],
   "source": [
    "best_result[\"metrics\"].df.to_json()"
   ]
  },
  {
   "cell_type": "code",
   "execution_count": 19,
   "metadata": {
    "execution": {
     "iopub.execute_input": "2022-10-01T22:25:09.428536Z",
     "iopub.status.busy": "2022-10-01T22:25:09.427523Z",
     "iopub.status.idle": "2022-10-01T22:25:09.460508Z",
     "shell.execute_reply": "2022-10-01T22:25:09.459133Z",
     "shell.execute_reply.started": "2022-10-01T22:25:09.428488Z"
    },
    "papermill": {
     "duration": 0.09842,
     "end_time": "2021-01-21T09:06:49.033921",
     "exception": false,
     "start_time": "2021-01-21T09:06:48.935501",
     "status": "completed"
    },
    "tags": []
   },
   "outputs": [
    {
     "data": {
      "text/html": [
       "<div>\n",
       "<style scoped>\n",
       "    .dataframe tbody tr th:only-of-type {\n",
       "        vertical-align: middle;\n",
       "    }\n",
       "\n",
       "    .dataframe tbody tr th {\n",
       "        vertical-align: top;\n",
       "    }\n",
       "\n",
       "    .dataframe thead th {\n",
       "        text-align: right;\n",
       "    }\n",
       "</style>\n",
       "<table border=\"1\" class=\"dataframe\">\n",
       "  <thead>\n",
       "    <tr style=\"text-align: right;\">\n",
       "      <th></th>\n",
       "      <th>stage</th>\n",
       "      <th>epoch</th>\n",
       "      <th>stage-list</th>\n",
       "      <th>val_f1</th>\n",
       "      <th>val_acc</th>\n",
       "      <th>val_loss</th>\n",
       "      <th>train_f1</th>\n",
       "      <th>train_acc</th>\n",
       "      <th>train_loss</th>\n",
       "      <th>reval_f1</th>\n",
       "      <th>reval_acc</th>\n",
       "      <th>reval_loss</th>\n",
       "      <th>test_f1</th>\n",
       "      <th>test_acc</th>\n",
       "      <th>test_loss</th>\n",
       "    </tr>\n",
       "  </thead>\n",
       "  <tbody>\n",
       "    <tr>\n",
       "      <th>0</th>\n",
       "      <td>Val</td>\n",
       "      <td>0</td>\n",
       "      <td>(val,)</td>\n",
       "      <td>0.0419</td>\n",
       "      <td>0.125</td>\n",
       "      <td>2.2989</td>\n",
       "      <td>NaN</td>\n",
       "      <td>NaN</td>\n",
       "      <td>NaN</td>\n",
       "      <td>NaN</td>\n",
       "      <td>NaN</td>\n",
       "      <td>NaN</td>\n",
       "      <td>NaN</td>\n",
       "      <td>NaN</td>\n",
       "      <td>NaN</td>\n",
       "    </tr>\n",
       "    <tr>\n",
       "      <th>1</th>\n",
       "      <td>Train</td>\n",
       "      <td>0</td>\n",
       "      <td>(train,)</td>\n",
       "      <td>NaN</td>\n",
       "      <td>NaN</td>\n",
       "      <td>NaN</td>\n",
       "      <td>0.0291</td>\n",
       "      <td>0.0891</td>\n",
       "      <td>2.3063</td>\n",
       "      <td>NaN</td>\n",
       "      <td>NaN</td>\n",
       "      <td>NaN</td>\n",
       "      <td>NaN</td>\n",
       "      <td>NaN</td>\n",
       "      <td>NaN</td>\n",
       "    </tr>\n",
       "    <tr>\n",
       "      <th>2</th>\n",
       "      <td>Val</td>\n",
       "      <td>1</td>\n",
       "      <td>(val,)</td>\n",
       "      <td>0.0407</td>\n",
       "      <td>0.125</td>\n",
       "      <td>2.2987</td>\n",
       "      <td>NaN</td>\n",
       "      <td>NaN</td>\n",
       "      <td>NaN</td>\n",
       "      <td>NaN</td>\n",
       "      <td>NaN</td>\n",
       "      <td>NaN</td>\n",
       "      <td>NaN</td>\n",
       "      <td>NaN</td>\n",
       "      <td>NaN</td>\n",
       "    </tr>\n",
       "    <tr>\n",
       "      <th>3</th>\n",
       "      <td>Train</td>\n",
       "      <td>1</td>\n",
       "      <td>(train,)</td>\n",
       "      <td>NaN</td>\n",
       "      <td>NaN</td>\n",
       "      <td>NaN</td>\n",
       "      <td>0.0360</td>\n",
       "      <td>0.1047</td>\n",
       "      <td>2.3026</td>\n",
       "      <td>NaN</td>\n",
       "      <td>NaN</td>\n",
       "      <td>NaN</td>\n",
       "      <td>NaN</td>\n",
       "      <td>NaN</td>\n",
       "      <td>NaN</td>\n",
       "    </tr>\n",
       "    <tr>\n",
       "      <th>4</th>\n",
       "      <td>Reval</td>\n",
       "      <td>2</td>\n",
       "      <td>(reval,)</td>\n",
       "      <td>NaN</td>\n",
       "      <td>NaN</td>\n",
       "      <td>NaN</td>\n",
       "      <td>NaN</td>\n",
       "      <td>NaN</td>\n",
       "      <td>NaN</td>\n",
       "      <td>0.0419</td>\n",
       "      <td>0.125</td>\n",
       "      <td>2.2989</td>\n",
       "      <td>NaN</td>\n",
       "      <td>NaN</td>\n",
       "      <td>NaN</td>\n",
       "    </tr>\n",
       "    <tr>\n",
       "      <th>5</th>\n",
       "      <td>Test</td>\n",
       "      <td>2</td>\n",
       "      <td>(test,)</td>\n",
       "      <td>NaN</td>\n",
       "      <td>NaN</td>\n",
       "      <td>NaN</td>\n",
       "      <td>NaN</td>\n",
       "      <td>NaN</td>\n",
       "      <td>NaN</td>\n",
       "      <td>NaN</td>\n",
       "      <td>NaN</td>\n",
       "      <td>NaN</td>\n",
       "      <td>0.033</td>\n",
       "      <td>0.0875</td>\n",
       "      <td>2.3043</td>\n",
       "    </tr>\n",
       "  </tbody>\n",
       "</table>\n",
       "</div>"
      ],
      "text/plain": [
       "   stage  epoch stage-list  val_f1  val_acc  val_loss  train_f1  train_acc  \\\n",
       "0    Val      0     (val,)  0.0419    0.125    2.2989       NaN        NaN   \n",
       "1  Train      0   (train,)     NaN      NaN       NaN    0.0291     0.0891   \n",
       "2    Val      1     (val,)  0.0407    0.125    2.2987       NaN        NaN   \n",
       "3  Train      1   (train,)     NaN      NaN       NaN    0.0360     0.1047   \n",
       "4  Reval      2   (reval,)     NaN      NaN       NaN       NaN        NaN   \n",
       "5   Test      2    (test,)     NaN      NaN       NaN       NaN        NaN   \n",
       "\n",
       "   train_loss  reval_f1  reval_acc  reval_loss  test_f1  test_acc  test_loss  \n",
       "0         NaN       NaN        NaN         NaN      NaN       NaN        NaN  \n",
       "1      2.3063       NaN        NaN         NaN      NaN       NaN        NaN  \n",
       "2         NaN       NaN        NaN         NaN      NaN       NaN        NaN  \n",
       "3      2.3026       NaN        NaN         NaN      NaN       NaN        NaN  \n",
       "4         NaN    0.0419      0.125      2.2989      NaN       NaN        NaN  \n",
       "5         NaN       NaN        NaN         NaN    0.033    0.0875     2.3043  "
      ]
     },
     "metadata": {},
     "output_type": "display_data"
    }
   ],
   "source": [
    "if \"single-run\" in USAGE_MODE_LIST:\n",
    "    display(best_result[\"metrics\"].df)"
   ]
  },
  {
   "cell_type": "markdown",
   "metadata": {
    "papermill": {
     "duration": 0.058949,
     "end_time": "2021-01-21T09:06:49.154518",
     "exception": false,
     "start_time": "2021-01-21T09:06:49.095569",
     "status": "completed"
    },
    "tags": []
   },
   "source": [
    "#### Or just look at the latest observed values for each of the metrics"
   ]
  },
  {
   "cell_type": "code",
   "execution_count": 20,
   "metadata": {
    "execution": {
     "iopub.execute_input": "2022-10-01T22:25:09.462373Z",
     "iopub.status.busy": "2022-10-01T22:25:09.461971Z",
     "iopub.status.idle": "2022-10-01T22:25:09.474722Z",
     "shell.execute_reply": "2022-10-01T22:25:09.473277Z",
     "shell.execute_reply.started": "2022-10-01T22:25:09.462325Z"
    },
    "papermill": {
     "duration": 0.070963,
     "end_time": "2021-01-21T09:06:49.283469",
     "exception": false,
     "start_time": "2021-01-21T09:06:49.212506",
     "status": "completed"
    },
    "tags": []
   },
   "outputs": [
    {
     "data": {
      "text/plain": [
       "val_f1        0.0407\n",
       "val_acc       0.1250\n",
       "val_loss      2.2987\n",
       "train_f1      0.0360\n",
       "train_acc     0.1047\n",
       "train_loss    2.3026\n",
       "reval_f1      0.0419\n",
       "reval_acc     0.1250\n",
       "reval_loss    2.2989\n",
       "test_f1       0.0330\n",
       "test_acc      0.0875\n",
       "test_loss     2.3043\n",
       "Name: 5, dtype: float64"
      ]
     },
     "metadata": {},
     "output_type": "display_data"
    }
   ],
   "source": [
    "if \"single-run\" in USAGE_MODE_LIST:\n",
    "    display(best_result[\"metrics\"].series_last)"
   ]
  },
  {
   "cell_type": "markdown",
   "metadata": {
    "papermill": {
     "duration": 0.056957,
     "end_time": "2021-01-21T09:06:49.398934",
     "exception": false,
     "start_time": "2021-01-21T09:06:49.341977",
     "status": "completed"
    },
    "tags": []
   },
   "source": [
    "#### Plot the metrics timeseries on different axis"
   ]
  },
  {
   "cell_type": "code",
   "execution_count": 21,
   "metadata": {
    "execution": {
     "iopub.execute_input": "2022-10-01T22:25:09.476382Z",
     "iopub.status.busy": "2022-10-01T22:25:09.476001Z",
     "iopub.status.idle": "2022-10-01T22:25:09.494351Z",
     "shell.execute_reply": "2022-10-01T22:25:09.492879Z",
     "shell.execute_reply.started": "2022-10-01T22:25:09.476334Z"
    },
    "tags": []
   },
   "outputs": [
    {
     "data": {
      "text/plain": [
       "{'_TrialMetrics__metrics_df':    stage  epoch stage-list  val_f1  val_acc  val_loss  train_f1  train_acc  \\\n",
       " 0    Val      0     (val,)  0.0419    0.125    2.2989       NaN        NaN   \n",
       " 1  Train      0   (train,)     NaN      NaN       NaN    0.0291     0.0891   \n",
       " 2    Val      1     (val,)  0.0407    0.125    2.2987       NaN        NaN   \n",
       " 3  Train      1   (train,)     NaN      NaN       NaN    0.0360     0.1047   \n",
       " 4  Reval      2   (reval,)     NaN      NaN       NaN       NaN        NaN   \n",
       " 5   Test      2    (test,)     NaN      NaN       NaN       NaN        NaN   \n",
       " \n",
       "    train_loss  reval_f1  reval_acc  reval_loss  test_f1  test_acc  test_loss  \n",
       " 0         NaN       NaN        NaN         NaN      NaN       NaN        NaN  \n",
       " 1      2.3063       NaN        NaN         NaN      NaN       NaN        NaN  \n",
       " 2         NaN       NaN        NaN         NaN      NaN       NaN        NaN  \n",
       " 3      2.3026       NaN        NaN         NaN      NaN       NaN        NaN  \n",
       " 4         NaN    0.0419      0.125      2.2989      NaN       NaN        NaN  \n",
       " 5         NaN       NaN        NaN         NaN    0.033    0.0875     2.3043  }"
      ]
     },
     "execution_count": 21,
     "metadata": {},
     "output_type": "execute_result"
    }
   ],
   "source": [
    "best_result[\"metrics\"].__dict__"
   ]
  },
  {
   "cell_type": "code",
   "execution_count": 22,
   "metadata": {
    "execution": {
     "iopub.execute_input": "2022-10-01T22:25:09.501300Z",
     "iopub.status.busy": "2022-10-01T22:25:09.500893Z",
     "iopub.status.idle": "2022-10-01T22:25:10.484057Z",
     "shell.execute_reply": "2022-10-01T22:25:10.482323Z",
     "shell.execute_reply.started": "2022-10-01T22:25:09.501252Z"
    },
    "papermill": {
     "duration": 0.840341,
     "end_time": "2021-01-21T09:06:50.295297",
     "exception": false,
     "start_time": "2021-01-21T09:06:49.454956",
     "status": "completed"
    },
    "tags": []
   },
   "outputs": [
    {
     "data": {
      "text/html": [
       "<div>\n",
       "<style scoped>\n",
       "    .dataframe tbody tr th:only-of-type {\n",
       "        vertical-align: middle;\n",
       "    }\n",
       "\n",
       "    .dataframe tbody tr th {\n",
       "        vertical-align: top;\n",
       "    }\n",
       "\n",
       "    .dataframe thead th {\n",
       "        text-align: right;\n",
       "    }\n",
       "</style>\n",
       "<table border=\"1\" class=\"dataframe\">\n",
       "  <thead>\n",
       "    <tr style=\"text-align: right;\">\n",
       "      <th></th>\n",
       "      <th>stage</th>\n",
       "      <th>epoch</th>\n",
       "      <th>val_f1</th>\n",
       "      <th>val_acc</th>\n",
       "      <th>val_loss</th>\n",
       "      <th>train_f1</th>\n",
       "      <th>train_acc</th>\n",
       "      <th>train_loss</th>\n",
       "      <th>reval_f1</th>\n",
       "      <th>reval_acc</th>\n",
       "      <th>reval_loss</th>\n",
       "      <th>test_f1</th>\n",
       "      <th>test_acc</th>\n",
       "      <th>test_loss</th>\n",
       "    </tr>\n",
       "  </thead>\n",
       "  <tbody>\n",
       "    <tr>\n",
       "      <th>0</th>\n",
       "      <td>Val</td>\n",
       "      <td>0</td>\n",
       "      <td>0.0419</td>\n",
       "      <td>0.125</td>\n",
       "      <td>2.2989</td>\n",
       "      <td>NaN</td>\n",
       "      <td>NaN</td>\n",
       "      <td>NaN</td>\n",
       "      <td>NaN</td>\n",
       "      <td>NaN</td>\n",
       "      <td>NaN</td>\n",
       "      <td>NaN</td>\n",
       "      <td>NaN</td>\n",
       "      <td>NaN</td>\n",
       "    </tr>\n",
       "    <tr>\n",
       "      <th>1</th>\n",
       "      <td>Train</td>\n",
       "      <td>0</td>\n",
       "      <td>NaN</td>\n",
       "      <td>NaN</td>\n",
       "      <td>NaN</td>\n",
       "      <td>0.0291</td>\n",
       "      <td>0.0891</td>\n",
       "      <td>2.3063</td>\n",
       "      <td>NaN</td>\n",
       "      <td>NaN</td>\n",
       "      <td>NaN</td>\n",
       "      <td>NaN</td>\n",
       "      <td>NaN</td>\n",
       "      <td>NaN</td>\n",
       "    </tr>\n",
       "    <tr>\n",
       "      <th>2</th>\n",
       "      <td>Val</td>\n",
       "      <td>1</td>\n",
       "      <td>0.0407</td>\n",
       "      <td>0.125</td>\n",
       "      <td>2.2987</td>\n",
       "      <td>NaN</td>\n",
       "      <td>NaN</td>\n",
       "      <td>NaN</td>\n",
       "      <td>NaN</td>\n",
       "      <td>NaN</td>\n",
       "      <td>NaN</td>\n",
       "      <td>NaN</td>\n",
       "      <td>NaN</td>\n",
       "      <td>NaN</td>\n",
       "    </tr>\n",
       "    <tr>\n",
       "      <th>3</th>\n",
       "      <td>Train</td>\n",
       "      <td>1</td>\n",
       "      <td>NaN</td>\n",
       "      <td>NaN</td>\n",
       "      <td>NaN</td>\n",
       "      <td>0.0360</td>\n",
       "      <td>0.1047</td>\n",
       "      <td>2.3026</td>\n",
       "      <td>NaN</td>\n",
       "      <td>NaN</td>\n",
       "      <td>NaN</td>\n",
       "      <td>NaN</td>\n",
       "      <td>NaN</td>\n",
       "      <td>NaN</td>\n",
       "    </tr>\n",
       "    <tr>\n",
       "      <th>4</th>\n",
       "      <td>Reval</td>\n",
       "      <td>2</td>\n",
       "      <td>NaN</td>\n",
       "      <td>NaN</td>\n",
       "      <td>NaN</td>\n",
       "      <td>NaN</td>\n",
       "      <td>NaN</td>\n",
       "      <td>NaN</td>\n",
       "      <td>0.0419</td>\n",
       "      <td>0.125</td>\n",
       "      <td>2.2989</td>\n",
       "      <td>NaN</td>\n",
       "      <td>NaN</td>\n",
       "      <td>NaN</td>\n",
       "    </tr>\n",
       "    <tr>\n",
       "      <th>5</th>\n",
       "      <td>Test</td>\n",
       "      <td>2</td>\n",
       "      <td>NaN</td>\n",
       "      <td>NaN</td>\n",
       "      <td>NaN</td>\n",
       "      <td>NaN</td>\n",
       "      <td>NaN</td>\n",
       "      <td>NaN</td>\n",
       "      <td>NaN</td>\n",
       "      <td>NaN</td>\n",
       "      <td>NaN</td>\n",
       "      <td>0.033</td>\n",
       "      <td>0.0875</td>\n",
       "      <td>2.3043</td>\n",
       "    </tr>\n",
       "  </tbody>\n",
       "</table>\n",
       "</div>"
      ],
      "text/plain": [
       "   stage  epoch  val_f1  val_acc  val_loss  train_f1  train_acc  train_loss  \\\n",
       "0    Val      0  0.0419    0.125    2.2989       NaN        NaN         NaN   \n",
       "1  Train      0     NaN      NaN       NaN    0.0291     0.0891      2.3063   \n",
       "2    Val      1  0.0407    0.125    2.2987       NaN        NaN         NaN   \n",
       "3  Train      1     NaN      NaN       NaN    0.0360     0.1047      2.3026   \n",
       "4  Reval      2     NaN      NaN       NaN       NaN        NaN         NaN   \n",
       "5   Test      2     NaN      NaN       NaN       NaN        NaN         NaN   \n",
       "\n",
       "   reval_f1  reval_acc  reval_loss  test_f1  test_acc  test_loss  \n",
       "0       NaN        NaN         NaN      NaN       NaN        NaN  \n",
       "1       NaN        NaN         NaN      NaN       NaN        NaN  \n",
       "2       NaN        NaN         NaN      NaN       NaN        NaN  \n",
       "3       NaN        NaN         NaN      NaN       NaN        NaN  \n",
       "4    0.0419      0.125      2.2989      NaN       NaN        NaN  \n",
       "5       NaN        NaN         NaN    0.033    0.0875     2.3043  "
      ]
     },
     "metadata": {},
     "output_type": "display_data"
    },
    {
     "data": {
      "image/png": "[encoded data removed]",
      "text/plain": [
       "<Figure size 2000x1200 with 3 Axes>"
      ]
     },
     "metadata": {},
     "output_type": "display_data"
    }
   ],
   "source": [
    "if \"single-run\" in USAGE_MODE_LIST:\n",
    "    best_result[\"metrics\"].show_report()"
   ]
  },
  {
   "cell_type": "markdown",
   "metadata": {
    "papermill": {
     "duration": 0.061599,
     "end_time": "2021-01-21T09:06:50.418682",
     "exception": false,
     "start_time": "2021-01-21T09:06:50.357083",
     "status": "completed"
    },
    "tags": []
   },
   "source": [
    "### Running a hyper-parameters search via Ray Tune"
   ]
  },
  {
   "cell_type": "code",
   "execution_count": 23,
   "metadata": {
    "execution": {
     "iopub.execute_input": "2022-10-01T22:25:10.486035Z",
     "iopub.status.busy": "2022-10-01T22:25:10.485571Z",
     "iopub.status.idle": "2022-10-01T22:25:10.495339Z",
     "shell.execute_reply": "2022-10-01T22:25:10.493979Z",
     "shell.execute_reply.started": "2022-10-01T22:25:10.485994Z"
    },
    "papermill": {
     "duration": 0.081002,
     "end_time": "2021-01-21T09:06:50.560544",
     "exception": false,
     "start_time": "2021-01-21T09:06:50.479542",
     "status": "completed"
    },
    "tags": []
   },
   "outputs": [],
   "source": [
    "SEARCH_SPACE_CONFIG = {\n",
    "    \"unfreeze_epochs\": [0, 1],\n",
    "    \"lr\": tune.uniform(1e-4, 1e-3),\n",
    "    \"warmup\": tune.choice([200, 500, 600, 1000]),\n",
    "    \"gradient_clip_val\": 0,\n",
    "    \"max_epochs\": tune.choice([6]),\n",
    "    \"batch_size\": tune.choice([16, 32, 64]),\n",
    "    \"n_classes\": N_CLASSES,\n",
    "}"
   ]
  },
  {
   "cell_type": "code",
   "execution_count": 24,
   "metadata": {
    "execution": {
     "iopub.execute_input": "2022-10-01T22:25:10.496930Z",
     "iopub.status.busy": "2022-10-01T22:25:10.496474Z",
     "iopub.status.idle": "2022-10-01T22:25:10.507270Z",
     "shell.execute_reply": "2022-10-01T22:25:10.506006Z",
     "shell.execute_reply.started": "2022-10-01T22:25:10.496883Z"
    },
    "papermill": {
     "duration": 0.065986,
     "end_time": "2021-01-21T09:06:50.688543",
     "exception": false,
     "start_time": "2021-01-21T09:06:50.622557",
     "status": "completed"
    },
    "tags": []
   },
   "outputs": [],
   "source": [
    "if FAST_DEV_RUN:\n",
    "    SEARCH_SPACE_CONFIG[\"max_epochs\"] = 2\n",
    "    SEARCH_SPACE_CONFIG[\"batch_size\"] = 32"
   ]
  },
  {
   "cell_type": "code",
   "execution_count": 25,
   "metadata": {
    "execution": {
     "iopub.execute_input": "2022-10-01T22:25:10.509088Z",
     "iopub.status.busy": "2022-10-01T22:25:10.508721Z",
     "iopub.status.idle": "2022-10-01T22:25:40.422040Z",
     "shell.execute_reply": "2022-10-01T22:25:40.420225Z",
     "shell.execute_reply.started": "2022-10-01T22:25:10.509054Z"
    },
    "papermill": {
     "duration": 357.351172,
     "end_time": "2021-01-21T09:12:48.099490",
     "exception": false,
     "start_time": "2021-01-21T09:06:50.748318",
     "status": "completed"
    },
    "tags": []
   },
   "outputs": [
    {
     "name": "stderr",
     "output_type": "stream",
     "text": [
      "2022-10-02 01:25:14,468\tINFO worker.py:1509 -- Started a local Ray instance. View the dashboard at \u001b[1m\u001b[32m10.44.111.114:8265 \u001b[39m\u001b[22m\n",
      "/home/peter/micromamba/envs/pth0/lib/python3.9/site-packages/ray/tune/trainable/function_trainable.py:642: DeprecationWarning: `checkpoint_dir` in `func(config, checkpoint_dir)` is being deprecated. To save and load checkpoint in trainable functions, please use the `ray.air.session` API:\n",
      "\n",
      "from ray.air import session\n",
      "\n",
      "def train(config):\n",
      "    # ...\n",
      "    session.report({\"metric\": metric}, checkpoint=checkpoint)\n",
      "\n",
      "For more information please see https://docs.ray.io/en/master/ray-air/key-concepts.html#session\n",
      "\n",
      "  warnings.warn(\n"
     ]
    },
    {
     "name": "stdout",
     "output_type": "stream",
     "text": [
      "== Status ==\n",
      "Current time: 2022-10-02 01:25:16 (running for 00:00:00.25)\n",
      "Memory usage on this node: 7.2/31.4 GiB\n",
      "Using AsyncHyperBand: num_stopped=0\n",
      "Bracket: Iter 18.000: None | Iter 6.000: None\n",
      "Resources requested: 3.0/32 CPUs, 0.3/1 GPUs, 0.0/16.11 GiB heap, 0.0/8.05 GiB objects (0.0/1.0 accelerator_type:G)\n",
      "Result logdir: /home/peter/ray_results/boring-mnist_02_Oct_2022_01_25_16\n",
      "Number of trials: 1/2 (1 RUNNING)\n",
      "+----------------------------------------------+----------+----------------------+-------------------+-------------+----------+---------------------+--------------+--------------+-------------+\n",
      "| Trial name                                   | status   | loc                  | unfreeze_epochs   |          lr |   warmup |   gradient_clip_val |   max_epochs |   batch_size |   n_classes |\n",
      "|----------------------------------------------+----------+----------------------+-------------------+-------------+----------+---------------------+--------------+--------------+-------------|\n",
      "| __train_with_checkpoint_drop_output_ecdcbb2c | RUNNING  | 10.44.111.114:345418 | (0, 1)            | 0.000744435 |      600 |                   0 |            2 |           32 |          10 |\n",
      "+----------------------------------------------+----------+----------------------+-------------------+-------------+----------+---------------------+--------------+--------------+-------------+\n",
      "\n",
      "\n",
      "== Status ==\n",
      "Current time: 2022-10-02 01:25:24 (running for 00:00:07.40)\n",
      "Memory usage on this node: 7.4/31.4 GiB\n",
      "Using AsyncHyperBand: num_stopped=0\n",
      "Bracket: Iter 18.000: None | Iter 6.000: None\n",
      "Resources requested: 6.0/32 CPUs, 0.6/1 GPUs, 0.0/16.11 GiB heap, 0.0/8.05 GiB objects (0.0/1.0 accelerator_type:G)\n",
      "Result logdir: /home/peter/ray_results/boring-mnist_02_Oct_2022_01_25_16\n",
      "Number of trials: 2/2 (2 RUNNING)\n",
      "+----------------------------------------------+----------+----------------------+-------------------+-------------+----------+---------------------+--------------+--------------+-------------+\n",
      "| Trial name                                   | status   | loc                  | unfreeze_epochs   |          lr |   warmup |   gradient_clip_val |   max_epochs |   batch_size |   n_classes |\n",
      "|----------------------------------------------+----------+----------------------+-------------------+-------------+----------+---------------------+--------------+--------------+-------------|\n",
      "| __train_with_checkpoint_drop_output_ecdcbb2c | RUNNING  | 10.44.111.114:345418 | (0, 1)            | 0.000744435 |      600 |                   0 |            2 |           32 |          10 |\n",
      "| __train_with_checkpoint_drop_output_f142498e | RUNNING  | 10.44.111.114:345449 | (0, 1)            | 0.000463073 |      600 |                   0 |            2 |           32 |          10 |\n",
      "+----------------------------------------------+----------+----------------------+-------------------+-------------+----------+---------------------+--------------+--------------+-------------+\n",
      "\n",
      "\n",
      "== Status ==\n",
      "Current time: 2022-10-02 01:25:30 (running for 00:00:14.05)\n",
      "Memory usage on this node: 9.9/31.4 GiB\n",
      "Using AsyncHyperBand: num_stopped=0\n",
      "Bracket: Iter 18.000: None | Iter 6.000: None\n",
      "Resources requested: 6.0/32 CPUs, 0.6/1 GPUs, 0.0/16.11 GiB heap, 0.0/8.05 GiB objects (0.0/1.0 accelerator_type:G)\n",
      "Current best trial: ecdcbb2c with val_f1_epoch=0.05051124840974808 and parameters={'unfreeze_epochs': (0, 1), 'lr': 0.0007444351449252167, 'warmup': 600, 'gradient_clip_val': 0, 'max_epochs': 2, 'batch_size': 32, 'n_classes': 10}\n",
      "Result logdir: /home/peter/ray_results/boring-mnist_02_Oct_2022_01_25_16\n",
      "Number of trials: 2/2 (2 RUNNING)\n",
      "+----------------------------------------------+----------+----------------------+-------------------+-------------+----------+---------------------+--------------+--------------+-------------+------------------+----------------+-----------------+----------------------+\n",
      "| Trial name                                   | status   | loc                  | unfreeze_epochs   |          lr |   warmup |   gradient_clip_val |   max_epochs |   batch_size |   n_classes |   val_loss_epoch |   val_f1_epoch |   val_acc_epoch |   training_iteration |\n",
      "|----------------------------------------------+----------+----------------------+-------------------+-------------+----------+---------------------+--------------+--------------+-------------+------------------+----------------+-----------------+----------------------|\n",
      "| __train_with_checkpoint_drop_output_ecdcbb2c | RUNNING  | 10.44.111.114:345418 | (0, 1)            | 0.000744435 |      600 |                   0 |            2 |           32 |          10 |          2.30266 |      0.0505112 |         0.11875 |                    1 |\n",
      "| __train_with_checkpoint_drop_output_f142498e | RUNNING  | 10.44.111.114:345449 | (0, 1)            | 0.000463073 |      600 |                   0 |            2 |           32 |          10 |                  |                |                 |                      |\n",
      "+----------------------------------------------+----------+----------------------+-------------------+-------------+----------+---------------------+--------------+--------------+-------------+------------------+----------------+-----------------+----------------------+\n",
      "\n",
      "\n"
     ]
    },
    {
     "name": "stderr",
     "output_type": "stream",
     "text": [
      "2022-10-02 01:25:31,653\tINFO tensorboardx.py:267 -- Removed the following hyperparameter values when logging to tensorboard: {'unfreeze_epochs': (0, 1)}\n"
     ]
    },
    {
     "name": "stdout",
     "output_type": "stream",
     "text": [
      "== Status ==\n",
      "Current time: 2022-10-02 01:25:36 (running for 00:00:19.66)\n",
      "Memory usage on this node: 9.6/31.4 GiB\n",
      "Using AsyncHyperBand: num_stopped=0\n",
      "Bracket: Iter 18.000: None | Iter 6.000: None\n",
      "Resources requested: 3.0/32 CPUs, 0.3/1 GPUs, 0.0/16.11 GiB heap, 0.0/8.05 GiB objects (0.0/1.0 accelerator_type:G)\n",
      "Current best trial: f142498e with val_f1_epoch=0.05051124840974808 and parameters={'unfreeze_epochs': (0, 1), 'lr': 0.00046307261353236486, 'warmup': 600, 'gradient_clip_val': 0, 'max_epochs': 2, 'batch_size': 32, 'n_classes': 10}\n",
      "Result logdir: /home/peter/ray_results/boring-mnist_02_Oct_2022_01_25_16\n",
      "Number of trials: 2/2 (1 RUNNING, 1 TERMINATED)\n",
      "+----------------------------------------------+------------+----------------------+-------------------+-------------+----------+---------------------+--------------+--------------+-------------+------------------+----------------+-----------------+----------------------+\n",
      "| Trial name                                   | status     | loc                  | unfreeze_epochs   |          lr |   warmup |   gradient_clip_val |   max_epochs |   batch_size |   n_classes |   val_loss_epoch |   val_f1_epoch |   val_acc_epoch |   training_iteration |\n",
      "|----------------------------------------------+------------+----------------------+-------------------+-------------+----------+---------------------+--------------+--------------+-------------+------------------+----------------+-----------------+----------------------|\n",
      "| __train_with_checkpoint_drop_output_f142498e | RUNNING    | 10.44.111.114:345449 | (0, 1)            | 0.000463073 |      600 |                   0 |            2 |           32 |          10 |          2.30266 |      0.0505112 |         0.11875 |                    1 |\n",
      "| __train_with_checkpoint_drop_output_ecdcbb2c | TERMINATED | 10.44.111.114:345418 | (0, 1)            | 0.000744435 |      600 |                   0 |            2 |           32 |          10 |          2.30262 |      0.049542  |         0.11875 |                    2 |\n",
      "+----------------------------------------------+------------+----------------------+-------------------+-------------+----------+---------------------+--------------+--------------+-------------+------------------+----------------+-----------------+----------------------+\n",
      "\n",
      "\n"
     ]
    },
    {
     "name": "stderr",
     "output_type": "stream",
     "text": [
      "2022-10-02 01:25:37,307\tINFO tensorboardx.py:267 -- Removed the following hyperparameter values when logging to tensorboard: {'unfreeze_epochs': (0, 1)}\n",
      "2022-10-02 01:25:37,433\tINFO tune.py:758 -- Total run time: 20.86 seconds (20.71 seconds for the tuning loop).\n",
      "Global seed set to 16\n"
     ]
    },
    {
     "name": "stdout",
     "output_type": "stream",
     "text": [
      "== Status ==\n",
      "Current time: 2022-10-02 01:25:37 (running for 00:00:20.72)\n",
      "Memory usage on this node: 9.5/31.4 GiB\n",
      "Using AsyncHyperBand: num_stopped=0\n",
      "Bracket: Iter 18.000: None | Iter 6.000: None\n",
      "Resources requested: 0/32 CPUs, 0/1 GPUs, 0.0/16.11 GiB heap, 0.0/8.05 GiB objects (0.0/1.0 accelerator_type:G)\n",
      "Current best trial: ecdcbb2c with val_f1_epoch=0.04954201728105545 and parameters={'unfreeze_epochs': (0, 1), 'lr': 0.0007444351449252167, 'warmup': 600, 'gradient_clip_val': 0, 'max_epochs': 2, 'batch_size': 32, 'n_classes': 10}\n",
      "Result logdir: /home/peter/ray_results/boring-mnist_02_Oct_2022_01_25_16\n",
      "Number of trials: 2/2 (2 TERMINATED)\n",
      "+----------------------------------------------+------------+----------------------+-------------------+-------------+----------+---------------------+--------------+--------------+-------------+------------------+----------------+-----------------+----------------------+\n",
      "| Trial name                                   | status     | loc                  | unfreeze_epochs   |          lr |   warmup |   gradient_clip_val |   max_epochs |   batch_size |   n_classes |   val_loss_epoch |   val_f1_epoch |   val_acc_epoch |   training_iteration |\n",
      "|----------------------------------------------+------------+----------------------+-------------------+-------------+----------+---------------------+--------------+--------------+-------------+------------------+----------------+-----------------+----------------------|\n",
      "| __train_with_checkpoint_drop_output_ecdcbb2c | TERMINATED | 10.44.111.114:345418 | (0, 1)            | 0.000744435 |      600 |                   0 |            2 |           32 |          10 |          2.30262 |       0.049542 |         0.11875 |                    2 |\n",
      "| __train_with_checkpoint_drop_output_f142498e | TERMINATED | 10.44.111.114:345449 | (0, 1)            | 0.000463073 |      600 |                   0 |            2 |           32 |          10 |          2.30264 |       0.049542 |         0.11875 |                    2 |\n",
      "+----------------------------------------------+------------+----------------------+-------------------+-------------+----------+---------------------+--------------+--------------+-------------+------------------+----------------+-----------------+----------------------+\n",
      "\n",
      "\n",
      "Best hyperparameters found were:  {'unfreeze_epochs': (0, 1), 'lr': 0.0007444351449252167, 'warmup': 600, 'gradient_clip_val': 0, 'max_epochs': 2, 'batch_size': 32, 'n_classes': 10}\n"
     ]
    },
    {
     "name": "stderr",
     "output_type": "stream",
     "text": [
      "GPU available: True, used: True\n",
      "TPU available: False, using: 0 TPU cores\n",
      "IPU available: False, using: 0 IPUs\n",
      "HPU available: False, using: 0 HPUs\n",
      "Global seed set to 16\n",
      "LOCAL_RANK: 0 - CUDA_VISIBLE_DEVICES: [0]\n"
     ]
    },
    {
     "data": {
      "application/vnd.jupyter.widget-view+json": {
       "model_id": "6694b16b1f02433f826ce4340a7170da",
       "version_major": 2,
       "version_minor": 0
      },
      "text/plain": [
       "Testing: 0it [00:00, ?it/s]"
      ]
     },
     "metadata": {},
     "output_type": "display_data"
    },
    {
     "data": {
      "image/png": "[encoded data removed]",
      "text/plain": [
       "<Figure size 2000x1200 with 3 Axes>"
      ]
     },
     "metadata": {},
     "output_type": "display_data"
    },
    {
     "name": "stderr",
     "output_type": "stream",
     "text": [
      "Global seed set to 16\n",
      "LOCAL_RANK: 0 - CUDA_VISIBLE_DEVICES: [0]\n"
     ]
    }
   ],
   "source": [
    "if \"hyper-opt\" in USAGE_MODE_LIST:\n",
    "    best_result = runner.run_hyper_opt(\n",
    "        LMODULE_CLASS,\n",
    "        SEARCH_SPACE_CONFIG,\n",
    "        TUNE_CONFIG,\n",
    "    )\n",
    "    best_result[\"metrics\"].df"
   ]
  },
  {
   "cell_type": "markdown",
   "metadata": {
    "papermill": {
     "duration": 0.074785,
     "end_time": "2021-01-21T09:12:48.265364",
     "exception": false,
     "start_time": "2021-01-21T09:12:48.190579",
     "status": "completed"
    },
    "tags": []
   },
   "source": [
    "### Let us look at the results"
   ]
  },
  {
   "cell_type": "code",
   "execution_count": 26,
   "metadata": {
    "execution": {
     "iopub.execute_input": "2022-10-01T22:25:40.424424Z",
     "iopub.status.busy": "2022-10-01T22:25:40.423927Z",
     "iopub.status.idle": "2022-10-01T22:25:40.438188Z",
     "shell.execute_reply": "2022-10-01T22:25:40.436662Z",
     "shell.execute_reply.started": "2022-10-01T22:25:40.424383Z"
    },
    "papermill": {
     "duration": 0.08476,
     "end_time": "2021-01-21T09:12:48.425974",
     "exception": false,
     "start_time": "2021-01-21T09:12:48.341214",
     "status": "completed"
    },
    "tags": []
   },
   "outputs": [],
   "source": [
    "DEVICE = torch.device(\"cuda\" if torch.cuda.is_available() else \"cpu\")"
   ]
  },
  {
   "cell_type": "code",
   "execution_count": 27,
   "metadata": {
    "execution": {
     "iopub.execute_input": "2022-10-01T22:25:40.440098Z",
     "iopub.status.busy": "2022-10-01T22:25:40.439634Z",
     "iopub.status.idle": "2022-10-01T22:25:40.450579Z",
     "shell.execute_reply": "2022-10-01T22:25:40.449374Z",
     "shell.execute_reply.started": "2022-10-01T22:25:40.439977Z"
    },
    "papermill": {
     "duration": 0.084193,
     "end_time": "2021-01-21T09:12:48.582406",
     "exception": false,
     "start_time": "2021-01-21T09:12:48.498213",
     "status": "completed"
    },
    "tags": []
   },
   "outputs": [],
   "source": [
    "def predict_one_sample(model, inputs, device=DEVICE):\n",
    "    with torch.no_grad():\n",
    "        inputs = inputs.to(device)\n",
    "        model.eval()\n",
    "        logit = model(inputs).cpu()\n",
    "        probs = torch.nn.functional.softmax(logit, dim=-1).numpy()\n",
    "    return probs"
   ]
  },
  {
   "cell_type": "code",
   "execution_count": 28,
   "metadata": {
    "execution": {
     "iopub.execute_input": "2022-10-01T22:25:40.452159Z",
     "iopub.status.busy": "2022-10-01T22:25:40.451758Z",
     "iopub.status.idle": "2022-10-01T22:25:40.464749Z",
     "shell.execute_reply": "2022-10-01T22:25:40.463383Z",
     "shell.execute_reply.started": "2022-10-01T22:25:40.452113Z"
    },
    "papermill": {
     "duration": 0.091777,
     "end_time": "2021-01-21T09:12:48.749967",
     "exception": false,
     "start_time": "2021-01-21T09:12:48.658190",
     "status": "completed"
    },
    "tags": []
   },
   "outputs": [],
   "source": [
    "def show_some_predictions(loaders_dict, lmodule):\n",
    "    fig, ax = plt.subplots(nrows=3, ncols=3, figsize=(12, 12), sharey=True, sharex=True)\n",
    "    for fig_x in ax.flatten():\n",
    "        random_characters = int(np.random.uniform(0, 1000))\n",
    "        im_val, label = loaders_dict[\"val_dataset\"][random_characters]\n",
    "        img_label = \" \".join(\n",
    "            map(\n",
    "                lambda x: x.capitalize(),\n",
    "                MNIST.classes[label].split(\"_\"),\n",
    "            )\n",
    "        )\n",
    "\n",
    "        imshow(im_val.data.cpu(), title=img_label, plt_ax=fig_x)\n",
    "\n",
    "        fig_x.add_patch(patches.Rectangle((0, 0), 10, 5, color=\"white\"))\n",
    "        font0 = FontProperties()\n",
    "        font = font0.copy()\n",
    "        font.set_family(\"fantasy\")\n",
    "        prob_pred = predict_one_sample(lmodule, im_val.unsqueeze(0))\n",
    "        predicted_proba = np.max(prob_pred) * 100\n",
    "        y_pred = np.argmax(prob_pred)\n",
    "\n",
    "        predicted_label = MNIST.classes[y_pred]\n",
    "        predicted_label = (\n",
    "            predicted_label[: len(predicted_label) // 2]\n",
    "            + \"\\n\"\n",
    "            + predicted_label[len(predicted_label) // 2 :]\n",
    "        )\n",
    "        predicted_text = \"{} : {:.0f}%\".format(predicted_label, predicted_proba)\n",
    "\n",
    "        fig_x.text(\n",
    "            1,\n",
    "            2,\n",
    "            predicted_text,\n",
    "            horizontalalignment=\"left\",\n",
    "            fontproperties=font,\n",
    "            verticalalignment=\"top\",\n",
    "            fontsize=8,\n",
    "            color=\"black\",\n",
    "            fontweight=\"bold\",\n",
    "        )"
   ]
  },
  {
   "cell_type": "code",
   "execution_count": 29,
   "metadata": {
    "execution": {
     "iopub.execute_input": "2022-10-01T22:25:40.466687Z",
     "iopub.status.busy": "2022-10-01T22:25:40.466233Z",
     "iopub.status.idle": "2022-10-01T22:25:40.476300Z",
     "shell.execute_reply": "2022-10-01T22:25:40.474752Z",
     "shell.execute_reply.started": "2022-10-01T22:25:40.466651Z"
    },
    "papermill": {
     "duration": 0.083809,
     "end_time": "2021-01-21T09:12:48.911399",
     "exception": false,
     "start_time": "2021-01-21T09:12:48.827590",
     "status": "completed"
    },
    "tags": []
   },
   "outputs": [],
   "source": [
    "def predict(model, test_loader):\n",
    "    with torch.no_grad():\n",
    "        logits = []\n",
    "\n",
    "        for inputs, _ in test_loader:\n",
    "            inputs = inputs.to(DEVICE)\n",
    "            model.eval()\n",
    "            outputs = model(inputs).cpu()\n",
    "            logits.append(outputs)\n",
    "\n",
    "    probs = nn.functional.softmax(torch.cat(logits), dim=-1).numpy()\n",
    "    return probs"
   ]
  },
  {
   "cell_type": "code",
   "execution_count": 30,
   "metadata": {
    "execution": {
     "iopub.execute_input": "2022-10-01T22:25:40.478022Z",
     "iopub.status.busy": "2022-10-01T22:25:40.477629Z",
     "iopub.status.idle": "2022-10-01T22:25:42.150964Z",
     "shell.execute_reply": "2022-10-01T22:25:42.149231Z",
     "shell.execute_reply.started": "2022-10-01T22:25:40.477991Z"
    },
    "papermill": {
     "duration": 1.559076,
     "end_time": "2021-01-21T09:12:50.545270",
     "exception": false,
     "start_time": "2021-01-21T09:12:48.986194",
     "status": "completed"
    },
    "tags": []
   },
   "outputs": [
    {
     "name": "stderr",
     "output_type": "stream",
     "text": [
      "findfont: Font family ['fantasy'] not found. Falling back to DejaVu Sans.\n",
      "findfont: Generic family 'fantasy' not found because none of the following families were found: Chicago, Charcoal, Impact, Western, Humor Sans, xkcd, fantasy\n"
     ]
    },
    {
     "data": {
      "image/png": "[encoded data removed]",
      "text/plain": [
       "<Figure size 1200x1200 with 9 Axes>"
      ]
     },
     "metadata": {},
     "output_type": "display_data"
    }
   ],
   "source": [
    "show_some_predictions(loaders_dict, best_result[\"lmodule_best\"].to(DEVICE))"
   ]
  },
  {
   "cell_type": "markdown",
   "metadata": {
    "papermill": {
     "duration": 0.076421,
     "end_time": "2021-01-21T09:12:50.701538",
     "exception": false,
     "start_time": "2021-01-21T09:12:50.625117",
     "status": "completed"
    },
    "tags": []
   },
   "source": [
    "### Re-train the model on all available data with the same hyper-parameters"
   ]
  },
  {
   "cell_type": "code",
   "execution_count": 31,
   "metadata": {
    "execution": {
     "iopub.execute_input": "2022-10-01T22:25:42.152959Z",
     "iopub.status.busy": "2022-10-01T22:25:42.152443Z",
     "iopub.status.idle": "2022-10-01T22:25:42.160261Z",
     "shell.execute_reply": "2022-10-01T22:25:42.158870Z",
     "shell.execute_reply.started": "2022-10-01T22:25:42.152906Z"
    },
    "papermill": {
     "duration": 0.088408,
     "end_time": "2021-01-21T09:12:50.870051",
     "exception": false,
     "start_time": "2021-01-21T09:12:50.781643",
     "status": "completed"
    },
    "tags": []
   },
   "outputs": [],
   "source": [
    "FT_TUNE_CONFIG = TUNE_CONFIG.copy()\n",
    "FT_TUNE_CONFIG[\"val_loader_name\"] = None\n",
    "FT_TUNE_CONFIG[\"train_loader_name\"] = \"full_train_loader\"\n",
    "FT_TUNE_CONFIG[\"metric_to_optimize\"] = \"train_f1_epoch\""
   ]
  },
  {
   "cell_type": "code",
   "execution_count": 32,
   "metadata": {
    "execution": {
     "iopub.execute_input": "2022-10-01T22:25:42.161954Z",
     "iopub.status.busy": "2022-10-01T22:25:42.161458Z",
     "iopub.status.idle": "2022-10-01T22:25:42.169413Z",
     "shell.execute_reply": "2022-10-01T22:25:42.167791Z",
     "shell.execute_reply.started": "2022-10-01T22:25:42.161912Z"
    },
    "papermill": {
     "duration": 0.090697,
     "end_time": "2021-01-21T09:12:51.038930",
     "exception": false,
     "start_time": "2021-01-21T09:12:50.948233",
     "status": "completed"
    },
    "tags": []
   },
   "outputs": [],
   "source": [
    "FT_CONFIG = CONFIG.copy()\n",
    "# Train for a number of epochs found to be optimal during the hyper-parameter search\n",
    "FT_CONFIG[\"max_epochs\"] = best_result[\"best_epoch\"]"
   ]
  },
  {
   "cell_type": "code",
   "execution_count": 33,
   "metadata": {
    "execution": {
     "iopub.execute_input": "2022-10-01T22:25:42.171412Z",
     "iopub.status.busy": "2022-10-01T22:25:42.170959Z",
     "iopub.status.idle": "2022-10-01T22:25:44.036404Z",
     "shell.execute_reply": "2022-10-01T22:25:44.033818Z",
     "shell.execute_reply.started": "2022-10-01T22:25:42.171367Z"
    },
    "papermill": {
     "duration": 120.932985,
     "end_time": "2021-01-21T09:14:52.051737",
     "exception": false,
     "start_time": "2021-01-21T09:12:51.118752",
     "status": "completed"
    },
    "tags": []
   },
   "outputs": [
    {
     "name": "stderr",
     "output_type": "stream",
     "text": [
      "GPU available: True, used: True\n",
      "TPU available: False, using: 0 TPU cores\n",
      "IPU available: False, using: 0 IPUs\n",
      "HPU available: False, using: 0 HPUs\n",
      "Global seed set to 16\n",
      "Global seed set to 16\n",
      "Global seed set to 16\n",
      "LOCAL_RANK: 0 - CUDA_VISIBLE_DEVICES: [0]\n",
      "\n",
      "  | Name              | Type             | Params\n",
      "-------------------------------------------------------\n",
      "0 | model             | LeNetBoringMNIST | 60.1 K\n",
      "1 | train_metric_calc | LitMetricsCalc   | 0     \n",
      "2 | val_metric_calc   | LitMetricsCalc   | 0     \n",
      "3 | test_metric_calc  | LitMetricsCalc   | 0     \n",
      "-------------------------------------------------------\n",
      "0         Trainable params\n",
      "60.1 K    Non-trainable params\n",
      "60.1 K    Total params\n",
      "0.240     Total estimated model params size (MB)\n"
     ]
    },
    {
     "ename": "AssertionError",
     "evalue": "Expected a non empty checkpoint_path",
     "output_type": "error",
     "traceback": [
      "\u001b[0;31m---------------------------------------------------------------------------\u001b[0m",
      "\u001b[0;31mAssertionError\u001b[0m                            Traceback (most recent call last)",
      "Input \u001b[0;32mIn [33]\u001b[0m, in \u001b[0;36m<cell line: 1>\u001b[0;34m()\u001b[0m\n\u001b[0;32m----> 1\u001b[0m full_train_result \u001b[38;5;241m=\u001b[39m \u001b[43mrunner\u001b[49m\u001b[38;5;241;43m.\u001b[39;49m\u001b[43mrun_single_trial\u001b[49m\u001b[43m(\u001b[49m\n\u001b[1;32m      2\u001b[0m \u001b[43m    \u001b[49m\u001b[43mLMODULE_CLASS\u001b[49m\u001b[43m,\u001b[49m\n\u001b[1;32m      3\u001b[0m \u001b[43m    \u001b[49m\u001b[43mFT_CONFIG\u001b[49m\u001b[43m,\u001b[49m\n\u001b[1;32m      4\u001b[0m \u001b[43m    \u001b[49m\u001b[43mFT_TUNE_CONFIG\u001b[49m\u001b[43m,\u001b[49m\n\u001b[1;32m      5\u001b[0m \u001b[43m)\u001b[49m\n",
      "File \u001b[0;32m~/_Git/pytorch-hyperlight/products/pytorch-hyperlight/pytorch_hyperlight/runner/runner.py:59\u001b[0m, in \u001b[0;36mRunner.run_single_trial\u001b[0;34m(self, lmodule_class, run_name, run_name_prefix, extra_run_name_prefix, *args, **kwargs)\u001b[0m\n\u001b[1;32m     50\u001b[0m \u001b[38;5;28;01mdef\u001b[39;00m \u001b[38;5;21mrun_single_trial\u001b[39m(\n\u001b[1;32m     51\u001b[0m     \u001b[38;5;28mself\u001b[39m,\n\u001b[1;32m     52\u001b[0m     lmodule_class,\n\u001b[0;32m   (...)\u001b[0m\n\u001b[1;32m     57\u001b[0m     \u001b[38;5;241m*\u001b[39m\u001b[38;5;241m*\u001b[39mkwargs,\n\u001b[1;32m     58\u001b[0m ):\n\u001b[0;32m---> 59\u001b[0m     result_dict \u001b[38;5;241m=\u001b[39m \u001b[38;5;28;43msuper\u001b[39;49m\u001b[43m(\u001b[49m\u001b[43m)\u001b[49m\u001b[38;5;241;43m.\u001b[39;49m\u001b[43mrun_single_trial\u001b[49m\u001b[43m(\u001b[49m\u001b[43mlmodule_class\u001b[49m\u001b[43m,\u001b[49m\u001b[43m \u001b[49m\u001b[38;5;241;43m*\u001b[39;49m\u001b[43margs\u001b[49m\u001b[43m,\u001b[49m\u001b[43m \u001b[49m\u001b[38;5;241;43m*\u001b[39;49m\u001b[38;5;241;43m*\u001b[39;49m\u001b[43mkwargs\u001b[49m\u001b[43m)\u001b[49m\n\u001b[1;32m     60\u001b[0m     run_name \u001b[38;5;241m=\u001b[39m \u001b[38;5;28mself\u001b[39m\u001b[38;5;241m.\u001b[39m__generate_run_name(\n\u001b[1;32m     61\u001b[0m         run_name, run_name_prefix, extra_run_name_prefix, lmodule_class\n\u001b[1;32m     62\u001b[0m     )\n\u001b[1;32m     63\u001b[0m     \u001b[38;5;28mself\u001b[39m\u001b[38;5;241m.\u001b[39m__log_metrics(result_dict, run_name)\n",
      "File \u001b[0;32m~/_Git/pytorch-hyperlight/products/pytorch-hyperlight/pytorch_hyperlight/runner/base_runner.py:174\u001b[0m, in \u001b[0;36mBaseRunner.run_single_trial\u001b[0;34m(self, lmodule_class, config, extra_config)\u001b[0m\n\u001b[1;32m    169\u001b[0m \u001b[38;5;66;03m#\u001b[39;00m\n\u001b[1;32m    170\u001b[0m \u001b[38;5;66;03m# we do not need the last model state\u001b[39;00m\n\u001b[1;32m    171\u001b[0m \u001b[38;5;66;03m#\u001b[39;00m\n\u001b[1;32m    172\u001b[0m \u001b[38;5;28;01mdel\u001b[39;00m train_result[\u001b[38;5;124m\"\u001b[39m\u001b[38;5;124mlmodule\u001b[39m\u001b[38;5;124m\"\u001b[39m]\n\u001b[0;32m--> 174\u001b[0m (lmodule_best, best_epoch) \u001b[38;5;241m=\u001b[39m \u001b[43mlmodule_builder\u001b[49m\u001b[38;5;241;43m.\u001b[39;49m\u001b[43mload_from_checkpoint\u001b[49m\u001b[43m(\u001b[49m\n\u001b[1;32m    175\u001b[0m \u001b[43m    \u001b[49m\u001b[43mtrain_result\u001b[49m\u001b[43m[\u001b[49m\u001b[38;5;124;43m\"\u001b[39;49m\u001b[38;5;124;43mtrainer\u001b[39;49m\u001b[38;5;124;43m\"\u001b[39;49m\u001b[43m]\u001b[49m\u001b[38;5;241;43m.\u001b[39;49m\u001b[43mcheckpoint_callback\u001b[49m\u001b[38;5;241;43m.\u001b[39;49m\u001b[43mbest_model_path\u001b[49m\n\u001b[1;32m    176\u001b[0m \u001b[43m\u001b[49m\u001b[43m)\u001b[49m\n\u001b[1;32m    177\u001b[0m train_val_metrics_dict \u001b[38;5;241m=\u001b[39m \u001b[38;5;28mself\u001b[39m\u001b[38;5;241m.\u001b[39m__get_metrics(train_result[\u001b[38;5;124m\"\u001b[39m\u001b[38;5;124mtrainer\u001b[39m\u001b[38;5;124m\"\u001b[39m])\n\u001b[1;32m    179\u001b[0m reval_test_metrics_dict \u001b[38;5;241m=\u001b[39m \u001b[38;5;28mself\u001b[39m\u001b[38;5;241m.\u001b[39m__revalidate_n_test_if_possible(\n\u001b[1;32m    180\u001b[0m     lmodule_best,\n\u001b[1;32m    181\u001b[0m     train_result[\u001b[38;5;124m\"\u001b[39m\u001b[38;5;124mtrainer\u001b[39m\u001b[38;5;124m\"\u001b[39m],\n\u001b[0;32m   (...)\u001b[0m\n\u001b[1;32m    184\u001b[0m     lprogress_bar_callback,\n\u001b[1;32m    185\u001b[0m )\n",
      "File \u001b[0;32m~/_Git/pytorch-hyperlight/products/pytorch-hyperlight/pytorch_hyperlight/runner/base_runner.py:59\u001b[0m, in \u001b[0;36mLitModuleBuilder.load_from_checkpoint\u001b[0;34m(self, checkpoint_path, **kwargs)\u001b[0m\n\u001b[1;32m     58\u001b[0m \u001b[38;5;28;01mdef\u001b[39;00m \u001b[38;5;21mload_from_checkpoint\u001b[39m(\u001b[38;5;28mself\u001b[39m, checkpoint_path, \u001b[38;5;241m*\u001b[39m\u001b[38;5;241m*\u001b[39mkwargs):\n\u001b[0;32m---> 59\u001b[0m     \u001b[38;5;28;01massert\u001b[39;00m checkpoint_path, \u001b[38;5;124m\"\u001b[39m\u001b[38;5;124mExpected a non empty checkpoint_path\u001b[39m\u001b[38;5;124m\"\u001b[39m\n\u001b[1;32m     60\u001b[0m     (\n\u001b[1;32m     61\u001b[0m         lmodule,\n\u001b[1;32m     62\u001b[0m         last_epoch,\n\u001b[0;32m   (...)\u001b[0m\n\u001b[1;32m     65\u001b[0m         \u001b[38;5;28mself\u001b[39m\u001b[38;5;241m.\u001b[39m__model_class, checkpoint_path, \u001b[38;5;241m*\u001b[39m\u001b[38;5;241m*\u001b[39mkwargs\n\u001b[1;32m     66\u001b[0m     )\n\u001b[1;32m     67\u001b[0m     \u001b[38;5;28;01mreturn\u001b[39;00m lmodule, last_epoch\n",
      "\u001b[0;31mAssertionError\u001b[0m: Expected a non empty checkpoint_path"
     ]
    }
   ],
   "source": [
    "full_train_result = runner.run_single_trial(\n",
    "    LMODULE_CLASS,\n",
    "    FT_CONFIG,\n",
    "    FT_TUNE_CONFIG,\n",
    ")"
   ]
  },
  {
   "cell_type": "markdown",
   "metadata": {
    "papermill": {
     "duration": 0.08479,
     "end_time": "2021-01-21T09:14:52.219883",
     "exception": false,
     "start_time": "2021-01-21T09:14:52.135093",
     "status": "completed"
    },
    "tags": []
   },
   "source": [
    "### Look at prediction results again"
   ]
  },
  {
   "cell_type": "code",
   "execution_count": null,
   "metadata": {
    "collapsed": false,
    "execution": {
     "iopub.status.busy": "2022-10-01T22:25:44.037507Z",
     "iopub.status.idle": "2022-10-01T22:25:44.038061Z",
     "shell.execute_reply": "2022-10-01T22:25:44.037835Z",
     "shell.execute_reply.started": "2022-10-01T22:25:44.037780Z"
    },
    "jupyter": {
     "outputs_hidden": false
    },
    "papermill": {
     "duration": 1.5966,
     "end_time": "2021-01-21T09:14:53.898183",
     "exception": false,
     "start_time": "2021-01-21T09:14:52.301583",
     "status": "completed"
    },
    "pycharm": {
     "name": "#%%\n"
    },
    "tags": []
   },
   "outputs": [],
   "source": [
    "show_some_predictions(loaders_dict, full_train_result[\"lmodule_best\"].to(DEVICE))"
   ]
  },
  {
   "cell_type": "markdown",
   "metadata": {
    "papermill": {
     "duration": 0.083596,
     "end_time": "2021-01-21T09:14:54.069095",
     "exception": false,
     "start_time": "2021-01-21T09:14:53.985499",
     "status": "completed"
    },
    "tags": []
   },
   "source": [
    "### Show the report comparing the single run and the result of hyper-parameter optimization"
   ]
  },
  {
   "cell_type": "code",
   "execution_count": null,
   "metadata": {
    "execution": {
     "iopub.status.busy": "2022-10-01T22:25:44.040117Z",
     "iopub.status.idle": "2022-10-01T22:25:44.040634Z",
     "shell.execute_reply": "2022-10-01T22:25:44.040417Z",
     "shell.execute_reply.started": "2022-10-01T22:25:44.040371Z"
    },
    "papermill": {
     "duration": 1.479271,
     "end_time": "2021-01-21T09:14:55.632603",
     "exception": false,
     "start_time": "2021-01-21T09:14:54.153332",
     "status": "completed"
    },
    "tags": []
   },
   "outputs": [],
   "source": [
    "runner.show_metric_report(sort_by_metric_list=['test_f1', 'test_acc', \"test_loss\"])"
   ]
  },
  {
   "cell_type": "markdown",
   "metadata": {
    "papermill": {
     "duration": 0.092153,
     "end_time": "2021-01-21T09:14:55.815603",
     "exception": false,
     "start_time": "2021-01-21T09:14:55.723450",
     "status": "completed"
    },
    "tags": []
   },
   "source": [
    "### Get the last observed metrics for both single-run and hyper-parameter optimization as Pandas DataFrame"
   ]
  },
  {
   "cell_type": "code",
   "execution_count": null,
   "metadata": {
    "execution": {
     "iopub.status.busy": "2022-10-01T22:25:44.042221Z",
     "iopub.status.idle": "2022-10-01T22:25:44.042708Z",
     "shell.execute_reply": "2022-10-01T22:25:44.042504Z",
     "shell.execute_reply.started": "2022-10-01T22:25:44.042471Z"
    },
    "papermill": {
     "duration": 0.205975,
     "end_time": "2021-01-21T09:14:56.109825",
     "exception": false,
     "start_time": "2021-01-21T09:14:55.903850",
     "status": "completed"
    },
    "tags": []
   },
   "outputs": [],
   "source": [
    "runner.get_metrics()['run_x_last_metric_df']"
   ]
  },
  {
   "cell_type": "markdown",
   "metadata": {
    "papermill": {
     "duration": 0.090142,
     "end_time": "2021-01-21T09:14:56.292633",
     "exception": false,
     "start_time": "2021-01-21T09:14:56.202491",
     "status": "completed"
    },
    "tags": []
   },
   "source": [
    "### Get the time-series metrics for both single-run and hyper-parameter optimization as Pandas DataFrame"
   ]
  },
  {
   "cell_type": "code",
   "execution_count": null,
   "metadata": {
    "execution": {
     "iopub.status.busy": "2022-10-01T22:25:44.044164Z",
     "iopub.status.idle": "2022-10-01T22:25:44.044626Z",
     "shell.execute_reply": "2022-10-01T22:25:44.044424Z",
     "shell.execute_reply.started": "2022-10-01T22:25:44.044385Z"
    },
    "papermill": {
     "duration": 0.224316,
     "end_time": "2021-01-21T09:14:56.610716",
     "exception": false,
     "start_time": "2021-01-21T09:14:56.386400",
     "status": "completed"
    },
    "tags": []
   },
   "outputs": [],
   "source": [
    "runner.get_metrics()['epoch_x_stage_run_metric'].df"
   ]
  }
 ],
 "metadata": {
  "accelerator": "GPU",
  "colab": {
   "collapsed_sections": [],
   "machine_shape": "hm",
   "name": "[homework]BERT_for_text_classification.ipynb",
   "provenance": []
  },
  "kernelspec": {
   "display_name": "Python 3 (ipykernel)",
   "language": "python",
   "name": "python3"
  },
  "language_info": {
   "codemirror_mode": {
    "name": "ipython",
    "version": 3
   },
   "file_extension": ".py",
   "mimetype": "text/x-python",
   "name": "python",
   "nbconvert_exporter": "python",
   "pygments_lexer": "ipython3",
   "version": "3.9.13"
  },
  "papermill": {
   "default_parameters": {},
   "duration": 613.346421,
   "end_time": "2021-01-21T09:15:02.222946",
   "environment_variables": {},
   "exception": null,
   "input_path": "/home/peter/_Git/_ML/_DLSchool/pytorch-hyperlight/products/examples/boring_mnist.ipynb",
   "output_path": "/home/peter/_Git/_ML/_DLSchool/pytorch-hyperlight/products/examples/boring_mnist.ipynb",
   "parameters": {
    "FAST_DEV_RUN": false
   },
   "start_time": "2021-01-21T09:04:48.876525",
   "version": "2.2.2"
  },
  "widgets": {
   "application/vnd.jupyter.widget-state+json": {
    "state": {
     "0075a9e1417c4d0eab821f8fc15d9688": {
      "model_module": "@jupyter-widgets/base",
      "model_module_version": "1.2.0",
      "model_name": "LayoutModel",
      "state": {
       "_model_module": "@jupyter-widgets/base",
       "_model_module_version": "1.2.0",
       "_model_name": "LayoutModel",
       "_view_count": null,
       "_view_module": "@jupyter-widgets/base",
       "_view_module_version": "1.2.0",
       "_view_name": "LayoutView",
       "align_content": null,
       "align_items": null,
       "align_self": null,
       "border": null,
       "bottom": null,
       "display": null,
       "flex": "2",
       "flex_flow": null,
       "grid_area": null,
       "grid_auto_columns": null,
       "grid_auto_flow": null,
       "grid_auto_rows": null,
       "grid_column": null,
       "grid_gap": null,
       "grid_row": null,
       "grid_template_areas": null,
       "grid_template_columns": null,
       "grid_template_rows": null,
       "height": null,
       "justify_content": null,
       "justify_items": null,
       "left": null,
       "margin": null,
       "max_height": null,
       "max_width": null,
       "min_height": null,
       "min_width": null,
       "object_fit": null,
       "object_position": null,
       "order": null,
       "overflow": null,
       "overflow_x": null,
       "overflow_y": null,
       "padding": null,
       "right": null,
       "top": null,
       "visibility": null,
       "width": null
      }
     },
     "02aa1a5ac1f546dd9a2191d9e49931f7": {
      "model_module": "@jupyter-widgets/controls",
      "model_module_version": "1.5.0",
      "model_name": "HTMLModel",
      "state": {
       "_dom_classes": [],
       "_model_module": "@jupyter-widgets/controls",
       "_model_module_version": "1.5.0",
       "_model_name": "HTMLModel",
       "_view_count": null,
       "_view_module": "@jupyter-widgets/controls",
       "_view_module_version": "1.5.0",
       "_view_name": "HTMLView",
       "description": "",
       "description_tooltip": null,
       "layout": "IPY_MODEL_6daf13f4a7fd4e5480bd1b27563831b2",
       "placeholder": "​",
       "style": "IPY_MODEL_15d282d0fded472281afe59e6a1622a3",
       "value": ""
      }
     },
     "058fb84486974fbb9f607c3cf250c09d": {
      "model_module": "@jupyter-widgets/base",
      "model_module_version": "1.2.0",
      "model_name": "LayoutModel",
      "state": {
       "_model_module": "@jupyter-widgets/base",
       "_model_module_version": "1.2.0",
       "_model_name": "LayoutModel",
       "_view_count": null,
       "_view_module": "@jupyter-widgets/base",
       "_view_module_version": "1.2.0",
       "_view_name": "LayoutView",
       "align_content": null,
       "align_items": null,
       "align_self": null,
       "border": null,
       "bottom": null,
       "display": null,
       "flex": "2",
       "flex_flow": null,
       "grid_area": null,
       "grid_auto_columns": null,
       "grid_auto_flow": null,
       "grid_auto_rows": null,
       "grid_column": null,
       "grid_gap": null,
       "grid_row": null,
       "grid_template_areas": null,
       "grid_template_columns": null,
       "grid_template_rows": null,
       "height": null,
       "justify_content": null,
       "justify_items": null,
       "left": null,
       "margin": null,
       "max_height": null,
       "max_width": null,
       "min_height": null,
       "min_width": null,
       "object_fit": null,
       "object_position": null,
       "order": null,
       "overflow": null,
       "overflow_x": null,
       "overflow_y": null,
       "padding": null,
       "right": null,
       "top": null,
       "visibility": null,
       "width": null
      }
     },
     "06d96f2d7a3646e19380de9dc488f757": {
      "model_module": "@jupyter-widgets/base",
      "model_module_version": "1.2.0",
      "model_name": "LayoutModel",
      "state": {
       "_model_module": "@jupyter-widgets/base",
       "_model_module_version": "1.2.0",
       "_model_name": "LayoutModel",
       "_view_count": null,
       "_view_module": "@jupyter-widgets/base",
       "_view_module_version": "1.2.0",
       "_view_name": "LayoutView",
       "align_content": null,
       "align_items": null,
       "align_self": null,
       "border": null,
       "bottom": null,
       "display": null,
       "flex": null,
       "flex_flow": null,
       "grid_area": null,
       "grid_auto_columns": null,
       "grid_auto_flow": null,
       "grid_auto_rows": null,
       "grid_column": null,
       "grid_gap": null,
       "grid_row": null,
       "grid_template_areas": null,
       "grid_template_columns": null,
       "grid_template_rows": null,
       "height": null,
       "justify_content": null,
       "justify_items": null,
       "left": null,
       "margin": null,
       "max_height": null,
       "max_width": null,
       "min_height": null,
       "min_width": null,
       "object_fit": null,
       "object_position": null,
       "order": null,
       "overflow": null,
       "overflow_x": null,
       "overflow_y": null,
       "padding": null,
       "right": null,
       "top": null,
       "visibility": null,
       "width": null
      }
     },
     "07f24d9f48e7417480316163d08faa04": {
      "model_module": "@jupyter-widgets/controls",
      "model_module_version": "1.5.0",
      "model_name": "ProgressStyleModel",
      "state": {
       "_model_module": "@jupyter-widgets/controls",
       "_model_module_version": "1.5.0",
       "_model_name": "ProgressStyleModel",
       "_view_count": null,
       "_view_module": "@jupyter-widgets/base",
       "_view_module_version": "1.2.0",
       "_view_name": "StyleView",
       "bar_color": null,
       "description_width": ""
      }
     },
     "0f14f29b3c4b487abc4aca9caf208dd3": {
      "model_module": "@jupyter-widgets/base",
      "model_module_version": "1.2.0",
      "model_name": "LayoutModel",
      "state": {
       "_model_module": "@jupyter-widgets/base",
       "_model_module_version": "1.2.0",
       "_model_name": "LayoutModel",
       "_view_count": null,
       "_view_module": "@jupyter-widgets/base",
       "_view_module_version": "1.2.0",
       "_view_name": "LayoutView",
       "align_content": null,
       "align_items": null,
       "align_self": null,
       "border": null,
       "bottom": null,
       "display": "inline-flex",
       "flex": null,
       "flex_flow": "row wrap",
       "grid_area": null,
       "grid_auto_columns": null,
       "grid_auto_flow": null,
       "grid_auto_rows": null,
       "grid_column": null,
       "grid_gap": null,
       "grid_row": null,
       "grid_template_areas": null,
       "grid_template_columns": null,
       "grid_template_rows": null,
       "height": null,
       "justify_content": null,
       "justify_items": null,
       "left": null,
       "margin": null,
       "max_height": null,
       "max_width": null,
       "min_height": null,
       "min_width": null,
       "object_fit": null,
       "object_position": null,
       "order": null,
       "overflow": null,
       "overflow_x": null,
       "overflow_y": null,
       "padding": null,
       "right": null,
       "top": null,
       "visibility": null,
       "width": "100%"
      }
     },
     "0fb13bb4c42a409c827d72c0de3648ab": {
      "model_module": "@jupyter-widgets/base",
      "model_module_version": "1.2.0",
      "model_name": "LayoutModel",
      "state": {
       "_model_module": "@jupyter-widgets/base",
       "_model_module_version": "1.2.0",
       "_model_name": "LayoutModel",
       "_view_count": null,
       "_view_module": "@jupyter-widgets/base",
       "_view_module_version": "1.2.0",
       "_view_name": "LayoutView",
       "align_content": null,
       "align_items": null,
       "align_self": null,
       "border": null,
       "bottom": null,
       "display": null,
       "flex": null,
       "flex_flow": null,
       "grid_area": null,
       "grid_auto_columns": null,
       "grid_auto_flow": null,
       "grid_auto_rows": null,
       "grid_column": null,
       "grid_gap": null,
       "grid_row": null,
       "grid_template_areas": null,
       "grid_template_columns": null,
       "grid_template_rows": null,
       "height": null,
       "justify_content": null,
       "justify_items": null,
       "left": null,
       "margin": null,
       "max_height": null,
       "max_width": null,
       "min_height": null,
       "min_width": null,
       "object_fit": null,
       "object_position": null,
       "order": null,
       "overflow": null,
       "overflow_x": null,
       "overflow_y": null,
       "padding": null,
       "right": null,
       "top": null,
       "visibility": null,
       "width": null
      }
     },
     "157ed0f21f124a6191bd95d374666259": {
      "model_module": "@jupyter-widgets/controls",
      "model_module_version": "1.5.0",
      "model_name": "FloatProgressModel",
      "state": {
       "_dom_classes": [],
       "_model_module": "@jupyter-widgets/controls",
       "_model_module_version": "1.5.0",
       "_model_name": "FloatProgressModel",
       "_view_count": null,
       "_view_module": "@jupyter-widgets/controls",
       "_view_module_version": "1.5.0",
       "_view_name": "ProgressView",
       "bar_style": "info",
       "description": "",
       "description_tooltip": null,
       "layout": "IPY_MODEL_518d04a1640f462288fec3864754ca13",
       "max": 1,
       "min": 0,
       "orientation": "horizontal",
       "style": "IPY_MODEL_07f24d9f48e7417480316163d08faa04",
       "value": 1
      }
     },
     "15d282d0fded472281afe59e6a1622a3": {
      "model_module": "@jupyter-widgets/controls",
      "model_module_version": "1.5.0",
      "model_name": "DescriptionStyleModel",
      "state": {
       "_model_module": "@jupyter-widgets/controls",
       "_model_module_version": "1.5.0",
       "_model_name": "DescriptionStyleModel",
       "_view_count": null,
       "_view_module": "@jupyter-widgets/base",
       "_view_module_version": "1.2.0",
       "_view_name": "StyleView",
       "description_width": ""
      }
     },
     "1b44ad2d5e534725b45483e9d9e9da32": {
      "model_module": "@jupyter-widgets/controls",
      "model_module_version": "1.5.0",
      "model_name": "DescriptionStyleModel",
      "state": {
       "_model_module": "@jupyter-widgets/controls",
       "_model_module_version": "1.5.0",
       "_model_name": "DescriptionStyleModel",
       "_view_count": null,
       "_view_module": "@jupyter-widgets/base",
       "_view_module_version": "1.2.0",
       "_view_name": "StyleView",
       "description_width": ""
      }
     },
     "1bd9799ba24847448b9bcbcd2ea76dce": {
      "model_module": "@jupyter-widgets/controls",
      "model_module_version": "1.5.0",
      "model_name": "DescriptionStyleModel",
      "state": {
       "_model_module": "@jupyter-widgets/controls",
       "_model_module_version": "1.5.0",
       "_model_name": "DescriptionStyleModel",
       "_view_count": null,
       "_view_module": "@jupyter-widgets/base",
       "_view_module_version": "1.2.0",
       "_view_name": "StyleView",
       "description_width": ""
      }
     },
     "1c3c1515bf614d50a63b93f1ec3515b0": {
      "model_module": "@jupyter-widgets/controls",
      "model_module_version": "1.5.0",
      "model_name": "HBoxModel",
      "state": {
       "_dom_classes": [],
       "_model_module": "@jupyter-widgets/controls",
       "_model_module_version": "1.5.0",
       "_model_name": "HBoxModel",
       "_view_count": null,
       "_view_module": "@jupyter-widgets/controls",
       "_view_module_version": "1.5.0",
       "_view_name": "HBoxView",
       "box_style": "",
       "children": [
        "IPY_MODEL_61703c4e27ff4ad4a5a41725051600d4",
        "IPY_MODEL_9c473939975b49db9e315deb49009cde",
        "IPY_MODEL_7fc3e02614d54a48b381d691fe2d7d16"
       ],
       "layout": "IPY_MODEL_0f14f29b3c4b487abc4aca9caf208dd3"
      }
     },
     "22f5de59cb2e4a55b9d31daa6df1a081": {
      "model_module": "@jupyter-widgets/controls",
      "model_module_version": "1.5.0",
      "model_name": "HBoxModel",
      "state": {
       "_dom_classes": [],
       "_model_module": "@jupyter-widgets/controls",
       "_model_module_version": "1.5.0",
       "_model_name": "HBoxModel",
       "_view_count": null,
       "_view_module": "@jupyter-widgets/controls",
       "_view_module_version": "1.5.0",
       "_view_name": "HBoxView",
       "box_style": "",
       "children": [
        "IPY_MODEL_a14d40e6b8674278bc810fd0749b68c3",
        "IPY_MODEL_5dea412274c24aa8be7669dcb1a47860",
        "IPY_MODEL_33ceff5cbdc34b43bda69f9e262d2dd5"
       ],
       "layout": "IPY_MODEL_2cf375df7495421192038a62f352ca30"
      }
     },
     "2b2305dbcb844272a5874d2ac8745f92": {
      "model_module": "@jupyter-widgets/base",
      "model_module_version": "1.2.0",
      "model_name": "LayoutModel",
      "state": {
       "_model_module": "@jupyter-widgets/base",
       "_model_module_version": "1.2.0",
       "_model_name": "LayoutModel",
       "_view_count": null,
       "_view_module": "@jupyter-widgets/base",
       "_view_module_version": "1.2.0",
       "_view_name": "LayoutView",
       "align_content": null,
       "align_items": null,
       "align_self": null,
       "border": null,
       "bottom": null,
       "display": null,
       "flex": null,
       "flex_flow": null,
       "grid_area": null,
       "grid_auto_columns": null,
       "grid_auto_flow": null,
       "grid_auto_rows": null,
       "grid_column": null,
       "grid_gap": null,
       "grid_row": null,
       "grid_template_areas": null,
       "grid_template_columns": null,
       "grid_template_rows": null,
       "height": null,
       "justify_content": null,
       "justify_items": null,
       "left": null,
       "margin": null,
       "max_height": null,
       "max_width": null,
       "min_height": null,
       "min_width": null,
       "object_fit": null,
       "object_position": null,
       "order": null,
       "overflow": null,
       "overflow_x": null,
       "overflow_y": null,
       "padding": null,
       "right": null,
       "top": null,
       "visibility": null,
       "width": null
      }
     },
     "2b6825cd1e9b4c1f99fa99e0f32a9ae5": {
      "model_module": "@jupyter-widgets/controls",
      "model_module_version": "1.5.0",
      "model_name": "HTMLModel",
      "state": {
       "_dom_classes": [],
       "_model_module": "@jupyter-widgets/controls",
       "_model_module_version": "1.5.0",
       "_model_name": "HTMLModel",
       "_view_count": null,
       "_view_module": "@jupyter-widgets/controls",
       "_view_module_version": "1.5.0",
       "_view_name": "HTMLView",
       "description": "",
       "description_tooltip": null,
       "layout": "IPY_MODEL_6f34dc6984ce45b795816ae603b443e4",
       "placeholder": "​",
       "style": "IPY_MODEL_3deb1f4e1cd549a2bc664d1e600bfbc0",
       "value": " 938/938 [00:36&lt;00:00, 26.05it/s, loss=0.0455, v_num=, val_acc_epoch=0.982, val_f1_epoch=0.982, val_loss_epoch=0.061, train_acc_step=1, train_f1_step=1, train_loss_step=0.00372, val_acc_step=1, val_f1_step=1, val_loss_step=0.0182, train_acc_epoch=0.983, train_f1_epoch=0.983, train_loss_epoch=0.0566]"
      }
     },
     "2c4dbf3bc9c34193abf5d67be0320ad4": {
      "model_module": "@jupyter-widgets/controls",
      "model_module_version": "1.5.0",
      "model_name": "ProgressStyleModel",
      "state": {
       "_model_module": "@jupyter-widgets/controls",
       "_model_module_version": "1.5.0",
       "_model_name": "ProgressStyleModel",
       "_view_count": null,
       "_view_module": "@jupyter-widgets/base",
       "_view_module_version": "1.2.0",
       "_view_name": "StyleView",
       "bar_color": null,
       "description_width": ""
      }
     },
     "2cf375df7495421192038a62f352ca30": {
      "model_module": "@jupyter-widgets/base",
      "model_module_version": "1.2.0",
      "model_name": "LayoutModel",
      "state": {
       "_model_module": "@jupyter-widgets/base",
       "_model_module_version": "1.2.0",
       "_model_name": "LayoutModel",
       "_view_count": null,
       "_view_module": "@jupyter-widgets/base",
       "_view_module_version": "1.2.0",
       "_view_name": "LayoutView",
       "align_content": null,
       "align_items": null,
       "align_self": null,
       "border": null,
       "bottom": null,
       "display": "inline-flex",
       "flex": null,
       "flex_flow": "row wrap",
       "grid_area": null,
       "grid_auto_columns": null,
       "grid_auto_flow": null,
       "grid_auto_rows": null,
       "grid_column": null,
       "grid_gap": null,
       "grid_row": null,
       "grid_template_areas": null,
       "grid_template_columns": null,
       "grid_template_rows": null,
       "height": null,
       "justify_content": null,
       "justify_items": null,
       "left": null,
       "margin": null,
       "max_height": null,
       "max_width": null,
       "min_height": null,
       "min_width": null,
       "object_fit": null,
       "object_position": null,
       "order": null,
       "overflow": null,
       "overflow_x": null,
       "overflow_y": null,
       "padding": null,
       "right": null,
       "top": null,
       "visibility": null,
       "width": "100%"
      }
     },
     "2ee44b7fd7df4e5f8006de8eb2c34da0": {
      "model_module": "@jupyter-widgets/controls",
      "model_module_version": "1.5.0",
      "model_name": "FloatProgressModel",
      "state": {
       "_dom_classes": [],
       "_model_module": "@jupyter-widgets/controls",
       "_model_module_version": "1.5.0",
       "_model_name": "FloatProgressModel",
       "_view_count": null,
       "_view_module": "@jupyter-widgets/controls",
       "_view_module_version": "1.5.0",
       "_view_name": "ProgressView",
       "bar_style": "",
       "description": "",
       "description_tooltip": null,
       "layout": "IPY_MODEL_0075a9e1417c4d0eab821f8fc15d9688",
       "max": 938,
       "min": 0,
       "orientation": "horizontal",
       "style": "IPY_MODEL_2c4dbf3bc9c34193abf5d67be0320ad4",
       "value": 938
      }
     },
     "33ceff5cbdc34b43bda69f9e262d2dd5": {
      "model_module": "@jupyter-widgets/controls",
      "model_module_version": "1.5.0",
      "model_name": "HTMLModel",
      "state": {
       "_dom_classes": [],
       "_model_module": "@jupyter-widgets/controls",
       "_model_module_version": "1.5.0",
       "_model_name": "HTMLModel",
       "_view_count": null,
       "_view_module": "@jupyter-widgets/controls",
       "_view_module_version": "1.5.0",
       "_view_name": "HTMLView",
       "description": "",
       "description_tooltip": null,
       "layout": "IPY_MODEL_8b74b1f44d1c4d2a8065eac64ca40694",
       "placeholder": "​",
       "style": "IPY_MODEL_a7d17c154d87487dbcf3f5d393273519",
       "value": " 188/? [00:17&lt;00:00, 113.92it/s]"
      }
     },
     "38502f155b4748918fb231991bbede5c": {
      "model_module": "@jupyter-widgets/controls",
      "model_module_version": "1.5.0",
      "model_name": "ProgressStyleModel",
      "state": {
       "_model_module": "@jupyter-widgets/controls",
       "_model_module_version": "1.5.0",
       "_model_name": "ProgressStyleModel",
       "_view_count": null,
       "_view_module": "@jupyter-widgets/base",
       "_view_module_version": "1.2.0",
       "_view_name": "StyleView",
       "bar_color": null,
       "description_width": ""
      }
     },
     "3a6cd91b9c414c089503971c98f5c5dd": {
      "model_module": "@jupyter-widgets/controls",
      "model_module_version": "1.5.0",
      "model_name": "HTMLModel",
      "state": {
       "_dom_classes": [],
       "_model_module": "@jupyter-widgets/controls",
       "_model_module_version": "1.5.0",
       "_model_name": "HTMLModel",
       "_view_count": null,
       "_view_module": "@jupyter-widgets/controls",
       "_view_module_version": "1.5.0",
       "_view_name": "HTMLView",
       "description": "",
       "description_tooltip": null,
       "layout": "IPY_MODEL_cc08ae552add4ee2890bd2357a361eac",
       "placeholder": "​",
       "style": "IPY_MODEL_ed865916ec964756a4b85e088a2bc1bf",
       "value": "Validation sanity check: 0it [00:00, ?it/s]"
      }
     },
     "3c5d0b5999c64008bc7be34206590ce4": {
      "model_module": "@jupyter-widgets/controls",
      "model_module_version": "1.5.0",
      "model_name": "HTMLModel",
      "state": {
       "_dom_classes": [],
       "_model_module": "@jupyter-widgets/controls",
       "_model_module_version": "1.5.0",
       "_model_name": "HTMLModel",
       "_view_count": null,
       "_view_module": "@jupyter-widgets/controls",
       "_view_module_version": "1.5.0",
       "_view_name": "HTMLView",
       "description": "",
       "description_tooltip": null,
       "layout": "IPY_MODEL_2b2305dbcb844272a5874d2ac8745f92",
       "placeholder": "​",
       "style": "IPY_MODEL_67a6b61ce82b41df88a14de0d071efec",
       "value": " 188/188 [01:28&lt;00:00, 113.51it/s]"
      }
     },
     "3deb1f4e1cd549a2bc664d1e600bfbc0": {
      "model_module": "@jupyter-widgets/controls",
      "model_module_version": "1.5.0",
      "model_name": "DescriptionStyleModel",
      "state": {
       "_model_module": "@jupyter-widgets/controls",
       "_model_module_version": "1.5.0",
       "_model_name": "DescriptionStyleModel",
       "_view_count": null,
       "_view_module": "@jupyter-widgets/base",
       "_view_module_version": "1.2.0",
       "_view_name": "StyleView",
       "description_width": ""
      }
     },
     "3e5e905715c845f684c329964f84dcc8": {
      "model_module": "@jupyter-widgets/base",
      "model_module_version": "1.2.0",
      "model_name": "LayoutModel",
      "state": {
       "_model_module": "@jupyter-widgets/base",
       "_model_module_version": "1.2.0",
       "_model_name": "LayoutModel",
       "_view_count": null,
       "_view_module": "@jupyter-widgets/base",
       "_view_module_version": "1.2.0",
       "_view_name": "LayoutView",
       "align_content": null,
       "align_items": null,
       "align_self": null,
       "border": null,
       "bottom": null,
       "display": "inline-flex",
       "flex": null,
       "flex_flow": "row wrap",
       "grid_area": null,
       "grid_auto_columns": null,
       "grid_auto_flow": null,
       "grid_auto_rows": null,
       "grid_column": null,
       "grid_gap": null,
       "grid_row": null,
       "grid_template_areas": null,
       "grid_template_columns": null,
       "grid_template_rows": null,
       "height": null,
       "justify_content": null,
       "justify_items": null,
       "left": null,
       "margin": null,
       "max_height": null,
       "max_width": null,
       "min_height": null,
       "min_width": null,
       "object_fit": null,
       "object_position": null,
       "order": null,
       "overflow": null,
       "overflow_x": null,
       "overflow_y": null,
       "padding": null,
       "right": null,
       "top": null,
       "visibility": null,
       "width": "100%"
      }
     },
     "3f1440af48f04750826bf07757110841": {
      "model_module": "@jupyter-widgets/base",
      "model_module_version": "1.2.0",
      "model_name": "LayoutModel",
      "state": {
       "_model_module": "@jupyter-widgets/base",
       "_model_module_version": "1.2.0",
       "_model_name": "LayoutModel",
       "_view_count": null,
       "_view_module": "@jupyter-widgets/base",
       "_view_module_version": "1.2.0",
       "_view_name": "LayoutView",
       "align_content": null,
       "align_items": null,
       "align_self": null,
       "border": null,
       "bottom": null,
       "display": null,
       "flex": null,
       "flex_flow": null,
       "grid_area": null,
       "grid_auto_columns": null,
       "grid_auto_flow": null,
       "grid_auto_rows": null,
       "grid_column": null,
       "grid_gap": null,
       "grid_row": null,
       "grid_template_areas": null,
       "grid_template_columns": null,
       "grid_template_rows": null,
       "height": null,
       "justify_content": null,
       "justify_items": null,
       "left": null,
       "margin": null,
       "max_height": null,
       "max_width": null,
       "min_height": null,
       "min_width": null,
       "object_fit": null,
       "object_position": null,
       "order": null,
       "overflow": null,
       "overflow_x": null,
       "overflow_y": null,
       "padding": null,
       "right": null,
       "top": null,
       "visibility": null,
       "width": null
      }
     },
     "4460751494814f40ab13792c2f975e78": {
      "model_module": "@jupyter-widgets/base",
      "model_module_version": "1.2.0",
      "model_name": "LayoutModel",
      "state": {
       "_model_module": "@jupyter-widgets/base",
       "_model_module_version": "1.2.0",
       "_model_name": "LayoutModel",
       "_view_count": null,
       "_view_module": "@jupyter-widgets/base",
       "_view_module_version": "1.2.0",
       "_view_name": "LayoutView",
       "align_content": null,
       "align_items": null,
       "align_self": null,
       "border": null,
       "bottom": null,
       "display": null,
       "flex": "2",
       "flex_flow": null,
       "grid_area": null,
       "grid_auto_columns": null,
       "grid_auto_flow": null,
       "grid_auto_rows": null,
       "grid_column": null,
       "grid_gap": null,
       "grid_row": null,
       "grid_template_areas": null,
       "grid_template_columns": null,
       "grid_template_rows": null,
       "height": null,
       "justify_content": null,
       "justify_items": null,
       "left": null,
       "margin": null,
       "max_height": null,
       "max_width": null,
       "min_height": null,
       "min_width": null,
       "object_fit": null,
       "object_position": null,
       "order": null,
       "overflow": null,
       "overflow_x": null,
       "overflow_y": null,
       "padding": null,
       "right": null,
       "top": null,
       "visibility": null,
       "width": null
      }
     },
     "4dec7c21115f4cb1abdb9bb2f2b2001b": {
      "model_module": "@jupyter-widgets/controls",
      "model_module_version": "1.5.0",
      "model_name": "HBoxModel",
      "state": {
       "_dom_classes": [],
       "_model_module": "@jupyter-widgets/controls",
       "_model_module_version": "1.5.0",
       "_model_name": "HBoxModel",
       "_view_count": null,
       "_view_module": "@jupyter-widgets/controls",
       "_view_module_version": "1.5.0",
       "_view_name": "HBoxView",
       "box_style": "",
       "children": [
        "IPY_MODEL_02aa1a5ac1f546dd9a2191d9e49931f7",
        "IPY_MODEL_8ad4b2347c234dabb55215f69e9faed0",
        "IPY_MODEL_3a6cd91b9c414c089503971c98f5c5dd"
       ],
       "layout": "IPY_MODEL_e268f1a6dab04226bebd26e48b7120b9"
      }
     },
     "4dff01f365784c3aae0e4c7eaf5c1ff6": {
      "model_module": "@jupyter-widgets/controls",
      "model_module_version": "1.5.0",
      "model_name": "HBoxModel",
      "state": {
       "_dom_classes": [],
       "_model_module": "@jupyter-widgets/controls",
       "_model_module_version": "1.5.0",
       "_model_name": "HBoxModel",
       "_view_count": null,
       "_view_module": "@jupyter-widgets/controls",
       "_view_module_version": "1.5.0",
       "_view_name": "HBoxView",
       "box_style": "",
       "children": [
        "IPY_MODEL_b259d8c2ee2445a98a341efc67a0718f",
        "IPY_MODEL_157ed0f21f124a6191bd95d374666259",
        "IPY_MODEL_de9ff08c096142bebeb27992abccc113"
       ],
       "layout": "IPY_MODEL_f72593643a0e43a3b9632bb1bea56acd"
      }
     },
     "518d04a1640f462288fec3864754ca13": {
      "model_module": "@jupyter-widgets/base",
      "model_module_version": "1.2.0",
      "model_name": "LayoutModel",
      "state": {
       "_model_module": "@jupyter-widgets/base",
       "_model_module_version": "1.2.0",
       "_model_name": "LayoutModel",
       "_view_count": null,
       "_view_module": "@jupyter-widgets/base",
       "_view_module_version": "1.2.0",
       "_view_name": "LayoutView",
       "align_content": null,
       "align_items": null,
       "align_self": null,
       "border": null,
       "bottom": null,
       "display": null,
       "flex": "2",
       "flex_flow": null,
       "grid_area": null,
       "grid_auto_columns": null,
       "grid_auto_flow": null,
       "grid_auto_rows": null,
       "grid_column": null,
       "grid_gap": null,
       "grid_row": null,
       "grid_template_areas": null,
       "grid_template_columns": null,
       "grid_template_rows": null,
       "height": null,
       "justify_content": null,
       "justify_items": null,
       "left": null,
       "margin": null,
       "max_height": null,
       "max_width": null,
       "min_height": null,
       "min_width": null,
       "object_fit": null,
       "object_position": null,
       "order": null,
       "overflow": null,
       "overflow_x": null,
       "overflow_y": null,
       "padding": null,
       "right": null,
       "top": null,
       "visibility": null,
       "width": null
      }
     },
     "551585286ee141a1bfc0955096c73ffb": {
      "model_module": "@jupyter-widgets/controls",
      "model_module_version": "1.5.0",
      "model_name": "HTMLModel",
      "state": {
       "_dom_classes": [],
       "_model_module": "@jupyter-widgets/controls",
       "_model_module_version": "1.5.0",
       "_model_name": "HTMLModel",
       "_view_count": null,
       "_view_module": "@jupyter-widgets/controls",
       "_view_module_version": "1.5.0",
       "_view_name": "HTMLView",
       "description": "",
       "description_tooltip": null,
       "layout": "IPY_MODEL_82b522eef90f49df82c3afd3ab2a035a",
       "placeholder": "​",
       "style": "IPY_MODEL_92a74a4b6fad42b6baa772d14c0bfa5e",
       "value": "Epoch 5: 100%"
      }
     },
     "5dea412274c24aa8be7669dcb1a47860": {
      "model_module": "@jupyter-widgets/controls",
      "model_module_version": "1.5.0",
      "model_name": "FloatProgressModel",
      "state": {
       "_dom_classes": [],
       "_model_module": "@jupyter-widgets/controls",
       "_model_module_version": "1.5.0",
       "_model_name": "FloatProgressModel",
       "_view_count": null,
       "_view_module": "@jupyter-widgets/controls",
       "_view_module_version": "1.5.0",
       "_view_name": "ProgressView",
       "bar_style": "info",
       "description": "",
       "description_tooltip": null,
       "layout": "IPY_MODEL_058fb84486974fbb9f607c3cf250c09d",
       "max": 1,
       "min": 0,
       "orientation": "horizontal",
       "style": "IPY_MODEL_a1768377b612423385a457e22acb8435",
       "value": 1
      }
     },
     "5f996652cb534faebd0345f96870f9b0": {
      "model_module": "@jupyter-widgets/controls",
      "model_module_version": "1.5.0",
      "model_name": "HTMLModel",
      "state": {
       "_dom_classes": [],
       "_model_module": "@jupyter-widgets/controls",
       "_model_module_version": "1.5.0",
       "_model_name": "HTMLModel",
       "_view_count": null,
       "_view_module": "@jupyter-widgets/controls",
       "_view_module_version": "1.5.0",
       "_view_name": "HTMLView",
       "description": "",
       "description_tooltip": null,
       "layout": "IPY_MODEL_ed5f2f59cc60459da6c6f9540e6af2ca",
       "placeholder": "​",
       "style": "IPY_MODEL_bc8461439e3b43ef9e7b7ddd110141e5",
       "value": "Val: 100%"
      }
     },
     "61703c4e27ff4ad4a5a41725051600d4": {
      "model_module": "@jupyter-widgets/controls",
      "model_module_version": "1.5.0",
      "model_name": "HTMLModel",
      "state": {
       "_dom_classes": [],
       "_model_module": "@jupyter-widgets/controls",
       "_model_module_version": "1.5.0",
       "_model_name": "HTMLModel",
       "_view_count": null,
       "_view_module": "@jupyter-widgets/controls",
       "_view_module_version": "1.5.0",
       "_view_name": "HTMLView",
       "description": "",
       "description_tooltip": null,
       "layout": "IPY_MODEL_feff760f4f6441fd933fa3c25c535a24",
       "placeholder": "​",
       "style": "IPY_MODEL_dfc9356486da47d39175954309681039",
       "value": "Test:  94%"
      }
     },
     "62c2e1928837485b9a50eb39e1740164": {
      "model_module": "@jupyter-widgets/base",
      "model_module_version": "1.2.0",
      "model_name": "LayoutModel",
      "state": {
       "_model_module": "@jupyter-widgets/base",
       "_model_module_version": "1.2.0",
       "_model_name": "LayoutModel",
       "_view_count": null,
       "_view_module": "@jupyter-widgets/base",
       "_view_module_version": "1.2.0",
       "_view_name": "LayoutView",
       "align_content": null,
       "align_items": null,
       "align_self": null,
       "border": null,
       "bottom": null,
       "display": null,
       "flex": "2",
       "flex_flow": null,
       "grid_area": null,
       "grid_auto_columns": null,
       "grid_auto_flow": null,
       "grid_auto_rows": null,
       "grid_column": null,
       "grid_gap": null,
       "grid_row": null,
       "grid_template_areas": null,
       "grid_template_columns": null,
       "grid_template_rows": null,
       "height": null,
       "justify_content": null,
       "justify_items": null,
       "left": null,
       "margin": null,
       "max_height": null,
       "max_width": null,
       "min_height": null,
       "min_width": null,
       "object_fit": null,
       "object_position": null,
       "order": null,
       "overflow": null,
       "overflow_x": null,
       "overflow_y": null,
       "padding": null,
       "right": null,
       "top": null,
       "visibility": null,
       "width": null
      }
     },
     "67a6b61ce82b41df88a14de0d071efec": {
      "model_module": "@jupyter-widgets/controls",
      "model_module_version": "1.5.0",
      "model_name": "DescriptionStyleModel",
      "state": {
       "_model_module": "@jupyter-widgets/controls",
       "_model_module_version": "1.5.0",
       "_model_name": "DescriptionStyleModel",
       "_view_count": null,
       "_view_module": "@jupyter-widgets/base",
       "_view_module_version": "1.2.0",
       "_view_name": "StyleView",
       "description_width": ""
      }
     },
     "67f4a0eaaea64e2dac52a7cb203b0bc2": {
      "model_module": "@jupyter-widgets/base",
      "model_module_version": "1.2.0",
      "model_name": "LayoutModel",
      "state": {
       "_model_module": "@jupyter-widgets/base",
       "_model_module_version": "1.2.0",
       "_model_name": "LayoutModel",
       "_view_count": null,
       "_view_module": "@jupyter-widgets/base",
       "_view_module_version": "1.2.0",
       "_view_name": "LayoutView",
       "align_content": null,
       "align_items": null,
       "align_self": null,
       "border": null,
       "bottom": null,
       "display": "inline-flex",
       "flex": null,
       "flex_flow": "row wrap",
       "grid_area": null,
       "grid_auto_columns": null,
       "grid_auto_flow": null,
       "grid_auto_rows": null,
       "grid_column": null,
       "grid_gap": null,
       "grid_row": null,
       "grid_template_areas": null,
       "grid_template_columns": null,
       "grid_template_rows": null,
       "height": null,
       "justify_content": null,
       "justify_items": null,
       "left": null,
       "margin": null,
       "max_height": null,
       "max_width": null,
       "min_height": null,
       "min_width": null,
       "object_fit": null,
       "object_position": null,
       "order": null,
       "overflow": null,
       "overflow_x": null,
       "overflow_y": null,
       "padding": null,
       "right": null,
       "top": null,
       "visibility": null,
       "width": "100%"
      }
     },
     "69526f0ee5734ff898ff7066a459ba39": {
      "model_module": "@jupyter-widgets/controls",
      "model_module_version": "1.5.0",
      "model_name": "DescriptionStyleModel",
      "state": {
       "_model_module": "@jupyter-widgets/controls",
       "_model_module_version": "1.5.0",
       "_model_name": "DescriptionStyleModel",
       "_view_count": null,
       "_view_module": "@jupyter-widgets/base",
       "_view_module_version": "1.2.0",
       "_view_name": "StyleView",
       "description_width": ""
      }
     },
     "6daf13f4a7fd4e5480bd1b27563831b2": {
      "model_module": "@jupyter-widgets/base",
      "model_module_version": "1.2.0",
      "model_name": "LayoutModel",
      "state": {
       "_model_module": "@jupyter-widgets/base",
       "_model_module_version": "1.2.0",
       "_model_name": "LayoutModel",
       "_view_count": null,
       "_view_module": "@jupyter-widgets/base",
       "_view_module_version": "1.2.0",
       "_view_name": "LayoutView",
       "align_content": null,
       "align_items": null,
       "align_self": null,
       "border": null,
       "bottom": null,
       "display": null,
       "flex": null,
       "flex_flow": null,
       "grid_area": null,
       "grid_auto_columns": null,
       "grid_auto_flow": null,
       "grid_auto_rows": null,
       "grid_column": null,
       "grid_gap": null,
       "grid_row": null,
       "grid_template_areas": null,
       "grid_template_columns": null,
       "grid_template_rows": null,
       "height": null,
       "justify_content": null,
       "justify_items": null,
       "left": null,
       "margin": null,
       "max_height": null,
       "max_width": null,
       "min_height": null,
       "min_width": null,
       "object_fit": null,
       "object_position": null,
       "order": null,
       "overflow": null,
       "overflow_x": null,
       "overflow_y": null,
       "padding": null,
       "right": null,
       "top": null,
       "visibility": null,
       "width": null
      }
     },
     "6f34dc6984ce45b795816ae603b443e4": {
      "model_module": "@jupyter-widgets/base",
      "model_module_version": "1.2.0",
      "model_name": "LayoutModel",
      "state": {
       "_model_module": "@jupyter-widgets/base",
       "_model_module_version": "1.2.0",
       "_model_name": "LayoutModel",
       "_view_count": null,
       "_view_module": "@jupyter-widgets/base",
       "_view_module_version": "1.2.0",
       "_view_name": "LayoutView",
       "align_content": null,
       "align_items": null,
       "align_self": null,
       "border": null,
       "bottom": null,
       "display": null,
       "flex": null,
       "flex_flow": null,
       "grid_area": null,
       "grid_auto_columns": null,
       "grid_auto_flow": null,
       "grid_auto_rows": null,
       "grid_column": null,
       "grid_gap": null,
       "grid_row": null,
       "grid_template_areas": null,
       "grid_template_columns": null,
       "grid_template_rows": null,
       "height": null,
       "justify_content": null,
       "justify_items": null,
       "left": null,
       "margin": null,
       "max_height": null,
       "max_width": null,
       "min_height": null,
       "min_width": null,
       "object_fit": null,
       "object_position": null,
       "order": null,
       "overflow": null,
       "overflow_x": null,
       "overflow_y": null,
       "padding": null,
       "right": null,
       "top": null,
       "visibility": null,
       "width": null
      }
     },
     "6f63987a54d54b19b703f632745c565e": {
      "model_module": "@jupyter-widgets/base",
      "model_module_version": "1.2.0",
      "model_name": "LayoutModel",
      "state": {
       "_model_module": "@jupyter-widgets/base",
       "_model_module_version": "1.2.0",
       "_model_name": "LayoutModel",
       "_view_count": null,
       "_view_module": "@jupyter-widgets/base",
       "_view_module_version": "1.2.0",
       "_view_name": "LayoutView",
       "align_content": null,
       "align_items": null,
       "align_self": null,
       "border": null,
       "bottom": null,
       "display": "inline-flex",
       "flex": null,
       "flex_flow": "row wrap",
       "grid_area": null,
       "grid_auto_columns": null,
       "grid_auto_flow": null,
       "grid_auto_rows": null,
       "grid_column": null,
       "grid_gap": null,
       "grid_row": null,
       "grid_template_areas": null,
       "grid_template_columns": null,
       "grid_template_rows": null,
       "height": null,
       "justify_content": null,
       "justify_items": null,
       "left": null,
       "margin": null,
       "max_height": null,
       "max_width": null,
       "min_height": null,
       "min_width": null,
       "object_fit": null,
       "object_position": null,
       "order": null,
       "overflow": null,
       "overflow_x": null,
       "overflow_y": null,
       "padding": null,
       "right": null,
       "top": null,
       "visibility": null,
       "width": "100%"
      }
     },
     "7cd87065c1cb4a9cb42517ec16663682": {
      "model_module": "@jupyter-widgets/base",
      "model_module_version": "1.2.0",
      "model_name": "LayoutModel",
      "state": {
       "_model_module": "@jupyter-widgets/base",
       "_model_module_version": "1.2.0",
       "_model_name": "LayoutModel",
       "_view_count": null,
       "_view_module": "@jupyter-widgets/base",
       "_view_module_version": "1.2.0",
       "_view_name": "LayoutView",
       "align_content": null,
       "align_items": null,
       "align_self": null,
       "border": null,
       "bottom": null,
       "display": null,
       "flex": null,
       "flex_flow": null,
       "grid_area": null,
       "grid_auto_columns": null,
       "grid_auto_flow": null,
       "grid_auto_rows": null,
       "grid_column": null,
       "grid_gap": null,
       "grid_row": null,
       "grid_template_areas": null,
       "grid_template_columns": null,
       "grid_template_rows": null,
       "height": null,
       "justify_content": null,
       "justify_items": null,
       "left": null,
       "margin": null,
       "max_height": null,
       "max_width": null,
       "min_height": null,
       "min_width": null,
       "object_fit": null,
       "object_position": null,
       "order": null,
       "overflow": null,
       "overflow_x": null,
       "overflow_y": null,
       "padding": null,
       "right": null,
       "top": null,
       "visibility": null,
       "width": null
      }
     },
     "7cd9b9dd18d940ff95edc907085755e2": {
      "model_module": "@jupyter-widgets/controls",
      "model_module_version": "1.5.0",
      "model_name": "DescriptionStyleModel",
      "state": {
       "_model_module": "@jupyter-widgets/controls",
       "_model_module_version": "1.5.0",
       "_model_name": "DescriptionStyleModel",
       "_view_count": null,
       "_view_module": "@jupyter-widgets/base",
       "_view_module_version": "1.2.0",
       "_view_name": "StyleView",
       "description_width": ""
      }
     },
     "7cdc0a92fb9948838a4d589dde31127d": {
      "model_module": "@jupyter-widgets/controls",
      "model_module_version": "1.5.0",
      "model_name": "ProgressStyleModel",
      "state": {
       "_model_module": "@jupyter-widgets/controls",
       "_model_module_version": "1.5.0",
       "_model_name": "ProgressStyleModel",
       "_view_count": null,
       "_view_module": "@jupyter-widgets/base",
       "_view_module_version": "1.2.0",
       "_view_name": "StyleView",
       "bar_color": null,
       "description_width": ""
      }
     },
     "7f9b88699b3a41ff8944700519f70121": {
      "model_module": "@jupyter-widgets/controls",
      "model_module_version": "1.5.0",
      "model_name": "DescriptionStyleModel",
      "state": {
       "_model_module": "@jupyter-widgets/controls",
       "_model_module_version": "1.5.0",
       "_model_name": "DescriptionStyleModel",
       "_view_count": null,
       "_view_module": "@jupyter-widgets/base",
       "_view_module_version": "1.2.0",
       "_view_name": "StyleView",
       "description_width": ""
      }
     },
     "7fc3e02614d54a48b381d691fe2d7d16": {
      "model_module": "@jupyter-widgets/controls",
      "model_module_version": "1.5.0",
      "model_name": "HTMLModel",
      "state": {
       "_dom_classes": [],
       "_model_module": "@jupyter-widgets/controls",
       "_model_module_version": "1.5.0",
       "_model_name": "HTMLModel",
       "_view_count": null,
       "_view_module": "@jupyter-widgets/controls",
       "_view_module_version": "1.5.0",
       "_view_name": "HTMLView",
       "description": "",
       "description_tooltip": null,
       "layout": "IPY_MODEL_0fb13bb4c42a409c827d72c0de3648ab",
       "placeholder": "​",
       "style": "IPY_MODEL_feeacd3912974977bd53134d5a359349",
       "value": " 147/157 [00:01&lt;00:00, 108.18it/s]"
      }
     },
     "7fd74755fb164b53a5973778ca502038": {
      "model_module": "@jupyter-widgets/base",
      "model_module_version": "1.2.0",
      "model_name": "LayoutModel",
      "state": {
       "_model_module": "@jupyter-widgets/base",
       "_model_module_version": "1.2.0",
       "_model_name": "LayoutModel",
       "_view_count": null,
       "_view_module": "@jupyter-widgets/base",
       "_view_module_version": "1.2.0",
       "_view_name": "LayoutView",
       "align_content": null,
       "align_items": null,
       "align_self": null,
       "border": null,
       "bottom": null,
       "display": null,
       "flex": null,
       "flex_flow": null,
       "grid_area": null,
       "grid_auto_columns": null,
       "grid_auto_flow": null,
       "grid_auto_rows": null,
       "grid_column": null,
       "grid_gap": null,
       "grid_row": null,
       "grid_template_areas": null,
       "grid_template_columns": null,
       "grid_template_rows": null,
       "height": null,
       "justify_content": null,
       "justify_items": null,
       "left": null,
       "margin": null,
       "max_height": null,
       "max_width": null,
       "min_height": null,
       "min_width": null,
       "object_fit": null,
       "object_position": null,
       "order": null,
       "overflow": null,
       "overflow_x": null,
       "overflow_y": null,
       "padding": null,
       "right": null,
       "top": null,
       "visibility": null,
       "width": null
      }
     },
     "82b522eef90f49df82c3afd3ab2a035a": {
      "model_module": "@jupyter-widgets/base",
      "model_module_version": "1.2.0",
      "model_name": "LayoutModel",
      "state": {
       "_model_module": "@jupyter-widgets/base",
       "_model_module_version": "1.2.0",
       "_model_name": "LayoutModel",
       "_view_count": null,
       "_view_module": "@jupyter-widgets/base",
       "_view_module_version": "1.2.0",
       "_view_name": "LayoutView",
       "align_content": null,
       "align_items": null,
       "align_self": null,
       "border": null,
       "bottom": null,
       "display": null,
       "flex": null,
       "flex_flow": null,
       "grid_area": null,
       "grid_auto_columns": null,
       "grid_auto_flow": null,
       "grid_auto_rows": null,
       "grid_column": null,
       "grid_gap": null,
       "grid_row": null,
       "grid_template_areas": null,
       "grid_template_columns": null,
       "grid_template_rows": null,
       "height": null,
       "justify_content": null,
       "justify_items": null,
       "left": null,
       "margin": null,
       "max_height": null,
       "max_width": null,
       "min_height": null,
       "min_width": null,
       "object_fit": null,
       "object_position": null,
       "order": null,
       "overflow": null,
       "overflow_x": null,
       "overflow_y": null,
       "padding": null,
       "right": null,
       "top": null,
       "visibility": null,
       "width": null
      }
     },
     "86fc96886af64007a166382887e9d289": {
      "model_module": "@jupyter-widgets/controls",
      "model_module_version": "1.5.0",
      "model_name": "HBoxModel",
      "state": {
       "_dom_classes": [],
       "_model_module": "@jupyter-widgets/controls",
       "_model_module_version": "1.5.0",
       "_model_name": "HBoxModel",
       "_view_count": null,
       "_view_module": "@jupyter-widgets/controls",
       "_view_module_version": "1.5.0",
       "_view_name": "HBoxView",
       "box_style": "",
       "children": [
        "IPY_MODEL_551585286ee141a1bfc0955096c73ffb",
        "IPY_MODEL_2ee44b7fd7df4e5f8006de8eb2c34da0",
        "IPY_MODEL_2b6825cd1e9b4c1f99fa99e0f32a9ae5"
       ],
       "layout": "IPY_MODEL_3e5e905715c845f684c329964f84dcc8"
      }
     },
     "8ad4b2347c234dabb55215f69e9faed0": {
      "model_module": "@jupyter-widgets/controls",
      "model_module_version": "1.5.0",
      "model_name": "FloatProgressModel",
      "state": {
       "_dom_classes": [],
       "_model_module": "@jupyter-widgets/controls",
       "_model_module_version": "1.5.0",
       "_model_name": "FloatProgressModel",
       "_view_count": null,
       "_view_module": "@jupyter-widgets/controls",
       "_view_module_version": "1.5.0",
       "_view_name": "ProgressView",
       "bar_style": "info",
       "description": "",
       "description_tooltip": null,
       "layout": "IPY_MODEL_8f499701b25b46fea872ce4d2b9d8029",
       "max": 1,
       "min": 0,
       "orientation": "horizontal",
       "style": "IPY_MODEL_fb0d891e4ae44ec68c39e07908bfe279",
       "value": 0
      }
     },
     "8b74b1f44d1c4d2a8065eac64ca40694": {
      "model_module": "@jupyter-widgets/base",
      "model_module_version": "1.2.0",
      "model_name": "LayoutModel",
      "state": {
       "_model_module": "@jupyter-widgets/base",
       "_model_module_version": "1.2.0",
       "_model_name": "LayoutModel",
       "_view_count": null,
       "_view_module": "@jupyter-widgets/base",
       "_view_module_version": "1.2.0",
       "_view_name": "LayoutView",
       "align_content": null,
       "align_items": null,
       "align_self": null,
       "border": null,
       "bottom": null,
       "display": null,
       "flex": null,
       "flex_flow": null,
       "grid_area": null,
       "grid_auto_columns": null,
       "grid_auto_flow": null,
       "grid_auto_rows": null,
       "grid_column": null,
       "grid_gap": null,
       "grid_row": null,
       "grid_template_areas": null,
       "grid_template_columns": null,
       "grid_template_rows": null,
       "height": null,
       "justify_content": null,
       "justify_items": null,
       "left": null,
       "margin": null,
       "max_height": null,
       "max_width": null,
       "min_height": null,
       "min_width": null,
       "object_fit": null,
       "object_position": null,
       "order": null,
       "overflow": null,
       "overflow_x": null,
       "overflow_y": null,
       "padding": null,
       "right": null,
       "top": null,
       "visibility": null,
       "width": null
      }
     },
     "8f499701b25b46fea872ce4d2b9d8029": {
      "model_module": "@jupyter-widgets/base",
      "model_module_version": "1.2.0",
      "model_name": "LayoutModel",
      "state": {
       "_model_module": "@jupyter-widgets/base",
       "_model_module_version": "1.2.0",
       "_model_name": "LayoutModel",
       "_view_count": null,
       "_view_module": "@jupyter-widgets/base",
       "_view_module_version": "1.2.0",
       "_view_name": "LayoutView",
       "align_content": null,
       "align_items": null,
       "align_self": null,
       "border": null,
       "bottom": null,
       "display": null,
       "flex": "2",
       "flex_flow": null,
       "grid_area": null,
       "grid_auto_columns": null,
       "grid_auto_flow": null,
       "grid_auto_rows": null,
       "grid_column": null,
       "grid_gap": null,
       "grid_row": null,
       "grid_template_areas": null,
       "grid_template_columns": null,
       "grid_template_rows": null,
       "height": null,
       "justify_content": null,
       "justify_items": null,
       "left": null,
       "margin": null,
       "max_height": null,
       "max_width": null,
       "min_height": null,
       "min_width": null,
       "object_fit": null,
       "object_position": null,
       "order": null,
       "overflow": null,
       "overflow_x": null,
       "overflow_y": null,
       "padding": null,
       "right": null,
       "top": null,
       "visibility": null,
       "width": null
      }
     },
     "92a74a4b6fad42b6baa772d14c0bfa5e": {
      "model_module": "@jupyter-widgets/controls",
      "model_module_version": "1.5.0",
      "model_name": "DescriptionStyleModel",
      "state": {
       "_model_module": "@jupyter-widgets/controls",
       "_model_module_version": "1.5.0",
       "_model_name": "DescriptionStyleModel",
       "_view_count": null,
       "_view_module": "@jupyter-widgets/base",
       "_view_module_version": "1.2.0",
       "_view_name": "StyleView",
       "description_width": ""
      }
     },
     "9c473939975b49db9e315deb49009cde": {
      "model_module": "@jupyter-widgets/controls",
      "model_module_version": "1.5.0",
      "model_name": "FloatProgressModel",
      "state": {
       "_dom_classes": [],
       "_model_module": "@jupyter-widgets/controls",
       "_model_module_version": "1.5.0",
       "_model_name": "FloatProgressModel",
       "_view_count": null,
       "_view_module": "@jupyter-widgets/controls",
       "_view_module_version": "1.5.0",
       "_view_name": "ProgressView",
       "bar_style": "info",
       "description": "",
       "description_tooltip": null,
       "layout": "IPY_MODEL_f5d9c262172746c4a0c926f1b849f51f",
       "max": 1,
       "min": 0,
       "orientation": "horizontal",
       "style": "IPY_MODEL_38502f155b4748918fb231991bbede5c",
       "value": 1
      }
     },
     "a14d40e6b8674278bc810fd0749b68c3": {
      "model_module": "@jupyter-widgets/controls",
      "model_module_version": "1.5.0",
      "model_name": "HTMLModel",
      "state": {
       "_dom_classes": [],
       "_model_module": "@jupyter-widgets/controls",
       "_model_module_version": "1.5.0",
       "_model_name": "HTMLModel",
       "_view_count": null,
       "_view_module": "@jupyter-widgets/controls",
       "_view_module_version": "1.5.0",
       "_view_name": "HTMLView",
       "description": "",
       "description_tooltip": null,
       "layout": "IPY_MODEL_f3f6964e2c3f495c827319cd73279fd1",
       "placeholder": "​",
       "style": "IPY_MODEL_1bd9799ba24847448b9bcbcd2ea76dce",
       "value": "Test: "
      }
     },
     "a1768377b612423385a457e22acb8435": {
      "model_module": "@jupyter-widgets/controls",
      "model_module_version": "1.5.0",
      "model_name": "ProgressStyleModel",
      "state": {
       "_model_module": "@jupyter-widgets/controls",
       "_model_module_version": "1.5.0",
       "_model_name": "ProgressStyleModel",
       "_view_count": null,
       "_view_module": "@jupyter-widgets/base",
       "_view_module_version": "1.2.0",
       "_view_name": "StyleView",
       "bar_color": null,
       "description_width": ""
      }
     },
     "a7d17c154d87487dbcf3f5d393273519": {
      "model_module": "@jupyter-widgets/controls",
      "model_module_version": "1.5.0",
      "model_name": "DescriptionStyleModel",
      "state": {
       "_model_module": "@jupyter-widgets/controls",
       "_model_module_version": "1.5.0",
       "_model_name": "DescriptionStyleModel",
       "_view_count": null,
       "_view_module": "@jupyter-widgets/base",
       "_view_module_version": "1.2.0",
       "_view_name": "StyleView",
       "description_width": ""
      }
     },
     "b0a0d774687f437ca7565bba0f37db59": {
      "model_module": "@jupyter-widgets/controls",
      "model_module_version": "1.5.0",
      "model_name": "FloatProgressModel",
      "state": {
       "_dom_classes": [],
       "_model_module": "@jupyter-widgets/controls",
       "_model_module_version": "1.5.0",
       "_model_name": "FloatProgressModel",
       "_view_count": null,
       "_view_module": "@jupyter-widgets/controls",
       "_view_module_version": "1.5.0",
       "_view_name": "ProgressView",
       "bar_style": "info",
       "description": "",
       "description_tooltip": null,
       "layout": "IPY_MODEL_4460751494814f40ab13792c2f975e78",
       "max": 1,
       "min": 0,
       "orientation": "horizontal",
       "style": "IPY_MODEL_fce580481e3b4ef68234a8de2b561ad6",
       "value": 1
      }
     },
     "b259d8c2ee2445a98a341efc67a0718f": {
      "model_module": "@jupyter-widgets/controls",
      "model_module_version": "1.5.0",
      "model_name": "HTMLModel",
      "state": {
       "_dom_classes": [],
       "_model_module": "@jupyter-widgets/controls",
       "_model_module_version": "1.5.0",
       "_model_name": "HTMLModel",
       "_view_count": null,
       "_view_module": "@jupyter-widgets/controls",
       "_view_module_version": "1.5.0",
       "_view_name": "HTMLView",
       "description": "",
       "description_tooltip": null,
       "layout": "IPY_MODEL_06d96f2d7a3646e19380de9dc488f757",
       "placeholder": "​",
       "style": "IPY_MODEL_1b44ad2d5e534725b45483e9d9e9da32",
       "value": "Test: "
      }
     },
     "b33509cecec44a929708af2cd2aa6059": {
      "model_module": "@jupyter-widgets/controls",
      "model_module_version": "1.5.0",
      "model_name": "ProgressStyleModel",
      "state": {
       "_model_module": "@jupyter-widgets/controls",
       "_model_module_version": "1.5.0",
       "_model_name": "ProgressStyleModel",
       "_view_count": null,
       "_view_module": "@jupyter-widgets/base",
       "_view_module_version": "1.2.0",
       "_view_name": "StyleView",
       "bar_color": null,
       "description_width": ""
      }
     },
     "b3cd3c6ae1e84055914fd91aaa92dba7": {
      "model_module": "@jupyter-widgets/controls",
      "model_module_version": "1.5.0",
      "model_name": "FloatProgressModel",
      "state": {
       "_dom_classes": [],
       "_model_module": "@jupyter-widgets/controls",
       "_model_module_version": "1.5.0",
       "_model_name": "FloatProgressModel",
       "_view_count": null,
       "_view_module": "@jupyter-widgets/controls",
       "_view_module_version": "1.5.0",
       "_view_name": "ProgressView",
       "bar_style": "",
       "description": "",
       "description_tooltip": null,
       "layout": "IPY_MODEL_da7eb372825047beb7c0daec0dc24cf2",
       "max": 938,
       "min": 0,
       "orientation": "horizontal",
       "style": "IPY_MODEL_b33509cecec44a929708af2cd2aa6059",
       "value": 938
      }
     },
     "b4c333dead884038ac22a77842c51dc5": {
      "model_module": "@jupyter-widgets/controls",
      "model_module_version": "1.5.0",
      "model_name": "HTMLModel",
      "state": {
       "_dom_classes": [],
       "_model_module": "@jupyter-widgets/controls",
       "_model_module_version": "1.5.0",
       "_model_name": "HTMLModel",
       "_view_count": null,
       "_view_module": "@jupyter-widgets/controls",
       "_view_module_version": "1.5.0",
       "_view_name": "HTMLView",
       "description": "",
       "description_tooltip": null,
       "layout": "IPY_MODEL_3f1440af48f04750826bf07757110841",
       "placeholder": "​",
       "style": "IPY_MODEL_f8d15ea3a55d4bfeb9e5d42ce6c7ed87",
       "value": " 938/938 [00:20&lt;00:00, 46.44it/s, loss=0.0274, v_num=, train_acc_step=1, train_f1_step=1, train_loss_step=0.02, train_acc_epoch=0.984, train_f1_epoch=0.984, train_loss_epoch=0.0515]"
      }
     },
     "b8d3108826d94cb9aead4917693ca534": {
      "model_module": "@jupyter-widgets/controls",
      "model_module_version": "1.5.0",
      "model_name": "HBoxModel",
      "state": {
       "_dom_classes": [],
       "_model_module": "@jupyter-widgets/controls",
       "_model_module_version": "1.5.0",
       "_model_name": "HBoxModel",
       "_view_count": null,
       "_view_module": "@jupyter-widgets/controls",
       "_view_module_version": "1.5.0",
       "_view_name": "HBoxView",
       "box_style": "",
       "children": [
        "IPY_MODEL_e4d7f110fa9543b5bcd3514cd333c851",
        "IPY_MODEL_ef07d64417524fb997a081c73d8e61d0",
        "IPY_MODEL_bd4320aabe024d59b832e6530e446f24"
       ],
       "layout": "IPY_MODEL_fd92bcceb82f4512bec6ddfd68033559"
      }
     },
     "bc8461439e3b43ef9e7b7ddd110141e5": {
      "model_module": "@jupyter-widgets/controls",
      "model_module_version": "1.5.0",
      "model_name": "DescriptionStyleModel",
      "state": {
       "_model_module": "@jupyter-widgets/controls",
       "_model_module_version": "1.5.0",
       "_model_name": "DescriptionStyleModel",
       "_view_count": null,
       "_view_module": "@jupyter-widgets/base",
       "_view_module_version": "1.2.0",
       "_view_name": "StyleView",
       "description_width": ""
      }
     },
     "bd4320aabe024d59b832e6530e446f24": {
      "model_module": "@jupyter-widgets/controls",
      "model_module_version": "1.5.0",
      "model_name": "HTMLModel",
      "state": {
       "_dom_classes": [],
       "_model_module": "@jupyter-widgets/controls",
       "_model_module_version": "1.5.0",
       "_model_name": "HTMLModel",
       "_view_count": null,
       "_view_module": "@jupyter-widgets/controls",
       "_view_module_version": "1.5.0",
       "_view_name": "HTMLView",
       "description": "",
       "description_tooltip": null,
       "layout": "IPY_MODEL_7fd74755fb164b53a5973778ca502038",
       "placeholder": "​",
       "style": "IPY_MODEL_d835ca6818474f69a741599a302b8804",
       "value": " 1/2 [00:00&lt;00:00,  1.06it/s]"
      }
     },
     "c846e4fe3aac47c49e2706053f128b22": {
      "model_module": "@jupyter-widgets/controls",
      "model_module_version": "1.5.0",
      "model_name": "HBoxModel",
      "state": {
       "_dom_classes": [],
       "_model_module": "@jupyter-widgets/controls",
       "_model_module_version": "1.5.0",
       "_model_name": "HBoxModel",
       "_view_count": null,
       "_view_module": "@jupyter-widgets/controls",
       "_view_module_version": "1.5.0",
       "_view_name": "HBoxView",
       "box_style": "",
       "children": [
        "IPY_MODEL_feddd127a20341e089f7e410a9f13d94",
        "IPY_MODEL_b3cd3c6ae1e84055914fd91aaa92dba7",
        "IPY_MODEL_b4c333dead884038ac22a77842c51dc5"
       ],
       "layout": "IPY_MODEL_6f63987a54d54b19b703f632745c565e"
      }
     },
     "cc08ae552add4ee2890bd2357a361eac": {
      "model_module": "@jupyter-widgets/base",
      "model_module_version": "1.2.0",
      "model_name": "LayoutModel",
      "state": {
       "_model_module": "@jupyter-widgets/base",
       "_model_module_version": "1.2.0",
       "_model_name": "LayoutModel",
       "_view_count": null,
       "_view_module": "@jupyter-widgets/base",
       "_view_module_version": "1.2.0",
       "_view_name": "LayoutView",
       "align_content": null,
       "align_items": null,
       "align_self": null,
       "border": null,
       "bottom": null,
       "display": null,
       "flex": null,
       "flex_flow": null,
       "grid_area": null,
       "grid_auto_columns": null,
       "grid_auto_flow": null,
       "grid_auto_rows": null,
       "grid_column": null,
       "grid_gap": null,
       "grid_row": null,
       "grid_template_areas": null,
       "grid_template_columns": null,
       "grid_template_rows": null,
       "height": null,
       "justify_content": null,
       "justify_items": null,
       "left": null,
       "margin": null,
       "max_height": null,
       "max_width": null,
       "min_height": null,
       "min_width": null,
       "object_fit": null,
       "object_position": null,
       "order": null,
       "overflow": null,
       "overflow_x": null,
       "overflow_y": null,
       "padding": null,
       "right": null,
       "top": null,
       "visibility": null,
       "width": null
      }
     },
     "d3adab6b66614e21a31cf1284a21be5d": {
      "model_module": "@jupyter-widgets/controls",
      "model_module_version": "1.5.0",
      "model_name": "HBoxModel",
      "state": {
       "_dom_classes": [],
       "_model_module": "@jupyter-widgets/controls",
       "_model_module_version": "1.5.0",
       "_model_name": "HBoxModel",
       "_view_count": null,
       "_view_module": "@jupyter-widgets/controls",
       "_view_module_version": "1.5.0",
       "_view_name": "HBoxView",
       "box_style": "",
       "children": [
        "IPY_MODEL_5f996652cb534faebd0345f96870f9b0",
        "IPY_MODEL_b0a0d774687f437ca7565bba0f37db59",
        "IPY_MODEL_3c5d0b5999c64008bc7be34206590ce4"
       ],
       "layout": "IPY_MODEL_67f4a0eaaea64e2dac52a7cb203b0bc2"
      }
     },
     "d835ca6818474f69a741599a302b8804": {
      "model_module": "@jupyter-widgets/controls",
      "model_module_version": "1.5.0",
      "model_name": "DescriptionStyleModel",
      "state": {
       "_model_module": "@jupyter-widgets/controls",
       "_model_module_version": "1.5.0",
       "_model_name": "DescriptionStyleModel",
       "_view_count": null,
       "_view_module": "@jupyter-widgets/base",
       "_view_module_version": "1.2.0",
       "_view_name": "StyleView",
       "description_width": ""
      }
     },
     "da7eb372825047beb7c0daec0dc24cf2": {
      "model_module": "@jupyter-widgets/base",
      "model_module_version": "1.2.0",
      "model_name": "LayoutModel",
      "state": {
       "_model_module": "@jupyter-widgets/base",
       "_model_module_version": "1.2.0",
       "_model_name": "LayoutModel",
       "_view_count": null,
       "_view_module": "@jupyter-widgets/base",
       "_view_module_version": "1.2.0",
       "_view_name": "LayoutView",
       "align_content": null,
       "align_items": null,
       "align_self": null,
       "border": null,
       "bottom": null,
       "display": null,
       "flex": "2",
       "flex_flow": null,
       "grid_area": null,
       "grid_auto_columns": null,
       "grid_auto_flow": null,
       "grid_auto_rows": null,
       "grid_column": null,
       "grid_gap": null,
       "grid_row": null,
       "grid_template_areas": null,
       "grid_template_columns": null,
       "grid_template_rows": null,
       "height": null,
       "justify_content": null,
       "justify_items": null,
       "left": null,
       "margin": null,
       "max_height": null,
       "max_width": null,
       "min_height": null,
       "min_width": null,
       "object_fit": null,
       "object_position": null,
       "order": null,
       "overflow": null,
       "overflow_x": null,
       "overflow_y": null,
       "padding": null,
       "right": null,
       "top": null,
       "visibility": null,
       "width": null
      }
     },
     "de9ff08c096142bebeb27992abccc113": {
      "model_module": "@jupyter-widgets/controls",
      "model_module_version": "1.5.0",
      "model_name": "HTMLModel",
      "state": {
       "_dom_classes": [],
       "_model_module": "@jupyter-widgets/controls",
       "_model_module_version": "1.5.0",
       "_model_name": "HTMLModel",
       "_view_count": null,
       "_view_module": "@jupyter-widgets/controls",
       "_view_module_version": "1.5.0",
       "_view_name": "HTMLView",
       "description": "",
       "description_tooltip": null,
       "layout": "IPY_MODEL_f0f1006f589f4545878bcc4e22c9f75c",
       "placeholder": "​",
       "style": "IPY_MODEL_7f9b88699b3a41ff8944700519f70121",
       "value": " 188/? [00:17&lt;00:00, 117.51it/s]"
      }
     },
     "dfc9356486da47d39175954309681039": {
      "model_module": "@jupyter-widgets/controls",
      "model_module_version": "1.5.0",
      "model_name": "DescriptionStyleModel",
      "state": {
       "_model_module": "@jupyter-widgets/controls",
       "_model_module_version": "1.5.0",
       "_model_name": "DescriptionStyleModel",
       "_view_count": null,
       "_view_module": "@jupyter-widgets/base",
       "_view_module_version": "1.2.0",
       "_view_name": "StyleView",
       "description_width": ""
      }
     },
     "e268f1a6dab04226bebd26e48b7120b9": {
      "model_module": "@jupyter-widgets/base",
      "model_module_version": "1.2.0",
      "model_name": "LayoutModel",
      "state": {
       "_model_module": "@jupyter-widgets/base",
       "_model_module_version": "1.2.0",
       "_model_name": "LayoutModel",
       "_view_count": null,
       "_view_module": "@jupyter-widgets/base",
       "_view_module_version": "1.2.0",
       "_view_name": "LayoutView",
       "align_content": null,
       "align_items": null,
       "align_self": null,
       "border": null,
       "bottom": null,
       "display": "inline-flex",
       "flex": null,
       "flex_flow": "row wrap",
       "grid_area": null,
       "grid_auto_columns": null,
       "grid_auto_flow": null,
       "grid_auto_rows": null,
       "grid_column": null,
       "grid_gap": null,
       "grid_row": null,
       "grid_template_areas": null,
       "grid_template_columns": null,
       "grid_template_rows": null,
       "height": null,
       "justify_content": null,
       "justify_items": null,
       "left": null,
       "margin": null,
       "max_height": null,
       "max_width": null,
       "min_height": null,
       "min_width": null,
       "object_fit": null,
       "object_position": null,
       "order": null,
       "overflow": null,
       "overflow_x": null,
       "overflow_y": null,
       "padding": null,
       "right": null,
       "top": null,
       "visibility": null,
       "width": "100%"
      }
     },
     "e4d7f110fa9543b5bcd3514cd333c851": {
      "model_module": "@jupyter-widgets/controls",
      "model_module_version": "1.5.0",
      "model_name": "HTMLModel",
      "state": {
       "_dom_classes": [],
       "_model_module": "@jupyter-widgets/controls",
       "_model_module_version": "1.5.0",
       "_model_name": "HTMLModel",
       "_view_count": null,
       "_view_module": "@jupyter-widgets/controls",
       "_view_module_version": "1.5.0",
       "_view_name": "HTMLView",
       "description": "",
       "description_tooltip": null,
       "layout": "IPY_MODEL_7cd87065c1cb4a9cb42517ec16663682",
       "placeholder": "​",
       "style": "IPY_MODEL_69526f0ee5734ff898ff7066a459ba39",
       "value": "Validation sanity check:  50%"
      }
     },
     "ed5f2f59cc60459da6c6f9540e6af2ca": {
      "model_module": "@jupyter-widgets/base",
      "model_module_version": "1.2.0",
      "model_name": "LayoutModel",
      "state": {
       "_model_module": "@jupyter-widgets/base",
       "_model_module_version": "1.2.0",
       "_model_name": "LayoutModel",
       "_view_count": null,
       "_view_module": "@jupyter-widgets/base",
       "_view_module_version": "1.2.0",
       "_view_name": "LayoutView",
       "align_content": null,
       "align_items": null,
       "align_self": null,
       "border": null,
       "bottom": null,
       "display": null,
       "flex": null,
       "flex_flow": null,
       "grid_area": null,
       "grid_auto_columns": null,
       "grid_auto_flow": null,
       "grid_auto_rows": null,
       "grid_column": null,
       "grid_gap": null,
       "grid_row": null,
       "grid_template_areas": null,
       "grid_template_columns": null,
       "grid_template_rows": null,
       "height": null,
       "justify_content": null,
       "justify_items": null,
       "left": null,
       "margin": null,
       "max_height": null,
       "max_width": null,
       "min_height": null,
       "min_width": null,
       "object_fit": null,
       "object_position": null,
       "order": null,
       "overflow": null,
       "overflow_x": null,
       "overflow_y": null,
       "padding": null,
       "right": null,
       "top": null,
       "visibility": null,
       "width": null
      }
     },
     "ed865916ec964756a4b85e088a2bc1bf": {
      "model_module": "@jupyter-widgets/controls",
      "model_module_version": "1.5.0",
      "model_name": "DescriptionStyleModel",
      "state": {
       "_model_module": "@jupyter-widgets/controls",
       "_model_module_version": "1.5.0",
       "_model_name": "DescriptionStyleModel",
       "_view_count": null,
       "_view_module": "@jupyter-widgets/base",
       "_view_module_version": "1.2.0",
       "_view_name": "StyleView",
       "description_width": ""
      }
     },
     "ef07d64417524fb997a081c73d8e61d0": {
      "model_module": "@jupyter-widgets/controls",
      "model_module_version": "1.5.0",
      "model_name": "FloatProgressModel",
      "state": {
       "_dom_classes": [],
       "_model_module": "@jupyter-widgets/controls",
       "_model_module_version": "1.5.0",
       "_model_name": "FloatProgressModel",
       "_view_count": null,
       "_view_module": "@jupyter-widgets/controls",
       "_view_module_version": "1.5.0",
       "_view_name": "ProgressView",
       "bar_style": "info",
       "description": "",
       "description_tooltip": null,
       "layout": "IPY_MODEL_62c2e1928837485b9a50eb39e1740164",
       "max": 1,
       "min": 0,
       "orientation": "horizontal",
       "style": "IPY_MODEL_7cdc0a92fb9948838a4d589dde31127d",
       "value": 1
      }
     },
     "f0f1006f589f4545878bcc4e22c9f75c": {
      "model_module": "@jupyter-widgets/base",
      "model_module_version": "1.2.0",
      "model_name": "LayoutModel",
      "state": {
       "_model_module": "@jupyter-widgets/base",
       "_model_module_version": "1.2.0",
       "_model_name": "LayoutModel",
       "_view_count": null,
       "_view_module": "@jupyter-widgets/base",
       "_view_module_version": "1.2.0",
       "_view_name": "LayoutView",
       "align_content": null,
       "align_items": null,
       "align_self": null,
       "border": null,
       "bottom": null,
       "display": null,
       "flex": null,
       "flex_flow": null,
       "grid_area": null,
       "grid_auto_columns": null,
       "grid_auto_flow": null,
       "grid_auto_rows": null,
       "grid_column": null,
       "grid_gap": null,
       "grid_row": null,
       "grid_template_areas": null,
       "grid_template_columns": null,
       "grid_template_rows": null,
       "height": null,
       "justify_content": null,
       "justify_items": null,
       "left": null,
       "margin": null,
       "max_height": null,
       "max_width": null,
       "min_height": null,
       "min_width": null,
       "object_fit": null,
       "object_position": null,
       "order": null,
       "overflow": null,
       "overflow_x": null,
       "overflow_y": null,
       "padding": null,
       "right": null,
       "top": null,
       "visibility": null,
       "width": null
      }
     },
     "f3f6964e2c3f495c827319cd73279fd1": {
      "model_module": "@jupyter-widgets/base",
      "model_module_version": "1.2.0",
      "model_name": "LayoutModel",
      "state": {
       "_model_module": "@jupyter-widgets/base",
       "_model_module_version": "1.2.0",
       "_model_name": "LayoutModel",
       "_view_count": null,
       "_view_module": "@jupyter-widgets/base",
       "_view_module_version": "1.2.0",
       "_view_name": "LayoutView",
       "align_content": null,
       "align_items": null,
       "align_self": null,
       "border": null,
       "bottom": null,
       "display": null,
       "flex": null,
       "flex_flow": null,
       "grid_area": null,
       "grid_auto_columns": null,
       "grid_auto_flow": null,
       "grid_auto_rows": null,
       "grid_column": null,
       "grid_gap": null,
       "grid_row": null,
       "grid_template_areas": null,
       "grid_template_columns": null,
       "grid_template_rows": null,
       "height": null,
       "justify_content": null,
       "justify_items": null,
       "left": null,
       "margin": null,
       "max_height": null,
       "max_width": null,
       "min_height": null,
       "min_width": null,
       "object_fit": null,
       "object_position": null,
       "order": null,
       "overflow": null,
       "overflow_x": null,
       "overflow_y": null,
       "padding": null,
       "right": null,
       "top": null,
       "visibility": null,
       "width": null
      }
     },
     "f5d9c262172746c4a0c926f1b849f51f": {
      "model_module": "@jupyter-widgets/base",
      "model_module_version": "1.2.0",
      "model_name": "LayoutModel",
      "state": {
       "_model_module": "@jupyter-widgets/base",
       "_model_module_version": "1.2.0",
       "_model_name": "LayoutModel",
       "_view_count": null,
       "_view_module": "@jupyter-widgets/base",
       "_view_module_version": "1.2.0",
       "_view_name": "LayoutView",
       "align_content": null,
       "align_items": null,
       "align_self": null,
       "border": null,
       "bottom": null,
       "display": null,
       "flex": "2",
       "flex_flow": null,
       "grid_area": null,
       "grid_auto_columns": null,
       "grid_auto_flow": null,
       "grid_auto_rows": null,
       "grid_column": null,
       "grid_gap": null,
       "grid_row": null,
       "grid_template_areas": null,
       "grid_template_columns": null,
       "grid_template_rows": null,
       "height": null,
       "justify_content": null,
       "justify_items": null,
       "left": null,
       "margin": null,
       "max_height": null,
       "max_width": null,
       "min_height": null,
       "min_width": null,
       "object_fit": null,
       "object_position": null,
       "order": null,
       "overflow": null,
       "overflow_x": null,
       "overflow_y": null,
       "padding": null,
       "right": null,
       "top": null,
       "visibility": null,
       "width": null
      }
     },
     "f72593643a0e43a3b9632bb1bea56acd": {
      "model_module": "@jupyter-widgets/base",
      "model_module_version": "1.2.0",
      "model_name": "LayoutModel",
      "state": {
       "_model_module": "@jupyter-widgets/base",
       "_model_module_version": "1.2.0",
       "_model_name": "LayoutModel",
       "_view_count": null,
       "_view_module": "@jupyter-widgets/base",
       "_view_module_version": "1.2.0",
       "_view_name": "LayoutView",
       "align_content": null,
       "align_items": null,
       "align_self": null,
       "border": null,
       "bottom": null,
       "display": "inline-flex",
       "flex": null,
       "flex_flow": "row wrap",
       "grid_area": null,
       "grid_auto_columns": null,
       "grid_auto_flow": null,
       "grid_auto_rows": null,
       "grid_column": null,
       "grid_gap": null,
       "grid_row": null,
       "grid_template_areas": null,
       "grid_template_columns": null,
       "grid_template_rows": null,
       "height": null,
       "justify_content": null,
       "justify_items": null,
       "left": null,
       "margin": null,
       "max_height": null,
       "max_width": null,
       "min_height": null,
       "min_width": null,
       "object_fit": null,
       "object_position": null,
       "order": null,
       "overflow": null,
       "overflow_x": null,
       "overflow_y": null,
       "padding": null,
       "right": null,
       "top": null,
       "visibility": null,
       "width": "100%"
      }
     },
     "f8d15ea3a55d4bfeb9e5d42ce6c7ed87": {
      "model_module": "@jupyter-widgets/controls",
      "model_module_version": "1.5.0",
      "model_name": "DescriptionStyleModel",
      "state": {
       "_model_module": "@jupyter-widgets/controls",
       "_model_module_version": "1.5.0",
       "_model_name": "DescriptionStyleModel",
       "_view_count": null,
       "_view_module": "@jupyter-widgets/base",
       "_view_module_version": "1.2.0",
       "_view_name": "StyleView",
       "description_width": ""
      }
     },
     "fb0d891e4ae44ec68c39e07908bfe279": {
      "model_module": "@jupyter-widgets/controls",
      "model_module_version": "1.5.0",
      "model_name": "ProgressStyleModel",
      "state": {
       "_model_module": "@jupyter-widgets/controls",
       "_model_module_version": "1.5.0",
       "_model_name": "ProgressStyleModel",
       "_view_count": null,
       "_view_module": "@jupyter-widgets/base",
       "_view_module_version": "1.2.0",
       "_view_name": "StyleView",
       "bar_color": null,
       "description_width": ""
      }
     },
     "fc8fa7a7990b4f74884df4843da02bbd": {
      "model_module": "@jupyter-widgets/base",
      "model_module_version": "1.2.0",
      "model_name": "LayoutModel",
      "state": {
       "_model_module": "@jupyter-widgets/base",
       "_model_module_version": "1.2.0",
       "_model_name": "LayoutModel",
       "_view_count": null,
       "_view_module": "@jupyter-widgets/base",
       "_view_module_version": "1.2.0",
       "_view_name": "LayoutView",
       "align_content": null,
       "align_items": null,
       "align_self": null,
       "border": null,
       "bottom": null,
       "display": null,
       "flex": null,
       "flex_flow": null,
       "grid_area": null,
       "grid_auto_columns": null,
       "grid_auto_flow": null,
       "grid_auto_rows": null,
       "grid_column": null,
       "grid_gap": null,
       "grid_row": null,
       "grid_template_areas": null,
       "grid_template_columns": null,
       "grid_template_rows": null,
       "height": null,
       "justify_content": null,
       "justify_items": null,
       "left": null,
       "margin": null,
       "max_height": null,
       "max_width": null,
       "min_height": null,
       "min_width": null,
       "object_fit": null,
       "object_position": null,
       "order": null,
       "overflow": null,
       "overflow_x": null,
       "overflow_y": null,
       "padding": null,
       "right": null,
       "top": null,
       "visibility": null,
       "width": null
      }
     },
     "fce580481e3b4ef68234a8de2b561ad6": {
      "model_module": "@jupyter-widgets/controls",
      "model_module_version": "1.5.0",
      "model_name": "ProgressStyleModel",
      "state": {
       "_model_module": "@jupyter-widgets/controls",
       "_model_module_version": "1.5.0",
       "_model_name": "ProgressStyleModel",
       "_view_count": null,
       "_view_module": "@jupyter-widgets/base",
       "_view_module_version": "1.2.0",
       "_view_name": "StyleView",
       "bar_color": null,
       "description_width": ""
      }
     },
     "fd92bcceb82f4512bec6ddfd68033559": {
      "model_module": "@jupyter-widgets/base",
      "model_module_version": "1.2.0",
      "model_name": "LayoutModel",
      "state": {
       "_model_module": "@jupyter-widgets/base",
       "_model_module_version": "1.2.0",
       "_model_name": "LayoutModel",
       "_view_count": null,
       "_view_module": "@jupyter-widgets/base",
       "_view_module_version": "1.2.0",
       "_view_name": "LayoutView",
       "align_content": null,
       "align_items": null,
       "align_self": null,
       "border": null,
       "bottom": null,
       "display": "inline-flex",
       "flex": null,
       "flex_flow": "row wrap",
       "grid_area": null,
       "grid_auto_columns": null,
       "grid_auto_flow": null,
       "grid_auto_rows": null,
       "grid_column": null,
       "grid_gap": null,
       "grid_row": null,
       "grid_template_areas": null,
       "grid_template_columns": null,
       "grid_template_rows": null,
       "height": null,
       "justify_content": null,
       "justify_items": null,
       "left": null,
       "margin": null,
       "max_height": null,
       "max_width": null,
       "min_height": null,
       "min_width": null,
       "object_fit": null,
       "object_position": null,
       "order": null,
       "overflow": null,
       "overflow_x": null,
       "overflow_y": null,
       "padding": null,
       "right": null,
       "top": null,
       "visibility": null,
       "width": "100%"
      }
     },
     "feddd127a20341e089f7e410a9f13d94": {
      "model_module": "@jupyter-widgets/controls",
      "model_module_version": "1.5.0",
      "model_name": "HTMLModel",
      "state": {
       "_dom_classes": [],
       "_model_module": "@jupyter-widgets/controls",
       "_model_module_version": "1.5.0",
       "_model_name": "HTMLModel",
       "_view_count": null,
       "_view_module": "@jupyter-widgets/controls",
       "_view_module_version": "1.5.0",
       "_view_name": "HTMLView",
       "description": "",
       "description_tooltip": null,
       "layout": "IPY_MODEL_fc8fa7a7990b4f74884df4843da02bbd",
       "placeholder": "​",
       "style": "IPY_MODEL_7cd9b9dd18d940ff95edc907085755e2",
       "value": "Epoch 5: 100%"
      }
     },
     "feeacd3912974977bd53134d5a359349": {
      "model_module": "@jupyter-widgets/controls",
      "model_module_version": "1.5.0",
      "model_name": "DescriptionStyleModel",
      "state": {
       "_model_module": "@jupyter-widgets/controls",
       "_model_module_version": "1.5.0",
       "_model_name": "DescriptionStyleModel",
       "_view_count": null,
       "_view_module": "@jupyter-widgets/base",
       "_view_module_version": "1.2.0",
       "_view_name": "StyleView",
       "description_width": ""
      }
     },
     "feff760f4f6441fd933fa3c25c535a24": {
      "model_module": "@jupyter-widgets/base",
      "model_module_version": "1.2.0",
      "model_name": "LayoutModel",
      "state": {
       "_model_module": "@jupyter-widgets/base",
       "_model_module_version": "1.2.0",
       "_model_name": "LayoutModel",
       "_view_count": null,
       "_view_module": "@jupyter-widgets/base",
       "_view_module_version": "1.2.0",
       "_view_name": "LayoutView",
       "align_content": null,
       "align_items": null,
       "align_self": null,
       "border": null,
       "bottom": null,
       "display": null,
       "flex": null,
       "flex_flow": null,
       "grid_area": null,
       "grid_auto_columns": null,
       "grid_auto_flow": null,
       "grid_auto_rows": null,
       "grid_column": null,
       "grid_gap": null,
       "grid_row": null,
       "grid_template_areas": null,
       "grid_template_columns": null,
       "grid_template_rows": null,
       "height": null,
       "justify_content": null,
       "justify_items": null,
       "left": null,
       "margin": null,
       "max_height": null,
       "max_width": null,
       "min_height": null,
       "min_width": null,
       "object_fit": null,
       "object_position": null,
       "order": null,
       "overflow": null,
       "overflow_x": null,
       "overflow_y": null,
       "padding": null,
       "right": null,
       "top": null,
       "visibility": null,
       "width": null
      }
     }
    },
    "version_major": 2,
    "version_minor": 0
   }
  }
 },
 "nbformat": 4,
 "nbformat_minor": 4
}
