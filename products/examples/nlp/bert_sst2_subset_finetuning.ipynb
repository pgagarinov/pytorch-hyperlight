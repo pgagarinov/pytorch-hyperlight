{
 "cells": [
  {
   "cell_type": "code",
   "execution_count": 1,
   "id": "described-belief",
   "metadata": {},
   "outputs": [],
   "source": [
    "import math\n",
    "import warnings\n",
    "\n",
    "import numpy as np\n",
    "import pandas as pd\n",
    "import pytorch_hyperlight as pth\n",
    "import pytorch_lightning as pl\n",
    "import torch\n",
    "import torch.nn as nn\n",
    "import transformers as ppb\n",
    "from pytorch_hyperlight.tasks.classification import (\n",
    "    AAutoClsHeadClassificationTaskWDAdamWWarmup,\n",
    ")\n",
    "from torch.utils.data import DataLoader, Dataset, Sampler, random_split\n",
    "\n",
    "import torch.nn.functional as F\n",
    "import random"
   ]
  },
  {
   "cell_type": "code",
   "execution_count": 2,
   "id": "reduced-comfort",
   "metadata": {},
   "outputs": [],
   "source": [
    "warnings.filterwarnings(\"ignore\")"
   ]
  },
  {
   "cell_type": "code",
   "execution_count": 3,
   "id": "worth-shape",
   "metadata": {
    "tags": [
     "parameteres"
    ]
   },
   "outputs": [],
   "source": [
    "EXPERIMENT_ID = 'bert_sst2_subset_finetuning'\n",
    "FAST_DEV_RUN = False\n",
    "SEED = 16"
   ]
  },
  {
   "cell_type": "code",
   "execution_count": 4,
   "id": "occupational-budapest",
   "metadata": {},
   "outputs": [],
   "source": [
    "class ReviewsSampler(Sampler):\n",
    "    def __init__(self, subset, batch_size):\n",
    "        self.batch_size = batch_size\n",
    "        self.subset = subset\n",
    "\n",
    "        self.indices = subset.indices\n",
    "        self.tokenized = np.array(subset.dataset.tokenized)[self.indices]\n",
    "\n",
    "    def __iter__(self):\n",
    "\n",
    "        batch_idx = []\n",
    "        # index in sorted data\n",
    "        for index in np.argsort(list(map(len, self.tokenized))):\n",
    "            batch_idx.append(index)\n",
    "            if len(batch_idx) == self.batch_size:\n",
    "                yield batch_idx\n",
    "                batch_idx = []\n",
    "\n",
    "        if len(batch_idx) > 0:\n",
    "            yield batch_idx\n",
    "\n",
    "    def __len__(self):\n",
    "        return math.ceil(len(self.subset) / self.batch_size)\n",
    "\n",
    "\n",
    "def get_padded(values):\n",
    "    max_len = 0\n",
    "    for value in values:\n",
    "        if len(value) > max_len:\n",
    "            max_len = len(value)\n",
    "\n",
    "    padded = np.array([value + [0] * (max_len - len(value)) for value in values])\n",
    "\n",
    "    return padded\n",
    "\n",
    "\n",
    "def collate_fn(batch):\n",
    "\n",
    "    inputs = []\n",
    "    labels = []\n",
    "    for elem in batch:\n",
    "        inputs.append(elem[\"tokenized\"])\n",
    "        labels.append(elem[\"label\"])\n",
    "\n",
    "    inputs = get_padded(inputs)  # padded inputs\n",
    "    attention_mask = np.where(inputs != 0, 1, 0)\n",
    "\n",
    "    return {\n",
    "        \"inputs\": torch.tensor(inputs),\n",
    "        \"labels\": torch.FloatTensor(labels),\n",
    "        \"attention_mask\": torch.tensor(attention_mask),\n",
    "    }\n",
    "\n",
    "\n",
    "class ReviewsDataset(Dataset):\n",
    "    def __init__(self, reviews, tokenizer, labels, df_indices):\n",
    "        self.labels = labels\n",
    "        self.df_indices = df_indices\n",
    "        # tokenized reviews\n",
    "        self.tokenized = [tokenizer.encode(x, add_special_tokens=True) for x in reviews]\n",
    "\n",
    "    def __getitem__(self, idx):\n",
    "        return {\n",
    "            \"tokenized\": self.tokenized[idx],\n",
    "            \"label\": self.labels[idx],\n",
    "            \"df_index\": self.df_indices[idx],\n",
    "        }\n",
    "\n",
    "    def __len__(self):\n",
    "        return len(self.labels)"
   ]
  },
  {
   "cell_type": "code",
   "execution_count": 5,
   "id": "resistant-ottawa",
   "metadata": {},
   "outputs": [],
   "source": [
    "def configure_dataloaders(batch_size, n_workers=4):\n",
    "    pl.seed_everything(SEED)\n",
    "    df = pd.read_csv(\n",
    "        \"https://github.com/clairett/pytorch-sentiment-classification/raw/master/data/SST2/train.tsv\",\n",
    "        delimiter=\"\\t\",\n",
    "        header=None,\n",
    "    )\n",
    "\n",
    "    tokenizer = ppb.DistilBertTokenizer.from_pretrained(\"distilbert-base-uncased\")\n",
    "\n",
    "    dataset = ReviewsDataset(\n",
    "        df[0].to_list(), tokenizer, df[1].to_list(), df.index.to_list()\n",
    "    )\n",
    "\n",
    "    train_size, val_size = int(0.8 * len(dataset)), int(0.1 * len(dataset))\n",
    "    train_dataset, val_dataset, test_dataset = random_split(\n",
    "        dataset, [train_size, val_size, len(dataset) - train_size - val_size]\n",
    "    )\n",
    "\n",
    "    train_loader = DataLoader(\n",
    "        train_dataset,\n",
    "        batch_sampler=ReviewsSampler(train_dataset, batch_size=batch_size),\n",
    "        collate_fn=collate_fn,\n",
    "        num_workers=n_workers,\n",
    "        pin_memory=True,\n",
    "    )\n",
    "    val_loader = DataLoader(\n",
    "        val_dataset,\n",
    "        batch_sampler=ReviewsSampler(val_dataset, batch_size=batch_size),\n",
    "        collate_fn=collate_fn,\n",
    "        num_workers=n_workers,\n",
    "        pin_memory=True,\n",
    "    )\n",
    "    test_loader = DataLoader(\n",
    "        test_dataset,\n",
    "        batch_sampler=ReviewsSampler(test_dataset, batch_size=batch_size),\n",
    "        collate_fn=collate_fn,\n",
    "        num_workers=n_workers,\n",
    "        pin_memory=True,\n",
    "    )\n",
    "    loaders_dict = {\n",
    "        \"df\": df,\n",
    "        \"train_dataset\": train_dataset,\n",
    "        \"val_dataset\": val_dataset,\n",
    "        \"test_dataset\": test_dataset,\n",
    "        \"train_loader\": train_loader,\n",
    "        \"val_loader\": val_loader,\n",
    "        \"test_loader\": test_loader,\n",
    "    }\n",
    "    return loaders_dict"
   ]
  },
  {
   "cell_type": "code",
   "execution_count": 6,
   "id": "based-library",
   "metadata": {},
   "outputs": [
    {
     "name": "stderr",
     "output_type": "stream",
     "text": [
      "Global seed set to 16\n"
     ]
    }
   ],
   "source": [
    "loaders_dict = configure_dataloaders(batch_size=3)\n",
    "loaders_dict\n",
    "batch = next(iter(loaders_dict[\"train_loader\"]))"
   ]
  },
  {
   "cell_type": "code",
   "execution_count": 7,
   "id": "brutal-ceiling",
   "metadata": {},
   "outputs": [
    {
     "data": {
      "text/plain": [
       "{'inputs': tensor([[  101, 27150,   102],\n",
       "         [  101,  6659,   102],\n",
       "         [  101, 19424,   102]]),\n",
       " 'labels': tensor([1., 0., 0.]),\n",
       " 'attention_mask': tensor([[1, 1, 1],\n",
       "         [1, 1, 1],\n",
       "         [1, 1, 1]])}"
      ]
     },
     "execution_count": 7,
     "metadata": {},
     "output_type": "execute_result"
    }
   ],
   "source": [
    "batch"
   ]
  },
  {
   "cell_type": "code",
   "execution_count": 8,
   "id": "permanent-grant",
   "metadata": {},
   "outputs": [],
   "source": [
    "test_dataset = loaders_dict[\"test_dataset\"]\n",
    "orig_df = loaders_dict[\"df\"]"
   ]
  },
  {
   "cell_type": "code",
   "execution_count": 9,
   "id": "corresponding-injection",
   "metadata": {},
   "outputs": [],
   "source": [
    "def get_label(prob):\n",
    "    if prob > 0.5:\n",
    "        label = \"positive\"\n",
    "    else:\n",
    "        label = \"negative\"\n",
    "    return label"
   ]
  },
  {
   "cell_type": "code",
   "execution_count": 10,
   "id": "latest-liberia",
   "metadata": {},
   "outputs": [],
   "source": [
    "def show_dataset(test_dataset, orig_df, n_samples, f_get_pred_prob=None):\n",
    "    for _ in range(n_samples):\n",
    "        ind = random.randrange(len(test_dataset))\n",
    "        input_data_dict = test_dataset[ind]\n",
    "\n",
    "        df_index = input_data_dict[\"df_index\"]\n",
    "        input_sentence = orig_df.iloc[df_index][0]\n",
    "        if f_get_pred_prob is not None:\n",
    "            pred_prob = f_get_pred_prob(input_data_dict)\n",
    "            pred_label = get_label(pred_prob)\n",
    "            prefix = f\"Pred. label: {pred_label}\\n\"\n",
    "        else:\n",
    "            prefix = \"\"\n",
    "\n",
    "        true_label = get_label(input_data_dict[\"label\"])\n",
    "        print(f\"{prefix}True label: {true_label}\\n\\t [{input_sentence}]\\n\")"
   ]
  },
  {
   "cell_type": "code",
   "execution_count": 11,
   "id": "eastern-dependence",
   "metadata": {},
   "outputs": [
    {
     "name": "stdout",
     "output_type": "stream",
     "text": [
      "True label: positive\n",
      "\t [fudges fact and fancy with such confidence that we feel as if we 're seeing something purer than the real thing]\n",
      "\n",
      "True label: positive\n",
      "\t [lrb d rrb espite its familiar subject matter , ice age is consistently amusing and engrossing]\n",
      "\n",
      "True label: negative\n",
      "\t [adam sandler 's heart may be in the right place , but he needs to pull his head out of his butt]\n",
      "\n",
      "True label: negative\n",
      "\t [what jackson has done is proven that no amount of imagination , no creature , no fantasy story and no incredibly outlandish scenery]\n",
      "\n",
      "True label: positive\n",
      "\t [it is scott 's convincing portrayal of roger the sad cad that really gives the film its oomph]\n",
      "\n"
     ]
    }
   ],
   "source": [
    "show_dataset(test_dataset, orig_df, 5)"
   ]
  },
  {
   "cell_type": "code",
   "execution_count": 12,
   "id": "fifty-innocent",
   "metadata": {},
   "outputs": [],
   "source": [
    "N_CLASSES = 1\n",
    "IS_CUDA = torch.cuda.is_available()\n",
    "GPU_PER_TRIAL = 0.3 * IS_CUDA"
   ]
  },
  {
   "cell_type": "code",
   "execution_count": 13,
   "id": "hazardous-classification",
   "metadata": {},
   "outputs": [],
   "source": [
    "CONFIG = {\n",
    "    \"classifier_lr\": 1e-3,  # Initial learning rate\n",
    "    \"rest_lr\": 3e-5,  # Initial learning rate\n",
    "    \"warmup\": 500,  # For LinearSchedulerWihtWarmup\n",
    "    \"gradient_clip_val\": 0,\n",
    "    \"max_epochs\": 6,  # the actual number can be less due to early stopping\n",
    "    \"batch_size\": 32,\n",
    "    \"n_classes\": N_CLASSES,\n",
    "    \"classifier_dropout\": 0.2,\n",
    "    \"weight_decay\": 0.01,\n",
    "    \"no_weight_decay_param_names\": [\"bias\", \"LayerNorm.weight\"],\n",
    "}\n",
    "\n",
    "TUNE_CONFIG = {\n",
    "    \"seed\": SEED,  # just remove this if you do not want determenistic behavior\n",
    "    \"metric_to_optimize\": \"val_f1_epoch\",  # Ray + PTL Trainer\n",
    "    \"ray_metrics_to_show\": [\n",
    "        \"val_loss_epoch\",\n",
    "        \"val_f1_epoch\",\n",
    "        \"val_acc_epoch\",\n",
    "    ],  # for Ray Tune\n",
    "    \"metric_opt_mode\": \"max\",  # Ray + PTL Trainer\n",
    "    \"cpu_per_trial\": 3,  # Ray + DataLoaders\n",
    "    \"gpu_per_trial\": GPU_PER_TRIAL,  # for Ray Tune\n",
    "    \"n_checkpoints_to_keep\": 1,  # for Ray Tune\n",
    "    \"grace_period\": 6,  # for both PTL Trainer and Ray Tune scheduler\n",
    "    \"epoch_upper_limit\": 45,  # for Ray Tune\n",
    "    \"n_samples\": 3,  # for Ray Tune\n",
    "    \"ptl_early_stopping_patience\": 7,  # for PTL Trainer\n",
    "    \"ptl_precision\": 32,  # or 16, for PTL Trainer\n",
    "    \"train_loader_name\": \"train_loader\",\n",
    "    \"val_loader_name\": \"val_loader\",\n",
    "    \"test_loader_name\": \"test_loader\",\n",
    "    \"batch_size_main\": CONFIG[\n",
    "        \"batch_size\"\n",
    "    ],  # batch size for revalidation and test phases\n",
    "    #    that run in the main process after all Ray Tune child processes are finished\n",
    "    \"gpus\": -1 * IS_CUDA,  # -1 - use GPU if available, 0 - use CPU, 1 - use single GPU,\n",
    "    # >=2 - use multiple GPUs\n",
    "}\n",
    "\n",
    "if FAST_DEV_RUN:\n",
    "    CONFIG[\"max_epochs\"] = 2\n",
    "    TUNE_CONFIG[\"n_samples\"] = 2"
   ]
  },
  {
   "cell_type": "code",
   "execution_count": 14,
   "id": "dressed-chancellor",
   "metadata": {},
   "outputs": [],
   "source": [
    "class BertClassifier(AAutoClsHeadClassificationTaskWDAdamWWarmup):\n",
    "    def __init__(self, hparams):\n",
    "        model = ppb.DistilBertForSequenceClassification.from_pretrained(\n",
    "            \"distilbert-base-uncased\"\n",
    "        )\n",
    "        criterion = nn.BCEWithLogitsLoss()\n",
    "        super().__init__(hparams, model, criterion)\n",
    "\n",
    "    def _forward_batch(self, batch):\n",
    "        inputs = batch[\"inputs\"]\n",
    "        attention_mask = batch[\"attention_mask\"]\n",
    "        return self(inputs, attention_mask=attention_mask)[\"logits\"].squeeze(1)\n",
    "\n",
    "    @staticmethod\n",
    "    def _get_target_from_batch(batch):\n",
    "        return batch[\"labels\"]\n",
    "\n",
    "    def _get_classifier_module_name(self):\n",
    "        return \"classifier\""
   ]
  },
  {
   "cell_type": "code",
   "execution_count": 15,
   "id": "centered-executive",
   "metadata": {},
   "outputs": [],
   "source": [
    "runner = pth.Runner(\n",
    "    configure_dataloaders,\n",
    "    is_debug=FAST_DEV_RUN,\n",
    "    experiment_id=EXPERIMENT_ID,\n",
    "    log2wandb=False,\n",
    ")"
   ]
  },
  {
   "cell_type": "code",
   "execution_count": 16,
   "id": "wrong-warehouse",
   "metadata": {},
   "outputs": [
    {
     "name": "stderr",
     "output_type": "stream",
     "text": [
      "GPU available: True, used: True\n",
      "TPU available: None, using: 0 TPU cores\n",
      "LOCAL_RANK: 0 - CUDA_VISIBLE_DEVICES: [0]\n",
      "Global seed set to 16\n",
      "Global seed set to 16\n",
      "Some weights of the model checkpoint at distilbert-base-uncased were not used when initializing DistilBertForSequenceClassification: ['vocab_transform.weight', 'vocab_transform.bias', 'vocab_layer_norm.weight', 'vocab_layer_norm.bias', 'vocab_projector.weight', 'vocab_projector.bias']\n",
      "- This IS expected if you are initializing DistilBertForSequenceClassification from the checkpoint of a model trained on another task or with another architecture (e.g. initializing a BertForSequenceClassification model from a BertForPreTraining model).\n",
      "- This IS NOT expected if you are initializing DistilBertForSequenceClassification from the checkpoint of a model that you expect to be exactly identical (initializing a BertForSequenceClassification model from a BertForSequenceClassification model).\n",
      "Some weights of DistilBertForSequenceClassification were not initialized from the model checkpoint at distilbert-base-uncased and are newly initialized: ['pre_classifier.weight', 'pre_classifier.bias', 'classifier.weight', 'classifier.bias']\n",
      "You should probably TRAIN this model on a down-stream task to be able to use it for predictions and inference.\n",
      "Global seed set to 16\n",
      "\n",
      "  | Name              | Type                                | Params\n",
      "--------------------------------------------------------------------------\n",
      "0 | model             | DistilBertForSequenceClassification | 67.5 M\n",
      "1 | criterion         | BCEWithLogitsLoss                   | 0     \n",
      "2 | train_metric_calc | LitMetricsCalc                      | 0     \n",
      "3 | val_metric_calc   | LitMetricsCalc                      | 0     \n",
      "4 | test_metric_calc  | LitMetricsCalc                      | 0     \n",
      "--------------------------------------------------------------------------\n",
      "67.5 M    Trainable params\n",
      "0         Non-trainable params\n",
      "67.5 M    Total params\n"
     ]
    },
    {
     "data": {
      "application/vnd.jupyter.widget-view+json": {
       "model_id": "",
       "version_major": 2,
       "version_minor": 0
      },
      "text/plain": [
       "Validation sanity check: |          | 0/? [00:00<?, ?it/s]"
      ]
     },
     "metadata": {},
     "output_type": "display_data"
    },
    {
     "data": {
      "application/vnd.jupyter.widget-view+json": {
       "model_id": "e8fff831565f422a85da87dae1234a0c",
       "version_major": 2,
       "version_minor": 0
      },
      "text/plain": [
       "Training: |          | 0/? [00:00<?, ?it/s]"
      ]
     },
     "metadata": {},
     "output_type": "display_data"
    },
    {
     "data": {
      "application/vnd.jupyter.widget-view+json": {
       "model_id": "2f9f627567994128be02b3fa1e5e731a",
       "version_major": 2,
       "version_minor": 0
      },
      "text/plain": [
       "Validating: |          | 0/? [00:00<?, ?it/s]"
      ]
     },
     "metadata": {},
     "output_type": "display_data"
    },
    {
     "data": {
      "image/png": "[encoded data removed]",
      "text/plain": [
       "<Figure size 1440x864 with 3 Axes>"
      ]
     },
     "metadata": {},
     "output_type": "display_data"
    },
    {
     "name": "stderr",
     "output_type": "stream",
     "text": [
      "Some weights of the model checkpoint at distilbert-base-uncased were not used when initializing DistilBertForSequenceClassification: ['vocab_transform.weight', 'vocab_transform.bias', 'vocab_layer_norm.weight', 'vocab_layer_norm.bias', 'vocab_projector.weight', 'vocab_projector.bias']\n",
      "- This IS expected if you are initializing DistilBertForSequenceClassification from the checkpoint of a model trained on another task or with another architecture (e.g. initializing a BertForSequenceClassification model from a BertForPreTraining model).\n",
      "- This IS NOT expected if you are initializing DistilBertForSequenceClassification from the checkpoint of a model that you expect to be exactly identical (initializing a BertForSequenceClassification model from a BertForSequenceClassification model).\n",
      "Some weights of DistilBertForSequenceClassification were not initialized from the model checkpoint at distilbert-base-uncased and are newly initialized: ['pre_classifier.weight', 'pre_classifier.bias', 'classifier.weight', 'classifier.bias']\n",
      "You should probably TRAIN this model on a down-stream task to be able to use it for predictions and inference.\n",
      "Global seed set to 16\n"
     ]
    },
    {
     "data": {
      "application/vnd.jupyter.widget-view+json": {
       "model_id": "63f8bf9207bf4ae484dedeb3af8075c7",
       "version_major": 2,
       "version_minor": 0
      },
      "text/plain": [
       "Testing: |          | 0/? [00:00<?, ?it/s]"
      ]
     },
     "metadata": {},
     "output_type": "display_data"
    },
    {
     "name": "stderr",
     "output_type": "stream",
     "text": [
      "Global seed set to 16\n"
     ]
    }
   ],
   "source": [
    "best_result = runner.run_single_trial(BertClassifier, CONFIG, TUNE_CONFIG)"
   ]
  },
  {
   "cell_type": "code",
   "execution_count": 17,
   "id": "settled-timing",
   "metadata": {},
   "outputs": [
    {
     "data": {
      "text/html": [
       "<div>\n",
       "<style scoped>\n",
       "    .dataframe tbody tr th:only-of-type {\n",
       "        vertical-align: middle;\n",
       "    }\n",
       "\n",
       "    .dataframe tbody tr th {\n",
       "        vertical-align: top;\n",
       "    }\n",
       "\n",
       "    .dataframe thead th {\n",
       "        text-align: right;\n",
       "    }\n",
       "</style>\n",
       "<table border=\"1\" class=\"dataframe\">\n",
       "  <thead>\n",
       "    <tr style=\"text-align: right;\">\n",
       "      <th></th>\n",
       "      <th>val_f1</th>\n",
       "      <th>train_f1</th>\n",
       "      <th>val_acc</th>\n",
       "      <th>train_acc</th>\n",
       "      <th>val_loss</th>\n",
       "      <th>train_loss</th>\n",
       "      <th>reval_f1</th>\n",
       "      <th>reval_acc</th>\n",
       "      <th>reval_loss</th>\n",
       "      <th>test_f1</th>\n",
       "      <th>test_acc</th>\n",
       "      <th>test_loss</th>\n",
       "      <th>run</th>\n",
       "    </tr>\n",
       "  </thead>\n",
       "  <tbody>\n",
       "    <tr>\n",
       "      <th>7</th>\n",
       "      <td>0.8962</td>\n",
       "      <td>0.9953</td>\n",
       "      <td>0.8945</td>\n",
       "      <td>0.9951</td>\n",
       "      <td>0.5028</td>\n",
       "      <td>0.0163</td>\n",
       "      <td>0.8962</td>\n",
       "      <td>0.8945</td>\n",
       "      <td>0.5028</td>\n",
       "      <td>0.9026</td>\n",
       "      <td>0.8902</td>\n",
       "      <td>0.463</td>\n",
       "      <td>single-trial-BertClassifier</td>\n",
       "    </tr>\n",
       "  </tbody>\n",
       "</table>\n",
       "</div>"
      ],
      "text/plain": [
       "   val_f1 train_f1 val_acc train_acc val_loss train_loss reval_f1 reval_acc  \\\n",
       "7  0.8962   0.9953  0.8945    0.9951   0.5028     0.0163   0.8962    0.8945   \n",
       "\n",
       "  reval_loss test_f1 test_acc test_loss                          run  \n",
       "7     0.5028  0.9026   0.8902     0.463  single-trial-BertClassifier  "
      ]
     },
     "execution_count": 17,
     "metadata": {},
     "output_type": "execute_result"
    }
   ],
   "source": [
    "runner.get_metrics()[\"run_x_last_metric_df\"]"
   ]
  },
  {
   "cell_type": "code",
   "execution_count": 18,
   "id": "graduate-magnet",
   "metadata": {},
   "outputs": [],
   "source": [
    "lmodule = best_result[\"lmodule_best\"].eval()"
   ]
  },
  {
   "cell_type": "code",
   "execution_count": 19,
   "id": "lasting-arrival",
   "metadata": {},
   "outputs": [],
   "source": [
    "def get_pred_prob(input_data_dict):\n",
    "    input_tensor = torch.tensor(\n",
    "        input_data_dict[\"tokenized\"], device=lmodule.device\n",
    "    ).unsqueeze(0)\n",
    "    with torch.no_grad():\n",
    "        pred_prob = F.sigmoid(lmodule(input_tensor)[\"logits\"]).item()\n",
    "    return pred_prob"
   ]
  },
  {
   "cell_type": "code",
   "execution_count": 20,
   "id": "sunset-length",
   "metadata": {},
   "outputs": [
    {
     "name": "stdout",
     "output_type": "stream",
     "text": [
      "Pred. label: positive\n",
      "True label: positive\n",
      "\t [fudges fact and fancy with such confidence that we feel as if we 're seeing something purer than the real thing]\n",
      "\n",
      "Pred. label: positive\n",
      "True label: positive\n",
      "\t [lrb d rrb espite its familiar subject matter , ice age is consistently amusing and engrossing]\n",
      "\n",
      "Pred. label: negative\n",
      "True label: negative\n",
      "\t [adam sandler 's heart may be in the right place , but he needs to pull his head out of his butt]\n",
      "\n",
      "Pred. label: negative\n",
      "True label: negative\n",
      "\t [what jackson has done is proven that no amount of imagination , no creature , no fantasy story and no incredibly outlandish scenery]\n",
      "\n",
      "Pred. label: positive\n",
      "True label: positive\n",
      "\t [it is scott 's convincing portrayal of roger the sad cad that really gives the film its oomph]\n",
      "\n",
      "Pred. label: positive\n",
      "True label: negative\n",
      "\t [more successful at relating history than in creating an emotionally complex , dramatically satisfying heroine]\n",
      "\n",
      "Pred. label: positive\n",
      "True label: positive\n",
      "\t [a treat for its depiction on not giving up on dreams when you 're a struggling nobody]\n",
      "\n",
      "Pred. label: negative\n",
      "True label: negative\n",
      "\t [a loud , witless mess that has none of the charm and little of the intrigue from the tv series]\n",
      "\n",
      "Pred. label: positive\n",
      "True label: positive\n",
      "\t [turturro is fabulously funny and over the top as a ` very sneaky ' butler who excels in the art of impossible disappearing reappearing acts]\n",
      "\n",
      "Pred. label: positive\n",
      "True label: positive\n",
      "\t [the stunt work is top notch the dialogue and drama often food spittingly funny]\n",
      "\n"
     ]
    }
   ],
   "source": [
    "show_dataset(test_dataset, orig_df, 10, get_pred_prob)"
   ]
  }
 ],
 "metadata": {
  "kernelspec": {
   "display_name": "Python 3",
   "language": "python",
   "name": "python3"
  },
  "language_info": {
   "codemirror_mode": {
    "name": "ipython",
    "version": 3
   },
   "file_extension": ".py",
   "mimetype": "text/x-python",
   "name": "python",
   "nbconvert_exporter": "python",
   "pygments_lexer": "ipython3",
   "version": "3.8.5"
  }
 },
 "nbformat": 4,
 "nbformat_minor": 5
}
