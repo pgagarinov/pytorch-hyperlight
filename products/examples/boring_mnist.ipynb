{
 "cells": [
  {
   "cell_type": "markdown",
   "metadata": {},
   "source": [
    "# MNIST classification using using LeNet"
   ]
  },
  {
   "cell_type": "code",
   "execution_count": 1,
   "metadata": {},
   "outputs": [
    {
     "name": "stderr",
     "output_type": "stream",
     "text": [
      "/home/peter/.conda/envs/pth0/lib/python3.8/site-packages/torch/cuda/__init__.py:52: UserWarning: CUDA initialization: Found no NVIDIA driver on your system. Please check that you have an NVIDIA GPU and installed a driver from http://www.nvidia.com/Download/index.aspx (Triggered internally at  /opt/conda/conda-bld/pytorch_1607370172916/work/c10/cuda/CUDAFunctions.cpp:100.)\n",
      "  return torch._C._cuda_getDeviceCount() > 0\n"
     ]
    }
   ],
   "source": [
    "import warnings\n",
    "from pathlib import Path\n",
    "\n",
    "import matplotlib.patches as patches\n",
    "import numpy as np\n",
    "import pytorch_hyperlight as pth\n",
    "import pytorch_lightning as pl\n",
    "import pytorch_lightning.metrics as metrics\n",
    "import torch\n",
    "import torch.nn.functional as F\n",
    "from matplotlib import pyplot as plt\n",
    "from matplotlib.font_manager import FontProperties\n",
    "from pytorch_lightning import Callback\n",
    "from IPython.display import display\n",
    "from ray import tune\n",
    "from torch import nn\n",
    "from torch.utils.data import DataLoader, random_split\n",
    "from torchvision import transforms\n",
    "from torchvision.datasets.mnist import MNIST\n",
    "from transformers import AdamW, get_linear_schedule_with_warmup"
   ]
  },
  {
   "cell_type": "code",
   "execution_count": 2,
   "metadata": {
    "tags": [
     "parameters"
    ]
   },
   "outputs": [],
   "source": [
    "USAGE_MODE_LIST = [\"single-run\", \"hyper-opt\"]  # choose from 'single-run' and 'hyper-opt'\n",
    "# USAGE_MODE_LIST = [\"hyper-opt\"]\n",
    "# USAGE_MODE_LIST = [\"single-run\"]\n",
    "FAST_DEV_RUN = False  # if true, simplifed configurations running for just a few epochs are used for making sure there are no obvious bugs"
   ]
  },
  {
   "cell_type": "code",
   "execution_count": 3,
   "metadata": {},
   "outputs": [],
   "source": [
    "EXPERIMENT_ID = \"boring-mnist\"\n",
    "\n",
    "DATASETS_PATH = Path.cwd()\n",
    "\n",
    "warnings.filterwarnings(\"ignore\")\n",
    "\n",
    "\n",
    "# a dedicated function for creating datasets\n",
    "# please note how 'full_train_dataset' is created along with train,\n",
    "# val and test datasets\n",
    "def create_datasets(val_size=0.2):\n",
    "    SEED = 16\n",
    "    pl.seed_everything(SEED)\n",
    "    #\n",
    "    full_train_dataset = MNIST(\n",
    "        DATASETS_PATH, train=True, download=True, transform=transforms.ToTensor()\n",
    "    )\n",
    "    test_dataset = MNIST(\n",
    "        DATASETS_PATH, train=False, download=True, transform=transforms.ToTensor()\n",
    "    )\n",
    "    n_full_train_samples = len(full_train_dataset)\n",
    "    n_val_samples = int(n_full_train_samples * val_size)\n",
    "    train_dataset, val_dataset = random_split(\n",
    "        full_train_dataset, [n_full_train_samples - n_val_samples, n_val_samples]\n",
    "    )\n",
    "\n",
    "    n_classes = len(MNIST.classes)\n",
    "\n",
    "    return {\n",
    "        \"full_train_dataset\": full_train_dataset,\n",
    "        \"train_dataset\": train_dataset,\n",
    "        \"val_dataset\": val_dataset,\n",
    "        \"test_dataset\": test_dataset,\n",
    "        \"n_classes\": n_classes,\n",
    "    }"
   ]
  },
  {
   "cell_type": "code",
   "execution_count": 4,
   "metadata": {
    "id": "uJ6-Ce3Fuhno"
   },
   "outputs": [],
   "source": [
    "def imshow(inp, title=None, plt_ax=plt, default=False):\n",
    "    \"\"\"Imshow for tensors\"\"\"\n",
    "    inp = inp.numpy().transpose((1, 2, 0))\n",
    "    mean = np.array([0.485, 0.456, 0.406])\n",
    "    std = np.array([0.229, 0.224, 0.225])\n",
    "    inp = std * inp + mean\n",
    "    inp = np.clip(inp, 0, 1)\n",
    "    plt_ax.imshow(inp)\n",
    "    if title is not None:\n",
    "        plt_ax.set_title(title)\n",
    "    plt_ax.grid(False)"
   ]
  },
  {
   "cell_type": "code",
   "execution_count": 5,
   "metadata": {
    "collapsed": false,
    "jupyter": {
     "outputs_hidden": false
    },
    "pycharm": {
     "name": "#%%\n"
    }
   },
   "outputs": [],
   "source": [
    "# a dedicated function for creating dataloaders\n",
    "# 'full_train_loader' is created along with standard 3 loaderers\n",
    "# for training, validation and testing datasets\n",
    "def configure_dataloaders(batch_size, n_workers=4, val_size=0.2):\n",
    "    #\n",
    "    SHUFFLE = True\n",
    "    SAMPLER = None\n",
    "    #\n",
    "    result_dict = create_datasets(val_size)\n",
    "    #\n",
    "    for prefix in [\"train\", \"full_train\"]:\n",
    "\n",
    "        result_dict[f\"{prefix}_loader\"] = DataLoader(\n",
    "            result_dict[f\"{prefix}_dataset\"],\n",
    "            batch_size=batch_size,\n",
    "            shuffle=SHUFFLE,\n",
    "            sampler=SAMPLER,\n",
    "            num_workers=n_workers,\n",
    "            pin_memory=True,\n",
    "        )\n",
    "    #\n",
    "    for prefix in [\"val\", \"test\"]:\n",
    "        result_dict[f\"{prefix}_loader\"] = DataLoader(\n",
    "            result_dict[f\"{prefix}_dataset\"],\n",
    "            batch_size=batch_size,\n",
    "            shuffle=False,\n",
    "            num_workers=n_workers,\n",
    "            pin_memory=True,\n",
    "        )\n",
    "\n",
    "    return result_dict"
   ]
  },
  {
   "cell_type": "markdown",
   "metadata": {},
   "source": [
    "Let us make sure our dataloaders can be created correctly"
   ]
  },
  {
   "cell_type": "code",
   "execution_count": 6,
   "metadata": {},
   "outputs": [],
   "source": [
    "BATCH_SIZE = 32\n",
    "\n",
    "loaders_dict = configure_dataloaders(BATCH_SIZE)\n",
    "\n",
    "loaders_dict\n",
    "\n",
    "batch = next(iter(loaders_dict[\"train_loader\"]))\n",
    "assert len(batch[0]) > 0"
   ]
  },
  {
   "cell_type": "code",
   "execution_count": 7,
   "metadata": {},
   "outputs": [
    {
     "data": {
      "text/plain": [
       "60000"
      ]
     },
     "execution_count": 7,
     "metadata": {},
     "output_type": "execute_result"
    }
   ],
   "source": [
    "result_dict = create_datasets(0.2)\n",
    "len(result_dict[\"full_train_dataset\"])"
   ]
  },
  {
   "cell_type": "code",
   "execution_count": 8,
   "metadata": {},
   "outputs": [
    {
     "data": {
      "text/plain": [
       "10"
      ]
     },
     "execution_count": 8,
     "metadata": {},
     "output_type": "execute_result"
    }
   ],
   "source": [
    "loaders_dict[\"n_classes\"]"
   ]
  },
  {
   "cell_type": "markdown",
   "metadata": {},
   "source": [
    "### Defining the model"
   ]
  },
  {
   "cell_type": "markdown",
   "metadata": {},
   "source": [
    "Let define a dedicated class for metrics calculation"
   ]
  },
  {
   "cell_type": "code",
   "execution_count": 9,
   "metadata": {},
   "outputs": [],
   "source": [
    "class LitMetricsCalc(torch.nn.Module):\n",
    "    def __init__(self, prefix, num_classes):\n",
    "        super(LitMetricsCalc, self).__init__()\n",
    "        self.acc = metrics.classification.Accuracy()\n",
    "        self.f1 = metrics.classification.F1(num_classes=num_classes, average=\"macro\")\n",
    "        self.prefix = prefix\n",
    "\n",
    "    def step(self, logit, target):\n",
    "        probs = torch.softmax(logit, dim=1)\n",
    "        prefix = self.prefix\n",
    "        self.acc(probs, target)\n",
    "        self.f1(probs, target)\n",
    "\n",
    "        return {\n",
    "            f\"{prefix}_acc\": self.acc,\n",
    "            f\"{prefix}_f1\": self.f1,\n",
    "        }"
   ]
  },
  {
   "cell_type": "code",
   "execution_count": 10,
   "metadata": {
    "collapsed": false,
    "jupyter": {
     "outputs_hidden": false
    },
    "pycharm": {
     "name": "#%%\n"
    }
   },
   "outputs": [],
   "source": [
    "class LeNetBoringMNIST(nn.Module):\n",
    "    def __init__(self, n_classes):\n",
    "        super().__init__()\n",
    "        self.conv1 = nn.Conv2d(1, 6, 3)\n",
    "        self.conv2 = nn.Conv2d(6, 16, 3)\n",
    "        self.fc1 = nn.Linear(16 * 5 * 5, 120)\n",
    "        self.fc2 = nn.Linear(120, 84)\n",
    "        self.fc3 = nn.Linear(84, n_classes)\n",
    "\n",
    "    def forward(self, x):\n",
    "        x = F.max_pool2d(F.relu(self.conv1(x)), (2, 2))\n",
    "        x = F.max_pool2d(F.relu(self.conv2(x)), 2)\n",
    "        x = x.view(-1, int(x.nelement() / x.shape[0]))\n",
    "        x = F.relu(self.fc1(x))\n",
    "        x = F.relu(self.fc2(x))\n",
    "        x = self.fc3(x)\n",
    "        return x"
   ]
  },
  {
   "cell_type": "code",
   "execution_count": 11,
   "metadata": {},
   "outputs": [],
   "source": [
    "class LitBoringMNIST(pl.LightningModule):\n",
    "    def __init__(self, hparams):\n",
    "        super().__init__()\n",
    "        self.hparams = hparams\n",
    "        #\n",
    "        n_classes = self.hparams.n_classes\n",
    "        #\n",
    "        model = LeNetBoringMNIST(n_classes)\n",
    "        #\n",
    "        self.model = model\n",
    "        self.train_metric_calc = LitMetricsCalc(\"train\", num_classes=n_classes)\n",
    "        self.val_metric_calc = LitMetricsCalc(\"val\", num_classes=n_classes)\n",
    "        self.test_metric_calc = LitMetricsCalc(\"test\", num_classes=n_classes)\n",
    "        self.freeze()\n",
    "\n",
    "    def freeze(self):\n",
    "        for param in self.model.parameters():\n",
    "            param.requires_grad = False\n",
    "\n",
    "    def unfreeze(self):\n",
    "        for param in self.model.parameters():\n",
    "            param.requires_grad = True\n",
    "\n",
    "    def unfreeze_tail(self, ind_layer):\n",
    "        assert ind_layer >= 0\n",
    "        ind = ind_layer\n",
    "        while True:\n",
    "            if ind == 0:\n",
    "                for param in self.model.fc3.parameters():\n",
    "                    param.requires_grad = True\n",
    "            elif ind == 1:\n",
    "                for param in self.model.fc2.parameters():\n",
    "                    param.requires_grad = True\n",
    "            elif ind == 2:\n",
    "                for param in self.model.fc1.parameters():\n",
    "                    param.requires_grad = True\n",
    "            ind -= 1\n",
    "            if ind < 0:\n",
    "                break\n",
    "\n",
    "    def configure_optimizers(self):\n",
    "        optimizer = AdamW(\n",
    "            self.model.parameters(),\n",
    "            lr=self.hparams.lr,\n",
    "        )\n",
    "\n",
    "        scheduler = get_linear_schedule_with_warmup(\n",
    "            optimizer, self.hparams.warmup, self.hparams.n_train_steps\n",
    "        )\n",
    "        return [optimizer], [\n",
    "            {\"scheduler\": scheduler, \"interval\": \"step\", \"frequency\": 1}\n",
    "        ]\n",
    "\n",
    "    def forward(self, inputs):\n",
    "        logits = self.model(inputs)\n",
    "        return logits\n",
    "\n",
    "    def forward_batch(self, batch):\n",
    "        inputs = batch[0]\n",
    "        return self(inputs)\n",
    "\n",
    "    def __calc_loss(self, logits, target, log_label):\n",
    "        loss = F.cross_entropy(logits, target)\n",
    "        self.log(f\"{log_label}_loss\", loss, prog_bar=True, on_step=True, on_epoch=True)\n",
    "        return loss\n",
    "\n",
    "    def __stage_step(self, metric_calc, batch, batch_idx, stage):\n",
    "        logits = self.forward_batch(batch)\n",
    "        mval_dict = metric_calc.step(logits, batch[1])\n",
    "        self.log_dict(mval_dict, prog_bar=True, on_step=True, on_epoch=True)\n",
    "        loss = self.__calc_loss(logits, batch[1], stage)\n",
    "        return loss\n",
    "\n",
    "    def training_step(self, batch, batch_idx):\n",
    "        return self.__stage_step(self.train_metric_calc, batch, batch_idx, \"train\")\n",
    "\n",
    "    def test_step(self, batch, batch_idx):\n",
    "        return self.__stage_step(self.test_metric_calc, batch, batch_idx, \"test\")\n",
    "\n",
    "    def validation_step(self, batch, batch_idx):\n",
    "        return self.__stage_step(self.val_metric_calc, batch, batch_idx, \"val\")"
   ]
  },
  {
   "cell_type": "code",
   "execution_count": 12,
   "metadata": {
    "collapsed": false,
    "jupyter": {
     "outputs_hidden": false
    },
    "pycharm": {
     "name": "#%%\n"
    }
   },
   "outputs": [],
   "source": [
    "N_CLASSES = loaders_dict[\"n_classes\"]\n",
    "LMODULE_CLASS = LitBoringMNIST\n",
    "IS_CUDA = torch.cuda.is_available()\n",
    "GPU_PER_TRIAL = 0.3 * IS_CUDA"
   ]
  },
  {
   "cell_type": "code",
   "execution_count": 13,
   "metadata": {},
   "outputs": [],
   "source": [
    "CONFIG = {\n",
    "    \"lr\": 1e-3,  # Initial learning rate\n",
    "    \"warmup\": 200,  # For LinearSchedulerWihtWarmup\n",
    "    \"gradient_clip_val\": 0,\n",
    "    \"max_epochs\": 6,  # the actual number can be less due to early stopping\n",
    "    \"batch_size\": 64,\n",
    "    \"n_classes\": N_CLASSES,\n",
    "    \"unfreeze_epochs\": [0, 1]  # 2-phase unfreeze,\n",
    "    #    unfreeze the tip of the tail at the start of epoch 0,\n",
    "    #    then unfreeze one more layer at epoch 1,\n",
    "}\n",
    "\n",
    "TUNE_CONFIG = {\n",
    "    \"seed\": 16,  # just remove this if you do not want determenistic behavior\n",
    "    \"metric_to_optimize\": \"val_f1_epoch\",  # Ray + PTL Trainer\n",
    "    \"ray_metrics_to_show\": [\n",
    "        \"val_loss_epoch\",\n",
    "        \"val_f1_epoch\",\n",
    "        \"val_acc_epoch\",\n",
    "    ],  # for Ray Tune\n",
    "    \"metric_opt_mode\": \"max\",  # Ray + PTL Trainer\n",
    "    \"cpu_per_trial\": 3,  # Ray + DataLoaders\n",
    "    \"gpu_per_trial\": GPU_PER_TRIAL,  # for Ray Tune\n",
    "    \"n_checkpoints_to_keep\": 1,  # for Ray Tune\n",
    "    \"grace_period\": 6,  # for both PTL Trainer and Ray Tune scheduler\n",
    "    \"epoch_upper_limit\": 45,  # for Ray Tune\n",
    "    \"n_samples\": 3,  # for Ray Tune\n",
    "    \"ptl_early_stopping_patience\": 7,  # for PTL Trainer\n",
    "    \"ptl_precision\": 32,  # or 16, for PTL Trainer\n",
    "    \"train_loader_name\": \"train_loader\",\n",
    "    \"val_loader_name\": \"val_loader\",\n",
    "    \"test_loader_name\": \"test_loader\",\n",
    "    \"batch_size_main\": CONFIG[\n",
    "        \"batch_size\"\n",
    "    ],  # batch size for revalidation and test phases\n",
    "    #    that run in the main process after all Ray Tune child processes are finished\n",
    "    \"gpus\": -1 * IS_CUDA,  # -1 - use GPU if available, 0 - use CPU, 1 - use single GPU,\n",
    "    # >=2 - use multiple GPUs\n",
    "}\n",
    "\n",
    "if FAST_DEV_RUN:\n",
    "    CONFIG[\"max_epochs\"] = 2\n",
    "    TUNE_CONFIG[\"n_samples\"] = 2"
   ]
  },
  {
   "cell_type": "code",
   "execution_count": 14,
   "metadata": {},
   "outputs": [],
   "source": [
    "class UnfreezeModelTailCallback(Callback):\n",
    "    def __init__(self, epoch_vec):\n",
    "        super().__init__()\n",
    "        self.epoch_vec = epoch_vec\n",
    "\n",
    "    def on_epoch_start(self, trainer, pl_module):\n",
    "        if trainer.current_epoch <= self.epoch_vec[0]:\n",
    "            pl_module.unfreeze_tail(0)\n",
    "        elif trainer.current_epoch <= self.epoch_vec[1]:\n",
    "            pl_module.unfreeze_tail(1)\n",
    "        else:\n",
    "            pl_module.unfreeze()\n",
    "\n",
    "\n",
    "pl_callbacks = [UnfreezeModelTailCallback(CONFIG[\"unfreeze_epochs\"])]"
   ]
  },
  {
   "cell_type": "code",
   "execution_count": 15,
   "metadata": {},
   "outputs": [],
   "source": [
    "runner = pth.Runner(\n",
    "    configure_dataloaders,\n",
    "    pl_callbacks=pl_callbacks,\n",
    "    is_debug=FAST_DEV_RUN,\n",
    "    experiment_id=EXPERIMENT_ID,\n",
    "    log2wandb=False\n",
    ")"
   ]
  },
  {
   "cell_type": "markdown",
   "metadata": {},
   "source": [
    "#### Run a single trial (train-validation-test cycle)"
   ]
  },
  {
   "cell_type": "code",
   "execution_count": 16,
   "metadata": {},
   "outputs": [
    {
     "name": "stderr",
     "output_type": "stream",
     "text": [
      "GPU available: False, used: False\n",
      "TPU available: None, using: 0 TPU cores\n",
      "\n",
      "  | Name              | Type             | Params\n",
      "-------------------------------------------------------\n",
      "0 | model             | LeNetBoringMNIST | 60.1 K\n",
      "1 | train_metric_calc | LitMetricsCalc   | 0     \n",
      "2 | val_metric_calc   | LitMetricsCalc   | 0     \n",
      "3 | test_metric_calc  | LitMetricsCalc   | 0     \n",
      "-------------------------------------------------------\n",
      "0         Trainable params\n",
      "60.1 K    Non-trainable params\n",
      "60.1 K    Total params\n"
     ]
    },
    {
     "data": {
      "application/vnd.jupyter.widget-view+json": {
       "model_id": "",
       "version_major": 2,
       "version_minor": 0
      },
      "text/plain": [
       "HBox(children=(FloatProgress(value=1.0, bar_style='info', description='Validation sanity check', layout=Layout…"
      ]
     },
     "metadata": {},
     "output_type": "display_data"
    },
    {
     "data": {
      "application/vnd.jupyter.widget-view+json": {
       "model_id": "",
       "version_major": 2,
       "version_minor": 0
      },
      "text/plain": [
       "HBox(children=(FloatProgress(value=1.0, bar_style='info', description='Training', layout=Layout(flex='2'), max…"
      ]
     },
     "metadata": {},
     "output_type": "display_data"
    },
    {
     "data": {
      "application/vnd.jupyter.widget-view+json": {
       "model_id": "",
       "version_major": 2,
       "version_minor": 0
      },
      "text/plain": [
       "HBox(children=(FloatProgress(value=1.0, bar_style='info', description='Validating', layout=Layout(flex='2'), m…"
      ]
     },
     "metadata": {},
     "output_type": "display_data"
    },
    {
     "data": {
      "image/png": "[encoded data removed]",
      "text/plain": [
       "<Figure size 1440x864 with 3 Axes>"
      ]
     },
     "metadata": {},
     "output_type": "display_data"
    },
    {
     "data": {
      "application/vnd.jupyter.widget-view+json": {
       "model_id": "",
       "version_major": 2,
       "version_minor": 0
      },
      "text/plain": [
       "HBox(children=(FloatProgress(value=1.0, bar_style='info', description='Validating', layout=Layout(flex='2'), m…"
      ]
     },
     "metadata": {},
     "output_type": "display_data"
    },
    {
     "data": {
      "application/vnd.jupyter.widget-view+json": {
       "model_id": "",
       "version_major": 2,
       "version_minor": 0
      },
      "text/plain": [
       "HBox(children=(FloatProgress(value=1.0, bar_style='info', description='Validating', layout=Layout(flex='2'), m…"
      ]
     },
     "metadata": {},
     "output_type": "display_data"
    },
    {
     "data": {
      "application/vnd.jupyter.widget-view+json": {
       "model_id": "",
       "version_major": 2,
       "version_minor": 0
      },
      "text/plain": [
       "HBox(children=(FloatProgress(value=1.0, bar_style='info', description='Validating', layout=Layout(flex='2'), m…"
      ]
     },
     "metadata": {},
     "output_type": "display_data"
    },
    {
     "data": {
      "application/vnd.jupyter.widget-view+json": {
       "model_id": "",
       "version_major": 2,
       "version_minor": 0
      },
      "text/plain": [
       "HBox(children=(FloatProgress(value=1.0, bar_style='info', description='Validating', layout=Layout(flex='2'), m…"
      ]
     },
     "metadata": {},
     "output_type": "display_data"
    },
    {
     "data": {
      "application/vnd.jupyter.widget-view+json": {
       "model_id": "",
       "version_major": 2,
       "version_minor": 0
      },
      "text/plain": [
       "HBox(children=(FloatProgress(value=1.0, bar_style='info', description='Validating', layout=Layout(flex='2'), m…"
      ]
     },
     "metadata": {},
     "output_type": "display_data"
    },
    {
     "data": {
      "application/vnd.jupyter.widget-view+json": {
       "model_id": "",
       "version_major": 2,
       "version_minor": 0
      },
      "text/plain": [
       "HBox(children=(FloatProgress(value=1.0, bar_style='info', description='Testing', layout=Layout(flex='2'), max=…"
      ]
     },
     "metadata": {},
     "output_type": "display_data"
    },
    {
     "data": {
      "application/vnd.jupyter.widget-view+json": {
       "model_id": "",
       "version_major": 2,
       "version_minor": 0
      },
      "text/plain": [
       "HBox(children=(FloatProgress(value=1.0, bar_style='info', description='Testing', layout=Layout(flex='2'), max=…"
      ]
     },
     "metadata": {},
     "output_type": "display_data"
    }
   ],
   "source": [
    "if \"single-run\" in USAGE_MODE_LIST:\n",
    "    best_result = runner.run_single_trial(LMODULE_CLASS, CONFIG, TUNE_CONFIG)"
   ]
  },
  {
   "cell_type": "markdown",
   "metadata": {},
   "source": [
    "#### Let us look at the resulting metrics timeseries in a tabular form"
   ]
  },
  {
   "cell_type": "code",
   "execution_count": 17,
   "metadata": {},
   "outputs": [
    {
     "data": {
      "text/html": [
       "<div>\n",
       "<style scoped>\n",
       "    .dataframe tbody tr th:only-of-type {\n",
       "        vertical-align: middle;\n",
       "    }\n",
       "\n",
       "    .dataframe tbody tr th {\n",
       "        vertical-align: top;\n",
       "    }\n",
       "\n",
       "    .dataframe thead th {\n",
       "        text-align: right;\n",
       "    }\n",
       "</style>\n",
       "<table border=\"1\" class=\"dataframe\">\n",
       "  <thead>\n",
       "    <tr style=\"text-align: right;\">\n",
       "      <th></th>\n",
       "      <th>stage</th>\n",
       "      <th>epoch</th>\n",
       "      <th>stage-list</th>\n",
       "      <th>val_f1</th>\n",
       "      <th>train_f1</th>\n",
       "      <th>val_acc</th>\n",
       "      <th>train_acc</th>\n",
       "      <th>val_loss</th>\n",
       "      <th>train_loss</th>\n",
       "      <th>reval_f1</th>\n",
       "      <th>reval_acc</th>\n",
       "      <th>reval_loss</th>\n",
       "      <th>test_f1</th>\n",
       "      <th>test_acc</th>\n",
       "      <th>test_loss</th>\n",
       "    </tr>\n",
       "  </thead>\n",
       "  <tbody>\n",
       "    <tr>\n",
       "      <th>0</th>\n",
       "      <td>Train/Val</td>\n",
       "      <td>0</td>\n",
       "      <td>(train, val)</td>\n",
       "      <td>0.1747</td>\n",
       "      <td>0.0951</td>\n",
       "      <td>0.2534</td>\n",
       "      <td>0.1639</td>\n",
       "      <td>2.2725</td>\n",
       "      <td>2.2897</td>\n",
       "      <td>NaN</td>\n",
       "      <td>NaN</td>\n",
       "      <td>NaN</td>\n",
       "      <td>NaN</td>\n",
       "      <td>NaN</td>\n",
       "      <td>NaN</td>\n",
       "    </tr>\n",
       "    <tr>\n",
       "      <th>1</th>\n",
       "      <td>Train/Val</td>\n",
       "      <td>1</td>\n",
       "      <td>(train, val)</td>\n",
       "      <td>0.7387</td>\n",
       "      <td>0.5947</td>\n",
       "      <td>0.7512</td>\n",
       "      <td>0.6287</td>\n",
       "      <td>1.0247</td>\n",
       "      <td>1.5376</td>\n",
       "      <td>NaN</td>\n",
       "      <td>NaN</td>\n",
       "      <td>NaN</td>\n",
       "      <td>NaN</td>\n",
       "      <td>NaN</td>\n",
       "      <td>NaN</td>\n",
       "    </tr>\n",
       "    <tr>\n",
       "      <th>2</th>\n",
       "      <td>Train/Val</td>\n",
       "      <td>2</td>\n",
       "      <td>(train, val)</td>\n",
       "      <td>0.9642</td>\n",
       "      <td>0.9305</td>\n",
       "      <td>0.9646</td>\n",
       "      <td>0.9311</td>\n",
       "      <td>0.1153</td>\n",
       "      <td>0.2273</td>\n",
       "      <td>NaN</td>\n",
       "      <td>NaN</td>\n",
       "      <td>NaN</td>\n",
       "      <td>NaN</td>\n",
       "      <td>NaN</td>\n",
       "      <td>NaN</td>\n",
       "    </tr>\n",
       "    <tr>\n",
       "      <th>3</th>\n",
       "      <td>Train/Val</td>\n",
       "      <td>3</td>\n",
       "      <td>(train, val)</td>\n",
       "      <td>0.9757</td>\n",
       "      <td>0.9742</td>\n",
       "      <td>0.9760</td>\n",
       "      <td>0.9744</td>\n",
       "      <td>0.0753</td>\n",
       "      <td>0.0837</td>\n",
       "      <td>NaN</td>\n",
       "      <td>NaN</td>\n",
       "      <td>NaN</td>\n",
       "      <td>NaN</td>\n",
       "      <td>NaN</td>\n",
       "      <td>NaN</td>\n",
       "    </tr>\n",
       "    <tr>\n",
       "      <th>4</th>\n",
       "      <td>Train/Val</td>\n",
       "      <td>4</td>\n",
       "      <td>(train, val)</td>\n",
       "      <td>0.9794</td>\n",
       "      <td>0.9831</td>\n",
       "      <td>0.9797</td>\n",
       "      <td>0.9833</td>\n",
       "      <td>0.0666</td>\n",
       "      <td>0.0564</td>\n",
       "      <td>NaN</td>\n",
       "      <td>NaN</td>\n",
       "      <td>NaN</td>\n",
       "      <td>NaN</td>\n",
       "      <td>NaN</td>\n",
       "      <td>NaN</td>\n",
       "    </tr>\n",
       "    <tr>\n",
       "      <th>5</th>\n",
       "      <td>Train/Val</td>\n",
       "      <td>5</td>\n",
       "      <td>(train, val)</td>\n",
       "      <td>0.9815</td>\n",
       "      <td>0.9874</td>\n",
       "      <td>0.9816</td>\n",
       "      <td>0.9875</td>\n",
       "      <td>0.0607</td>\n",
       "      <td>0.0418</td>\n",
       "      <td>NaN</td>\n",
       "      <td>NaN</td>\n",
       "      <td>NaN</td>\n",
       "      <td>NaN</td>\n",
       "      <td>NaN</td>\n",
       "      <td>NaN</td>\n",
       "    </tr>\n",
       "    <tr>\n",
       "      <th>6</th>\n",
       "      <td>Reval</td>\n",
       "      <td>5</td>\n",
       "      <td>(reval,)</td>\n",
       "      <td>0.9815</td>\n",
       "      <td>0.9874</td>\n",
       "      <td>0.9816</td>\n",
       "      <td>0.9875</td>\n",
       "      <td>0.0607</td>\n",
       "      <td>0.0418</td>\n",
       "      <td>0.9815</td>\n",
       "      <td>0.9816</td>\n",
       "      <td>0.0607</td>\n",
       "      <td>NaN</td>\n",
       "      <td>NaN</td>\n",
       "      <td>NaN</td>\n",
       "    </tr>\n",
       "    <tr>\n",
       "      <th>7</th>\n",
       "      <td>Test</td>\n",
       "      <td>5</td>\n",
       "      <td>(test,)</td>\n",
       "      <td>0.9815</td>\n",
       "      <td>0.9874</td>\n",
       "      <td>0.9816</td>\n",
       "      <td>0.9875</td>\n",
       "      <td>0.0607</td>\n",
       "      <td>0.0418</td>\n",
       "      <td>NaN</td>\n",
       "      <td>NaN</td>\n",
       "      <td>NaN</td>\n",
       "      <td>0.9858</td>\n",
       "      <td>0.9859</td>\n",
       "      <td>0.0458</td>\n",
       "    </tr>\n",
       "  </tbody>\n",
       "</table>\n",
       "</div>"
      ],
      "text/plain": [
       "       stage  epoch    stage-list  val_f1  train_f1  val_acc  train_acc  \\\n",
       "0  Train/Val      0  (train, val)  0.1747    0.0951   0.2534     0.1639   \n",
       "1  Train/Val      1  (train, val)  0.7387    0.5947   0.7512     0.6287   \n",
       "2  Train/Val      2  (train, val)  0.9642    0.9305   0.9646     0.9311   \n",
       "3  Train/Val      3  (train, val)  0.9757    0.9742   0.9760     0.9744   \n",
       "4  Train/Val      4  (train, val)  0.9794    0.9831   0.9797     0.9833   \n",
       "5  Train/Val      5  (train, val)  0.9815    0.9874   0.9816     0.9875   \n",
       "6      Reval      5      (reval,)  0.9815    0.9874   0.9816     0.9875   \n",
       "7       Test      5       (test,)  0.9815    0.9874   0.9816     0.9875   \n",
       "\n",
       "   val_loss  train_loss  reval_f1  reval_acc  reval_loss  test_f1  test_acc  \\\n",
       "0    2.2725      2.2897       NaN        NaN         NaN      NaN       NaN   \n",
       "1    1.0247      1.5376       NaN        NaN         NaN      NaN       NaN   \n",
       "2    0.1153      0.2273       NaN        NaN         NaN      NaN       NaN   \n",
       "3    0.0753      0.0837       NaN        NaN         NaN      NaN       NaN   \n",
       "4    0.0666      0.0564       NaN        NaN         NaN      NaN       NaN   \n",
       "5    0.0607      0.0418       NaN        NaN         NaN      NaN       NaN   \n",
       "6    0.0607      0.0418    0.9815     0.9816      0.0607      NaN       NaN   \n",
       "7    0.0607      0.0418       NaN        NaN         NaN   0.9858    0.9859   \n",
       "\n",
       "   test_loss  \n",
       "0        NaN  \n",
       "1        NaN  \n",
       "2        NaN  \n",
       "3        NaN  \n",
       "4        NaN  \n",
       "5        NaN  \n",
       "6        NaN  \n",
       "7     0.0458  "
      ]
     },
     "metadata": {},
     "output_type": "display_data"
    }
   ],
   "source": [
    "if \"single-run\" in USAGE_MODE_LIST:\n",
    "    display(best_result[\"metrics\"].df)"
   ]
  },
  {
   "cell_type": "markdown",
   "metadata": {},
   "source": [
    "#### Or just look at the latest observed values for each of the metrics"
   ]
  },
  {
   "cell_type": "code",
   "execution_count": 18,
   "metadata": {},
   "outputs": [
    {
     "data": {
      "text/plain": [
       "val_f1        0.9815\n",
       "train_f1      0.9874\n",
       "val_acc       0.9816\n",
       "train_acc     0.9875\n",
       "val_loss      0.0607\n",
       "train_loss    0.0418\n",
       "reval_f1      0.9815\n",
       "reval_acc     0.9816\n",
       "reval_loss    0.0607\n",
       "test_f1       0.9858\n",
       "test_acc      0.9859\n",
       "test_loss     0.0458\n",
       "Name: 7, dtype: float64"
      ]
     },
     "metadata": {},
     "output_type": "display_data"
    }
   ],
   "source": [
    "if \"single-run\" in USAGE_MODE_LIST:\n",
    "    display(best_result[\"metrics\"].series_last)"
   ]
  },
  {
   "cell_type": "markdown",
   "metadata": {},
   "source": [
    "#### Plot the metrics timeseries on different axis"
   ]
  },
  {
   "cell_type": "code",
   "execution_count": 19,
   "metadata": {},
   "outputs": [
    {
     "data": {
      "text/html": [
       "<div>\n",
       "<style scoped>\n",
       "    .dataframe tbody tr th:only-of-type {\n",
       "        vertical-align: middle;\n",
       "    }\n",
       "\n",
       "    .dataframe tbody tr th {\n",
       "        vertical-align: top;\n",
       "    }\n",
       "\n",
       "    .dataframe thead th {\n",
       "        text-align: right;\n",
       "    }\n",
       "</style>\n",
       "<table border=\"1\" class=\"dataframe\">\n",
       "  <thead>\n",
       "    <tr style=\"text-align: right;\">\n",
       "      <th></th>\n",
       "      <th>stage</th>\n",
       "      <th>epoch</th>\n",
       "      <th>val_f1</th>\n",
       "      <th>train_f1</th>\n",
       "      <th>val_acc</th>\n",
       "      <th>train_acc</th>\n",
       "      <th>val_loss</th>\n",
       "      <th>train_loss</th>\n",
       "      <th>reval_f1</th>\n",
       "      <th>reval_acc</th>\n",
       "      <th>reval_loss</th>\n",
       "      <th>test_f1</th>\n",
       "      <th>test_acc</th>\n",
       "      <th>test_loss</th>\n",
       "    </tr>\n",
       "  </thead>\n",
       "  <tbody>\n",
       "    <tr>\n",
       "      <th>0</th>\n",
       "      <td>Train/Val</td>\n",
       "      <td>0</td>\n",
       "      <td>0.1747</td>\n",
       "      <td>0.0951</td>\n",
       "      <td>0.2534</td>\n",
       "      <td>0.1639</td>\n",
       "      <td>2.2725</td>\n",
       "      <td>2.2897</td>\n",
       "      <td>NaN</td>\n",
       "      <td>NaN</td>\n",
       "      <td>NaN</td>\n",
       "      <td>NaN</td>\n",
       "      <td>NaN</td>\n",
       "      <td>NaN</td>\n",
       "    </tr>\n",
       "    <tr>\n",
       "      <th>1</th>\n",
       "      <td>Train/Val</td>\n",
       "      <td>1</td>\n",
       "      <td>0.7387</td>\n",
       "      <td>0.5947</td>\n",
       "      <td>0.7512</td>\n",
       "      <td>0.6287</td>\n",
       "      <td>1.0247</td>\n",
       "      <td>1.5376</td>\n",
       "      <td>NaN</td>\n",
       "      <td>NaN</td>\n",
       "      <td>NaN</td>\n",
       "      <td>NaN</td>\n",
       "      <td>NaN</td>\n",
       "      <td>NaN</td>\n",
       "    </tr>\n",
       "    <tr>\n",
       "      <th>2</th>\n",
       "      <td>Train/Val</td>\n",
       "      <td>2</td>\n",
       "      <td>0.9642</td>\n",
       "      <td>0.9305</td>\n",
       "      <td>0.9646</td>\n",
       "      <td>0.9311</td>\n",
       "      <td>0.1153</td>\n",
       "      <td>0.2273</td>\n",
       "      <td>NaN</td>\n",
       "      <td>NaN</td>\n",
       "      <td>NaN</td>\n",
       "      <td>NaN</td>\n",
       "      <td>NaN</td>\n",
       "      <td>NaN</td>\n",
       "    </tr>\n",
       "    <tr>\n",
       "      <th>3</th>\n",
       "      <td>Train/Val</td>\n",
       "      <td>3</td>\n",
       "      <td>0.9757</td>\n",
       "      <td>0.9742</td>\n",
       "      <td>0.9760</td>\n",
       "      <td>0.9744</td>\n",
       "      <td>0.0753</td>\n",
       "      <td>0.0837</td>\n",
       "      <td>NaN</td>\n",
       "      <td>NaN</td>\n",
       "      <td>NaN</td>\n",
       "      <td>NaN</td>\n",
       "      <td>NaN</td>\n",
       "      <td>NaN</td>\n",
       "    </tr>\n",
       "    <tr>\n",
       "      <th>4</th>\n",
       "      <td>Train/Val</td>\n",
       "      <td>4</td>\n",
       "      <td>0.9794</td>\n",
       "      <td>0.9831</td>\n",
       "      <td>0.9797</td>\n",
       "      <td>0.9833</td>\n",
       "      <td>0.0666</td>\n",
       "      <td>0.0564</td>\n",
       "      <td>NaN</td>\n",
       "      <td>NaN</td>\n",
       "      <td>NaN</td>\n",
       "      <td>NaN</td>\n",
       "      <td>NaN</td>\n",
       "      <td>NaN</td>\n",
       "    </tr>\n",
       "    <tr>\n",
       "      <th>5</th>\n",
       "      <td>Train/Val</td>\n",
       "      <td>5</td>\n",
       "      <td>0.9815</td>\n",
       "      <td>0.9874</td>\n",
       "      <td>0.9816</td>\n",
       "      <td>0.9875</td>\n",
       "      <td>0.0607</td>\n",
       "      <td>0.0418</td>\n",
       "      <td>NaN</td>\n",
       "      <td>NaN</td>\n",
       "      <td>NaN</td>\n",
       "      <td>NaN</td>\n",
       "      <td>NaN</td>\n",
       "      <td>NaN</td>\n",
       "    </tr>\n",
       "    <tr>\n",
       "      <th>6</th>\n",
       "      <td>Reval</td>\n",
       "      <td>5</td>\n",
       "      <td>0.9815</td>\n",
       "      <td>0.9874</td>\n",
       "      <td>0.9816</td>\n",
       "      <td>0.9875</td>\n",
       "      <td>0.0607</td>\n",
       "      <td>0.0418</td>\n",
       "      <td>0.9815</td>\n",
       "      <td>0.9816</td>\n",
       "      <td>0.0607</td>\n",
       "      <td>NaN</td>\n",
       "      <td>NaN</td>\n",
       "      <td>NaN</td>\n",
       "    </tr>\n",
       "    <tr>\n",
       "      <th>7</th>\n",
       "      <td>Test</td>\n",
       "      <td>5</td>\n",
       "      <td>0.9815</td>\n",
       "      <td>0.9874</td>\n",
       "      <td>0.9816</td>\n",
       "      <td>0.9875</td>\n",
       "      <td>0.0607</td>\n",
       "      <td>0.0418</td>\n",
       "      <td>NaN</td>\n",
       "      <td>NaN</td>\n",
       "      <td>NaN</td>\n",
       "      <td>0.9858</td>\n",
       "      <td>0.9859</td>\n",
       "      <td>0.0458</td>\n",
       "    </tr>\n",
       "  </tbody>\n",
       "</table>\n",
       "</div>"
      ],
      "text/plain": [
       "       stage  epoch  val_f1  train_f1  val_acc  train_acc  val_loss  \\\n",
       "0  Train/Val      0  0.1747    0.0951   0.2534     0.1639    2.2725   \n",
       "1  Train/Val      1  0.7387    0.5947   0.7512     0.6287    1.0247   \n",
       "2  Train/Val      2  0.9642    0.9305   0.9646     0.9311    0.1153   \n",
       "3  Train/Val      3  0.9757    0.9742   0.9760     0.9744    0.0753   \n",
       "4  Train/Val      4  0.9794    0.9831   0.9797     0.9833    0.0666   \n",
       "5  Train/Val      5  0.9815    0.9874   0.9816     0.9875    0.0607   \n",
       "6      Reval      5  0.9815    0.9874   0.9816     0.9875    0.0607   \n",
       "7       Test      5  0.9815    0.9874   0.9816     0.9875    0.0607   \n",
       "\n",
       "   train_loss  reval_f1  reval_acc  reval_loss  test_f1  test_acc  test_loss  \n",
       "0      2.2897       NaN        NaN         NaN      NaN       NaN        NaN  \n",
       "1      1.5376       NaN        NaN         NaN      NaN       NaN        NaN  \n",
       "2      0.2273       NaN        NaN         NaN      NaN       NaN        NaN  \n",
       "3      0.0837       NaN        NaN         NaN      NaN       NaN        NaN  \n",
       "4      0.0564       NaN        NaN         NaN      NaN       NaN        NaN  \n",
       "5      0.0418       NaN        NaN         NaN      NaN       NaN        NaN  \n",
       "6      0.0418    0.9815     0.9816      0.0607      NaN       NaN        NaN  \n",
       "7      0.0418       NaN        NaN         NaN   0.9858    0.9859     0.0458  "
      ]
     },
     "metadata": {},
     "output_type": "display_data"
    },
    {
     "data": {
      "image/png": "[encoded data removed]",
      "text/plain": [
       "<Figure size 1440x864 with 3 Axes>"
      ]
     },
     "metadata": {
      "needs_background": "light"
     },
     "output_type": "display_data"
    }
   ],
   "source": [
    "if \"single-run\" in USAGE_MODE_LIST:\n",
    "    best_result[\"metrics\"].show_report()"
   ]
  },
  {
   "cell_type": "markdown",
   "metadata": {},
   "source": [
    "### Running a hyper-parameters search via Ray Tune"
   ]
  },
  {
   "cell_type": "code",
   "execution_count": 20,
   "metadata": {},
   "outputs": [],
   "source": [
    "SEARCH_SPACE_CONFIG = {\n",
    "    \"unfreeze_epochs\": [0, 1],\n",
    "    \"lr\": tune.uniform(1e-4, 1e-3),\n",
    "    \"warmup\": tune.choice([200, 500, 600, 1000]),\n",
    "    \"gradient_clip_val\": 0,\n",
    "    \"max_epochs\": tune.choice([6]),\n",
    "    \"batch_size\": tune.choice([16, 32, 64]),\n",
    "    \"n_classes\": N_CLASSES,\n",
    "}"
   ]
  },
  {
   "cell_type": "code",
   "execution_count": 21,
   "metadata": {},
   "outputs": [],
   "source": [
    "if FAST_DEV_RUN:\n",
    "    SEARCH_SPACE_CONFIG[\"max_epochs\"] = 2\n",
    "    SEARCH_SPACE_CONFIG[\"batch_size\"] = 32"
   ]
  },
  {
   "cell_type": "code",
   "execution_count": 22,
   "metadata": {},
   "outputs": [
    {
     "name": "stderr",
     "output_type": "stream",
     "text": [
      "2021-01-19 15:50:40,940\tINFO services.py:1171 -- View the Ray dashboard at \u001b[1m\u001b[32mhttp://192.168.1.135:8265\u001b[39m\u001b[22m\n"
     ]
    },
    {
     "name": "stdout",
     "output_type": "stream",
     "text": [
      "== Status ==\n",
      "Memory usage on this node: 20.7/31.3 GiB\n",
      "Using AsyncHyperBand: num_stopped=0\n",
      "Bracket: Iter 18.000: None | Iter 6.000: None\n",
      "Resources requested: 3/12 CPUs, 0.0/0 GPUs, 0.0/8.69 GiB heap, 0.0/2.98 GiB objects\n",
      "Result logdir: /home/peter/ray_results/boring-mnist_19_Jan_2021_15_50_41\n",
      "Number of trials: 1/3 (1 RUNNING)\n",
      "+----------------+----------+-------+-------------------+-------------+----------+---------------------+--------------+--------------+-------------+\n",
      "| Trial name     | status   | loc   | unfreeze_epochs   |          lr |   warmup |   gradient_clip_val |   max_epochs |   batch_size |   n_classes |\n",
      "|----------------+----------+-------+-------------------+-------------+----------+---------------------+--------------+--------------+-------------|\n",
      "| inner_f0147ae4 | RUNNING  |       | (0, 1)            | 0.000544761 |      500 |                   0 |            6 |           16 |          10 |\n",
      "+----------------+----------+-------+-------------------+-------------+----------+---------------------+--------------+--------------+-------------+\n",
      "\n",
      "\n",
      "== Status ==\n",
      "Memory usage on this node: 22.2/31.3 GiB\n",
      "Using AsyncHyperBand: num_stopped=0\n",
      "Bracket: Iter 18.000: None | Iter 6.000: None\n",
      "Resources requested: 9/12 CPUs, 0.0/0 GPUs, 0.0/8.69 GiB heap, 0.0/2.98 GiB objects\n",
      "Current best trial: f01d85f8 with val_f1_epoch=0.135450080037117 and parameters={'unfreeze_epochs': (0, 1), 'lr': 0.0007882232932100686, 'warmup': 200, 'gradient_clip_val': 0, 'max_epochs': 6, 'batch_size': 64, 'n_classes': 10}\n",
      "Result logdir: /home/peter/ray_results/boring-mnist_19_Jan_2021_15_50_41\n",
      "Number of trials: 3/3 (3 RUNNING)\n",
      "+----------------+----------+-----------------------+-------------------+-------------+----------+---------------------+--------------+--------------+-------------+------------------+----------------+-----------------+----------------------+\n",
      "| Trial name     | status   | loc                   | unfreeze_epochs   |          lr |   warmup |   gradient_clip_val |   max_epochs |   batch_size |   n_classes |   val_loss_epoch |   val_f1_epoch |   val_acc_epoch |   training_iteration |\n",
      "|----------------+----------+-----------------------+-------------------+-------------+----------+---------------------+--------------+--------------+-------------+------------------+----------------+-----------------+----------------------|\n",
      "| inner_f0147ae4 | RUNNING  |                       | (0, 1)            | 0.000544761 |      500 |                   0 |            6 |           16 |          10 |                  |                |                 |                      |\n",
      "| inner_f01d85f8 | RUNNING  | 192.168.1.135:1442947 | (0, 1)            | 0.000788223 |      200 |                   0 |            6 |           64 |          10 |          2.27854 |        0.13545 |        0.209333 |                    1 |\n",
      "| inner_f01f0dec | RUNNING  |                       | (0, 1)            | 0.000661665 |      600 |                   0 |            6 |           16 |          10 |                  |                |                 |                      |\n",
      "+----------------+----------+-----------------------+-------------------+-------------+----------+---------------------+--------------+--------------+-------------+------------------+----------------+-----------------+----------------------+\n",
      "\n",
      "\n",
      "== Status ==\n",
      "Memory usage on this node: 22.1/31.3 GiB\n",
      "Using AsyncHyperBand: num_stopped=0\n",
      "Bracket: Iter 18.000: None | Iter 6.000: None\n",
      "Resources requested: 9/12 CPUs, 0.0/0 GPUs, 0.0/8.69 GiB heap, 0.0/2.98 GiB objects\n",
      "Current best trial: f01d85f8 with val_f1_epoch=0.6962434649467468 and parameters={'unfreeze_epochs': (0, 1), 'lr': 0.0007882232932100686, 'warmup': 200, 'gradient_clip_val': 0, 'max_epochs': 6, 'batch_size': 64, 'n_classes': 10}\n",
      "Result logdir: /home/peter/ray_results/boring-mnist_19_Jan_2021_15_50_41\n",
      "Number of trials: 3/3 (3 RUNNING)\n",
      "+----------------+----------+-----------------------+-------------------+-------------+----------+---------------------+--------------+--------------+-------------+------------------+----------------+-----------------+----------------------+\n",
      "| Trial name     | status   | loc                   | unfreeze_epochs   |          lr |   warmup |   gradient_clip_val |   max_epochs |   batch_size |   n_classes |   val_loss_epoch |   val_f1_epoch |   val_acc_epoch |   training_iteration |\n",
      "|----------------+----------+-----------------------+-------------------+-------------+----------+---------------------+--------------+--------------+-------------+------------------+----------------+-----------------+----------------------|\n",
      "| inner_f0147ae4 | RUNNING  |                       | (0, 1)            | 0.000544761 |      500 |                   0 |            6 |           16 |          10 |                  |                |                 |                      |\n",
      "| inner_f01d85f8 | RUNNING  | 192.168.1.135:1442947 | (0, 1)            | 0.000788223 |      200 |                   0 |            6 |           64 |          10 |          1.19724 |       0.696243 |        0.717083 |                    2 |\n",
      "| inner_f01f0dec | RUNNING  |                       | (0, 1)            | 0.000661665 |      600 |                   0 |            6 |           16 |          10 |                  |                |                 |                      |\n",
      "+----------------+----------+-----------------------+-------------------+-------------+----------+---------------------+--------------+--------------+-------------+------------------+----------------+-----------------+----------------------+\n",
      "\n",
      "\n",
      "== Status ==\n",
      "Memory usage on this node: 22.1/31.3 GiB\n",
      "Using AsyncHyperBand: num_stopped=0\n",
      "Bracket: Iter 18.000: None | Iter 6.000: None\n",
      "Resources requested: 9/12 CPUs, 0.0/0 GPUs, 0.0/8.69 GiB heap, 0.0/2.98 GiB objects\n",
      "Current best trial: f01d85f8 with val_f1_epoch=0.9592049717903137 and parameters={'unfreeze_epochs': (0, 1), 'lr': 0.0007882232932100686, 'warmup': 200, 'gradient_clip_val': 0, 'max_epochs': 6, 'batch_size': 64, 'n_classes': 10}\n",
      "Result logdir: /home/peter/ray_results/boring-mnist_19_Jan_2021_15_50_41\n",
      "Number of trials: 3/3 (3 RUNNING)\n",
      "+----------------+----------+-----------------------+-------------------+-------------+----------+---------------------+--------------+--------------+-------------+------------------+----------------+-----------------+----------------------+\n",
      "| Trial name     | status   | loc                   | unfreeze_epochs   |          lr |   warmup |   gradient_clip_val |   max_epochs |   batch_size |   n_classes |   val_loss_epoch |   val_f1_epoch |   val_acc_epoch |   training_iteration |\n",
      "|----------------+----------+-----------------------+-------------------+-------------+----------+---------------------+--------------+--------------+-------------+------------------+----------------+-----------------+----------------------|\n",
      "| inner_f0147ae4 | RUNNING  | 192.168.1.135:1442948 | (0, 1)            | 0.000544761 |      500 |                   0 |            6 |           16 |          10 |         2.26184  |       0.212752 |        0.2915   |                    1 |\n",
      "| inner_f01d85f8 | RUNNING  | 192.168.1.135:1442947 | (0, 1)            | 0.000788223 |      200 |                   0 |            6 |           64 |          10 |         0.131141 |       0.959205 |        0.959667 |                    3 |\n",
      "| inner_f01f0dec | RUNNING  | 192.168.1.135:1442939 | (0, 1)            | 0.000661665 |      600 |                   0 |            6 |           16 |          10 |         2.25426  |       0.249802 |        0.3285   |                    1 |\n",
      "+----------------+----------+-----------------------+-------------------+-------------+----------+---------------------+--------------+--------------+-------------+------------------+----------------+-----------------+----------------------+\n",
      "\n",
      "\n",
      "== Status ==\n",
      "Memory usage on this node: 22.1/31.3 GiB\n",
      "Using AsyncHyperBand: num_stopped=0\n",
      "Bracket: Iter 18.000: None | Iter 6.000: None\n",
      "Resources requested: 9/12 CPUs, 0.0/0 GPUs, 0.0/8.69 GiB heap, 0.0/2.98 GiB objects\n",
      "Current best trial: f01d85f8 with val_f1_epoch=0.9740105867385864 and parameters={'unfreeze_epochs': (0, 1), 'lr': 0.0007882232932100686, 'warmup': 200, 'gradient_clip_val': 0, 'max_epochs': 6, 'batch_size': 64, 'n_classes': 10}\n",
      "Result logdir: /home/peter/ray_results/boring-mnist_19_Jan_2021_15_50_41\n",
      "Number of trials: 3/3 (3 RUNNING)\n",
      "+----------------+----------+-----------------------+-------------------+-------------+----------+---------------------+--------------+--------------+-------------+------------------+----------------+-----------------+----------------------+\n",
      "| Trial name     | status   | loc                   | unfreeze_epochs   |          lr |   warmup |   gradient_clip_val |   max_epochs |   batch_size |   n_classes |   val_loss_epoch |   val_f1_epoch |   val_acc_epoch |   training_iteration |\n",
      "|----------------+----------+-----------------------+-------------------+-------------+----------+---------------------+--------------+--------------+-------------+------------------+----------------+-----------------+----------------------|\n",
      "| inner_f0147ae4 | RUNNING  | 192.168.1.135:1442948 | (0, 1)            | 0.000544761 |      500 |                   0 |            6 |           16 |          10 |        2.26184   |       0.212752 |        0.2915   |                    1 |\n",
      "| inner_f01d85f8 | RUNNING  | 192.168.1.135:1442947 | (0, 1)            | 0.000788223 |      200 |                   0 |            6 |           64 |          10 |        0.0853499 |       0.974011 |        0.974333 |                    4 |\n",
      "| inner_f01f0dec | RUNNING  | 192.168.1.135:1442939 | (0, 1)            | 0.000661665 |      600 |                   0 |            6 |           16 |          10 |        2.25426   |       0.249802 |        0.3285   |                    1 |\n",
      "+----------------+----------+-----------------------+-------------------+-------------+----------+---------------------+--------------+--------------+-------------+------------------+----------------+-----------------+----------------------+\n",
      "\n",
      "\n",
      "== Status ==\n",
      "Memory usage on this node: 22.4/31.3 GiB\n",
      "Using AsyncHyperBand: num_stopped=0\n",
      "Bracket: Iter 18.000: None | Iter 6.000: None\n",
      "Resources requested: 9/12 CPUs, 0.0/0 GPUs, 0.0/8.69 GiB heap, 0.0/2.98 GiB objects\n",
      "Current best trial: f01d85f8 with val_f1_epoch=0.9771195650100708 and parameters={'unfreeze_epochs': (0, 1), 'lr': 0.0007882232932100686, 'warmup': 200, 'gradient_clip_val': 0, 'max_epochs': 6, 'batch_size': 64, 'n_classes': 10}\n",
      "Result logdir: /home/peter/ray_results/boring-mnist_19_Jan_2021_15_50_41\n",
      "Number of trials: 3/3 (3 RUNNING)\n",
      "+----------------+----------+-----------------------+-------------------+-------------+----------+---------------------+--------------+--------------+-------------+------------------+----------------+-----------------+----------------------+\n",
      "| Trial name     | status   | loc                   | unfreeze_epochs   |          lr |   warmup |   gradient_clip_val |   max_epochs |   batch_size |   n_classes |   val_loss_epoch |   val_f1_epoch |   val_acc_epoch |   training_iteration |\n",
      "|----------------+----------+-----------------------+-------------------+-------------+----------+---------------------+--------------+--------------+-------------+------------------+----------------+-----------------+----------------------|\n",
      "| inner_f0147ae4 | RUNNING  | 192.168.1.135:1442948 | (0, 1)            | 0.000544761 |      500 |                   0 |            6 |           16 |          10 |        0.912488  |       0.765399 |        0.773667 |                    2 |\n",
      "| inner_f01d85f8 | RUNNING  | 192.168.1.135:1442947 | (0, 1)            | 0.000788223 |      200 |                   0 |            6 |           64 |          10 |        0.0747069 |       0.97712  |        0.977417 |                    5 |\n",
      "| inner_f01f0dec | RUNNING  | 192.168.1.135:1442939 | (0, 1)            | 0.000661665 |      600 |                   0 |            6 |           16 |          10 |        0.801734  |       0.789676 |        0.79575  |                    2 |\n",
      "+----------------+----------+-----------------------+-------------------+-------------+----------+---------------------+--------------+--------------+-------------+------------------+----------------+-----------------+----------------------+\n",
      "\n",
      "\n"
     ]
    },
    {
     "name": "stderr",
     "output_type": "stream",
     "text": [
      "2021-01-19 15:51:49,669\tINFO logger.py:293 -- Removed the following hyperparameter values when logging to tensorboard: {'unfreeze_epochs': (0, 1)}\n"
     ]
    },
    {
     "name": "stdout",
     "output_type": "stream",
     "text": [
      "== Status ==\n",
      "Memory usage on this node: 22.1/31.3 GiB\n",
      "Using AsyncHyperBand: num_stopped=0\n",
      "Bracket: Iter 18.000: None | Iter 6.000: 0.9793680310249329\n",
      "Resources requested: 9/12 CPUs, 0.0/0 GPUs, 0.0/8.69 GiB heap, 0.0/2.98 GiB objects\n",
      "Current best trial: f01d85f8 with val_f1_epoch=0.9793680310249329 and parameters={'unfreeze_epochs': (0, 1), 'lr': 0.0007882232932100686, 'warmup': 200, 'gradient_clip_val': 0, 'max_epochs': 6, 'batch_size': 64, 'n_classes': 10}\n",
      "Result logdir: /home/peter/ray_results/boring-mnist_19_Jan_2021_15_50_41\n",
      "Number of trials: 3/3 (3 RUNNING)\n",
      "+----------------+----------+-----------------------+-------------------+-------------+----------+---------------------+--------------+--------------+-------------+------------------+----------------+-----------------+----------------------+\n",
      "| Trial name     | status   | loc                   | unfreeze_epochs   |          lr |   warmup |   gradient_clip_val |   max_epochs |   batch_size |   n_classes |   val_loss_epoch |   val_f1_epoch |   val_acc_epoch |   training_iteration |\n",
      "|----------------+----------+-----------------------+-------------------+-------------+----------+---------------------+--------------+--------------+-------------+------------------+----------------+-----------------+----------------------|\n",
      "| inner_f0147ae4 | RUNNING  | 192.168.1.135:1442948 | (0, 1)            | 0.000544761 |      500 |                   0 |            6 |           16 |          10 |        0.912488  |       0.765399 |        0.773667 |                    2 |\n",
      "| inner_f01d85f8 | RUNNING  | 192.168.1.135:1442947 | (0, 1)            | 0.000788223 |      200 |                   0 |            6 |           64 |          10 |        0.0675719 |       0.979368 |        0.9795   |                    6 |\n",
      "| inner_f01f0dec | RUNNING  | 192.168.1.135:1442939 | (0, 1)            | 0.000661665 |      600 |                   0 |            6 |           16 |          10 |        0.801734  |       0.789676 |        0.79575  |                    2 |\n",
      "+----------------+----------+-----------------------+-------------------+-------------+----------+---------------------+--------------+--------------+-------------+------------------+----------------+-----------------+----------------------+\n",
      "\n",
      "\n",
      "== Status ==\n",
      "Memory usage on this node: 21.3/31.3 GiB\n",
      "Using AsyncHyperBand: num_stopped=0\n",
      "Bracket: Iter 18.000: None | Iter 6.000: 0.9793680310249329\n",
      "Resources requested: 6/12 CPUs, 0.0/0 GPUs, 0.0/8.69 GiB heap, 0.0/2.98 GiB objects\n",
      "Current best trial: f01d85f8 with val_f1_epoch=0.9793680310249329 and parameters={'unfreeze_epochs': (0, 1), 'lr': 0.0007882232932100686, 'warmup': 200, 'gradient_clip_val': 0, 'max_epochs': 6, 'batch_size': 64, 'n_classes': 10}\n",
      "Result logdir: /home/peter/ray_results/boring-mnist_19_Jan_2021_15_50_41\n",
      "Number of trials: 3/3 (2 RUNNING, 1 TERMINATED)\n",
      "+----------------+------------+-----------------------+-------------------+-------------+----------+---------------------+--------------+--------------+-------------+------------------+----------------+-----------------+----------------------+\n",
      "| Trial name     | status     | loc                   | unfreeze_epochs   |          lr |   warmup |   gradient_clip_val |   max_epochs |   batch_size |   n_classes |   val_loss_epoch |   val_f1_epoch |   val_acc_epoch |   training_iteration |\n",
      "|----------------+------------+-----------------------+-------------------+-------------+----------+---------------------+--------------+--------------+-------------+------------------+----------------+-----------------+----------------------|\n",
      "| inner_f0147ae4 | RUNNING    | 192.168.1.135:1442948 | (0, 1)            | 0.000544761 |      500 |                   0 |            6 |           16 |          10 |        0.912488  |       0.765399 |        0.773667 |                    2 |\n",
      "| inner_f01f0dec | RUNNING    | 192.168.1.135:1442939 | (0, 1)            | 0.000661665 |      600 |                   0 |            6 |           16 |          10 |        0.0964496 |       0.970849 |        0.971167 |                    3 |\n",
      "| inner_f01d85f8 | TERMINATED |                       | (0, 1)            | 0.000788223 |      200 |                   0 |            6 |           64 |          10 |        0.0675719 |       0.979368 |        0.9795   |                    6 |\n",
      "+----------------+------------+-----------------------+-------------------+-------------+----------+---------------------+--------------+--------------+-------------+------------------+----------------+-----------------+----------------------+\n",
      "\n",
      "\n",
      "== Status ==\n",
      "Memory usage on this node: 21.4/31.3 GiB\n",
      "Using AsyncHyperBand: num_stopped=0\n",
      "Bracket: Iter 18.000: None | Iter 6.000: 0.9793680310249329\n",
      "Resources requested: 6/12 CPUs, 0.0/0 GPUs, 0.0/8.69 GiB heap, 0.0/2.98 GiB objects\n",
      "Current best trial: f01f0dec with val_f1_epoch=0.9806491732597351 and parameters={'unfreeze_epochs': (0, 1), 'lr': 0.0006616647925966468, 'warmup': 600, 'gradient_clip_val': 0, 'max_epochs': 6, 'batch_size': 16, 'n_classes': 10}\n",
      "Result logdir: /home/peter/ray_results/boring-mnist_19_Jan_2021_15_50_41\n",
      "Number of trials: 3/3 (2 RUNNING, 1 TERMINATED)\n",
      "+----------------+------------+-----------------------+-------------------+-------------+----------+---------------------+--------------+--------------+-------------+------------------+----------------+-----------------+----------------------+\n",
      "| Trial name     | status     | loc                   | unfreeze_epochs   |          lr |   warmup |   gradient_clip_val |   max_epochs |   batch_size |   n_classes |   val_loss_epoch |   val_f1_epoch |   val_acc_epoch |   training_iteration |\n",
      "|----------------+------------+-----------------------+-------------------+-------------+----------+---------------------+--------------+--------------+-------------+------------------+----------------+-----------------+----------------------|\n",
      "| inner_f0147ae4 | RUNNING    | 192.168.1.135:1442948 | (0, 1)            | 0.000544761 |      500 |                   0 |            6 |           16 |          10 |        0.103297  |       0.968745 |        0.969083 |                    3 |\n",
      "| inner_f01f0dec | RUNNING    | 192.168.1.135:1442939 | (0, 1)            | 0.000661665 |      600 |                   0 |            6 |           16 |          10 |        0.0661168 |       0.980649 |        0.980833 |                    4 |\n",
      "| inner_f01d85f8 | TERMINATED |                       | (0, 1)            | 0.000788223 |      200 |                   0 |            6 |           64 |          10 |        0.0675719 |       0.979368 |        0.9795   |                    6 |\n",
      "+----------------+------------+-----------------------+-------------------+-------------+----------+---------------------+--------------+--------------+-------------+------------------+----------------+-----------------+----------------------+\n",
      "\n",
      "\n",
      "== Status ==\n",
      "Memory usage on this node: 21.6/31.3 GiB\n",
      "Using AsyncHyperBand: num_stopped=0\n",
      "Bracket: Iter 18.000: None | Iter 6.000: 0.9793680310249329\n",
      "Resources requested: 6/12 CPUs, 0.0/0 GPUs, 0.0/8.69 GiB heap, 0.0/2.98 GiB objects\n",
      "Current best trial: f01f0dec with val_f1_epoch=0.983665943145752 and parameters={'unfreeze_epochs': (0, 1), 'lr': 0.0006616647925966468, 'warmup': 600, 'gradient_clip_val': 0, 'max_epochs': 6, 'batch_size': 16, 'n_classes': 10}\n",
      "Result logdir: /home/peter/ray_results/boring-mnist_19_Jan_2021_15_50_41\n",
      "Number of trials: 3/3 (2 RUNNING, 1 TERMINATED)\n",
      "+----------------+------------+-----------------------+-------------------+-------------+----------+---------------------+--------------+--------------+-------------+------------------+----------------+-----------------+----------------------+\n",
      "| Trial name     | status     | loc                   | unfreeze_epochs   |          lr |   warmup |   gradient_clip_val |   max_epochs |   batch_size |   n_classes |   val_loss_epoch |   val_f1_epoch |   val_acc_epoch |   training_iteration |\n",
      "|----------------+------------+-----------------------+-------------------+-------------+----------+---------------------+--------------+--------------+-------------+------------------+----------------+-----------------+----------------------|\n",
      "| inner_f0147ae4 | RUNNING    | 192.168.1.135:1442948 | (0, 1)            | 0.000544761 |      500 |                   0 |            6 |           16 |          10 |        0.0698343 |       0.978363 |        0.978583 |                    4 |\n",
      "| inner_f01f0dec | RUNNING    | 192.168.1.135:1442939 | (0, 1)            | 0.000661665 |      600 |                   0 |            6 |           16 |          10 |        0.0553231 |       0.983666 |        0.983833 |                    5 |\n",
      "| inner_f01d85f8 | TERMINATED |                       | (0, 1)            | 0.000788223 |      200 |                   0 |            6 |           64 |          10 |        0.0675719 |       0.979368 |        0.9795   |                    6 |\n",
      "+----------------+------------+-----------------------+-------------------+-------------+----------+---------------------+--------------+--------------+-------------+------------------+----------------+-----------------+----------------------+\n",
      "\n",
      "\n",
      "== Status ==\n",
      "Memory usage on this node: 21.6/31.3 GiB\n",
      "Using AsyncHyperBand: num_stopped=0\n",
      "Bracket: Iter 18.000: None | Iter 6.000: 0.9829921921094258\n",
      "Resources requested: 6/12 CPUs, 0.0/0 GPUs, 0.0/8.69 GiB heap, 0.0/2.98 GiB objects\n",
      "Current best trial: f01f0dec with val_f1_epoch=0.9848042726516724 and parameters={'unfreeze_epochs': (0, 1), 'lr': 0.0006616647925966468, 'warmup': 600, 'gradient_clip_val': 0, 'max_epochs': 6, 'batch_size': 16, 'n_classes': 10}\n",
      "Result logdir: /home/peter/ray_results/boring-mnist_19_Jan_2021_15_50_41\n",
      "Number of trials: 3/3 (2 RUNNING, 1 TERMINATED)\n",
      "+----------------+------------+-----------------------+-------------------+-------------+----------+---------------------+--------------+--------------+-------------+------------------+----------------+-----------------+----------------------+\n",
      "| Trial name     | status     | loc                   | unfreeze_epochs   |          lr |   warmup |   gradient_clip_val |   max_epochs |   batch_size |   n_classes |   val_loss_epoch |   val_f1_epoch |   val_acc_epoch |   training_iteration |\n",
      "|----------------+------------+-----------------------+-------------------+-------------+----------+---------------------+--------------+--------------+-------------+------------------+----------------+-----------------+----------------------|\n",
      "| inner_f0147ae4 | RUNNING    | 192.168.1.135:1442948 | (0, 1)            | 0.000544761 |      500 |                   0 |            6 |           16 |          10 |        0.0581501 |       0.982717 |        0.982833 |                    5 |\n",
      "| inner_f01f0dec | RUNNING    | 192.168.1.135:1442939 | (0, 1)            | 0.000661665 |      600 |                   0 |            6 |           16 |          10 |        0.0514779 |       0.984804 |        0.984917 |                    6 |\n",
      "| inner_f01d85f8 | TERMINATED |                       | (0, 1)            | 0.000788223 |      200 |                   0 |            6 |           64 |          10 |        0.0675719 |       0.979368 |        0.9795   |                    6 |\n",
      "+----------------+------------+-----------------------+-------------------+-------------+----------+---------------------+--------------+--------------+-------------+------------------+----------------+-----------------+----------------------+\n",
      "\n",
      "\n"
     ]
    },
    {
     "name": "stderr",
     "output_type": "stream",
     "text": [
      "2021-01-19 15:53:26,055\tINFO logger.py:293 -- Removed the following hyperparameter values when logging to tensorboard: {'unfreeze_epochs': (0, 1)}\n",
      "2021-01-19 15:53:27,552\tINFO logger.py:293 -- Removed the following hyperparameter values when logging to tensorboard: {'unfreeze_epochs': (0, 1)}\n",
      "2021-01-19 15:53:27,569\tINFO tune.py:448 -- Total run time: 165.97 seconds (165.93 seconds for the tuning loop).\n",
      "GPU available: False, used: False\n",
      "TPU available: None, using: 0 TPU cores\n"
     ]
    },
    {
     "name": "stdout",
     "output_type": "stream",
     "text": [
      "== Status ==\n",
      "Memory usage on this node: 20.9/31.3 GiB\n",
      "Using AsyncHyperBand: num_stopped=0\n",
      "Bracket: Iter 18.000: None | Iter 6.000: 0.9846401611963909\n",
      "Resources requested: 0/12 CPUs, 0.0/0 GPUs, 0.0/8.69 GiB heap, 0.0/2.98 GiB objects\n",
      "Current best trial: f01f0dec with val_f1_epoch=0.9848042726516724 and parameters={'unfreeze_epochs': (0, 1), 'lr': 0.0006616647925966468, 'warmup': 600, 'gradient_clip_val': 0, 'max_epochs': 6, 'batch_size': 16, 'n_classes': 10}\n",
      "Result logdir: /home/peter/ray_results/boring-mnist_19_Jan_2021_15_50_41\n",
      "Number of trials: 3/3 (3 TERMINATED)\n",
      "+----------------+------------+-------+-------------------+-------------+----------+---------------------+--------------+--------------+-------------+------------------+----------------+-----------------+----------------------+\n",
      "| Trial name     | status     | loc   | unfreeze_epochs   |          lr |   warmup |   gradient_clip_val |   max_epochs |   batch_size |   n_classes |   val_loss_epoch |   val_f1_epoch |   val_acc_epoch |   training_iteration |\n",
      "|----------------+------------+-------+-------------------+-------------+----------+---------------------+--------------+--------------+-------------+------------------+----------------+-----------------+----------------------|\n",
      "| inner_f0147ae4 | TERMINATED |       | (0, 1)            | 0.000544761 |      500 |                   0 |            6 |           16 |          10 |        0.0532781 |       0.984558 |        0.984667 |                    6 |\n",
      "| inner_f01d85f8 | TERMINATED |       | (0, 1)            | 0.000788223 |      200 |                   0 |            6 |           64 |          10 |        0.0675719 |       0.979368 |        0.9795   |                    6 |\n",
      "| inner_f01f0dec | TERMINATED |       | (0, 1)            | 0.000661665 |      600 |                   0 |            6 |           16 |          10 |        0.0514779 |       0.984804 |        0.984917 |                    6 |\n",
      "+----------------+------------+-------+-------------------+-------------+----------+---------------------+--------------+--------------+-------------+------------------+----------------+-----------------+----------------------+\n",
      "\n",
      "\n",
      "Best hyperparameters found were:  {'unfreeze_epochs': (0, 1), 'lr': 0.0006616647925966468, 'warmup': 600, 'gradient_clip_val': 0, 'max_epochs': 6, 'batch_size': 16, 'n_classes': 10}\n"
     ]
    },
    {
     "data": {
      "application/vnd.jupyter.widget-view+json": {
       "model_id": "",
       "version_major": 2,
       "version_minor": 0
      },
      "text/plain": [
       "HBox(children=(FloatProgress(value=1.0, bar_style='info', description='Testing', layout=Layout(flex='2'), max=…"
      ]
     },
     "metadata": {},
     "output_type": "display_data"
    },
    {
     "data": {
      "image/png": "[encoded data removed]",
      "text/plain": [
       "<Figure size 1440x864 with 3 Axes>"
      ]
     },
     "metadata": {},
     "output_type": "display_data"
    },
    {
     "data": {
      "application/vnd.jupyter.widget-view+json": {
       "model_id": "",
       "version_major": 2,
       "version_minor": 0
      },
      "text/plain": [
       "HBox(children=(FloatProgress(value=1.0, bar_style='info', description='Testing', layout=Layout(flex='2'), max=…"
      ]
     },
     "metadata": {},
     "output_type": "display_data"
    },
    {
     "ename": "AttributeError",
     "evalue": "'LoggingProgressBar' object has no attribute 'get_metrics_df'",
     "output_type": "error",
     "traceback": [
      "\u001b[0;31m---------------------------------------------------------------------------\u001b[0m",
      "\u001b[0;31mAttributeError\u001b[0m                            Traceback (most recent call last)",
      "\u001b[0;32m<ipython-input-22-fadfcc2f9ace>\u001b[0m in \u001b[0;36m<module>\u001b[0;34m\u001b[0m\n\u001b[1;32m      1\u001b[0m \u001b[0;32mif\u001b[0m \u001b[0;34m\"hyper-opt\"\u001b[0m \u001b[0;32min\u001b[0m \u001b[0mUSAGE_MODE_LIST\u001b[0m\u001b[0;34m:\u001b[0m\u001b[0;34m\u001b[0m\u001b[0;34m\u001b[0m\u001b[0m\n\u001b[0;32m----> 2\u001b[0;31m     best_result = runner.run_hyper_opt(\n\u001b[0m\u001b[1;32m      3\u001b[0m         \u001b[0mLMODULE_CLASS\u001b[0m\u001b[0;34m,\u001b[0m\u001b[0;34m\u001b[0m\u001b[0;34m\u001b[0m\u001b[0m\n\u001b[1;32m      4\u001b[0m         \u001b[0mSEARCH_SPACE_CONFIG\u001b[0m\u001b[0;34m,\u001b[0m\u001b[0;34m\u001b[0m\u001b[0;34m\u001b[0m\u001b[0m\n\u001b[1;32m      5\u001b[0m         \u001b[0mTUNE_CONFIG\u001b[0m\u001b[0;34m,\u001b[0m\u001b[0;34m\u001b[0m\u001b[0;34m\u001b[0m\u001b[0m\n",
      "\u001b[0;32m~/_Git/_DLSchool/pytorch-hyperlight/products/pytorch-hyperlight/pytorch_hyperlight/runner/runner.py\u001b[0m in \u001b[0;36mrun_hyper_opt\u001b[0;34m(self, lmodule_class, run_name, run_name_prefix, extra_run_name_prefix, *args, **kwargs)\u001b[0m\n\u001b[1;32m     73\u001b[0m         \u001b[0;34m**\u001b[0m\u001b[0mkwargs\u001b[0m\u001b[0;34m,\u001b[0m\u001b[0;34m\u001b[0m\u001b[0;34m\u001b[0m\u001b[0m\n\u001b[1;32m     74\u001b[0m     ):\n\u001b[0;32m---> 75\u001b[0;31m         \u001b[0mresult_dict\u001b[0m \u001b[0;34m=\u001b[0m \u001b[0msuper\u001b[0m\u001b[0;34m(\u001b[0m\u001b[0;34m)\u001b[0m\u001b[0;34m.\u001b[0m\u001b[0mrun_hyper_opt\u001b[0m\u001b[0;34m(\u001b[0m\u001b[0mlmodule_class\u001b[0m\u001b[0;34m,\u001b[0m \u001b[0;34m*\u001b[0m\u001b[0margs\u001b[0m\u001b[0;34m,\u001b[0m \u001b[0;34m**\u001b[0m\u001b[0mkwargs\u001b[0m\u001b[0;34m)\u001b[0m\u001b[0;34m\u001b[0m\u001b[0;34m\u001b[0m\u001b[0m\n\u001b[0m\u001b[1;32m     76\u001b[0m         run_name = self.__generate_run_name(\n\u001b[1;32m     77\u001b[0m             \u001b[0mrun_name\u001b[0m\u001b[0;34m,\u001b[0m \u001b[0mrun_name_prefix\u001b[0m\u001b[0;34m,\u001b[0m \u001b[0mextra_run_name_prefix\u001b[0m\u001b[0;34m,\u001b[0m \u001b[0mlmodule_class\u001b[0m\u001b[0;34m\u001b[0m\u001b[0;34m\u001b[0m\u001b[0m\n",
      "\u001b[0;32m~/_Git/_DLSchool/pytorch-hyperlight/products/pytorch-hyperlight/pytorch_hyperlight/runner/base_runner.py\u001b[0m in \u001b[0;36mrun_hyper_opt\u001b[0;34m(self, lmodule_class, search_space_config, tune_config, f_tune_init, f_run_tune_experiment)\u001b[0m\n\u001b[1;32m    283\u001b[0m         )\n\u001b[1;32m    284\u001b[0m \u001b[0;34m\u001b[0m\u001b[0m\n\u001b[0;32m--> 285\u001b[0;31m         \u001b[0mmetrics_df\u001b[0m \u001b[0;34m=\u001b[0m \u001b[0mlprogress_bar_callback\u001b[0m\u001b[0;34m.\u001b[0m\u001b[0mget_metrics_df\u001b[0m\u001b[0;34m(\u001b[0m\u001b[0;34m)\u001b[0m\u001b[0;34m\u001b[0m\u001b[0;34m\u001b[0m\u001b[0m\n\u001b[0m\u001b[1;32m    286\u001b[0m         \u001b[0mmetrics_df\u001b[0m\u001b[0;34m.\u001b[0m\u001b[0mepoch\u001b[0m \u001b[0;34m=\u001b[0m \u001b[0mbest_epoch\u001b[0m\u001b[0;34m\u001b[0m\u001b[0;34m\u001b[0m\u001b[0m\n\u001b[1;32m    287\u001b[0m         \u001b[0mtrial_metrics\u001b[0m \u001b[0;34m=\u001b[0m \u001b[0mTrialMetrics\u001b[0m\u001b[0;34m(\u001b[0m\u001b[0mmetrics_df\u001b[0m\u001b[0;34m)\u001b[0m\u001b[0;34m\u001b[0m\u001b[0;34m\u001b[0m\u001b[0m\n",
      "\u001b[0;31mAttributeError\u001b[0m: 'LoggingProgressBar' object has no attribute 'get_metrics_df'"
     ]
    }
   ],
   "source": [
    "if \"hyper-opt\" in USAGE_MODE_LIST:\n",
    "    best_result = runner.run_hyper_opt(\n",
    "        LMODULE_CLASS,\n",
    "        SEARCH_SPACE_CONFIG,\n",
    "        TUNE_CONFIG,\n",
    "    )\n",
    "    best_result[\"metrics\"].df"
   ]
  },
  {
   "cell_type": "markdown",
   "metadata": {},
   "source": [
    "### Let us look at the results"
   ]
  },
  {
   "cell_type": "code",
   "execution_count": null,
   "metadata": {},
   "outputs": [],
   "source": [
    "DEVICE = torch.device(\"cuda\" if torch.cuda.is_available() else \"cpu\")"
   ]
  },
  {
   "cell_type": "code",
   "execution_count": null,
   "metadata": {},
   "outputs": [],
   "source": [
    "def predict_one_sample(model, inputs, device=DEVICE):\n",
    "    with torch.no_grad():\n",
    "        inputs = inputs.to(device)\n",
    "        model.eval()\n",
    "        logit = model(inputs).cpu()\n",
    "        probs = torch.nn.functional.softmax(logit, dim=-1).numpy()\n",
    "    return probs"
   ]
  },
  {
   "cell_type": "code",
   "execution_count": null,
   "metadata": {},
   "outputs": [],
   "source": [
    "def show_some_predictions(loaders_dict, lmodule):\n",
    "    fig, ax = plt.subplots(nrows=3, ncols=3, figsize=(12, 12), sharey=True, sharex=True)\n",
    "    for fig_x in ax.flatten():\n",
    "        random_characters = int(np.random.uniform(0, 1000))\n",
    "        im_val, label = loaders_dict[\"val_dataset\"][random_characters]\n",
    "        img_label = \" \".join(\n",
    "            map(\n",
    "                lambda x: x.capitalize(),\n",
    "                MNIST.classes[label].split(\"_\"),\n",
    "            )\n",
    "        )\n",
    "\n",
    "        imshow(im_val.data.cpu(), title=img_label, plt_ax=fig_x)\n",
    "\n",
    "        fig_x.add_patch(patches.Rectangle((0, 0), 10, 5, color=\"white\"))\n",
    "        font0 = FontProperties()\n",
    "        font = font0.copy()\n",
    "        font.set_family(\"fantasy\")\n",
    "        prob_pred = predict_one_sample(lmodule, im_val.unsqueeze(0))\n",
    "        predicted_proba = np.max(prob_pred) * 100\n",
    "        y_pred = np.argmax(prob_pred)\n",
    "\n",
    "        predicted_label = MNIST.classes[y_pred]\n",
    "        predicted_label = (\n",
    "            predicted_label[: len(predicted_label) // 2]\n",
    "            + \"\\n\"\n",
    "            + predicted_label[len(predicted_label) // 2 :]\n",
    "        )\n",
    "        predicted_text = \"{} : {:.0f}%\".format(predicted_label, predicted_proba)\n",
    "\n",
    "        fig_x.text(\n",
    "            1,\n",
    "            2,\n",
    "            predicted_text,\n",
    "            horizontalalignment=\"left\",\n",
    "            fontproperties=font,\n",
    "            verticalalignment=\"top\",\n",
    "            fontsize=8,\n",
    "            color=\"black\",\n",
    "            fontweight=\"bold\",\n",
    "        )"
   ]
  },
  {
   "cell_type": "code",
   "execution_count": null,
   "metadata": {},
   "outputs": [],
   "source": [
    "def predict(model, test_loader):\n",
    "    with torch.no_grad():\n",
    "        logits = []\n",
    "\n",
    "        for inputs, _ in test_loader:\n",
    "            inputs = inputs.to(DEVICE)\n",
    "            model.eval()\n",
    "            outputs = model(inputs).cpu()\n",
    "            logits.append(outputs)\n",
    "\n",
    "    probs = nn.functional.softmax(torch.cat(logits), dim=-1).numpy()\n",
    "    return probs"
   ]
  },
  {
   "cell_type": "code",
   "execution_count": null,
   "metadata": {},
   "outputs": [],
   "source": [
    "show_some_predictions(loaders_dict, best_result[\"lmodule_best\"])"
   ]
  },
  {
   "cell_type": "markdown",
   "metadata": {},
   "source": [
    "### Re-train the model on all available data with the same hyper-parameters"
   ]
  },
  {
   "cell_type": "code",
   "execution_count": null,
   "metadata": {},
   "outputs": [],
   "source": [
    "FT_TUNE_CONFIG = TUNE_CONFIG.copy()\n",
    "FT_TUNE_CONFIG[\"val_loader_name\"] = None\n",
    "FT_TUNE_CONFIG[\"train_loader_name\"] = \"full_train_loader\"\n",
    "FT_TUNE_CONFIG[\"metric_to_optimize\"] = \"train_f1_epoch\""
   ]
  },
  {
   "cell_type": "code",
   "execution_count": null,
   "metadata": {},
   "outputs": [],
   "source": [
    "FT_CONFIG = CONFIG.copy()\n",
    "# Train for a number of epochs found to be optimal during the hyper-parameter search\n",
    "FT_CONFIG[\"max_epochs\"] = best_result[\"best_epoch\"]"
   ]
  },
  {
   "cell_type": "code",
   "execution_count": null,
   "metadata": {},
   "outputs": [],
   "source": [
    "full_train_result = runner.run_single_trial(\n",
    "    LMODULE_CLASS,\n",
    "    FT_CONFIG,\n",
    "    FT_TUNE_CONFIG,\n",
    ")"
   ]
  },
  {
   "cell_type": "markdown",
   "metadata": {},
   "source": [
    "### Look at prediction results again"
   ]
  },
  {
   "cell_type": "code",
   "execution_count": null,
   "metadata": {
    "collapsed": false,
    "jupyter": {
     "outputs_hidden": false
    },
    "pycharm": {
     "name": "#%%\n"
    }
   },
   "outputs": [],
   "source": [
    "show_some_predictions(loaders_dict, full_train_result[\"lmodule_best\"])"
   ]
  },
  {
   "cell_type": "markdown",
   "metadata": {},
   "source": [
    "### Show the report comparing the single run and the result of hyper-parameter optimization"
   ]
  },
  {
   "cell_type": "code",
   "execution_count": null,
   "metadata": {},
   "outputs": [],
   "source": [
    "runner.show_metric_report(sort_by_metric_list=['test_f1', 'test_acc', \"test_loss\"])"
   ]
  },
  {
   "cell_type": "markdown",
   "metadata": {},
   "source": [
    "### Get the last observed metrics for both single-run and hyper-parameter optimization as Pandas DataFrame"
   ]
  },
  {
   "cell_type": "code",
   "execution_count": null,
   "metadata": {},
   "outputs": [],
   "source": [
    "runner.get_metrics()['run_x_last_metric_df']"
   ]
  },
  {
   "cell_type": "markdown",
   "metadata": {},
   "source": [
    "### Get the time-series metrics for both single-run and hyper-parameter optimization as Pandas DataFrame"
   ]
  },
  {
   "cell_type": "code",
   "execution_count": null,
   "metadata": {},
   "outputs": [],
   "source": [
    "runner.get_metrics()['epoch_x_stage_run_metric'].df"
   ]
  }
 ],
 "metadata": {
  "accelerator": "GPU",
  "colab": {
   "collapsed_sections": [],
   "machine_shape": "hm",
   "name": "[homework]BERT_for_text_classification.ipynb",
   "provenance": []
  },
  "kernelspec": {
   "display_name": "Python 3",
   "language": "python",
   "name": "python3"
  },
  "language_info": {
   "codemirror_mode": {
    "name": "ipython",
    "version": 3
   },
   "file_extension": ".py",
   "mimetype": "text/x-python",
   "name": "python",
   "nbconvert_exporter": "python",
   "pygments_lexer": "ipython3",
   "version": "3.8.5"
  },
  "widgets": {
   "application/vnd.jupyter.widget-state+json": {
    "state": {},
    "version_major": 2,
    "version_minor": 0
   }
  }
 },
 "nbformat": 4,
 "nbformat_minor": 4
}
