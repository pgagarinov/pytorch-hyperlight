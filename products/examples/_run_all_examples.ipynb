{
 "cells": [
  {
   "cell_type": "code",
   "execution_count": 1,
   "metadata": {},
   "outputs": [],
   "source": [
    "import papermill as pm\n",
    "from pathlib import Path\n",
    "import tempfile\n",
    "import shutil\n",
    "from tqdm.auto import tqdm\n",
    "import os"
   ]
  },
  {
   "cell_type": "code",
   "execution_count": 2,
   "metadata": {},
   "outputs": [],
   "source": [
    "if 'workbookDir' not in globals():\n",
    "    workbookDir = os.getcwd()"
   ]
  },
  {
   "cell_type": "code",
   "execution_count": 3,
   "metadata": {},
   "outputs": [],
   "source": [
    "EXAMPLES_FOLDER = Path(workbookDir)"
   ]
  },
  {
   "cell_type": "code",
   "execution_count": 4,
   "metadata": {},
   "outputs": [],
   "source": [
    "def get_notebook_list():\n",
    "    glob_iter = EXAMPLES_FOLDER.glob(\"*.ipynb\")\n",
    "    notebook_files = [x for x in glob_iter if x.is_file()]\n",
    "    notebook_files = [\n",
    "        file_name for file_name in notebook_files if not file_name.name.startswith(\"_\")\n",
    "    ]\n",
    "    return notebook_files\n",
    "\n",
    "\n",
    "def run_notebook(notebook_filename, fast_dev_run=False, out_file=None):\n",
    "    with tempfile.TemporaryDirectory() as tmp_dir_name:\n",
    "        assert len(tmp_dir_name) > 1\n",
    "        if out_file is None:\n",
    "            out_file = Path(tmp_dir_name) / notebook_filename.name\n",
    "        pm.execute_notebook(\n",
    "            notebook_filename,\n",
    "            out_file,\n",
    "            {\"FAST_DEV_RUN\": fast_dev_run},\n",
    "        )"
   ]
  },
  {
   "cell_type": "code",
   "execution_count": 5,
   "metadata": {},
   "outputs": [],
   "source": [
    "notebook_list = sorted(get_notebook_list())"
   ]
  },
  {
   "cell_type": "code",
   "execution_count": 6,
   "metadata": {},
   "outputs": [
    {
     "data": {
      "application/vnd.jupyter.widget-view+json": {
       "model_id": "b536e05f4eb044e6990215d5a93d8abf",
       "version_major": 2,
       "version_minor": 0
      },
      "text/plain": [
       "  0%|          | 0/4 [00:00<?, ?it/s]"
      ]
     },
     "metadata": {},
     "output_type": "display_data"
    },
    {
     "name": "stdout",
     "output_type": "stream",
     "text": [
      "Running boring_mnist.ipynb...\n"
     ]
    },
    {
     "data": {
      "application/vnd.jupyter.widget-view+json": {
       "model_id": "f06bc3f6b19042598905d4940408ef6e",
       "version_major": 2,
       "version_minor": 0
      },
      "text/plain": [
       "Executing:   0%|          | 0/50 [00:00<?, ?cell/s]"
      ]
     },
     "metadata": {},
     "output_type": "display_data"
    },
    {
     "name": "stdout",
     "output_type": "stream",
     "text": [
      "Running boring_mnist.ipynb...: done\n",
      "Running boring_mnist_model_comparison.ipynb...\n"
     ]
    },
    {
     "data": {
      "application/vnd.jupyter.widget-view+json": {
       "model_id": "30d0d8c91429436e9431db4170e2b4bd",
       "version_major": 2,
       "version_minor": 0
      },
      "text/plain": [
       "Executing:   0%|          | 0/51 [00:00<?, ?cell/s]"
      ]
     },
     "metadata": {},
     "output_type": "display_data"
    },
    {
     "name": "stdout",
     "output_type": "stream",
     "text": [
      "Running boring_mnist_model_comparison.ipynb...: done\n",
      "Running multi_style_nst.ipynb...\n"
     ]
    },
    {
     "data": {
      "application/vnd.jupyter.widget-view+json": {
       "model_id": "5d8e88af11514176adc215682da6c29b",
       "version_major": 2,
       "version_minor": 0
      },
      "text/plain": [
       "Executing:   0%|          | 0/40 [00:00<?, ?cell/s]"
      ]
     },
     "metadata": {},
     "output_type": "display_data"
    },
    {
     "name": "stdout",
     "output_type": "stream",
     "text": [
      "Running multi_style_nst.ipynb...: done\n",
      "Running semantic_segmentation_model_comparison.ipynb...\n"
     ]
    },
    {
     "data": {
      "application/vnd.jupyter.widget-view+json": {
       "model_id": "e55eb171a7704cfe9b0ee10d3e8094d8",
       "version_major": 2,
       "version_minor": 0
      },
      "text/plain": [
       "Executing:   0%|          | 0/77 [00:00<?, ?cell/s]"
      ]
     },
     "metadata": {},
     "output_type": "display_data"
    },
    {
     "name": "stdout",
     "output_type": "stream",
     "text": [
      "Running semantic_segmentation_model_comparison.ipynb...: done\n"
     ]
    }
   ],
   "source": [
    "t_list = tqdm(notebook_list)\n",
    "for file_name in t_list:\n",
    "    msg = f'Running {file_name.name}'\n",
    "    t_list.write(msg)\n",
    "    bak_file_name = file_name.with_suffix('.ipynb.bak')\n",
    "    shutil.copy(file_name, bak_file_name)\n",
    "    run_notebook(file_name, fast_dev_run=False, out_file=file_name)"
   ]
  }
 ],
 "metadata": {
  "kernelspec": {
   "display_name": "Python 3",
   "language": "python",
   "name": "python3"
  },
  "language_info": {
   "codemirror_mode": {
    "name": "ipython",
    "version": 3
   },
   "file_extension": ".py",
   "mimetype": "text/x-python",
   "name": "python",
   "nbconvert_exporter": "python",
   "pygments_lexer": "ipython3",
   "version": "3.8.5"
  }
 },
 "nbformat": 4,
 "nbformat_minor": 4
}
