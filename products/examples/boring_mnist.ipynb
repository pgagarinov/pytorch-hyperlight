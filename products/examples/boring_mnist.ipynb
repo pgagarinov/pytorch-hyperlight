{
 "cells": [
  {
   "cell_type": "code",
   "execution_count": 1,
   "metadata": {},
   "outputs": [
    {
     "name": "stderr",
     "output_type": "stream",
     "text": [
      "/home/peter/.conda/envs/ml-devenv/lib/python3.8/site-packages/wandb/util.py:37: DeprecationWarning: Using or importing the ABCs from 'collections' instead of from 'collections.abc' is deprecated since Python 3.3, and in 3.9 it will stop working\n",
      "  from collections import namedtuple, Mapping, Sequence\n",
      "/home/peter/.conda/envs/ml-devenv/lib/python3.8/site-packages/wandb/vendor/graphql-core-1.1/graphql/type/directives.py:55: DeprecationWarning: Using or importing the ABCs from 'collections' instead of from 'collections.abc' is deprecated since Python 3.3, and in 3.9 it will stop working\n",
      "  assert isinstance(locations, collections.Iterable), 'Must provide locations for directive.'\n"
     ]
    }
   ],
   "source": [
    "import warnings\n",
    "from pathlib import Path\n",
    "\n",
    "import matplotlib.patches as patches\n",
    "\n",
    "#\n",
    "import numpy as np\n",
    "import pytorch_hyperlight as pth\n",
    "\n",
    "#\n",
    "###\n",
    "import pytorch_lightning as pl\n",
    "import pytorch_lightning.metrics as metrics\n",
    "import torch\n",
    "import torch.nn.functional as F\n",
    "\n",
    "#\n",
    "from matplotlib import pyplot as plt\n",
    "from matplotlib.font_manager import FontProperties\n",
    "from pytorch_lightning import Callback\n",
    "\n",
    "###\n",
    "from ray import tune\n",
    "\n",
    "#\n",
    "from torch import nn\n",
    "from torch.utils.data import DataLoader, random_split\n",
    "from torchvision import transforms\n",
    "from torchvision.datasets.mnist import MNIST\n",
    "from transformers import AdamW, get_linear_schedule_with_warmup"
   ]
  },
  {
   "cell_type": "code",
   "execution_count": 2,
   "metadata": {
    "tags": [
     "parameters"
    ]
   },
   "outputs": [
    {
     "name": "stderr",
     "output_type": "stream",
     "text": [
      "/home/peter/.local/lib/python3.8/site-packages/ipykernel/ipkernel.py:287: DeprecationWarning: `should_run_async` will not call `transform_cell` automatically in the future. Please pass the result to `transformed_cell` argument and any exception that happen during thetransform in `preprocessing_exc_tuple` in IPython 7.17 and above.\n",
      "  and should_run_async(code)\n"
     ]
    }
   ],
   "source": [
    "# USAGE_MODE = \"single-run\"  # choose from 'single-run' and 'hyper-opt'\n",
    "USAGE_MODE = \"hyper-opt\"  # choose from 'single-run' and 'hyper-opt'\n",
    "FAST_DEV_RUN = True  # if true, simplifed configurations running for just a few epochs are used for making sure there are no obvious bugs"
   ]
  },
  {
   "cell_type": "code",
   "execution_count": 3,
   "metadata": {},
   "outputs": [],
   "source": [
    "EXPERIMENT_ID = \"boring-mnist\"\n",
    "\n",
    "DATASETS_PATH = Path(\"/home/peter/_Git/_ML/dlschool-solutions/term1/task5/data\")\n",
    "\n",
    "warnings.filterwarnings(\"ignore\")\n",
    "\n",
    "\n",
    "# a dedicated function for creating datasets\n",
    "# please note how 'full_train_dataset' is created along with train,\n",
    "# val and test datasets\n",
    "def create_datasets(val_size=0.2):\n",
    "    SEED = 16\n",
    "    pl.seed_everything(SEED)\n",
    "    #\n",
    "    full_train_dataset = MNIST(\n",
    "        DATASETS_PATH, train=True, download=True, transform=transforms.ToTensor()\n",
    "    )\n",
    "    test_dataset = MNIST(\n",
    "        DATASETS_PATH, train=False, download=True, transform=transforms.ToTensor()\n",
    "    )\n",
    "    n_full_train_samples = len(full_train_dataset)\n",
    "    n_val_samples = int(n_full_train_samples * val_size)\n",
    "    train_dataset, val_dataset = random_split(\n",
    "        full_train_dataset, [n_full_train_samples - n_val_samples, n_val_samples]\n",
    "    )\n",
    "\n",
    "    n_classes = len(MNIST.classes)\n",
    "\n",
    "    return {\n",
    "        \"full_train_dataset\": full_train_dataset,\n",
    "        \"train_dataset\": train_dataset,\n",
    "        \"val_dataset\": val_dataset,\n",
    "        \"test_dataset\": test_dataset,\n",
    "        \"n_classes\": n_classes,\n",
    "    }"
   ]
  },
  {
   "cell_type": "code",
   "execution_count": 4,
   "metadata": {
    "id": "uJ6-Ce3Fuhno"
   },
   "outputs": [],
   "source": [
    "def imshow(inp, title=None, plt_ax=plt, default=False):\n",
    "    \"\"\"Imshow for tensors\"\"\"\n",
    "    inp = inp.numpy().transpose((1, 2, 0))\n",
    "    mean = np.array([0.485, 0.456, 0.406])\n",
    "    std = np.array([0.229, 0.224, 0.225])\n",
    "    inp = std * inp + mean\n",
    "    inp = np.clip(inp, 0, 1)\n",
    "    plt_ax.imshow(inp)\n",
    "    if title is not None:\n",
    "        plt_ax.set_title(title)\n",
    "    plt_ax.grid(False)"
   ]
  },
  {
   "cell_type": "code",
   "execution_count": 5,
   "metadata": {
    "collapsed": false,
    "jupyter": {
     "outputs_hidden": false
    },
    "pycharm": {
     "name": "#%%\n"
    }
   },
   "outputs": [],
   "source": [
    "# a dedicated function for creating dataloaders\n",
    "# 'full_train_loader' is created along with standard 3 loaderers\n",
    "# for training, validation and testing datasets\n",
    "def configure_dataloaders(batch_size, n_workers=4, val_size=0.2):\n",
    "    #\n",
    "    SHUFFLE = True\n",
    "    SAMPLER = None\n",
    "    #\n",
    "    result_dict = create_datasets(val_size)\n",
    "    #\n",
    "    for prefix in [\"train\", \"full_train\"]:\n",
    "\n",
    "        result_dict[f\"{prefix}_loader\"] = DataLoader(\n",
    "            result_dict[f\"{prefix}_dataset\"],\n",
    "            batch_size=batch_size,\n",
    "            shuffle=SHUFFLE,\n",
    "            sampler=SAMPLER,\n",
    "            num_workers=n_workers,\n",
    "            pin_memory=True,\n",
    "        )\n",
    "    #\n",
    "    for prefix in [\"val\", \"test\"]:\n",
    "        result_dict[f\"{prefix}_loader\"] = DataLoader(\n",
    "            result_dict[f\"{prefix}_dataset\"],\n",
    "            batch_size=batch_size,\n",
    "            shuffle=False,\n",
    "            num_workers=n_workers,\n",
    "            pin_memory=True,\n",
    "        )\n",
    "\n",
    "    return result_dict"
   ]
  },
  {
   "cell_type": "markdown",
   "metadata": {},
   "source": [
    "Let us make sure our dataloaders can be created correctly"
   ]
  },
  {
   "cell_type": "code",
   "execution_count": 6,
   "metadata": {},
   "outputs": [],
   "source": [
    "BATCH_SIZE = 32\n",
    "\n",
    "loaders_dict = configure_dataloaders(BATCH_SIZE)\n",
    "\n",
    "loaders_dict\n",
    "\n",
    "batch = next(iter(loaders_dict[\"train_loader\"]))\n",
    "assert len(batch[0]) > 0"
   ]
  },
  {
   "cell_type": "code",
   "execution_count": 7,
   "metadata": {},
   "outputs": [
    {
     "data": {
      "text/plain": [
       "60000"
      ]
     },
     "execution_count": 7,
     "metadata": {},
     "output_type": "execute_result"
    }
   ],
   "source": [
    "result_dict = create_datasets(0.2)\n",
    "len(result_dict[\"full_train_dataset\"])"
   ]
  },
  {
   "cell_type": "code",
   "execution_count": 8,
   "metadata": {},
   "outputs": [
    {
     "data": {
      "text/plain": [
       "10"
      ]
     },
     "execution_count": 8,
     "metadata": {},
     "output_type": "execute_result"
    }
   ],
   "source": [
    "loaders_dict[\"n_classes\"]"
   ]
  },
  {
   "cell_type": "markdown",
   "metadata": {},
   "source": [
    "### Defining the model"
   ]
  },
  {
   "cell_type": "markdown",
   "metadata": {},
   "source": [
    "Let define a dedicated class for metrics calculation"
   ]
  },
  {
   "cell_type": "code",
   "execution_count": 9,
   "metadata": {},
   "outputs": [],
   "source": [
    "class LitMetricsCalc(torch.nn.Module):\n",
    "    def __init__(self, prefix, num_classes):\n",
    "        super(LitMetricsCalc, self).__init__()\n",
    "        self.acc = metrics.classification.Accuracy()\n",
    "        self.f1 = metrics.classification.F1(num_classes=num_classes, average=\"macro\")\n",
    "        self.rec = metrics.classification.Recall(\n",
    "            num_classes=num_classes, average=\"macro\"\n",
    "        )\n",
    "        self.prec = metrics.classification.Precision(\n",
    "            num_classes=num_classes, average=\"macro\"\n",
    "        )\n",
    "        self.prefix = prefix\n",
    "\n",
    "    def step(self, logit, target):\n",
    "        probs = torch.softmax(logit, dim=1)\n",
    "        prefix = self.prefix\n",
    "        self.acc(probs, target)\n",
    "        self.f1(probs, target)\n",
    "\n",
    "        return {\n",
    "            f\"{prefix}_acc\": self.acc,\n",
    "            f\"{prefix}_f1\": self.f1,\n",
    "        }"
   ]
  },
  {
   "cell_type": "code",
   "execution_count": 10,
   "metadata": {
    "collapsed": false,
    "jupyter": {
     "outputs_hidden": false
    },
    "pycharm": {
     "name": "#%%\n"
    }
   },
   "outputs": [],
   "source": [
    "class BoringMNIST(nn.Module):\n",
    "    def __init__(self, n_classes):\n",
    "        super().__init__()\n",
    "        self.conv1 = nn.Conv2d(1, 6, 3)\n",
    "        self.conv2 = nn.Conv2d(6, 16, 3)\n",
    "        self.fc1 = nn.Linear(16 * 5 * 5, 120)\n",
    "        self.fc2 = nn.Linear(120, 84)\n",
    "        self.fc3 = nn.Linear(84, n_classes)\n",
    "\n",
    "    def forward(self, x):\n",
    "        x = F.max_pool2d(F.relu(self.conv1(x)), (2, 2))\n",
    "        x = F.max_pool2d(F.relu(self.conv2(x)), 2)\n",
    "        x = x.view(-1, int(x.nelement() / x.shape[0]))\n",
    "        x = F.relu(self.fc1(x))\n",
    "        x = F.relu(self.fc2(x))\n",
    "        x = self.fc3(x)\n",
    "        return x"
   ]
  },
  {
   "cell_type": "code",
   "execution_count": 11,
   "metadata": {},
   "outputs": [],
   "source": [
    "class LitBoringMNIST(pl.LightningModule):\n",
    "    def __init__(self, hparams):\n",
    "        super().__init__()\n",
    "        self.hparams = hparams\n",
    "        #\n",
    "        n_classes = self.hparams.n_classes\n",
    "        #\n",
    "        model = BoringMNIST(n_classes)\n",
    "        #\n",
    "        self.model = model\n",
    "        self.train_metric_calc = LitMetricsCalc(\"train\", num_classes=n_classes)\n",
    "        self.val_metric_calc = LitMetricsCalc(\"val\", num_classes=n_classes)\n",
    "        self.test_metric_calc = LitMetricsCalc(\"test\", num_classes=n_classes)\n",
    "        self.freeze()\n",
    "\n",
    "    def freeze(self):\n",
    "        for param in self.model.parameters():\n",
    "            param.requires_grad = False\n",
    "\n",
    "    def unfreeze(self):\n",
    "        for param in self.model.parameters():\n",
    "            param.requires_grad = True\n",
    "\n",
    "    def unfreeze_tail(self, ind_layer):\n",
    "        assert ind_layer >= 0\n",
    "        ind = ind_layer\n",
    "        while True:\n",
    "            if ind == 0:\n",
    "                for param in self.model.fc3.parameters():\n",
    "                    param.requires_grad = True\n",
    "            elif ind == 1:\n",
    "                for param in self.model.fc2.parameters():\n",
    "                    param.requires_grad = True\n",
    "            elif ind == 2:\n",
    "                for param in self.model.fc1.parameters():\n",
    "                    param.requires_grad = True\n",
    "            ind -= 1\n",
    "            if ind < 0:\n",
    "                break\n",
    "\n",
    "    def configure_optimizers(self):\n",
    "        optimizer = AdamW(\n",
    "            self.model.parameters(),\n",
    "            lr=self.hparams.lr,\n",
    "        )\n",
    "\n",
    "        scheduler = get_linear_schedule_with_warmup(\n",
    "            optimizer, self.hparams.warmup, self.hparams.n_train_steps\n",
    "        )\n",
    "        return [optimizer], [\n",
    "            {\"scheduler\": scheduler, \"interval\": \"step\", \"frequency\": 1}\n",
    "        ]\n",
    "\n",
    "    def forward(self, inputs):\n",
    "        logits = self.model(inputs)\n",
    "        return logits\n",
    "\n",
    "    def forward_batch(self, batch):\n",
    "        inputs = batch[0]\n",
    "        return self(inputs)\n",
    "\n",
    "    def __calc_loss(self, logits, target, log_label):\n",
    "        loss = F.cross_entropy(logits, target)\n",
    "        self.log(f\"{log_label}_loss\", loss, prog_bar=True, on_step=True, on_epoch=True)\n",
    "        return loss\n",
    "\n",
    "    def __stage_step(self, metric_calc, batch, batch_idx, stage):\n",
    "        logits = self.forward_batch(batch)\n",
    "        mval_dict = metric_calc.step(logits, batch[1])\n",
    "        self.log_dict(mval_dict, prog_bar=True, on_step=True, on_epoch=True)\n",
    "        loss = self.__calc_loss(logits, batch[1], stage)\n",
    "        return loss\n",
    "\n",
    "    def training_step(self, batch, batch_idx):\n",
    "        return self.__stage_step(self.train_metric_calc, batch, batch_idx, \"train\")\n",
    "\n",
    "    def test_step(self, batch, batch_idx):\n",
    "        return self.__stage_step(self.test_metric_calc, batch, batch_idx, \"test\")\n",
    "\n",
    "    def validation_step(self, batch, batch_idx):\n",
    "        return self.__stage_step(self.val_metric_calc, batch, batch_idx, \"val\")"
   ]
  },
  {
   "cell_type": "code",
   "execution_count": 12,
   "metadata": {
    "collapsed": false,
    "jupyter": {
     "outputs_hidden": false
    },
    "pycharm": {
     "name": "#%%\n"
    }
   },
   "outputs": [],
   "source": [
    "N_CLASSES = loaders_dict[\"n_classes\"]\n",
    "LMODULE_CLASS = LitBoringMNIST\n",
    "GPU_PER_TRIAL = 0.3 * torch.cuda.is_available()"
   ]
  },
  {
   "cell_type": "code",
   "execution_count": 13,
   "metadata": {},
   "outputs": [],
   "source": [
    "CONFIG = {\n",
    "    \"lr\": 1e-3,  # Initial learning rate\n",
    "    \"warmup\": 200,  # For LinearSchedulerWihtWarmup\n",
    "    \"gradient_clip_val\": 0,\n",
    "    \"max_epochs\": 6,  # the actual number can be less due to early stopping\n",
    "    \"batch_size\": 64,\n",
    "    \"n_classes\": N_CLASSES,\n",
    "    \"unfreeze_epochs\": [0, 1]  # 2-phase unfreeze,\n",
    "    #    unfreeze the tip of the tail at the start of epoch 0,\n",
    "    #    then unfreeze one more layer at epoch 1,\n",
    "}\n",
    "\n",
    "TUNE_CONFIG = {\n",
    "    \"seed\": 16,  # just remove this if you do not want determenistic behavior\n",
    "    \"metric_to_optimize\": \"val_f1_epoch\",  # Ray + PTL Trainer\n",
    "    \"ray_metrics_to_show\": [\n",
    "        \"val_loss_epoch\",\n",
    "        \"val_f1_epoch\",\n",
    "        \"val_acc_epoch\",\n",
    "    ],  # for Ray Tune\n",
    "    \"metric_opt_mode\": \"max\",  # Ray + PTL Trainer\n",
    "    \"cpu_per_trial\": 3,  # Ray + DataLoaders\n",
    "    \"gpu_per_trial\": GPU_PER_TRIAL,  # for Ray Tune\n",
    "    \"n_checkpoints_to_keep\": 1,  # for Ray Tune\n",
    "    \"grace_period\": 6,  # for Ray Tune\n",
    "    \"epoch_upper_limit\": 45,  # for Ray Tune\n",
    "    \"n_samples\": 40,  # for Ray Tune\n",
    "    \"ptl_early_stopping_patience\": 7,  # for PTL Trainer\n",
    "    \"ptl_early_stopping_grace_period\": 7,  # for PTL Trainer\n",
    "    \"ptl_precision\": 32,  # or 16, for PTL Trainer\n",
    "    \"train_loader_name\": \"train_loader\",\n",
    "    \"val_loader_name\": \"val_loader\",\n",
    "    \"test_loader_name\": \"test_loader\",\n",
    "    \"batch_size_main\": 32,  # batch size for revalidation and test phases \n",
    "    #    that run in the main process after all Ray Tune child processes are finished\n",
    "    \"gpus\": -1,  # -1 - use GPU if available, 0 - use CPU, 1 - use single GPU,\n",
    "    # >=2 - use multiple GPUs\n",
    "}\n",
    "\n",
    "if FAST_DEV_RUN:\n",
    "    CONFIG[\"max_epochs\"] = 2\n",
    "    TUNE_CONFIG[\"n_samples\"] = 2"
   ]
  },
  {
   "cell_type": "code",
   "execution_count": 14,
   "metadata": {},
   "outputs": [],
   "source": [
    "class UnfreezeModelTailCallback(Callback):\n",
    "    def __init__(self, epoch_vec):\n",
    "        super().__init__()\n",
    "        self.epoch_vec = epoch_vec\n",
    "\n",
    "    def on_epoch_start(self, trainer, pl_module):\n",
    "        if trainer.current_epoch <= self.epoch_vec[0]:\n",
    "            pl_module.unfreeze_tail(0)\n",
    "        elif trainer.current_epoch <= self.epoch_vec[1]:\n",
    "            pl_module.unfreeze_tail(1)\n",
    "        else:\n",
    "            pl_module.unfreeze()\n",
    "\n",
    "\n",
    "pl_callbacks = [UnfreezeModelTailCallback(CONFIG[\"unfreeze_epochs\"])]"
   ]
  },
  {
   "cell_type": "code",
   "execution_count": 15,
   "metadata": {},
   "outputs": [],
   "source": [
    "ptl_ray_runner = pth.Runner(\n",
    "    configure_dataloaders,\n",
    "    pl_callbacks=pl_callbacks,\n",
    "    is_debug=FAST_DEV_RUN,\n",
    "    experiment_id=EXPERIMENT_ID,\n",
    ")"
   ]
  },
  {
   "cell_type": "code",
   "execution_count": 16,
   "metadata": {},
   "outputs": [],
   "source": [
    "if USAGE_MODE == \"single-run\":\n",
    "    best_result = ptl_ray_runner.run_single_trial(LMODULE_CLASS, CONFIG, TUNE_CONFIG)\n",
    "    #\n",
    "    best_result[\"metrics\"].plot()"
   ]
  },
  {
   "cell_type": "code",
   "execution_count": 17,
   "metadata": {},
   "outputs": [],
   "source": [
    "if USAGE_MODE == \"single-run\":\n",
    "    best_result[\"metrics\"].df"
   ]
  },
  {
   "cell_type": "code",
   "execution_count": 18,
   "metadata": {},
   "outputs": [],
   "source": [
    "if USAGE_MODE == \"single-run\":\n",
    "    best_result[\"metrics\"].series_last"
   ]
  },
  {
   "cell_type": "markdown",
   "metadata": {},
   "source": [
    "### Running a hyper-parameters search via Ray Tune"
   ]
  },
  {
   "cell_type": "code",
   "execution_count": 19,
   "metadata": {},
   "outputs": [],
   "source": [
    "SEARCH_SPACE_CONFIG = {\n",
    "    \"unfreeze_epochs\": [0, 1],\n",
    "    \"lr\": tune.uniform(1e-5, 1e-4),\n",
    "    \"warmup\": tune.choice([200, 500, 600, 1000]),\n",
    "    \"gradient_clip_val\": 0,\n",
    "    \"max_epochs\": tune.choice([10, 20, 30]),\n",
    "    \"batch_size\": tune.choice([16, 32, 64]),\n",
    "    \"n_classes\": N_CLASSES,\n",
    "}"
   ]
  },
  {
   "cell_type": "code",
   "execution_count": 20,
   "metadata": {},
   "outputs": [],
   "source": [
    "if FAST_DEV_RUN:\n",
    "    SEARCH_SPACE_CONFIG[\"max_epochs\"] = 2\n",
    "    SEARCH_SPACE_CONFIG[\"batch_size\"] = 32"
   ]
  },
  {
   "cell_type": "code",
   "execution_count": 21,
   "metadata": {},
   "outputs": [
    {
     "name": "stderr",
     "output_type": "stream",
     "text": [
      "2020-12-20 15:18:46,381\tINFO services.py:1090 -- View the Ray dashboard at \u001b[1m\u001b[32mhttp://192.168.2.38:8265\u001b[39m\u001b[22m\n"
     ]
    },
    {
     "name": "stdout",
     "output_type": "stream",
     "text": [
      "== Status ==\n",
      "Memory usage on this node: 7.6/211.4 GiB\n",
      "Using AsyncHyperBand: num_stopped=0\n",
      "Bracket: Iter 18.000: None | Iter 6.000: None\n",
      "Resources requested: 3/32 CPUs, 0.3/1 GPUs, 0.0/135.3 GiB heap, 0.0/42.77 GiB objects (0/1.0 accelerator_type:RTX)\n",
      "Result logdir: /home/peter/ray_results/boring-mnist_20_Dec_2020_15_18_48\n",
      "Number of trials: 1/2 (1 RUNNING)\n",
      "+----------------+----------+-------+-------------------+-------------+----------+---------------------+--------------+--------------+-------------+-----------------------------------------------------------------------------------------------------------------------------------------+\n",
      "| Trial name     | status   | loc   | unfreeze_epochs   |          lr |   warmup |   gradient_clip_val |   max_epochs |   batch_size |   n_classes | wandb                                                                                                                                   |\n",
      "|----------------+----------+-------+-------------------+-------------+----------+---------------------+--------------+--------------+-------------+-----------------------------------------------------------------------------------------------------------------------------------------|\n",
      "| inner_83859088 | RUNNING  |       | (0, 1)            | 1.89462e-05 |      600 |                   0 |            2 |           32 |          10 | {'project': 'boring-mnist', 'group': '20_Dec_2020_15_18_48', 'api_key': '0884d86437826e94cde14255a0869ab0ba27eeef', 'log_config': True} |\n",
      "+----------------+----------+-------+-------------------+-------------+----------+---------------------+--------------+--------------+-------------+-----------------------------------------------------------------------------------------------------------------------------------------+\n",
      "\n",
      "\n",
      "== Status ==\n",
      "Memory usage on this node: 12.7/211.4 GiB\n",
      "Using AsyncHyperBand: num_stopped=0\n",
      "Bracket: Iter 18.000: None | Iter 6.000: None\n",
      "Resources requested: 6/32 CPUs, 0.6/1 GPUs, 0.0/135.3 GiB heap, 0.0/42.77 GiB objects (0/1.0 accelerator_type:RTX)\n",
      "Current best trial: 83859088 with val_f1_epoch=0.050511252135038376 and parameters={'unfreeze_epochs': (0, 1), 'lr': 1.8946233289885485e-05, 'warmup': 600, 'gradient_clip_val': 0, 'max_epochs': 2, 'batch_size': 32, 'n_classes': 10, 'wandb': {'project': 'boring-mnist', 'group': '20_Dec_2020_15_18_48', 'api_key': '0884d86437826e94cde14255a0869ab0ba27eeef', 'log_config': True}}\n",
      "Result logdir: /home/peter/ray_results/boring-mnist_20_Dec_2020_15_18_48\n",
      "Number of trials: 2/2 (2 RUNNING)\n",
      "+----------------+----------+---------------------+-------------------+-------------+----------+---------------------+--------------+--------------+-------------+-----------------------------------------------------------------------------------------------------------------------------------------+------------------+----------------+-----------------+----------------------+\n",
      "| Trial name     | status   | loc                 | unfreeze_epochs   |          lr |   warmup |   gradient_clip_val |   max_epochs |   batch_size |   n_classes | wandb                                                                                                                                   |   val_loss_epoch |   val_f1_epoch |   val_acc_epoch |   training_iteration |\n",
      "|----------------+----------+---------------------+-------------------+-------------+----------+---------------------+--------------+--------------+-------------+-----------------------------------------------------------------------------------------------------------------------------------------+------------------+----------------+-----------------+----------------------|\n",
      "| inner_83859088 | RUNNING  | 192.168.2.38:252933 | (0, 1)            | 1.89462e-05 |      600 |                   0 |            2 |           32 |          10 | {'project': 'boring-mnist', 'group': '20_Dec_2020_15_18_48', 'api_key': '0884d86437826e94cde14255a0869ab0ba27eeef', 'log_config': True} |          2.30266 |      0.0505113 |         0.11875 |                    1 |\n",
      "| inner_83a87ecc | RUNNING  |                     | (0, 1)            | 4.53812e-05 |      500 |                   0 |            2 |           32 |          10 | {'project': 'boring-mnist', 'group': '20_Dec_2020_15_18_48', 'api_key': '0884d86437826e94cde14255a0869ab0ba27eeef', 'log_config': True} |                  |                |                 |                      |\n",
      "+----------------+----------+---------------------+-------------------+-------------+----------+---------------------+--------------+--------------+-------------+-----------------------------------------------------------------------------------------------------------------------------------------+------------------+----------------+-----------------+----------------------+\n",
      "\n",
      "\n"
     ]
    },
    {
     "name": "stderr",
     "output_type": "stream",
     "text": [
      "2020-12-20 15:19:01,525\tINFO logger.py:283 -- Removed the following hyperparameter values when logging to tensorboard: {'unfreeze_epochs': (0, 1)}\n",
      "2020-12-20 15:19:05,092\tINFO logger.py:283 -- Removed the following hyperparameter values when logging to tensorboard: {'unfreeze_epochs': (0, 1)}\n"
     ]
    },
    {
     "name": "stdout",
     "output_type": "stream",
     "text": [
      "== Status ==\n",
      "Memory usage on this node: 12.5/211.4 GiB\n",
      "Using AsyncHyperBand: num_stopped=0\n",
      "Bracket: Iter 18.000: None | Iter 6.000: None\n",
      "Resources requested: 3/32 CPUs, 0.3/1 GPUs, 0.0/135.3 GiB heap, 0.0/42.77 GiB objects (0/1.0 accelerator_type:RTX)\n",
      "Current best trial: 83a87ecc with val_f1_epoch=0.05155593156814575 and parameters={'unfreeze_epochs': (0, 1), 'lr': 4.5381164499900583e-05, 'warmup': 500, 'gradient_clip_val': 0, 'max_epochs': 2, 'batch_size': 32, 'n_classes': 10, 'wandb': {'project': 'boring-mnist', 'group': '20_Dec_2020_15_18_48', 'api_key': '0884d86437826e94cde14255a0869ab0ba27eeef', 'log_config': True}}\n",
      "Result logdir: /home/peter/ray_results/boring-mnist_20_Dec_2020_15_18_48\n",
      "Number of trials: 2/2 (1 RUNNING, 1 TERMINATED)\n",
      "+----------------+------------+---------------------+-------------------+-------------+----------+---------------------+--------------+--------------+-------------+-----------------------------------------------------------------------------------------------------------------------------------------+------------------+----------------+-----------------+----------------------+\n",
      "| Trial name     | status     | loc                 | unfreeze_epochs   |          lr |   warmup |   gradient_clip_val |   max_epochs |   batch_size |   n_classes | wandb                                                                                                                                   |   val_loss_epoch |   val_f1_epoch |   val_acc_epoch |   training_iteration |\n",
      "|----------------+------------+---------------------+-------------------+-------------+----------+---------------------+--------------+--------------+-------------+-----------------------------------------------------------------------------------------------------------------------------------------+------------------+----------------+-----------------+----------------------|\n",
      "| inner_83a87ecc | RUNNING    | 192.168.2.38:252946 | (0, 1)            | 4.53812e-05 |      500 |                   0 |            2 |           32 |          10 | {'project': 'boring-mnist', 'group': '20_Dec_2020_15_18_48', 'api_key': '0884d86437826e94cde14255a0869ab0ba27eeef', 'log_config': True} |          2.30262 |      0.0515559 |         0.11875 |                    3 |\n",
      "| inner_83859088 | TERMINATED |                     | (0, 1)            | 1.89462e-05 |      600 |                   0 |            2 |           32 |          10 | {'project': 'boring-mnist', 'group': '20_Dec_2020_15_18_48', 'api_key': '0884d86437826e94cde14255a0869ab0ba27eeef', 'log_config': True} |          2.30264 |      0.0505113 |         0.11875 |                    3 |\n",
      "+----------------+------------+---------------------+-------------------+-------------+----------+---------------------+--------------+--------------+-------------+-----------------------------------------------------------------------------------------------------------------------------------------+------------------+----------------+-----------------+----------------------+\n",
      "\n",
      "\n"
     ]
    },
    {
     "name": "stderr",
     "output_type": "stream",
     "text": [
      "2020-12-20 15:19:08,449\tINFO tune.py:439 -- Total run time: 19.83 seconds (19.79 seconds for the tuning loop).\n",
      "GPU available: True, used: True\n",
      "TPU available: None, using: 0 TPU cores\n",
      "LOCAL_RANK: 0 - CUDA_VISIBLE_DEVICES: [0]\n"
     ]
    },
    {
     "name": "stdout",
     "output_type": "stream",
     "text": [
      "== Status ==\n",
      "Memory usage on this node: 9.9/211.4 GiB\n",
      "Using AsyncHyperBand: num_stopped=0\n",
      "Bracket: Iter 18.000: None | Iter 6.000: None\n",
      "Resources requested: 0/32 CPUs, 0.0/1 GPUs, 0.0/135.3 GiB heap, 0.0/42.77 GiB objects (0/1.0 accelerator_type:RTX)\n",
      "Current best trial: 83a87ecc with val_f1_epoch=0.05155593156814575 and parameters={'unfreeze_epochs': (0, 1), 'lr': 4.5381164499900583e-05, 'warmup': 500, 'gradient_clip_val': 0, 'max_epochs': 2, 'batch_size': 32, 'n_classes': 10, 'wandb': {'project': 'boring-mnist', 'group': '20_Dec_2020_15_18_48', 'api_key': '0884d86437826e94cde14255a0869ab0ba27eeef', 'log_config': True}}\n",
      "Result logdir: /home/peter/ray_results/boring-mnist_20_Dec_2020_15_18_48\n",
      "Number of trials: 2/2 (2 TERMINATED)\n",
      "+----------------+------------+-------+-------------------+-------------+----------+---------------------+--------------+--------------+-------------+-----------------------------------------------------------------------------------------------------------------------------------------+------------------+----------------+-----------------+----------------------+\n",
      "| Trial name     | status     | loc   | unfreeze_epochs   |          lr |   warmup |   gradient_clip_val |   max_epochs |   batch_size |   n_classes | wandb                                                                                                                                   |   val_loss_epoch |   val_f1_epoch |   val_acc_epoch |   training_iteration |\n",
      "|----------------+------------+-------+-------------------+-------------+----------+---------------------+--------------+--------------+-------------+-----------------------------------------------------------------------------------------------------------------------------------------+------------------+----------------+-----------------+----------------------|\n",
      "| inner_83859088 | TERMINATED |       | (0, 1)            | 1.89462e-05 |      600 |                   0 |            2 |           32 |          10 | {'project': 'boring-mnist', 'group': '20_Dec_2020_15_18_48', 'api_key': '0884d86437826e94cde14255a0869ab0ba27eeef', 'log_config': True} |          2.30264 |      0.0505113 |         0.11875 |                    3 |\n",
      "| inner_83a87ecc | TERMINATED |       | (0, 1)            | 4.53812e-05 |      500 |                   0 |            2 |           32 |          10 | {'project': 'boring-mnist', 'group': '20_Dec_2020_15_18_48', 'api_key': '0884d86437826e94cde14255a0869ab0ba27eeef', 'log_config': True} |          2.30262 |      0.0515559 |         0.11875 |                    3 |\n",
      "+----------------+------------+-------+-------------------+-------------+----------+---------------------+--------------+--------------+-------------+-----------------------------------------------------------------------------------------------------------------------------------------+------------------+----------------+-----------------+----------------------+\n",
      "\n",
      "\n",
      "Best hyperparameters found were:  {'unfreeze_epochs': (0, 1), 'lr': 4.5381164499900583e-05, 'warmup': 500, 'gradient_clip_val': 0, 'max_epochs': 2, 'batch_size': 32, 'n_classes': 10, 'wandb': {'project': 'boring-mnist', 'group': '20_Dec_2020_15_18_48', 'api_key': '0884d86437826e94cde14255a0869ab0ba27eeef', 'log_config': True}}\n"
     ]
    },
    {
     "data": {
      "application/vnd.jupyter.widget-view+json": {
       "model_id": "",
       "version_major": 2,
       "version_minor": 0
      },
      "text/plain": [
       "HBox(children=(HTML(value='Testing'), FloatProgress(value=1.0, bar_style='info', layout=Layout(flex='2'), max=…"
      ]
     },
     "metadata": {},
     "output_type": "display_data"
    },
    {
     "name": "stdout",
     "output_type": "stream",
     "text": [
      "|   Reval |   reval_f1 |   reval_acc |   reval_loss |\n",
      "|--------:|-----------:|------------:|-------------:|\n",
      "|       0 |     0.0516 |      0.1187 |       2.3026 |\n"
     ]
    },
    {
     "data": {
      "application/vnd.jupyter.widget-view+json": {
       "model_id": "",
       "version_major": 2,
       "version_minor": 0
      },
      "text/plain": [
       "HBox(children=(HTML(value='Testing'), FloatProgress(value=1.0, bar_style='info', layout=Layout(flex='2'), max=…"
      ]
     },
     "metadata": {},
     "output_type": "display_data"
    },
    {
     "name": "stdout",
     "output_type": "stream",
     "text": [
      "|   Test |   test_f1 |   test_acc |   test_loss |\n",
      "|-------:|----------:|-----------:|------------:|\n",
      "|      0 |    0.0341 |     0.1063 |      2.2999 |\n"
     ]
    }
   ],
   "source": [
    "if USAGE_MODE == \"hyper-opt\":\n",
    "    #\n",
    "    best_result = ptl_ray_runner.run_hyper_opt(\n",
    "        LMODULE_CLASS,\n",
    "        SEARCH_SPACE_CONFIG,\n",
    "        TUNE_CONFIG,\n",
    "    )\n",
    "\n",
    "    best_result[\"metrics_last\"]"
   ]
  },
  {
   "cell_type": "markdown",
   "metadata": {},
   "source": [
    "The following code is launches an automatic hyper-parameter tunning via Ray Tune"
   ]
  },
  {
   "cell_type": "markdown",
   "metadata": {},
   "source": [
    "Below is an example of output produced by Ray Tune"
   ]
  },
  {
   "cell_type": "markdown",
   "metadata": {},
   "source": [
    "### Let us look at the results"
   ]
  },
  {
   "cell_type": "code",
   "execution_count": 22,
   "metadata": {},
   "outputs": [],
   "source": [
    "DEVICE = torch.device(\"cuda\" if torch.cuda.is_available() else \"cpu\")"
   ]
  },
  {
   "cell_type": "code",
   "execution_count": 23,
   "metadata": {},
   "outputs": [],
   "source": [
    "def predict_one_sample(model, inputs, device=DEVICE):\n",
    "    with torch.no_grad():\n",
    "        inputs = inputs.to(device)\n",
    "        model.eval()\n",
    "        logit = model(inputs).cpu()\n",
    "        probs = torch.nn.functional.softmax(logit, dim=-1).numpy()\n",
    "    return probs"
   ]
  },
  {
   "cell_type": "code",
   "execution_count": 24,
   "metadata": {},
   "outputs": [],
   "source": [
    "def show_some_predictions(loaders_dict, lmodule):\n",
    "    fig, ax = plt.subplots(nrows=3, ncols=3, figsize=(12, 12), sharey=True, sharex=True)\n",
    "    for fig_x in ax.flatten():\n",
    "        random_characters = int(np.random.uniform(0, 1000))\n",
    "        im_val, label = loaders_dict[\"val_dataset\"][random_characters]\n",
    "        img_label = \" \".join(\n",
    "            map(\n",
    "                lambda x: x.capitalize(),\n",
    "                MNIST.classes[label].split(\"_\"),\n",
    "            )\n",
    "        )\n",
    "\n",
    "        imshow(im_val.data.cpu(), title=img_label, plt_ax=fig_x)\n",
    "\n",
    "        fig_x.add_patch(patches.Rectangle((0, 0), 10, 5, color=\"white\"))\n",
    "        font0 = FontProperties()\n",
    "        font = font0.copy()\n",
    "        font.set_family(\"fantasy\")\n",
    "        prob_pred = predict_one_sample(lmodule, im_val.unsqueeze(0))\n",
    "        predicted_proba = np.max(prob_pred) * 100\n",
    "        y_pred = np.argmax(prob_pred)\n",
    "\n",
    "        predicted_label = MNIST.classes[y_pred]\n",
    "        predicted_label = (\n",
    "            predicted_label[: len(predicted_label) // 2]\n",
    "            + \"\\n\"\n",
    "            + predicted_label[len(predicted_label) // 2 :]\n",
    "        )\n",
    "        predicted_text = \"{} : {:.0f}%\".format(predicted_label, predicted_proba)\n",
    "\n",
    "        fig_x.text(\n",
    "            1,\n",
    "            2,\n",
    "            predicted_text,\n",
    "            horizontalalignment=\"left\",\n",
    "            fontproperties=font,\n",
    "            verticalalignment=\"top\",\n",
    "            fontsize=8,\n",
    "            color=\"black\",\n",
    "            fontweight=\"bold\",\n",
    "        )"
   ]
  },
  {
   "cell_type": "code",
   "execution_count": 25,
   "metadata": {},
   "outputs": [],
   "source": [
    "def predict(model, test_loader):\n",
    "    with torch.no_grad():\n",
    "        logits = []\n",
    "\n",
    "        for inputs, _ in test_loader:\n",
    "            inputs = inputs.to(DEVICE)\n",
    "            model.eval()\n",
    "            outputs = model(inputs).cpu()\n",
    "            logits.append(outputs)\n",
    "\n",
    "    probs = nn.functional.softmax(torch.cat(logits), dim=-1).numpy()\n",
    "    return probs"
   ]
  },
  {
   "cell_type": "code",
   "execution_count": 26,
   "metadata": {},
   "outputs": [
    {
     "name": "stderr",
     "output_type": "stream",
     "text": [
      "findfont: Font family ['fantasy'] not found. Falling back to DejaVu Sans.\n"
     ]
    },
    {
     "data": {
      "image/png": "[encoded data removed]",
      "text/plain": [
       "<Figure size 864x864 with 9 Axes>"
      ]
     },
     "metadata": {
      "needs_background": "light"
     },
     "output_type": "display_data"
    }
   ],
   "source": [
    "show_some_predictions(loaders_dict, best_result[\"lmodule_best\"])"
   ]
  },
  {
   "cell_type": "markdown",
   "metadata": {},
   "source": [
    "### Re-train the model on all available data with the same hyper-parameters"
   ]
  },
  {
   "cell_type": "code",
   "execution_count": 27,
   "metadata": {},
   "outputs": [],
   "source": [
    "FT_TUNE_CONFIG = TUNE_CONFIG.copy()\n",
    "FT_TUNE_CONFIG[\"val_loader_name\"] = None\n",
    "FT_TUNE_CONFIG[\"train_loader_name\"] = \"full_train_loader\"\n",
    "FT_TUNE_CONFIG[\"metric_to_optimize\"] = \"train_f1_epoch\""
   ]
  },
  {
   "cell_type": "code",
   "execution_count": 28,
   "metadata": {},
   "outputs": [],
   "source": [
    "FT_CONFIG = CONFIG.copy()\n",
    "# FT_CONFIG['max_epochs'] = 19\n",
    "FT_CONFIG[\"max_epochs\"] = best_result[\"best_epoch\"]"
   ]
  },
  {
   "cell_type": "code",
   "execution_count": 29,
   "metadata": {},
   "outputs": [
    {
     "name": "stderr",
     "output_type": "stream",
     "text": [
      "GPU available: True, used: True\n",
      "TPU available: None, using: 0 TPU cores\n",
      "LOCAL_RANK: 0 - CUDA_VISIBLE_DEVICES: [0]\n",
      "\n",
      "  | Name              | Type           | Params\n",
      "-----------------------------------------------------\n",
      "0 | model             | BoringMNIST    | 60.1 K\n",
      "1 | train_metric_calc | LitMetricsCalc | 0     \n",
      "2 | val_metric_calc   | LitMetricsCalc | 0     \n",
      "3 | test_metric_calc  | LitMetricsCalc | 0     \n",
      "-----------------------------------------------------\n",
      "0         Trainable params\n",
      "60.1 K    Non-trainable params\n",
      "60.1 K    Total params\n"
     ]
    },
    {
     "data": {
      "application/vnd.jupyter.widget-view+json": {
       "model_id": "4263b4833b69462f92a0919853aa0bbc",
       "version_major": 2,
       "version_minor": 0
      },
      "text/plain": [
       "HBox(children=(HTML(value='Validation sanity check'), FloatProgress(value=1.0, bar_style='info', layout=Layout…"
      ]
     },
     "metadata": {},
     "output_type": "display_data"
    },
    {
     "data": {
      "application/vnd.jupyter.widget-view+json": {
       "model_id": "",
       "version_major": 2,
       "version_minor": 0
      },
      "text/plain": [
       "HBox(children=(HTML(value='Training'), FloatProgress(value=1.0, bar_style='info', layout=Layout(flex='2'), max…"
      ]
     },
     "metadata": {},
     "output_type": "display_data"
    },
    {
     "name": "stdout",
     "output_type": "stream",
     "text": [
      "|   Train |   train_f1 |   train_acc |   train_loss |\n",
      "|--------:|-----------:|------------:|-------------:|\n",
      "|       0 |     0.0312 |      0.0922 |       2.3046 |\n"
     ]
    },
    {
     "data": {
      "application/vnd.jupyter.widget-view+json": {
       "model_id": "",
       "version_major": 2,
       "version_minor": 0
      },
      "text/plain": [
       "HBox(children=(HTML(value='Training'), FloatProgress(value=1.0, bar_style='info', layout=Layout(flex='2'), max…"
      ]
     },
     "metadata": {},
     "output_type": "display_data"
    },
    {
     "name": "stdout",
     "output_type": "stream",
     "text": [
      "|   Train |   train_f1 |   train_acc |   train_loss |\n",
      "|--------:|-----------:|------------:|-------------:|\n",
      "|       1 |     0.0446 |      0.1187 |       2.3031 |\n"
     ]
    },
    {
     "data": {
      "application/vnd.jupyter.widget-view+json": {
       "model_id": "",
       "version_major": 2,
       "version_minor": 0
      },
      "text/plain": [
       "HBox(children=(HTML(value='Training'), FloatProgress(value=1.0, bar_style='info', layout=Layout(flex='2'), max…"
      ]
     },
     "metadata": {},
     "output_type": "display_data"
    },
    {
     "name": "stdout",
     "output_type": "stream",
     "text": [
      "|   Train |   train_f1 |   train_acc |   train_loss |\n",
      "|--------:|-----------:|------------:|-------------:|\n",
      "|       2 |     0.0295 |         0.1 |       2.3053 |\n"
     ]
    },
    {
     "data": {
      "application/vnd.jupyter.widget-view+json": {
       "model_id": "",
       "version_major": 2,
       "version_minor": 0
      },
      "text/plain": [
       "HBox(children=(HTML(value='Training'), FloatProgress(value=1.0, bar_style='info', layout=Layout(flex='2'), max…"
      ]
     },
     "metadata": {},
     "output_type": "display_data"
    },
    {
     "data": {
      "application/vnd.jupyter.widget-view+json": {
       "model_id": "",
       "version_major": 2,
       "version_minor": 0
      },
      "text/plain": [
       "HBox(children=(HTML(value='Testing'), FloatProgress(value=1.0, bar_style='info', layout=Layout(flex='2'), max=…"
      ]
     },
     "metadata": {},
     "output_type": "display_data"
    },
    {
     "name": "stdout",
     "output_type": "stream",
     "text": [
      "|   Test |   train_f1 |   test_f1 |   train_acc |   test_acc |   train_loss |   test_loss |\n",
      "|-------:|-----------:|----------:|------------:|-----------:|-------------:|------------:|\n",
      "|      2 |     0.0295 |    0.0215 |         0.1 |     0.0812 |       2.3053 |      2.3014 |\n"
     ]
    }
   ],
   "source": [
    "full_train_result = ptl_ray_runner.run_single_trial(\n",
    "    LMODULE_CLASS,\n",
    "    FT_CONFIG,\n",
    "    FT_TUNE_CONFIG,\n",
    ")"
   ]
  },
  {
   "cell_type": "code",
   "execution_count": 30,
   "metadata": {
    "collapsed": false,
    "jupyter": {
     "outputs_hidden": false
    },
    "pycharm": {
     "name": "#%%\n"
    }
   },
   "outputs": [
    {
     "data": {
      "image/png": "[encoded data removed]",
      "text/plain": [
       "<Figure size 864x864 with 9 Axes>"
      ]
     },
     "metadata": {
      "needs_background": "light"
     },
     "output_type": "display_data"
    }
   ],
   "source": [
    "show_some_predictions(loaders_dict, full_train_result[\"lmodule_best\"])"
   ]
  }
 ],
 "metadata": {
  "accelerator": "GPU",
  "colab": {
   "collapsed_sections": [],
   "machine_shape": "hm",
   "name": "[homework]BERT_for_text_classification.ipynb",
   "provenance": []
  },
  "kernelspec": {
   "display_name": "Python 3",
   "language": "python",
   "name": "python3"
  },
  "language_info": {
   "codemirror_mode": {
    "name": "ipython",
    "version": 3
   },
   "file_extension": ".py",
   "mimetype": "text/x-python",
   "name": "python",
   "nbconvert_exporter": "python",
   "pygments_lexer": "ipython3",
   "version": "3.8.5"
  },
  "widgets": {
   "application/vnd.jupyter.widget-state+json": {
    "state": {
     "0691db8c3e8d4055874342224ef0095e": {
      "model_module": "@jupyter-widgets/controls",
      "model_module_version": "1.5.0",
      "model_name": "DescriptionStyleModel",
      "state": {
       "description_width": ""
      }
     },
     "0b3d964583844d4985cca1f420c12807": {
      "model_module": "@jupyter-widgets/base",
      "model_module_version": "1.2.0",
      "model_name": "LayoutModel",
      "state": {
       "display": "inline-flex",
       "flex_flow": "row wrap",
       "width": "100%"
      }
     },
     "0bd5bd337da24c03a33da49964cfffb7": {
      "model_module": "@jupyter-widgets/controls",
      "model_module_version": "1.5.0",
      "model_name": "FloatProgressModel",
      "state": {
       "bar_style": "info",
       "layout": "IPY_MODEL_2b830b0692e24a16b7a7551916c44347",
       "max": 1,
       "style": "IPY_MODEL_293236c5d03e4ab691d4346238714e01",
       "value": 1
      }
     },
     "0c3a302d4239425cad7c3cd4d3ee27af": {
      "model_module": "@jupyter-widgets/base",
      "model_module_version": "1.2.0",
      "model_name": "LayoutModel",
      "state": {
       "flex": "2"
      }
     },
     "0c9bf13080d44560bde15700303836d4": {
      "model_module": "@jupyter-widgets/controls",
      "model_module_version": "1.5.0",
      "model_name": "DescriptionStyleModel",
      "state": {
       "description_width": ""
      }
     },
     "0da7ffecf06d4044bca6275423318add": {
      "model_module": "@jupyter-widgets/controls",
      "model_module_version": "1.5.0",
      "model_name": "FloatProgressModel",
      "state": {
       "layout": "IPY_MODEL_8c2c2cd3ecea4b82a76535b315a14509",
       "max": 1,
       "style": "IPY_MODEL_9fc4a777dd21492db5224be7b5618900"
      }
     },
     "0e3d0a59da954c6a881e64d0f274f95e": {
      "model_module": "@jupyter-widgets/controls",
      "model_module_version": "1.5.0",
      "model_name": "FloatProgressModel",
      "state": {
       "bar_style": "info",
       "layout": "IPY_MODEL_93bacacb07b3489b85ef021f31ea4e65",
       "max": 1,
       "style": "IPY_MODEL_5a67ed863532476e96135094301c2cc8",
       "value": 1
      }
     },
     "102121235a41405caf2b3b2480075636": {
      "model_module": "@jupyter-widgets/controls",
      "model_module_version": "1.5.0",
      "model_name": "HTMLModel",
      "state": {
       "layout": "IPY_MODEL_6fa15ebed07444bba4c5405cdc0e3def",
       "style": "IPY_MODEL_ab40b3f4000d448cba6a69e3423dd7ed",
       "value": "Reval: 100%"
      }
     },
     "12c1d2f3f08f4afb9239f7b28eca3d2c": {
      "model_module": "@jupyter-widgets/controls",
      "model_module_version": "1.5.0",
      "model_name": "DescriptionStyleModel",
      "state": {
       "description_width": ""
      }
     },
     "15be478317fc4e74b81f9a052cbf48b0": {
      "model_module": "@jupyter-widgets/base",
      "model_module_version": "1.2.0",
      "model_name": "LayoutModel",
      "state": {
       "display": "inline-flex",
       "flex_flow": "row wrap",
       "width": "100%"
      }
     },
     "164fa64cd22f4ad780fb2ae2f5d143bb": {
      "model_module": "@jupyter-widgets/controls",
      "model_module_version": "1.5.0",
      "model_name": "DescriptionStyleModel",
      "state": {
       "description_width": ""
      }
     },
     "1e75a04c801944e3b20c9480a6c96378": {
      "model_module": "@jupyter-widgets/base",
      "model_module_version": "1.2.0",
      "model_name": "LayoutModel",
      "state": {
       "display": "inline-flex",
       "flex_flow": "row wrap",
       "width": "100%"
      }
     },
     "1f61f2b14d554fcea967b28edbbfcfbd": {
      "model_module": "@jupyter-widgets/base",
      "model_module_version": "1.2.0",
      "model_name": "LayoutModel",
      "state": {
       "flex": "2"
      }
     },
     "235353f6a0ac40fc918ec44d21d3f6f0": {
      "model_module": "@jupyter-widgets/controls",
      "model_module_version": "1.5.0",
      "model_name": "DescriptionStyleModel",
      "state": {
       "description_width": ""
      }
     },
     "25f13a075bb94637835c9ebd70459c01": {
      "model_module": "@jupyter-widgets/controls",
      "model_module_version": "1.5.0",
      "model_name": "FloatProgressModel",
      "state": {
       "bar_style": "info",
       "layout": "IPY_MODEL_29f5703e169244678e4b909070d04ca2",
       "max": 1,
       "style": "IPY_MODEL_a5d7097d67554fa7afe44513439a7cad",
       "value": 1
      }
     },
     "2683272f709e46eab86b00cc477a554d": {
      "model_module": "@jupyter-widgets/base",
      "model_module_version": "1.2.0",
      "model_name": "LayoutModel",
      "state": {
       "flex": "2"
      }
     },
     "293236c5d03e4ab691d4346238714e01": {
      "model_module": "@jupyter-widgets/controls",
      "model_module_version": "1.5.0",
      "model_name": "ProgressStyleModel",
      "state": {
       "description_width": ""
      }
     },
     "29f5703e169244678e4b909070d04ca2": {
      "model_module": "@jupyter-widgets/base",
      "model_module_version": "1.2.0",
      "model_name": "LayoutModel",
      "state": {
       "flex": "2"
      }
     },
     "2b830b0692e24a16b7a7551916c44347": {
      "model_module": "@jupyter-widgets/base",
      "model_module_version": "1.2.0",
      "model_name": "LayoutModel",
      "state": {
       "flex": "2"
      }
     },
     "2da9c392ed304860a8cba59cafd4c368": {
      "model_module": "@jupyter-widgets/controls",
      "model_module_version": "1.5.0",
      "model_name": "FloatProgressModel",
      "state": {
       "layout": "IPY_MODEL_b85254a186214289be7f16a26c9b5d8c",
       "max": 10,
       "style": "IPY_MODEL_c0d8ef7dafcd4b7b9a8716c691d89583",
       "value": 10
      }
     },
     "2fe6cf972157427581d9652a8716466a": {
      "model_module": "@jupyter-widgets/controls",
      "model_module_version": "1.5.0",
      "model_name": "HTMLModel",
      "state": {
       "layout": "IPY_MODEL_52bc875ec08a4bdea410d9fd9f943885",
       "style": "IPY_MODEL_235353f6a0ac40fc918ec44d21d3f6f0",
       "value": "Validation sanity check: 0it [00:02, ?it/s]"
      }
     },
     "323b52b933b3491dae9f7d7c35b6049f": {
      "model_module": "@jupyter-widgets/controls",
      "model_module_version": "1.5.0",
      "model_name": "HTMLModel",
      "state": {
       "layout": "IPY_MODEL_9d8bf5cda4ea467f9c035001fe918a19",
       "style": "IPY_MODEL_6e7348939c934445814b61e86f5dd6bf",
       "value": " 5/5 [00:00&lt;00:00,  3.46it/s]"
      }
     },
     "330abe84371c4128bd93ac33ee24aaad": {
      "model_module": "@jupyter-widgets/controls",
      "model_module_version": "1.5.0",
      "model_name": "DescriptionStyleModel",
      "state": {
       "description_width": ""
      }
     },
     "39a511a2eb0045d6933d961183d3bb69": {
      "model_module": "@jupyter-widgets/base",
      "model_module_version": "1.2.0",
      "model_name": "LayoutModel",
      "state": {}
     },
     "3c38446af2f24f8fa09b82038e521186": {
      "model_module": "@jupyter-widgets/base",
      "model_module_version": "1.2.0",
      "model_name": "LayoutModel",
      "state": {
       "flex": "2"
      }
     },
     "4263b4833b69462f92a0919853aa0bbc": {
      "model_module": "@jupyter-widgets/controls",
      "model_module_version": "1.5.0",
      "model_name": "HBoxModel",
      "state": {
       "children": [
        "IPY_MODEL_ccd863ea8ee24a5199ad82daefaf743c",
        "IPY_MODEL_9384f4e144544d0d957cd68728e026bb",
        "IPY_MODEL_2fe6cf972157427581d9652a8716466a"
       ],
       "layout": "IPY_MODEL_47cdb3656a594e4fb0de2ea85c4e0b49"
      }
     },
     "46b11fd283db4d9f8b5a572853ec5d87": {
      "model_module": "@jupyter-widgets/controls",
      "model_module_version": "1.5.0",
      "model_name": "DescriptionStyleModel",
      "state": {
       "description_width": ""
      }
     },
     "477ffdc1b9054d5987cabc8356fdfd7d": {
      "model_module": "@jupyter-widgets/controls",
      "model_module_version": "1.5.0",
      "model_name": "HTMLModel",
      "state": {
       "layout": "IPY_MODEL_5d9ccd9c388947e1bc838a6204f0578b",
       "style": "IPY_MODEL_5dd92817a0d944ceb897c0482501a0c1",
       "value": "Training: 10it [00:00, ?it/s]"
      }
     },
     "47cdb3656a594e4fb0de2ea85c4e0b49": {
      "model_module": "@jupyter-widgets/base",
      "model_module_version": "1.2.0",
      "model_name": "LayoutModel",
      "state": {
       "display": "inline-flex",
       "flex_flow": "row wrap",
       "width": "100%"
      }
     },
     "5224fd1098904a8f869551bb16e42b5b": {
      "model_module": "@jupyter-widgets/base",
      "model_module_version": "1.2.0",
      "model_name": "LayoutModel",
      "state": {}
     },
     "52bc875ec08a4bdea410d9fd9f943885": {
      "model_module": "@jupyter-widgets/base",
      "model_module_version": "1.2.0",
      "model_name": "LayoutModel",
      "state": {}
     },
     "531bdc63cf5c4974b116703a9fa0530b": {
      "model_module": "@jupyter-widgets/base",
      "model_module_version": "1.2.0",
      "model_name": "LayoutModel",
      "state": {}
     },
     "5a67ed863532476e96135094301c2cc8": {
      "model_module": "@jupyter-widgets/controls",
      "model_module_version": "1.5.0",
      "model_name": "ProgressStyleModel",
      "state": {
       "description_width": ""
      }
     },
     "5d9ccd9c388947e1bc838a6204f0578b": {
      "model_module": "@jupyter-widgets/base",
      "model_module_version": "1.2.0",
      "model_name": "LayoutModel",
      "state": {}
     },
     "5dd92817a0d944ceb897c0482501a0c1": {
      "model_module": "@jupyter-widgets/controls",
      "model_module_version": "1.5.0",
      "model_name": "DescriptionStyleModel",
      "state": {
       "description_width": ""
      }
     },
     "66530978f39145e68dc2ffb310902eba": {
      "model_module": "@jupyter-widgets/controls",
      "model_module_version": "1.5.0",
      "model_name": "HTMLModel",
      "state": {
       "layout": "IPY_MODEL_e5ebed5ec21f4ff69a9938eab1589a35",
       "style": "IPY_MODEL_f3e4621e1feb4306be35e187aed8e1a6",
       "value": "Test: 100%"
      }
     },
     "6841acfed2ab4ac2ba98a6f710c111cb": {
      "model_module": "@jupyter-widgets/base",
      "model_module_version": "1.2.0",
      "model_name": "LayoutModel",
      "state": {
       "display": "inline-flex",
       "flex_flow": "row wrap",
       "width": "100%"
      }
     },
     "6e7348939c934445814b61e86f5dd6bf": {
      "model_module": "@jupyter-widgets/controls",
      "model_module_version": "1.5.0",
      "model_name": "DescriptionStyleModel",
      "state": {
       "description_width": ""
      }
     },
     "6fa15ebed07444bba4c5405cdc0e3def": {
      "model_module": "@jupyter-widgets/base",
      "model_module_version": "1.2.0",
      "model_name": "LayoutModel",
      "state": {}
     },
     "711d7539fbd5441cb88b61e07f971e06": {
      "model_module": "@jupyter-widgets/controls",
      "model_module_version": "1.5.0",
      "model_name": "VBoxModel",
      "state": {
       "children": [
        "IPY_MODEL_de80b0e033af487985ee24446c2dfd6f",
        "IPY_MODEL_0da7ffecf06d4044bca6275423318add"
       ],
       "layout": "IPY_MODEL_d5410884a45e49aeba930ab8c0a127c8"
      }
     },
     "762dea8abdd344548d3a0984ce14efe0": {
      "model_module": "@jupyter-widgets/controls",
      "model_module_version": "1.5.0",
      "model_name": "HTMLModel",
      "state": {
       "layout": "IPY_MODEL_86acaf2e3542490598cf502700113ac3",
       "style": "IPY_MODEL_46b11fd283db4d9f8b5a572853ec5d87",
       "value": "Epoch 0: 100%"
      }
     },
     "77f033f6c7a548f19f870cb30b8d941d": {
      "model_module": "@jupyter-widgets/controls",
      "model_module_version": "1.5.0",
      "model_name": "DescriptionStyleModel",
      "state": {
       "description_width": ""
      }
     },
     "7d1c8351dea648c284eeec1977b210d2": {
      "model_module": "@jupyter-widgets/base",
      "model_module_version": "1.2.0",
      "model_name": "LayoutModel",
      "state": {}
     },
     "7d326d8ff8364ede81b6570b00a2d9fb": {
      "model_module": "@jupyter-widgets/controls",
      "model_module_version": "1.5.0",
      "model_name": "HTMLModel",
      "state": {
       "layout": "IPY_MODEL_801c130771144dd481140d16011a0885",
       "style": "IPY_MODEL_af8d0a8e9fb9488787d0e997b8e53ef9",
       "value": " 5/5 [00:00&lt;00:00,  3.38it/s]"
      }
     },
     "801c130771144dd481140d16011a0885": {
      "model_module": "@jupyter-widgets/base",
      "model_module_version": "1.2.0",
      "model_name": "LayoutModel",
      "state": {}
     },
     "80a7fe3a23a04128b2ccd2a60606bdb2": {
      "model_module": "@jupyter-widgets/controls",
      "model_module_version": "1.5.0",
      "model_name": "HTMLModel",
      "state": {
       "layout": "IPY_MODEL_fc875cabb2f94ae4a9ae19f289867e99",
       "style": "IPY_MODEL_0c9bf13080d44560bde15700303836d4",
       "value": " 10/10 [00:00&lt;?, ?it/s, loss=2.3, v_num=lw57, train_acc_step=0.172, train_f1_step=0.0633, train_loss_step=2.29, train_acc_epoch=0.0922, train_f1_epoch=0.0312, train_loss_epoch=2.3]"
      }
     },
     "81d58ed397b844ecb8c51da1361023cf": {
      "model_module": "@jupyter-widgets/base",
      "model_module_version": "1.2.0",
      "model_name": "LayoutModel",
      "state": {
       "display": "inline-flex",
       "flex_flow": "row wrap",
       "width": "100%"
      }
     },
     "86acaf2e3542490598cf502700113ac3": {
      "model_module": "@jupyter-widgets/base",
      "model_module_version": "1.2.0",
      "model_name": "LayoutModel",
      "state": {}
     },
     "8ba3ac34169e410bb0483fb1dbfd48d5": {
      "model_module": "@jupyter-widgets/controls",
      "model_module_version": "1.5.0",
      "model_name": "HTMLModel",
      "state": {
       "layout": "IPY_MODEL_39a511a2eb0045d6933d961183d3bb69",
       "style": "IPY_MODEL_d5ae0a25132e485eafc94d0bc243059a",
       "value": " 10/10 [00:00&lt;?, ?it/s, loss=2.3, v_num=lw57, train_acc_step=0.0625, train_f1_step=0.0118, train_loss_step=2.31, train_acc_epoch=0.119, train_f1_epoch=0.0446, train_loss_epoch=2.3]"
      }
     },
     "8c2c2cd3ecea4b82a76535b315a14509": {
      "model_module": "@jupyter-widgets/base",
      "model_module_version": "1.2.0",
      "model_name": "LayoutModel",
      "state": {}
     },
     "8fa30bde87d24e93998257fa7ef96f2e": {
      "model_module": "@jupyter-widgets/base",
      "model_module_version": "1.2.0",
      "model_name": "LayoutModel",
      "state": {}
     },
     "9384f4e144544d0d957cd68728e026bb": {
      "model_module": "@jupyter-widgets/controls",
      "model_module_version": "1.5.0",
      "model_name": "FloatProgressModel",
      "state": {
       "bar_style": "info",
       "layout": "IPY_MODEL_1f61f2b14d554fcea967b28edbbfcfbd",
       "max": 1,
       "style": "IPY_MODEL_b9dd88990ba1461dbde7443fe39f349d"
      }
     },
     "93bacacb07b3489b85ef021f31ea4e65": {
      "model_module": "@jupyter-widgets/base",
      "model_module_version": "1.2.0",
      "model_name": "LayoutModel",
      "state": {
       "flex": "2"
      }
     },
     "93bd99193efa4bcd858fbb634ad39ff4": {
      "model_module": "@jupyter-widgets/controls",
      "model_module_version": "1.5.0",
      "model_name": "ProgressStyleModel",
      "state": {
       "description_width": ""
      }
     },
     "98e39c07ee284d2ab93122bc6663e88b": {
      "model_module": "@jupyter-widgets/controls",
      "model_module_version": "1.5.0",
      "model_name": "HTMLModel",
      "state": {
       "layout": "IPY_MODEL_fc33d84b5d6d4482a4e778555dcda779",
       "style": "IPY_MODEL_ab39f6e24e4f4216a10f993d056e7362",
       "value": "Epoch 1: 100%"
      }
     },
     "9a5c631f6dd045ffb8d9488d5c8cbdbf": {
      "model_module": "@jupyter-widgets/controls",
      "model_module_version": "1.5.0",
      "model_name": "FloatProgressModel",
      "state": {
       "layout": "IPY_MODEL_0c3a302d4239425cad7c3cd4d3ee27af",
       "max": 10,
       "style": "IPY_MODEL_fa270a87ebe74794bfdcf765daec9552",
       "value": 10
      }
     },
     "9d8bf5cda4ea467f9c035001fe918a19": {
      "model_module": "@jupyter-widgets/base",
      "model_module_version": "1.2.0",
      "model_name": "LayoutModel",
      "state": {}
     },
     "9fc4a777dd21492db5224be7b5618900": {
      "model_module": "@jupyter-widgets/controls",
      "model_module_version": "1.5.0",
      "model_name": "ProgressStyleModel",
      "state": {
       "description_width": ""
      }
     },
     "a163f778cb3440fcbee5d66f3f226f5e": {
      "model_module": "@jupyter-widgets/controls",
      "model_module_version": "1.5.0",
      "model_name": "HTMLModel",
      "state": {
       "layout": "IPY_MODEL_531bdc63cf5c4974b116703a9fa0530b",
       "style": "IPY_MODEL_330abe84371c4128bd93ac33ee24aaad",
       "value": "Test: 100%"
      }
     },
     "a5294c8c830a47d9af983864a4fbf1d9": {
      "model_module": "@jupyter-widgets/base",
      "model_module_version": "1.2.0",
      "model_name": "LayoutModel",
      "state": {
       "display": "inline-flex",
       "flex_flow": "row wrap",
       "width": "100%"
      }
     },
     "a5d7097d67554fa7afe44513439a7cad": {
      "model_module": "@jupyter-widgets/controls",
      "model_module_version": "1.5.0",
      "model_name": "ProgressStyleModel",
      "state": {
       "description_width": ""
      }
     },
     "ab39f6e24e4f4216a10f993d056e7362": {
      "model_module": "@jupyter-widgets/controls",
      "model_module_version": "1.5.0",
      "model_name": "DescriptionStyleModel",
      "state": {
       "description_width": ""
      }
     },
     "ab40b3f4000d448cba6a69e3423dd7ed": {
      "model_module": "@jupyter-widgets/controls",
      "model_module_version": "1.5.0",
      "model_name": "DescriptionStyleModel",
      "state": {
       "description_width": ""
      }
     },
     "af8d0a8e9fb9488787d0e997b8e53ef9": {
      "model_module": "@jupyter-widgets/controls",
      "model_module_version": "1.5.0",
      "model_name": "DescriptionStyleModel",
      "state": {
       "description_width": ""
      }
     },
     "b78e4265989e41d8899775e1e724be02": {
      "model_module": "@jupyter-widgets/controls",
      "model_module_version": "1.5.0",
      "model_name": "FloatProgressModel",
      "state": {
       "layout": "IPY_MODEL_2683272f709e46eab86b00cc477a554d",
       "max": 10,
       "style": "IPY_MODEL_93bd99193efa4bcd858fbb634ad39ff4",
       "value": 10
      }
     },
     "b85254a186214289be7f16a26c9b5d8c": {
      "model_module": "@jupyter-widgets/base",
      "model_module_version": "1.2.0",
      "model_name": "LayoutModel",
      "state": {
       "flex": "2"
      }
     },
     "b9dd88990ba1461dbde7443fe39f349d": {
      "model_module": "@jupyter-widgets/controls",
      "model_module_version": "1.5.0",
      "model_name": "ProgressStyleModel",
      "state": {
       "description_width": ""
      }
     },
     "c0d8ef7dafcd4b7b9a8716c691d89583": {
      "model_module": "@jupyter-widgets/controls",
      "model_module_version": "1.5.0",
      "model_name": "ProgressStyleModel",
      "state": {
       "description_width": ""
      }
     },
     "c59b3de810cf416a9bfec635542ed9bb": {
      "model_module": "@jupyter-widgets/base",
      "model_module_version": "1.2.0",
      "model_name": "LayoutModel",
      "state": {}
     },
     "cb0cc12505c34e4cb7885bff276cdbb7": {
      "model_module": "@jupyter-widgets/controls",
      "model_module_version": "1.5.0",
      "model_name": "DescriptionStyleModel",
      "state": {
       "description_width": ""
      }
     },
     "cbe623ee059641bfae5b766126de6213": {
      "model_module": "@jupyter-widgets/controls",
      "model_module_version": "1.5.0",
      "model_name": "HTMLModel",
      "state": {
       "layout": "IPY_MODEL_8fa30bde87d24e93998257fa7ef96f2e",
       "style": "IPY_MODEL_fa88fd1fc0e84cac9c17a7f3fecc0cdf"
      }
     },
     "ccd863ea8ee24a5199ad82daefaf743c": {
      "model_module": "@jupyter-widgets/controls",
      "model_module_version": "1.5.0",
      "model_name": "HTMLModel",
      "state": {
       "layout": "IPY_MODEL_7d1c8351dea648c284eeec1977b210d2",
       "style": "IPY_MODEL_164fa64cd22f4ad780fb2ae2f5d143bb"
      }
     },
     "d4c3bf2988ca4f38b8803af903fe2892": {
      "model_module": "@jupyter-widgets/base",
      "model_module_version": "1.2.0",
      "model_name": "LayoutModel",
      "state": {
       "display": "inline-flex",
       "flex_flow": "row wrap",
       "width": "100%"
      }
     },
     "d5410884a45e49aeba930ab8c0a127c8": {
      "model_module": "@jupyter-widgets/base",
      "model_module_version": "1.2.0",
      "model_name": "LayoutModel",
      "state": {}
     },
     "d5ae0a25132e485eafc94d0bc243059a": {
      "model_module": "@jupyter-widgets/controls",
      "model_module_version": "1.5.0",
      "model_name": "DescriptionStyleModel",
      "state": {
       "description_width": ""
      }
     },
     "d9b3b3c08fbd49aeba6f12dcf377b6a1": {
      "model_module": "@jupyter-widgets/base",
      "model_module_version": "1.2.0",
      "model_name": "LayoutModel",
      "state": {}
     },
     "dd54bf7d714544e3a1301a3b941ed0f9": {
      "model_module": "@jupyter-widgets/controls",
      "model_module_version": "1.5.0",
      "model_name": "HTMLModel",
      "state": {
       "layout": "IPY_MODEL_5224fd1098904a8f869551bb16e42b5b",
       "style": "IPY_MODEL_cb0cc12505c34e4cb7885bff276cdbb7",
       "value": "Epoch 2: 100%"
      }
     },
     "de80b0e033af487985ee24446c2dfd6f": {
      "model_module": "@jupyter-widgets/controls",
      "model_module_version": "1.5.0",
      "model_name": "LabelModel",
      "state": {
       "layout": "IPY_MODEL_d9b3b3c08fbd49aeba6f12dcf377b6a1",
       "style": "IPY_MODEL_0691db8c3e8d4055874342224ef0095e"
      }
     },
     "e1766f4873494c15999a03c05854a1e4": {
      "model_module": "@jupyter-widgets/controls",
      "model_module_version": "1.5.0",
      "model_name": "ProgressStyleModel",
      "state": {
       "description_width": ""
      }
     },
     "e4f4a29c36e84ebaa2dac57af983c2eb": {
      "model_module": "@jupyter-widgets/base",
      "model_module_version": "1.2.0",
      "model_name": "LayoutModel",
      "state": {}
     },
     "e5ebed5ec21f4ff69a9938eab1589a35": {
      "model_module": "@jupyter-widgets/base",
      "model_module_version": "1.2.0",
      "model_name": "LayoutModel",
      "state": {}
     },
     "e7b59269d765415f86bb3b77442a5161": {
      "model_module": "@jupyter-widgets/controls",
      "model_module_version": "1.5.0",
      "model_name": "HTMLModel",
      "state": {
       "layout": "IPY_MODEL_e4f4a29c36e84ebaa2dac57af983c2eb",
       "style": "IPY_MODEL_12c1d2f3f08f4afb9239f7b28eca3d2c",
       "value": " 5/5 [00:00&lt;00:00,  3.54it/s]"
      }
     },
     "eb8985350b894544b9f2b6661ce603f2": {
      "model_module": "@jupyter-widgets/controls",
      "model_module_version": "1.5.0",
      "model_name": "FloatProgressModel",
      "state": {
       "bar_style": "info",
       "layout": "IPY_MODEL_3c38446af2f24f8fa09b82038e521186",
       "max": 1,
       "style": "IPY_MODEL_e1766f4873494c15999a03c05854a1e4",
       "value": 1
      }
     },
     "f3b00cdbc5fe4f038ac7f94882ff18fa": {
      "model_module": "@jupyter-widgets/controls",
      "model_module_version": "1.5.0",
      "model_name": "HTMLModel",
      "state": {
       "layout": "IPY_MODEL_c59b3de810cf416a9bfec635542ed9bb",
       "style": "IPY_MODEL_77f033f6c7a548f19f870cb30b8d941d",
       "value": " 10/10 [00:00&lt;00:00, 20.79it/s, loss=2.3, v_num=lw57, train_acc_step=0.0625, train_f1_step=0.0123, train_loss_step=2.31]"
      }
     },
     "f3e4621e1feb4306be35e187aed8e1a6": {
      "model_module": "@jupyter-widgets/controls",
      "model_module_version": "1.5.0",
      "model_name": "DescriptionStyleModel",
      "state": {
       "description_width": ""
      }
     },
     "fa270a87ebe74794bfdcf765daec9552": {
      "model_module": "@jupyter-widgets/controls",
      "model_module_version": "1.5.0",
      "model_name": "ProgressStyleModel",
      "state": {
       "description_width": ""
      }
     },
     "fa88fd1fc0e84cac9c17a7f3fecc0cdf": {
      "model_module": "@jupyter-widgets/controls",
      "model_module_version": "1.5.0",
      "model_name": "DescriptionStyleModel",
      "state": {
       "description_width": ""
      }
     },
     "fc33d84b5d6d4482a4e778555dcda779": {
      "model_module": "@jupyter-widgets/base",
      "model_module_version": "1.2.0",
      "model_name": "LayoutModel",
      "state": {}
     },
     "fc875cabb2f94ae4a9ae19f289867e99": {
      "model_module": "@jupyter-widgets/base",
      "model_module_version": "1.2.0",
      "model_name": "LayoutModel",
      "state": {}
     }
    },
    "version_major": 2,
    "version_minor": 0
   }
  }
 },
 "nbformat": 4,
 "nbformat_minor": 4
}
